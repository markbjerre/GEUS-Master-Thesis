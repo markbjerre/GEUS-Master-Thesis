{
 "cells": [
  {
   "cell_type": "markdown",
   "metadata": {},
   "source": [
    "# Surface Mass Balance: XGB "
   ]
  },
  {
   "cell_type": "markdown",
   "metadata": {
    "id": "FTbsuMgO3ery"
   },
   "source": [
    "Import relevant Libaries "
   ]
  },
  {
   "cell_type": "code",
   "execution_count": null,
   "metadata": {},
   "outputs": [],
   "source": [
    "%pip install pyarrow\n",
    "%pip install plotly\n",
    "%pip install feature_engine\n",
    "#%pip update pandas"
   ]
  },
  {
   "cell_type": "code",
   "execution_count": 1,
   "metadata": {
    "id": "yJLqdDNx3j-Y"
   },
   "outputs": [
    {
     "data": {
      "text/plain": [
       "'/Users/nilsfulde/Desktop/Master_Thesis/scripts'"
      ]
     },
     "execution_count": 1,
     "metadata": {},
     "output_type": "execute_result"
    }
   ],
   "source": [
    "# Base libraries\n",
    "import pandas as pd\n",
    "import numpy as np\n",
    "import os\n",
    "import math as math\n",
    "import datetime\n",
    "from scipy import stats\n",
    "import warnings\n",
    "warnings.filterwarnings(\"ignore\")\n",
    "warnings.simplefilter(action='ignore', category=FutureWarning)\n",
    "\n",
    "# Visualizations\n",
    "import matplotlib.pyplot as plt\n",
    "from matplotlib import pyplot\n",
    "\n",
    "# TS\n",
    "from statsmodels.tsa.seasonal import seasonal_decompose\n",
    "\n",
    "# Set WD\n",
    "import os\n",
    "from pyrsistent import v\n",
    "os.getcwd()\n",
    "#os.chdir('/Users/asgerlyngeholst-hansen/Desktop/GEUS-Master-Thesis/')\n",
    "#os.chdir('C:\\\\Users\\\\nifu18ab\\\\Desktop\\\\GEUS-Master-Thesis')\n",
    "#os.chdir('/Users/nilsfulde/Desktop/GEUS-Master-Thesis')\n",
    "#os.chdir('/Users/nilsfulde/Desktop/Master_Thesis')"
   ]
  },
  {
   "cell_type": "markdown",
   "metadata": {},
   "source": [
    "## Load Stations"
   ]
  },
  {
   "cell_type": "code",
   "execution_count": null,
   "metadata": {},
   "outputs": [],
   "source": [
    "# This bit to define the data that is to be loaded\n",
    "import glob\n",
    "\n",
    "# Define the directory path where the CSV files are located\n",
    "#input_path = r'../data/promice/preprocessed/South_West/'\n",
    "input_path = r'../data/promice/preprocessed/North_East/'\n",
    "\n",
    "# Define a pattern to match the filenames of the CSV files\n",
    "pattern = '*.csv'\n",
    "#staion_list = ['SCO_L.csv','KAN_L.csv']\n",
    "\n",
    "# Use glob to get a list of all files that match the pattern\n",
    "filenames = glob.glob(input_path + pattern)\n",
    "\n",
    "dfs = []\n",
    "for file in filenames:\n",
    "    df = pd.read_csv(file, index_col=False)\n",
    "    dfs.append(df)\n",
    "df = pd.concat(dfs)\n",
    "\n",
    "df = df.reset_index(drop=True)\n",
    "\n",
    "df[\"Datetime\"] = pd.to_datetime(df[\"Datetime\"], format=\"%Y-%m-%d\")"
   ]
  },
  {
   "cell_type": "code",
   "execution_count": null,
   "metadata": {},
   "outputs": [],
   "source": [
    "df = df[df['stid'] != 'NUK_U']\n",
    "df = df[df['stid'] != 'QAS_U']\n",
    "df = df[df['stid'] != 'SCO_U']\n",
    "df = df[df['stid'] != 'KPC_L']"
   ]
  },
  {
   "cell_type": "code",
   "execution_count": 118,
   "metadata": {},
   "outputs": [],
   "source": [
    "# Load Unique Stations\n",
    "station_list = pd.read_csv(r'../data/promice/stations.csv')\n",
    "\n",
    "# This bit to define the data that is to be loaded\n",
    "import glob\n",
    "\n",
    "# Define the directory path where the CSV files are located\n",
    "input_path = r'../data/promice/preprocessed/daily/'\n",
    "\n",
    "# Define a pattern to match the filenames of the CSV files\n",
    "pattern = '*.csv'\n",
    "\n",
    "# Use glob to get a list of all files that match the pattern\n",
    "filenames = glob.glob(input_path + pattern)\n",
    "\n",
    "dfs = []\n",
    "for file in filenames:\n",
    "    df = pd.read_csv(file, index_col=False)\n",
    "    dfs.append(df)\n",
    "df = pd.concat(dfs)"
   ]
  },
  {
   "cell_type": "code",
   "execution_count": 119,
   "metadata": {},
   "outputs": [],
   "source": [
    "df = df[df['stid'] == 'SCO_L']"
   ]
  },
  {
   "cell_type": "code",
   "execution_count": 3,
   "metadata": {},
   "outputs": [],
   "source": [
    "stationss = ['KPC_L',\n",
    "'SCO_L',\n",
    "'SCO_U',\n",
    "'THU_L',\n",
    "'UPE_L',\n",
    "'UPE_U',\n",
    "'MIT',\n",
    "'TAS_L',\n",
    "'KAN_L',\n",
    "'NUK_L',\n",
    "'NUK_U',\n",
    "'QAS_L',\n",
    "'QAS_U',]\n",
    "\n",
    "df = df[df['stid'].isin(stationss)]"
   ]
  },
  {
   "cell_type": "markdown",
   "metadata": {},
   "source": [
    "## melt onset day / melt end day detection"
   ]
  },
  {
   "cell_type": "code",
   "execution_count": 120,
   "metadata": {},
   "outputs": [],
   "source": [
    "df[\"Datetime\"] = pd.to_datetime(df[\"Datetime\"], format=\"%Y-%m-%d\")\n",
    "df['Year'] = df['Datetime'].dt.year\n",
    "df['DayOfYear'] = df['Datetime'].dt.dayofyear\n",
    "\n",
    "# Initialize new columns with default values\n",
    "df['first_melt_day'] = False\n",
    "df['last_melt_day'] = False\n",
    "\n",
    "for i in df[\"stid\"].unique().tolist():\n",
    "    df_station = df[df['stid'] == i]\n",
    "    unique_years = df_station['Year'].unique()\n",
    "    for year in unique_years:\n",
    "        # Filter data for the current year\n",
    "        year_data = df_station[df_station['Year'] == year]\n",
    "\n",
    "        # Find the first and last melt day\n",
    "        first_melt_day = year_data.loc[year_data['Ablation'] == True]['DayOfYear'].min()\n",
    "        last_melt_day = year_data.loc[year_data['Ablation'] == True]['DayOfYear'].max()\n",
    "\n",
    "        # Update the original DataFrame\n",
    "        df.loc[(df['stid'] == i) & (df['Year'] == year) & (df['DayOfYear'] == first_melt_day), 'first_melt_day'] = True\n",
    "        df.loc[(df['stid'] == i) & (df['Year'] == year) & (df['DayOfYear'] == last_melt_day), 'last_melt_day'] = True"
   ]
  },
  {
   "cell_type": "code",
   "execution_count": 121,
   "metadata": {},
   "outputs": [
    {
     "data": {
      "image/png": "[encoded data removed]",
      "text/plain": [
       "<Figure size 1800x216 with 1 Axes>"
      ]
     },
     "metadata": {
      "needs_background": "light"
     },
     "output_type": "display_data"
    }
   ],
   "source": [
    "import matplotlib.pyplot as plt\n",
    "import pandas as pd\n",
    "\n",
    "\n",
    "for stid in df['stid'].unique():\n",
    "    station_df = df[df['stid'] == stid]\n",
    "    \n",
    "    # filter the dataframe to only include rows where ablation occurred\n",
    "    ablation_df = station_df[station_df['Ablation'] == True]\n",
    "\n",
    "    # create a line plot for each station, highlighting the periods of ablation\n",
    "    fig, ax = plt.subplots(figsize=(25,3))\n",
    "    \n",
    "    # Plot the blue scatter points\n",
    "    plt.scatter(station_df['Datetime'], station_df['Surface height from combined measurements'], c='C0',  marker='.', label=stid, s=15)\n",
    "    \n",
    "    first_melt_days = station_df[station_df['first_melt_day'] == True]['Datetime']\n",
    "    last_melt_days = station_df[station_df['last_melt_day'] == True]['Datetime']\n",
    "    \n",
    "    for first_day, last_day in zip(first_melt_days, last_melt_days):\n",
    "        ax.axvspan(first_day, last_day, alpha=0.15, color='orange')\n",
    "    \n",
    "    # Plot the first melt day values\n",
    "    plt.scatter(first_melt_days, station_df.loc[first_melt_days.index, 'Surface height from combined measurements'], c='g', alpha=0.8, marker='.', label='First Melt Day', s=100)\n",
    "    \n",
    "    # Plot the last melt day values\n",
    "    plt.scatter(last_melt_days, station_df.loc[last_melt_days.index, 'Surface height from combined measurements'], c='r', alpha=0.8 , marker='.', label='Last Melt Day', s=100)\n",
    "\n",
    "    # set plot title, axis labels and legend\n",
    "    ax.set_title(f'Ice Height: {stid}')\n",
    "    ax.set_xlabel('Date')\n",
    "    ax.set_ylabel('Surface height from combined measurements')\n",
    "    ax.legend()\n",
    "    \n",
    "    # Save the plot in the Downloads folder\n",
    "   # plot_filename = f'Surface_Height_{stid}.png'\n",
    "   # plt.savefig(os.path.join(os.path.expanduser(\"~\"), \"Downloads\", plot_filename), dpi=300)\n",
    "    \n",
    "plt.show()\n",
    "    "
   ]
  },
  {
   "cell_type": "markdown",
   "metadata": {},
   "source": [
    "## Time Series Decomposition"
   ]
  },
  {
   "cell_type": "code",
   "execution_count": 122,
   "metadata": {},
   "outputs": [],
   "source": [
    "# https://datastud.dev/posts/python-seasonality-how-to"
   ]
  },
  {
   "cell_type": "code",
   "execution_count": 123,
   "metadata": {
    "scrolled": true
   },
   "outputs": [],
   "source": [
    "# This bit to decompose for each station\n",
    "df = df[df['stid'] != 'QAS_Lv3']\n",
    "df = df[df['stid'] != 'Roof_PROMICE']\n",
    "df = df[df['stid'] != 'LYN_L']\n",
    "df = df[df['stid'] != 'LYN_T']\n",
    "df = df[df['stid'] != 'KPC_Lv3']\n",
    "df = df[df['stid'] != 'KPC_Uv3']\n",
    "df = df[df['stid'] != 'JAR_O']\n",
    "df = df[df['stid'] != 'SWC_O']\n",
    "df = df[df['stid'] != 'THU_L2']\n",
    "df = df[df['stid'] != 'Roof_GEUS']\n",
    "df = df[df['stid'] != 'ZAK_Uv3']\n",
    "df = df[df['stid'] != 'WEG_B']\n",
    "\n",
    "\n",
    "df = df[df['Surface height from combined measurements'].notna()] \n",
    "\n",
    "for i in df[\"stid\"].unique().tolist():\n",
    "    df_station = df[df['stid'] == i]\n",
    "    if len(df_station) > 730: \n",
    "        exec(f\"result_{i} = seasonal_decompose(df_station['Surface height from combined measurements'], model='additive', period=365)\")\n",
    "    else:\n",
    "        print(\"Station to remove:\", i)\n",
    "        "
   ]
  },
  {
   "cell_type": "code",
   "execution_count": 124,
   "metadata": {},
   "outputs": [],
   "source": [
    "# This bit to add decomposition to df and smooth the residual component\n",
    "ts = pd.DataFrame()\n",
    "\n",
    "for i in df[\"stid\"].unique().tolist():\n",
    "    \n",
    "    # Get data frame for the current station\n",
    "    df_station = df[df['stid'] == i]\n",
    "\n",
    "    df_station['observed'] = eval(f\"result_{i}.observed\")\n",
    "    df_station['residual'] = eval(f\"result_{i}.resid\") \n",
    "    df_station['seasonal'] = eval(f\"result_{i}.seasonal\") \n",
    "    df_station['trend'] = eval(f\"result_{i}.trend\")\n",
    "    df_station['residual_smoothed'] = eval(f\"result_{i}.resid\") \n",
    "    \n",
    "    # Set the window size and threshold\n",
    "    window_size = 7\n",
    "    \n",
    "    #Outliers based on incremental sum\n",
    "    threshold_incremental_sum = df_station['residual'].diff().rolling(window_size).sum().quantile(0.8)\n",
    "    threshold_slope = df_station['residual_smoothed'].diff().abs().quantile(0.8)\n",
    "        # Calculate the sum of incremental changes over the rolling window\n",
    "    incremental_sum = df_station['residual'].diff().rolling(window_size).sum()\n",
    "        # Replace the residuals that exceed the threshold with NaN\n",
    "    df_station['residual_smoothed'] = df_station['residual']\n",
    "    df_station.loc[incremental_sum > threshold_incremental_sum, 'residual_smoothed'] = np.nan\n",
    "\n",
    "    # Outliers based on slope\n",
    "    slope = df_station['residual_smoothed'].diff().abs()\n",
    "        # Calculate the 80th percentile of the slopes\n",
    "    threshold_slope = slope.quantile(0.8)\n",
    "        # Remove values where the slope is steeper than the threshold\n",
    "    df_station.loc[slope > threshold_slope, 'residual_smoothed'] = np.nan\n",
    "\n",
    "    # fill in the NaN values with linear interpolation\n",
    "    #df_station['residual_smoothed'].interpolate(method='linear', inplace=True)\n",
    "\n",
    "    # Add new column for seasonal residual\n",
    "    df_station['seasonal_residual'] = df_station['residual'].fillna(0) + df_station['seasonal']\n",
    "    \n",
    "    # Add column for current station\n",
    "    df_station['stid'] = i\n",
    "    \n",
    "    # Append to time series data frame\n",
    "    ts = ts.append(df_station[['Datetime', 'stid', 'observed', 'residual', 'seasonal', 'trend', 'residual_smoothed', 'seasonal_residual']])\n",
    "\n",
    "# Merge time series data frame with original data frame\n",
    "df = pd.merge(df, ts, on=['Datetime', 'stid'], how='left')\n"
   ]
  },
  {
   "cell_type": "code",
   "execution_count": 125,
   "metadata": {},
   "outputs": [],
   "source": [
    "# This bit to generate the periods that we want to focus on\n",
    "df['seasonal'] = df['seasonal'].astype(float)\n",
    "# create a new column to store the periods\n",
    "df['Periods'] = ''\n",
    "\n",
    "for i in df[\"stid\"].unique().tolist():\n",
    "    df_station = df[df['stid'] == i]\n",
    "    # iterate over each year in the dataframe\n",
    "    for year in df_station['Datetime'].dt.year.unique():\n",
    "        year_data = df_station[df_station['Datetime'].dt.year == year]\n",
    "        if len(year_data.index) > 300:\n",
    "            max_index = year_data['seasonal'].idxmax()\n",
    "            min_index = year_data['seasonal'].idxmin()\n",
    "\n",
    "            # set the periods in the new column for the maximum value\n",
    "            df.loc[max_index-5:max_index, 'Periods'] = 'pre_max'\n",
    "            df.loc[max_index:max_index+6, 'Periods'] = 'post_max'\n",
    "\n",
    "            # set the periods in the new column for the minimum value\n",
    "            df.loc[min_index-5:min_index, 'Periods'] = 'pre_min'\n",
    "            df.loc[min_index:min_index+6, 'Periods'] = 'post_min'\n",
    "        else:\n",
    "            continue "
   ]
  },
  {
   "cell_type": "code",
   "execution_count": 126,
   "metadata": {},
   "outputs": [],
   "source": [
    "def mround(x, m=5):\n",
    "    '''Helper method for multiple round'''\n",
    "    return int(m * round(float(x)/m))\n",
    "\n",
    "def plot_components(df, station):\n",
    "    \"\"\"Plot data for initial visualization\n",
    "    Args:\n",
    "        df (pandas dataframe)\n",
    "    \"\"\"\n",
    "    df = df[df['stid'] == station]\n",
    "    \n",
    "    df_axis = df.fillna(0)\n",
    "    ymin = mround(np.min([df_axis.observed, df_axis.trend, df_axis.seasonal, df_axis.residual ]),5)\n",
    "    ymax = mround(np.max([df_axis.observed, df_axis.trend, df_axis.seasonal, df_axis.residual]),5)\n",
    "    ymin -= 5\n",
    "    ymax += 5\n",
    "\n",
    "    plt.figure(figsize=(20,20))\n",
    "\n",
    "    #plt.subplot(4,1,1)\n",
    "    #plt.title(\"Original Data\")\n",
    "    #plt.ylim(ymin, ymax)\n",
    "    #plt.plot(df.index, df.observed)\n",
    "\n",
    "    plt.subplot(4,1,1)\n",
    "    plt.title(\"Trend\")\n",
    "    plt.ylim(ymin, ymax)\n",
    "    plt.plot(df.index, df.trend)\n",
    "\n",
    "    plt.subplot(4,1,2)\n",
    "    plt.title(\"Seasonal\")\n",
    "    plt.ylim(ymin, ymax)\n",
    "    plt.plot(df.index, df.seasonal)\n",
    "\n",
    "    plt.subplot(4,1,3)\n",
    "    plt.title(\"Residual\")\n",
    "    plt.ylim(ymin, ymax)\n",
    "    plt.plot(df.index, df.residual)\n",
    "    \n",
    "    plt.subplot(4,1,4)\n",
    "    plt.title(\"residual_smoothed\")\n",
    "    plt.ylim(ymin, ymax)\n",
    "    plt.plot(df.index, df.residual_smoothed)\n",
    "\n",
    "    \n",
    "    plt.tight_layout(pad=1.0, w_pad=1.0, h_pad=1.0)\n",
    "    "
   ]
  },
  {
   "cell_type": "code",
   "execution_count": 127,
   "metadata": {},
   "outputs": [
    {
     "data": {
      "text/plain": [
       "['SCO_L']"
      ]
     },
     "execution_count": 127,
     "metadata": {},
     "output_type": "execute_result"
    }
   ],
   "source": [
    "df[\"stid\"].unique().tolist()"
   ]
  },
  {
   "cell_type": "code",
   "execution_count": 128,
   "metadata": {},
   "outputs": [
    {
     "data": {
      "image/png": "[encoded data removed]",
      "text/plain": [
       "<Figure size 1800x216 with 1 Axes>"
      ]
     },
     "metadata": {
      "needs_background": "light"
     },
     "output_type": "display_data"
    }
   ],
   "source": [
    "import matplotlib.pyplot as plt\n",
    "import pandas as pd\n",
    "\n",
    "\n",
    "for stid in df['stid'].unique():\n",
    "    station_df = df[df['stid'] == stid]\n",
    "    # filter the dataframe to only include rows where ablation occurred\n",
    "    ablation_df = df[df['Ablation'] == True]\n",
    "\n",
    "    # create a line plot for each station, highlighting the periods of ablation\n",
    "    fig, ax = plt.subplots(figsize=(25,3))\n",
    "\n",
    "    \n",
    "    # Plot the blue scatter points\n",
    "    plt.scatter(station_df['Datetime'], station_df['seasonal_residual'], c='C0',  marker='.', label=stid, s=15)\n",
    "    \n",
    "    first_melt_days = station_df[station_df['first_melt_day'] == True]['Datetime']\n",
    "    last_melt_days = station_df[station_df['last_melt_day'] == True]['Datetime']\n",
    "    \n",
    "    for first_day, last_day in zip(first_melt_days, last_melt_days):\n",
    "        ax.axvspan(first_day, last_day, alpha=0.15, color='orange')\n",
    "    \n",
    "    # Plot the first melt day values\n",
    "    plt.scatter(first_melt_days, station_df.loc[first_melt_days.index, 'seasonal_residual'], c='g', alpha=0.8, marker='.', label='First Melt Day', s=100)\n",
    "    \n",
    "    # Plot the last melt day values\n",
    "    plt.scatter(last_melt_days, station_df.loc[last_melt_days.index, 'seasonal_residual'], c='r', alpha=0.8 , marker='.', label='Last Melt Day', s=100)\n",
    "\n",
    "    # set plot title, axis labels and legend\n",
    "    ax.set_title(f'Seasonal + Residual: {stid}')\n",
    "    ax.set_xlabel('Date')\n",
    "    ax.set_ylabel('Seasonal + Residual')\n",
    "    ax.legend()\n",
    "    \n",
    "    # Save the plot in the Downloads folder\n",
    "   # plot_filename = f'seasonal_residual_{stid}.png'\n",
    "   # plt.savefig(os.path.join(os.path.expanduser(\"~\"), \"Downloads\", plot_filename), dpi=300)\n",
    "    \n",
    "    \n",
    "plt.show()\n"
   ]
  },
  {
   "cell_type": "code",
   "execution_count": 129,
   "metadata": {},
   "outputs": [],
   "source": [
    "def plt_seasonal_residual(df,station):\n",
    "    df = df[df['stid'] == station]\n",
    "    \n",
    "    df_axis = df.fillna(0)\n",
    "    ymin = np.round(np.min([df_axis.seasonal_residual]), 5) - 5\n",
    "    ymax = np.round(np.max([df_axis.seasonal_residual]), 5) + 5\n",
    "\n",
    "    plt.figure(figsize=(20,15))\n",
    "\n",
    "    # Plot the seasonal_residual values\n",
    "    plt.subplot(4,1,4)\n",
    "    plt.title(\"seasonal_residual\")\n",
    "    plt.ylim(ymin, ymax)\n",
    "\n",
    "    # Plot the pre_max values\n",
    "   # pre_max_indices = df[df['Periods'] == 'pre_max'].index\n",
    "   # plt.scatter(pre_max_indices, df.loc[pre_max_indices, 'seasonal_residual'], c='r', marker='.', label='pre_max', s=20 )\n",
    "\n",
    "    # Plot the post_max values\n",
    "    #post_max_indices = df[df['Periods'] == 'post_max'].index\n",
    "    #plt.scatter(post_max_indices, df.loc[post_max_indices, 'seasonal_residual'], c='g', marker='.', label='post_max',s=8)\n",
    "\n",
    "    # Plot the pre_min values\n",
    "    #pre_min_indices = df[df['Periods'] == 'pre_min'].index\n",
    "    #plt.scatter(pre_min_indices, df.loc[pre_min_indices, 'seasonal_residual'], c='r', marker='.', label='pre_min',s=8)\n",
    "\n",
    "    # Plot the post_min values\n",
    "    #post_min_indices = df[df['Periods'] == 'post_min'].index\n",
    "    #plt.scatter(post_min_indices, df.loc[post_min_indices, 'seasonal_residual'], c='g', marker='.', label='post_min',s=8)\n",
    "\n",
    "    plt.plot(df.index, df.seasonal_residual)#, c = \"grey\")\n",
    "\n",
    "#plt_seasonal_residual(df,\"SCO_L\")\n"
   ]
  },
  {
   "cell_type": "code",
   "execution_count": 130,
   "metadata": {},
   "outputs": [],
   "source": [
    "#plot_components(df, 'SCO_L')"
   ]
  },
  {
   "cell_type": "markdown",
   "metadata": {},
   "source": [
    "## Regression Analysis"
   ]
  },
  {
   "cell_type": "markdown",
   "metadata": {},
   "source": [
    "##### Set target variable"
   ]
  },
  {
   "cell_type": "code",
   "execution_count": 131,
   "metadata": {},
   "outputs": [],
   "source": [
    "y = 'Surface height from combined measurements'"
   ]
  },
  {
   "cell_type": "code",
   "execution_count": 132,
   "metadata": {},
   "outputs": [
    {
     "data": {
      "text/plain": [
       "5309"
      ]
     },
     "execution_count": 132,
     "metadata": {},
     "output_type": "execute_result"
    }
   ],
   "source": [
    "len(df)"
   ]
  },
  {
   "cell_type": "markdown",
   "metadata": {},
   "source": [
    "##### Pre-processing (0.1: Change months to cycle)"
   ]
  },
  {
   "cell_type": "code",
   "execution_count": 133,
   "metadata": {},
   "outputs": [],
   "source": [
    "# This bit to change the datetime variables into a form that a ML models can understand\n",
    "  # https://ianlondon.github.io/blog/encoding-cyclical-features-24hour-time/\n",
    "  # https://feature-engine.trainindata.com/en/1.3.x/user_guide/creation/CyclicalFeatures.html\n",
    "    \n",
    "    \n",
    "# This bit to split Datetime column into year, month, day, hour columns\n",
    "df[\"Datetime\"] = pd.to_datetime(df[\"Datetime\"], format=\"%Y-%m-%d\")\n",
    "\n",
    "#Create new columns\n",
    "df['year'] = df['Datetime'].dt.year \n",
    "df['month'] = df['Datetime'].dt.month\n",
    "df['day'] = df['Datetime'].dt.day\n",
    "\n",
    "#Drop the datetime column\n",
    "#df.drop(columns=['Datetime'], inplace=True)"
   ]
  },
  {
   "cell_type": "code",
   "execution_count": 134,
   "metadata": {},
   "outputs": [
    {
     "data": {
      "text/plain": [
       "5309"
      ]
     },
     "execution_count": 134,
     "metadata": {},
     "output_type": "execute_result"
    }
   ],
   "source": [
    "len(df)"
   ]
  },
  {
   "cell_type": "code",
   "execution_count": 135,
   "metadata": {},
   "outputs": [],
   "source": [
    "#from feature_engine.creation import CyclicalFeatures\n",
    "\n",
    "#cyclical = CyclicalFeatures(variables=None, drop_original=True)\n",
    "\n",
    "# Remove only values from Wind direction because CyclicalFeatures does not work with NA values\n",
    "#df_wind = df[df['Wind from direction (upper boom)'].notna()]\n",
    "#cyclical_df = cyclical.fit_transform(df_wind[['Wind from direction (upper boom)']])\n",
    "\n",
    "# Reset the index for both dataframes\n",
    "#df.reset_index(drop=True, inplace=True)\n",
    "#cyclical_df.reset_index(drop=True, inplace=True)\n",
    "\n",
    "# Update the original dataframe with the transformed wind columns\n",
    "#for col in cyclical_df.columns:\n",
    "#    df.loc[df_wind.index, col] = cyclical_df[col]\n"
   ]
  },
  {
   "cell_type": "code",
   "execution_count": 136,
   "metadata": {},
   "outputs": [],
   "source": [
    "# Use CyclicalFeatures Package to convert year, month, day & hour\n",
    "from feature_engine.creation import CyclicalFeatures\n",
    "\n",
    "cyclical = CyclicalFeatures(variables=None, drop_original=True)\n",
    "\n",
    "# Remove only values from Wind direction because CyclicalFeatures does not work with NA values\n",
    "df_wind = df[df['Wind from direction (upper boom)'].notna()] \n",
    "cyclical_df = cyclical.fit_transform(df_wind[['Wind from direction (upper boom)']]) \n",
    "\n",
    "# Reset the index for cyclical_df\n",
    "cyclical_df.reset_index(inplace=True)\n",
    "\n",
    "# Merge the original df with the cyclical_df using a left join\n",
    "df = pd.merge(df.reset_index(), cyclical_df, left_on='index', right_on='index', how='left')\n",
    "\n",
    "# Drop the 'index' column and reset the index\n",
    "#df.drop(columns=['index'], inplace=True)\n"
   ]
  },
  {
   "cell_type": "code",
   "execution_count": 137,
   "metadata": {},
   "outputs": [
    {
     "data": {
      "text/plain": [
       "5309"
      ]
     },
     "execution_count": 137,
     "metadata": {},
     "output_type": "execute_result"
    }
   ],
   "source": [
    "len(df)"
   ]
  },
  {
   "cell_type": "markdown",
   "metadata": {},
   "source": [
    "##### Pre-processing (1.0: Filter relevant periods)"
   ]
  },
  {
   "cell_type": "code",
   "execution_count": 138,
   "metadata": {},
   "outputs": [],
   "source": [
    "#df =  df[df['Melting Season'].isin(['pre', 'beginning', 'middle', 'end'])]\n",
    "\n",
    "#df =  df[df['Ablation'].isin([True])]"
   ]
  },
  {
   "cell_type": "code",
   "execution_count": 139,
   "metadata": {},
   "outputs": [],
   "source": [
    "df = df[df[y].notna()] "
   ]
  },
  {
   "cell_type": "code",
   "execution_count": 140,
   "metadata": {},
   "outputs": [],
   "source": [
    "#df = df.reset_index(drop=True)"
   ]
  },
  {
   "cell_type": "markdown",
   "metadata": {},
   "source": [
    "##### Pre-processing (2.0: Formatting and transformation)"
   ]
  },
  {
   "cell_type": "code",
   "execution_count": 141,
   "metadata": {},
   "outputs": [],
   "source": [
    "from sklearn.preprocessing import LabelEncoder\n",
    " \n",
    "# Creating a instance of label Encoder.\n",
    "le = LabelEncoder()\n",
    " \n",
    "# Using .fit_transform function to fit label\n",
    "# encoder and return encoded label\n",
    "df['stid'] = le.fit_transform(df['stid'])\n",
    "station_names = dict(zip(le.classes_, le.transform(le.classes_)))"
   ]
  },
  {
   "cell_type": "code",
   "execution_count": 146,
   "metadata": {},
   "outputs": [],
   "source": [
    "# This bit to include only relevant features\n",
    "exclude_list = ['index', # excluded because of unimportant information\n",
    "                #'stid', \n",
    "                'Unnamed: 0', # Old Index\n",
    "                'ID',\n",
    "                'Wind from direction (upper boom)',\n",
    "                'Ablation',\n",
    "                'Melting Season', \n",
    "                #'month',\n",
    "                #'month_sin',\n",
    "                #'month_cos',\n",
    "                #'day', \n",
    "                #'day_sin',\n",
    "                #'day_cos',\n",
    "                'hour', \n",
    "                #'year',\n",
    "                'year_sin',\n",
    "                'year_cos'\n",
    "                'subgroup',\n",
    "                #'Surface height from combined measurements',\n",
    "                'Surface height from combined measurements DELTA',\n",
    "                'observed', \n",
    "                'residual', \n",
    "                'seasonal', \n",
    "                'trend',\n",
    "                'residual_smoothed',\n",
    "                'Periods',\n",
    "                'Year',\n",
    "                'first_melt_day',\n",
    "                'last_melt_day',\n",
    "                'DayOfYear',\n",
    "                'Datetime',\n",
    "                'seasonal_residual'\n",
    "               ]\n",
    "\n",
    "\n",
    "\n",
    "df = df[[column for column in df.columns if column not in exclude_list]]\n",
    "data = df.copy()"
   ]
  },
  {
   "cell_type": "code",
   "execution_count": 143,
   "metadata": {},
   "outputs": [],
   "source": [
    "# This bit to convert all numerical values into the same scale \n",
    "from sklearn.preprocessing import StandardScaler, MinMaxScaler, RobustScaler\n",
    "\n",
    "\n",
    "scalers = [StandardScaler(), MinMaxScaler(), RobustScaler()]\n",
    "\n",
    "# Exclude whater is not needed for scaling\n",
    "exlude_num = ['stid', \n",
    "              'Surface height from combined measurements', \n",
    "              'Surface height from combined measurements DELTA',\n",
    "              'month_sin',\n",
    "              'month_cos',\n",
    "              'month',\n",
    "              'day', \n",
    "              'day_sin',\n",
    "              'day_cos',\n",
    "              'hour', \n",
    "              'year',\n",
    "              'year_sin',\n",
    "              'year_cos'\n",
    "              'subgroup',\n",
    "              'Surface height from combined measurements',\n",
    "              'Surface height from combined measurements DELTA',\n",
    "              'observed', \n",
    "              'residual', \n",
    "              'seasonal', \n",
    "              'trend',\n",
    "              'Wind from direction (upper boom)',\n",
    "              'Wind from direction (upper boom)_sin',\n",
    "              'Wind from direction (upper boom)_cos',\n",
    "              'seasonal_residual',\n",
    "              'residual_smoothed',\n",
    "              'Datetime',\n",
    "             ]\n",
    "\n",
    "\n",
    "num_cols = df.select_dtypes(include=['int64','float64'])\n",
    "num_cols = num_cols[[column for column in num_cols.columns if column not in exlude_num]].columns\n",
    "\n",
    "scaler = MinMaxScaler()\n",
    "\n",
    "#fit and transform numerical columns\n",
    "df[num_cols] = scaler.fit_transform(df[num_cols])\n",
    "data[num_cols] = scaler.fit_transform(data[num_cols])"
   ]
  },
  {
   "cell_type": "code",
   "execution_count": 158,
   "metadata": {},
   "outputs": [
    {
     "name": "stdout",
     "output_type": "stream",
     "text": [
      "Time horizon: 1 days\n"
     ]
    },
    {
     "data": {
      "image/png": "[encoded data removed]",
      "text/plain": [
       "<Figure size 720x360 with 1 Axes>"
      ]
     },
     "metadata": {
      "needs_background": "light"
     },
     "output_type": "display_data"
    },
    {
     "name": "stdout",
     "output_type": "stream",
     "text": [
      "Average Mean Squared Error: 3.7972\n",
      "Average Mean Absolute Error: 1.8414\n",
      "Average R^2 Score: -368838.8292\n",
      "\n",
      "Time horizon: 7 days\n"
     ]
    },
    {
     "ename": "KeyboardInterrupt",
     "evalue": "",
     "output_type": "error",
     "traceback": [
      "\u001b[0;31m---------------------------------------------------------------------------\u001b[0m",
      "\u001b[0;31mKeyboardInterrupt\u001b[0m                         Traceback (most recent call last)",
      "Input \u001b[0;32mIn [158]\u001b[0m, in \u001b[0;36m<cell line: 78>\u001b[0;34m()\u001b[0m\n\u001b[1;32m     84\u001b[0m plt\u001b[38;5;241m.\u001b[39mfigure(figsize\u001b[38;5;241m=\u001b[39m(\u001b[38;5;241m10\u001b[39m, \u001b[38;5;241m5\u001b[39m))\n\u001b[1;32m     86\u001b[0m \u001b[38;5;28;01mfor\u001b[39;00m train_idx, test_idx \u001b[38;5;129;01min\u001b[39;00m tscv\u001b[38;5;241m.\u001b[39msplit(input_features):\n\u001b[0;32m---> 87\u001b[0m     mse, mae, r2, y_test, y_pred \u001b[38;5;241m=\u001b[39m \u001b[43mtrain_and_evaluate\u001b[49m\u001b[43m(\u001b[49m\u001b[43minput_features\u001b[49m\u001b[43m,\u001b[49m\u001b[43m \u001b[49m\u001b[43mtarget\u001b[49m\u001b[43m,\u001b[49m\u001b[43m \u001b[49m\u001b[43mtrain_idx\u001b[49m\u001b[43m,\u001b[49m\u001b[43m \u001b[49m\u001b[43mtest_idx\u001b[49m\u001b[43m)\u001b[49m\n\u001b[1;32m     88\u001b[0m     mse_list\u001b[38;5;241m.\u001b[39mappend(mse)\n\u001b[1;32m     89\u001b[0m     mae_list\u001b[38;5;241m.\u001b[39mappend(mae)\n",
      "Input \u001b[0;32mIn [158]\u001b[0m, in \u001b[0;36mtrain_and_evaluate\u001b[0;34m(input_features, target, train_idx, test_idx)\u001b[0m\n\u001b[1;32m     65\u001b[0m y_train, y_test \u001b[38;5;241m=\u001b[39m target\u001b[38;5;241m.\u001b[39miloc[train_idx], target\u001b[38;5;241m.\u001b[39miloc[test_idx]\n\u001b[1;32m     67\u001b[0m \u001b[38;5;66;03m# Use the tuned model from grid search cross-validation\u001b[39;00m\n\u001b[0;32m---> 68\u001b[0m model \u001b[38;5;241m=\u001b[39m \u001b[43mperform_grid_search\u001b[49m\u001b[43m(\u001b[49m\u001b[43mX_train\u001b[49m\u001b[43m,\u001b[49m\u001b[43m \u001b[49m\u001b[43my_train\u001b[49m\u001b[43m)\u001b[49m\n\u001b[1;32m     70\u001b[0m y_pred \u001b[38;5;241m=\u001b[39m model\u001b[38;5;241m.\u001b[39mpredict(X_test)\n\u001b[1;32m     72\u001b[0m mse \u001b[38;5;241m=\u001b[39m mean_squared_error(y_test, y_pred)\n",
      "Input \u001b[0;32mIn [158]\u001b[0m, in \u001b[0;36mperform_grid_search\u001b[0;34m(X_train, y_train)\u001b[0m\n\u001b[1;32m     44\u001b[0m model \u001b[38;5;241m=\u001b[39m xgb\u001b[38;5;241m.\u001b[39mXGBRegressor(objective\u001b[38;5;241m=\u001b[39m\u001b[38;5;124m\"\u001b[39m\u001b[38;5;124mreg:squarederror\u001b[39m\u001b[38;5;124m\"\u001b[39m)\n\u001b[1;32m     46\u001b[0m grid_search \u001b[38;5;241m=\u001b[39m GridSearchCV(\n\u001b[1;32m     47\u001b[0m     estimator\u001b[38;5;241m=\u001b[39mmodel,\n\u001b[1;32m     48\u001b[0m     param_grid\u001b[38;5;241m=\u001b[39mparam_grid,\n\u001b[0;32m   (...)\u001b[0m\n\u001b[1;32m     52\u001b[0m     verbose\u001b[38;5;241m=\u001b[39m\u001b[38;5;241m0\u001b[39m,\n\u001b[1;32m     53\u001b[0m )\n\u001b[0;32m---> 55\u001b[0m \u001b[43mgrid_search\u001b[49m\u001b[38;5;241;43m.\u001b[39;49m\u001b[43mfit\u001b[49m\u001b[43m(\u001b[49m\u001b[43mX_train\u001b[49m\u001b[43m,\u001b[49m\u001b[43m \u001b[49m\u001b[43my_train\u001b[49m\u001b[43m)\u001b[49m\n\u001b[1;32m     57\u001b[0m \u001b[38;5;28;01mreturn\u001b[39;00m grid_search\u001b[38;5;241m.\u001b[39mbest_estimator_\n",
      "File \u001b[0;32m~/opt/anaconda3/lib/python3.8/site-packages/sklearn/model_selection/_search.py:874\u001b[0m, in \u001b[0;36mBaseSearchCV.fit\u001b[0;34m(self, X, y, groups, **fit_params)\u001b[0m\n\u001b[1;32m    868\u001b[0m     results \u001b[38;5;241m=\u001b[39m \u001b[38;5;28mself\u001b[39m\u001b[38;5;241m.\u001b[39m_format_results(\n\u001b[1;32m    869\u001b[0m         all_candidate_params, n_splits, all_out, all_more_results\n\u001b[1;32m    870\u001b[0m     )\n\u001b[1;32m    872\u001b[0m     \u001b[38;5;28;01mreturn\u001b[39;00m results\n\u001b[0;32m--> 874\u001b[0m \u001b[38;5;28;43mself\u001b[39;49m\u001b[38;5;241;43m.\u001b[39;49m\u001b[43m_run_search\u001b[49m\u001b[43m(\u001b[49m\u001b[43mevaluate_candidates\u001b[49m\u001b[43m)\u001b[49m\n\u001b[1;32m    876\u001b[0m \u001b[38;5;66;03m# multimetric is determined here because in the case of a callable\u001b[39;00m\n\u001b[1;32m    877\u001b[0m \u001b[38;5;66;03m# self.scoring the return type is only known after calling\u001b[39;00m\n\u001b[1;32m    878\u001b[0m first_test_score \u001b[38;5;241m=\u001b[39m all_out[\u001b[38;5;241m0\u001b[39m][\u001b[38;5;124m\"\u001b[39m\u001b[38;5;124mtest_scores\u001b[39m\u001b[38;5;124m\"\u001b[39m]\n",
      "File \u001b[0;32m~/opt/anaconda3/lib/python3.8/site-packages/sklearn/model_selection/_search.py:1388\u001b[0m, in \u001b[0;36mGridSearchCV._run_search\u001b[0;34m(self, evaluate_candidates)\u001b[0m\n\u001b[1;32m   1386\u001b[0m \u001b[38;5;28;01mdef\u001b[39;00m \u001b[38;5;21m_run_search\u001b[39m(\u001b[38;5;28mself\u001b[39m, evaluate_candidates):\n\u001b[1;32m   1387\u001b[0m     \u001b[38;5;124;03m\"\"\"Search all candidates in param_grid\"\"\"\u001b[39;00m\n\u001b[0;32m-> 1388\u001b[0m     \u001b[43mevaluate_candidates\u001b[49m\u001b[43m(\u001b[49m\u001b[43mParameterGrid\u001b[49m\u001b[43m(\u001b[49m\u001b[38;5;28;43mself\u001b[39;49m\u001b[38;5;241;43m.\u001b[39;49m\u001b[43mparam_grid\u001b[49m\u001b[43m)\u001b[49m\u001b[43m)\u001b[49m\n",
      "File \u001b[0;32m~/opt/anaconda3/lib/python3.8/site-packages/sklearn/model_selection/_search.py:821\u001b[0m, in \u001b[0;36mBaseSearchCV.fit.<locals>.evaluate_candidates\u001b[0;34m(candidate_params, cv, more_results)\u001b[0m\n\u001b[1;32m    813\u001b[0m \u001b[38;5;28;01mif\u001b[39;00m \u001b[38;5;28mself\u001b[39m\u001b[38;5;241m.\u001b[39mverbose \u001b[38;5;241m>\u001b[39m \u001b[38;5;241m0\u001b[39m:\n\u001b[1;32m    814\u001b[0m     \u001b[38;5;28mprint\u001b[39m(\n\u001b[1;32m    815\u001b[0m         \u001b[38;5;124m\"\u001b[39m\u001b[38;5;124mFitting \u001b[39m\u001b[38;5;132;01m{0}\u001b[39;00m\u001b[38;5;124m folds for each of \u001b[39m\u001b[38;5;132;01m{1}\u001b[39;00m\u001b[38;5;124m candidates,\u001b[39m\u001b[38;5;124m\"\u001b[39m\n\u001b[1;32m    816\u001b[0m         \u001b[38;5;124m\"\u001b[39m\u001b[38;5;124m totalling \u001b[39m\u001b[38;5;132;01m{2}\u001b[39;00m\u001b[38;5;124m fits\u001b[39m\u001b[38;5;124m\"\u001b[39m\u001b[38;5;241m.\u001b[39mformat(\n\u001b[1;32m    817\u001b[0m             n_splits, n_candidates, n_candidates \u001b[38;5;241m*\u001b[39m n_splits\n\u001b[1;32m    818\u001b[0m         )\n\u001b[1;32m    819\u001b[0m     )\n\u001b[0;32m--> 821\u001b[0m out \u001b[38;5;241m=\u001b[39m \u001b[43mparallel\u001b[49m\u001b[43m(\u001b[49m\n\u001b[1;32m    822\u001b[0m \u001b[43m    \u001b[49m\u001b[43mdelayed\u001b[49m\u001b[43m(\u001b[49m\u001b[43m_fit_and_score\u001b[49m\u001b[43m)\u001b[49m\u001b[43m(\u001b[49m\n\u001b[1;32m    823\u001b[0m \u001b[43m        \u001b[49m\u001b[43mclone\u001b[49m\u001b[43m(\u001b[49m\u001b[43mbase_estimator\u001b[49m\u001b[43m)\u001b[49m\u001b[43m,\u001b[49m\n\u001b[1;32m    824\u001b[0m \u001b[43m        \u001b[49m\u001b[43mX\u001b[49m\u001b[43m,\u001b[49m\n\u001b[1;32m    825\u001b[0m \u001b[43m        \u001b[49m\u001b[43my\u001b[49m\u001b[43m,\u001b[49m\n\u001b[1;32m    826\u001b[0m \u001b[43m        \u001b[49m\u001b[43mtrain\u001b[49m\u001b[38;5;241;43m=\u001b[39;49m\u001b[43mtrain\u001b[49m\u001b[43m,\u001b[49m\n\u001b[1;32m    827\u001b[0m \u001b[43m        \u001b[49m\u001b[43mtest\u001b[49m\u001b[38;5;241;43m=\u001b[39;49m\u001b[43mtest\u001b[49m\u001b[43m,\u001b[49m\n\u001b[1;32m    828\u001b[0m \u001b[43m        \u001b[49m\u001b[43mparameters\u001b[49m\u001b[38;5;241;43m=\u001b[39;49m\u001b[43mparameters\u001b[49m\u001b[43m,\u001b[49m\n\u001b[1;32m    829\u001b[0m \u001b[43m        \u001b[49m\u001b[43msplit_progress\u001b[49m\u001b[38;5;241;43m=\u001b[39;49m\u001b[43m(\u001b[49m\u001b[43msplit_idx\u001b[49m\u001b[43m,\u001b[49m\u001b[43m \u001b[49m\u001b[43mn_splits\u001b[49m\u001b[43m)\u001b[49m\u001b[43m,\u001b[49m\n\u001b[1;32m    830\u001b[0m \u001b[43m        \u001b[49m\u001b[43mcandidate_progress\u001b[49m\u001b[38;5;241;43m=\u001b[39;49m\u001b[43m(\u001b[49m\u001b[43mcand_idx\u001b[49m\u001b[43m,\u001b[49m\u001b[43m \u001b[49m\u001b[43mn_candidates\u001b[49m\u001b[43m)\u001b[49m\u001b[43m,\u001b[49m\n\u001b[1;32m    831\u001b[0m \u001b[43m        \u001b[49m\u001b[38;5;241;43m*\u001b[39;49m\u001b[38;5;241;43m*\u001b[39;49m\u001b[43mfit_and_score_kwargs\u001b[49m\u001b[43m,\u001b[49m\n\u001b[1;32m    832\u001b[0m \u001b[43m    \u001b[49m\u001b[43m)\u001b[49m\n\u001b[1;32m    833\u001b[0m \u001b[43m    \u001b[49m\u001b[38;5;28;43;01mfor\u001b[39;49;00m\u001b[43m \u001b[49m\u001b[43m(\u001b[49m\u001b[43mcand_idx\u001b[49m\u001b[43m,\u001b[49m\u001b[43m \u001b[49m\u001b[43mparameters\u001b[49m\u001b[43m)\u001b[49m\u001b[43m,\u001b[49m\u001b[43m \u001b[49m\u001b[43m(\u001b[49m\u001b[43msplit_idx\u001b[49m\u001b[43m,\u001b[49m\u001b[43m \u001b[49m\u001b[43m(\u001b[49m\u001b[43mtrain\u001b[49m\u001b[43m,\u001b[49m\u001b[43m \u001b[49m\u001b[43mtest\u001b[49m\u001b[43m)\u001b[49m\u001b[43m)\u001b[49m\u001b[43m \u001b[49m\u001b[38;5;129;43;01min\u001b[39;49;00m\u001b[43m \u001b[49m\u001b[43mproduct\u001b[49m\u001b[43m(\u001b[49m\n\u001b[1;32m    834\u001b[0m \u001b[43m        \u001b[49m\u001b[38;5;28;43menumerate\u001b[39;49m\u001b[43m(\u001b[49m\u001b[43mcandidate_params\u001b[49m\u001b[43m)\u001b[49m\u001b[43m,\u001b[49m\u001b[43m \u001b[49m\u001b[38;5;28;43menumerate\u001b[39;49m\u001b[43m(\u001b[49m\u001b[43mcv\u001b[49m\u001b[38;5;241;43m.\u001b[39;49m\u001b[43msplit\u001b[49m\u001b[43m(\u001b[49m\u001b[43mX\u001b[49m\u001b[43m,\u001b[49m\u001b[43m \u001b[49m\u001b[43my\u001b[49m\u001b[43m,\u001b[49m\u001b[43m \u001b[49m\u001b[43mgroups\u001b[49m\u001b[43m)\u001b[49m\u001b[43m)\u001b[49m\n\u001b[1;32m    835\u001b[0m \u001b[43m    \u001b[49m\u001b[43m)\u001b[49m\n\u001b[1;32m    836\u001b[0m \u001b[43m\u001b[49m\u001b[43m)\u001b[49m\n\u001b[1;32m    838\u001b[0m \u001b[38;5;28;01mif\u001b[39;00m \u001b[38;5;28mlen\u001b[39m(out) \u001b[38;5;241m<\u001b[39m \u001b[38;5;241m1\u001b[39m:\n\u001b[1;32m    839\u001b[0m     \u001b[38;5;28;01mraise\u001b[39;00m \u001b[38;5;167;01mValueError\u001b[39;00m(\n\u001b[1;32m    840\u001b[0m         \u001b[38;5;124m\"\u001b[39m\u001b[38;5;124mNo fits were performed. \u001b[39m\u001b[38;5;124m\"\u001b[39m\n\u001b[1;32m    841\u001b[0m         \u001b[38;5;124m\"\u001b[39m\u001b[38;5;124mWas the CV iterator empty? \u001b[39m\u001b[38;5;124m\"\u001b[39m\n\u001b[1;32m    842\u001b[0m         \u001b[38;5;124m\"\u001b[39m\u001b[38;5;124mWere there no candidates?\u001b[39m\u001b[38;5;124m\"\u001b[39m\n\u001b[1;32m    843\u001b[0m     )\n",
      "File \u001b[0;32m~/opt/anaconda3/lib/python3.8/site-packages/sklearn/utils/parallel.py:63\u001b[0m, in \u001b[0;36mParallel.__call__\u001b[0;34m(self, iterable)\u001b[0m\n\u001b[1;32m     58\u001b[0m config \u001b[38;5;241m=\u001b[39m get_config()\n\u001b[1;32m     59\u001b[0m iterable_with_config \u001b[38;5;241m=\u001b[39m (\n\u001b[1;32m     60\u001b[0m     (_with_config(delayed_func, config), args, kwargs)\n\u001b[1;32m     61\u001b[0m     \u001b[38;5;28;01mfor\u001b[39;00m delayed_func, args, kwargs \u001b[38;5;129;01min\u001b[39;00m iterable\n\u001b[1;32m     62\u001b[0m )\n\u001b[0;32m---> 63\u001b[0m \u001b[38;5;28;01mreturn\u001b[39;00m \u001b[38;5;28;43msuper\u001b[39;49m\u001b[43m(\u001b[49m\u001b[43m)\u001b[49m\u001b[38;5;241;43m.\u001b[39;49m\u001b[38;5;21;43m__call__\u001b[39;49m\u001b[43m(\u001b[49m\u001b[43miterable_with_config\u001b[49m\u001b[43m)\u001b[49m\n",
      "File \u001b[0;32m~/opt/anaconda3/lib/python3.8/site-packages/joblib/parallel.py:1098\u001b[0m, in \u001b[0;36mParallel.__call__\u001b[0;34m(self, iterable)\u001b[0m\n\u001b[1;32m   1095\u001b[0m     \u001b[38;5;28mself\u001b[39m\u001b[38;5;241m.\u001b[39m_iterating \u001b[38;5;241m=\u001b[39m \u001b[38;5;28;01mFalse\u001b[39;00m\n\u001b[1;32m   1097\u001b[0m \u001b[38;5;28;01mwith\u001b[39;00m \u001b[38;5;28mself\u001b[39m\u001b[38;5;241m.\u001b[39m_backend\u001b[38;5;241m.\u001b[39mretrieval_context():\n\u001b[0;32m-> 1098\u001b[0m     \u001b[38;5;28;43mself\u001b[39;49m\u001b[38;5;241;43m.\u001b[39;49m\u001b[43mretrieve\u001b[49m\u001b[43m(\u001b[49m\u001b[43m)\u001b[49m\n\u001b[1;32m   1099\u001b[0m \u001b[38;5;66;03m# Make sure that we get a last message telling us we are done\u001b[39;00m\n\u001b[1;32m   1100\u001b[0m elapsed_time \u001b[38;5;241m=\u001b[39m time\u001b[38;5;241m.\u001b[39mtime() \u001b[38;5;241m-\u001b[39m \u001b[38;5;28mself\u001b[39m\u001b[38;5;241m.\u001b[39m_start_time\n",
      "File \u001b[0;32m~/opt/anaconda3/lib/python3.8/site-packages/joblib/parallel.py:975\u001b[0m, in \u001b[0;36mParallel.retrieve\u001b[0;34m(self)\u001b[0m\n\u001b[1;32m    973\u001b[0m \u001b[38;5;28;01mtry\u001b[39;00m:\n\u001b[1;32m    974\u001b[0m     \u001b[38;5;28;01mif\u001b[39;00m \u001b[38;5;28mgetattr\u001b[39m(\u001b[38;5;28mself\u001b[39m\u001b[38;5;241m.\u001b[39m_backend, \u001b[38;5;124m'\u001b[39m\u001b[38;5;124msupports_timeout\u001b[39m\u001b[38;5;124m'\u001b[39m, \u001b[38;5;28;01mFalse\u001b[39;00m):\n\u001b[0;32m--> 975\u001b[0m         \u001b[38;5;28mself\u001b[39m\u001b[38;5;241m.\u001b[39m_output\u001b[38;5;241m.\u001b[39mextend(\u001b[43mjob\u001b[49m\u001b[38;5;241;43m.\u001b[39;49m\u001b[43mget\u001b[49m\u001b[43m(\u001b[49m\u001b[43mtimeout\u001b[49m\u001b[38;5;241;43m=\u001b[39;49m\u001b[38;5;28;43mself\u001b[39;49m\u001b[38;5;241;43m.\u001b[39;49m\u001b[43mtimeout\u001b[49m\u001b[43m)\u001b[49m)\n\u001b[1;32m    976\u001b[0m     \u001b[38;5;28;01melse\u001b[39;00m:\n\u001b[1;32m    977\u001b[0m         \u001b[38;5;28mself\u001b[39m\u001b[38;5;241m.\u001b[39m_output\u001b[38;5;241m.\u001b[39mextend(job\u001b[38;5;241m.\u001b[39mget())\n",
      "File \u001b[0;32m~/opt/anaconda3/lib/python3.8/site-packages/joblib/_parallel_backends.py:567\u001b[0m, in \u001b[0;36mLokyBackend.wrap_future_result\u001b[0;34m(future, timeout)\u001b[0m\n\u001b[1;32m    564\u001b[0m \u001b[38;5;124;03m\"\"\"Wrapper for Future.result to implement the same behaviour as\u001b[39;00m\n\u001b[1;32m    565\u001b[0m \u001b[38;5;124;03mAsyncResults.get from multiprocessing.\"\"\"\u001b[39;00m\n\u001b[1;32m    566\u001b[0m \u001b[38;5;28;01mtry\u001b[39;00m:\n\u001b[0;32m--> 567\u001b[0m     \u001b[38;5;28;01mreturn\u001b[39;00m \u001b[43mfuture\u001b[49m\u001b[38;5;241;43m.\u001b[39;49m\u001b[43mresult\u001b[49m\u001b[43m(\u001b[49m\u001b[43mtimeout\u001b[49m\u001b[38;5;241;43m=\u001b[39;49m\u001b[43mtimeout\u001b[49m\u001b[43m)\u001b[49m\n\u001b[1;32m    568\u001b[0m \u001b[38;5;28;01mexcept\u001b[39;00m CfTimeoutError \u001b[38;5;28;01mas\u001b[39;00m e:\n\u001b[1;32m    569\u001b[0m     \u001b[38;5;28;01mraise\u001b[39;00m \u001b[38;5;167;01mTimeoutError\u001b[39;00m \u001b[38;5;28;01mfrom\u001b[39;00m \u001b[38;5;21;01me\u001b[39;00m\n",
      "File \u001b[0;32m~/opt/anaconda3/lib/python3.8/concurrent/futures/_base.py:434\u001b[0m, in \u001b[0;36mFuture.result\u001b[0;34m(self, timeout)\u001b[0m\n\u001b[1;32m    431\u001b[0m \u001b[38;5;28;01melif\u001b[39;00m \u001b[38;5;28mself\u001b[39m\u001b[38;5;241m.\u001b[39m_state \u001b[38;5;241m==\u001b[39m FINISHED:\n\u001b[1;32m    432\u001b[0m     \u001b[38;5;28;01mreturn\u001b[39;00m \u001b[38;5;28mself\u001b[39m\u001b[38;5;241m.\u001b[39m__get_result()\n\u001b[0;32m--> 434\u001b[0m \u001b[38;5;28;43mself\u001b[39;49m\u001b[38;5;241;43m.\u001b[39;49m\u001b[43m_condition\u001b[49m\u001b[38;5;241;43m.\u001b[39;49m\u001b[43mwait\u001b[49m\u001b[43m(\u001b[49m\u001b[43mtimeout\u001b[49m\u001b[43m)\u001b[49m\n\u001b[1;32m    436\u001b[0m \u001b[38;5;28;01mif\u001b[39;00m \u001b[38;5;28mself\u001b[39m\u001b[38;5;241m.\u001b[39m_state \u001b[38;5;129;01min\u001b[39;00m [CANCELLED, CANCELLED_AND_NOTIFIED]:\n\u001b[1;32m    437\u001b[0m     \u001b[38;5;28;01mraise\u001b[39;00m CancelledError()\n",
      "File \u001b[0;32m~/opt/anaconda3/lib/python3.8/threading.py:302\u001b[0m, in \u001b[0;36mCondition.wait\u001b[0;34m(self, timeout)\u001b[0m\n\u001b[1;32m    300\u001b[0m \u001b[38;5;28;01mtry\u001b[39;00m:    \u001b[38;5;66;03m# restore state no matter what (e.g., KeyboardInterrupt)\u001b[39;00m\n\u001b[1;32m    301\u001b[0m     \u001b[38;5;28;01mif\u001b[39;00m timeout \u001b[38;5;129;01mis\u001b[39;00m \u001b[38;5;28;01mNone\u001b[39;00m:\n\u001b[0;32m--> 302\u001b[0m         \u001b[43mwaiter\u001b[49m\u001b[38;5;241;43m.\u001b[39;49m\u001b[43macquire\u001b[49m\u001b[43m(\u001b[49m\u001b[43m)\u001b[49m\n\u001b[1;32m    303\u001b[0m         gotit \u001b[38;5;241m=\u001b[39m \u001b[38;5;28;01mTrue\u001b[39;00m\n\u001b[1;32m    304\u001b[0m     \u001b[38;5;28;01melse\u001b[39;00m:\n",
      "\u001b[0;31mKeyboardInterrupt\u001b[0m: "
     ]
    },
    {
     "data": {
      "image/png": "[encoded data removed]",
      "text/plain": [
       "<Figure size 720x360 with 1 Axes>"
      ]
     },
     "metadata": {
      "needs_background": "light"
     },
     "output_type": "display_data"
    }
   ],
   "source": [
    "import numpy as np\n",
    "import pandas as pd\n",
    "import xgboost as xgb\n",
    "from sklearn.metrics import mean_squared_error, mean_absolute_error\n",
    "from sklearn.model_selection import TimeSeriesSplit\n",
    "from sklearn.metrics import r2_score\n",
    "import matplotlib.pyplot as plt\n",
    "from sklearn.model_selection import GridSearchCV\n",
    "\n",
    "def create_target(df, target_col, horizon):\n",
    "    df_shifted = df.shift(-horizon)\n",
    "    df[f\"{target_col}_{horizon}\"] = df_shifted[target_col]\n",
    "    return df\n",
    "\n",
    "target_col = \"Surface height from combined measurements\"\n",
    "horizons = [1, 7, 30]\n",
    "\n",
    "for horizon in horizons:\n",
    "    df = create_target(df, target_col, horizon)\n",
    "def add_rolling_features(df, column, windows):\n",
    "    for window in windows:\n",
    "        df[f\"{column}_mean_{window}\"] = df[column].rolling(window=window).mean()\n",
    "        df[f\"{column}_median_{window}\"] = df[column].rolling(window=window).median()\n",
    "        df[f\"{column}_std_{window}\"] = df[column].rolling(window=window).std()\n",
    "\n",
    "    return df\n",
    "\n",
    "windows = [3, 7, 14, 30]  # Choose the rolling window sizes you find relevant\n",
    "\n",
    "df = add_rolling_features(df, \"Surface height from combined measurements\", windows)\n",
    "\n",
    "df = df.dropna() \n",
    "\n",
    "def perform_grid_search(X_train, y_train):\n",
    "    param_grid = {\n",
    "        \"learning_rate\": [0.01],\n",
    "        \"max_depth\": [3],\n",
    "        \"n_estimators\": [ 300],\n",
    "        \"subsample\": [ 1.0],\n",
    "        \"colsample_bytree\": [ 1.0],\n",
    "        \"reg_alpha\": [0.5],\n",
    "    }\n",
    "\n",
    "    model = xgb.XGBRegressor#(objective=\"reg:squarederror\")\n",
    "\n",
    "    grid_search = GridSearchCV(\n",
    "        estimator=model,\n",
    "        param_grid=param_grid,\n",
    "        cv=TimeSeriesSplit(n_splits=5),\n",
    "        scoring=\"neg_mean_squared_error\",\n",
    "        n_jobs=-1,\n",
    "        verbose=0,\n",
    "    )\n",
    "\n",
    "    grid_search.fit(X_train, y_train)\n",
    "\n",
    "    return grid_search.best_estimator_\n",
    "\n",
    "input_features = df.drop(columns=[f\"{target_col}_{horizon}\" for horizon in horizons])\n",
    "\n",
    "tscv = TimeSeriesSplit(n_splits = 365)\n",
    "\n",
    "def train_and_evaluate(input_features, target, train_idx, test_idx):\n",
    "    X_train, X_test = input_features.iloc[train_idx], input_features.iloc[test_idx]\n",
    "    y_train, y_test = target.iloc[train_idx], target.iloc[test_idx]\n",
    "\n",
    "    # Use the tuned model from grid search cross-validation\n",
    "    model = perform_grid_search(X_train, y_train)\n",
    "\n",
    "    y_pred = model.predict(X_test)\n",
    "\n",
    "    mse = mean_squared_error(y_test, y_pred)\n",
    "    mae = mean_absolute_error(y_test, y_pred)\n",
    "    r2 = r2_score(y_test, y_pred)\n",
    "\n",
    "    return mse, mae, r2, y_test, y_pred\n",
    "\n",
    "for horizon in horizons:\n",
    "    print(f\"Time horizon: {horizon} days\")\n",
    "    mse_list, mae_list, r2_list = [], [], []\n",
    "\n",
    "    target = df[f\"{target_col}_{horizon}\"]\n",
    "\n",
    "    plt.figure(figsize=(10, 5))\n",
    "    \n",
    "    for train_idx, test_idx in tscv.split(input_features):\n",
    "        mse, mae, r2, y_test, y_pred = train_and_evaluate(input_features, target, train_idx, test_idx)\n",
    "        mse_list.append(mse)\n",
    "        mae_list.append(mae)\n",
    "        r2_list.append(r2)\n",
    "\n",
    "        # Plot actual vs predicted data\n",
    "        plt.plot(y_test.index, y_test, color=\"blue\", alpha=0.3)\n",
    "        plt.plot(y_test.index, y_pred, color=\"red\", alpha=0.3)\n",
    "\n",
    "    plt.xlabel(\"Index\")\n",
    "    plt.ylabel(\"Value\")\n",
    "    plt.title(f\"Time horizon: {horizon} days, Average R^2: {np.mean(r2_list):.4f}\")\n",
    "    plt.legend([\"Actual\", \"Predicted\"])\n",
    "    plt.show()\n",
    "\n",
    "    print(f\"Average Mean Squared Error: {np.mean(mse_list):.4f}\")\n",
    "    print(f\"Average Mean Absolute Error: {np.mean(mae_list):.4f}\")\n",
    "    print(f\"Average R^2 Score: {np.mean(r2_list):.4f}\\n\")\n",
    "\n"
   ]
  },
  {
   "cell_type": "markdown",
   "metadata": {},
   "source": [
    "-------"
   ]
  }
 ],
 "metadata": {
  "colab": {
   "provenance": []
  },
  "kernelspec": {
   "display_name": "Python 3 (ipykernel)",
   "language": "python",
   "name": "python3"
  },
  "language_info": {
   "codemirror_mode": {
    "name": "ipython",
    "version": 3
   },
   "file_extension": ".py",
   "mimetype": "text/x-python",
   "name": "python",
   "nbconvert_exporter": "python",
   "pygments_lexer": "ipython3",
   "version": "3.8.8"
  },
  "vscode": {
   "interpreter": {
    "hash": "aee8b7b246df8f9039afb4144a1f6fd8d2ca17a180786b69acc140d282b71a49"
   }
  }
 },
 "nbformat": 4,
 "nbformat_minor": 1
}
