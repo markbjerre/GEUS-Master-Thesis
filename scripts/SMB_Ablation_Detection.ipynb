{
 "cells": [
  {
   "cell_type": "markdown",
   "metadata": {},
   "source": [
    "### Surface Mass Balance  - Ablation Period Detection"
   ]
  },
  {
   "cell_type": "markdown",
   "metadata": {
    "id": "FTbsuMgO3ery"
   },
   "source": [
    "Import relevant Libaries "
   ]
  },
  {
   "cell_type": "code",
   "execution_count": 1,
   "metadata": {
    "collapsed": true
   },
   "outputs": [
    {
     "name": "stdout",
     "output_type": "stream",
     "text": [
      "Requirement already satisfied: pyarrow in /Users/nilsfulde/opt/anaconda3/lib/python3.8/site-packages (11.0.0)\n",
      "Requirement already satisfied: numpy>=1.16.6 in /Users/nilsfulde/opt/anaconda3/lib/python3.8/site-packages (from pyarrow) (1.24.2)\n",
      "\u001b[33mWARNING: You are using pip version 21.3.1; however, version 23.0.1 is available.\n",
      "You should consider upgrading via the '/Users/nilsfulde/opt/anaconda3/bin/python -m pip install --upgrade pip' command.\u001b[0m\n",
      "Note: you may need to restart the kernel to use updated packages.\n",
      "Requirement already satisfied: plotly in /Users/nilsfulde/opt/anaconda3/lib/python3.8/site-packages (5.6.0)\n",
      "Requirement already satisfied: tenacity>=6.2.0 in /Users/nilsfulde/opt/anaconda3/lib/python3.8/site-packages (from plotly) (8.0.1)\n",
      "Requirement already satisfied: six in /Users/nilsfulde/opt/anaconda3/lib/python3.8/site-packages (from plotly) (1.12.0)\n",
      "\u001b[33mWARNING: You are using pip version 21.3.1; however, version 23.0.1 is available.\n",
      "You should consider upgrading via the '/Users/nilsfulde/opt/anaconda3/bin/python -m pip install --upgrade pip' command.\u001b[0m\n",
      "Note: you may need to restart the kernel to use updated packages.\n",
      "ERROR: unknown command \"update\"\n",
      "Note: you may need to restart the kernel to use updated packages.\n"
     ]
    }
   ],
   "source": [
    "%pip install pyarrow\n",
    "%pip install plotly\n",
    "%pip update pandas"
   ]
  },
  {
   "cell_type": "code",
   "execution_count": 1,
   "metadata": {
    "id": "yJLqdDNx3j-Y"
   },
   "outputs": [],
   "source": [
    "# Base libraries\n",
    "import pandas as pd\n",
    "import numpy as np\n",
    "import os\n",
    "import math as math\n",
    "import datetime\n",
    "from scipy import stats\n",
    "\n",
    "# Visualizations\n",
    "import matplotlib.pyplot as plt\n",
    "\n",
    "import plotly.express as px\n",
    "import plotly.graph_objects as go"
   ]
  },
  {
   "cell_type": "code",
   "execution_count": 2,
   "metadata": {},
   "outputs": [],
   "source": [
    "from scipy.interpolate import interp1d\n",
    "from sklearn.linear_model import LinearRegression\n",
    "import warnings\n",
    "warnings.filterwarnings(\"ignore\")"
   ]
  },
  {
   "cell_type": "markdown",
   "metadata": {
    "id": "-ODOhsaMP7u_"
   },
   "source": [
    "Set WD"
   ]
  },
  {
   "cell_type": "code",
   "execution_count": 3,
   "metadata": {},
   "outputs": [],
   "source": [
    "import os\n",
    "\n",
    "from pyrsistent import v\n",
    "os.getcwd()\n",
    "#os.chdir('/Users/asgerlyngeholst-hansen/Desktop/GEUS-Master-Thesis/')\n",
    "#os.chdir('C:\\\\Users\\\\nifu18ab\\\\Desktop\\\\GEUS-Master-Thesis')\n",
    "os.chdir('/Users/nilsfulde/Desktop/GEUS-Master-Thesis')\n",
    "#os.chdir('/Users/nilsfulde/Desktop/Master_Thesis')\n"
   ]
  },
  {
   "cell_type": "markdown",
   "metadata": {},
   "source": [
    "**Load New Promice Data**"
   ]
  },
  {
   "cell_type": "code",
   "execution_count": 6,
   "metadata": {},
   "outputs": [],
   "source": [
    "#Function for loading data and converting to datetime \n",
    "def load_promice(path_to_file):\n",
    "    '''\n",
    "    Loading PROMICE data for a given path into a DataFrame.\n",
    "    + adding time index\n",
    "    \n",
    "    INTPUTS:\n",
    "        path_to_file: Path to the desired file containing PROMICE data [string]\n",
    "    \n",
    "    OUTPUTS:\n",
    "        df: Dataframe containing PROMICE data for the desired settings [DataFrame]\n",
    "    '''\n",
    "\n",
    "    df = pd.read_parquet(path_to_file, engine='pyarrow')\n",
    "    #df['time'] = pd.to_datetime(df.time, utc=True)\n",
    "    #df = df.set_index('time')\n",
    "    return df\n",
    "\n",
    "\n"
   ]
  },
  {
   "cell_type": "markdown",
   "metadata": {},
   "source": [
    "## For All Stations"
   ]
  },
  {
   "cell_type": "code",
   "execution_count": 18,
   "metadata": {},
   "outputs": [],
   "source": [
    "df = load_promice('data/new_promice/all_promice_data_hourly.parquet.gzip')"
   ]
  },
  {
   "cell_type": "markdown",
   "metadata": {},
   "source": [
    "**Helper functions (Comment Nils: Not needed)**"
   ]
  },
  {
   "cell_type": "code",
   "execution_count": 7,
   "metadata": {},
   "outputs": [],
   "source": [
    "#Function for writing to Markdown Report\n",
    "def Msg(txt):\n",
    "    f = open(\"out/Report.md\", \"a\")\n",
    "    print(txt)\n",
    "    f.write(txt + \"\\n\")"
   ]
  },
  {
   "cell_type": "markdown",
   "metadata": {},
   "source": [
    "**Identifying ablation periods**"
   ]
  },
  {
   "cell_type": "code",
   "execution_count": 19,
   "metadata": {},
   "outputs": [],
   "source": [
    "station_list = df.stid.unique().tolist()"
   ]
  },
  {
   "cell_type": "code",
   "execution_count": 20,
   "metadata": {
    "collapsed": true
   },
   "outputs": [
    {
     "name": "stdout",
     "output_type": "stream",
     "text": [
      "Calculating CEN1\n"
     ]
    },
    {
     "name": "stderr",
     "output_type": "stream",
     "text": [
      "/var/folders/_r/2f7t_cz14232jqp3576_p04m0000gn/T/ipykernel_55542/689711799.py:20: FutureWarning: The frame.append method is deprecated and will be removed from pandas in a future version. Use pandas.concat instead.\n",
      "  ablation = ablation.append(df_stid[['Datetime', 'stid', 'Ablation']])\n"
     ]
    },
    {
     "name": "stdout",
     "output_type": "stream",
     "text": [
      "Calculating CEN2\n"
     ]
    },
    {
     "name": "stderr",
     "output_type": "stream",
     "text": [
      "/var/folders/_r/2f7t_cz14232jqp3576_p04m0000gn/T/ipykernel_55542/689711799.py:20: FutureWarning: The frame.append method is deprecated and will be removed from pandas in a future version. Use pandas.concat instead.\n",
      "  ablation = ablation.append(df_stid[['Datetime', 'stid', 'Ablation']])\n"
     ]
    },
    {
     "name": "stdout",
     "output_type": "stream",
     "text": [
      "Calculating CP1\n"
     ]
    },
    {
     "name": "stderr",
     "output_type": "stream",
     "text": [
      "/var/folders/_r/2f7t_cz14232jqp3576_p04m0000gn/T/ipykernel_55542/689711799.py:20: FutureWarning: The frame.append method is deprecated and will be removed from pandas in a future version. Use pandas.concat instead.\n",
      "  ablation = ablation.append(df_stid[['Datetime', 'stid', 'Ablation']])\n"
     ]
    },
    {
     "name": "stdout",
     "output_type": "stream",
     "text": [
      "Calculating DY2\n"
     ]
    },
    {
     "name": "stderr",
     "output_type": "stream",
     "text": [
      "/var/folders/_r/2f7t_cz14232jqp3576_p04m0000gn/T/ipykernel_55542/689711799.py:20: FutureWarning: The frame.append method is deprecated and will be removed from pandas in a future version. Use pandas.concat instead.\n",
      "  ablation = ablation.append(df_stid[['Datetime', 'stid', 'Ablation']])\n"
     ]
    },
    {
     "name": "stdout",
     "output_type": "stream",
     "text": [
      "Calculating EGP\n"
     ]
    },
    {
     "name": "stderr",
     "output_type": "stream",
     "text": [
      "/var/folders/_r/2f7t_cz14232jqp3576_p04m0000gn/T/ipykernel_55542/689711799.py:20: FutureWarning: The frame.append method is deprecated and will be removed from pandas in a future version. Use pandas.concat instead.\n",
      "  ablation = ablation.append(df_stid[['Datetime', 'stid', 'Ablation']])\n"
     ]
    },
    {
     "name": "stdout",
     "output_type": "stream",
     "text": [
      "Calculating HUM\n"
     ]
    },
    {
     "name": "stderr",
     "output_type": "stream",
     "text": [
      "/var/folders/_r/2f7t_cz14232jqp3576_p04m0000gn/T/ipykernel_55542/689711799.py:20: FutureWarning: The frame.append method is deprecated and will be removed from pandas in a future version. Use pandas.concat instead.\n",
      "  ablation = ablation.append(df_stid[['Datetime', 'stid', 'Ablation']])\n"
     ]
    },
    {
     "name": "stdout",
     "output_type": "stream",
     "text": [
      "Calculating JAR\n"
     ]
    },
    {
     "name": "stderr",
     "output_type": "stream",
     "text": [
      "/var/folders/_r/2f7t_cz14232jqp3576_p04m0000gn/T/ipykernel_55542/689711799.py:20: FutureWarning: The frame.append method is deprecated and will be removed from pandas in a future version. Use pandas.concat instead.\n",
      "  ablation = ablation.append(df_stid[['Datetime', 'stid', 'Ablation']])\n"
     ]
    },
    {
     "name": "stdout",
     "output_type": "stream",
     "text": [
      "Calculating JAR_O\n",
      "Calculating KAN_B\n"
     ]
    },
    {
     "name": "stderr",
     "output_type": "stream",
     "text": [
      "/var/folders/_r/2f7t_cz14232jqp3576_p04m0000gn/T/ipykernel_55542/689711799.py:20: FutureWarning: The frame.append method is deprecated and will be removed from pandas in a future version. Use pandas.concat instead.\n",
      "  ablation = ablation.append(df_stid[['Datetime', 'stid', 'Ablation']])\n",
      "/var/folders/_r/2f7t_cz14232jqp3576_p04m0000gn/T/ipykernel_55542/689711799.py:20: FutureWarning: The frame.append method is deprecated and will be removed from pandas in a future version. Use pandas.concat instead.\n",
      "  ablation = ablation.append(df_stid[['Datetime', 'stid', 'Ablation']])\n"
     ]
    },
    {
     "name": "stdout",
     "output_type": "stream",
     "text": [
      "Calculating KAN_L\n"
     ]
    },
    {
     "name": "stderr",
     "output_type": "stream",
     "text": [
      "/var/folders/_r/2f7t_cz14232jqp3576_p04m0000gn/T/ipykernel_55542/689711799.py:20: FutureWarning: The frame.append method is deprecated and will be removed from pandas in a future version. Use pandas.concat instead.\n",
      "  ablation = ablation.append(df_stid[['Datetime', 'stid', 'Ablation']])\n"
     ]
    },
    {
     "name": "stdout",
     "output_type": "stream",
     "text": [
      "Calculating KAN_M\n"
     ]
    },
    {
     "name": "stderr",
     "output_type": "stream",
     "text": [
      "/var/folders/_r/2f7t_cz14232jqp3576_p04m0000gn/T/ipykernel_55542/689711799.py:20: FutureWarning: The frame.append method is deprecated and will be removed from pandas in a future version. Use pandas.concat instead.\n",
      "  ablation = ablation.append(df_stid[['Datetime', 'stid', 'Ablation']])\n"
     ]
    },
    {
     "name": "stdout",
     "output_type": "stream",
     "text": [
      "Calculating KAN_U\n"
     ]
    },
    {
     "name": "stderr",
     "output_type": "stream",
     "text": [
      "/var/folders/_r/2f7t_cz14232jqp3576_p04m0000gn/T/ipykernel_55542/689711799.py:20: FutureWarning: The frame.append method is deprecated and will be removed from pandas in a future version. Use pandas.concat instead.\n",
      "  ablation = ablation.append(df_stid[['Datetime', 'stid', 'Ablation']])\n"
     ]
    },
    {
     "name": "stdout",
     "output_type": "stream",
     "text": [
      "Calculating KPC_Lv3\n",
      "Calculating KPC_L\n"
     ]
    },
    {
     "name": "stderr",
     "output_type": "stream",
     "text": [
      "/var/folders/_r/2f7t_cz14232jqp3576_p04m0000gn/T/ipykernel_55542/689711799.py:20: FutureWarning: The frame.append method is deprecated and will be removed from pandas in a future version. Use pandas.concat instead.\n",
      "  ablation = ablation.append(df_stid[['Datetime', 'stid', 'Ablation']])\n",
      "/var/folders/_r/2f7t_cz14232jqp3576_p04m0000gn/T/ipykernel_55542/689711799.py:20: FutureWarning: The frame.append method is deprecated and will be removed from pandas in a future version. Use pandas.concat instead.\n",
      "  ablation = ablation.append(df_stid[['Datetime', 'stid', 'Ablation']])\n"
     ]
    },
    {
     "name": "stdout",
     "output_type": "stream",
     "text": [
      "Calculating KPC_Uv3\n",
      "Calculating KPC_U\n"
     ]
    },
    {
     "name": "stderr",
     "output_type": "stream",
     "text": [
      "/var/folders/_r/2f7t_cz14232jqp3576_p04m0000gn/T/ipykernel_55542/689711799.py:20: FutureWarning: The frame.append method is deprecated and will be removed from pandas in a future version. Use pandas.concat instead.\n",
      "  ablation = ablation.append(df_stid[['Datetime', 'stid', 'Ablation']])\n",
      "/var/folders/_r/2f7t_cz14232jqp3576_p04m0000gn/T/ipykernel_55542/689711799.py:20: FutureWarning: The frame.append method is deprecated and will be removed from pandas in a future version. Use pandas.concat instead.\n",
      "  ablation = ablation.append(df_stid[['Datetime', 'stid', 'Ablation']])\n"
     ]
    },
    {
     "name": "stdout",
     "output_type": "stream",
     "text": [
      "Calculating LYN_L\n",
      "Calculating LYN_T\n"
     ]
    },
    {
     "name": "stderr",
     "output_type": "stream",
     "text": [
      "/var/folders/_r/2f7t_cz14232jqp3576_p04m0000gn/T/ipykernel_55542/689711799.py:20: FutureWarning: The frame.append method is deprecated and will be removed from pandas in a future version. Use pandas.concat instead.\n",
      "  ablation = ablation.append(df_stid[['Datetime', 'stid', 'Ablation']])\n",
      "/var/folders/_r/2f7t_cz14232jqp3576_p04m0000gn/T/ipykernel_55542/689711799.py:20: FutureWarning: The frame.append method is deprecated and will be removed from pandas in a future version. Use pandas.concat instead.\n",
      "  ablation = ablation.append(df_stid[['Datetime', 'stid', 'Ablation']])\n"
     ]
    },
    {
     "name": "stdout",
     "output_type": "stream",
     "text": [
      "Calculating MIT\n"
     ]
    },
    {
     "name": "stderr",
     "output_type": "stream",
     "text": [
      "/var/folders/_r/2f7t_cz14232jqp3576_p04m0000gn/T/ipykernel_55542/689711799.py:20: FutureWarning: The frame.append method is deprecated and will be removed from pandas in a future version. Use pandas.concat instead.\n",
      "  ablation = ablation.append(df_stid[['Datetime', 'stid', 'Ablation']])\n"
     ]
    },
    {
     "name": "stdout",
     "output_type": "stream",
     "text": [
      "Calculating NAE\n"
     ]
    },
    {
     "name": "stderr",
     "output_type": "stream",
     "text": [
      "/var/folders/_r/2f7t_cz14232jqp3576_p04m0000gn/T/ipykernel_55542/689711799.py:20: FutureWarning: The frame.append method is deprecated and will be removed from pandas in a future version. Use pandas.concat instead.\n",
      "  ablation = ablation.append(df_stid[['Datetime', 'stid', 'Ablation']])\n"
     ]
    },
    {
     "name": "stdout",
     "output_type": "stream",
     "text": [
      "Calculating NAU\n"
     ]
    },
    {
     "name": "stderr",
     "output_type": "stream",
     "text": [
      "/var/folders/_r/2f7t_cz14232jqp3576_p04m0000gn/T/ipykernel_55542/689711799.py:20: FutureWarning: The frame.append method is deprecated and will be removed from pandas in a future version. Use pandas.concat instead.\n",
      "  ablation = ablation.append(df_stid[['Datetime', 'stid', 'Ablation']])\n"
     ]
    },
    {
     "name": "stdout",
     "output_type": "stream",
     "text": [
      "Calculating NEM\n"
     ]
    },
    {
     "name": "stderr",
     "output_type": "stream",
     "text": [
      "/var/folders/_r/2f7t_cz14232jqp3576_p04m0000gn/T/ipykernel_55542/689711799.py:20: FutureWarning: The frame.append method is deprecated and will be removed from pandas in a future version. Use pandas.concat instead.\n",
      "  ablation = ablation.append(df_stid[['Datetime', 'stid', 'Ablation']])\n"
     ]
    },
    {
     "name": "stdout",
     "output_type": "stream",
     "text": [
      "Calculating NSE\n"
     ]
    },
    {
     "name": "stderr",
     "output_type": "stream",
     "text": [
      "/var/folders/_r/2f7t_cz14232jqp3576_p04m0000gn/T/ipykernel_55542/689711799.py:20: FutureWarning: The frame.append method is deprecated and will be removed from pandas in a future version. Use pandas.concat instead.\n",
      "  ablation = ablation.append(df_stid[['Datetime', 'stid', 'Ablation']])\n"
     ]
    },
    {
     "name": "stdout",
     "output_type": "stream",
     "text": [
      "Calculating NUK_K\n"
     ]
    },
    {
     "name": "stderr",
     "output_type": "stream",
     "text": [
      "/var/folders/_r/2f7t_cz14232jqp3576_p04m0000gn/T/ipykernel_55542/689711799.py:20: FutureWarning: The frame.append method is deprecated and will be removed from pandas in a future version. Use pandas.concat instead.\n",
      "  ablation = ablation.append(df_stid[['Datetime', 'stid', 'Ablation']])\n"
     ]
    },
    {
     "name": "stdout",
     "output_type": "stream",
     "text": [
      "Calculating NUK_L\n"
     ]
    },
    {
     "name": "stderr",
     "output_type": "stream",
     "text": [
      "/var/folders/_r/2f7t_cz14232jqp3576_p04m0000gn/T/ipykernel_55542/689711799.py:20: FutureWarning: The frame.append method is deprecated and will be removed from pandas in a future version. Use pandas.concat instead.\n",
      "  ablation = ablation.append(df_stid[['Datetime', 'stid', 'Ablation']])\n"
     ]
    },
    {
     "name": "stdout",
     "output_type": "stream",
     "text": [
      "Calculating NUK_N\n"
     ]
    },
    {
     "name": "stderr",
     "output_type": "stream",
     "text": [
      "/var/folders/_r/2f7t_cz14232jqp3576_p04m0000gn/T/ipykernel_55542/689711799.py:20: FutureWarning: The frame.append method is deprecated and will be removed from pandas in a future version. Use pandas.concat instead.\n",
      "  ablation = ablation.append(df_stid[['Datetime', 'stid', 'Ablation']])\n"
     ]
    },
    {
     "name": "stdout",
     "output_type": "stream",
     "text": [
      "Calculating NUK_Uv3\n",
      "Calculating NUK_U\n"
     ]
    },
    {
     "name": "stderr",
     "output_type": "stream",
     "text": [
      "/var/folders/_r/2f7t_cz14232jqp3576_p04m0000gn/T/ipykernel_55542/689711799.py:20: FutureWarning: The frame.append method is deprecated and will be removed from pandas in a future version. Use pandas.concat instead.\n",
      "  ablation = ablation.append(df_stid[['Datetime', 'stid', 'Ablation']])\n",
      "/var/folders/_r/2f7t_cz14232jqp3576_p04m0000gn/T/ipykernel_55542/689711799.py:20: FutureWarning: The frame.append method is deprecated and will be removed from pandas in a future version. Use pandas.concat instead.\n",
      "  ablation = ablation.append(df_stid[['Datetime', 'stid', 'Ablation']])\n"
     ]
    },
    {
     "name": "stdout",
     "output_type": "stream",
     "text": [
      "Calculating QAS_A\n",
      "Calculating QAS_Lv3\n"
     ]
    },
    {
     "name": "stderr",
     "output_type": "stream",
     "text": [
      "/var/folders/_r/2f7t_cz14232jqp3576_p04m0000gn/T/ipykernel_55542/689711799.py:20: FutureWarning: The frame.append method is deprecated and will be removed from pandas in a future version. Use pandas.concat instead.\n",
      "  ablation = ablation.append(df_stid[['Datetime', 'stid', 'Ablation']])\n",
      "/var/folders/_r/2f7t_cz14232jqp3576_p04m0000gn/T/ipykernel_55542/689711799.py:20: FutureWarning: The frame.append method is deprecated and will be removed from pandas in a future version. Use pandas.concat instead.\n",
      "  ablation = ablation.append(df_stid[['Datetime', 'stid', 'Ablation']])\n"
     ]
    },
    {
     "name": "stdout",
     "output_type": "stream",
     "text": [
      "Calculating QAS_L\n"
     ]
    },
    {
     "name": "stderr",
     "output_type": "stream",
     "text": [
      "/var/folders/_r/2f7t_cz14232jqp3576_p04m0000gn/T/ipykernel_55542/689711799.py:20: FutureWarning: The frame.append method is deprecated and will be removed from pandas in a future version. Use pandas.concat instead.\n",
      "  ablation = ablation.append(df_stid[['Datetime', 'stid', 'Ablation']])\n"
     ]
    },
    {
     "name": "stdout",
     "output_type": "stream",
     "text": [
      "Calculating QAS_M\n"
     ]
    },
    {
     "name": "stderr",
     "output_type": "stream",
     "text": [
      "/var/folders/_r/2f7t_cz14232jqp3576_p04m0000gn/T/ipykernel_55542/689711799.py:20: FutureWarning: The frame.append method is deprecated and will be removed from pandas in a future version. Use pandas.concat instead.\n",
      "  ablation = ablation.append(df_stid[['Datetime', 'stid', 'Ablation']])\n"
     ]
    },
    {
     "name": "stdout",
     "output_type": "stream",
     "text": [
      "Calculating QAS_Uv3\n",
      "Calculating QAS_U\n"
     ]
    },
    {
     "name": "stderr",
     "output_type": "stream",
     "text": [
      "/var/folders/_r/2f7t_cz14232jqp3576_p04m0000gn/T/ipykernel_55542/689711799.py:20: FutureWarning: The frame.append method is deprecated and will be removed from pandas in a future version. Use pandas.concat instead.\n",
      "  ablation = ablation.append(df_stid[['Datetime', 'stid', 'Ablation']])\n",
      "/var/folders/_r/2f7t_cz14232jqp3576_p04m0000gn/T/ipykernel_55542/689711799.py:20: FutureWarning: The frame.append method is deprecated and will be removed from pandas in a future version. Use pandas.concat instead.\n",
      "  ablation = ablation.append(df_stid[['Datetime', 'stid', 'Ablation']])\n"
     ]
    },
    {
     "name": "stdout",
     "output_type": "stream",
     "text": [
      "Calculating Roof_GEUS\n",
      "Calculating Roof_PROMICE\n"
     ]
    },
    {
     "name": "stderr",
     "output_type": "stream",
     "text": [
      "/var/folders/_r/2f7t_cz14232jqp3576_p04m0000gn/T/ipykernel_55542/689711799.py:20: FutureWarning: The frame.append method is deprecated and will be removed from pandas in a future version. Use pandas.concat instead.\n",
      "  ablation = ablation.append(df_stid[['Datetime', 'stid', 'Ablation']])\n",
      "/var/folders/_r/2f7t_cz14232jqp3576_p04m0000gn/T/ipykernel_55542/689711799.py:20: FutureWarning: The frame.append method is deprecated and will be removed from pandas in a future version. Use pandas.concat instead.\n",
      "  ablation = ablation.append(df_stid[['Datetime', 'stid', 'Ablation']])\n"
     ]
    },
    {
     "name": "stdout",
     "output_type": "stream",
     "text": [
      "Calculating SCO_L\n"
     ]
    },
    {
     "name": "stderr",
     "output_type": "stream",
     "text": [
      "/var/folders/_r/2f7t_cz14232jqp3576_p04m0000gn/T/ipykernel_55542/689711799.py:20: FutureWarning: The frame.append method is deprecated and will be removed from pandas in a future version. Use pandas.concat instead.\n",
      "  ablation = ablation.append(df_stid[['Datetime', 'stid', 'Ablation']])\n"
     ]
    },
    {
     "name": "stdout",
     "output_type": "stream",
     "text": [
      "Calculating SCO_U\n"
     ]
    },
    {
     "name": "stderr",
     "output_type": "stream",
     "text": [
      "/var/folders/_r/2f7t_cz14232jqp3576_p04m0000gn/T/ipykernel_55542/689711799.py:20: FutureWarning: The frame.append method is deprecated and will be removed from pandas in a future version. Use pandas.concat instead.\n",
      "  ablation = ablation.append(df_stid[['Datetime', 'stid', 'Ablation']])\n"
     ]
    },
    {
     "name": "stdout",
     "output_type": "stream",
     "text": [
      "Calculating SDL\n"
     ]
    },
    {
     "name": "stderr",
     "output_type": "stream",
     "text": [
      "/var/folders/_r/2f7t_cz14232jqp3576_p04m0000gn/T/ipykernel_55542/689711799.py:20: FutureWarning: The frame.append method is deprecated and will be removed from pandas in a future version. Use pandas.concat instead.\n",
      "  ablation = ablation.append(df_stid[['Datetime', 'stid', 'Ablation']])\n"
     ]
    },
    {
     "name": "stdout",
     "output_type": "stream",
     "text": [
      "Calculating SDM\n"
     ]
    },
    {
     "name": "stderr",
     "output_type": "stream",
     "text": [
      "/var/folders/_r/2f7t_cz14232jqp3576_p04m0000gn/T/ipykernel_55542/689711799.py:20: FutureWarning: The frame.append method is deprecated and will be removed from pandas in a future version. Use pandas.concat instead.\n",
      "  ablation = ablation.append(df_stid[['Datetime', 'stid', 'Ablation']])\n"
     ]
    },
    {
     "name": "stdout",
     "output_type": "stream",
     "text": [
      "Calculating SWC\n"
     ]
    },
    {
     "name": "stderr",
     "output_type": "stream",
     "text": [
      "/var/folders/_r/2f7t_cz14232jqp3576_p04m0000gn/T/ipykernel_55542/689711799.py:20: FutureWarning: The frame.append method is deprecated and will be removed from pandas in a future version. Use pandas.concat instead.\n",
      "  ablation = ablation.append(df_stid[['Datetime', 'stid', 'Ablation']])\n"
     ]
    },
    {
     "name": "stdout",
     "output_type": "stream",
     "text": [
      "Calculating SWC_O\n",
      "Calculating TAS_A\n"
     ]
    },
    {
     "name": "stderr",
     "output_type": "stream",
     "text": [
      "/var/folders/_r/2f7t_cz14232jqp3576_p04m0000gn/T/ipykernel_55542/689711799.py:20: FutureWarning: The frame.append method is deprecated and will be removed from pandas in a future version. Use pandas.concat instead.\n",
      "  ablation = ablation.append(df_stid[['Datetime', 'stid', 'Ablation']])\n",
      "/var/folders/_r/2f7t_cz14232jqp3576_p04m0000gn/T/ipykernel_55542/689711799.py:20: FutureWarning: The frame.append method is deprecated and will be removed from pandas in a future version. Use pandas.concat instead.\n",
      "  ablation = ablation.append(df_stid[['Datetime', 'stid', 'Ablation']])\n"
     ]
    },
    {
     "name": "stdout",
     "output_type": "stream",
     "text": [
      "Calculating TAS_L\n"
     ]
    },
    {
     "name": "stderr",
     "output_type": "stream",
     "text": [
      "/var/folders/_r/2f7t_cz14232jqp3576_p04m0000gn/T/ipykernel_55542/689711799.py:20: FutureWarning: The frame.append method is deprecated and will be removed from pandas in a future version. Use pandas.concat instead.\n",
      "  ablation = ablation.append(df_stid[['Datetime', 'stid', 'Ablation']])\n"
     ]
    },
    {
     "name": "stdout",
     "output_type": "stream",
     "text": [
      "Calculating TAS_U\n"
     ]
    },
    {
     "name": "stderr",
     "output_type": "stream",
     "text": [
      "/var/folders/_r/2f7t_cz14232jqp3576_p04m0000gn/T/ipykernel_55542/689711799.py:20: FutureWarning: The frame.append method is deprecated and will be removed from pandas in a future version. Use pandas.concat instead.\n",
      "  ablation = ablation.append(df_stid[['Datetime', 'stid', 'Ablation']])\n"
     ]
    },
    {
     "name": "stdout",
     "output_type": "stream",
     "text": [
      "Calculating THU_L2\n",
      "Calculating THU_L\n"
     ]
    },
    {
     "name": "stderr",
     "output_type": "stream",
     "text": [
      "/var/folders/_r/2f7t_cz14232jqp3576_p04m0000gn/T/ipykernel_55542/689711799.py:20: FutureWarning: The frame.append method is deprecated and will be removed from pandas in a future version. Use pandas.concat instead.\n",
      "  ablation = ablation.append(df_stid[['Datetime', 'stid', 'Ablation']])\n",
      "/var/folders/_r/2f7t_cz14232jqp3576_p04m0000gn/T/ipykernel_55542/689711799.py:20: FutureWarning: The frame.append method is deprecated and will be removed from pandas in a future version. Use pandas.concat instead.\n",
      "  ablation = ablation.append(df_stid[['Datetime', 'stid', 'Ablation']])\n"
     ]
    },
    {
     "name": "stdout",
     "output_type": "stream",
     "text": [
      "Calculating THU_U2\n"
     ]
    },
    {
     "name": "stderr",
     "output_type": "stream",
     "text": [
      "/var/folders/_r/2f7t_cz14232jqp3576_p04m0000gn/T/ipykernel_55542/689711799.py:20: FutureWarning: The frame.append method is deprecated and will be removed from pandas in a future version. Use pandas.concat instead.\n",
      "  ablation = ablation.append(df_stid[['Datetime', 'stid', 'Ablation']])\n"
     ]
    },
    {
     "name": "stdout",
     "output_type": "stream",
     "text": [
      "Calculating THU_U\n"
     ]
    },
    {
     "name": "stderr",
     "output_type": "stream",
     "text": [
      "/var/folders/_r/2f7t_cz14232jqp3576_p04m0000gn/T/ipykernel_55542/689711799.py:20: FutureWarning: The frame.append method is deprecated and will be removed from pandas in a future version. Use pandas.concat instead.\n",
      "  ablation = ablation.append(df_stid[['Datetime', 'stid', 'Ablation']])\n"
     ]
    },
    {
     "name": "stdout",
     "output_type": "stream",
     "text": [
      "Calculating TUN\n"
     ]
    },
    {
     "name": "stderr",
     "output_type": "stream",
     "text": [
      "/var/folders/_r/2f7t_cz14232jqp3576_p04m0000gn/T/ipykernel_55542/689711799.py:20: FutureWarning: The frame.append method is deprecated and will be removed from pandas in a future version. Use pandas.concat instead.\n",
      "  ablation = ablation.append(df_stid[['Datetime', 'stid', 'Ablation']])\n"
     ]
    },
    {
     "name": "stdout",
     "output_type": "stream",
     "text": [
      "Calculating UPE_L\n"
     ]
    },
    {
     "name": "stderr",
     "output_type": "stream",
     "text": [
      "/var/folders/_r/2f7t_cz14232jqp3576_p04m0000gn/T/ipykernel_55542/689711799.py:20: FutureWarning: The frame.append method is deprecated and will be removed from pandas in a future version. Use pandas.concat instead.\n",
      "  ablation = ablation.append(df_stid[['Datetime', 'stid', 'Ablation']])\n"
     ]
    },
    {
     "name": "stdout",
     "output_type": "stream",
     "text": [
      "Calculating UPE_U\n"
     ]
    },
    {
     "name": "stderr",
     "output_type": "stream",
     "text": [
      "/var/folders/_r/2f7t_cz14232jqp3576_p04m0000gn/T/ipykernel_55542/689711799.py:20: FutureWarning: The frame.append method is deprecated and will be removed from pandas in a future version. Use pandas.concat instead.\n",
      "  ablation = ablation.append(df_stid[['Datetime', 'stid', 'Ablation']])\n"
     ]
    },
    {
     "name": "stdout",
     "output_type": "stream",
     "text": [
      "Calculating UWN\n"
     ]
    },
    {
     "name": "stderr",
     "output_type": "stream",
     "text": [
      "/var/folders/_r/2f7t_cz14232jqp3576_p04m0000gn/T/ipykernel_55542/689711799.py:20: FutureWarning: The frame.append method is deprecated and will be removed from pandas in a future version. Use pandas.concat instead.\n",
      "  ablation = ablation.append(df_stid[['Datetime', 'stid', 'Ablation']])\n"
     ]
    },
    {
     "name": "stdout",
     "output_type": "stream",
     "text": [
      "Calculating WEG_B\n",
      "Calculating ZAK_L\n"
     ]
    },
    {
     "name": "stderr",
     "output_type": "stream",
     "text": [
      "/var/folders/_r/2f7t_cz14232jqp3576_p04m0000gn/T/ipykernel_55542/689711799.py:20: FutureWarning: The frame.append method is deprecated and will be removed from pandas in a future version. Use pandas.concat instead.\n",
      "  ablation = ablation.append(df_stid[['Datetime', 'stid', 'Ablation']])\n",
      "/var/folders/_r/2f7t_cz14232jqp3576_p04m0000gn/T/ipykernel_55542/689711799.py:20: FutureWarning: The frame.append method is deprecated and will be removed from pandas in a future version. Use pandas.concat instead.\n",
      "  ablation = ablation.append(df_stid[['Datetime', 'stid', 'Ablation']])\n"
     ]
    },
    {
     "name": "stdout",
     "output_type": "stream",
     "text": [
      "Calculating ZAK_Uv3\n",
      "Calculating ZAK_U\n"
     ]
    },
    {
     "name": "stderr",
     "output_type": "stream",
     "text": [
      "/var/folders/_r/2f7t_cz14232jqp3576_p04m0000gn/T/ipykernel_55542/689711799.py:20: FutureWarning: The frame.append method is deprecated and will be removed from pandas in a future version. Use pandas.concat instead.\n",
      "  ablation = ablation.append(df_stid[['Datetime', 'stid', 'Ablation']])\n",
      "/var/folders/_r/2f7t_cz14232jqp3576_p04m0000gn/T/ipykernel_55542/689711799.py:20: FutureWarning: The frame.append method is deprecated and will be removed from pandas in a future version. Use pandas.concat instead.\n",
      "  ablation = ablation.append(df_stid[['Datetime', 'stid', 'Ablation']])\n"
     ]
    }
   ],
   "source": [
    "ablation = pd.DataFrame() # Create an empty dataframe to store the filtered and modified dataframes\n",
    "\n",
    "for station in station_list:\n",
    "    \n",
    "    print(\"Calculating\" , station)\n",
    "    df_stid = df[df['stid'] == station].copy()\n",
    "    \n",
    "    # defining ice ablation period   \n",
    "    smoothed_PT =  df_stid['z_pt_cor'].interpolate(limit=72).rolling('14D', min_periods=1).mean().shift(-7*14/2, freq='h')\n",
    "    smoothed_PT = smoothed_PT.rolling('14D', min_periods=1).mean().shift(-7*14/2, freq='h')\n",
    "\n",
    "    threshold_ablation = -0.0002 # Modify value if needed\n",
    "    ind_ablation = np.logical_and(smoothed_PT.diff().values < threshold_ablation, \n",
    "                                  np.isin(smoothed_PT.diff().index.month, [6, 7, 8, 9]))\n",
    "\n",
    "    ind_ablation = np.concatenate((ind_ablation[4*24:], np.repeat(ind_ablation[-(4*24):-(4*24-1)], 4*24)))\n",
    "\n",
    "    df_stid['Ablation'] = ind_ablation.tolist()\n",
    "    df_stid['stid'] = station # Add a column for the current station\n",
    "    ablation = ablation.append(df_stid[['Datetime', 'stid', 'Ablation']])\n",
    "    \n",
    "# Merge the new column with the original dataframe based on datetime and station\n",
    "df = pd.merge(df, ablation, on=['Datetime', 'stid'], how='left')\n"
   ]
  },
  {
   "cell_type": "markdown",
   "metadata": {},
   "source": [
    "**Adding Melting Seasons of Ice Ablation Periods**"
   ]
  },
  {
   "cell_type": "code",
   "execution_count": 22,
   "metadata": {},
   "outputs": [],
   "source": [
    "# add headers\n",
    "os.chdir('/Users/nilsfulde/Desktop/Master_Thesis') #Comment this out\n",
    "\n",
    "header = pd.read_csv('metadata/promice_header.csv', sep = \";\")\n",
    "df = df.rename(columns = header.set_index('standard_name')['units']) # Header Names are shifted in csv file"
   ]
  },
  {
   "cell_type": "code",
   "execution_count": 23,
   "metadata": {},
   "outputs": [
    {
     "name": "stdout",
     "output_type": "stream",
     "text": [
      "Calculating CEN1\n",
      "Calculating CEN2\n",
      "Calculating CP1\n",
      "Calculating DY2\n",
      "Calculating EGP\n",
      "Calculating HUM\n",
      "Calculating JAR\n",
      "Calculating JAR_O\n",
      "Calculating KAN_B\n",
      "Calculating KAN_L\n",
      "Calculating KAN_M\n",
      "Calculating KAN_U\n",
      "Calculating KPC_Lv3\n",
      "Calculating KPC_L\n",
      "Calculating KPC_Uv3\n",
      "Calculating KPC_U\n",
      "Calculating LYN_L\n",
      "Calculating LYN_T\n",
      "Calculating MIT\n",
      "Calculating NAE\n",
      "Calculating NAU\n",
      "Calculating NEM\n",
      "Calculating NSE\n",
      "Calculating NUK_K\n",
      "Calculating NUK_L\n",
      "Calculating NUK_N\n",
      "Calculating NUK_Uv3\n",
      "Calculating NUK_U\n",
      "Calculating QAS_A\n",
      "Calculating QAS_Lv3\n",
      "Calculating QAS_L\n",
      "Calculating QAS_M\n",
      "Calculating QAS_Uv3\n",
      "Calculating QAS_U\n",
      "Calculating Roof_GEUS\n",
      "Calculating Roof_PROMICE\n",
      "Calculating SCO_L\n",
      "Calculating SCO_U\n",
      "Calculating SDL\n",
      "Calculating SDM\n",
      "Calculating SWC\n",
      "Calculating SWC_O\n",
      "Calculating TAS_A\n",
      "Calculating TAS_L\n",
      "Calculating TAS_U\n",
      "Calculating THU_L2\n",
      "Calculating THU_L\n",
      "Calculating THU_U2\n",
      "Calculating THU_U\n",
      "Calculating TUN\n",
      "Calculating UPE_L\n",
      "Calculating UPE_U\n",
      "Calculating UWN\n",
      "Calculating WEG_B\n",
      "Calculating ZAK_L\n",
      "Calculating ZAK_Uv3\n",
      "Calculating ZAK_U\n"
     ]
    }
   ],
   "source": [
    "# add delta column \n",
    "delta = pd.DataFrame() # Create an empty dataframe to store the filtered and modified dataframes\n",
    "\n",
    "for station in station_list:\n",
    "    print(\"Calculating\", station)\n",
    "    df_stid = df[df['stid'] == station].copy()\n",
    "    df_stid['Surface height from combined measurements DELTA'] = df_stid['Surface height from combined measurements'].diff()\n",
    "    df_stid['stid'] = station # Add a column for the current station\n",
    "    delta = delta.append(df_stid[['Datetime', 'stid', 'Surface height from combined measurements DELTA']])\n",
    "\n",
    "# Merge the new column with the original dataframe based on datetime and station\n",
    "df = pd.merge(df, delta, on=['Datetime', 'stid'], how='left')\n",
    "\n"
   ]
  },
  {
   "cell_type": "code",
   "execution_count": 24,
   "metadata": {},
   "outputs": [
    {
     "name": "stdout",
     "output_type": "stream",
     "text": [
      "Calculating CEN1\n",
      "   Calculating 2017\n",
      "   Calculating 2018\n",
      "   Calculating 2019\n",
      "   Calculating 2020\n",
      "   Calculating 2021\n",
      "Calculating CEN2\n",
      "   Calculating 1995\n",
      "   Calculating 1996\n",
      "   Calculating 1997\n",
      "   Calculating 1998\n",
      "   Calculating 1999\n",
      "   Calculating 2000\n",
      "   Calculating 2001\n",
      "   Calculating 2002\n",
      "   Calculating 2003\n",
      "   Calculating 2004\n",
      "   Calculating 2005\n",
      "   Calculating 2006\n",
      "   Calculating 2007\n",
      "   Calculating 2008\n",
      "   Calculating 2009\n",
      "   Calculating 2010\n",
      "   Calculating 2011\n",
      "   Calculating 2012\n",
      "   Calculating 2013\n",
      "   Calculating 2014\n",
      "   Calculating 2015\n",
      "   Calculating 2016\n",
      "   Calculating 2017\n",
      "   Calculating 2018\n",
      "   Calculating 2019\n",
      "   Calculating 2020\n",
      "   Calculating 2021\n",
      "   Calculating 2022\n",
      "Calculating CP1\n",
      "   Calculating 1995\n",
      "   Calculating 1996\n",
      "   Calculating 1997\n",
      "   Calculating 1998\n",
      "   Calculating 1999\n",
      "   Calculating 2000\n",
      "   Calculating 2001\n",
      "   Calculating 2002\n",
      "   Calculating 2003\n",
      "   Calculating 2004\n",
      "   Calculating 2005\n",
      "   Calculating 2006\n",
      "   Calculating 2007\n",
      "   Calculating 2008\n",
      "   Calculating 2009\n",
      "   Calculating 2010\n",
      "   Calculating 2011\n",
      "   Calculating 2012\n",
      "   Calculating 2013\n",
      "   Calculating 2014\n",
      "   Calculating 2015\n",
      "   Calculating 2016\n",
      "   Calculating 2017\n",
      "   Calculating 2018\n",
      "   Calculating 2019\n",
      "   Calculating 2020\n",
      "   Calculating 2021\n",
      "   Calculating 2022\n",
      "   Calculating 2023\n",
      "Calculating DY2\n",
      "   Calculating 1996\n",
      "   Calculating 1997\n",
      "   Calculating 1998\n",
      "   Calculating 1999\n",
      "   Calculating 2000\n",
      "   Calculating 2001\n",
      "   Calculating 2002\n",
      "   Calculating 2003\n",
      "   Calculating 2004\n",
      "   Calculating 2005\n",
      "   Calculating 2006\n",
      "   Calculating 2007\n",
      "   Calculating 2008\n",
      "   Calculating 2009\n",
      "   Calculating 2010\n",
      "   Calculating 2011\n",
      "   Calculating 2012\n",
      "   Calculating 2013\n",
      "   Calculating 2014\n",
      "   Calculating 2015\n",
      "   Calculating 2016\n",
      "   Calculating 2017\n",
      "   Calculating 2018\n",
      "   Calculating 2019\n",
      "   Calculating 2020\n",
      "   Calculating 2021\n",
      "   Calculating 2022\n",
      "   Calculating 2023\n",
      "Calculating EGP\n",
      "   Calculating 2016\n",
      "   Calculating 2017\n",
      "   Calculating 2018\n",
      "   Calculating 2019\n",
      "   Calculating 2020\n",
      "   Calculating 2021\n",
      "   Calculating 2022\n",
      "   Calculating 2023\n",
      "Calculating HUM\n",
      "   Calculating 1995\n",
      "   Calculating 1996\n",
      "   Calculating 1997\n",
      "   Calculating 1998\n",
      "   Calculating 1999\n",
      "   Calculating 2000\n",
      "   Calculating 2001\n",
      "   Calculating 2002\n",
      "   Calculating 2003\n",
      "   Calculating 2004\n",
      "   Calculating 2005\n",
      "   Calculating 2006\n",
      "   Calculating 2007\n",
      "   Calculating 2008\n",
      "   Calculating 2009\n",
      "   Calculating 2010\n",
      "   Calculating 2011\n",
      "   Calculating 2012\n",
      "   Calculating 2013\n",
      "   Calculating 2014\n",
      "   Calculating 2015\n",
      "   Calculating 2016\n",
      "   Calculating 2017\n",
      "   Calculating 2018\n",
      "   Calculating 2019\n",
      "   Calculating 2020\n",
      "   Calculating 2021\n",
      "   Calculating 2022\n",
      "   Calculating 2023\n",
      "Calculating JAR\n",
      "   Calculating 1996\n",
      "   Calculating 1997\n",
      "   Calculating 1998\n",
      "   Calculating 1999\n",
      "   Calculating 2000\n",
      "   Calculating 2001\n",
      "   Calculating 2002\n",
      "   Calculating 2003\n",
      "   Calculating 2004\n",
      "   Calculating 2005\n",
      "   Calculating 2006\n",
      "   Calculating 2007\n",
      "   Calculating 2008\n",
      "   Calculating 2009\n",
      "   Calculating 2010\n",
      "   Calculating 2011\n",
      "   Calculating 2012\n",
      "   Calculating 2013\n",
      "   Calculating 2014\n",
      "   Calculating 2015\n",
      "   Calculating 2016\n",
      "   Calculating 2017\n",
      "   Calculating 2018\n",
      "   Calculating 2019\n",
      "   Calculating 2021\n",
      "   Calculating 2022\n",
      "   Calculating 2023\n",
      "Calculating JAR_O\n",
      "   Calculating 2022\n",
      "   Calculating 2023\n",
      "Calculating KAN_B\n",
      "   Calculating 2011\n",
      "   Calculating 2012\n",
      "   Calculating 2013\n",
      "   Calculating 2014\n",
      "   Calculating 2015\n",
      "   Calculating 2016\n",
      "   Calculating 2017\n",
      "   Calculating 2018\n",
      "   Calculating 2019\n",
      "   Calculating 2020\n",
      "   Calculating 2021\n",
      "   Calculating 2022\n",
      "   Calculating 2023\n",
      "Calculating KAN_L\n",
      "   Calculating 2008\n",
      "   Calculating 2009\n",
      "   Calculating 2010\n",
      "   Calculating 2011\n",
      "   Calculating 2012\n",
      "   Calculating 2013\n",
      "   Calculating 2014\n",
      "   Calculating 2015\n",
      "   Calculating 2016\n",
      "   Calculating 2017\n",
      "   Calculating 2018\n",
      "   Calculating 2019\n",
      "   Calculating 2020\n",
      "   Calculating 2021\n",
      "   Calculating 2022\n",
      "   Calculating 2023\n",
      "Calculating KAN_M\n",
      "   Calculating 2008\n",
      "   Calculating 2009\n",
      "   Calculating 2010\n",
      "   Calculating 2011\n",
      "   Calculating 2012\n",
      "   Calculating 2013\n",
      "   Calculating 2014\n",
      "   Calculating 2015\n",
      "   Calculating 2016\n",
      "   Calculating 2017\n",
      "   Calculating 2018\n",
      "   Calculating 2019\n",
      "   Calculating 2020\n",
      "   Calculating 2021\n",
      "   Calculating 2022\n",
      "   Calculating 2023\n",
      "Calculating KAN_U\n",
      "   Calculating 2008\n",
      "   Calculating 2009\n",
      "   Calculating 2010\n",
      "   Calculating 2011\n",
      "   Calculating 2012\n",
      "   Calculating 2013\n",
      "   Calculating 2014\n",
      "   Calculating 2015\n",
      "   Calculating 2016\n",
      "   Calculating 2017\n",
      "   Calculating 2018\n",
      "   Calculating 2019\n",
      "   Calculating 2020\n",
      "   Calculating 2021\n",
      "   Calculating 2022\n",
      "   Calculating 2023\n",
      "Calculating KPC_Lv3\n",
      "   Calculating 2022\n",
      "   Calculating 2023\n",
      "Calculating KPC_L\n",
      "   Calculating 2008\n",
      "   Calculating 2009\n",
      "   Calculating 2010\n",
      "   Calculating 2011\n",
      "   Calculating 2012\n",
      "   Calculating 2013\n",
      "   Calculating 2014\n",
      "   Calculating 2015\n",
      "   Calculating 2016\n",
      "   Calculating 2017\n",
      "   Calculating 2018\n",
      "   Calculating 2019\n",
      "   Calculating 2020\n",
      "   Calculating 2021\n",
      "   Calculating 2022\n",
      "   Calculating 2023\n",
      "Calculating KPC_Uv3\n",
      "   Calculating 2022\n",
      "   Calculating 2023\n",
      "Calculating KPC_U\n",
      "   Calculating 2008\n",
      "   Calculating 2009\n",
      "   Calculating 2010\n",
      "   Calculating 2011\n",
      "   Calculating 2012\n",
      "   Calculating 2013\n",
      "   Calculating 2014\n",
      "   Calculating 2015\n",
      "   Calculating 2016\n",
      "   Calculating 2017\n",
      "   Calculating 2018\n",
      "   Calculating 2019\n",
      "   Calculating 2020\n",
      "   Calculating 2021\n",
      "   Calculating 2022\n",
      "   Calculating 2023\n",
      "Calculating LYN_L\n",
      "   Calculating 2021\n",
      "   Calculating 2022\n",
      "   Calculating 2023\n",
      "Calculating LYN_T\n",
      "   Calculating 2021\n",
      "   Calculating 2022\n",
      "   Calculating 2023\n",
      "Calculating MIT\n",
      "   Calculating 2009\n",
      "   Calculating 2010\n",
      "   Calculating 2011\n",
      "   Calculating 2012\n",
      "   Calculating 2013\n",
      "   Calculating 2014\n",
      "   Calculating 2015\n",
      "   Calculating 2016\n",
      "   Calculating 2017\n",
      "   Calculating 2018\n",
      "   Calculating 2019\n",
      "   Calculating 2020\n",
      "   Calculating 2021\n",
      "   Calculating 2022\n",
      "   Calculating 2023\n",
      "Calculating NAE\n",
      "   Calculating 1997\n",
      "   Calculating 1998\n",
      "   Calculating 1999\n",
      "   Calculating 2000\n",
      "   Calculating 2001\n",
      "   Calculating 2002\n",
      "   Calculating 2003\n",
      "   Calculating 2004\n",
      "   Calculating 2005\n",
      "   Calculating 2006\n",
      "   Calculating 2007\n",
      "   Calculating 2008\n",
      "   Calculating 2009\n",
      "   Calculating 2010\n",
      "   Calculating 2011\n",
      "   Calculating 2012\n",
      "   Calculating 2013\n",
      "   Calculating 2014\n",
      "   Calculating 2015\n",
      "   Calculating 2016\n",
      "   Calculating 2017\n",
      "   Calculating 2018\n",
      "   Calculating 2019\n",
      "   Calculating 2020\n",
      "   Calculating 2021\n",
      "   Calculating 2022\n",
      "Calculating NAU\n",
      "   Calculating 1995\n",
      "   Calculating 1996\n",
      "   Calculating 1997\n",
      "   Calculating 1998\n",
      "   Calculating 1999\n",
      "   Calculating 2000\n",
      "   Calculating 2001\n",
      "   Calculating 2002\n",
      "   Calculating 2003\n",
      "   Calculating 2004\n",
      "   Calculating 2005\n",
      "   Calculating 2006\n",
      "   Calculating 2007\n",
      "   Calculating 2008\n",
      "   Calculating 2009\n",
      "   Calculating 2010\n",
      "   Calculating 2011\n",
      "   Calculating 2012\n",
      "   Calculating 2013\n",
      "   Calculating 2014\n",
      "   Calculating 2015\n",
      "   Calculating 2016\n",
      "   Calculating 2017\n",
      "   Calculating 2018\n",
      "   Calculating 2019\n",
      "   Calculating 2020\n",
      "   Calculating 2021\n",
      "   Calculating 2022\n",
      "   Calculating 2023\n",
      "Calculating NEM\n",
      "   Calculating 2006\n",
      "   Calculating 2007\n",
      "   Calculating 2008\n",
      "   Calculating 2009\n",
      "   Calculating 2010\n",
      "   Calculating 2011\n",
      "   Calculating 2012\n",
      "   Calculating 2013\n",
      "   Calculating 2014\n",
      "   Calculating 2015\n",
      "   Calculating 2016\n",
      "   Calculating 2017\n",
      "   Calculating 2018\n",
      "   Calculating 2019\n",
      "   Calculating 2020\n",
      "   Calculating 2021\n",
      "   Calculating 2022\n",
      "Calculating NSE\n",
      "   Calculating 1998\n",
      "   Calculating 1999\n",
      "   Calculating 2000\n",
      "   Calculating 2001\n",
      "   Calculating 2002\n",
      "   Calculating 2003\n",
      "   Calculating 2004\n",
      "   Calculating 2005\n",
      "   Calculating 2006\n",
      "   Calculating 2007\n",
      "   Calculating 2008\n",
      "   Calculating 2009\n",
      "   Calculating 2010\n",
      "   Calculating 2011\n",
      "   Calculating 2012\n",
      "   Calculating 2013\n",
      "   Calculating 2014\n",
      "   Calculating 2015\n",
      "   Calculating 2016\n",
      "   Calculating 2017\n",
      "   Calculating 2018\n",
      "   Calculating 2019\n",
      "   Calculating 2021\n",
      "   Calculating 2022\n",
      "   Calculating 2023\n",
      "Calculating NUK_K\n",
      "   Calculating 2014\n",
      "   Calculating 2015\n",
      "   Calculating 2016\n",
      "   Calculating 2017\n",
      "   Calculating 2018\n",
      "   Calculating 2019\n",
      "   Calculating 2020\n",
      "   Calculating 2021\n",
      "   Calculating 2022\n",
      "   Calculating 2023\n",
      "Calculating NUK_L\n",
      "   Calculating 2007\n",
      "   Calculating 2008\n",
      "   Calculating 2009\n",
      "   Calculating 2010\n",
      "   Calculating 2011\n",
      "   Calculating 2012\n",
      "   Calculating 2013\n",
      "   Calculating 2014\n"
     ]
    },
    {
     "name": "stdout",
     "output_type": "stream",
     "text": [
      "   Calculating 2015\n",
      "   Calculating 2016\n",
      "   Calculating 2017\n",
      "   Calculating 2018\n",
      "   Calculating 2019\n",
      "   Calculating 2020\n",
      "   Calculating 2021\n",
      "   Calculating 2022\n",
      "   Calculating 2023\n",
      "Calculating NUK_N\n",
      "   Calculating 2010\n",
      "   Calculating 2011\n",
      "   Calculating 2012\n",
      "   Calculating 2013\n",
      "   Calculating 2014\n",
      "Calculating NUK_Uv3\n",
      "   Calculating 2020\n",
      "   Calculating 2021\n",
      "   Calculating 2022\n",
      "   Calculating 2023\n",
      "Calculating NUK_U\n",
      "   Calculating 2007\n",
      "   Calculating 2008\n",
      "   Calculating 2009\n",
      "   Calculating 2010\n",
      "   Calculating 2011\n",
      "   Calculating 2012\n",
      "   Calculating 2013\n",
      "   Calculating 2014\n",
      "   Calculating 2015\n",
      "   Calculating 2016\n",
      "   Calculating 2017\n",
      "   Calculating 2018\n",
      "   Calculating 2019\n",
      "   Calculating 2020\n",
      "   Calculating 2021\n",
      "   Calculating 2022\n",
      "Calculating QAS_A\n",
      "   Calculating 2012\n",
      "   Calculating 2013\n",
      "   Calculating 2014\n",
      "   Calculating 2015\n",
      "Calculating QAS_Lv3\n",
      "   Calculating 2022\n",
      "   Calculating 2023\n",
      "Calculating QAS_L\n",
      "   Calculating 2007\n",
      "   Calculating 2008\n",
      "   Calculating 2009\n",
      "   Calculating 2010\n",
      "   Calculating 2011\n",
      "   Calculating 2012\n",
      "   Calculating 2013\n",
      "   Calculating 2014\n",
      "   Calculating 2015\n",
      "   Calculating 2016\n",
      "   Calculating 2017\n",
      "   Calculating 2018\n",
      "   Calculating 2019\n",
      "   Calculating 2020\n",
      "   Calculating 2021\n",
      "   Calculating 2022\n",
      "   Calculating 2023\n",
      "Calculating QAS_M\n",
      "   Calculating 2016\n",
      "   Calculating 2017\n",
      "   Calculating 2018\n",
      "   Calculating 2019\n",
      "   Calculating 2020\n",
      "   Calculating 2021\n",
      "   Calculating 2022\n",
      "Calculating QAS_Uv3\n",
      "   Calculating 2020\n",
      "   Calculating 2021\n",
      "   Calculating 2022\n",
      "   Calculating 2023\n",
      "Calculating QAS_U\n",
      "   Calculating 2008\n",
      "   Calculating 2009\n",
      "   Calculating 2010\n",
      "   Calculating 2011\n",
      "   Calculating 2012\n",
      "   Calculating 2013\n",
      "   Calculating 2014\n",
      "   Calculating 2015\n",
      "   Calculating 2016\n",
      "   Calculating 2017\n",
      "   Calculating 2018\n",
      "   Calculating 2019\n",
      "   Calculating 2020\n",
      "   Calculating 2021\n",
      "   Calculating 2022\n",
      "   Calculating 2023\n",
      "Calculating Roof_GEUS\n",
      "   Calculating 2022\n",
      "   Calculating 2023\n",
      "Calculating Roof_PROMICE\n",
      "   Calculating 2022\n",
      "   Calculating 2023\n",
      "Calculating SCO_L\n",
      "   Calculating 2008\n",
      "   Calculating 2009\n",
      "   Calculating 2010\n",
      "   Calculating 2011\n",
      "   Calculating 2012\n",
      "   Calculating 2013\n",
      "   Calculating 2014\n",
      "   Calculating 2015\n",
      "   Calculating 2016\n",
      "   Calculating 2017\n",
      "   Calculating 2018\n",
      "   Calculating 2019\n",
      "   Calculating 2020\n",
      "   Calculating 2021\n",
      "   Calculating 2022\n",
      "   Calculating 2023\n",
      "Calculating SCO_U\n",
      "   Calculating 2008\n",
      "   Calculating 2009\n",
      "   Calculating 2010\n",
      "   Calculating 2011\n",
      "   Calculating 2012\n",
      "   Calculating 2013\n",
      "   Calculating 2014\n",
      "   Calculating 2015\n",
      "   Calculating 2016\n",
      "   Calculating 2017\n",
      "   Calculating 2018\n",
      "   Calculating 2019\n",
      "   Calculating 2020\n",
      "   Calculating 2021\n",
      "   Calculating 2022\n",
      "   Calculating 2023\n",
      "Calculating SDL\n",
      "   Calculating 1997\n",
      "   Calculating 1998\n",
      "   Calculating 1999\n",
      "   Calculating 2000\n",
      "   Calculating 2001\n",
      "   Calculating 2002\n",
      "   Calculating 2003\n",
      "   Calculating 2004\n",
      "   Calculating 2005\n",
      "   Calculating 2006\n",
      "   Calculating 2007\n",
      "   Calculating 2008\n",
      "   Calculating 2009\n",
      "   Calculating 2010\n",
      "   Calculating 2011\n",
      "   Calculating 2012\n",
      "   Calculating 2013\n",
      "   Calculating 2014\n",
      "   Calculating 2015\n",
      "   Calculating 2016\n",
      "   Calculating 2017\n",
      "   Calculating 2018\n",
      "   Calculating 2019\n",
      "   Calculating 2020\n",
      "   Calculating 2021\n",
      "   Calculating 2022\n",
      "Calculating SDM\n",
      "   Calculating 1997\n",
      "   Calculating 1998\n",
      "   Calculating 1999\n",
      "   Calculating 2000\n",
      "   Calculating 2001\n",
      "   Calculating 2002\n",
      "   Calculating 2003\n",
      "   Calculating 2004\n",
      "   Calculating 2005\n",
      "   Calculating 2006\n",
      "   Calculating 2007\n",
      "   Calculating 2008\n",
      "   Calculating 2009\n",
      "   Calculating 2010\n",
      "   Calculating 2011\n",
      "   Calculating 2012\n",
      "   Calculating 2013\n",
      "   Calculating 2014\n",
      "   Calculating 2015\n",
      "   Calculating 2016\n",
      "   Calculating 2017\n",
      "   Calculating 2018\n",
      "   Calculating 2019\n",
      "   Calculating 2020\n",
      "   Calculating 2021\n",
      "   Calculating 2022\n",
      "   Calculating 2023\n",
      "Calculating SWC\n",
      "   Calculating 1990\n",
      "   Calculating 1991\n",
      "   Calculating 1992\n",
      "   Calculating 1993\n",
      "   Calculating 1994\n",
      "   Calculating 1995\n",
      "   Calculating 1996\n",
      "   Calculating 1997\n",
      "   Calculating 1998\n",
      "   Calculating 1999\n",
      "   Calculating 2000\n",
      "   Calculating 2001\n",
      "   Calculating 2002\n",
      "   Calculating 2003\n",
      "   Calculating 2004\n",
      "   Calculating 2005\n",
      "   Calculating 2006\n",
      "   Calculating 2007\n",
      "   Calculating 2008\n",
      "   Calculating 2009\n",
      "   Calculating 2010\n",
      "   Calculating 2011\n",
      "   Calculating 2012\n",
      "   Calculating 2013\n",
      "   Calculating 2014\n",
      "   Calculating 2015\n",
      "   Calculating 2016\n",
      "   Calculating 2017\n",
      "   Calculating 2018\n",
      "   Calculating 2019\n",
      "   Calculating 2020\n",
      "   Calculating 2021\n",
      "   Calculating 2022\n",
      "   Calculating 2023\n",
      "Calculating SWC_O\n",
      "   Calculating 2022\n",
      "   Calculating 2023\n",
      "Calculating TAS_A\n",
      "   Calculating 2015\n",
      "   Calculating 2016\n",
      "   Calculating 2017\n",
      "   Calculating 2018\n",
      "   Calculating 2019\n",
      "   Calculating 2020\n",
      "   Calculating 2021\n",
      "   Calculating 2022\n",
      "   Calculating 2023\n",
      "Calculating TAS_L\n",
      "   Calculating 2007\n",
      "   Calculating 2008\n",
      "   Calculating 2009\n",
      "   Calculating 2010\n",
      "   Calculating 2011\n",
      "   Calculating 2012\n",
      "   Calculating 2013\n",
      "   Calculating 2014\n",
      "   Calculating 2015\n",
      "   Calculating 2016\n",
      "   Calculating 2017\n",
      "   Calculating 2018\n",
      "   Calculating 2019\n",
      "   Calculating 2020\n",
      "   Calculating 2021\n",
      "   Calculating 2022\n",
      "   Calculating 2023\n",
      "Calculating TAS_U\n",
      "   Calculating 2008\n",
      "   Calculating 2009\n",
      "   Calculating 2010\n",
      "   Calculating 2011\n",
      "   Calculating 2012\n",
      "   Calculating 2013\n",
      "   Calculating 2014\n",
      "   Calculating 2015\n",
      "Calculating THU_L2\n",
      "   Calculating 2021\n",
      "   Calculating 2022\n",
      "   Calculating 2023\n",
      "Calculating THU_L\n",
      "   Calculating 2010\n",
      "   Calculating 2011\n",
      "   Calculating 2012\n",
      "   Calculating 2013\n",
      "   Calculating 2014\n",
      "   Calculating 2015\n",
      "   Calculating 2016\n",
      "   Calculating 2017\n",
      "   Calculating 2018\n",
      "   Calculating 2019\n",
      "   Calculating 2020\n",
      "   Calculating 2021\n",
      "   Calculating 2022\n",
      "   Calculating 2023\n",
      "Calculating THU_U2\n",
      "   Calculating 2018\n",
      "   Calculating 2019\n",
      "   Calculating 2020\n",
      "   Calculating 2021\n",
      "   Calculating 2022\n",
      "   Calculating 2023\n",
      "Calculating THU_U\n",
      "   Calculating 2011\n",
      "   Calculating 2012\n",
      "   Calculating 2013\n",
      "   Calculating 2014\n",
      "   Calculating 2015\n",
      "   Calculating 2016\n",
      "   Calculating 2017\n",
      "   Calculating 2018\n",
      "   Calculating 2019\n",
      "   Calculating 2020\n",
      "   Calculating 2021\n",
      "   Calculating 2022\n",
      "Calculating TUN\n",
      "   Calculating 1996\n",
      "   Calculating 1997\n",
      "   Calculating 1998\n",
      "   Calculating 1999\n",
      "   Calculating 2000\n",
      "   Calculating 2001\n",
      "   Calculating 2002\n",
      "   Calculating 2003\n",
      "   Calculating 2004\n",
      "   Calculating 2005\n",
      "   Calculating 2006\n",
      "   Calculating 2007\n",
      "   Calculating 2008\n",
      "   Calculating 2009\n",
      "   Calculating 2010\n",
      "   Calculating 2011\n",
      "   Calculating 2012\n",
      "   Calculating 2013\n",
      "   Calculating 2014\n",
      "   Calculating 2015\n",
      "   Calculating 2016\n",
      "   Calculating 2017\n",
      "   Calculating 2018\n",
      "   Calculating 2019\n",
      "   Calculating 2020\n",
      "   Calculating 2021\n",
      "   Calculating 2022\n",
      "Calculating UPE_L\n",
      "   Calculating 2009\n",
      "   Calculating 2010\n",
      "   Calculating 2011\n",
      "   Calculating 2012\n",
      "   Calculating 2013\n",
      "   Calculating 2014\n",
      "   Calculating 2015\n",
      "   Calculating 2016\n",
      "   Calculating 2017\n",
      "   Calculating 2018\n",
      "   Calculating 2019\n",
      "   Calculating 2020\n",
      "   Calculating 2021\n",
      "   Calculating 2022\n",
      "   Calculating 2023\n",
      "Calculating UPE_U\n",
      "   Calculating 2009\n",
      "   Calculating 2010\n",
      "   Calculating 2011\n",
      "   Calculating 2012\n",
      "   Calculating 2013\n",
      "   Calculating 2014\n",
      "   Calculating 2015\n",
      "   Calculating 2016\n",
      "   Calculating 2017\n",
      "   Calculating 2018\n",
      "   Calculating 2019\n",
      "   Calculating 2020\n",
      "   Calculating 2021\n",
      "   Calculating 2022\n",
      "   Calculating 2023\n",
      "Calculating UWN\n",
      "   Calculating 2020\n",
      "   Calculating 2021\n",
      "   Calculating 2022\n",
      "   Calculating 2023\n",
      "Calculating WEG_B\n",
      "   Calculating 2022\n",
      "   Calculating 2023\n",
      "Calculating ZAK_L\n",
      "   Calculating 2008\n",
      "   Calculating 2009\n",
      "   Calculating 2010\n",
      "   Calculating 2011\n",
      "   Calculating 2012\n",
      "   Calculating 2013\n",
      "   Calculating 2014\n",
      "   Calculating 2015\n",
      "   Calculating 2016\n",
      "   Calculating 2017\n",
      "   Calculating 2018\n",
      "   Calculating 2019\n",
      "   Calculating 2020\n",
      "   Calculating 2021\n",
      "   Calculating 2022\n",
      "   Calculating 2023\n",
      "Calculating ZAK_Uv3\n",
      "   Calculating 2022\n",
      "Calculating ZAK_U\n",
      "   Calculating 2019\n",
      "   Calculating 2020\n",
      "   Calculating 2021\n",
      "   Calculating 2022\n"
     ]
    }
   ],
   "source": [
    "# This bit to add a beginning, middle & end of melting season attribute\n",
    "beginning = 0.15\n",
    "end = 0.85\n",
    "df[\"Datetime\"] = pd.to_datetime(df[\"Datetime\"], format=\"%Y-%m-%d %H:%M:%S\")\n",
    "\n",
    "melting_season = pd.DataFrame() # Create an empty dataframe to store the filtered and modified dataframes\n",
    "\n",
    "\n",
    "for station in station_list:\n",
    "    \n",
    "    print(\"Calculating\" , station)\n",
    "    df_stid = df[df['stid'] == station].copy() \n",
    "    \n",
    "    # Iterate over each year\n",
    "    for year in df_stid['Datetime'].dt.year.unique():\n",
    "\n",
    "        print(\"   Calculating\" , year)\n",
    "\n",
    "        # Get the dataframe for the current year\n",
    "        year_df = df_stid[df_stid['Datetime'].dt.year == year]\n",
    "\n",
    "        # Determine the threshold values for the beginning and end of the melting season\n",
    "        ablation_df = year_df[year_df['Ablation'] == True]\n",
    "        lower_threshold = ablation_df['Datetime'].dt.dayofyear.quantile(beginning)\n",
    "        upper_threshold = ablation_df['Datetime'].dt.dayofyear.quantile(end)\n",
    "\n",
    "        # Set the Melting Season value for each row in the current year\n",
    "        for index, row in year_df.iterrows():\n",
    "\n",
    "            if row['Ablation'] == True:\n",
    "                if row['Datetime'].dayofyear <= lower_threshold:\n",
    "                    df_stid.loc[index, 'Melting Season'] = 'beginning'\n",
    "                elif row['Datetime'].dayofyear >= upper_threshold:\n",
    "                    df_stid.loc[index, 'Melting Season'] = 'end'\n",
    "                else:\n",
    "                    df_stid.loc[index, 'Melting Season'] = 'middle'\n",
    "            else:\n",
    "                df_stid.loc[index, 'Melting Season'] = ''\n",
    "    \n",
    "    df_stid['stid'] = station # Add a column for the current station\n",
    "    melting_season = melting_season.append(df_stid[['Datetime', 'stid', 'Melting Season']])\n",
    "                \n",
    "# Merge the new column with the original dataframe based on datetime and station\n",
    "df = pd.merge(df, melting_season, on=['Datetime', 'stid'], how='left')\n",
    "\n"
   ]
  },
  {
   "cell_type": "markdown",
   "metadata": {},
   "source": [
    "**Save File**"
   ]
  },
  {
   "cell_type": "code",
   "execution_count": 53,
   "metadata": {},
   "outputs": [],
   "source": [
    "os.chdir('/Users/nilsfulde/Desktop/GEUS-Master-Thesis')\n",
    "df.columns = df.columns.astype(str)\n",
    "# Save dataframe as parquet file\n",
    "df = df.drop('Surface height 10', axis=1)\n",
    "df.to_parquet(\"data/Promice_New_updated_.gzip\", compression=\"gzip\", engine='pyarrow', index=False)"
   ]
  },
  {
   "cell_type": "markdown",
   "metadata": {},
   "source": [
    "## KAN_L Only"
   ]
  },
  {
   "cell_type": "code",
   "execution_count": 6,
   "metadata": {},
   "outputs": [],
   "source": [
    "# If the code above was executed, then just filter by KAN_L:\n",
    "#df = df[df['stid'] == \"KAN_L\"].copy() \n",
    "\n",
    "#df.to_csv('KAN_L.csv', index=False)"
   ]
  },
  {
   "cell_type": "code",
   "execution_count": 22,
   "metadata": {},
   "outputs": [],
   "source": [
    "# Otherwise redo the steps just for KAN_L:\n",
    "\n",
    "os.chdir('/Users/nilsfulde/Desktop/GEUS-Master-Thesis')\n",
    "\n",
    "df = load_promice('data/new_promice/all_promice_data_daily.parquet.gzip')\n",
    "\n",
    "os.chdir('/Users/nilsfulde/Desktop/Master_Thesis')\n",
    "\n",
    "df = df[df[\"stid\"] == \"KAN_L\"]"
   ]
  },
  {
   "cell_type": "code",
   "execution_count": 23,
   "metadata": {},
   "outputs": [],
   "source": [
    "df = df.set_index(['Datetime'])"
   ]
  },
  {
   "cell_type": "code",
   "execution_count": 24,
   "metadata": {},
   "outputs": [
    {
     "name": "stdout",
     "output_type": "stream",
     "text": [
      "Calculating 2008\n",
      "Calculating 2009\n",
      "Calculating 2010\n",
      "Calculating 2011\n",
      "Calculating 2012\n",
      "Calculating 2013\n",
      "Calculating 2014\n",
      "Calculating 2015\n",
      "Calculating 2016\n",
      "Calculating 2017\n",
      "Calculating 2018\n",
      "Calculating 2019\n",
      "Calculating 2020\n",
      "Calculating 2021\n",
      "Calculating 2022\n",
      "Calculating 2023\n"
     ]
    }
   ],
   "source": [
    "# defining ice ablation period   \n",
    "smoothed_PT =  df['z_pt_cor'].interpolate(limit=72).rolling('14D', min_periods=1).mean().shift(-7*14/2, freq='h')\n",
    "smoothed_PT = smoothed_PT.rolling('14D', min_periods=1).mean().shift(-7*14/2, freq='h')\n",
    "\n",
    "threshold_ablation = -0.0002 # Modify value if needed\n",
    "ind_ablation = np.logical_and(smoothed_PT.diff().values < threshold_ablation, \n",
    "                              np.isin(smoothed_PT.diff().index.month, [6, 7, 8, 9]))\n",
    "\n",
    "ind_ablation = np.concatenate((ind_ablation[4*24:], np.repeat(ind_ablation[-(4*24):-(4*24-1)], 4*24)))\n",
    "\n",
    "df['Ablation'] = ind_ablation.tolist()\n",
    "\n",
    "# add headers\n",
    "header = pd.read_csv('metadata/promice_header.csv', sep = \";\")\n",
    "df = df.rename(columns = header.set_index('standard_name')['units']) # Headers are shifted in csv file\n",
    "\n",
    "\n",
    "# add delta column (Modification Needed)\n",
    "df['Surface height from combined measurements DELTA'] = df['Surface height from combined measurements'].diff()\n",
    "\n",
    "\n",
    "\n",
    "# This bit to add a beginning, middle & end of melting season attribute\n",
    "beginning = 0.15\n",
    "end = 0.85\n",
    "\n",
    "# Iterate over each year\n",
    "#df[\"Datetime\"] = pd.to_datetime(df[\"Datetime\"], format=\"%Y-%m-%d %H:%M:%S\")\n",
    "df[\"Datetime\"] = pd.to_datetime(df[\"date\"], format=\"%Y-%m-%d\")\n",
    "\n",
    "for year in df['Datetime'].dt.year.unique():\n",
    "    \n",
    "    print(\"Calculating\" , year)\n",
    "    \n",
    "    # Get the dataframe for the current year\n",
    "    year_df = df[df['Datetime'].dt.year == year]\n",
    "    \n",
    "    # Determine the threshold values for the beginning and end of the melting season\n",
    "    ablation_df = year_df[year_df['Ablation'] == True]\n",
    "    lower_threshold = ablation_df['Datetime'].dt.dayofyear.quantile(beginning)\n",
    "    upper_threshold = ablation_df['Datetime'].dt.dayofyear.quantile(end)\n",
    "    \n",
    "    # Set the Melting Season value for each row in the current year\n",
    "    for index, row in year_df.iterrows():\n",
    "        \n",
    "        if row['Ablation'] == True:\n",
    "            if row['Datetime'].dayofyear <= lower_threshold:\n",
    "                df.loc[index, 'Melting Season'] = 'beginning'\n",
    "            elif row['Datetime'].dayofyear >= upper_threshold:\n",
    "                df.loc[index, 'Melting Season'] = 'end'\n",
    "            else:\n",
    "                df.loc[index, 'Melting Season'] = 'middle'\n",
    "        else:\n",
    "            df.loc[index, 'Melting Season'] = ''\n",
    "            \n",
    "df.to_csv('data/KAN_L_daily.csv', index=False)"
   ]
  },
  {
   "cell_type": "code",
   "execution_count": null,
   "metadata": {},
   "outputs": [],
   "source": []
  }
 ],
 "metadata": {
  "colab": {
   "provenance": []
  },
  "kernelspec": {
   "display_name": "Python 3 (ipykernel)",
   "language": "python",
   "name": "python3"
  },
  "language_info": {
   "codemirror_mode": {
    "name": "ipython",
    "version": 3
   },
   "file_extension": ".py",
   "mimetype": "text/x-python",
   "name": "python",
   "nbconvert_exporter": "python",
   "pygments_lexer": "ipython3",
   "version": "3.8.8"
  },
  "vscode": {
   "interpreter": {
    "hash": "aee8b7b246df8f9039afb4144a1f6fd8d2ca17a180786b69acc140d282b71a49"
   }
  }
 },
 "nbformat": 4,
 "nbformat_minor": 1
}
