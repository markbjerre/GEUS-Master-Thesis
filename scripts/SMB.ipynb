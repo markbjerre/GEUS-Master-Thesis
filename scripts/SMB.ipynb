{
 "cells": [
  {
   "attachments": {},
   "cell_type": "markdown",
   "metadata": {},
   "source": [
    "# Surface Mass Balance "
   ]
  },
  {
   "cell_type": "markdown",
   "metadata": {
    "id": "FTbsuMgO3ery"
   },
   "source": [
    "Import relevant Libaries "
   ]
  },
  {
   "cell_type": "code",
   "execution_count": 74,
   "metadata": {},
   "outputs": [
    {
     "name": "stdout",
     "output_type": "stream",
     "text": [
      "Requirement already satisfied: pyarrow in /Library/Frameworks/Python.framework/Versions/3.9/lib/python3.9/site-packages (11.0.0)\n",
      "Requirement already satisfied: numpy>=1.16.6 in /Library/Frameworks/Python.framework/Versions/3.9/lib/python3.9/site-packages (from pyarrow) (1.22.2)\n",
      "\u001b[33mWARNING: You are using pip version 21.2.4; however, version 23.0.1 is available.\n",
      "You should consider upgrading via the '/usr/local/bin/python3 -m pip install --upgrade pip' command.\u001b[0m\n",
      "Note: you may need to restart the kernel to use updated packages.\n",
      "Requirement already satisfied: plotly in /Library/Frameworks/Python.framework/Versions/3.9/lib/python3.9/site-packages (5.13.0)\n",
      "Requirement already satisfied: tenacity>=6.2.0 in /Library/Frameworks/Python.framework/Versions/3.9/lib/python3.9/site-packages (from plotly) (8.2.1)\n",
      "\u001b[33mWARNING: You are using pip version 21.2.4; however, version 23.0.1 is available.\n",
      "You should consider upgrading via the '/usr/local/bin/python3 -m pip install --upgrade pip' command.\u001b[0m\n",
      "Note: you may need to restart the kernel to use updated packages.\n",
      "ERROR: unknown command \"update\"\n",
      "Note: you may need to restart the kernel to use updated packages.\n"
     ]
    }
   ],
   "source": [
    "%pip install pyarrow\n",
    "%pip install plotly\n",
    "%pip update pandas"
   ]
  },
  {
   "cell_type": "code",
   "execution_count": 75,
   "metadata": {
    "id": "yJLqdDNx3j-Y"
   },
   "outputs": [],
   "source": [
    "# Base libraries\n",
    "import pandas as pd\n",
    "import numpy as np\n",
    "import os\n",
    "import math as math\n",
    "import datetime\n",
    "from scipy import stats\n",
    "\n",
    "# Visualizations\n",
    "import matplotlib.pyplot as plt\n",
    "\n",
    "import plotly.express as px\n",
    "import plotly.graph_objects as go"
   ]
  },
  {
   "cell_type": "code",
   "execution_count": 76,
   "metadata": {},
   "outputs": [],
   "source": [
    "from scipy.interpolate import interp1d\n",
    "from sklearn.linear_model import LinearRegression\n",
    "import warnings\n",
    "warnings.filterwarnings(\"ignore\", category=RuntimeWarning)"
   ]
  },
  {
   "cell_type": "markdown",
   "metadata": {
    "id": "-ODOhsaMP7u_"
   },
   "source": [
    "Set WD"
   ]
  },
  {
   "cell_type": "code",
   "execution_count": 77,
   "metadata": {},
   "outputs": [],
   "source": [
    "import os\n",
    "\n",
    "from pyrsistent import v\n",
    "os.getcwd()\n",
    "os.chdir('/Users/asgerlyngeholst-hansen/Desktop/GEUS-Master-Thesis/')\n",
    "#os.chdir('C:\\\\Users\\\\nifu18ab\\\\Desktop\\\\GEUS-Master-Thesis')\n",
    "#os.chdir('/Users/nilsfulde/Desktop/GEUS-Master-Thesis')\n"
   ]
  },
  {
   "cell_type": "markdown",
   "metadata": {},
   "source": [
    "**Load New Promice Data**"
   ]
  },
  {
   "cell_type": "code",
   "execution_count": 78,
   "metadata": {},
   "outputs": [],
   "source": [
    "#Function for loading data and converting to datetime \n",
    "def load_promice(path_to_file):\n",
    "    '''\n",
    "    Loading PROMICE data for a given path into a DataFrame.\n",
    "    + adding time index\n",
    "    \n",
    "    INTPUTS:\n",
    "        path_to_file: Path to the desired file containing PROMICE data [string]\n",
    "    \n",
    "    OUTPUTS:\n",
    "        df: Dataframe containing PROMICE data for the desired settings [DataFrame]\n",
    "    '''\n",
    "\n",
    "    df = pd.read_parquet(path_to_file, engine='pyarrow')\n",
    "    df['time'] = pd.to_datetime(df.time, utc=True)\n",
    "    df = df.set_index('time')\n",
    "    return df\n",
    "\n",
    "\n"
   ]
  },
  {
   "cell_type": "code",
   "execution_count": 79,
   "metadata": {
    "collapsed": true
   },
   "outputs": [],
   "source": [
    "df = load_promice('data/new_promice/all_promice_data_hourly.parquet.gzip')"
   ]
  },
  {
   "attachments": {},
   "cell_type": "markdown",
   "metadata": {},
   "source": [
    "**Helper functions**"
   ]
  },
  {
   "cell_type": "code",
   "execution_count": 80,
   "metadata": {},
   "outputs": [],
   "source": [
    "#Function for writing to Markdown Report\n",
    "def Msg(txt):\n",
    "    f = open(\"out/Report.md\", \"a\")\n",
    "    print(txt)\n",
    "    f.write(txt + \"\\n\")"
   ]
  },
  {
   "cell_type": "code",
   "execution_count": 81,
   "metadata": {},
   "outputs": [],
   "source": [
    "#For outlier detecttion and filter \n",
    "def hampel(vals_orig, k=7*24, t0=3):\n",
    "    '''\n",
    "    vals: pandas series of values from which to remove outliers\n",
    "    k: size of window (including the sample; 7 is equal to 3 on either side of value)\n",
    "    '''\n",
    "    #Make copy so original not edited\n",
    "    vals=vals_orig.copy()    \n",
    "    #Hampel Filter\n",
    "    L= 1.4826\n",
    "    rolling_median=vals.rolling(k).median()\n",
    "    difference=np.abs(rolling_median-vals)\n",
    "    median_abs_deviation=difference.rolling(k).median()\n",
    "    threshold= t0 *L * median_abs_deviation\n",
    "    outlier_idx=difference>threshold\n",
    "    outlier_idx[0:round(k/2)]=False\n",
    "    vals.loc[outlier_idx]=np.nan\n",
    "    return(vals)"
   ]
  },
  {
   "cell_type": "code",
   "execution_count": null,
   "metadata": {
    "collapsed": true
   },
   "outputs": [],
   "source": [
    "#What is this intended for?\n",
    "df[['DepthPressureTransducer(m)',\n",
    "       'DepthPressureTransducer_Cor(m)', 'DepthPressureTransducer_Cor_adj(m)',\n",
    "    'depth_t_i_1',\n",
    " 'depth_t_i_2',\n",
    " 'depth_t_i_3',\n",
    " 'depth_t_i_4',\n",
    " 'depth_t_i_5',\n",
    " 'depth_t_i_6',\n",
    " 'depth_t_i_7',\n",
    " 'depth_t_i_8',]].groupby(df.station_name).count()\n"
   ]
  },
  {
   "cell_type": "code",
   "execution_count": 27,
   "metadata": {},
   "outputs": [],
   "source": [
    "# Old Data\n",
    "#df = pd.read_parquet('data\\promice_daily.gzip', engine='pyarrow')"
   ]
  },
  {
   "cell_type": "code",
   "execution_count": null,
   "metadata": {
    "collapsed": true
   },
   "outputs": [],
   "source": [
    "# Old Data\n",
    "#df[['DepthPressureTransducer(m)',\n",
    "#       'DepthPressureTransducer_Cor(m)']].groupby(df.file).count()"
   ]
  },
  {
   "cell_type": "markdown",
   "metadata": {},
   "source": [
    "**Visual Exploration**"
   ]
  },
  {
   "cell_type": "code",
   "execution_count": 58,
   "metadata": {},
   "outputs": [],
   "source": [
    "# Comment Nils: For some reason the data is not shown in all visuals? The loop is not working correct\n"
   ]
  },
  {
   "cell_type": "code",
   "execution_count": 8,
   "metadata": {},
   "outputs": [
    {
     "name": "stdout",
     "output_type": "stream",
     "text": [
      "CEN1\n",
      "CEN2\n",
      "CP1\n",
      "DY2\n",
      "EGP\n",
      "HUM\n",
      "JAR\n",
      "JAR_O\n",
      "KAN_B\n",
      "KAN_L\n",
      "KAN_M\n",
      "KAN_U\n",
      "KPC_Lv3\n",
      "KPC_L\n",
      "KPC_Uv3\n",
      "KPC_U\n",
      "LYN_L\n",
      "LYN_T\n",
      "MIT\n",
      "NAE\n",
      "NAU\n",
      "NEM\n",
      "NSE\n",
      "NUK_K\n",
      "NUK_L\n",
      "NUK_N\n",
      "NUK_Uv3\n",
      "NUK_U\n",
      "QAS_A\n",
      "QAS_Lv3\n",
      "QAS_L\n",
      "QAS_M\n",
      "QAS_Uv3\n",
      "QAS_U\n",
      "Roof_GEUS\n",
      "Roof_PROMICE\n",
      "SCO_L\n",
      "SCO_U\n",
      "SDL\n",
      "SDM\n",
      "SWC\n",
      "SWC_O\n",
      "TAS_A\n",
      "TAS_L\n",
      "TAS_U\n",
      "THU_L2\n",
      "THU_L\n",
      "THU_U2\n",
      "THU_U\n",
      "TUN\n",
      "UPE_L\n",
      "UPE_U\n",
      "UWN\n",
      "WEG_B\n",
      "ZAK_L\n",
      "ZAK_Uv3\n",
      "ZAK_U\n"
     ]
    }
   ],
   "source": [
    "for site in df.stid.unique().tolist():\n",
    "    print(site)"
   ]
  },
  {
   "attachments": {},
   "cell_type": "markdown",
   "metadata": {},
   "source": [
    "**Identifying ablation periods**"
   ]
  },
  {
   "cell_type": "code",
   "execution_count": 82,
   "metadata": {},
   "outputs": [],
   "source": [
    "#Formatting years and setting index for ablation window\n",
    "years = df.index.year.unique().values\n",
    "ind_start = years.copy()\n",
    "ind_end =  years.copy()"
   ]
  },
  {
   "cell_type": "code",
   "execution_count": 83,
   "metadata": {},
   "outputs": [],
   "source": [
    "#Calling hampel function\n",
    "df[\"z_pt_cor_adj\"] = hampel(df[\"z_pt_cor\"].interpolate(limit=72)).values\n",
    "df[\"z_surf_1_adj\"] = hampel(df[\"z_surf_1\"].interpolate(limit=72)).values\n",
    "df[\"z_surf_2_adj\"] = hampel(df[\"z_surf_2\"].interpolate(limit=72)).values"
   ]
  },
  {
   "cell_type": "code",
   "execution_count": 86,
   "metadata": {},
   "outputs": [
    {
     "data": {
      "text/plain": [
       "True"
      ]
     },
     "execution_count": 86,
     "metadata": {},
     "output_type": "execute_result"
    }
   ],
   "source": [
    "df.index.is_monotonic\n",
    "df.sort_index(inplace=True)\n",
    "df.index.is_monotonic"
   ]
  },
  {
   "cell_type": "code",
   "execution_count": 87,
   "metadata": {},
   "outputs": [],
   "source": [
    "#Setting ablation thresholds and defining period --> Doesn't work \n",
    "#df = df.sort_index() # Added as the series was not monotonic for some reason\n",
    "#df = df.reindex(sorted(df.index))\n",
    "smoothed_PT =  df['z_pt_cor'].interpolate(limit=72).rolling('14D', min_periods=1).mean().shift(-7*14/2, freq='h')\n",
    "smoothed_PT = smoothed_PT.rolling('14D', min_periods=1).mean().shift(-7*14/2, freq='h')\n",
    "threshold_ablation = -0.0002 # Modify value if needed\n",
    "ind_ablation = np.logical_and(smoothed_PT.diff().values < threshold_ablation, \n",
    "                                  np.isin(smoothed_PT.diff().index.month, [6, 7, 8, 9]))\n",
    "ind_ablation = np.concatenate((ind_ablation[4*24:], np.repeat(ind_ablation[-(4*24):-(4*24-1)], 4*24)))"
   ]
  },
  {
   "cell_type": "code",
   "execution_count": 88,
   "metadata": {},
   "outputs": [],
   "source": [
    "#Finding ablation periods in years\n",
    "for i, y in enumerate(years):\n",
    "    #for each year\n",
    "        ind_yr = df.index.year.values==y\n",
    "        ind_abl_yr = np.logical_and(ind_yr, ind_ablation)\n",
    "        if np.any(ind_abl_yr):\n",
    "            # if there are some ablation flagged for that year\n",
    "            # then find begining and end\n",
    "            ind_start[i] = np.argwhere(ind_abl_yr)[0][0]\n",
    "            ind_end[i] = np.argwhere(ind_abl_yr)[-1][0]\n",
    "            \n",
    "        else:\n",
    "            # otherwise left as nan\n",
    "            ind_start[i] = -999\n",
    "            ind_end[i] = -999\n"
   ]
  },
  {
   "cell_type": "code",
   "execution_count": 94,
   "metadata": {},
   "outputs": [],
   "source": [
    "#Printing one site 'KAN_L' to indentify ablation periods\n",
    "def plotsite(df,site):\n",
    "        df = df[df[\"stid\"] ==  site]\n",
    "        f1 = plt.figure(figsize=(10, 8))    \n",
    "        df[\"z_pt_cor_adj\"].plot(label = 'Pressure transducer')\n",
    "        df[\"z_surf_1_adj\"].plot(label = 'SonicRanger1')\n",
    "        df[\"z_surf_2_adj\"].plot(label = 'SonicRanger2')\n",
    "        df[\"z_surf_combined\"].plot(label = 'Summary',\n",
    "                linestyle='--', linewidth=2, color = 'tab:red')\n",
    "\n",
    "        plt.legend(prop={'size': 15})\n",
    "        plt.xlabel('Year',size=20)\n",
    "        plt.ylabel('Height (m)',size=20)\n",
    "        plt.title(site,size=20)\n",
    "        plt.grid()\n",
    "\n",
    "        plt.legend(prop={'size': 15})\n",
    "        plt.xlabel('Year',size=20)\n",
    "        plt.ylabel('Height (m)',size=20)\n",
    "        plt.title(site,size=20)\n",
    "        plt.grid()\n",
    "\n",
    "        # For orange coloring of ablation periods\n",
    "        for i, y in enumerate(years):\n",
    "                plt.axvspan(df.index[ind_start[i]],df.index[ind_end[i]], color='orange', alpha=0.1)\n",
    "        \n",
    "        # Add figure to /figures\n",
    "        f1.savefig('figures/'+site+'_surface_height.png',dpi=90, bbox_inches='tight')\n",
    "        Msg('[![Surface height adjustement at '+ site+']'+\\\n",
    "                '(../figures/'+site+'_surface_height.png)]'+\\\n",
    "                '(../figures/'+site+'_surface_height.png)')\n"
   ]
  },
  {
   "cell_type": "code",
   "execution_count": 95,
   "metadata": {},
   "outputs": [
    {
     "ename": "TypeError",
     "evalue": "'int' object is not iterable",
     "output_type": "error",
     "traceback": [
      "\u001b[0;31m---------------------------------------------------------------------------\u001b[0m",
      "\u001b[0;31mTypeError\u001b[0m                                 Traceback (most recent call last)",
      "\u001b[0;32m<ipython-input-95-f86b9cd2157e>\u001b[0m in \u001b[0;36m<module>\u001b[0;34m\u001b[0m\n\u001b[1;32m      1\u001b[0m \u001b[0;31m#Testing for KAN_L in specific period\u001b[0m\u001b[0;34m\u001b[0m\u001b[0;34m\u001b[0m\u001b[0;34m\u001b[0m\u001b[0m\n\u001b[1;32m      2\u001b[0m \u001b[0mdf_abl\u001b[0m \u001b[0;34m=\u001b[0m \u001b[0mdf\u001b[0m\u001b[0;34m[\u001b[0m\u001b[0;34m'2017-01-05'\u001b[0m\u001b[0;34m:\u001b[0m\u001b[0;34m'2017-08-30'\u001b[0m\u001b[0;34m]\u001b[0m\u001b[0;34m\u001b[0m\u001b[0;34m\u001b[0m\u001b[0m\n\u001b[0;32m----> 3\u001b[0;31m \u001b[0mplotsite\u001b[0m\u001b[0;34m(\u001b[0m\u001b[0mdf\u001b[0m\u001b[0;34m,\u001b[0m \u001b[0;34m'KAN_L'\u001b[0m\u001b[0;34m)\u001b[0m\u001b[0;34m\u001b[0m\u001b[0;34m\u001b[0m\u001b[0m\n\u001b[0m",
      "\u001b[0;32m<ipython-input-94-76e646bd0180>\u001b[0m in \u001b[0;36mplotsite\u001b[0;34m(df, site)\u001b[0m\n\u001b[1;32m     22\u001b[0m \u001b[0;34m\u001b[0m\u001b[0m\n\u001b[1;32m     23\u001b[0m         \u001b[0;31m# For orange coloring of ablation periods\u001b[0m\u001b[0;34m\u001b[0m\u001b[0;34m\u001b[0m\u001b[0;34m\u001b[0m\u001b[0m\n\u001b[0;32m---> 24\u001b[0;31m         \u001b[0;32mfor\u001b[0m \u001b[0mi\u001b[0m\u001b[0;34m,\u001b[0m \u001b[0my\u001b[0m \u001b[0;32min\u001b[0m \u001b[0menumerate\u001b[0m\u001b[0;34m(\u001b[0m\u001b[0mlen\u001b[0m\u001b[0;34m(\u001b[0m\u001b[0myears\u001b[0m\u001b[0;34m)\u001b[0m\u001b[0;34m-\u001b[0m\u001b[0;36m1\u001b[0m\u001b[0;34m)\u001b[0m\u001b[0;34m:\u001b[0m\u001b[0;34m\u001b[0m\u001b[0;34m\u001b[0m\u001b[0m\n\u001b[0m\u001b[1;32m     25\u001b[0m                 \u001b[0mplt\u001b[0m\u001b[0;34m.\u001b[0m\u001b[0maxvspan\u001b[0m\u001b[0;34m(\u001b[0m\u001b[0mdf\u001b[0m\u001b[0;34m.\u001b[0m\u001b[0mindex\u001b[0m\u001b[0;34m[\u001b[0m\u001b[0mind_start\u001b[0m\u001b[0;34m[\u001b[0m\u001b[0mi\u001b[0m\u001b[0;34m]\u001b[0m\u001b[0;34m]\u001b[0m\u001b[0;34m,\u001b[0m\u001b[0mdf\u001b[0m\u001b[0;34m.\u001b[0m\u001b[0mindex\u001b[0m\u001b[0;34m[\u001b[0m\u001b[0mind_end\u001b[0m\u001b[0;34m[\u001b[0m\u001b[0mi\u001b[0m\u001b[0;34m]\u001b[0m\u001b[0;34m]\u001b[0m\u001b[0;34m,\u001b[0m \u001b[0mcolor\u001b[0m\u001b[0;34m=\u001b[0m\u001b[0;34m'orange'\u001b[0m\u001b[0;34m,\u001b[0m \u001b[0malpha\u001b[0m\u001b[0;34m=\u001b[0m\u001b[0;36m0.1\u001b[0m\u001b[0;34m)\u001b[0m\u001b[0;34m\u001b[0m\u001b[0;34m\u001b[0m\u001b[0m\n\u001b[1;32m     26\u001b[0m \u001b[0;34m\u001b[0m\u001b[0m\n",
      "\u001b[0;31mTypeError\u001b[0m: 'int' object is not iterable"
     ]
    },
    {
     "data": {
      "image/png": "[encoded data removed]",
      "text/plain": [
       "<Figure size 720x576 with 1 Axes>"
      ]
     },
     "metadata": {
      "needs_background": "light"
     },
     "output_type": "display_data"
    }
   ],
   "source": [
    "#Testing for KAN_L in specific period\n",
    "df_abl = df['2017-01-05':'2017-08-30']\n",
    "plotsite(df, 'KAN_L')"
   ]
  },
  {
   "cell_type": "code",
   "execution_count": null,
   "metadata": {},
   "outputs": [],
   "source": [
    "# Takes some time - For all sites\n",
    "for site in df.stid.unique().tolist():\n",
    "    df = df[df[\"stid\"] == site]\n",
    "    f1 = plt.figure(figsize=(10, 8))    \n",
    "    df[\"z_pt_cor_adj\"].plot(label = 'Pressure transducer')\n",
    "    df[\"z_surf_1_adj\"].plot(label = 'SonicRanger1')\n",
    "    df[\"z_surf_2_adj\"].plot(label = 'SonicRanger2')\n",
    "    df[\"z_surf_combined\"].plot(label = 'Summary',\n",
    "             linestyle='--', linewidth=2, color = 'tab:red')\n",
    "\n",
    "    plt.legend(prop={'size': 15})\n",
    "    plt.xlabel('Year',size=20)\n",
    "    plt.ylabel('Height (m)',size=20)\n",
    "    plt.title(site,size=20)\n",
    "    plt.grid()\n",
    "   # for i, y in enumerate(years):\n",
    "   #     plt.axvspan(df.index[ind_start[i]],df.index[ind_end[i]], color='orange', alpha=0.1)"
   ]
  },
  {
   "cell_type": "code",
   "execution_count": null,
   "metadata": {},
   "outputs": [],
   "source": []
  },
  {
   "attachments": {},
   "cell_type": "markdown",
   "metadata": {},
   "source": [
    "**PCA**"
   ]
  },
  {
   "cell_type": "code",
   "execution_count": 36,
   "metadata": {},
   "outputs": [],
   "source": []
  },
  {
   "attachments": {},
   "cell_type": "markdown",
   "metadata": {},
   "source": [
    "**Multivariate Regression**"
   ]
  },
  {
   "cell_type": "markdown",
   "metadata": {},
   "source": []
  }
 ],
 "metadata": {
  "colab": {
   "provenance": []
  },
  "kernelspec": {
   "display_name": "Python 3.9.0 64-bit",
   "language": "python",
   "name": "python3"
  },
  "language_info": {
   "codemirror_mode": {
    "name": "ipython",
    "version": 3
   },
   "file_extension": ".py",
   "mimetype": "text/x-python",
   "name": "python",
   "nbconvert_exporter": "python",
   "pygments_lexer": "ipython3",
   "version": "3.9.0"
  },
  "vscode": {
   "interpreter": {
    "hash": "aee8b7b246df8f9039afb4144a1f6fd8d2ca17a180786b69acc140d282b71a49"
   }
  }
 },
 "nbformat": 4,
 "nbformat_minor": 1
}
