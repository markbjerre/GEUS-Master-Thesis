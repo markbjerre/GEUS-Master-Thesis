{
 "cells": [
  {
   "cell_type": "markdown",
   "metadata": {},
   "source": [
    "# Surface Mass Balance: XGB "
   ]
  },
  {
   "cell_type": "markdown",
   "metadata": {
    "id": "FTbsuMgO3ery"
   },
   "source": [
    "Import relevant Libaries "
   ]
  },
  {
   "cell_type": "code",
   "execution_count": 1,
   "metadata": {
    "collapsed": true
   },
   "outputs": [
    {
     "name": "stdout",
     "output_type": "stream",
     "text": [
      "Requirement already satisfied: pyarrow in /Library/Frameworks/Python.framework/Versions/3.9/lib/python3.9/site-packages (11.0.0)\n",
      "Requirement already satisfied: numpy>=1.16.6 in /Library/Frameworks/Python.framework/Versions/3.9/lib/python3.9/site-packages (from pyarrow) (1.22.2)\n",
      "Note: you may need to restart the kernel to use updated packages.\n",
      "Requirement already satisfied: plotly in /Library/Frameworks/Python.framework/Versions/3.9/lib/python3.9/site-packages (5.13.0)\n",
      "Requirement already satisfied: tenacity>=6.2.0 in /Library/Frameworks/Python.framework/Versions/3.9/lib/python3.9/site-packages (from plotly) (8.2.1)\n",
      "Note: you may need to restart the kernel to use updated packages.\n",
      "Requirement already satisfied: feature_engine in /Library/Frameworks/Python.framework/Versions/3.9/lib/python3.9/site-packages (1.5.2)\n",
      "Requirement already satisfied: numpy>=1.18.2 in /Library/Frameworks/Python.framework/Versions/3.9/lib/python3.9/site-packages (from feature_engine) (1.22.2)\n",
      "Requirement already satisfied: scikit-learn>=1.0.0 in /Library/Frameworks/Python.framework/Versions/3.9/lib/python3.9/site-packages (from feature_engine) (1.2.1)\n",
      "Requirement already satisfied: pandas>=1.0.3 in /Library/Frameworks/Python.framework/Versions/3.9/lib/python3.9/site-packages (from feature_engine) (1.3.3)\n",
      "Requirement already satisfied: scipy>=1.4.1 in /Library/Frameworks/Python.framework/Versions/3.9/lib/python3.9/site-packages (from feature_engine) (1.5.4)\n",
      "Requirement already satisfied: statsmodels>=0.11.1 in /Library/Frameworks/Python.framework/Versions/3.9/lib/python3.9/site-packages (from feature_engine) (0.13.5)\n",
      "Requirement already satisfied: python-dateutil>=2.7.3 in /Library/Frameworks/Python.framework/Versions/3.9/lib/python3.9/site-packages (from pandas>=1.0.3->feature_engine) (2.8.1)\n",
      "Requirement already satisfied: pytz>=2017.3 in /Library/Frameworks/Python.framework/Versions/3.9/lib/python3.9/site-packages (from pandas>=1.0.3->feature_engine) (2020.4)\n",
      "Requirement already satisfied: joblib>=1.1.1 in /Library/Frameworks/Python.framework/Versions/3.9/lib/python3.9/site-packages (from scikit-learn>=1.0.0->feature_engine) (1.2.0)\n",
      "Requirement already satisfied: threadpoolctl>=2.0.0 in /Library/Frameworks/Python.framework/Versions/3.9/lib/python3.9/site-packages (from scikit-learn>=1.0.0->feature_engine) (2.1.0)\n",
      "Requirement already satisfied: patsy>=0.5.2 in /Library/Frameworks/Python.framework/Versions/3.9/lib/python3.9/site-packages (from statsmodels>=0.11.1->feature_engine) (0.5.3)\n",
      "Requirement already satisfied: packaging>=21.3 in /Library/Frameworks/Python.framework/Versions/3.9/lib/python3.9/site-packages (from statsmodels>=0.11.1->feature_engine) (23.0)\n",
      "Requirement already satisfied: six in /Library/Frameworks/Python.framework/Versions/3.9/lib/python3.9/site-packages (from patsy>=0.5.2->statsmodels>=0.11.1->feature_engine) (1.15.0)\n",
      "Note: you may need to restart the kernel to use updated packages.\n",
      "ERROR: unknown command \"update\"\n",
      "Note: you may need to restart the kernel to use updated packages.\n"
     ]
    }
   ],
   "source": [
    "%pip install pyarrow\n",
    "%pip install plotly\n",
    "%pip install feature_engine\n",
    "%pip update pandas"
   ]
  },
  {
   "cell_type": "code",
   "execution_count": 1,
   "metadata": {
    "id": "yJLqdDNx3j-Y"
   },
   "outputs": [],
   "source": [
    "# Base libraries\n",
    "import pandas as pd\n",
    "import numpy as np\n",
    "import os\n",
    "import math as math\n",
    "import datetime\n",
    "from scipy import stats\n",
    "\n",
    "# Visualizations\n",
    "import matplotlib.pyplot as plt\n",
    "\n",
    "import plotly.express as px\n",
    "import plotly.graph_objects as go\n",
    "\n",
    "import seaborn as sns\n",
    "\n",
    "# Set WD\n",
    "import os\n",
    "from pyrsistent import v\n",
    "os.getcwd()\n",
    "#os.chdir('/Users/asgerlyngeholst-hansen/Desktop/GEUS-Master-Thesis/')\n",
    "#os.chdir('C:\\\\Users\\\\nifu18ab\\\\Desktop\\\\GEUS-Master-Thesis')\n",
    "#os.chdir('/Users/nilsfulde/Desktop/GEUS-Master-Thesis')\n",
    "os.chdir('/Users/nilsfulde/Desktop/Master_Thesis')"
   ]
  },
  {
   "cell_type": "markdown",
   "metadata": {},
   "source": [
    "#### Load KM_L "
   ]
  },
  {
   "cell_type": "code",
   "execution_count": 34,
   "metadata": {},
   "outputs": [],
   "source": [
    "df = pd.read_csv('data/promice/preprocessed/daily/SCO_L.csv')"
   ]
  },
  {
   "cell_type": "markdown",
   "metadata": {},
   "source": [
    "##### Pre-processing"
   ]
  },
  {
   "cell_type": "code",
   "execution_count": 35,
   "metadata": {},
   "outputs": [],
   "source": [
    "#Remove all NA values if training should be done only on ablation\n",
    "df = df.dropna()\n",
    "\n",
    "# Remove only values from Wind direction if training should be done on entire dataset\n",
    "#df = df[df['Wind from direction (upper boom)'].notna()] "
   ]
  },
  {
   "cell_type": "code",
   "execution_count": 37,
   "metadata": {},
   "outputs": [],
   "source": [
    "# This bit retrieve the indexes for all melting season categories and remove column from df\n",
    "for category in ['pre', 'beginning', 'middle', 'end']:\n",
    "    exec(f\"indices_{category} = df[df['Melting Season'] == '{category}'].index\")\n",
    "\n",
    "# This bit retrieve the indexes for Ablation periods\n",
    "for category in [True]:\n",
    "    exec(f\"indices_ablation = df[df['Ablation'] == {category}].index\")\n",
    "\n",
    "indices_all = df[df['Ablation'].isin([True, False])].index"
   ]
  },
  {
   "cell_type": "code",
   "execution_count": 40,
   "metadata": {},
   "outputs": [],
   "source": [
    "# This bit to include only relevant features\n",
    "exclude_list = [                                                    'index', # excluded because of unimportant information\n",
    "                                                                     'stid', # excluded because of unimportant information\n",
    "                                                               'Unnamed: 0', # Old Index\n",
    "                                                                 'Ablation',\n",
    "                                                           'Melting Season',\n",
    "                                              'year', 'month','day', 'hour', # Drop because of sin & cos values\n",
    "                                                                 'subgroup'\n",
    "               ]\n",
    "\n",
    "df = df[[column for column in df.columns if column not in exclude_list]]\n"
   ]
  },
  {
   "cell_type": "code",
   "execution_count": 41,
   "metadata": {},
   "outputs": [],
   "source": [
    "# This bit to change the datetime variables into a form that a ML models can understand\n",
    "  # https://ianlondon.github.io/blog/encoding-cyclical-features-24hour-time/\n",
    "  # https://feature-engine.trainindata.com/en/1.3.x/user_guide/creation/CyclicalFeatures.html\n",
    "    \n",
    "    \n",
    "# This bit to split Datetime column into year, month, day, hour columns\n",
    "df['Datetime'] = pd.to_datetime(df['Datetime'])\n",
    "df['Datetime'] = df['Datetime'].dt.strftime('%Y-%m-%d')\n",
    "\n",
    "df['Datetime'] = pd.to_datetime(df['Datetime'])\n",
    "\n",
    "#Create new columns\n",
    "df['year'] = df['Datetime'].dt.year \n",
    "df['month'] = df['Datetime'].dt.month\n",
    "df['day'] = df['Datetime'].dt.day\n",
    "#df['hour'] = df['Datetime'].dt.hour\n",
    "\n",
    "#Drop the datetime column\n",
    "df.drop(columns=['Datetime'], inplace=True)"
   ]
  },
  {
   "cell_type": "code",
   "execution_count": 42,
   "metadata": {},
   "outputs": [],
   "source": [
    "# This bit to change the datetime variables into a form that a ML models can understand (continued)\n",
    "  # https://ianlondon.github.io/blog/encoding-cyclical-features-24hour-time/\n",
    "  # https://feature-engine.trainindata.com/en/1.3.x/user_guide/creation/CyclicalFeatures.html \n",
    "\n",
    "# Use CyclicalFeatures Package to convert year, month, day & hour\n",
    "from feature_engine.creation import CyclicalFeatures\n",
    "\n",
    "cyclical = CyclicalFeatures(variables=None, drop_original=True)\n",
    "\n",
    "\n",
    "#cyclical = cyclical.fit_transform(df[['month', 'year', 'Wind from direction (upper boom)']]) # with year\n",
    "cyclical = cyclical.fit_transform(df[['month', 'Wind from direction (upper boom)']]) # without year\n",
    "df = pd.merge(df, cyclical, left_index=True, right_index=True)\n"
   ]
  },
  {
   "cell_type": "code",
   "execution_count": 43,
   "metadata": {},
   "outputs": [],
   "source": [
    "# This bit to convert all numerical values into the same scale \n",
    "from sklearn.preprocessing import StandardScaler, MinMaxScaler, RobustScaler\n",
    "\n",
    "\n",
    "scalers = [StandardScaler(), MinMaxScaler(), RobustScaler()]\n",
    "#num_cols = df.select_dtypes(include=['int64','float64']).drop(['Surface height from combined measurements', 'Surface height from combined measurements DELTA','month_sin','month_cos','year_sin','year_cos','Wind from direction (upper boom)_sin', 'Wind from direction (upper boom)_cos'], axis=1).columns #select numerical columns except y and cyclical feature\n",
    "num_cols = df.select_dtypes(include=['int64','float64']).drop(['Surface height from combined measurements', 'Surface height from combined measurements DELTA','month_sin','month_cos','Wind from direction (upper boom)_sin', 'Wind from direction (upper boom)_cos'], axis=1).columns #select numerical columns except y and cyclical feature\n",
    "\n",
    "scaler = MinMaxScaler()\n",
    "\n",
    "#fit and transform numerical columns\n",
    "df[num_cols] = scaler.fit_transform(df[num_cols])"
   ]
  },
  {
   "cell_type": "code",
   "execution_count": 53,
   "metadata": {},
   "outputs": [
    {
     "ename": "IndexError",
     "evalue": "index 4576 is out of bounds for axis 0 with size 4525",
     "output_type": "error",
     "traceback": [
      "\u001b[0;31m---------------------------------------------------------------------------\u001b[0m",
      "\u001b[0;31mIndexError\u001b[0m                                Traceback (most recent call last)",
      "Input \u001b[0;32mIn [53]\u001b[0m, in \u001b[0;36m<cell line: 7>\u001b[0;34m()\u001b[0m\n\u001b[1;32m      5\u001b[0m \u001b[38;5;66;03m# create a new column in the dataframe that contains the subgroup label to ensure equal split along 'pre', 'beginning', 'middle', 'end'\u001b[39;00m\n\u001b[1;32m      6\u001b[0m df[\u001b[38;5;124m'\u001b[39m\u001b[38;5;124msubgroup\u001b[39m\u001b[38;5;124m'\u001b[39m] \u001b[38;5;241m=\u001b[39m \u001b[38;5;241m0\u001b[39m  \u001b[38;5;66;03m# initialize all as 0\u001b[39;00m\n\u001b[0;32m----> 7\u001b[0m df\u001b[38;5;241m.\u001b[39miloc[indices_pre, df\u001b[38;5;241m.\u001b[39mcolumns\u001b[38;5;241m.\u001b[39mget_loc(\u001b[38;5;124m'\u001b[39m\u001b[38;5;124msubgroup\u001b[39m\u001b[38;5;124m'\u001b[39m)] \u001b[38;5;241m=\u001b[39m \u001b[38;5;241m1\u001b[39m\n\u001b[1;32m      8\u001b[0m df\u001b[38;5;241m.\u001b[39miloc[indices_beginning, df\u001b[38;5;241m.\u001b[39mcolumns\u001b[38;5;241m.\u001b[39mget_loc(\u001b[38;5;124m'\u001b[39m\u001b[38;5;124msubgroup\u001b[39m\u001b[38;5;124m'\u001b[39m)] \u001b[38;5;241m=\u001b[39m \u001b[38;5;241m2\u001b[39m\n\u001b[1;32m      9\u001b[0m df\u001b[38;5;241m.\u001b[39miloc[indices_middle, df\u001b[38;5;241m.\u001b[39mcolumns\u001b[38;5;241m.\u001b[39mget_loc(\u001b[38;5;124m'\u001b[39m\u001b[38;5;124msubgroup\u001b[39m\u001b[38;5;124m'\u001b[39m)] \u001b[38;5;241m=\u001b[39m \u001b[38;5;241m3\u001b[39m\n",
      "File \u001b[0;32m~/opt/anaconda3/lib/python3.8/site-packages/pandas/core/indexing.py:818\u001b[0m, in \u001b[0;36m_LocationIndexer.__setitem__\u001b[0;34m(self, key, value)\u001b[0m\n\u001b[1;32m    815\u001b[0m \u001b[38;5;28mself\u001b[39m\u001b[38;5;241m.\u001b[39m_has_valid_setitem_indexer(key)\n\u001b[1;32m    817\u001b[0m iloc \u001b[38;5;241m=\u001b[39m \u001b[38;5;28mself\u001b[39m \u001b[38;5;28;01mif\u001b[39;00m \u001b[38;5;28mself\u001b[39m\u001b[38;5;241m.\u001b[39mname \u001b[38;5;241m==\u001b[39m \u001b[38;5;124m\"\u001b[39m\u001b[38;5;124miloc\u001b[39m\u001b[38;5;124m\"\u001b[39m \u001b[38;5;28;01melse\u001b[39;00m \u001b[38;5;28mself\u001b[39m\u001b[38;5;241m.\u001b[39mobj\u001b[38;5;241m.\u001b[39miloc\n\u001b[0;32m--> 818\u001b[0m \u001b[43miloc\u001b[49m\u001b[38;5;241;43m.\u001b[39;49m\u001b[43m_setitem_with_indexer\u001b[49m\u001b[43m(\u001b[49m\u001b[43mindexer\u001b[49m\u001b[43m,\u001b[49m\u001b[43m \u001b[49m\u001b[43mvalue\u001b[49m\u001b[43m,\u001b[49m\u001b[43m \u001b[49m\u001b[38;5;28;43mself\u001b[39;49m\u001b[38;5;241;43m.\u001b[39;49m\u001b[43mname\u001b[49m\u001b[43m)\u001b[49m\n",
      "File \u001b[0;32m~/opt/anaconda3/lib/python3.8/site-packages/pandas/core/indexing.py:1795\u001b[0m, in \u001b[0;36m_iLocIndexer._setitem_with_indexer\u001b[0;34m(self, indexer, value, name)\u001b[0m\n\u001b[1;32m   1792\u001b[0m \u001b[38;5;66;03m# align and set the values\u001b[39;00m\n\u001b[1;32m   1793\u001b[0m \u001b[38;5;28;01mif\u001b[39;00m take_split_path:\n\u001b[1;32m   1794\u001b[0m     \u001b[38;5;66;03m# We have to operate column-wise\u001b[39;00m\n\u001b[0;32m-> 1795\u001b[0m     \u001b[38;5;28;43mself\u001b[39;49m\u001b[38;5;241;43m.\u001b[39;49m\u001b[43m_setitem_with_indexer_split_path\u001b[49m\u001b[43m(\u001b[49m\u001b[43mindexer\u001b[49m\u001b[43m,\u001b[49m\u001b[43m \u001b[49m\u001b[43mvalue\u001b[49m\u001b[43m,\u001b[49m\u001b[43m \u001b[49m\u001b[43mname\u001b[49m\u001b[43m)\u001b[49m\n\u001b[1;32m   1796\u001b[0m \u001b[38;5;28;01melse\u001b[39;00m:\n\u001b[1;32m   1797\u001b[0m     \u001b[38;5;28mself\u001b[39m\u001b[38;5;241m.\u001b[39m_setitem_single_block(indexer, value, name)\n",
      "File \u001b[0;32m~/opt/anaconda3/lib/python3.8/site-packages/pandas/core/indexing.py:1888\u001b[0m, in \u001b[0;36m_iLocIndexer._setitem_with_indexer_split_path\u001b[0;34m(self, indexer, value, name)\u001b[0m\n\u001b[1;32m   1884\u001b[0m \u001b[38;5;28;01melse\u001b[39;00m:\n\u001b[1;32m   1885\u001b[0m \n\u001b[1;32m   1886\u001b[0m     \u001b[38;5;66;03m# scalar value\u001b[39;00m\n\u001b[1;32m   1887\u001b[0m     \u001b[38;5;28;01mfor\u001b[39;00m loc \u001b[38;5;129;01min\u001b[39;00m ilocs:\n\u001b[0;32m-> 1888\u001b[0m         \u001b[38;5;28;43mself\u001b[39;49m\u001b[38;5;241;43m.\u001b[39;49m\u001b[43m_setitem_single_column\u001b[49m\u001b[43m(\u001b[49m\u001b[43mloc\u001b[49m\u001b[43m,\u001b[49m\u001b[43m \u001b[49m\u001b[43mvalue\u001b[49m\u001b[43m,\u001b[49m\u001b[43m \u001b[49m\u001b[43mpi\u001b[49m\u001b[43m)\u001b[49m\n",
      "File \u001b[0;32m~/opt/anaconda3/lib/python3.8/site-packages/pandas/core/indexing.py:1992\u001b[0m, in \u001b[0;36m_iLocIndexer._setitem_single_column\u001b[0;34m(self, loc, value, plane_indexer)\u001b[0m\n\u001b[1;32m   1988\u001b[0m         value \u001b[38;5;241m=\u001b[39m value[pi]\n\u001b[1;32m   1989\u001b[0m \u001b[38;5;28;01melse\u001b[39;00m:\n\u001b[1;32m   1990\u001b[0m     \u001b[38;5;66;03m# set value into the column (first attempting to operate inplace, then\u001b[39;00m\n\u001b[1;32m   1991\u001b[0m     \u001b[38;5;66;03m#  falling back to casting if necessary)\u001b[39;00m\n\u001b[0;32m-> 1992\u001b[0m     \u001b[38;5;28;43mself\u001b[39;49m\u001b[38;5;241;43m.\u001b[39;49m\u001b[43mobj\u001b[49m\u001b[38;5;241;43m.\u001b[39;49m\u001b[43m_mgr\u001b[49m\u001b[38;5;241;43m.\u001b[39;49m\u001b[43mcolumn_setitem\u001b[49m\u001b[43m(\u001b[49m\u001b[43mloc\u001b[49m\u001b[43m,\u001b[49m\u001b[43m \u001b[49m\u001b[43mplane_indexer\u001b[49m\u001b[43m,\u001b[49m\u001b[43m \u001b[49m\u001b[43mvalue\u001b[49m\u001b[43m)\u001b[49m\n\u001b[1;32m   1993\u001b[0m     \u001b[38;5;28mself\u001b[39m\u001b[38;5;241m.\u001b[39mobj\u001b[38;5;241m.\u001b[39m_clear_item_cache()\n\u001b[1;32m   1994\u001b[0m     \u001b[38;5;28;01mreturn\u001b[39;00m\n",
      "File \u001b[0;32m~/opt/anaconda3/lib/python3.8/site-packages/pandas/core/internals/managers.py:1391\u001b[0m, in \u001b[0;36mBlockManager.column_setitem\u001b[0;34m(self, loc, idx, value, inplace)\u001b[0m\n\u001b[1;32m   1389\u001b[0m     col_mgr\u001b[38;5;241m.\u001b[39msetitem_inplace(idx, value)\n\u001b[1;32m   1390\u001b[0m \u001b[38;5;28;01melse\u001b[39;00m:\n\u001b[0;32m-> 1391\u001b[0m     new_mgr \u001b[38;5;241m=\u001b[39m \u001b[43mcol_mgr\u001b[49m\u001b[38;5;241;43m.\u001b[39;49m\u001b[43msetitem\u001b[49m\u001b[43m(\u001b[49m\u001b[43m(\u001b[49m\u001b[43midx\u001b[49m\u001b[43m,\u001b[49m\u001b[43m)\u001b[49m\u001b[43m,\u001b[49m\u001b[43m \u001b[49m\u001b[43mvalue\u001b[49m\u001b[43m)\u001b[49m\n\u001b[1;32m   1392\u001b[0m     \u001b[38;5;28mself\u001b[39m\u001b[38;5;241m.\u001b[39miset(loc, new_mgr\u001b[38;5;241m.\u001b[39m_block\u001b[38;5;241m.\u001b[39mvalues, inplace\u001b[38;5;241m=\u001b[39m\u001b[38;5;28;01mTrue\u001b[39;00m)\n",
      "File \u001b[0;32m~/opt/anaconda3/lib/python3.8/site-packages/pandas/core/internals/managers.py:393\u001b[0m, in \u001b[0;36mBaseBlockManager.setitem\u001b[0;34m(self, indexer, value)\u001b[0m\n\u001b[1;32m    388\u001b[0m \u001b[38;5;28;01mif\u001b[39;00m _using_copy_on_write() \u001b[38;5;129;01mand\u001b[39;00m \u001b[38;5;129;01mnot\u001b[39;00m \u001b[38;5;28mself\u001b[39m\u001b[38;5;241m.\u001b[39m_has_no_reference(\u001b[38;5;241m0\u001b[39m):\n\u001b[1;32m    389\u001b[0m     \u001b[38;5;66;03m# if being referenced -> perform Copy-on-Write and clear the reference\u001b[39;00m\n\u001b[1;32m    390\u001b[0m     \u001b[38;5;66;03m# this method is only called if there is a single block -> hardcoded 0\u001b[39;00m\n\u001b[1;32m    391\u001b[0m     \u001b[38;5;28mself\u001b[39m \u001b[38;5;241m=\u001b[39m \u001b[38;5;28mself\u001b[39m\u001b[38;5;241m.\u001b[39mcopy()\n\u001b[0;32m--> 393\u001b[0m \u001b[38;5;28;01mreturn\u001b[39;00m \u001b[38;5;28;43mself\u001b[39;49m\u001b[38;5;241;43m.\u001b[39;49m\u001b[43mapply\u001b[49m\u001b[43m(\u001b[49m\u001b[38;5;124;43m\"\u001b[39;49m\u001b[38;5;124;43msetitem\u001b[39;49m\u001b[38;5;124;43m\"\u001b[39;49m\u001b[43m,\u001b[49m\u001b[43m \u001b[49m\u001b[43mindexer\u001b[49m\u001b[38;5;241;43m=\u001b[39;49m\u001b[43mindexer\u001b[49m\u001b[43m,\u001b[49m\u001b[43m \u001b[49m\u001b[43mvalue\u001b[49m\u001b[38;5;241;43m=\u001b[39;49m\u001b[43mvalue\u001b[49m\u001b[43m)\u001b[49m\n",
      "File \u001b[0;32m~/opt/anaconda3/lib/python3.8/site-packages/pandas/core/internals/managers.py:352\u001b[0m, in \u001b[0;36mBaseBlockManager.apply\u001b[0;34m(self, f, align_keys, ignore_failures, **kwargs)\u001b[0m\n\u001b[1;32m    350\u001b[0m         applied \u001b[38;5;241m=\u001b[39m b\u001b[38;5;241m.\u001b[39mapply(f, \u001b[38;5;241m*\u001b[39m\u001b[38;5;241m*\u001b[39mkwargs)\n\u001b[1;32m    351\u001b[0m     \u001b[38;5;28;01melse\u001b[39;00m:\n\u001b[0;32m--> 352\u001b[0m         applied \u001b[38;5;241m=\u001b[39m \u001b[38;5;28;43mgetattr\u001b[39;49m\u001b[43m(\u001b[49m\u001b[43mb\u001b[49m\u001b[43m,\u001b[49m\u001b[43m \u001b[49m\u001b[43mf\u001b[49m\u001b[43m)\u001b[49m\u001b[43m(\u001b[49m\u001b[38;5;241;43m*\u001b[39;49m\u001b[38;5;241;43m*\u001b[39;49m\u001b[43mkwargs\u001b[49m\u001b[43m)\u001b[49m\n\u001b[1;32m    353\u001b[0m \u001b[38;5;28;01mexcept\u001b[39;00m (\u001b[38;5;167;01mTypeError\u001b[39;00m, \u001b[38;5;167;01mNotImplementedError\u001b[39;00m):\n\u001b[1;32m    354\u001b[0m     \u001b[38;5;28;01mif\u001b[39;00m \u001b[38;5;129;01mnot\u001b[39;00m ignore_failures:\n",
      "File \u001b[0;32m~/opt/anaconda3/lib/python3.8/site-packages/pandas/core/internals/blocks.py:986\u001b[0m, in \u001b[0;36mBlock.setitem\u001b[0;34m(self, indexer, value)\u001b[0m\n\u001b[1;32m    982\u001b[0m         \u001b[38;5;28;01mif\u001b[39;00m lib\u001b[38;5;241m.\u001b[39mis_list_like(vi):\n\u001b[1;32m    983\u001b[0m             \u001b[38;5;66;03m# checking lib.is_scalar here fails on\u001b[39;00m\n\u001b[1;32m    984\u001b[0m             \u001b[38;5;66;03m#  test_iloc_setitem_custom_object\u001b[39;00m\n\u001b[1;32m    985\u001b[0m             casted \u001b[38;5;241m=\u001b[39m setitem_datetimelike_compat(values, \u001b[38;5;28mlen\u001b[39m(vi), casted)\n\u001b[0;32m--> 986\u001b[0m     values[indexer] \u001b[38;5;241m=\u001b[39m casted\n\u001b[1;32m    987\u001b[0m \u001b[38;5;28;01mreturn\u001b[39;00m \u001b[38;5;28mself\u001b[39m\n",
      "\u001b[0;31mIndexError\u001b[0m: index 4576 is out of bounds for axis 0 with size 4525"
     ]
    }
   ],
   "source": [
    "# This bit to split into Train & Test\n",
    "from sklearn.model_selection import train_test_split\n",
    "from sklearn.model_selection import StratifiedShuffleSplit\n",
    "\n",
    "# create a new column in the dataframe that contains the subgroup label to ensure equal split along 'pre', 'beginning', 'middle', 'end'\n",
    "df['subgroup'] = 0  # initialize all as 0\n",
    "df.iloc[indices_pre, df.columns.get_loc('subgroup')] = 1\n",
    "df.iloc[indices_beginning, df.columns.get_loc('subgroup')] = 2\n",
    "df.iloc[indices_middle, df.columns.get_loc('subgroup')] = 3\n",
    "df.iloc[indices_end, df.columns.get_loc('subgroup')] = 4\n",
    "\n",
    "# split the data into training and testing sets while maintaining the subgroup distribution\n",
    "split = StratifiedShuffleSplit(n_splits=1, test_size=0.3, random_state=42)\n",
    "\n",
    "### Delta ##\n",
    "df_delta = df[[column for column in df.columns if column not in [\"Surface height from combined measurements\"]]]\n",
    "#X_delta = df_delta.loc[:, df_delta.columns != \"Surface height from combined measurements DELTA\"] # All features except y\n",
    "#y_delta = df_delta[\"Surface height from combined measurements DELTA\"]\n",
    "\n",
    "for train_index, test_index in split.split(df_delta, df_delta['subgroup']):\n",
    "    delta_train = df_delta.loc[train_index]\n",
    "    delta_test = df_delta.loc[test_index]\n",
    "\n",
    "# separate the features and target variables for the train and test sets\n",
    "X_train = delta_train.drop(['Surface height from combined measurements DELTA\"', 'subgroup'], axis=1)\n",
    "Y_train = delta_train['Surface height from combined measurements DELTA\"']\n",
    "X_test = delta_test.drop(['Surface height from combined measurements DELTA\"', 'subgroup'], axis=1)\n",
    "Y_test = delta_test['Surface height from combined measurements DELTA\"']"
   ]
  },
  {
   "cell_type": "code",
   "execution_count": null,
   "metadata": {},
   "outputs": [],
   "source": [
    "\n",
    "\n",
    "# using the train test split function\n",
    "X_delta_train, X_delta_test,y_delta_train, y_delta_test = train_test_split(X_delta,y_delta,\n",
    "                                   random_state=2023, \n",
    "                                   test_size=0.3, \n",
    "                                   shuffle=True)\n",
    "\n",
    "### Absolute ##\n",
    "df_absolute = df[[column for column in df.columns if column not in [\"Surface height from combined measurements DELTA\"]]]\n",
    "X_absolute = df_absolute.loc[:, df_absolute.columns != \"Surface height from combined measurements\"] # All features except y\n",
    "y_absolute = df_absolute[\"Surface height from combined measurements\"]\n",
    "\n",
    "# using the train test split function\n",
    "X_absolute_train, X_absolute_test,y_absolute_train, y_absolute_test = train_test_split(X_absolute,y_absolute ,\n",
    "                                   random_state=2023, \n",
    "                                   test_size=0.3, \n",
    "                                   shuffle=True)"
   ]
  },
  {
   "cell_type": "markdown",
   "metadata": {},
   "source": [
    "## XGB Regression"
   ]
  },
  {
   "cell_type": "code",
   "execution_count": 45,
   "metadata": {},
   "outputs": [],
   "source": [
    "# Import required libraries\n",
    "import xgboost as xgb\n",
    "from sklearn.metrics import r2_score\n",
    "from sklearn.metrics import mean_squared_error\n",
    "from sklearn.model_selection import GridSearchCV"
   ]
  },
  {
   "cell_type": "code",
   "execution_count": 46,
   "metadata": {},
   "outputs": [
    {
     "name": "stdout",
     "output_type": "stream",
     "text": [
      "Best hyperparameters_delta:  {'colsample_bytree': 0.7, 'learning_rate': 0.1, 'max_depth': 3, 'min_child_weight': 1, 'n_estimators': 100, 'reg_alpha': 0.1, 'reg_lambda': 0.1, 'subsample': 0.5}\n",
      "R^2 score on test set (delta):  -0.10625152287189499\n",
      "MSE on test set (delta):  0.009421569784461077\n",
      "Best hyperparameters_absolute:  {'colsample_bytree': 0.7, 'learning_rate': 0.1, 'max_depth': 3, 'min_child_weight': 1, 'n_estimators': 100, 'reg_alpha': 0.1, 'reg_lambda': 0.1, 'subsample': 0.5}\n",
      "R^2 score on test set (absolute):  0.9989455519890929\n",
      "MSE on test set (absolute):  0.12269981397316226\n"
     ]
    }
   ],
   "source": [
    "# This bit to find best XBG Regressor model for when Ablation == True and for both target variables\n",
    "\n",
    "for i in [\"delta\",\"absolute\"]:\n",
    "    \n",
    "    indices = eval(f\"indices_all\")  # Get the indices for the current category\n",
    "\n",
    "    # Find common indexes\n",
    "    X_Train_valid_indices = indices.intersection(eval(f\"X_{i}_train\").index)\n",
    "    y_Train_valid_indices = indices.intersection(eval(f\"y_{i}_train\").index)\n",
    "    X_Test_valid_indices = indices.intersection(eval(f\"X_{i}_test\").index)\n",
    "    y_Test_valid_indices = indices.intersection(eval(f\"y_{i}_test\").index)\n",
    "\n",
    "    # filter out by indeces\n",
    "    X_train_category = eval(f\"X_{i}_train\").loc[X_Train_valid_indices]  \n",
    "    y_train_category = eval(f\"y_{i}_train\").loc[y_Train_valid_indices] \n",
    "    X_test_category = eval(f\"X_{i}_test\").loc[X_Test_valid_indices]  \n",
    "    y_test_category = eval(f\"y_{i}_test\").loc[y_Test_valid_indices]\n",
    "    \n",
    "    # Define the XGBRegressor model\n",
    "    #model = xgb.XGBRegressor()\n",
    "    exec(f\"model_{i} = xgb.XGBRegressor()\")\n",
    "    \n",
    "    # Define the hyperparameter grid for tuning\n",
    "    param_grid = {\n",
    "        'max_depth': [3], #[3, 5, 7],\n",
    "        'min_child_weight': [1], #[1, 3, 5],\n",
    "        'learning_rate': [0.1], #[0.1, 0.01, 0.001],\n",
    "        'n_estimators': [100], #[100, 500, 1000],\n",
    "        'subsample': [0.5], #[0.5, 0.7, 1.0],\n",
    "        'colsample_bytree': [0.7], #[0.5, 0.7, 1.0],\n",
    "        'reg_alpha': [0.1], #[0, 0.1, 0.5],\n",
    "        'reg_lambda': [0.1], #[0, 0.1, 0.5]\n",
    "    }\n",
    "\n",
    "    # Define the grid search object\n",
    "    grid_search = GridSearchCV(eval(f\"model_{i}\"), param_grid = param_grid, cv=5, n_jobs=-1, verbose=0)\n",
    "\n",
    "    # Fit the grid search object to the training data\n",
    "    grid_search.fit(X_train_category, y_train_category)\n",
    "    \n",
    "    # Print the best hyperparameters and the corresponding R^2 score on the test set\n",
    "    print(f\"Best hyperparameters_{i}: \", grid_search.best_params_)\n",
    "    \n",
    "    # Save the best model parameters as 'model' variable\n",
    "    exec(f\"model_{i} = grid_search.best_estimator_\")\n",
    "    \n",
    "    # Evaluate the best model on the test set\n",
    "    y_pred_category = eval(f\"model_{i}\").predict(X_test_category)\n",
    "    r2 = r2_score(y_test_category, y_pred_category)\n",
    "    mse = mean_squared_error(y_test_category, y_pred_category)\n",
    "    print(f\"R^2 score on test set ({i}): \", r2)\n",
    "    print(f\"MSE on test set ({i}): \", mse)"
   ]
  },
  {
   "cell_type": "code",
   "execution_count": 50,
   "metadata": {},
   "outputs": [
    {
     "name": "stdout",
     "output_type": "stream",
     "text": [
      "R^2 score on test set:  0.9989455519890929\n",
      "MSE on test set:  0.12269981397316226\n"
     ]
    }
   ],
   "source": [
    "# This bit to see output of the best absolute model\n",
    "\n",
    "indices = eval(f\"indices_all\")\n",
    "\n",
    "# Find common indexes\n",
    "X_Test_valid_indices = indices.intersection(X_absolute_test.index)\n",
    "y_Test_valid_indices = indices.intersection(y_absolute_test.index)\n",
    "\n",
    "# filter out by indeces\n",
    "X_test_category = X_absolute_test.loc[X_Test_valid_indices]  \n",
    "y_test_category = y_absolute_test.loc[y_Test_valid_indices]\n",
    "\n",
    "y_pred_category = model_absolute.predict(X_test_category)\n",
    "r2 = r2_score(y_test_category, y_pred_category)\n",
    "mse = mean_squared_error(y_test_category, y_pred_category)\n",
    "print(f\"R^2 score on test set: \", r2)\n",
    "print(f\"MSE on test set: \", mse)"
   ]
  },
  {
   "cell_type": "code",
   "execution_count": 49,
   "metadata": {},
   "outputs": [
    {
     "name": "stdout",
     "output_type": "stream",
     "text": [
      "R^2 score on test set:  -0.10625152287189499\n",
      "MSE on test set:  0.009421569784461077\n"
     ]
    }
   ],
   "source": [
    "# This bit to see output of the best delta model\n",
    "\n",
    "indices = eval(f\"indices_all\")\n",
    "\n",
    "# Find common indexes\n",
    "X_Test_valid_indices = indices.intersection(X_delta_test.index)\n",
    "y_Test_valid_indices = indices.intersection(y_delta_test.index)\n",
    "\n",
    "# filter out by indeces\n",
    "X_test_category = X_delta_test.loc[X_Test_valid_indices]  \n",
    "y_test_category = y_delta_test.loc[y_Test_valid_indices]\n",
    "\n",
    "y_pred_category = model_delta.predict(X_test_category)\n",
    "r2 = r2_score(y_test_category, y_pred_category)\n",
    "mse = mean_squared_error(y_test_category, y_pred_category)\n",
    "print(f\"R^2 score on test set: \", r2)\n",
    "print(f\"MSE on test set: \", mse)"
   ]
  },
  {
   "cell_type": "markdown",
   "metadata": {},
   "source": [
    "## Filter by Melting Season"
   ]
  },
  {
   "cell_type": "code",
   "execution_count": 51,
   "metadata": {},
   "outputs": [
    {
     "name": "stdout",
     "output_type": "stream",
     "text": [
      "R^2 score on test set (pre):  -0.027733001501833998\n",
      "MSE on test set (pre):  0.010450223652677157\n",
      "     Feature  Importance\n",
      "0  month_cos    0.316081\n",
      "1   year_sin    0.244484\n",
      "2  month_sin    0.222669\n",
      "3   year_cos    0.216765\n"
     ]
    },
    {
     "data": {
      "image/png": "[encoded data removed]",
      "text/plain": [
       "<Figure size 576x432 with 1 Axes>"
      ]
     },
     "metadata": {
      "needs_background": "light"
     },
     "output_type": "display_data"
    },
    {
     "name": "stdout",
     "output_type": "stream",
     "text": [
      "R^2 score on test set (beginning):  -2.3007682175755533\n",
      "MSE on test set (beginning):  0.14492262832812144\n",
      "     Feature  Importance\n",
      "0   year_sin    0.301824\n",
      "1   year_cos    0.286981\n",
      "2  month_cos    0.282249\n",
      "3  month_sin    0.128947\n"
     ]
    },
    {
     "data": {
      "image/png": "[encoded data removed]",
      "text/plain": [
       "<Figure size 576x432 with 1 Axes>"
      ]
     },
     "metadata": {
      "needs_background": "light"
     },
     "output_type": "display_data"
    },
    {
     "name": "stdout",
     "output_type": "stream",
     "text": [
      "R^2 score on test set (middle):  0.12718883241214307\n",
      "MSE on test set (middle):  0.0025434556694323646\n",
      "     Feature  Importance\n",
      "0   year_cos    0.315062\n",
      "1  month_cos    0.263579\n",
      "2   year_sin    0.239101\n",
      "3  month_sin    0.182258\n"
     ]
    },
    {
     "data": {
      "image/png": "[encoded data removed]",
      "text/plain": [
       "<Figure size 576x432 with 1 Axes>"
      ]
     },
     "metadata": {
      "needs_background": "light"
     },
     "output_type": "display_data"
    },
    {
     "name": "stdout",
     "output_type": "stream",
     "text": [
      "R^2 score on test set (end):  -0.6261613798997852\n",
      "MSE on test set (end):  0.0009820312996000845\n",
      "     Feature  Importance\n",
      "0   year_cos    0.366184\n",
      "1   year_sin    0.324726\n",
      "2  month_cos    0.170871\n",
      "3  month_sin    0.138220\n"
     ]
    },
    {
     "data": {
      "image/png": "[encoded data removed]",
      "text/plain": [
       "<Figure size 576x432 with 1 Axes>"
      ]
     },
     "metadata": {
      "needs_background": "light"
     },
     "output_type": "display_data"
    }
   ],
   "source": [
    "### This bit for delta\n",
    "for category in ['pre', 'beginning', 'middle', 'end']:\n",
    "    indices = eval(f\"indices_{category}\")  # Get the indices for the current category\n",
    "\n",
    "    # Find common indexes\n",
    "    X_Train_valid_indices = indices.intersection(X_delta_train.index)\n",
    "    y_Train_valid_indices = indices.intersection(y_delta_train.index)\n",
    "    X_Test_valid_indices = indices.intersection(X_delta_test.index)\n",
    "    y_Test_valid_indices = indices.intersection(y_delta_test.index)\n",
    "\n",
    "    # filter out by indeces\n",
    "    X_train_category = X_delta_train.loc[X_Train_valid_indices]\n",
    "    y_train_category = y_delta_train.loc[y_Train_valid_indices]\n",
    "    X_test_category = X_delta_test.loc[X_Test_valid_indices]\n",
    "    y_test_category = y_delta_test.loc[y_Test_valid_indices]\n",
    "\n",
    "    # Apply XGB on all periods  \n",
    "    model_delta.fit(X_train_category, y_train_category)  # Fit a new model on each subset\n",
    "    y_pred_category = model_delta.predict(X_test_category)\n",
    "\n",
    "    r2 = r2_score(y_test_category, y_pred_category)\n",
    "    mse = mean_squared_error(y_test_category, y_pred_category)\n",
    "    print(f\"R^2 score on test set ({category}): \", r2)\n",
    "    print(f\"MSE on test set ({category}): \", mse)\n",
    "\n",
    "    # Get the feature importance scores and plot them\n",
    "    feature_importance = pd.DataFrame({'Feature': X_delta_train.columns, 'Importance': model_delta.feature_importances_})\n",
    "    feature_importance = feature_importance.sort_values('Importance', ascending=False).reset_index(drop=True)\n",
    "    print(feature_importance)\n",
    "\n",
    "    # Plot the feature importance scores\n",
    "    import matplotlib.pyplot as plt\n",
    "    plt.figure(figsize=(8, 6))\n",
    "    plt.barh(feature_importance['Feature'], feature_importance['Importance'])\n",
    "    plt.xlabel('Importance')\n",
    "    plt.ylabel('Feature')\n",
    "    plt.title(f'Feature Importance ({category})')\n",
    "    plt.show()\n"
   ]
  },
  {
   "cell_type": "code",
   "execution_count": 52,
   "metadata": {},
   "outputs": [
    {
     "name": "stdout",
     "output_type": "stream",
     "text": [
      "R^2 score on test set (pre):  0.9996811334563557\n",
      "MSE on test set (pre):  0.03400361527678678\n",
      "     Feature  Importance\n",
      "0   year_sin    0.675166\n",
      "1   year_cos    0.323207\n",
      "2  month_sin    0.001290\n",
      "3  month_cos    0.000337\n"
     ]
    },
    {
     "data": {
      "image/png": "[encoded data removed]",
      "text/plain": [
       "<Figure size 576x432 with 1 Axes>"
      ]
     },
     "metadata": {
      "needs_background": "light"
     },
     "output_type": "display_data"
    },
    {
     "name": "stdout",
     "output_type": "stream",
     "text": [
      "R^2 score on test set (beginning):  0.9987478195591643\n",
      "MSE on test set (beginning):  0.1527435620585594\n",
      "     Feature  Importance\n",
      "0   year_sin    0.586924\n",
      "1   year_cos    0.406912\n",
      "2  month_cos    0.005232\n",
      "3  month_sin    0.000933\n"
     ]
    },
    {
     "data": {
      "image/png": "[encoded data removed]",
      "text/plain": [
       "<Figure size 576x432 with 1 Axes>"
      ]
     },
     "metadata": {
      "needs_background": "light"
     },
     "output_type": "display_data"
    },
    {
     "name": "stdout",
     "output_type": "stream",
     "text": [
      "R^2 score on test set (middle):  0.9990428230783367\n",
      "MSE on test set (middle):  0.11970559081506041\n",
      "     Feature  Importance\n",
      "0   year_sin    0.625415\n",
      "1   year_cos    0.367746\n",
      "2  month_sin    0.004708\n",
      "3  month_cos    0.002131\n"
     ]
    },
    {
     "data": {
      "image/png": "[encoded data removed]",
      "text/plain": [
       "<Figure size 576x432 with 1 Axes>"
      ]
     },
     "metadata": {
      "needs_background": "light"
     },
     "output_type": "display_data"
    },
    {
     "name": "stdout",
     "output_type": "stream",
     "text": [
      "R^2 score on test set (end):  0.9999815599319191\n",
      "MSE on test set (end):  0.0019153381948646662\n",
      "     Feature  Importance\n",
      "0   year_sin    0.566845\n",
      "1   year_cos    0.425087\n",
      "2  month_sin    0.007855\n",
      "3  month_cos    0.000213\n"
     ]
    },
    {
     "data": {
      "image/png": "[encoded data removed]",
      "text/plain": [
       "<Figure size 576x432 with 1 Axes>"
      ]
     },
     "metadata": {
      "needs_background": "light"
     },
     "output_type": "display_data"
    }
   ],
   "source": [
    "### This bit for absolute\n",
    "for category in ['pre', 'beginning', 'middle', 'end']:\n",
    "    indices = eval(f\"indices_{category}\")  # Get the indices for the current category\n",
    "\n",
    "    # Find common indexes\n",
    "    X_Train_valid_indices = indices.intersection(X_absolute_train.index)\n",
    "    y_Train_valid_indices = indices.intersection(y_absolute_train.index)\n",
    "    X_Test_valid_indices = indices.intersection(X_absolute_test.index)\n",
    "    y_Test_valid_indices = indices.intersection(y_absolute_test.index)\n",
    "\n",
    "    # filter out by indeces\n",
    "    X_train_category = X_absolute_train.loc[X_Train_valid_indices]\n",
    "    y_train_category = y_absolute_train.loc[y_Train_valid_indices]\n",
    "    X_test_category = X_absolute_test.loc[X_Test_valid_indices]\n",
    "    y_test_category = y_absolute_test.loc[y_Test_valid_indices]\n",
    "\n",
    "    # Apply XGB on all periods  \n",
    "    model_absolute.fit(X_train_category, y_train_category)  # Fit a new model on each subset\n",
    "    y_pred_category = model_absolute.predict(X_test_category)\n",
    "\n",
    "    r2 = r2_score(y_test_category, y_pred_category)\n",
    "    mse = mean_squared_error(y_test_category, y_pred_category)\n",
    "    print(f\"R^2 score on test set ({category}): \", r2)\n",
    "    print(f\"MSE on test set ({category}): \", mse)\n",
    "\n",
    "    # Get the feature importance scores and plot them\n",
    "    feature_importance = pd.DataFrame({'Feature': X_absolute_train.columns, 'Importance': model_absolute.feature_importances_})\n",
    "    feature_importance = feature_importance.sort_values('Importance', ascending=False).reset_index(drop=True)\n",
    "    print(feature_importance)\n",
    "\n",
    "    # Plot the feature importance scores\n",
    "    import matplotlib.pyplot as plt\n",
    "    plt.figure(figsize=(8, 6))\n",
    "    plt.barh(feature_importance['Feature'], feature_importance['Importance'])\n",
    "    plt.xlabel('Importance')\n",
    "    plt.ylabel('Feature')\n",
    "    plt.title(f'Feature Importance ({category})')\n",
    "    plt.show()\n"
   ]
  },
  {
   "cell_type": "markdown",
   "metadata": {},
   "source": [
    "## LSTM"
   ]
  },
  {
   "cell_type": "code",
   "execution_count": 313,
   "metadata": {},
   "outputs": [
    {
     "name": "stdout",
     "output_type": "stream",
     "text": [
      "R^2 score on test set (delta):  -0.10340557736615308\n",
      "MSE on test set (delta):  0.0038937158256251167\n",
      "R^2 score on test set (absolute):  0.013685247670754519\n",
      "MSE on test set (absolute):  157.86584193346172\n"
     ]
    }
   ],
   "source": [
    "# This bit to find best LSTM model for when Ablation == True and for both target variables\n",
    "\n",
    "from tensorflow.keras.models import Sequential\n",
    "from tensorflow.keras.layers import Dense, LSTM\n",
    "\n",
    "for i in [\"delta\",\"absolute\"]:\n",
    "    \n",
    "    indices = eval(f\"indices_ablation\")  # Get the indices for the current category\n",
    "\n",
    "    # Find common indexes\n",
    "    X_Train_valid_indices = indices.intersection(eval(f\"X_{i}_train\").index)\n",
    "    y_Train_valid_indices = indices.intersection(eval(f\"y_{i}_train\").index)\n",
    "    X_Test_valid_indices = indices.intersection(eval(f\"X_{i}_test\").index)\n",
    "    y_Test_valid_indices = indices.intersection(eval(f\"y_{i}_test\").index)\n",
    "\n",
    "    # filter out by indeces\n",
    "    X_train_category = eval(f\"X_{i}_train\").loc[X_Train_valid_indices]  \n",
    "    y_train_category = eval(f\"y_{i}_train\").loc[y_Train_valid_indices] \n",
    "    X_test_category = eval(f\"X_{i}_test\").loc[X_Test_valid_indices]  \n",
    "    y_test_category = eval(f\"y_{i}_test\").loc[y_Test_valid_indices]\n",
    "    \n",
    "    # Impute missing values\n",
    "    X_train_category = X_train_category.fillna(X_train_category.mean())\n",
    "    y_train_category = y_train_category.fillna(y_train_category.mean())\n",
    "    X_test_category = X_test_category.fillna(X_test_category.mean())\n",
    "\n",
    "    \n",
    "    # Reshape the input data to 3D array\n",
    "    X_train_category = X_train_category.values.reshape((X_train_category.shape[0], 1, X_train_category.shape[1]))\n",
    "    X_test_category = X_test_category.values.reshape((X_test_category.shape[0], 1, X_test_category.shape[1]))\n",
    "    \n",
    "    # Define the LSTM model\n",
    "    model = Sequential()\n",
    "    model.add(LSTM(64, input_shape=(1, X_train_category.shape[2])))\n",
    "    model.add(Dense(1))\n",
    "    \n",
    "    # Compile the model\n",
    "    model.compile(loss='mse', optimizer='adam')\n",
    "    \n",
    "    # Fit the model to the training data\n",
    "    model.fit(X_train_category, y_train_category, epochs=50, batch_size=64, validation_data=(X_test_category, y_test_category), verbose=0)\n",
    "    \n",
    "    # Evaluate the model on the test set\n",
    "    y_pred_category = model.predict(X_test_category)\n",
    "    r2 = r2_score(y_test_category, y_pred_category)\n",
    "    mse = mean_squared_error(y_test_category, y_pred_category)\n",
    "    print(f\"R^2 score on test set ({i}): \", r2)\n",
    "    print(f\"MSE on test set ({i}): \", mse)\n"
   ]
  },
  {
   "cell_type": "markdown",
   "metadata": {},
   "source": [
    "--------"
   ]
  }
 ],
 "metadata": {
  "colab": {
   "provenance": []
  },
  "kernelspec": {
   "display_name": "Python 3 (ipykernel)",
   "language": "python",
   "name": "python3"
  },
  "language_info": {
   "codemirror_mode": {
    "name": "ipython",
    "version": 3
   },
   "file_extension": ".py",
   "mimetype": "text/x-python",
   "name": "python",
   "nbconvert_exporter": "python",
   "pygments_lexer": "ipython3",
   "version": "3.8.8"
  },
  "vscode": {
   "interpreter": {
    "hash": "aee8b7b246df8f9039afb4144a1f6fd8d2ca17a180786b69acc140d282b71a49"
   }
  }
 },
 "nbformat": 4,
 "nbformat_minor": 1
}
