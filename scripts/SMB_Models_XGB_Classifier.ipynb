{
 "cells": [
  {
   "cell_type": "markdown",
   "metadata": {},
   "source": [
    "# Surface Mass Balance: XGB "
   ]
  },
  {
   "cell_type": "markdown",
   "metadata": {
    "id": "FTbsuMgO3ery"
   },
   "source": [
    "Import relevant Libaries "
   ]
  },
  {
   "cell_type": "code",
   "execution_count": 1,
   "metadata": {
    "collapsed": true
   },
   "outputs": [
    {
     "name": "stdout",
     "output_type": "stream",
     "text": [
      "Requirement already satisfied: pyarrow in /Library/Frameworks/Python.framework/Versions/3.9/lib/python3.9/site-packages (11.0.0)\n",
      "Requirement already satisfied: numpy>=1.16.6 in /Library/Frameworks/Python.framework/Versions/3.9/lib/python3.9/site-packages (from pyarrow) (1.22.2)\n",
      "Note: you may need to restart the kernel to use updated packages.\n",
      "Requirement already satisfied: plotly in /Library/Frameworks/Python.framework/Versions/3.9/lib/python3.9/site-packages (5.13.0)\n",
      "Requirement already satisfied: tenacity>=6.2.0 in /Library/Frameworks/Python.framework/Versions/3.9/lib/python3.9/site-packages (from plotly) (8.2.1)\n",
      "Note: you may need to restart the kernel to use updated packages.\n",
      "Requirement already satisfied: feature_engine in /Library/Frameworks/Python.framework/Versions/3.9/lib/python3.9/site-packages (1.5.2)\n",
      "Requirement already satisfied: numpy>=1.18.2 in /Library/Frameworks/Python.framework/Versions/3.9/lib/python3.9/site-packages (from feature_engine) (1.22.2)\n",
      "Requirement already satisfied: scikit-learn>=1.0.0 in /Library/Frameworks/Python.framework/Versions/3.9/lib/python3.9/site-packages (from feature_engine) (1.2.1)\n",
      "Requirement already satisfied: pandas>=1.0.3 in /Library/Frameworks/Python.framework/Versions/3.9/lib/python3.9/site-packages (from feature_engine) (1.3.3)\n",
      "Requirement already satisfied: scipy>=1.4.1 in /Library/Frameworks/Python.framework/Versions/3.9/lib/python3.9/site-packages (from feature_engine) (1.5.4)\n",
      "Requirement already satisfied: statsmodels>=0.11.1 in /Library/Frameworks/Python.framework/Versions/3.9/lib/python3.9/site-packages (from feature_engine) (0.13.5)\n",
      "Requirement already satisfied: python-dateutil>=2.7.3 in /Library/Frameworks/Python.framework/Versions/3.9/lib/python3.9/site-packages (from pandas>=1.0.3->feature_engine) (2.8.1)\n",
      "Requirement already satisfied: pytz>=2017.3 in /Library/Frameworks/Python.framework/Versions/3.9/lib/python3.9/site-packages (from pandas>=1.0.3->feature_engine) (2020.4)\n",
      "Requirement already satisfied: joblib>=1.1.1 in /Library/Frameworks/Python.framework/Versions/3.9/lib/python3.9/site-packages (from scikit-learn>=1.0.0->feature_engine) (1.2.0)\n",
      "Requirement already satisfied: threadpoolctl>=2.0.0 in /Library/Frameworks/Python.framework/Versions/3.9/lib/python3.9/site-packages (from scikit-learn>=1.0.0->feature_engine) (2.1.0)\n",
      "Requirement already satisfied: patsy>=0.5.2 in /Library/Frameworks/Python.framework/Versions/3.9/lib/python3.9/site-packages (from statsmodels>=0.11.1->feature_engine) (0.5.3)\n",
      "Requirement already satisfied: packaging>=21.3 in /Library/Frameworks/Python.framework/Versions/3.9/lib/python3.9/site-packages (from statsmodels>=0.11.1->feature_engine) (23.0)\n",
      "Requirement already satisfied: six in /Library/Frameworks/Python.framework/Versions/3.9/lib/python3.9/site-packages (from patsy>=0.5.2->statsmodels>=0.11.1->feature_engine) (1.15.0)\n",
      "Note: you may need to restart the kernel to use updated packages.\n",
      "ERROR: unknown command \"update\"\n",
      "Note: you may need to restart the kernel to use updated packages.\n"
     ]
    }
   ],
   "source": [
    "%pip install pyarrow\n",
    "%pip install plotly\n",
    "%pip install feature_engine\n",
    "%pip update pandas"
   ]
  },
  {
   "cell_type": "code",
   "execution_count": 83,
   "metadata": {
    "id": "yJLqdDNx3j-Y"
   },
   "outputs": [],
   "source": [
    "# Base libraries\n",
    "import pandas as pd\n",
    "import numpy as np\n",
    "import os\n",
    "import math as math\n",
    "import datetime\n",
    "from scipy import stats\n",
    "\n",
    "# Visualizations\n",
    "import matplotlib.pyplot as plt\n",
    "\n",
    "import plotly.express as px\n",
    "import plotly.graph_objects as go\n",
    "\n",
    "import seaborn as sns\n",
    "\n",
    "# Set WD\n",
    "import os\n",
    "from pyrsistent import v\n",
    "os.getcwd()"
   ]
  },
  {
   "cell_type": "markdown",
   "metadata": {},
   "source": [
    "#### Load KAN_L "
   ]
  },
  {
   "cell_type": "code",
   "execution_count": 108,
   "metadata": {},
   "outputs": [],
   "source": [
    "#df = pd.read_csv(r'..\\data\\promice\\preprocessed\\daily\\KAN_L.csv', index_col=0)\n",
    "df = pd.read_csv(r'../data/promice/preprocessed/daily/KAN_L.csv', index_col=0)\n"
   ]
  },
  {
   "cell_type": "markdown",
   "metadata": {},
   "source": [
    "#### Load SCO_L "
   ]
  },
  {
   "cell_type": "code",
   "execution_count": 110,
   "metadata": {},
   "outputs": [
    {
     "name": "stderr",
     "output_type": "stream",
     "text": [
      "The frame.append method is deprecated and will be removed from pandas in a future version. Use pandas.concat instead.\n"
     ]
    }
   ],
   "source": [
    "#df = pd.read_csv(r'..\\data\\promice\\preprocessed\\daily\\KAN_L.csv', index_col=0)\n",
    "df_1 = pd.read_csv(r'../data/promice/preprocessed/daily/SCO_L.csv', index_col=0)\n",
    "\n",
    "df = df.append(df_1)"
   ]
  },
  {
   "cell_type": "markdown",
   "metadata": {},
   "source": [
    "##### Pre-processing (0.1: Change months to cycle)"
   ]
  },
  {
   "cell_type": "code",
   "execution_count": 111,
   "metadata": {},
   "outputs": [],
   "source": [
    "# This bit to change the datetime variables into a form that a ML models can understand\n",
    "  # https://ianlondon.github.io/blog/encoding-cyclical-features-24hour-time/\n",
    "  # https://feature-engine.trainindata.com/en/1.3.x/user_guide/creation/CyclicalFeatures.html\n",
    "    \n",
    "    \n",
    "# This bit to split Datetime column into year, month, day, hour columns\n",
    "df['Datetime'] = pd.to_datetime(df['Datetime'])\n",
    "df['Datetime'] = df['Datetime'].dt.strftime('%Y-%m-%d')\n",
    "\n",
    "df['Datetime'] = pd.to_datetime(df['Datetime'])\n",
    "\n",
    "#Create new columns\n",
    "#df['year'] = df['Datetime'].dt.year \n",
    "df['month'] = df['Datetime'].dt.month\n",
    "#df['day'] = df['Datetime'].dt.day\n",
    "#df['hour'] = df['Datetime'].dt.hour\n",
    "\n",
    "#Drop the datetime column\n",
    "df.drop(columns=['Datetime'], inplace=True)"
   ]
  },
  {
   "cell_type": "code",
   "execution_count": 112,
   "metadata": {},
   "outputs": [],
   "source": [
    "# This bit to change the datetime variables into a form that a ML models can understand (continued)\n",
    "  # https://ianlondon.github.io/blog/encoding-cyclical-features-24hour-time/\n",
    "  # https://feature-engine.trainindata.com/en/1.3.x/user_guide/creation/CyclicalFeatures.html \n",
    "\n",
    "# Use CyclicalFeatures Package to convert year, month, day & hour\n",
    "from feature_engine.creation import CyclicalFeatures\n",
    "\n",
    "cyclical = CyclicalFeatures(variables=None, drop_original=True)\n",
    "\n",
    "# with year\n",
    "#cyclical = cyclical.fit_transform(df[['month', 'year', 'Wind from direction (upper boom)']]) \n",
    "\n",
    "# Remove only values from Wind direction because CyclicalFeatures does not work with NAN\n",
    "df = df[df['Wind from direction (upper boom)'].notna()] \n",
    "\n",
    "# without year\n",
    "#cyclical = cyclical.fit_transform(df[['month', 'Wind from direction (upper boom)']]) \n",
    "cyclical = cyclical.fit_transform(df[['Wind from direction (upper boom)']]) \n",
    "df = pd.merge(df, cyclical, left_index=True, right_index=True)\n",
    "\n",
    "df.drop(columns=['month', 'Wind from direction (upper boom)'], inplace=True)"
   ]
  },
  {
   "cell_type": "markdown",
   "metadata": {},
   "source": [
    "##### Pre-processing (1.0: Filter relevant periods)"
   ]
  },
  {
   "cell_type": "code",
   "execution_count": 113,
   "metadata": {},
   "outputs": [],
   "source": [
    "# Fill NA values in Melting season as blank\n",
    "df['Melting Season'] = df['Melting Season'].fillna('no_ablation')"
   ]
  },
  {
   "cell_type": "code",
   "execution_count": 114,
   "metadata": {},
   "outputs": [],
   "source": [
    "#Only Ablation Period Or Melting Season\n",
    "df = df[df['Ablation'] == True]\n",
    "#df =  df[df['Melting Season'].isin(['pre', 'beginning', 'middle', 'end'])]\n",
    "\n",
    "#Remove all NA values if training should be done only on ablation\n",
    "#df = df.dropna()\n",
    "\n",
    "df = df.reset_index(drop=True)"
   ]
  },
  {
   "cell_type": "code",
   "execution_count": 115,
   "metadata": {},
   "outputs": [],
   "source": [
    "# This bit retrieve the indexes for all melting season categories and remove column from df\n",
    "for category in ['no_ablation', 'pre', 'beginning', 'middle', 'end']:\n",
    "    exec(f\"indices_{category} = df[df['Melting Season'] == '{category}'].index\")\n",
    "\n",
    "# This bit retrieve the indexes for Ablation periods\n",
    "for category in [True]:\n",
    "    exec(f\"indices_ablation = df[df['Ablation'] == {category}].index\")\n",
    "\n",
    "indices_all = df[df['Ablation'].isin([True, False])].index"
   ]
  },
  {
   "cell_type": "markdown",
   "metadata": {},
   "source": [
    "##### Pre-processing (2.0: Formatting and transformation)"
   ]
  },
  {
   "cell_type": "code",
   "execution_count": 116,
   "metadata": {},
   "outputs": [],
   "source": [
    "from sklearn.preprocessing import LabelEncoder\n",
    " \n",
    "# Creating a instance of label Encoder.\n",
    "le = LabelEncoder()\n",
    " \n",
    "# Using .fit_transform function to fit label\n",
    "# encoder and return encoded label\n",
    "df['Melting Season'] = le.fit_transform(df['Melting Season'])\n",
    "label_dict = dict(zip(le.classes_, le.transform(le.classes_)))\n",
    "\n",
    "class_order = ['no_ablation', 'pre', 'beginning', 'middle', 'end']\n",
    "\n",
    "# Sort the label_dict based on the desired order of class names\n",
    "label_dict_sorted = {class_name: label_dict[class_name] for class_name in class_order if class_name in label_dict}"
   ]
  },
  {
   "cell_type": "code",
   "execution_count": 117,
   "metadata": {},
   "outputs": [],
   "source": [
    "# This bit to include only relevant features\n",
    "exclude_list = [                                                    'index', # excluded because of unimportant information\n",
    "                                                                     'stid', # excluded because of unimportant information\n",
    "                                                               'Unnamed: 0', # Old Index\n",
    "                                                                 'Ablation',\n",
    "                                                          # 'Melting Season', # We drop melting season later \n",
    "                                              'year', 'month','day', 'hour', # Drop because of sin & cos values\n",
    "                                                                 'subgroup',\n",
    "                'Surface height from combined measurements',\n",
    "                'Surface height from combined measurements DELTA'\n",
    "               ]\n",
    "\n",
    "df = df[[column for column in df.columns if column not in exclude_list]]\n"
   ]
  },
  {
   "cell_type": "code",
   "execution_count": 118,
   "metadata": {},
   "outputs": [],
   "source": [
    "# This bit to convert all numerical values into the same scale \n",
    "from sklearn.preprocessing import StandardScaler, MinMaxScaler, RobustScaler\n",
    "\n",
    "\n",
    "scalers = [StandardScaler(), MinMaxScaler(), RobustScaler()]\n",
    "\n",
    "# with year\n",
    "#num_cols = df.select_dtypes(include=['int64','float64']).drop(['Surface height from combined measurements', 'Surface height from combined measurements DELTA','month_sin','month_cos','year_sin','year_cos','Wind from direction (upper boom)_sin', 'Wind from direction (upper boom)_cos', 'Melting Season'], axis=1).columns #select numerical columns except y and cyclical feature\n",
    "\n",
    "# without year\n",
    "#num_cols = df.select_dtypes(include=['int64','float64']).drop(['month_sin','month_cos','Wind from direction (upper boom)_sin', 'Wind from direction (upper boom)_cos', 'Melting Season'], axis=1).columns #select numerical columns except y and cyclical feature\n",
    "num_cols = df.select_dtypes(include=['int64','float64']).drop(['Wind from direction (upper boom)_sin', 'Wind from direction (upper boom)_cos', 'Melting Season'], axis=1).columns #select numerical columns except y and cyclical feature\n",
    "\n",
    "scaler = MinMaxScaler()\n",
    "\n",
    "#fit and transform numerical columns\n",
    "df[num_cols] = scaler.fit_transform(df[num_cols])"
   ]
  },
  {
   "cell_type": "code",
   "execution_count": 119,
   "metadata": {},
   "outputs": [],
   "source": [
    "# This bit to split into Train & Test\n",
    "from sklearn.model_selection import train_test_split\n",
    "from sklearn.model_selection import StratifiedShuffleSplit\n",
    "\n",
    "# split the data into training and testing sets while maintaining the subgroup distribution\n",
    "split = StratifiedShuffleSplit(n_splits=1, test_size=0.3, random_state=42)\n",
    "\n",
    "for train_index, test_index in split.split(df, df['Melting Season']):\n",
    "    train = df.loc[train_index]\n",
    "    test = df.loc[test_index]\n",
    "\n",
    "# separate the features and target variables for the train and test sets\n",
    "X_train = train.drop(['Melting Season'], axis=1)\n",
    "y_train = train['Melting Season']\n",
    "X_test = test.drop(['Melting Season'], axis=1)\n",
    "y_test = test['Melting Season']\n",
    "\n"
   ]
  },
  {
   "cell_type": "markdown",
   "metadata": {},
   "source": [
    "## XGB Classifier"
   ]
  },
  {
   "cell_type": "code",
   "execution_count": 120,
   "metadata": {},
   "outputs": [],
   "source": [
    "# Import required libraries\n",
    "import xgboost as xgb\n",
    "from sklearn.model_selection import GridSearchCV\n",
    "from sklearn.metrics import accuracy_score, f1_score, confusion_matrix"
   ]
  },
  {
   "cell_type": "code",
   "execution_count": 121,
   "metadata": {},
   "outputs": [
    {
     "name": "stdout",
     "output_type": "stream",
     "text": [
      "Fitting 5 folds for each of 1 candidates, totalling 5 fits\n",
      "Best hyperparameters:  {'gamma': 0, 'learning_rate': 0.001, 'max_depth': 5, 'min_child_weight': 5, 'n_estimators': 100}\n",
      "Accuracy score on test set:  0.8558951965065502\n",
      "F1 score on test set:  0.8458296332617409\n",
      "Confusion matrix on test set: \n",
      "           beginning  end  middle\n",
      "beginning        118    0     127\n",
      "end                0  198      53\n",
      "middle            19   32    1056\n"
     ]
    }
   ],
   "source": [
    "# This bit to find best XBG Regressor model for when Ablation == True and for both target variables\n",
    "\n",
    "indices = eval(f\"indices_all\")  # Get the indices for the current category\n",
    "\n",
    "# Find common indexes\n",
    "X_Train_valid_indices = indices.intersection(X_train.index)\n",
    "y_Train_valid_indices = indices.intersection(y_train.index)\n",
    "X_Test_valid_indices = indices.intersection(X_test.index)\n",
    "y_Test_valid_indices = indices.intersection(y_test.index)\n",
    "\n",
    "# filter out by indeces\n",
    "X_train = X_train.loc[X_Train_valid_indices]  \n",
    "y_train = y_train.loc[y_Train_valid_indices] \n",
    "X_test  = X_test.loc[X_Test_valid_indices]  \n",
    "y_test  = y_test.loc[y_Test_valid_indices]\n",
    "\n",
    "num_classes = y_test.unique().sum()\n",
    "\n",
    "# Define the XGBClassifier model\n",
    "model = xgb.XGBClassifier(objective='multi:softmax', num_class= num_classes)\n",
    "\n",
    "# Define the hyperparameter grid for tuning\n",
    "param_grid = {\n",
    "    'max_depth': [ 5],\n",
    "    'learning_rate': [0.001],\n",
    "    'n_estimators': [100],\n",
    "    'min_child_weight': [5],\n",
    "    'gamma': [ 0],\n",
    "}\n",
    "\n",
    "# Define the grid search object\n",
    "grid_search = GridSearchCV(model, param_grid = param_grid, cv=5, n_jobs=-1, verbose=1)\n",
    "\n",
    "# Fit the grid search object to the training data\n",
    "grid_search.fit(X_train, y_train)\n",
    "\n",
    "# Print the best hyperparameters and the corresponding accuracy score on the test set\n",
    "print(\"Best hyperparameters: \", grid_search.best_params_)\n",
    "y_pred = grid_search.predict(X_test)\n",
    "print(\"Accuracy score on test set: \", accuracy_score(y_test, y_pred))\n",
    "print(\"F1 score on test set: \", f1_score(y_test, y_pred, average='weighted'))\n",
    "\n",
    "labels = [k for k, v in sorted(label_dict.items(), key=lambda item: item[1])]\n",
    "cm = confusion_matrix(y_test, y_pred)\n",
    "cm_df = pd.DataFrame(cm, index=labels, columns=labels)\n",
    "print(\"Confusion matrix on test set: \")\n",
    "print(cm_df)\n",
    "\n",
    "\n",
    "# Save the best model parameters as 'model' variable\n",
    "model = grid_search.best_estimator_"
   ]
  },
  {
   "cell_type": "code",
   "execution_count": 122,
   "metadata": {},
   "outputs": [],
   "source": [
    "for category, class_label in label_dict.items():\n",
    "    indices = eval(f\"indices_{category}\")  # Get the indices for the current category\n",
    "\n",
    "    # Find common indexes\n",
    "    X_Train_valid_indices = indices.intersection(X_train.index)\n",
    "    y_Train_valid_indices = indices.intersection(y_train.index)\n",
    "    X_Test_valid_indices = indices.intersection(X_test.index)\n",
    "    y_Test_valid_indices = indices.intersection(y_test.index)\n",
    "\n",
    "    # filter out by indeces\n",
    "    X_train_category = X_train.loc[X_Train_valid_indices]\n",
    "    y_train_category = y_train.loc[y_Train_valid_indices]\n",
    "    X_test_category = X_test.loc[X_Test_valid_indices]\n",
    "    y_test_category = y_test.loc[y_Test_valid_indices]\n",
    "\n",
    "    # Apply XGB on all periods  \n",
    "    y_pred_category = model.predict(X_test_category)\n",
    "    \n",
    "    exec(f\"accuracy_{category} = accuracy_score(y_test_category, y_pred_category)\")\n",
    "    exec(f\"f1_{category} = f1_score(y_test_category, y_pred_category, average='weighted')\")"
   ]
  },
  {
   "cell_type": "code",
   "execution_count": 123,
   "metadata": {},
   "outputs": [
    {
     "name": "stderr",
     "output_type": "stream",
     "text": [
      "ntree_limit is deprecated, use `iteration_range` or model slicing instead.\n"
     ]
    },
    {
     "data": {
      "image/png": "[encoded data removed]",
      "text/plain": [
       "<Figure size 576x568.8 with 1 Axes>"
      ]
     },
     "metadata": {
      "needs_background": "light"
     },
     "output_type": "display_data"
    }
   ],
   "source": [
    "import shap\n",
    "\n",
    "explainer = shap.TreeExplainer(model)\n",
    "shap_values = explainer.shap_values(X_test,approximate=True)\n",
    "shap.summary_plot(shap_values, X_test, plot_type='bar', class_names=list(label_dict.keys()))"
   ]
  },
  {
   "cell_type": "markdown",
   "metadata": {},
   "source": [
    "## Filter by Melting Season"
   ]
  },
  {
   "cell_type": "code",
   "execution_count": 124,
   "metadata": {},
   "outputs": [
    {
     "name": "stdout",
     "output_type": "stream",
     "text": [
      "beginning:\n",
      "Accuracy: 0.4816326530612245\n",
      "F1: 0.650137741046832\n"
     ]
    },
    {
     "data": {
      "text/html": [
       "<div>\n",
       "<style scoped>\n",
       "    .dataframe tbody tr th:only-of-type {\n",
       "        vertical-align: middle;\n",
       "    }\n",
       "\n",
       "    .dataframe tbody tr th {\n",
       "        vertical-align: top;\n",
       "    }\n",
       "\n",
       "    .dataframe thead th {\n",
       "        text-align: right;\n",
       "    }\n",
       "</style>\n",
       "<table border=\"1\" class=\"dataframe\">\n",
       "  <thead>\n",
       "    <tr style=\"text-align: right;\">\n",
       "      <th></th>\n",
       "      <th>Feature</th>\n",
       "      <th>SHAP Value</th>\n",
       "    </tr>\n",
       "  </thead>\n",
       "  <tbody>\n",
       "    <tr>\n",
       "      <th>0</th>\n",
       "      <td>Upwelling shortwave radiation - corrected</td>\n",
       "      <td>0.032148</td>\n",
       "    </tr>\n",
       "    <tr>\n",
       "      <th>1</th>\n",
       "      <td>Air pressure (upper boom)</td>\n",
       "      <td>0.016860</td>\n",
       "    </tr>\n",
       "    <tr>\n",
       "      <th>2</th>\n",
       "      <td>Albedo</td>\n",
       "      <td>0.008608</td>\n",
       "    </tr>\n",
       "    <tr>\n",
       "      <th>3</th>\n",
       "      <td>Downwelling longwave radiation</td>\n",
       "      <td>0.007099</td>\n",
       "    </tr>\n",
       "    <tr>\n",
       "      <th>4</th>\n",
       "      <td>Specific humidity (upper boom)</td>\n",
       "      <td>0.003265</td>\n",
       "    </tr>\n",
       "  </tbody>\n",
       "</table>\n",
       "</div>"
      ],
      "text/plain": [
       "                                     Feature  SHAP Value\n",
       "0  Upwelling shortwave radiation - corrected    0.032148\n",
       "1                  Air pressure (upper boom)    0.016860\n",
       "2                                     Albedo    0.008608\n",
       "3             Downwelling longwave radiation    0.007099\n",
       "4             Specific humidity (upper boom)    0.003265"
      ]
     },
     "metadata": {},
     "output_type": "display_data"
    },
    {
     "data": {
      "image/png": "[encoded data removed]",
      "text/plain": [
       "<Figure size 576x252 with 1 Axes>"
      ]
     },
     "metadata": {
      "needs_background": "light"
     },
     "output_type": "display_data"
    },
    {
     "name": "stderr",
     "output_type": "stream",
     "text": [
      "ntree_limit is deprecated, use `iteration_range` or model slicing instead.\n"
     ]
    },
    {
     "name": "stdout",
     "output_type": "stream",
     "text": [
      "middle:\n",
      "Accuracy: 0.9539295392953929\n",
      "F1: 0.9764216366158114\n"
     ]
    },
    {
     "data": {
      "text/html": [
       "<div>\n",
       "<style scoped>\n",
       "    .dataframe tbody tr th:only-of-type {\n",
       "        vertical-align: middle;\n",
       "    }\n",
       "\n",
       "    .dataframe tbody tr th {\n",
       "        vertical-align: top;\n",
       "    }\n",
       "\n",
       "    .dataframe thead th {\n",
       "        text-align: right;\n",
       "    }\n",
       "</style>\n",
       "<table border=\"1\" class=\"dataframe\">\n",
       "  <thead>\n",
       "    <tr style=\"text-align: right;\">\n",
       "      <th></th>\n",
       "      <th>Feature</th>\n",
       "      <th>SHAP Value</th>\n",
       "    </tr>\n",
       "  </thead>\n",
       "  <tbody>\n",
       "    <tr>\n",
       "      <th>0</th>\n",
       "      <td>Surface temperature</td>\n",
       "      <td>0.031401</td>\n",
       "    </tr>\n",
       "    <tr>\n",
       "      <th>1</th>\n",
       "      <td>Downwelling shortwave radiation - corrected</td>\n",
       "      <td>0.014591</td>\n",
       "    </tr>\n",
       "    <tr>\n",
       "      <th>2</th>\n",
       "      <td>Air temperature (upper boom)</td>\n",
       "      <td>0.008666</td>\n",
       "    </tr>\n",
       "    <tr>\n",
       "      <th>3</th>\n",
       "      <td>Albedo</td>\n",
       "      <td>0.006730</td>\n",
       "    </tr>\n",
       "    <tr>\n",
       "      <th>4</th>\n",
       "      <td>Air pressure (upper boom)</td>\n",
       "      <td>0.005480</td>\n",
       "    </tr>\n",
       "  </tbody>\n",
       "</table>\n",
       "</div>"
      ],
      "text/plain": [
       "                                       Feature  SHAP Value\n",
       "0                          Surface temperature    0.031401\n",
       "1  Downwelling shortwave radiation - corrected    0.014591\n",
       "2                 Air temperature (upper boom)    0.008666\n",
       "3                                       Albedo    0.006730\n",
       "4                    Air pressure (upper boom)    0.005480"
      ]
     },
     "metadata": {},
     "output_type": "display_data"
    },
    {
     "data": {
      "image/png": "[encoded data removed]",
      "text/plain": [
       "<Figure size 576x252 with 1 Axes>"
      ]
     },
     "metadata": {
      "needs_background": "light"
     },
     "output_type": "display_data"
    },
    {
     "name": "stderr",
     "output_type": "stream",
     "text": [
      "ntree_limit is deprecated, use `iteration_range` or model slicing instead.\n"
     ]
    },
    {
     "name": "stdout",
     "output_type": "stream",
     "text": [
      "end:\n",
      "Accuracy: 0.7888446215139442\n",
      "F1: 0.8819599109131403\n"
     ]
    },
    {
     "data": {
      "text/html": [
       "<div>\n",
       "<style scoped>\n",
       "    .dataframe tbody tr th:only-of-type {\n",
       "        vertical-align: middle;\n",
       "    }\n",
       "\n",
       "    .dataframe tbody tr th {\n",
       "        vertical-align: top;\n",
       "    }\n",
       "\n",
       "    .dataframe thead th {\n",
       "        text-align: right;\n",
       "    }\n",
       "</style>\n",
       "<table border=\"1\" class=\"dataframe\">\n",
       "  <thead>\n",
       "    <tr style=\"text-align: right;\">\n",
       "      <th></th>\n",
       "      <th>Feature</th>\n",
       "      <th>SHAP Value</th>\n",
       "    </tr>\n",
       "  </thead>\n",
       "  <tbody>\n",
       "    <tr>\n",
       "      <th>0</th>\n",
       "      <td>Downwelling shortwave radiation - corrected</td>\n",
       "      <td>0.037244</td>\n",
       "    </tr>\n",
       "    <tr>\n",
       "      <th>1</th>\n",
       "      <td>Upwelling longwave radiation</td>\n",
       "      <td>0.020649</td>\n",
       "    </tr>\n",
       "    <tr>\n",
       "      <th>2</th>\n",
       "      <td>Downwelling longwave radiation</td>\n",
       "      <td>0.003896</td>\n",
       "    </tr>\n",
       "    <tr>\n",
       "      <th>3</th>\n",
       "      <td>Surface temperature</td>\n",
       "      <td>0.002535</td>\n",
       "    </tr>\n",
       "    <tr>\n",
       "      <th>4</th>\n",
       "      <td>Cloud cover</td>\n",
       "      <td>0.001510</td>\n",
       "    </tr>\n",
       "  </tbody>\n",
       "</table>\n",
       "</div>"
      ],
      "text/plain": [
       "                                       Feature  SHAP Value\n",
       "0  Downwelling shortwave radiation - corrected    0.037244\n",
       "1                 Upwelling longwave radiation    0.020649\n",
       "2               Downwelling longwave radiation    0.003896\n",
       "3                          Surface temperature    0.002535\n",
       "4                                  Cloud cover    0.001510"
      ]
     },
     "metadata": {},
     "output_type": "display_data"
    },
    {
     "data": {
      "image/png": "[encoded data removed]",
      "text/plain": [
       "<Figure size 576x252 with 1 Axes>"
      ]
     },
     "metadata": {
      "needs_background": "light"
     },
     "output_type": "display_data"
    }
   ],
   "source": [
    "# Loop through each class\n",
    "for class_name, class_label in label_dict_sorted.items():\n",
    "\n",
    "    # Calculate SHAP values for the current class\n",
    "    shap_values = shap.TreeExplainer(model).shap_values(X_test)\n",
    "    shap_values_class = shap_values[class_label]\n",
    "\n",
    "    # Calculate absolute SHAP values for each feature\n",
    "    shap_df = pd.DataFrame(abs(shap_values_class), columns=X_test.columns)\n",
    "\n",
    "    # Get top 5 features for the current class\n",
    "    top_features = shap_df.mean().sort_values(ascending=False)[:5]\n",
    "\n",
    "    # Create a table with top 5 features and their corresponding SHAP values for the current class\n",
    "    top_features_table = pd.DataFrame({'Feature': top_features.index,\n",
    "                                       'SHAP Value': top_features.values})\n",
    "\n",
    "    # Add a column with the class name\n",
    "    #top_features_table['Class'] = class_name\n",
    "\n",
    "    # Print the table for the current class\n",
    "    print(f'{class_name}:')\n",
    "    \n",
    "    print(\"Accuracy:\" , eval(f\"accuracy_{class_name}\"))\n",
    "    print(\"F1:\" , eval(f\"f1_{class_name}\"))\n",
    "    \n",
    "    display(top_features_table)\n",
    "\n",
    "    # Create summary plot for the current class\n",
    "    shap.summary_plot(shap_values_class, X_test, plot_type='bar', max_display=5, show=False)\n",
    "    plt.title(f'Summary plot for {class_name}')\n",
    "    plt.show()"
   ]
  },
  {
   "cell_type": "markdown",
   "metadata": {},
   "source": [
    "--------"
   ]
  }
 ],
 "metadata": {
  "colab": {
   "provenance": []
  },
  "kernelspec": {
   "display_name": "Python 3 (ipykernel)",
   "language": "python",
   "name": "python3"
  },
  "language_info": {
   "codemirror_mode": {
    "name": "ipython",
    "version": 3
   },
   "file_extension": ".py",
   "mimetype": "text/x-python",
   "name": "python",
   "nbconvert_exporter": "python",
   "pygments_lexer": "ipython3",
   "version": "3.8.8"
  },
  "vscode": {
   "interpreter": {
    "hash": "aee8b7b246df8f9039afb4144a1f6fd8d2ca17a180786b69acc140d282b71a49"
   }
  }
 },
 "nbformat": 4,
 "nbformat_minor": 1
}
