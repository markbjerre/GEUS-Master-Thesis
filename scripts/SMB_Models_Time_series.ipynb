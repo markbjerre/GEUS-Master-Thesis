{
 "cells": [
  {
   "cell_type": "markdown",
   "metadata": {},
   "source": [
    "# Surface Mass Balance: Time Series "
   ]
  },
  {
   "cell_type": "markdown",
   "metadata": {
    "id": "FTbsuMgO3ery"
   },
   "source": [
    "Import relevant Libaries "
   ]
  },
  {
   "cell_type": "code",
   "execution_count": 1,
   "metadata": {
    "collapsed": true
   },
   "outputs": [
    {
     "name": "stdout",
     "output_type": "stream",
     "text": [
      "Requirement already satisfied: pyarrow in /Library/Frameworks/Python.framework/Versions/3.9/lib/python3.9/site-packages (11.0.0)\n",
      "Requirement already satisfied: numpy>=1.16.6 in /Library/Frameworks/Python.framework/Versions/3.9/lib/python3.9/site-packages (from pyarrow) (1.22.2)\n",
      "Note: you may need to restart the kernel to use updated packages.\n",
      "Requirement already satisfied: plotly in /Library/Frameworks/Python.framework/Versions/3.9/lib/python3.9/site-packages (5.13.0)\n",
      "Requirement already satisfied: tenacity>=6.2.0 in /Library/Frameworks/Python.framework/Versions/3.9/lib/python3.9/site-packages (from plotly) (8.2.1)\n",
      "Note: you may need to restart the kernel to use updated packages.\n",
      "Requirement already satisfied: feature_engine in /Library/Frameworks/Python.framework/Versions/3.9/lib/python3.9/site-packages (1.5.2)\n",
      "Requirement already satisfied: numpy>=1.18.2 in /Library/Frameworks/Python.framework/Versions/3.9/lib/python3.9/site-packages (from feature_engine) (1.22.2)\n",
      "Requirement already satisfied: scikit-learn>=1.0.0 in /Library/Frameworks/Python.framework/Versions/3.9/lib/python3.9/site-packages (from feature_engine) (1.2.1)\n",
      "Requirement already satisfied: pandas>=1.0.3 in /Library/Frameworks/Python.framework/Versions/3.9/lib/python3.9/site-packages (from feature_engine) (1.3.3)\n",
      "Requirement already satisfied: scipy>=1.4.1 in /Library/Frameworks/Python.framework/Versions/3.9/lib/python3.9/site-packages (from feature_engine) (1.5.4)\n",
      "Requirement already satisfied: statsmodels>=0.11.1 in /Library/Frameworks/Python.framework/Versions/3.9/lib/python3.9/site-packages (from feature_engine) (0.13.5)\n",
      "Requirement already satisfied: python-dateutil>=2.7.3 in /Library/Frameworks/Python.framework/Versions/3.9/lib/python3.9/site-packages (from pandas>=1.0.3->feature_engine) (2.8.1)\n",
      "Requirement already satisfied: pytz>=2017.3 in /Library/Frameworks/Python.framework/Versions/3.9/lib/python3.9/site-packages (from pandas>=1.0.3->feature_engine) (2020.4)\n",
      "Requirement already satisfied: joblib>=1.1.1 in /Library/Frameworks/Python.framework/Versions/3.9/lib/python3.9/site-packages (from scikit-learn>=1.0.0->feature_engine) (1.2.0)\n",
      "Requirement already satisfied: threadpoolctl>=2.0.0 in /Library/Frameworks/Python.framework/Versions/3.9/lib/python3.9/site-packages (from scikit-learn>=1.0.0->feature_engine) (2.1.0)\n",
      "Requirement already satisfied: patsy>=0.5.2 in /Library/Frameworks/Python.framework/Versions/3.9/lib/python3.9/site-packages (from statsmodels>=0.11.1->feature_engine) (0.5.3)\n",
      "Requirement already satisfied: packaging>=21.3 in /Library/Frameworks/Python.framework/Versions/3.9/lib/python3.9/site-packages (from statsmodels>=0.11.1->feature_engine) (23.0)\n",
      "Requirement already satisfied: six in /Library/Frameworks/Python.framework/Versions/3.9/lib/python3.9/site-packages (from patsy>=0.5.2->statsmodels>=0.11.1->feature_engine) (1.15.0)\n",
      "Note: you may need to restart the kernel to use updated packages.\n",
      "ERROR: unknown command \"update\"\n",
      "Note: you may need to restart the kernel to use updated packages.\n"
     ]
    }
   ],
   "source": [
    "%pip install pyarrow\n",
    "%pip install plotly\n",
    "%pip install feature_engine\n",
    "%pip update pandas"
   ]
  },
  {
   "cell_type": "code",
   "execution_count": 1,
   "metadata": {
    "id": "yJLqdDNx3j-Y"
   },
   "outputs": [],
   "source": [
    "# Base libraries\n",
    "import pandas as pd\n",
    "import numpy as np\n",
    "import os\n",
    "import math as math\n",
    "import datetime\n",
    "from scipy import stats\n",
    "\n",
    "# Visualizations\n",
    "import matplotlib.pyplot as plt\n",
    "\n",
    "import plotly.express as px\n",
    "import plotly.graph_objects as go\n",
    "\n",
    "import seaborn as sns"
   ]
  },
  {
   "cell_type": "markdown",
   "metadata": {
    "id": "-ODOhsaMP7u_"
   },
   "source": [
    "Set WD"
   ]
  },
  {
   "cell_type": "code",
   "execution_count": 2,
   "metadata": {},
   "outputs": [],
   "source": [
    "import os\n",
    "from pyrsistent import v\n",
    "os.getcwd()\n",
    "#os.chdir('/Users/asgerlyngeholst-hansen/Desktop/GEUS-Master-Thesis/')\n",
    "#os.chdir('C:\\\\Users\\\\nifu18ab\\\\Desktop\\\\GEUS-Master-Thesis')\n",
    "#os.chdir('/Users/nilsfulde/Desktop/GEUS-Master-Thesis')\n",
    "os.chdir('/Users/nilsfulde/Desktop/Master_Thesis')"
   ]
  },
  {
   "cell_type": "markdown",
   "metadata": {},
   "source": [
    "#### Load KM_L "
   ]
  },
  {
   "cell_type": "code",
   "execution_count": 3,
   "metadata": {},
   "outputs": [],
   "source": [
    "df = pd.read_csv('data/KAN_L.csv')"
   ]
  },
  {
   "cell_type": "markdown",
   "metadata": {},
   "source": [
    "# Time Series"
   ]
  },
  {
   "cell_type": "markdown",
   "metadata": {},
   "source": [
    "##### Pre-processing"
   ]
  },
  {
   "cell_type": "code",
   "execution_count": 29,
   "metadata": {},
   "outputs": [],
   "source": [
    "# This bit to only focus on the time where we see Ice Ablation\n",
    "df = df[df[\"Ablation\"] == True]"
   ]
  },
  {
   "cell_type": "code",
   "execution_count": 16,
   "metadata": {},
   "outputs": [],
   "source": [
    "# This bit to include only relevant features\n",
    "exclude_list = [                                                    'index', # excluded because of unimportant information\n",
    "                                                                     'stid', # excluded because of unimportant information\n",
    "#                                                'Air pressure (upper boom)',\n",
    "#                                             'Air temperature (upper boom)',\n",
    "                                            'Relative humidity (upper boom)', # excluded because of corrected feature\n",
    "#                               'Relative humidity (upper boom) - corrected',\n",
    "#                                           'Specific humidity (upper boom)',\n",
    "#                                                  'Wind speed (upper boom)',\n",
    "#                                         'Wind from direction (upper boom)',\n",
    "                                          'Downwelling shortwave radiation', # excluded because of corrected feature\n",
    "#                              'Downwelling shortwave radiation - corrected',\n",
    "                                            'Upwelling shortwave radiation', # excluded because of corrected feature\n",
    "#                                'Upwelling shortwave radiation - corrected',\n",
    "                                                                   'Albedo', # excluded due to missing values\n",
    "#                                           'Downwelling longwave radiation',\n",
    "#                                             'Upwelling longwave radiation',\n",
    "#                                                              'Cloud cover',\n",
    "#                                                      'Surface temperature',\n",
    "                                            'Latent heat flux (upper boom)', # excluded due to missing values\n",
    "                                          'Sensible heat flux (upper boom)', # excluded due to missing values\n",
    "                                                        'Upper boom height', # excluded because of unimportant information\n",
    "                                                             'Stake height', # excluded due to missing values\n",
    "                                      'Depth of pressure transducer in ice', # excluded due to derived correlation with y\n",
    "                          'Depth of pressure transducer in ice - corrected', # excluded due to derived correlation with y\n",
    "                   'Precipitation (upper boom) (cumulative solid & liquid)', # excluded because of corrected feature\n",
    "#       'Precipitation (upper boom) (cumulative solid & liquid) – corrected',\n",
    "                                              'Ice temperature at sensor 1', # excluded due to missing values\n",
    "                                              'Ice temperature at sensor 2', # excluded due to missing values\n",
    "                                              'Ice temperature at sensor 3', # excluded due to missing values\n",
    "                                              'Ice temperature at sensor 4', # excluded due to missing values\n",
    "                                              'Ice temperature at sensor 5', # excluded due to missing values\n",
    "                                              'Ice temperature at sensor 6', # excluded due to missing values\n",
    "                                              'Ice temperature at sensor 7', # excluded due to missing values\n",
    "                                              'Ice temperature at sensor 8', # excluded due to missing values\n",
    "                                                             'Tilt to east', # excluded because of unimportant information \n",
    "                                                            'Tilt to north', # excluded because of unimportant information\n",
    "                                         'Station rotation from true North', # excluded because of unimportant information\n",
    "                                                                 'Latitude', # excluded because of unimportant information\n",
    "                                                                'Longitude', # excluded because of unimportant information\n",
    "                                                                 'Altitude', # excluded because of unimportant information\n",
    "                                                                 'GPS time', # excluded because of unimportant information \n",
    "                               'Height of EGM96 geoid over WGS84 ellipsoid', # excluded because of unimportant information\n",
    "                                                                  'GeoUnit', # excluded because of unimportant information\n",
    "                             'GPS horizontal dillution of precision (HDOP)', # excluded because of unimportant information\n",
    "                                                 'GPS number of satellites', # excluded because of unimportant information\n",
    "                                                                  'Quality', # excluded because of unimportant information\n",
    "                                                          'Battery voltage', # excluded because of unimportant information\n",
    "                                                                    #    nan,\n",
    "                                           'Battery voltage (sample start)', # excluded because of unimportant information\n",
    "                                                 'Fan current (upper boom)', # excluded because of unimportant information\n",
    "                       'Frequency of vibrating wire in precipitation gauge', # excluded because of unimportant information\n",
    "                                                       'Logger temperature', # excluded because of unimportant information\n",
    "                                             'Radiation sensor temperature', # excluded because of unimportant information\n",
    "                                         'latitude from modem (email text)', # excluded because of unimportant information\n",
    "                                        'longitude from modem (email text)', # excluded because of unimportant information\n",
    "                                                         'Surface height 1', # excluded due to derived correlation with y\n",
    "                                                         'Surface height 1', # excluded due to derived correlation with y\n",
    "                                                        'z_surf_1_adj_flag', # excluded due to derived correlation with y\n",
    "                                                        'z_surf_2_adj_flag', # excluded due to derived correlation with y\n",
    "#                                'Surface height from combined measurements', \n",
    "                                   'Depth of ice temperature measurement 1', # excluded because of unimportant information\n",
    "                                   'Depth of ice temperature measurement 2', # excluded because of unimportant information\n",
    "                                   'Depth of ice temperature measurement 3', # excluded because of unimportant information\n",
    "                                   'Depth of ice temperature measurement 4', # excluded because of unimportant information\n",
    "                                   'Depth of ice temperature measurement 5', # excluded because of unimportant information\n",
    "                                   'Depth of ice temperature measurement 6', # excluded because of unimportant information\n",
    "                                   'Depth of ice temperature measurement 7', # excluded because of unimportant information\n",
    "                                   'Depth of ice temperature measurement 8', # excluded because of unimportant information\n",
    "                               'Ice temperature interpolated at 10 m depth', # excluded due to missing values\n",
    "                                                'Air pressure (lower boom)', # excluded due to missing values\n",
    "                                             'Air temperature (lower boom)', # excluded due to missing values\n",
    "                                           'Relative humidity (lower boom)', # excluded due to missing values\n",
    "                               'Relative humidity (lower boom) - corrected', # excluded due to missing values\n",
    "                                           'Specific humidity (lower boom)', # excluded due to missing values\n",
    "                                                  'Wind speed (lower boom)', # excluded due to missing values\n",
    "                                         'Wind from direction (lower boom)', # excluded due to missing values\n",
    "                                            'Latent heat flux (lower boom)', # excluded due to missing values\n",
    "                                          'Sensible heat flux (lower boom)', # excluded due to missing values\n",
    "                                                        'Lower boom height', # excluded due to missing values\n",
    "                   'Precipitation (lower boom) (cumulative solid & liquid)', # excluded due to missing values\n",
    "       'Precipitation (lower boom) (cumulative solid & liquid) – corrected', # excluded due to missing values\n",
    "                                              'Ice temperature at sensor 9', # excluded due to missing values\n",
    "                                             'Ice temperature at sensor 10', # excluded due to missing values\n",
    "                                             'Ice temperature at sensor 11', # excluded due to missing values\n",
    "                                                 'Fan current (lower boom)', # excluded due to missing values\n",
    "                                   'Depth of ice temperature measurement 9', # excluded due to missing values\n",
    "                                  'Depth of ice temperature measurement 10', # excluded due to missing values\n",
    "                                  'Depth of ice temperature measurement 11', # excluded due to missing values\n",
    "                                                        'z_pt_cor_adj_flag', # excluded due to derived correlation with y\n",
    "                              'Ice surface height adjusted for maintenance', # excluded due to derived correlation with y\n",
    "                                'Surface height adjusted for maintenance 1', # excluded due to derived correlation with y\n",
    "                                  'Surface height adjusted for maintenance', # excluded due to derived correlation with y\n",
    "#                                                                 'Datetime',\n",
    "                                                                 'Ablation',  # excluded due to derived correlation with y\n",
    "                          'Surface height from combined measurements DELTA'  # excluded due to derived correlation with y\n",
    "                                                       \n",
    "               ]\n",
    "\n",
    "exclude = df[[column for column in df.columns if column not in exclude_list and not isinstance(column, int)]]\n",
    "exclude = exclude.dropna(axis=1,how='all') "
   ]
  },
  {
   "cell_type": "code",
   "execution_count": 30,
   "metadata": {},
   "outputs": [
    {
     "name": "stderr",
     "output_type": "stream",
     "text": [
      "/var/folders/_r/2f7t_cz14232jqp3576_p04m0000gn/T/ipykernel_52346/3707701489.py:5: SettingWithCopyWarning: \n",
      "A value is trying to be set on a copy of a slice from a DataFrame\n",
      "\n",
      "See the caveats in the documentation: https://pandas.pydata.org/pandas-docs/stable/user_guide/indexing.html#returning-a-view-versus-a-copy\n",
      "  df.drop(columns=['Melting Season'], inplace=True)\n"
     ]
    }
   ],
   "source": [
    "# This bit retrieve the indexes for all melting season categories and remove column from df\n",
    "for category in ['beginning', 'middle', 'end']:\n",
    "    exec(f\"indices_{category} = df[df['Melting Season'] == '{category}'].index\")\n",
    "\n",
    "df.drop(columns=['Melting Season'], inplace=True) "
   ]
  },
  {
   "cell_type": "code",
   "execution_count": 31,
   "metadata": {},
   "outputs": [],
   "source": [
    "# This bit to include only relevant columns \n",
    "\n",
    "df = df[[column for column in df.columns if column not in exclude_list]]\n",
    "df = df.dropna(axis=1,how='all') "
   ]
  }
 ],
 "metadata": {
  "colab": {
   "provenance": []
  },
  "kernelspec": {
   "display_name": "Python 3 (ipykernel)",
   "language": "python",
   "name": "python3"
  },
  "language_info": {
   "codemirror_mode": {
    "name": "ipython",
    "version": 3
   },
   "file_extension": ".py",
   "mimetype": "text/x-python",
   "name": "python",
   "nbconvert_exporter": "python",
   "pygments_lexer": "ipython3",
   "version": "3.8.8"
  },
  "vscode": {
   "interpreter": {
    "hash": "aee8b7b246df8f9039afb4144a1f6fd8d2ca17a180786b69acc140d282b71a49"
   }
  }
 },
 "nbformat": 4,
 "nbformat_minor": 1
}
