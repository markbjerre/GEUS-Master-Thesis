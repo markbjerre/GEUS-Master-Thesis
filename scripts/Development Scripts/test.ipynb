{
 "cells": [
  {
   "cell_type": "code",
   "execution_count": 8,
   "metadata": {},
   "outputs": [
    {
     "name": "stdout",
     "output_type": "stream",
     "text": [
      "Best hyperparameters:  {'colsample_bytree': [1], 'gamma': [0.5], 'learning_rate': [0.1], 'max_depth': [15], 'min_child_weight': [5], 'subsample': [1]}\n"
     ]
    }
   ],
   "source": [
    "param_grid = {\n",
    "'colsample_bytree': [1], 'gamma': [0.5], 'learning_rate': [0.1], 'max_depth': [15], 'min_child_weight': [5], 'subsample': [1]}\n",
    "\n",
    "\n",
    "print(f\"Best hyperparameters: \", param_grid)"
   ]
  },
  {
   "cell_type": "code",
   "execution_count": 6,
   "metadata": {},
   "outputs": [
    {
     "name": "stdout",
     "output_type": "stream",
     "text": [
      "Best hyperparameters:  {'metric': 'manhattan', 'n_neighbors': 4, 'weights': 'distance'}\n"
     ]
    }
   ],
   "source": [
    "param_grid = {'metric': 'manhattan', 'n_neighbors': 4, 'weights': 'distance'}\n",
    "print(f\"Best hyperparameters: \", param_grid)"
   ]
  },
  {
   "cell_type": "code",
   "execution_count": 7,
   "metadata": {},
   "outputs": [
    {
     "name": "stdout",
     "output_type": "stream",
     "text": [
      "Best hyperparameters:  {'l2_regularization': 0.5, 'learning_rate': 0.1, 'max_iter': 1000, 'min_samples_leaf': 5}\n"
     ]
    }
   ],
   "source": [
    "param_grid = {'l2_regularization': 0.5, 'learning_rate': 0.1, 'max_iter': 1000, 'min_samples_leaf': 5}\n",
    "print(f\"Best hyperparameters: \", param_grid)"
   ]
  }
 ],
 "metadata": {
  "kernelspec": {
   "display_name": "base",
   "language": "python",
   "name": "python3"
  },
  "language_info": {
   "codemirror_mode": {
    "name": "ipython",
    "version": 3
   },
   "file_extension": ".py",
   "mimetype": "text/x-python",
   "name": "python",
   "nbconvert_exporter": "python",
   "pygments_lexer": "ipython3",
   "version": "3.9.16"
  },
  "orig_nbformat": 4
 },
 "nbformat": 4,
 "nbformat_minor": 2
}
