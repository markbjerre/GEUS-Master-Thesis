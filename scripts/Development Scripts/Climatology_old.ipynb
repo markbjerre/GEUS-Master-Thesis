{
 "cells": [
  {
   "cell_type": "markdown",
   "metadata": {
    "id": "FTbsuMgO3ery"
   },
   "source": [
    "Import relevant Libaries "
   ]
  },
  {
   "cell_type": "code",
   "execution_count": null,
   "metadata": {},
   "outputs": [],
   "source": [
    "!pip install pyarrow"
   ]
  },
  {
   "cell_type": "code",
   "execution_count": 1,
   "metadata": {
    "id": "yJLqdDNx3j-Y"
   },
   "outputs": [],
   "source": [
    "# Base libraries\n",
    "import pandas as pd\n",
    "import numpy as np\n",
    "import os\n",
    "import math as math\n",
    "import datetime\n",
    "from scipy import stats\n",
    "import prettytable as pr\n",
    "\n",
    "# Visualizations\n",
    "import plotly.express as px\n",
    "import plotly.graph_objects as go"
   ]
  },
  {
   "cell_type": "markdown",
   "metadata": {},
   "source": [
    "**Helper Functions**"
   ]
  },
  {
   "cell_type": "code",
   "execution_count": 2,
   "metadata": {},
   "outputs": [],
   "source": [
    "import glob\n",
    "\n",
    "def _get_data(source):\n",
    "    # Define the directory path where the CSV files are located\n",
    "    if source == 'GC_net':\n",
    "        input_path =r'../data/gc_net/daily_data/'\n",
    "    elif source == 'promice':\n",
    "        input_path =r'../data/promice/new_promice/daily_data/'\n",
    "    else: \n",
    "        raise ValueError(\"Only 'GC Net' & 'Promice' are accepted input values\")\n",
    "    \n",
    "    pattern = '*.csv'\n",
    "    #staion_list = ['SCO_L.csv','KAN_L.csv']\n",
    "\n",
    "    # Use glob to get a list of all files that match the pattern\n",
    "    filenames = glob.glob(input_path + pattern)\n",
    "\n",
    "    data_collection = []\n",
    "    for file in filenames:\n",
    "        data = pd.read_csv(file, index_col=False)\n",
    "        data_collection.append(data)\n",
    "    data = pd.concat(data_collection)\n",
    "\n",
    "    data = data.reset_index(drop=True)\n",
    "    return data\n",
    "df = _get_data('GC_net')\n",
    "\n",
    "def _load_data(data):\n",
    "    df_out = df.copy()\n",
    "    \n",
    "    return df_out\n",
    "\n",
    "\n",
    "def _align_GC_PR():\n",
    "    station = \"file\"\n",
    "    datetime = \"Datetime\"\n",
    "    dayofcentury = \"DayOfCentury\"\n",
    "    dayofyear = 'DayOfYear'\n",
    "    return station,datetime,dayofcentury,dayofyear\n",
    "\n",
    "def _exclude():\n",
    "    # List of columns to exclude from percentile calculation\n",
    "    exclude = ['Year', 'MonthOfYear', 'DayOfMonth', 'HourOfDay(UTC)', \n",
    "               'DayOfYear', 'LongitudeGPS(degW)','HeightStakes(m)',\n",
    "               'DayOfCentury', 'WindDirection(d)', 'TiltToEast(d)', \n",
    "               'TiltToNorth(d)', 'TimeGPS(hhmmssUTC)', 'LatitudeGPS(degN)', \n",
    "               'ElevationGPS(m)', 'HorDilOfPrecGPS', 'LoggerTemperature(C)',\n",
    "               'FanCurrent(mA)', 'BatteryVoltage(V)', 'Month', 'Day', 'Hour',\n",
    "\n",
    "              'air_temperature_1_max', 'air_temperature_1_min',\n",
    "              'wind_speed_u1_max','wind_speed_u2_max',\n",
    "              'wind_from_direction_1', 'wind_from_direction_2', \n",
    "              'height_wind_sensor_1', 'height_wind_sensor_2', 'battery_voltage',\n",
    "              'shortwave_incoming_radiation_max',\n",
    "              'shortwave_incoming_radiation_stdev', 'net_radiation_stdev',\n",
    "              'air_temperature_2_max', 'air_temperature_2_min', \n",
    "              'wind_speed_u2_stdev', 'ref_temperature',   'wind_speed_u1_stdev',\n",
    "              'net_radiation_maximum', 'season', 'year', 'month', 'DayOfYear',\n",
    "              'DayOfCentury', 'Unnamed: 0']\n",
    "    return exclude\n",
    "\n",
    "def _subset_df(date, df, station, datetime, measurement, dayofcentury, dayofyear, aws):\n",
    "    exclude = _exclude()\n",
    "    df['Datetime'] = pd.to_datetime(df['Datetime'], format='%Y-%m-%d')\n",
    "    # Split date input into year, month, day\n",
    "    year = int(date[0:4])\n",
    "    month = int(date[5:7])\n",
    "    day = int(date[8:10])\n",
    "\n",
    "\n",
    "\n",
    "    date_df = df.loc[(df['Datetime'].dt.year == year) & (df['Datetime'].dt.month == month) & (df['Datetime'].dt.day == day)]\n",
    "\n",
    "    # Find the day of year\n",
    "    day =  date_df[\"DayOfYear\"].mean()\n",
    "    \n",
    "    # find day of century\n",
    "    day_century = date_df[dayofcentury].mean() \n",
    "    \n",
    "    #Create a list of relevant columns\n",
    "    columns = df.select_dtypes(include=[np.number]).columns.difference(exclude)\n",
    "\n",
    "    ## Subset by measurement\n",
    "        #df = df[[station,datetime, measurement, dayofcentury,dayofyear]]\n",
    "    if measurement == \"All\":\n",
    "        df = df\n",
    "    elif measurement in columns:\n",
    "        # subset by measurement\n",
    "        df = df[[station,datetime, measurement, dayofcentury, dayofyear, 'year']]\n",
    "        #Update list of relevant column\n",
    "        columns = df.select_dtypes(include=[np.number]).columns.difference(exclude)\n",
    "    else: \n",
    "        raise ValueError(f\"The input for the variable 'measurement' was not recognizable. Please use one of the following options: {columns}\")\n",
    "    \n",
    "    ## Subset by station\n",
    "        #df = df.loc[df[station] == aws]\n",
    "    #Create a list of unique files (stations) from the dataset \n",
    "    unique_files = list(df[station].unique())\n",
    "\n",
    "    if aws == \"All\":\n",
    "        df = df\n",
    "    elif aws in unique_files:\n",
    "        # filter by aws\n",
    "        df = df.loc[df[station] == aws]\n",
    "        #Update list of unique files (stations) from the dataset \n",
    "        unique_files = list(df[station].unique())\n",
    "        #display(df)\n",
    "    else: \n",
    "        raise ValueError(f\"The input for the variable 'aws' was not recognizable. Please use one of the following options: {unique_files}\")\n",
    "    \n",
    "    return day, df,columns, day_century, unique_files\n",
    "\n",
    "def _subset_scope(scope, window, df,date, day, dayofyear):\n",
    "    \n",
    "    def summarize_df(df,min_values , window):\n",
    "        #Number by observation period (avoids classifying on year if 30 day period spans across Dec + Jan)\n",
    "        df['group_number'] = (df\n",
    "                              .groupby('file', group_keys=False)['Datetime']\n",
    "                              .apply(lambda x: (x - x.shift(1)).fillna(pd.Timedelta(seconds=0)).dt.days.gt(2).cumsum())\n",
    "        )\n",
    "        if window == 'year':\n",
    "            df['group_number'] = df['year'].astype(int).copy()\n",
    "            \n",
    "        grouped = df.groupby(['file', 'group_number'])\n",
    "        \n",
    "        #Adding column so all grouped observations has same year\n",
    "        df['year'] = grouped['Datetime'].transform(lambda x: x.max().year)\n",
    "\n",
    "        df['target_date'] = grouped['Datetime'].transform(lambda x: (x ==date).max())\n",
    "        #display(df.head(20))\n",
    "        # Specify columns containing numerical values to be averaged\n",
    "        columns_to_average = (df\n",
    "            .select_dtypes(exclude=['object'])\n",
    "            .drop(columns=['Datetime', 'DayOfYear', 'DayOfCentury', 'group_number', 'year', 'target_date'])\n",
    "            .columns)\n",
    "        \n",
    "        # Calculate the number of non-NaN values for each variable within each group\n",
    "        valid_date_observations = grouped[columns_to_average].apply(lambda x: x.notna().sum() <= min_values)\n",
    "\n",
    "        # Calculate average per day per station\n",
    "        df_filtered = grouped[columns_to_average].mean()\n",
    "\n",
    "        #Remove means with less than 20 observations per day\n",
    "        df_masked = df_filtered.mask(valid_date_observations, np.nan)\n",
    "\n",
    "        df_masked =  df_masked.merge(df[['file','group_number','year', 'target_date']].drop_duplicates(), how='left',on=['file','group_number'])\n",
    "        \n",
    "        df = df_masked.reset_index(drop=True).drop('group_number',axis=1)\n",
    "        return df\n",
    "\n",
    "    #set the range of days\n",
    "    week = datetime.datetime.strptime(date,'%Y-%m-%d').date().isocalendar()[1]\n",
    "    month = datetime.datetime.strptime(date,'%Y-%m-%d').month\n",
    "    sliding_7_day = [x+366 if x < 0 else x for x in np.arange(day-6,day+1).tolist()] \n",
    "    sliding_30_day = [x+366 if x < 0 else x for x in np.arange(day-29, day+1).tolist()]\n",
    "    year = [x for x in np.arange(0, day+1).tolist()]\n",
    "    \n",
    "    #exclude data from after the given date\n",
    "    df = df.loc[df['Datetime'] <= date]\n",
    "    \n",
    "    if scope == \"Relative\":\n",
    "        if window == 'day':\n",
    "        # filter by calender day\n",
    "            df = df.loc[df[dayofyear] == day]\n",
    "            df = summarize_df(df, 0, window)\n",
    "\n",
    "        elif window == 'week':\n",
    "            df = df.loc[df['Datetime'].dt.isocalendar().week.astype(int) == week]\n",
    "            df = summarize_df(df, 5, window)\n",
    "        \n",
    "        elif window == 'sliding_avg_7':\n",
    "            df = df.loc[df[dayofyear].isin(sliding_7_day)]\n",
    "            df = summarize_df(df, 5, window)\n",
    "            \n",
    "        elif window == 'month':\n",
    "            df = df.loc[(df['Datetime'].dt.month == month)]\n",
    "            df = summarize_df(df, 24, window)\n",
    "\n",
    "        elif window == 'sliding_avg_30':\n",
    "            df = df.loc[df[dayofyear].isin(sliding_30_day)]\n",
    "            df = summarize_df(df, 24, window)\n",
    "  \n",
    "        elif window == 'year':\n",
    "            df = df.loc[df[dayofyear].isin(year)]\n",
    "            df = summarize_df(df, day*0.70, window='year')\n",
    "\n",
    "        else:\n",
    "            raise ValueError(f\"The input for the variable 'window' was not recognizable. Please use one of the following options: 'day', 'week', 'month', 'year', 'sliding_avg_7' or 'sliding_avg30'\")\n",
    "\n",
    "    elif scope == \"Absolute\":\n",
    "        df = df\n",
    "    else: \n",
    "        raise ValueError(\"The input for the variable 'scope' was not recognizable. Please use one of the following options: 'Relative' , 'Absolute'\")\n",
    "\n",
    "    return df\n",
    "\n",
    "def _percentiles(df, unique_files, station, columns,dayofcentury,day_century):\n",
    "\n",
    "        #Create an empty list to hold the percentile values\n",
    "    percentiles = []\n",
    "\n",
    "    print(\"Calculating Percentiles .... \")\n",
    "    #Loop through each file in the unique_files list\n",
    "    for i, file in enumerate(unique_files):\n",
    "        \n",
    "        #Calculate the percentile of each numerical column for the specified datetime\n",
    "        df_file = df[df[station] == file]\n",
    "        #display(df_file)\n",
    "        #Create an empty dictionary\n",
    "        percentile_dict = {}\n",
    "        for col in columns:\n",
    "          #Looping through each row of the dataframe\n",
    "          for index, row in df_file.iterrows():\n",
    "            #row_date = row[dayofcentury]\n",
    "            #print('row_date',row_date,'DAY_CENTURY', day_century, 'FILE:', file)\n",
    "            if row['target_date'] == True and ~ np.isnan(row[col]):\n",
    "            #if ~ np.isnan(row[col]):\n",
    "                # Retrieving Value \n",
    "                #print('passed')\n",
    "                value = row[col]\n",
    "                \n",
    "                # Excluding NAN's for the calculation\n",
    "                col_list = df_file[col].dropna().values.tolist()\n",
    "                \n",
    "                # Calculate the Percentiles\n",
    "                percentile = stats.percentileofscore(col_list,value, kind = \"mean\")\n",
    "                #Count the number of values \n",
    "                count = len(col_list)\n",
    "                #Median of the number of values \n",
    "                median = np.nanmedian(col_list, axis=0)\n",
    "            \n",
    "                # Assign file, value and, percentile to dictionary\n",
    "                percentile_dict[col] = row[col]\n",
    "                percentile_dict[f\"{col}_pcte\"] = percentile\n",
    "                percentile_dict[f\"{col}_n\"] = count\n",
    "                percentile_dict[f\"{col}_median\"] = median\n",
    "                \n",
    "        percentile_dict[\"Station\"] = file\n",
    "\n",
    "          #Add the percentile dictionary to the list\n",
    "        percentiles.append({'Station': file,**percentile_dict})\n",
    "    \n",
    "    print(\"Finished Calculating Percentiles\")\n",
    "    \n",
    "    #Create a dataframe from the list of dictionaries\n",
    "    percentiles_df = pd.DataFrame(percentiles)\n",
    "\n",
    "    print(\"Transforming Output...\")\n",
    "\n",
    "    return percentiles_df\n",
    "\n",
    "def _transform_percentiles(percentiles_df):\n",
    "    \n",
    "    # Define a list of all the columns in the original dataframe\n",
    "    columns_list = percentiles_df.columns\n",
    "    \n",
    "    # Split the list into three parts based on which columns have '_pcte', '_n', _median in the name\n",
    "    century_list = [i for i in columns_list if '_pcte' in i]\n",
    "    number_list = [i for i in columns_list if '_n' in i]\n",
    "    median_list = [i for i in columns_list if '_median' in i]\n",
    "    \n",
    "    # Select the columns which do not have '_pcte' and '_n'\n",
    "    value_list = [i for i in columns_list if i not in century_list and i not in number_list and i not in median_list and i not in \"Station\"] \n",
    "    # Build the new dataframe from the lists\n",
    "    transformed_df = pd.DataFrame(columns=['Station', 'Measurement', 'Percentile', 'Number of Comparison Values', 'Original Value', 'Median'])\n",
    "    # Loop through each entry in the original dataframe\n",
    "    for row in percentiles_df.iterrows():\n",
    "        # Take the Station value and loop through all of the remaining values\n",
    "        station_val = row[1]['Station']\n",
    "        for value, century, number, median in zip(value_list, century_list, number_list,median_list):\n",
    "            # Create a new entry for the transformed_df\n",
    "            new_entry = [station_val, value, row[1][century], row[1][number], row[1][value], row[1][median]]\n",
    "            transformed_df.loc[len(transformed_df)] = new_entry\n",
    "     \n",
    "    # Filter out extreme values       \n",
    "    transformed_df = transformed_df[(transformed_df[\"Percentile\"] > 90) | (transformed_df[\"Percentile\"] < 10)].reset_index(drop=True)\n",
    "    \n",
    "    return transformed_df"
   ]
  },
  {
   "attachments": {},
   "cell_type": "markdown",
   "metadata": {},
   "source": [
    "**visualization**"
   ]
  },
  {
   "cell_type": "code",
   "execution_count": 3,
   "metadata": {},
   "outputs": [],
   "source": [
    "\n",
    "def comparison_visualization(station_in = 'NASA-U',measurement_in='shortwave_incoming_radiation', window='year', date='2020-12-31'):\n",
    "    df = _load_data('test')\n",
    "    station, datetime, dayofcentury, dayofyear = _align_GC_PR()\n",
    "    day, df,columns, day_century, unique_files = _subset_df(date=date, df=df, station='file', datetime=datetime, measurement=measurement_in, dayofcentury=dayofcentury, dayofyear=dayofcentury, aws='All')\n",
    "    df = df.loc[df['file'] == station_in ]\n",
    "\n",
    "    df = df[[measurement_in,'Datetime']].set_index('Datetime')\n",
    "\n",
    "    if window == 'week':\n",
    "        df_grouped = df.groupby(pd.Grouper( freq='W'))          \n",
    "        df_mean = df_grouped.mean()\n",
    "        df = df_mean.dropna()\n",
    "\n",
    "    elif window == 'sliding_avg_7':\n",
    "        display(df)\n",
    "        df['Datetime'] = df.index\n",
    "        df['date_diff'] = (df['Datetime'].max() - df['Datetime']).dt.days\n",
    "        df['week_group'] = (df['date_diff'] / 7).apply(lambda x: int(x) if x.is_integer() else int(x) + 1)\n",
    "        df_grouped = df.groupby('week_group', group_keys=False)[measurement_in]\n",
    "        weekly_mean = df_grouped.mean()\n",
    "        weekly_mean = weekly_mean.reset_index()\n",
    "        weekly_mean['last_date'] = weekly_mean['week_group'].apply(lambda x: df['Datetime'].max() - pd.to_timedelta(x * 7, unit='D'))\n",
    "        weekly_mean.set_index('last_date', inplace=True)\n",
    "        weekly_mean.drop(columns=['week_group'], inplace=True)\n",
    "        df = weekly_mean.dropna()\n",
    "        \n",
    "    elif window == 'month':\n",
    "        df_grouped = df.groupby(pd.Grouper(freq='M'))\n",
    "        df_mean = df_grouped.mean()\n",
    "        df = df_mean.dropna()\n",
    "        \n",
    "\n",
    "    elif window == 'sliding_avg_30':\n",
    "        df['Datetime'] = df.index\n",
    "        df['date_diff'] = (df['Datetime'].max() - df['Datetime']).dt.days\n",
    "        df['week_group'] = (df['date_diff'] / 30).apply(lambda x: int(x) if x.is_integer() else int(x) + 1)\n",
    "        df_grouped = df.groupby('week_group', group_keys=False)[measurement_in]\n",
    "        monthly_mean = df_grouped.mean()\n",
    "        monthly_mean = monthly_mean.reset_index()\n",
    "        monthly_mean['last_date'] = monthly_mean['week_group'].apply(lambda x: df['Datetime'].max() - pd.to_timedelta(x * 30, unit='D'))\n",
    "        monthly_mean.set_index('last_date', inplace=True)\n",
    "        monthly_mean.drop(columns=['week_group'], inplace=True)\n",
    "        df = monthly_mean.dropna()\n",
    "\n",
    "    elif window == 'year':\n",
    "        df_grouped = df.groupby(pd.Grouper(freq='M'))           \n",
    "        df_mean = df_grouped.mean()\n",
    "        df = df_mean.dropna()\n",
    "    else:\n",
    "        raise ValueError(f\"The input for the variable 'window' was not recognizable.\")\n",
    "\n",
    "    selected_year = date[:4] \n",
    "    # Extract unique years from the index\n",
    "    years = list(df.index.year.unique().sort_values(ascending=False))\n",
    "    years.remove(int(selected_year))\n",
    "    \n",
    "    data = []\n",
    "\n",
    "    # Calculate the grayscale step based on the number of years\n",
    "    grayscale_step = 1.0 / (len(years) - 1)\n",
    "\n",
    "    # Loop through the unique years and plot the development of the value over the year\n",
    "    for i, year in enumerate(years):\n",
    "        df_year = df[df.index.year == year]\n",
    "\n",
    "        # Reset the year part of the datetime index to a constant year (e.g., 2000)\n",
    "        df_year.index = df_year.index.map(lambda x: x.replace(year=2000))\n",
    "\n",
    "        color = f'rgba({int(max(0, grayscale_step * (i - 1) * 255))}, {int(max(0, grayscale_step * (i - 1) * 255))}, {int(max(0, grayscale_step * (i - 1) * 255))}, 1)'\n",
    "        linewidth = 1\n",
    "        \n",
    "        data.append(go.Scatter(x=df_year.index, y=df_year[measurement_in], name=f'{year}', line=dict(color=color, width=linewidth), mode='lines', legendgroup='custom', showlegend=False))\n",
    "\n",
    "    df_year = df[df.index.year == int(selected_year)]\n",
    "\n",
    "    # Reset the year part of the datetime index to a constant year (e.g., 2000)\n",
    "    df_year.index = df_year.index.map(lambda x: x.replace(year=2000))\n",
    "    color = 'red'\n",
    "    linewidth = 2.5\n",
    "    data.append(go.Scatter(x=df_year.index, y=df_year[measurement_in], name=f'{selected_year}', line=dict(color=color, width=linewidth), mode='lines', legendgroup='custom', showlegend=False))\n",
    "\n",
    "    # Create a plot\n",
    "    fig = go.Figure(data=data)\n",
    "\n",
    "    # Set title, labels\n",
    "    fig.update_layout(\n",
    "        title= {\n",
    "            'text':f'Development of {measurement_in} by year for {station_in}',\n",
    "            'font':{'size':24}\n",
    "        },\n",
    "        xaxis_title='Month',\n",
    "        yaxis_title=measurement_in,\n",
    "        xaxis=dict(\n",
    "            tickmode='array',\n",
    "            tickvals=pd.date_range('2000-01-01', '2000-12-31', freq='M'),\n",
    "            ticktext=['Jan', 'Feb', 'Mar', 'Apr', 'May', 'Jun', 'Jul', 'Aug', 'Sep', 'Oct', 'Nov', 'Dec']\n",
    "        ),\n",
    "        width=1400,\n",
    "        height=400,\n",
    "        legend=dict(title='Legend', orientation='v', yanchor='top', xanchor='left', y=1, x=1.06)\n",
    "        )\n",
    "    \n",
    "\n",
    "    # Custom legend\n",
    "    latest_date = df.index.max().strftime('%d-%m')\n",
    "    fig.add_trace(go.Scatter(x=[None], y=[None], mode='lines', name=f'{selected_year}', line=dict(color='red'), legendgroup='custom'))\n",
    "    if selected_year == df.index.year.max():\n",
    "        fig.add_trace(go.Scatter(x=[None], y=[None], mode='lines', name=f'{years[1]}', line=dict(color='black'), legendgroup='custom'))\n",
    "    else:\n",
    "        fig.add_trace(go.Scatter(x=[None], y=[None], mode='lines', name=f'{years[0]}', line=dict(color='black'), legendgroup='custom')) \n",
    "    fig.add_trace(go.Scatter(x=[None], y=[None], mode='lines', name='...', line=dict(color='grey'), legendgroup='custom'))\n",
    "    fig.add_trace(go.Scatter(x=[None], y=[None], mode='lines', name=f'{years[-1]}', line=dict(color='lightgrey'), legendgroup='custom'))\n",
    "\n",
    "    # Add a vertical line indicating the latest date in the chart\n",
    "    if window != 'year':\n",
    "        fig.add_trace(go.Scatter(x=[None], y=[None], mode='lines', name=f'{latest_date}', line=dict(color='black', dash='dash'), legendgroup='custom'))\n",
    "        fig.add_shape(type='line', x0=date, x1=date, y0=0, y1=1, yref='paper',\n",
    "                    line=dict(color='black', dash='dash'))\n",
    "    fig.write_image(\"../figures/Climatology/test_fig.png\")\n",
    "    # Display the plot\n",
    "    fig.show()\n",
    "\n",
    "#comparison_visualization()"
   ]
  },
  {
   "cell_type": "markdown",
   "metadata": {
    "id": "NqiI9vb8I1ID"
   },
   "source": [
    "**Report Functions**"
   ]
  },
  {
   "cell_type": "code",
   "execution_count": 4,
   "metadata": {
    "id": "ZSEjn5zDJMYZ"
   },
   "outputs": [],
   "source": [
    "def get_data(data, measurement, aws, date = datetime.datetime.today().strftime('%Y-%m-%d') \n",
    "                   ,scope = \"Relative\", window = 'day', output = \"Report\"):\n",
    "    \"\"\"\n",
    "    Function to return the underlying dataset of specified values given a selected date.\n",
    "    \n",
    "    Parameters:\n",
    "    data (str): The dataset to be used.\n",
    "    date (str): The date of the observations for which the percentile is calculated.\n",
    "    aws (str): The automatic weather station.\n",
    "    measurement (str): The measurement. \n",
    "    scope (str): Relative: values are compared to historical values of the day of year. \n",
    "                 Absolute: values are compared to historical values.\n",
    "\n",
    "    output (str): Output as pd.df or as printed report. \n",
    "  \n",
    "    \"\"\"\n",
    "    \n",
    "    # Load Data\n",
    "    df = _load_data(data)\n",
    "    \n",
    "    # Align GC Net & PROMICE Columns  \n",
    "    station, datetime, dayofcentury, dayofyear = _align_GC_PR()\n",
    "    \n",
    "    # Subset Data (date, measurement, station)\n",
    "    day, df,columns, day_century, unique_files = _subset_df(date,df, station, datetime, measurement, dayofcentury, dayofyear, aws)\n",
    "    \n",
    "    # Subset Data (Scope)\n",
    "    df = _subset_scope(scope, window, df, date, day, dayofyear)\n",
    "    \n",
    "    df = df.reset_index(drop=True).drop('target_date', axis=1)\n",
    "\n",
    "    ##### Output #######\n",
    "    if output == \"Report\":\n",
    "        from tabulate import tabulate\n",
    "        #### Report OUTPUT ###########\n",
    "        print(\n",
    "          f\"  Selected Date: {date} \\n\" ,\n",
    "          f\"Selected Station: {aws} \\n\" , \n",
    "          f\"Selected Measurement: {measurement} \\n\"  , \n",
    "          f\"Selected Data: {data} \\n\" ,\n",
    "          f\"Selected Scope: {scope} \\n\" ,\n",
    "          \"----------------------------------------------------------------------------------------------------------------------\\n\",\n",
    "          f\"                   Climatology Report\\n\" \n",
    "          )        \n",
    "        print(tabulate(df, headers='keys', tablefmt='psql'))\n",
    "        #return df\n",
    "\n",
    "    elif output == \"Data\":\n",
    "        return df\n",
    "    else: \n",
    "        raise ValueError(\"The input for the variable 'output' was not recognizable. Please use one of the following options: 'Report', 'Data'\" )\n",
    "\n",
    "\n",
    "    \n"
   ]
  },
  {
   "cell_type": "code",
   "execution_count": 5,
   "metadata": {
    "id": "muRqsWyVVASH"
   },
   "outputs": [],
   "source": [
    "def daily_report(data, date = datetime.datetime.today().strftime('%Y-%m-%d'), \n",
    "                 aws = \"All\", measurement = \"All\", scope = \"Relative\", window = 'day', output = \"Report\", aggregated = False):\n",
    "    \"\"\"\n",
    "    Function to return the percentile of specified values given a selected date.\n",
    "    \n",
    "    Parameters:\n",
    "    data (str): The dataset to be used.\n",
    "    date (str): The date of the observations for which the percentile is calculated.\n",
    "    aws (str): The automatic weather station.\n",
    "    measurement (str): The measurement. \n",
    "    scope (str): Relative: values are compared to historical values of the day of year. \n",
    "                 Absolute: values are compared to historical values.\n",
    "    aggregated (bool): False: output is not aggregated.\n",
    "                       True: averages of stations are calculated.\n",
    "\n",
    "    output (str): Output as pd.df or as printed report. \n",
    "  \n",
    "    \"\"\"\n",
    "    # Load Data\n",
    "    df = _load_data(data)\n",
    "    \n",
    "    # Align GC Net & PROMICE Columns  \n",
    "    station, datetime, dayofcentury, dayofyear = _align_GC_PR()\n",
    " \n",
    "    #Account for Aggregate variable\n",
    "    if aggregated == False:\n",
    "        df = df\n",
    "    elif aggregated == True:\n",
    "        # Group df by station \n",
    "        df = df ##### TBD #######\n",
    "    else: \n",
    "        raise ValueError(f\"The input for the variable 'aggregated' was not recognizable. Please use one of the following options: True, False\")\n",
    "\n",
    "    # Subset Data (date, measurement, station)\n",
    "    #day, df = _subset_df(date,df, station, datetime, measurement, dayofcentury, dayofyear, aws)\n",
    "    day, df,columns, day_century, unique_files = _subset_df(date, df, station, datetime, measurement, dayofcentury, dayofyear, aws)\n",
    "    \n",
    "    # Subset Data (Scope)\n",
    "    df = _subset_scope(scope, window, df, date, day, dayofyear)\n",
    "    \n",
    "    # Calculate Percentiles\n",
    "    percentiles_df = _percentiles(df, unique_files, station, columns, dayofcentury, day_century)\n",
    "  \n",
    "    # Transform Output\n",
    "    transformed_df = _transform_percentiles(percentiles_df)\n",
    "    \n",
    "    print(\"Finished\")\n",
    "    print(\"----------------------------------------------------------------------------------------------------------------------\\n\")\n",
    "\n",
    "   # print(tabulate(percentiles_df, headers='keys', tablefmt='psql'))\n",
    "   # return percentiles_df\n",
    "    if output == \"Report\":\n",
    "        from tabulate import tabulate\n",
    "        #### Report OUTPUT ###########\n",
    "        print(\n",
    "          f\"  Selected Date: {date} \\n\" ,\n",
    "          f\"Selected Station: {aws} \\n\" , \n",
    "          f\"Selected Measurement: {measurement} \\n\"  , \n",
    "          f\"Selected Data: {data} \\n\" ,\n",
    "          f\"Selected Scope: {scope} \\n\" ,\n",
    "          \"----------------------------------------------------------------------------------------------------------------------\\n\",\n",
    "          f\"                   Climatology Report\\n\" \n",
    "          )        \n",
    "        print(tabulate(transformed_df, headers='keys', tablefmt='psql'))\n",
    "       \n",
    "        input_ = input(\"Do you want to include graphics? (Y/N)\")\n",
    "        if input_ == \"Y\":\n",
    "          ########## TBD: Replace with boxplot function #################\n",
    "          print(\"Functionality is in development\")\n",
    "   \n",
    "    elif output == \"Data\":\n",
    "        print()\n",
    "        return transformed_df\n",
    "    else: \n",
    "        raise ValueError(\"The input for the variable 'output' was not recognizable. Please use one of the following options: 'Report', 'Data'\" )\n",
    "\n",
    "  \n"
   ]
  },
  {
   "cell_type": "code",
   "execution_count": 6,
   "metadata": {
    "colab": {
     "base_uri": "https://localhost:8080/",
     "height": 1000
    },
    "id": "a_PCDX9qbKdO",
    "outputId": "064050ab-0609-46db-9583-f3b3085dd7f8"
   },
   "outputs": [],
   "source": [
    "#daily_report(data = \"GC Net\", date = \"2019-01-13\", measurement= \"All\", scope='Relative', aws=\"All\", window = 'week', output = \"Data\")"
   ]
  },
  {
   "cell_type": "code",
   "execution_count": 7,
   "metadata": {
    "colab": {
     "base_uri": "https://localhost:8080/"
    },
    "id": "U4rWUVbYLgvJ",
    "outputId": "03b38cbf-aaf2-4631-85c6-b4d0ddc36099"
   },
   "outputs": [],
   "source": [
    "x = get_data(data = \"GC Net\", date = \"2019-01-13\", measurement= \"relative_humidity_1\", scope='Relative', output = \"Data\", aws=\"Swiss Camp 10m\", window='day')\n",
    "#display(x)"
   ]
  },
  {
   "cell_type": "code",
   "execution_count": 19,
   "metadata": {},
   "outputs": [
    {
     "name": "stdout",
     "output_type": "stream",
     "text": [
      "displaying percentile df\n",
      " Date: 2019-01-13 \n",
      " Station: file \n",
      " Measurement: relative_humidity_2_cor \n",
      " Data: GC Net \n",
      " ----------------------------------------------------------------------------------------------------------------------\n",
      "                    Climatology Report\n",
      "\n",
      "+-------------------------+------------+\n",
      "|       measurement       | Percentile |\n",
      "+-------------------------+------------+\n",
      "| relative_humidity_2_cor |    93%     |\n",
      "+-------------------------+------------+\n",
      "----------------------------------------------------------------------------------------------------------------------\n",
      "\n"
     ]
    },
    {
     "data": {
      "application/vnd.plotly.v1+json": {
       "config": {
        "plotlyServerURL": "https://plot.ly"
       },
       "data": [
        {
         "alignmentgroup": "True",
         "hovertemplate": "variable=%{x}<br>value=%{y}<extra></extra>",
         "legendgroup": "",
         "marker": {
          "color": "#636efa"
         },
         "name": "",
         "notched": false,
         "offsetgroup": "",
         "orientation": "v",
         "showlegend": false,
         "type": "box",
         "x": [
          "relative_humidity_2_cor",
          "relative_humidity_2_cor",
          "relative_humidity_2_cor",
          "relative_humidity_2_cor",
          "relative_humidity_2_cor",
          "relative_humidity_2_cor",
          "relative_humidity_2_cor",
          "relative_humidity_2_cor",
          "relative_humidity_2_cor",
          "relative_humidity_2_cor",
          "relative_humidity_2_cor",
          "relative_humidity_2_cor",
          "relative_humidity_2_cor",
          "relative_humidity_2_cor",
          "relative_humidity_2_cor",
          "relative_humidity_2_cor",
          "relative_humidity_2_cor",
          "relative_humidity_2_cor",
          "relative_humidity_2_cor",
          "relative_humidity_2_cor",
          "relative_humidity_2_cor",
          "relative_humidity_2_cor",
          "relative_humidity_2_cor",
          "relative_humidity_2_cor",
          "relative_humidity_2_cor",
          "relative_humidity_2_cor",
          "relative_humidity_2_cor",
          "relative_humidity_2_cor",
          "relative_humidity_2_cor"
         ],
         "x0": " ",
         "xaxis": "x",
         "y": [
          null,
          null,
          null,
          null,
          null,
          null,
          null,
          null,
          73.08428571428571,
          86.27714285714286,
          84.70428571428572,
          null,
          76.98857142857143,
          73.90285714285714,
          75.28142857142858,
          null,
          null,
          68.67285714285714,
          81.34285714285714,
          85.82857142857142,
          76.39999999999999,
          86.20857142857143,
          null,
          null,
          86.21142857142857,
          67.35714285714286,
          92.07142857142857,
          81.98857142857143,
          88.59571428571428
         ],
         "y0": " ",
         "yaxis": "y"
        },
        {
         "marker": {
          "color": "red",
          "size": 8,
          "symbol": "circle-dot"
         },
         "mode": "markers",
         "name": "Selected Value \nrelative_humidity_2_cor",
         "type": "scatter",
         "x": [
          "relative_humidity_2_cor"
         ],
         "y": [
          93.75
         ]
        }
       ],
       "layout": {
        "boxmode": "group",
        "legend": {
         "tracegroupgap": 0
        },
        "margin": {
         "t": 60
        },
        "template": {
         "data": {
          "bar": [
           {
            "error_x": {
             "color": "#2a3f5f"
            },
            "error_y": {
             "color": "#2a3f5f"
            },
            "marker": {
             "line": {
              "color": "#E5ECF6",
              "width": 0.5
             },
             "pattern": {
              "fillmode": "overlay",
              "size": 10,
              "solidity": 0.2
             }
            },
            "type": "bar"
           }
          ],
          "barpolar": [
           {
            "marker": {
             "line": {
              "color": "#E5ECF6",
              "width": 0.5
             },
             "pattern": {
              "fillmode": "overlay",
              "size": 10,
              "solidity": 0.2
             }
            },
            "type": "barpolar"
           }
          ],
          "carpet": [
           {
            "aaxis": {
             "endlinecolor": "#2a3f5f",
             "gridcolor": "white",
             "linecolor": "white",
             "minorgridcolor": "white",
             "startlinecolor": "#2a3f5f"
            },
            "baxis": {
             "endlinecolor": "#2a3f5f",
             "gridcolor": "white",
             "linecolor": "white",
             "minorgridcolor": "white",
             "startlinecolor": "#2a3f5f"
            },
            "type": "carpet"
           }
          ],
          "choropleth": [
           {
            "colorbar": {
             "outlinewidth": 0,
             "ticks": ""
            },
            "type": "choropleth"
           }
          ],
          "contour": [
           {
            "colorbar": {
             "outlinewidth": 0,
             "ticks": ""
            },
            "colorscale": [
             [
              0,
              "#0d0887"
             ],
             [
              0.1111111111111111,
              "#46039f"
             ],
             [
              0.2222222222222222,
              "#7201a8"
             ],
             [
              0.3333333333333333,
              "#9c179e"
             ],
             [
              0.4444444444444444,
              "#bd3786"
             ],
             [
              0.5555555555555556,
              "#d8576b"
             ],
             [
              0.6666666666666666,
              "#ed7953"
             ],
             [
              0.7777777777777778,
              "#fb9f3a"
             ],
             [
              0.8888888888888888,
              "#fdca26"
             ],
             [
              1,
              "#f0f921"
             ]
            ],
            "type": "contour"
           }
          ],
          "contourcarpet": [
           {
            "colorbar": {
             "outlinewidth": 0,
             "ticks": ""
            },
            "type": "contourcarpet"
           }
          ],
          "heatmap": [
           {
            "colorbar": {
             "outlinewidth": 0,
             "ticks": ""
            },
            "colorscale": [
             [
              0,
              "#0d0887"
             ],
             [
              0.1111111111111111,
              "#46039f"
             ],
             [
              0.2222222222222222,
              "#7201a8"
             ],
             [
              0.3333333333333333,
              "#9c179e"
             ],
             [
              0.4444444444444444,
              "#bd3786"
             ],
             [
              0.5555555555555556,
              "#d8576b"
             ],
             [
              0.6666666666666666,
              "#ed7953"
             ],
             [
              0.7777777777777778,
              "#fb9f3a"
             ],
             [
              0.8888888888888888,
              "#fdca26"
             ],
             [
              1,
              "#f0f921"
             ]
            ],
            "type": "heatmap"
           }
          ],
          "heatmapgl": [
           {
            "colorbar": {
             "outlinewidth": 0,
             "ticks": ""
            },
            "colorscale": [
             [
              0,
              "#0d0887"
             ],
             [
              0.1111111111111111,
              "#46039f"
             ],
             [
              0.2222222222222222,
              "#7201a8"
             ],
             [
              0.3333333333333333,
              "#9c179e"
             ],
             [
              0.4444444444444444,
              "#bd3786"
             ],
             [
              0.5555555555555556,
              "#d8576b"
             ],
             [
              0.6666666666666666,
              "#ed7953"
             ],
             [
              0.7777777777777778,
              "#fb9f3a"
             ],
             [
              0.8888888888888888,
              "#fdca26"
             ],
             [
              1,
              "#f0f921"
             ]
            ],
            "type": "heatmapgl"
           }
          ],
          "histogram": [
           {
            "marker": {
             "pattern": {
              "fillmode": "overlay",
              "size": 10,
              "solidity": 0.2
             }
            },
            "type": "histogram"
           }
          ],
          "histogram2d": [
           {
            "colorbar": {
             "outlinewidth": 0,
             "ticks": ""
            },
            "colorscale": [
             [
              0,
              "#0d0887"
             ],
             [
              0.1111111111111111,
              "#46039f"
             ],
             [
              0.2222222222222222,
              "#7201a8"
             ],
             [
              0.3333333333333333,
              "#9c179e"
             ],
             [
              0.4444444444444444,
              "#bd3786"
             ],
             [
              0.5555555555555556,
              "#d8576b"
             ],
             [
              0.6666666666666666,
              "#ed7953"
             ],
             [
              0.7777777777777778,
              "#fb9f3a"
             ],
             [
              0.8888888888888888,
              "#fdca26"
             ],
             [
              1,
              "#f0f921"
             ]
            ],
            "type": "histogram2d"
           }
          ],
          "histogram2dcontour": [
           {
            "colorbar": {
             "outlinewidth": 0,
             "ticks": ""
            },
            "colorscale": [
             [
              0,
              "#0d0887"
             ],
             [
              0.1111111111111111,
              "#46039f"
             ],
             [
              0.2222222222222222,
              "#7201a8"
             ],
             [
              0.3333333333333333,
              "#9c179e"
             ],
             [
              0.4444444444444444,
              "#bd3786"
             ],
             [
              0.5555555555555556,
              "#d8576b"
             ],
             [
              0.6666666666666666,
              "#ed7953"
             ],
             [
              0.7777777777777778,
              "#fb9f3a"
             ],
             [
              0.8888888888888888,
              "#fdca26"
             ],
             [
              1,
              "#f0f921"
             ]
            ],
            "type": "histogram2dcontour"
           }
          ],
          "mesh3d": [
           {
            "colorbar": {
             "outlinewidth": 0,
             "ticks": ""
            },
            "type": "mesh3d"
           }
          ],
          "parcoords": [
           {
            "line": {
             "colorbar": {
              "outlinewidth": 0,
              "ticks": ""
             }
            },
            "type": "parcoords"
           }
          ],
          "pie": [
           {
            "automargin": true,
            "type": "pie"
           }
          ],
          "scatter": [
           {
            "fillpattern": {
             "fillmode": "overlay",
             "size": 10,
             "solidity": 0.2
            },
            "type": "scatter"
           }
          ],
          "scatter3d": [
           {
            "line": {
             "colorbar": {
              "outlinewidth": 0,
              "ticks": ""
             }
            },
            "marker": {
             "colorbar": {
              "outlinewidth": 0,
              "ticks": ""
             }
            },
            "type": "scatter3d"
           }
          ],
          "scattercarpet": [
           {
            "marker": {
             "colorbar": {
              "outlinewidth": 0,
              "ticks": ""
             }
            },
            "type": "scattercarpet"
           }
          ],
          "scattergeo": [
           {
            "marker": {
             "colorbar": {
              "outlinewidth": 0,
              "ticks": ""
             }
            },
            "type": "scattergeo"
           }
          ],
          "scattergl": [
           {
            "marker": {
             "colorbar": {
              "outlinewidth": 0,
              "ticks": ""
             }
            },
            "type": "scattergl"
           }
          ],
          "scattermapbox": [
           {
            "marker": {
             "colorbar": {
              "outlinewidth": 0,
              "ticks": ""
             }
            },
            "type": "scattermapbox"
           }
          ],
          "scatterpolar": [
           {
            "marker": {
             "colorbar": {
              "outlinewidth": 0,
              "ticks": ""
             }
            },
            "type": "scatterpolar"
           }
          ],
          "scatterpolargl": [
           {
            "marker": {
             "colorbar": {
              "outlinewidth": 0,
              "ticks": ""
             }
            },
            "type": "scatterpolargl"
           }
          ],
          "scatterternary": [
           {
            "marker": {
             "colorbar": {
              "outlinewidth": 0,
              "ticks": ""
             }
            },
            "type": "scatterternary"
           }
          ],
          "surface": [
           {
            "colorbar": {
             "outlinewidth": 0,
             "ticks": ""
            },
            "colorscale": [
             [
              0,
              "#0d0887"
             ],
             [
              0.1111111111111111,
              "#46039f"
             ],
             [
              0.2222222222222222,
              "#7201a8"
             ],
             [
              0.3333333333333333,
              "#9c179e"
             ],
             [
              0.4444444444444444,
              "#bd3786"
             ],
             [
              0.5555555555555556,
              "#d8576b"
             ],
             [
              0.6666666666666666,
              "#ed7953"
             ],
             [
              0.7777777777777778,
              "#fb9f3a"
             ],
             [
              0.8888888888888888,
              "#fdca26"
             ],
             [
              1,
              "#f0f921"
             ]
            ],
            "type": "surface"
           }
          ],
          "table": [
           {
            "cells": {
             "fill": {
              "color": "#EBF0F8"
             },
             "line": {
              "color": "white"
             }
            },
            "header": {
             "fill": {
              "color": "#C8D4E3"
             },
             "line": {
              "color": "white"
             }
            },
            "type": "table"
           }
          ]
         },
         "layout": {
          "annotationdefaults": {
           "arrowcolor": "#2a3f5f",
           "arrowhead": 0,
           "arrowwidth": 1
          },
          "autotypenumbers": "strict",
          "coloraxis": {
           "colorbar": {
            "outlinewidth": 0,
            "ticks": ""
           }
          },
          "colorscale": {
           "diverging": [
            [
             0,
             "#8e0152"
            ],
            [
             0.1,
             "#c51b7d"
            ],
            [
             0.2,
             "#de77ae"
            ],
            [
             0.3,
             "#f1b6da"
            ],
            [
             0.4,
             "#fde0ef"
            ],
            [
             0.5,
             "#f7f7f7"
            ],
            [
             0.6,
             "#e6f5d0"
            ],
            [
             0.7,
             "#b8e186"
            ],
            [
             0.8,
             "#7fbc41"
            ],
            [
             0.9,
             "#4d9221"
            ],
            [
             1,
             "#276419"
            ]
           ],
           "sequential": [
            [
             0,
             "#0d0887"
            ],
            [
             0.1111111111111111,
             "#46039f"
            ],
            [
             0.2222222222222222,
             "#7201a8"
            ],
            [
             0.3333333333333333,
             "#9c179e"
            ],
            [
             0.4444444444444444,
             "#bd3786"
            ],
            [
             0.5555555555555556,
             "#d8576b"
            ],
            [
             0.6666666666666666,
             "#ed7953"
            ],
            [
             0.7777777777777778,
             "#fb9f3a"
            ],
            [
             0.8888888888888888,
             "#fdca26"
            ],
            [
             1,
             "#f0f921"
            ]
           ],
           "sequentialminus": [
            [
             0,
             "#0d0887"
            ],
            [
             0.1111111111111111,
             "#46039f"
            ],
            [
             0.2222222222222222,
             "#7201a8"
            ],
            [
             0.3333333333333333,
             "#9c179e"
            ],
            [
             0.4444444444444444,
             "#bd3786"
            ],
            [
             0.5555555555555556,
             "#d8576b"
            ],
            [
             0.6666666666666666,
             "#ed7953"
            ],
            [
             0.7777777777777778,
             "#fb9f3a"
            ],
            [
             0.8888888888888888,
             "#fdca26"
            ],
            [
             1,
             "#f0f921"
            ]
           ]
          },
          "colorway": [
           "#636efa",
           "#EF553B",
           "#00cc96",
           "#ab63fa",
           "#FFA15A",
           "#19d3f3",
           "#FF6692",
           "#B6E880",
           "#FF97FF",
           "#FECB52"
          ],
          "font": {
           "color": "#2a3f5f"
          },
          "geo": {
           "bgcolor": "white",
           "lakecolor": "white",
           "landcolor": "#E5ECF6",
           "showlakes": true,
           "showland": true,
           "subunitcolor": "white"
          },
          "hoverlabel": {
           "align": "left"
          },
          "hovermode": "closest",
          "mapbox": {
           "style": "light"
          },
          "paper_bgcolor": "white",
          "plot_bgcolor": "#E5ECF6",
          "polar": {
           "angularaxis": {
            "gridcolor": "white",
            "linecolor": "white",
            "ticks": ""
           },
           "bgcolor": "#E5ECF6",
           "radialaxis": {
            "gridcolor": "white",
            "linecolor": "white",
            "ticks": ""
           }
          },
          "scene": {
           "xaxis": {
            "backgroundcolor": "#E5ECF6",
            "gridcolor": "white",
            "gridwidth": 2,
            "linecolor": "white",
            "showbackground": true,
            "ticks": "",
            "zerolinecolor": "white"
           },
           "yaxis": {
            "backgroundcolor": "#E5ECF6",
            "gridcolor": "white",
            "gridwidth": 2,
            "linecolor": "white",
            "showbackground": true,
            "ticks": "",
            "zerolinecolor": "white"
           },
           "zaxis": {
            "backgroundcolor": "#E5ECF6",
            "gridcolor": "white",
            "gridwidth": 2,
            "linecolor": "white",
            "showbackground": true,
            "ticks": "",
            "zerolinecolor": "white"
           }
          },
          "shapedefaults": {
           "line": {
            "color": "#2a3f5f"
           }
          },
          "ternary": {
           "aaxis": {
            "gridcolor": "white",
            "linecolor": "white",
            "ticks": ""
           },
           "baxis": {
            "gridcolor": "white",
            "linecolor": "white",
            "ticks": ""
           },
           "bgcolor": "#E5ECF6",
           "caxis": {
            "gridcolor": "white",
            "linecolor": "white",
            "ticks": ""
           }
          },
          "title": {
           "x": 0.05
          },
          "xaxis": {
           "automargin": true,
           "gridcolor": "white",
           "linecolor": "white",
           "ticks": "",
           "title": {
            "standoff": 15
           },
           "zerolinecolor": "white",
           "zerolinewidth": 2
          },
          "yaxis": {
           "automargin": true,
           "gridcolor": "white",
           "linecolor": "white",
           "ticks": "",
           "title": {
            "standoff": 15
           },
           "zerolinecolor": "white",
           "zerolinewidth": 2
          }
         }
        },
        "title": {
         "text": "Boxplot for relative_humidity_2_cor"
        },
        "xaxis": {
         "anchor": "y",
         "domain": [
          0,
          1
         ],
         "title": {
          "text": ""
         }
        },
        "yaxis": {
         "anchor": "x",
         "domain": [
          0,
          1
         ],
         "title": {
          "text": ""
         }
        }
       }
      }
     },
     "metadata": {},
     "output_type": "display_data"
    }
   ],
   "source": [
    "import plotly.express as px\n",
    "import plotly.io as pio\n",
    "\n",
    "def gen_report(data, date = datetime.datetime.today().strftime('%Y-%m-%d'), \n",
    "                 aws = \"All\", measurement = \"All\", scope = \"Relative\", window = 'day', output = \"Report\", aggregated = False):\n",
    "    \"\"\"\n",
    "    Function to return the percentile of specified values given a selected date.\n",
    "    \n",
    "    Parameters:\n",
    "    data (str): The dataset to be used.\n",
    "    date (str): The date of the observations for which the percentile is calculated.\n",
    "    aws (str): The automatic weather station.\n",
    "    measurement (str): The measurement. \n",
    "    scope (str): Relative: values are compared to historical values of the day of year. \n",
    "                 Absolute: values are compared to historical values.\n",
    "    aggregated (bool): False: output is not aggregated.\n",
    "                       True: averages of stations are calculated.\n",
    "\n",
    "    output (str): Output as pd.df or as printed report. \n",
    "  \n",
    "    \"\"\"\n",
    "    \n",
    "    # Load Data\n",
    "    df = _load_data(data)\n",
    "    \n",
    "    # Align GC Net & PROMICE Columns  \n",
    "    station, datetime, dayofcentury, dayofyear = _align_GC_PR()\n",
    " \n",
    "    day, df,columns, day_century, unique_files = _subset_df(date, df, station, datetime, measurement, dayofcentury, dayofyear, aws)\n",
    "    \n",
    "    # Subset Data (Scope)\n",
    "    df = _subset_scope(scope, window, df, date, day, dayofyear)\n",
    "\n",
    "    if measurement == 'All':\n",
    "        cols = df.select_dtypes(include=['float64']).columns.to_list()\n",
    "    else:\n",
    "        cols = [measurement]\n",
    "    #display(df)\n",
    "    row_index = int(df[df['target_date'] == True].index[0])\n",
    "    #print(row_index)\n",
    "    percentile_dict = {}\n",
    "    test_dict = {}#print(cols)\n",
    "    #display(df)\n",
    "    for col in cols:\n",
    "        #print(col)\n",
    "        value = df[col][row_index]\n",
    "        #display(df[col].rank(pct=True)[df[col] == value].iloc[0])\n",
    "        #print(df[col].rank(pct=True))\n",
    "        test_dict[col] = df[col].rank(pct=True) \n",
    "        percentile = df[col].rank(pct=True)[df[col] == value].iloc[0]*100 if not math.isnan(value) else math.nan\n",
    "        percentile_dict[col] = percentile\n",
    "\n",
    "    x = pd.DataFrame(percentile_dict, index=[0])\n",
    "\n",
    "    print('displaying percentile df')\n",
    "    import prettytable as pt\n",
    "\n",
    "    table = pt.PrettyTable()\n",
    "    table.field_names = [\"measurement\", \"Percentile\"]\n",
    "#    if x[col].values > 90 or x[col].values < 10:\n",
    "#        table.add_row([f\"\\033[1m{col}\\033[0m\", f\"\\033[1m{int(x[col].values) if not np.isnan(x[col].values) else 'NaN'}%\\033[0m\"])\n",
    "#    else:\n",
    "    for col in x.columns:\n",
    "        table.add_row([col, f\"{int(x[col].values) if not np.isnan(x[col].values) else 'NaN'}%\"])\n",
    "    \n",
    "      \n",
    "    print(\n",
    "    f\" Date: {date} \\n\" ,\n",
    "    f\"Station: {station} \\n\" , \n",
    "    f\"Measurement: {measurement} \\n\"  , \n",
    "    f\"Data: {data} \\n\" ,\n",
    "    \"----------------------------------------------------------------------------------------------------------------------\\n\",\n",
    "    f\"                   Climatology Report\\n\" \n",
    "    )\n",
    "    print(table)\n",
    "    print(\"----------------------------------------------------------------------------------------------------------------------\\n\")\n",
    "\n",
    "    import plotly.express as px\n",
    "    # Create a list of columns to be plotted\n",
    "    columns_to_plot = [col for col in x.columns.values if col in df.columns.values]\n",
    "  \n",
    "    # Create a list of values from x to be highlighted\n",
    "    values_to_highlight = x[columns_to_plot].values.flatten().tolist()\n",
    "  \n",
    "    # Create a list of subplots\n",
    "    figs = []\n",
    "    # Loop through list of columns\n",
    "    for col, v in zip(columns_to_plot, values_to_highlight) : \n",
    "        # Create a subplot for each column \n",
    "        fig = px.box(df[col], orientation = \"v\",boxmode='group')\n",
    "        # Format the axes\n",
    "        fig.update_layout(title_text= f\"Boxplot for {col}\", xaxis_title='', yaxis_title='')\n",
    "        # Highlight the values from x\n",
    "        fig.add_scatter(x=[col], y=[v], name= f\"Selected Value \\n{col}\",\n",
    "    mode = 'markers',\n",
    "    marker_symbol = 'circle-dot',\n",
    "    marker_size = 8,\n",
    "    marker_color = 'red')\n",
    "        \n",
    "        # Add figure to list of subplots \n",
    "        figs.append(fig)\n",
    "    \n",
    "    # Output\n",
    "    for fig in figs:\n",
    "        fig.show()\n",
    "    save_folder = '../figures/Test_markdown_fig'\n",
    "    for i, fig in enumerate(figs):\n",
    "        fig.write_image(os.path.join(save_folder,f'box_plot_{date}_{measurement}_{station}.png'.format(date=date, measurement=measurement, station=aws)), engine='orca')\n",
    "        fig.write_image(os.path.join(save_folder,f'fig1.png'), engine='orca')\n",
    "    return x\n",
    "\n",
    "t = gen_report(data = \"GC Net\", date = \"2019-01-13\", measurement= \"relative_humidity_2_cor\", scope='Relative', aws=\"Swiss Camp 10m\", window = 'week', output = \"Data\")\n",
    "#display(t)"
   ]
  },
  {
   "attachments": {},
   "cell_type": "markdown",
   "metadata": {},
   "source": [
    "<h2>Extreme Weather Events Detection</h2>\n",
    "<p>Meterological outliers for 2019-01-13, measured as mean of week compared to similar period previous years</p>\n",
    "\n",
    "<hr />\n",
    "\n",
    "<h3>Outliers by percentiler (filtered top/bottom 10%)</h3>\n",
    "\n",
    "|    | Station        | Measurement                  | Percentile   |   Number of Comparison Values |   Original Value |        Median |\n",
    "|---:|:---------------|:-----------------------------|:-------------|------------------------------:|-----------------:|--------------:|\n",
    "|  0 | Swiss Camp 10m | relative_humidity_2_cor      | 90.6%        |                            16 |       88.5957    |  81.6657      |\n",
    "|  1 | Swiss Camp     | relative_humidity_1_cor      | 91.2%        |                            17 |      109.02      | 100.726       |\n",
    "|  2 | Swiss Camp     | relative_humidity_2_cor      | 96.9%        |                            16 |      115.697     | 103.655       |\n",
    "|  3 | Swiss Camp     | snow_temperature_10          | 91.2%        |                            17 |       -7.90857   |  -9.63714     |\n",
    "|  4 | Swiss Camp     | snow_temperature_4           | 96.9%        |                            16 |       -4.66857   |  -8.19357     |\n",
    "|  5 | Swiss Camp     | snow_temperature_6           | 91.2%        |                            17 |       -5.19      |  -8.11714     |\n",
    "|  6 | Swiss Camp     | snow_temperature_7           | 90.6%        |                            16 |       -5.68429   |  -8.19286     |\n",
    "|  7 | Swiss Camp     | snow_temperature_8           | 96.7%        |                            15 |       -4.57143   |  -8.52857     |\n",
    "|  8 | Swiss Camp     | snow_temperature_9           | 90.6%        |                            16 |       -7.11857   |  -8.59        |\n",
    "|  9 | NASA-U         | shortwave_incoming_radiation | 90.6%        |                            16 |        0.0214286 |   0.000714286 |\n",
    "| 10 | NASA-U         | shortwave_outgoing_radiation | 97.1%        |                            17 |        0.0128571 |   0           |\n",
    "| 11 | NASA-U         | snow_depth_1                 | 96.7%        |                            15 |       18.3814    |   9.90571     |\n",
    "| 12 | NASA-U         | snow_depth_2                 | 96.7%        |                            15 |       18.0643    |   9.30429     |\n",
    "| 13 | Tunu-N         | shortwave_incoming_radiation | 96.2%        |                            13 |        0.127143  |   0.0485714   |\n",
    "| 14 | Tunu-N         | snow_depth_1                 | 96.4%        |                            14 |        7.81286   |   3.25571     |\n",
    "| 15 | Tunu-N         | snow_depth_2                 | 96.4%        |                            14 |        7.54      |   3.41571     |\n",
    "| 16 | DYE2           | relative_humidity_1_cor      | 7.5%         |                            20 |       91.2029    |  95.4807      |\n",
    "| 17 | DYE2           | snow_depth_1                 | 97.5%        |                            20 |       13.38      |   8.96643     |\n",
    "| 18 | DYE2           | snow_depth_2                 | 97.5%        |                            20 |       15.2043    |  10.4579      |\n",
    "| 19 | Saddle         | air_pressure                 | 92.1%        |                            19 |      732.733     | 722.094       |\n",
    "| 20 | Saddle         | air_temperature_2            | 92.5%        |                            20 |      -24.9329    | -30.3336      |\n",
    "| 21 | Saddle         | relative_humidity_1          | 97.4%        |                            19 |       93.2271    |  75.4329      |\n",
    "| 22 | Saddle         | relative_humidity_1_cor      | 97.4%        |                            19 |      118.826     |  97.5843      |\n",
    "| 23 | Saddle         | snow_depth_1                 | 91.2%        |                            17 |       18.3371    |  10.1514      |\n",
    "| 24 | Saddle         | snow_depth_2                 | 97.1%        |                            17 |       19.7214    |  10.6814      |\n",
    "| 25 | South Dome     | air_temperature_2            | 91.7%        |                            18 |      -22.34      | -28.0143      |\n",
    "| 26 | South Dome     | relative_humidity_1          | 91.7%        |                            18 |       93.7871    |  76.4064      |\n",
    "| 27 | South Dome     | relative_humidity_1_cor      | 97.2%        |                            18 |      117.536     | 101.948       |\n",
    "| 28 | South Dome     | relative_humidity_2          | 90.6%        |                            16 |       85.6071    |  77.3793      |\n",
    "| 29 | South Dome     | relative_humidity_2_cor      | 96.9%        |                            16 |      106.274     |  99.8864      |\n",
    "| 30 | South Dome     | shortwave_incoming_radiation | 90.6%        |                            16 |        5.96571   |   4.63048     |\n",
    "| 31 | South Dome     | specific_humidity_1          | 92.9%        |                             7 |        0.875714  |   0.495714    |\n",
    "| 32 | South Dome     | specific_humidity_2          | 91.7%        |                             6 |        0.85      |   0.581429    |\n",
    "| 33 | NASA-SE        | relative_humidity_2_cor      | 96.7%        |                            15 |      112.553     | 100.831       |\n",
    "| 34 | NASA-SE        | shortwave_incoming_radiation | 90.6%        |                            16 |        2.86143   |   1.70429     |\n",
    "| 35 | NASA-SE        | snow_depth_1                 | 96.4%        |                            14 |       33.33      |  10.0693      |\n",
    "| 36 | NASA-SE        | snow_depth_2                 | 96.4%        |                            14 |       31.76      |  11.1343      |\n",
    "| 37 | NEEM           | air_temperature_1            | 5.0%         |                            10 |      -45.6529    | -36.1943      |\n",
    "| 38 | NEEM           | air_temperature_2            | 5.0%         |                            10 |      -45.0371    | -35.9807      |\n",
    "| 39 | NEEM           | relative_humidity_2          | 5.6%         |                             9 |       58.2257    |  68.7543      |\n",
    "| 40 | NEEM           | relative_humidity_2_cor      | 5.6%         |                             9 |       88.9786    |  97.0271      |\n",
    "\n",
    "|                             | 0                       |\n",
    "|:----------------------------|:------------------------|\n",
    "| Station                     | Swiss Camp 10m          |\n",
    "| Measurement                 | relative_humidity_2_cor |\n",
    "| Percentile                  | 90.6%                   |\n",
    "| Number of Comparison Values | 16.0                    |\n",
    "| Original Value              | 88.59571428571428       |\n",
    "| Median                      | 81.66571428571429       |\n",
    "\n",
    "<p><img alt=\"Boxplot\" src=\"/../GEUS-Master-Thesis/figures/to_markdown/fig1.png\" /></p>\n",
    "\n",
    "<details> <summary>This collapsible can contain more detailed information </summary> \n",
    " <br/> insert text here  \n",
    " </details>\n",
    "\n"
   ]
  },
  {
   "cell_type": "code",
   "execution_count": 10,
   "metadata": {},
   "outputs": [
    {
     "name": "stdout",
     "output_type": "stream",
     "text": [
      "c:\\Users\\mabj16ac\\Desktop\\Thesis\\GEUS-Master-Thesis\\scripts\n",
      "Calculating Percentiles .... \n",
      "Finished Calculating Percentiles\n",
      "Transforming Output...\n",
      "Finished\n",
      "----------------------------------------------------------------------------------------------------------------------\n",
      "\n",
      "\n"
     ]
    },
    {
     "ename": "IndexError",
     "evalue": "single positional indexer is out-of-bounds",
     "output_type": "error",
     "traceback": [
      "\u001b[1;31m---------------------------------------------------------------------------\u001b[0m",
      "\u001b[1;31mIndexError\u001b[0m                                Traceback (most recent call last)",
      "Cell \u001b[1;32mIn[10], line 48\u001b[0m\n\u001b[0;32m     44\u001b[0m     add_element(collapse_element)\n\u001b[0;32m     47\u001b[0m     make_report(output, filename)\n\u001b[1;32m---> 48\u001b[0m generate_markdown()\n",
      "Cell \u001b[1;32mIn[10], line 38\u001b[0m, in \u001b[0;36mgenerate_markdown\u001b[1;34m(date, window, filename, df)\u001b[0m\n\u001b[0;32m     35\u001b[0m add_element([header, line, body1, percentiles_out])\n\u001b[0;32m     37\u001b[0m picture_folder \u001b[39m=\u001b[39m ()\n\u001b[1;32m---> 38\u001b[0m row_out \u001b[39m=\u001b[39m percentiles\u001b[39m.\u001b[39;49miloc[\u001b[39m0\u001b[39;49m,:]\u001b[39m.\u001b[39mto_markdown()\n\u001b[0;32m     39\u001b[0m figure_out \u001b[39m=\u001b[39m md(\u001b[39m'\u001b[39m\u001b[39m![Boxplot](/../GEUS-Master-Thesis/figures/to_markdown/fig1.png)\u001b[39m\u001b[39m'\u001b[39m)\u001b[39m#.format(date=date,aws='relative',measurement='relative_humidity_2_cor_file'))\u001b[39;00m\n\u001b[0;32m     40\u001b[0m \u001b[39mprint\u001b[39m(figure_out)\n",
      "File \u001b[1;32mc:\\Users\\mabj16ac\\Anaconda3\\lib\\site-packages\\pandas\\core\\indexing.py:1067\u001b[0m, in \u001b[0;36m_LocationIndexer.__getitem__\u001b[1;34m(self, key)\u001b[0m\n\u001b[0;32m   1065\u001b[0m     \u001b[39mif\u001b[39;00m \u001b[39mself\u001b[39m\u001b[39m.\u001b[39m_is_scalar_access(key):\n\u001b[0;32m   1066\u001b[0m         \u001b[39mreturn\u001b[39;00m \u001b[39mself\u001b[39m\u001b[39m.\u001b[39mobj\u001b[39m.\u001b[39m_get_value(\u001b[39m*\u001b[39mkey, takeable\u001b[39m=\u001b[39m\u001b[39mself\u001b[39m\u001b[39m.\u001b[39m_takeable)\n\u001b[1;32m-> 1067\u001b[0m     \u001b[39mreturn\u001b[39;00m \u001b[39mself\u001b[39;49m\u001b[39m.\u001b[39;49m_getitem_tuple(key)\n\u001b[0;32m   1068\u001b[0m \u001b[39melse\u001b[39;00m:\n\u001b[0;32m   1069\u001b[0m     \u001b[39m# we by definition only have the 0th axis\u001b[39;00m\n\u001b[0;32m   1070\u001b[0m     axis \u001b[39m=\u001b[39m \u001b[39mself\u001b[39m\u001b[39m.\u001b[39maxis \u001b[39mor\u001b[39;00m \u001b[39m0\u001b[39m\n",
      "File \u001b[1;32mc:\\Users\\mabj16ac\\Anaconda3\\lib\\site-packages\\pandas\\core\\indexing.py:1563\u001b[0m, in \u001b[0;36m_iLocIndexer._getitem_tuple\u001b[1;34m(self, tup)\u001b[0m\n\u001b[0;32m   1561\u001b[0m \u001b[39mdef\u001b[39;00m \u001b[39m_getitem_tuple\u001b[39m(\u001b[39mself\u001b[39m, tup: \u001b[39mtuple\u001b[39m):\n\u001b[1;32m-> 1563\u001b[0m     tup \u001b[39m=\u001b[39m \u001b[39mself\u001b[39;49m\u001b[39m.\u001b[39;49m_validate_tuple_indexer(tup)\n\u001b[0;32m   1564\u001b[0m     \u001b[39mwith\u001b[39;00m suppress(IndexingError):\n\u001b[0;32m   1565\u001b[0m         \u001b[39mreturn\u001b[39;00m \u001b[39mself\u001b[39m\u001b[39m.\u001b[39m_getitem_lowerdim(tup)\n",
      "File \u001b[1;32mc:\\Users\\mabj16ac\\Anaconda3\\lib\\site-packages\\pandas\\core\\indexing.py:873\u001b[0m, in \u001b[0;36m_LocationIndexer._validate_tuple_indexer\u001b[1;34m(self, key)\u001b[0m\n\u001b[0;32m    871\u001b[0m \u001b[39mfor\u001b[39;00m i, k \u001b[39min\u001b[39;00m \u001b[39menumerate\u001b[39m(key):\n\u001b[0;32m    872\u001b[0m     \u001b[39mtry\u001b[39;00m:\n\u001b[1;32m--> 873\u001b[0m         \u001b[39mself\u001b[39;49m\u001b[39m.\u001b[39;49m_validate_key(k, i)\n\u001b[0;32m    874\u001b[0m     \u001b[39mexcept\u001b[39;00m \u001b[39mValueError\u001b[39;00m \u001b[39mas\u001b[39;00m err:\n\u001b[0;32m    875\u001b[0m         \u001b[39mraise\u001b[39;00m \u001b[39mValueError\u001b[39;00m(\n\u001b[0;32m    876\u001b[0m             \u001b[39m\"\u001b[39m\u001b[39mLocation based indexing can only have \u001b[39m\u001b[39m\"\u001b[39m\n\u001b[0;32m    877\u001b[0m             \u001b[39mf\u001b[39m\u001b[39m\"\u001b[39m\u001b[39m[\u001b[39m\u001b[39m{\u001b[39;00m\u001b[39mself\u001b[39m\u001b[39m.\u001b[39m_valid_types\u001b[39m}\u001b[39;00m\u001b[39m] types\u001b[39m\u001b[39m\"\u001b[39m\n\u001b[0;32m    878\u001b[0m         ) \u001b[39mfrom\u001b[39;00m \u001b[39merr\u001b[39;00m\n",
      "File \u001b[1;32mc:\\Users\\mabj16ac\\Anaconda3\\lib\\site-packages\\pandas\\core\\indexing.py:1466\u001b[0m, in \u001b[0;36m_iLocIndexer._validate_key\u001b[1;34m(self, key, axis)\u001b[0m\n\u001b[0;32m   1464\u001b[0m     \u001b[39mreturn\u001b[39;00m\n\u001b[0;32m   1465\u001b[0m \u001b[39melif\u001b[39;00m is_integer(key):\n\u001b[1;32m-> 1466\u001b[0m     \u001b[39mself\u001b[39;49m\u001b[39m.\u001b[39;49m_validate_integer(key, axis)\n\u001b[0;32m   1467\u001b[0m \u001b[39melif\u001b[39;00m \u001b[39misinstance\u001b[39m(key, \u001b[39mtuple\u001b[39m):\n\u001b[0;32m   1468\u001b[0m     \u001b[39m# a tuple should already have been caught by this point\u001b[39;00m\n\u001b[0;32m   1469\u001b[0m     \u001b[39m# so don't treat a tuple as a valid indexer\u001b[39;00m\n\u001b[0;32m   1470\u001b[0m     \u001b[39mraise\u001b[39;00m IndexingError(\u001b[39m\"\u001b[39m\u001b[39mToo many indexers\u001b[39m\u001b[39m\"\u001b[39m)\n",
      "File \u001b[1;32mc:\\Users\\mabj16ac\\Anaconda3\\lib\\site-packages\\pandas\\core\\indexing.py:1557\u001b[0m, in \u001b[0;36m_iLocIndexer._validate_integer\u001b[1;34m(self, key, axis)\u001b[0m\n\u001b[0;32m   1555\u001b[0m len_axis \u001b[39m=\u001b[39m \u001b[39mlen\u001b[39m(\u001b[39mself\u001b[39m\u001b[39m.\u001b[39mobj\u001b[39m.\u001b[39m_get_axis(axis))\n\u001b[0;32m   1556\u001b[0m \u001b[39mif\u001b[39;00m key \u001b[39m>\u001b[39m\u001b[39m=\u001b[39m len_axis \u001b[39mor\u001b[39;00m key \u001b[39m<\u001b[39m \u001b[39m-\u001b[39mlen_axis:\n\u001b[1;32m-> 1557\u001b[0m     \u001b[39mraise\u001b[39;00m \u001b[39mIndexError\u001b[39;00m(\u001b[39m\"\u001b[39m\u001b[39msingle positional indexer is out-of-bounds\u001b[39m\u001b[39m\"\u001b[39m)\n",
      "\u001b[1;31mIndexError\u001b[0m: single positional indexer is out-of-bounds"
     ]
    }
   ],
   "source": [
    "from markdown import markdown as md\n",
    "from tabulate import tabulate\n",
    "\n",
    "\n",
    "#percentiles = daily_report(data = \"GC Net\", date = \"2019-01-13\", measurement= \"All\", scope='Relative', aws=\"All\", window = 'week', output = \"Data\")\n",
    "print(os.getcwd())\n",
    "def generate_markdown(date='2019-01-13', window = 'month', filename='../markdown_reports/output_report_draft2.md', df=None):\n",
    "    output = []\n",
    "    def add_element(element):\n",
    "        nonlocal output\n",
    "        if isinstance(element, list):\n",
    "            for i in element:\n",
    "                output.append(i)\n",
    "        else:\n",
    "            output.append(element)\n",
    "        #percentiles['Percentile'] = percentiles['Percentile'].div(100).map('{:.1%}'.format)\n",
    "\n",
    "    def make_report(elements, filename):\n",
    "        with open(filename, 'w') as f:\n",
    "            for element in elements:\n",
    "                f.write(element)\n",
    "                f.write('\\n\\n')\n",
    "    \n",
    "    if isinstance(df,pd.DataFrame):\n",
    "        percentiles = df\n",
    "    else:\n",
    "        percentiles = daily_report(data = \"GC Net\", date = date, measurement= \"All\", scope='Relative', aws=\"All\", window = window, output = \"Data\")\n",
    "    percentiles_out = (percentiles\n",
    "                       .to_markdown()\n",
    "    )\n",
    "    #percentiles_out = percentiles.to_markdown(tablefmt='grid')\n",
    "    header = md('## Extreme Weather Events Detection \\n Meterological outliers for {d}, measured as mean of {w} compared to similar period previous years'.format(d=date,w=window))\n",
    "    line = md('-------------------------------------------------------------------------------------------------')\n",
    "    body1 = md('### Outliers by percentiler (filtered top/bottom 10%)')\n",
    "    add_element([header, line, body1, percentiles_out])\n",
    "\n",
    "    picture_folder = ()\n",
    "    row_out = percentiles.iloc[0,:].to_markdown()\n",
    "    figure_out = md('![Boxplot](/../GEUS-Master-Thesis/figures/to_markdown/fig1.png)')#.format(date=date,aws='relative',measurement='relative_humidity_2_cor_file'))\n",
    "    print(figure_out)\n",
    "    add_element([row_out,figure_out])\n",
    "    #GEUS-Master-Thesis\\figures\\to_markdown\\box_plot_2019-01-13_relative_humidity_2_cor_file.png\n",
    "    collapse_element = md('<details> <summary>This collapsible can contain more detailed information </summary> \\n <br/> insert text here  \\n </details>''')\n",
    "    add_element(collapse_element)\n",
    "    \n",
    "\n",
    "    make_report(output, filename)\n",
    "generate_markdown()\n"
   ]
  },
  {
   "cell_type": "code",
   "execution_count": 43,
   "metadata": {},
   "outputs": [
    {
     "ename": "KeyError",
     "evalue": "'Datetime'",
     "output_type": "error",
     "traceback": [
      "\u001b[1;31m---------------------------------------------------------------------------\u001b[0m",
      "\u001b[1;31mKeyError\u001b[0m                                  Traceback (most recent call last)",
      "File \u001b[1;32mc:\\Users\\mabj16ac\\Anaconda3\\lib\\site-packages\\pandas\\core\\indexes\\base.py:3802\u001b[0m, in \u001b[0;36mIndex.get_loc\u001b[1;34m(self, key, method, tolerance)\u001b[0m\n\u001b[0;32m   3801\u001b[0m \u001b[39mtry\u001b[39;00m:\n\u001b[1;32m-> 3802\u001b[0m     \u001b[39mreturn\u001b[39;00m \u001b[39mself\u001b[39;49m\u001b[39m.\u001b[39;49m_engine\u001b[39m.\u001b[39;49mget_loc(casted_key)\n\u001b[0;32m   3803\u001b[0m \u001b[39mexcept\u001b[39;00m \u001b[39mKeyError\u001b[39;00m \u001b[39mas\u001b[39;00m err:\n",
      "File \u001b[1;32mc:\\Users\\mabj16ac\\Anaconda3\\lib\\site-packages\\pandas\\_libs\\index.pyx:138\u001b[0m, in \u001b[0;36mpandas._libs.index.IndexEngine.get_loc\u001b[1;34m()\u001b[0m\n",
      "File \u001b[1;32mc:\\Users\\mabj16ac\\Anaconda3\\lib\\site-packages\\pandas\\_libs\\index.pyx:165\u001b[0m, in \u001b[0;36mpandas._libs.index.IndexEngine.get_loc\u001b[1;34m()\u001b[0m\n",
      "File \u001b[1;32mpandas\\_libs\\hashtable_class_helper.pxi:5745\u001b[0m, in \u001b[0;36mpandas._libs.hashtable.PyObjectHashTable.get_item\u001b[1;34m()\u001b[0m\n",
      "File \u001b[1;32mpandas\\_libs\\hashtable_class_helper.pxi:5753\u001b[0m, in \u001b[0;36mpandas._libs.hashtable.PyObjectHashTable.get_item\u001b[1;34m()\u001b[0m\n",
      "\u001b[1;31mKeyError\u001b[0m: 'Datetime'",
      "\nThe above exception was the direct cause of the following exception:\n",
      "\u001b[1;31mKeyError\u001b[0m                                  Traceback (most recent call last)",
      "Cell \u001b[1;32mIn[43], line 1\u001b[0m\n\u001b[1;32m----> 1\u001b[0m percentiles \u001b[39m=\u001b[39m daily_report(data \u001b[39m=\u001b[39;49m \u001b[39m\"\u001b[39;49m\u001b[39mGC Net\u001b[39;49m\u001b[39m\"\u001b[39;49m, date \u001b[39m=\u001b[39;49m \u001b[39m\"\u001b[39;49m\u001b[39m2019-01-13\u001b[39;49m\u001b[39m\"\u001b[39;49m, measurement\u001b[39m=\u001b[39;49m \u001b[39m\"\u001b[39;49m\u001b[39mAll\u001b[39;49m\u001b[39m\"\u001b[39;49m, scope\u001b[39m=\u001b[39;49m\u001b[39m'\u001b[39;49m\u001b[39mRelative\u001b[39;49m\u001b[39m'\u001b[39;49m, aws\u001b[39m=\u001b[39;49m\u001b[39m\"\u001b[39;49m\u001b[39mAll\u001b[39;49m\u001b[39m\"\u001b[39;49m, window \u001b[39m=\u001b[39;49m \u001b[39m'\u001b[39;49m\u001b[39mmonth\u001b[39;49m\u001b[39m'\u001b[39;49m, output \u001b[39m=\u001b[39;49m \u001b[39m\"\u001b[39;49m\u001b[39mData\u001b[39;49m\u001b[39m\"\u001b[39;49m)\n\u001b[0;32m      3\u001b[0m display(percentiles)\n\u001b[0;32m      4\u001b[0m df \u001b[39m=\u001b[39m get_data(data \u001b[39m=\u001b[39m \u001b[39m\"\u001b[39m\u001b[39mGC Net\u001b[39m\u001b[39m\"\u001b[39m, date \u001b[39m=\u001b[39m \u001b[39m\"\u001b[39m\u001b[39m2019-01-13\u001b[39m\u001b[39m\"\u001b[39m, measurement\u001b[39m=\u001b[39m \u001b[39m\"\u001b[39m\u001b[39mAll\u001b[39m\u001b[39m\"\u001b[39m, scope\u001b[39m=\u001b[39m\u001b[39m'\u001b[39m\u001b[39mRelative\u001b[39m\u001b[39m'\u001b[39m, output \u001b[39m=\u001b[39m \u001b[39m\"\u001b[39m\u001b[39mData\u001b[39m\u001b[39m\"\u001b[39m, aws\u001b[39m=\u001b[39m\u001b[39m\"\u001b[39m\u001b[39mAll\u001b[39m\u001b[39m\"\u001b[39m, window\u001b[39m=\u001b[39m\u001b[39m'\u001b[39m\u001b[39mday\u001b[39m\u001b[39m'\u001b[39m)\n",
      "Cell \u001b[1;32mIn[33], line 36\u001b[0m, in \u001b[0;36mdaily_report\u001b[1;34m(data, date, aws, measurement, scope, window, output, aggregated)\u001b[0m\n\u001b[0;32m     32\u001b[0m     \u001b[39mraise\u001b[39;00m \u001b[39mValueError\u001b[39;00m(\u001b[39mf\u001b[39m\u001b[39m\"\u001b[39m\u001b[39mThe input for the variable \u001b[39m\u001b[39m'\u001b[39m\u001b[39maggregated\u001b[39m\u001b[39m'\u001b[39m\u001b[39m was not recognizable. Please use one of the following options: True, False\u001b[39m\u001b[39m\"\u001b[39m)\n\u001b[0;32m     34\u001b[0m \u001b[39m# Subset Data (date, measurement, station)\u001b[39;00m\n\u001b[0;32m     35\u001b[0m \u001b[39m#day, df = _subset_df(date,df, station, datetime, measurement, dayofcentury, dayofyear, aws)\u001b[39;00m\n\u001b[1;32m---> 36\u001b[0m day, df,columns, day_century, unique_files \u001b[39m=\u001b[39m _subset_df(date, df, station, datetime, measurement, dayofcentury, dayofyear, aws)\n\u001b[0;32m     38\u001b[0m \u001b[39m# Subset Data (Scope)\u001b[39;00m\n\u001b[0;32m     39\u001b[0m df \u001b[39m=\u001b[39m _subset_scope(scope, window, df, date, day, dayofyear)\n",
      "Cell \u001b[1;32mIn[30], line 64\u001b[0m, in \u001b[0;36m_subset_df\u001b[1;34m(date, df, station, datetime, measurement, dayofcentury, dayofyear, aws)\u001b[0m\n\u001b[0;32m     62\u001b[0m \u001b[39mdef\u001b[39;00m \u001b[39m_subset_df\u001b[39m(date, df, station, datetime, measurement, dayofcentury, dayofyear, aws):\n\u001b[0;32m     63\u001b[0m     exclude \u001b[39m=\u001b[39m _exclude()\n\u001b[1;32m---> 64\u001b[0m     df[\u001b[39m'\u001b[39m\u001b[39mDatetime\u001b[39m\u001b[39m'\u001b[39m] \u001b[39m=\u001b[39m pd\u001b[39m.\u001b[39mto_datetime(df[\u001b[39m'\u001b[39;49m\u001b[39mDatetime\u001b[39;49m\u001b[39m'\u001b[39;49m], \u001b[39mformat\u001b[39m\u001b[39m=\u001b[39m\u001b[39m'\u001b[39m\u001b[39m%\u001b[39m\u001b[39mY-\u001b[39m\u001b[39m%\u001b[39m\u001b[39mm-\u001b[39m\u001b[39m%d\u001b[39;00m\u001b[39m'\u001b[39m)\n\u001b[0;32m     65\u001b[0m     \u001b[39m# Split date input into year, month, day\u001b[39;00m\n\u001b[0;32m     66\u001b[0m     year \u001b[39m=\u001b[39m \u001b[39mint\u001b[39m(date[\u001b[39m0\u001b[39m:\u001b[39m4\u001b[39m])\n",
      "File \u001b[1;32mc:\\Users\\mabj16ac\\Anaconda3\\lib\\site-packages\\pandas\\core\\frame.py:3807\u001b[0m, in \u001b[0;36mDataFrame.__getitem__\u001b[1;34m(self, key)\u001b[0m\n\u001b[0;32m   3805\u001b[0m \u001b[39mif\u001b[39;00m \u001b[39mself\u001b[39m\u001b[39m.\u001b[39mcolumns\u001b[39m.\u001b[39mnlevels \u001b[39m>\u001b[39m \u001b[39m1\u001b[39m:\n\u001b[0;32m   3806\u001b[0m     \u001b[39mreturn\u001b[39;00m \u001b[39mself\u001b[39m\u001b[39m.\u001b[39m_getitem_multilevel(key)\n\u001b[1;32m-> 3807\u001b[0m indexer \u001b[39m=\u001b[39m \u001b[39mself\u001b[39;49m\u001b[39m.\u001b[39;49mcolumns\u001b[39m.\u001b[39;49mget_loc(key)\n\u001b[0;32m   3808\u001b[0m \u001b[39mif\u001b[39;00m is_integer(indexer):\n\u001b[0;32m   3809\u001b[0m     indexer \u001b[39m=\u001b[39m [indexer]\n",
      "File \u001b[1;32mc:\\Users\\mabj16ac\\Anaconda3\\lib\\site-packages\\pandas\\core\\indexes\\base.py:3804\u001b[0m, in \u001b[0;36mIndex.get_loc\u001b[1;34m(self, key, method, tolerance)\u001b[0m\n\u001b[0;32m   3802\u001b[0m     \u001b[39mreturn\u001b[39;00m \u001b[39mself\u001b[39m\u001b[39m.\u001b[39m_engine\u001b[39m.\u001b[39mget_loc(casted_key)\n\u001b[0;32m   3803\u001b[0m \u001b[39mexcept\u001b[39;00m \u001b[39mKeyError\u001b[39;00m \u001b[39mas\u001b[39;00m err:\n\u001b[1;32m-> 3804\u001b[0m     \u001b[39mraise\u001b[39;00m \u001b[39mKeyError\u001b[39;00m(key) \u001b[39mfrom\u001b[39;00m \u001b[39merr\u001b[39;00m\n\u001b[0;32m   3805\u001b[0m \u001b[39mexcept\u001b[39;00m \u001b[39mTypeError\u001b[39;00m:\n\u001b[0;32m   3806\u001b[0m     \u001b[39m# If we have a listlike key, _check_indexing_error will raise\u001b[39;00m\n\u001b[0;32m   3807\u001b[0m     \u001b[39m#  InvalidIndexError. Otherwise we fall through and re-raise\u001b[39;00m\n\u001b[0;32m   3808\u001b[0m     \u001b[39m#  the TypeError.\u001b[39;00m\n\u001b[0;32m   3809\u001b[0m     \u001b[39mself\u001b[39m\u001b[39m.\u001b[39m_check_indexing_error(key)\n",
      "\u001b[1;31mKeyError\u001b[0m: 'Datetime'"
     ]
    }
   ],
   "source": [
    "percentiles = daily_report(data = \"GC Net\", date = \"2019-01-13\", measurement= \"All\", scope='Relative', aws=\"All\", window = 'month', output = \"Data\")\n",
    "\n",
    "display(percentiles)\n",
    "df = get_data(data = \"GC Net\", date = \"2019-01-13\", measurement= \"All\", scope='Relative', output = \"Data\", aws=\"All\", window='day')\n",
    "#display(x)\n",
    "\n",
    "x = percentiles.copy()\n",
    "display(df)\n",
    "display(x)\n",
    "display(percentiles)"
   ]
  },
  {
   "cell_type": "code",
   "execution_count": 354,
   "metadata": {},
   "outputs": [
    {
     "data": {
      "text/html": [
       "<div>\n",
       "<style scoped>\n",
       "    .dataframe tbody tr th:only-of-type {\n",
       "        vertical-align: middle;\n",
       "    }\n",
       "\n",
       "    .dataframe tbody tr th {\n",
       "        vertical-align: top;\n",
       "    }\n",
       "\n",
       "    .dataframe thead th {\n",
       "        text-align: right;\n",
       "    }\n",
       "</style>\n",
       "<table border=\"1\" class=\"dataframe\">\n",
       "  <thead>\n",
       "    <tr style=\"text-align: right;\">\n",
       "      <th></th>\n",
       "      <th>shortwave_incoming_radiation</th>\n",
       "    </tr>\n",
       "    <tr>\n",
       "      <th>Datetime</th>\n",
       "      <th></th>\n",
       "    </tr>\n",
       "  </thead>\n",
       "  <tbody>\n",
       "    <tr>\n",
       "      <th>2014-01-31</th>\n",
       "      <td>0.024545</td>\n",
       "    </tr>\n",
       "    <tr>\n",
       "      <th>2014-03-31</th>\n",
       "      <td>84.192609</td>\n",
       "    </tr>\n",
       "    <tr>\n",
       "      <th>2014-04-30</th>\n",
       "      <td>193.904333</td>\n",
       "    </tr>\n",
       "    <tr>\n",
       "      <th>2014-05-31</th>\n",
       "      <td>337.471613</td>\n",
       "    </tr>\n",
       "    <tr>\n",
       "      <th>2014-06-30</th>\n",
       "      <td>363.214333</td>\n",
       "    </tr>\n",
       "    <tr>\n",
       "      <th>2014-07-31</th>\n",
       "      <td>326.530000</td>\n",
       "    </tr>\n",
       "    <tr>\n",
       "      <th>2014-08-31</th>\n",
       "      <td>211.609032</td>\n",
       "    </tr>\n",
       "    <tr>\n",
       "      <th>2014-09-30</th>\n",
       "      <td>92.022333</td>\n",
       "    </tr>\n",
       "    <tr>\n",
       "      <th>2014-10-31</th>\n",
       "      <td>22.538065</td>\n",
       "    </tr>\n",
       "    <tr>\n",
       "      <th>2014-11-30</th>\n",
       "      <td>0.477667</td>\n",
       "    </tr>\n",
       "    <tr>\n",
       "      <th>2014-12-31</th>\n",
       "      <td>0.036452</td>\n",
       "    </tr>\n",
       "  </tbody>\n",
       "</table>\n",
       "</div>"
      ],
      "text/plain": [
       "            shortwave_incoming_radiation\n",
       "Datetime                                \n",
       "2014-01-31                      0.024545\n",
       "2014-03-31                     84.192609\n",
       "2014-04-30                    193.904333\n",
       "2014-05-31                    337.471613\n",
       "2014-06-30                    363.214333\n",
       "2014-07-31                    326.530000\n",
       "2014-08-31                    211.609032\n",
       "2014-09-30                     92.022333\n",
       "2014-10-31                     22.538065\n",
       "2014-11-30                      0.477667\n",
       "2014-12-31                      0.036452"
      ]
     },
     "metadata": {},
     "output_type": "display_data"
    },
    {
     "data": {
      "application/vnd.plotly.v1+json": {
       "config": {
        "plotlyServerURL": "https://plot.ly"
       },
       "data": [
        {
         "legendgroup": "custom",
         "line": {
          "color": "rgba(0, 0, 0, 1)",
          "width": 1
         },
         "mode": "lines",
         "name": "2022",
         "showlegend": false,
         "type": "scatter",
         "x": [
          "2000-03-31T00:00:00",
          "2000-04-30T00:00:00",
          "2000-05-31T00:00:00",
          "2000-06-30T00:00:00",
          "2000-07-31T00:00:00",
          "2000-08-31T00:00:00",
          "2000-09-30T00:00:00"
         ],
         "y": [
          73.15666666666667,
          150.67133333333334,
          283.764,
          335.2033333333333,
          300.11,
          182.0225806451613,
          81.23049999999999
         ]
        },
        {
         "legendgroup": "custom",
         "line": {
          "color": "rgba(0, 0, 0, 1)",
          "width": 1
         },
         "mode": "lines",
         "name": "2021",
         "showlegend": false,
         "type": "scatter",
         "x": [
          "2000-01-31T00:00:00",
          "2000-03-31T00:00:00",
          "2000-04-30T00:00:00",
          "2000-05-31T00:00:00",
          "2000-06-30T00:00:00",
          "2000-07-31T00:00:00",
          "2000-08-31T00:00:00",
          "2000-09-30T00:00:00",
          "2000-10-31T00:00:00",
          "2000-11-30T00:00:00",
          "2000-12-31T00:00:00"
         ],
         "y": [
          0.12941176470588237,
          84.87363636363636,
          152.9453333333333,
          279.27290322580643,
          349.56233333333336,
          269.0193548387097,
          170.8932258064516,
          80.30233333333334,
          14.34483870967742,
          0.48166666666666663,
          0.16580645161290325
         ]
        },
        {
         "legendgroup": "custom",
         "line": {
          "color": "rgba(9, 9, 9, 1)",
          "width": 1
         },
         "mode": "lines",
         "name": "2020",
         "showlegend": false,
         "type": "scatter",
         "x": [
          "2000-01-31T00:00:00",
          "2000-03-31T00:00:00",
          "2000-04-30T00:00:00",
          "2000-05-31T00:00:00",
          "2000-06-30T00:00:00",
          "2000-07-31T00:00:00",
          "2000-08-31T00:00:00",
          "2000-09-30T00:00:00",
          "2000-10-31T00:00:00",
          "2000-11-30T00:00:00",
          "2000-12-31T00:00:00"
         ],
         "y": [
          0.010952380952380953,
          80.11500000000001,
          157.64600000000002,
          281.8954838709677,
          329.26733333333334,
          292.1667741935484,
          185.79709677419356,
          70.38033333333333,
          14.371290322580645,
          0.427,
          0.16419354838709677
         ]
        },
        {
         "legendgroup": "custom",
         "line": {
          "color": "rgba(19, 19, 19, 1)",
          "width": 1
         },
         "mode": "lines",
         "name": "2019",
         "showlegend": false,
         "type": "scatter",
         "x": [
          "2000-01-31T00:00:00",
          "2000-04-30T00:00:00",
          "2000-05-31T00:00:00",
          "2000-06-30T00:00:00",
          "2000-07-31T00:00:00",
          "2000-08-31T00:00:00",
          "2000-09-30T00:00:00",
          "2000-10-31T00:00:00",
          "2000-11-30T00:00:00",
          "2000-12-31T00:00:00"
         ],
         "y": [
          0.029000000000000005,
          164.59826086956522,
          281.49225806451614,
          314.39666666666665,
          309.0867741935484,
          201.47838709677418,
          83.097,
          16.278709677419354,
          0.41633333333333333,
          0.01967741935483871
         ]
        },
        {
         "legendgroup": "custom",
         "line": {
          "color": "rgba(29, 29, 29, 1)",
          "width": 1
         },
         "mode": "lines",
         "name": "2018",
         "showlegend": false,
         "type": "scatter",
         "x": [
          "2000-01-31T00:00:00",
          "2000-02-28T00:00:00",
          "2000-05-31T00:00:00",
          "2000-06-30T00:00:00",
          "2000-07-31T00:00:00",
          "2000-08-31T00:00:00",
          "2000-09-30T00:00:00",
          "2000-10-31T00:00:00",
          "2000-11-30T00:00:00",
          "2000-12-31T00:00:00"
         ],
         "y": [
          0.10161290322580645,
          1.5272727272727273,
          300.65555555555557,
          327.456,
          279.1541935483871,
          171.32999999999998,
          83.19433333333333,
          13.900645161290322,
          0.4643333333333333,
          0.02064516129032258
         ]
        },
        {
         "legendgroup": "custom",
         "line": {
          "color": "rgba(39, 39, 39, 1)",
          "width": 1
         },
         "mode": "lines",
         "name": "2017",
         "showlegend": false,
         "type": "scatter",
         "x": [
          "2000-04-30T00:00:00",
          "2000-05-31T00:00:00",
          "2000-06-30T00:00:00",
          "2000-07-31T00:00:00",
          "2000-08-31T00:00:00",
          "2000-09-30T00:00:00",
          "2000-10-31T00:00:00",
          "2000-11-30T00:00:00",
          "2000-12-31T00:00:00"
         ],
         "y": [
          213.31045454545455,
          315.3009677419355,
          403.805,
          364.70193548387095,
          216.15129032258062,
          93.873,
          20.391612903225806,
          0.4626666666666666,
          0.011290322580645162
         ]
        },
        {
         "legendgroup": "custom",
         "line": {
          "color": "rgba(49, 49, 49, 1)",
          "width": 1
         },
         "mode": "lines",
         "name": "2016",
         "showlegend": false,
         "type": "scatter",
         "x": [
          "2000-01-31T00:00:00",
          "2000-03-31T00:00:00",
          "2000-04-30T00:00:00",
          "2000-05-31T00:00:00",
          "2000-06-30T00:00:00",
          "2000-07-31T00:00:00",
          "2000-08-31T00:00:00",
          "2000-09-30T00:00:00",
          "2000-10-31T00:00:00",
          "2000-11-30T00:00:00",
          "2000-12-31T00:00:00"
         ],
         "y": [
          0.02826086956521739,
          96.01875,
          186.91766666666666,
          323.47032258064513,
          382.5466666666667,
          359.64838709677423,
          218.20129032258063,
          99.437,
          17.308709677419355,
          0.43,
          0.034193548387096775
         ]
        },
        {
         "legendgroup": "custom",
         "line": {
          "color": "rgba(58, 58, 58, 1)",
          "width": 1
         },
         "mode": "lines",
         "name": "2015",
         "showlegend": false,
         "type": "scatter",
         "x": [
          "2000-01-31T00:00:00",
          "2000-04-30T00:00:00",
          "2000-05-31T00:00:00",
          "2000-06-30T00:00:00",
          "2000-07-31T00:00:00",
          "2000-08-31T00:00:00",
          "2000-09-30T00:00:00",
          "2000-10-31T00:00:00",
          "2000-11-30T00:00:00",
          "2000-12-31T00:00:00"
         ],
         "y": [
          0.05586206896551724,
          223.135,
          323.87612903225806,
          393.67833333333334,
          363.15032258064514,
          232.8425806451613,
          96.80300000000001,
          21.648064516129033,
          0.447,
          0.07064516129032258
         ]
        },
        {
         "legendgroup": "custom",
         "line": {
          "color": "rgba(68, 68, 68, 1)",
          "width": 1
         },
         "mode": "lines",
         "name": "2013",
         "showlegend": false,
         "type": "scatter",
         "x": [
          "2000-01-31T00:00:00",
          "2000-02-28T00:00:00",
          "2000-03-31T00:00:00",
          "2000-04-30T00:00:00",
          "2000-05-31T00:00:00",
          "2000-06-30T00:00:00",
          "2000-07-31T00:00:00",
          "2000-08-31T00:00:00",
          "2000-09-30T00:00:00",
          "2000-10-31T00:00:00",
          "2000-11-30T00:00:00",
          "2000-12-31T00:00:00"
         ],
         "y": [
          0.11161290322580646,
          1.9076923076923078,
          107.2525,
          190.05499999999998,
          341.4548387096774,
          396.66133333333335,
          346.3438709677419,
          222.33806451612904,
          96.29866666666666,
          19.191290322580645,
          0.3473333333333333,
          0.027419354838709678
         ]
        },
        {
         "legendgroup": "custom",
         "line": {
          "color": "rgba(78, 78, 78, 1)",
          "width": 1
         },
         "mode": "lines",
         "name": "2012",
         "showlegend": false,
         "type": "scatter",
         "x": [
          "2000-01-31T00:00:00",
          "2000-02-29T00:00:00",
          "2000-03-31T00:00:00",
          "2000-04-30T00:00:00",
          "2000-05-31T00:00:00",
          "2000-06-30T00:00:00",
          "2000-07-31T00:00:00",
          "2000-08-31T00:00:00",
          "2000-09-30T00:00:00",
          "2000-10-31T00:00:00",
          "2000-11-30T00:00:00",
          "2000-12-31T00:00:00"
         ],
         "y": [
          0.08193548387096775,
          0.8450000000000001,
          127.7425,
          194.50466666666668,
          326.22322580645164,
          363.2126666666667,
          322.96258064516127,
          214.28774193548387,
          96.511,
          20.886129032258065,
          0.3456666666666667,
          0.055161290322580644
         ]
        },
        {
         "legendgroup": "custom",
         "line": {
          "color": "rgba(88, 88, 88, 1)",
          "width": 1
         },
         "mode": "lines",
         "name": "2011",
         "showlegend": false,
         "type": "scatter",
         "x": [
          "2000-06-30T00:00:00",
          "2000-07-31T00:00:00",
          "2000-08-31T00:00:00",
          "2000-09-30T00:00:00",
          "2000-10-31T00:00:00",
          "2000-11-30T00:00:00",
          "2000-12-31T00:00:00"
         ],
         "y": [
          394.89433333333335,
          337.8106451612903,
          225.63935483870966,
          96.28633333333333,
          14.90741935483871,
          0.5116666666666666,
          0.09064516129032259
         ]
        },
        {
         "legendgroup": "custom",
         "line": {
          "color": "rgba(98, 98, 98, 1)",
          "width": 1
         },
         "mode": "lines",
         "name": "2010",
         "showlegend": false,
         "type": "scatter",
         "x": [
          "2000-03-31T00:00:00",
          "2000-04-30T00:00:00",
          "2000-05-31T00:00:00",
          "2000-06-30T00:00:00",
          "2000-07-31T00:00:00",
          "2000-08-31T00:00:00",
          "2000-09-30T00:00:00",
          "2000-10-31T00:00:00"
         ],
         "y": [
          116.96111111111112,
          200.36966666666666,
          317.17451612903227,
          373.085,
          345.13516129032257,
          204.08451612903227,
          90.05533333333332,
          40.467
         ]
        },
        {
         "legendgroup": "custom",
         "line": {
          "color": "rgba(107, 107, 107, 1)",
          "width": 1
         },
         "mode": "lines",
         "name": "2009",
         "showlegend": false,
         "type": "scatter",
         "x": [
          "2000-04-30T00:00:00",
          "2000-05-31T00:00:00",
          "2000-06-30T00:00:00",
          "2000-07-31T00:00:00",
          "2000-08-31T00:00:00",
          "2000-09-30T00:00:00",
          "2000-10-31T00:00:00",
          "2000-11-30T00:00:00",
          "2000-12-31T00:00:00"
         ],
         "y": [
          210.65148148148148,
          339.0577419354838,
          387.99300000000005,
          359.1793548387097,
          236.70193548387098,
          98.401,
          23.144516129032258,
          0.392,
          0.0016666666666666668
         ]
        },
        {
         "legendgroup": "custom",
         "line": {
          "color": "rgba(117, 117, 117, 1)",
          "width": 1
         },
         "mode": "lines",
         "name": "2008",
         "showlegend": false,
         "type": "scatter",
         "x": [
          "2000-02-29T00:00:00",
          "2000-03-31T00:00:00",
          "2000-04-30T00:00:00",
          "2000-05-31T00:00:00",
          "2000-06-30T00:00:00",
          "2000-07-31T00:00:00",
          "2000-08-31T00:00:00",
          "2000-09-30T00:00:00",
          "2000-10-31T00:00:00",
          "2000-11-30T00:00:00",
          "2000-12-31T00:00:00"
         ],
         "y": [
          54.285714285714285,
          96.67935483870967,
          206.02833333333334,
          335.1355172413793,
          393.78066666666666,
          354.58967741935487,
          233.91967741935485,
          92.89933333333333,
          21.340967741935486,
          0.5189655172413793,
          0.0005263157894736842
         ]
        },
        {
         "legendgroup": "custom",
         "line": {
          "color": "rgba(127, 127, 127, 1)",
          "width": 1
         },
         "mode": "lines",
         "name": "2007",
         "showlegend": false,
         "type": "scatter",
         "x": [
          "2000-03-31T00:00:00",
          "2000-04-30T00:00:00",
          "2000-05-31T00:00:00",
          "2000-06-30T00:00:00",
          "2000-07-31T00:00:00",
          "2000-08-31T00:00:00",
          "2000-09-30T00:00:00",
          "2000-10-31T00:00:00",
          "2000-11-30T00:00:00",
          "2000-12-31T00:00:00"
         ],
         "y": [
          82.19521739130435,
          194.16433333333333,
          325.7122580645161,
          370.5726666666667,
          342.9022580645161,
          230.8083870967742,
          102.69200000000001,
          22.26290322580645,
          0.5317241379310345,
          0
         ]
        },
        {
         "legendgroup": "custom",
         "line": {
          "color": "rgba(137, 137, 137, 1)",
          "width": 1
         },
         "mode": "lines",
         "name": "2006",
         "showlegend": false,
         "type": "scatter",
         "x": [
          "2000-01-31T00:00:00",
          "2000-02-28T00:00:00",
          "2000-03-31T00:00:00",
          "2000-04-30T00:00:00",
          "2000-05-31T00:00:00",
          "2000-06-30T00:00:00",
          "2000-07-31T00:00:00",
          "2000-08-31T00:00:00",
          "2000-09-30T00:00:00",
          "2000-10-31T00:00:00",
          "2000-11-30T00:00:00",
          "2000-12-31T00:00:00"
         ],
         "y": [
          0.07677419354838709,
          7.248928571428571,
          79.40967741935484,
          195.15666666666667,
          322.2209677419355,
          374.2956666666667,
          345.508064516129,
          207.4774193548387,
          104.86733333333333,
          22.885161290322582,
          0.483,
          0.0007407407407407407
         ]
        },
        {
         "legendgroup": "custom",
         "line": {
          "color": "rgba(147, 147, 147, 1)",
          "width": 1
         },
         "mode": "lines",
         "name": "2005",
         "showlegend": false,
         "type": "scatter",
         "x": [
          "2000-01-31T00:00:00",
          "2000-02-28T00:00:00",
          "2000-03-31T00:00:00",
          "2000-04-30T00:00:00",
          "2000-05-31T00:00:00",
          "2000-06-30T00:00:00",
          "2000-07-31T00:00:00",
          "2000-08-31T00:00:00",
          "2000-09-30T00:00:00",
          "2000-10-31T00:00:00",
          "2000-11-30T00:00:00",
          "2000-12-31T00:00:00"
         ],
         "y": [
          0.07645161290322582,
          9.502857142857142,
          63.68354838709678,
          195.459,
          330.78806451612905,
          393.3653333333333,
          337.8283870967742,
          232.08645161290323,
          109.00933333333334,
          18.58677419354839,
          0.4703333333333333,
          0.000967741935483871
         ]
        },
        {
         "legendgroup": "custom",
         "line": {
          "color": "rgba(156, 156, 156, 1)",
          "width": 1
         },
         "mode": "lines",
         "name": "2004",
         "showlegend": false,
         "type": "scatter",
         "x": [
          "2000-01-31T00:00:00",
          "2000-02-29T00:00:00",
          "2000-03-31T00:00:00",
          "2000-04-30T00:00:00",
          "2000-05-31T00:00:00",
          "2000-06-30T00:00:00",
          "2000-07-31T00:00:00",
          "2000-08-31T00:00:00",
          "2000-09-30T00:00:00",
          "2000-10-31T00:00:00",
          "2000-11-30T00:00:00",
          "2000-12-31T00:00:00"
         ],
         "y": [
          0.04935483870967742,
          7.516206896551724,
          77.78321428571428,
          209.059,
          339.7845161290322,
          380.9323333333333,
          334.2435483870967,
          205.041935483871,
          109.691,
          19.52516129032258,
          0.4326666666666667,
          0.000967741935483871
         ]
        },
        {
         "legendgroup": "custom",
         "line": {
          "color": "rgba(166, 166, 166, 1)",
          "width": 1
         },
         "mode": "lines",
         "name": "2003",
         "showlegend": false,
         "type": "scatter",
         "x": [
          "2000-06-30T00:00:00",
          "2000-07-31T00:00:00",
          "2000-08-31T00:00:00",
          "2000-09-30T00:00:00",
          "2000-10-31T00:00:00",
          "2000-11-30T00:00:00",
          "2000-12-31T00:00:00"
         ],
         "y": [
          390.0439285714286,
          347.2648387096774,
          197.52612903225804,
          97.33099999999999,
          24.551935483870967,
          0.5353333333333333,
          0.0022580645161290325
         ]
        },
        {
         "legendgroup": "custom",
         "line": {
          "color": "rgba(176, 176, 176, 1)",
          "width": 1
         },
         "mode": "lines",
         "name": "2002",
         "showlegend": false,
         "type": "scatter",
         "x": [
          "2000-01-31T00:00:00",
          "2000-02-28T00:00:00"
         ],
         "y": [
          0.014000000000000002,
          5.91125
         ]
        },
        {
         "legendgroup": "custom",
         "line": {
          "color": "rgba(186, 186, 186, 1)",
          "width": 1
         },
         "mode": "lines",
         "name": "2001",
         "showlegend": false,
         "type": "scatter",
         "x": [
          "2000-01-31T00:00:00",
          "2000-02-28T00:00:00",
          "2000-03-31T00:00:00",
          "2000-04-30T00:00:00",
          "2000-05-31T00:00:00",
          "2000-06-30T00:00:00",
          "2000-07-31T00:00:00",
          "2000-08-31T00:00:00",
          "2000-09-30T00:00:00",
          "2000-10-31T00:00:00",
          "2000-11-30T00:00:00",
          "2000-12-31T00:00:00"
         ],
         "y": [
          0.011000000000000001,
          6.449999999999999,
          71.38903225806452,
          185.23413793103447,
          338.45038461538456,
          402.92,
          350.4796551724138,
          225.01387096774195,
          92.131,
          16.729032258064517,
          0.09133333333333334,
          0.008064516129032258
         ]
        },
        {
         "legendgroup": "custom",
         "line": {
          "color": "rgba(196, 196, 196, 1)",
          "width": 1
         },
         "mode": "lines",
         "name": "2000",
         "showlegend": false,
         "type": "scatter",
         "x": [
          "2000-01-31T00:00:00",
          "2000-02-29T00:00:00",
          "2000-03-31T00:00:00",
          "2000-04-30T00:00:00",
          "2000-05-31T00:00:00",
          "2000-06-30T00:00:00",
          "2000-07-31T00:00:00",
          "2000-08-31T00:00:00",
          "2000-09-30T00:00:00",
          "2000-10-31T00:00:00",
          "2000-11-30T00:00:00",
          "2000-12-31T00:00:00"
         ],
         "y": [
          0.014193548387096775,
          6.504444444444444,
          73.04666666666667,
          180.14333333333332,
          326.4683333333333,
          418.38,
          353.7655172413793,
          198.79074074074074,
          91.14137931034483,
          20.270967741935483,
          0.3026666666666667,
          0.0064516129032258064
         ]
        },
        {
         "legendgroup": "custom",
         "line": {
          "color": "rgba(205, 205, 205, 1)",
          "width": 1
         },
         "mode": "lines",
         "name": "1999",
         "showlegend": false,
         "type": "scatter",
         "x": [
          "2000-01-31T00:00:00",
          "2000-02-28T00:00:00",
          "2000-03-31T00:00:00",
          "2000-04-30T00:00:00",
          "2000-05-31T00:00:00",
          "2000-06-30T00:00:00",
          "2000-07-31T00:00:00",
          "2000-08-31T00:00:00",
          "2000-09-30T00:00:00",
          "2000-10-31T00:00:00",
          "2000-11-30T00:00:00",
          "2000-12-31T00:00:00"
         ],
         "y": [
          0.0803225806451613,
          8.781785714285714,
          74.92354838709677,
          192.97866666666667,
          351.33761904761906,
          381.54766666666666,
          357.9486666666666,
          215.29275862068965,
          109.33533333333334,
          23.399677419354838,
          0.311,
          0.004516129032258065
         ]
        },
        {
         "legendgroup": "custom",
         "line": {
          "color": "rgba(215, 215, 215, 1)",
          "width": 1
         },
         "mode": "lines",
         "name": "1998",
         "showlegend": false,
         "type": "scatter",
         "x": [
          "2000-01-31T00:00:00",
          "2000-02-28T00:00:00",
          "2000-03-31T00:00:00",
          "2000-04-30T00:00:00",
          "2000-05-31T00:00:00",
          "2000-06-30T00:00:00",
          "2000-07-31T00:00:00",
          "2000-08-31T00:00:00",
          "2000-09-30T00:00:00",
          "2000-10-31T00:00:00",
          "2000-11-30T00:00:00",
          "2000-12-31T00:00:00"
         ],
         "y": [
          0.05548387096774193,
          9.651785714285714,
          74.08451612903225,
          184.96933333333334,
          306.7896774193548,
          397.2683333333333,
          344.9664516129032,
          211.72225806451613,
          101.79466666666667,
          20.723870967741938,
          0.45899999999999996,
          0.01
         ]
        },
        {
         "legendgroup": "custom",
         "line": {
          "color": "rgba(225, 225, 225, 1)",
          "width": 1
         },
         "mode": "lines",
         "name": "1997",
         "showlegend": false,
         "type": "scatter",
         "x": [
          "2000-05-31T00:00:00",
          "2000-06-30T00:00:00",
          "2000-07-31T00:00:00",
          "2000-08-31T00:00:00",
          "2000-09-30T00:00:00",
          "2000-10-31T00:00:00",
          "2000-11-30T00:00:00",
          "2000-12-31T00:00:00"
         ],
         "y": [
          347.30583333333334,
          387.6503333333333,
          344.76,
          224.30903225806452,
          92.828,
          20.462903225806453,
          0.2826666666666667,
          0.0003225806451612903
         ]
        },
        {
         "legendgroup": "custom",
         "line": {
          "color": "rgba(235, 235, 235, 1)",
          "width": 1
         },
         "mode": "lines",
         "name": "1996",
         "showlegend": false,
         "type": "scatter",
         "x": [
          "2000-01-31T00:00:00",
          "2000-02-29T00:00:00",
          "2000-03-31T00:00:00",
          "2000-04-30T00:00:00",
          "2000-05-31T00:00:00",
          "2000-06-30T00:00:00",
          "2000-07-31T00:00:00"
         ],
         "y": [
          0.032903225806451615,
          6.943103448275862,
          63.57645161290323,
          186.70199999999997,
          328.5190322580645,
          383.58033333333333,
          345.7717857142857
         ]
        },
        {
         "legendgroup": "custom",
         "line": {
          "color": "rgba(245, 245, 245, 1)",
          "width": 1
         },
         "mode": "lines",
         "name": "1995",
         "showlegend": false,
         "type": "scatter",
         "x": [
          "2000-05-31T00:00:00",
          "2000-06-30T00:00:00",
          "2000-07-31T00:00:00",
          "2000-08-31T00:00:00",
          "2000-09-30T00:00:00",
          "2000-10-31T00:00:00",
          "2000-11-30T00:00:00",
          "2000-12-31T00:00:00"
         ],
         "y": [
          347.28,
          367.63266666666664,
          320.3009677419355,
          221.26451612903224,
          94.41499999999999,
          21.984193548387097,
          0.449,
          0
         ]
        },
        {
         "legendgroup": "custom",
         "line": {
          "color": "red",
          "width": 2.5
         },
         "mode": "lines",
         "name": "2014",
         "showlegend": false,
         "type": "scatter",
         "x": [
          "2000-01-31T00:00:00",
          "2000-03-31T00:00:00",
          "2000-04-30T00:00:00",
          "2000-05-31T00:00:00",
          "2000-06-30T00:00:00",
          "2000-07-31T00:00:00",
          "2000-08-31T00:00:00",
          "2000-09-30T00:00:00",
          "2000-10-31T00:00:00",
          "2000-11-30T00:00:00",
          "2000-12-31T00:00:00"
         ],
         "y": [
          0.024545454545454547,
          84.19260869565218,
          193.90433333333334,
          337.47161290322583,
          363.21433333333334,
          326.53000000000003,
          211.60903225806453,
          92.02233333333334,
          22.53806451612903,
          0.4776666666666667,
          0.0364516129032258
         ]
        },
        {
         "legendgroup": "custom",
         "line": {
          "color": "red"
         },
         "mode": "lines",
         "name": "2014",
         "type": "scatter",
         "x": [
          null
         ],
         "y": [
          null
         ]
        },
        {
         "legendgroup": "custom",
         "line": {
          "color": "black"
         },
         "mode": "lines",
         "name": "2022",
         "type": "scatter",
         "x": [
          null
         ],
         "y": [
          null
         ]
        },
        {
         "legendgroup": "custom",
         "line": {
          "color": "grey"
         },
         "mode": "lines",
         "name": "...",
         "type": "scatter",
         "x": [
          null
         ],
         "y": [
          null
         ]
        },
        {
         "legendgroup": "custom",
         "line": {
          "color": "lightgrey"
         },
         "mode": "lines",
         "name": "1995",
         "type": "scatter",
         "x": [
          null
         ],
         "y": [
          null
         ]
        }
       ],
       "layout": {
        "height": 400,
        "legend": {
         "orientation": "v",
         "title": {
          "text": "Legend"
         },
         "x": 1.06,
         "xanchor": "left",
         "y": 1,
         "yanchor": "top"
        },
        "template": {
         "data": {
          "bar": [
           {
            "error_x": {
             "color": "#2a3f5f"
            },
            "error_y": {
             "color": "#2a3f5f"
            },
            "marker": {
             "line": {
              "color": "#E5ECF6",
              "width": 0.5
             },
             "pattern": {
              "fillmode": "overlay",
              "size": 10,
              "solidity": 0.2
             }
            },
            "type": "bar"
           }
          ],
          "barpolar": [
           {
            "marker": {
             "line": {
              "color": "#E5ECF6",
              "width": 0.5
             },
             "pattern": {
              "fillmode": "overlay",
              "size": 10,
              "solidity": 0.2
             }
            },
            "type": "barpolar"
           }
          ],
          "carpet": [
           {
            "aaxis": {
             "endlinecolor": "#2a3f5f",
             "gridcolor": "white",
             "linecolor": "white",
             "minorgridcolor": "white",
             "startlinecolor": "#2a3f5f"
            },
            "baxis": {
             "endlinecolor": "#2a3f5f",
             "gridcolor": "white",
             "linecolor": "white",
             "minorgridcolor": "white",
             "startlinecolor": "#2a3f5f"
            },
            "type": "carpet"
           }
          ],
          "choropleth": [
           {
            "colorbar": {
             "outlinewidth": 0,
             "ticks": ""
            },
            "type": "choropleth"
           }
          ],
          "contour": [
           {
            "colorbar": {
             "outlinewidth": 0,
             "ticks": ""
            },
            "colorscale": [
             [
              0,
              "#0d0887"
             ],
             [
              0.1111111111111111,
              "#46039f"
             ],
             [
              0.2222222222222222,
              "#7201a8"
             ],
             [
              0.3333333333333333,
              "#9c179e"
             ],
             [
              0.4444444444444444,
              "#bd3786"
             ],
             [
              0.5555555555555556,
              "#d8576b"
             ],
             [
              0.6666666666666666,
              "#ed7953"
             ],
             [
              0.7777777777777778,
              "#fb9f3a"
             ],
             [
              0.8888888888888888,
              "#fdca26"
             ],
             [
              1,
              "#f0f921"
             ]
            ],
            "type": "contour"
           }
          ],
          "contourcarpet": [
           {
            "colorbar": {
             "outlinewidth": 0,
             "ticks": ""
            },
            "type": "contourcarpet"
           }
          ],
          "heatmap": [
           {
            "colorbar": {
             "outlinewidth": 0,
             "ticks": ""
            },
            "colorscale": [
             [
              0,
              "#0d0887"
             ],
             [
              0.1111111111111111,
              "#46039f"
             ],
             [
              0.2222222222222222,
              "#7201a8"
             ],
             [
              0.3333333333333333,
              "#9c179e"
             ],
             [
              0.4444444444444444,
              "#bd3786"
             ],
             [
              0.5555555555555556,
              "#d8576b"
             ],
             [
              0.6666666666666666,
              "#ed7953"
             ],
             [
              0.7777777777777778,
              "#fb9f3a"
             ],
             [
              0.8888888888888888,
              "#fdca26"
             ],
             [
              1,
              "#f0f921"
             ]
            ],
            "type": "heatmap"
           }
          ],
          "heatmapgl": [
           {
            "colorbar": {
             "outlinewidth": 0,
             "ticks": ""
            },
            "colorscale": [
             [
              0,
              "#0d0887"
             ],
             [
              0.1111111111111111,
              "#46039f"
             ],
             [
              0.2222222222222222,
              "#7201a8"
             ],
             [
              0.3333333333333333,
              "#9c179e"
             ],
             [
              0.4444444444444444,
              "#bd3786"
             ],
             [
              0.5555555555555556,
              "#d8576b"
             ],
             [
              0.6666666666666666,
              "#ed7953"
             ],
             [
              0.7777777777777778,
              "#fb9f3a"
             ],
             [
              0.8888888888888888,
              "#fdca26"
             ],
             [
              1,
              "#f0f921"
             ]
            ],
            "type": "heatmapgl"
           }
          ],
          "histogram": [
           {
            "marker": {
             "pattern": {
              "fillmode": "overlay",
              "size": 10,
              "solidity": 0.2
             }
            },
            "type": "histogram"
           }
          ],
          "histogram2d": [
           {
            "colorbar": {
             "outlinewidth": 0,
             "ticks": ""
            },
            "colorscale": [
             [
              0,
              "#0d0887"
             ],
             [
              0.1111111111111111,
              "#46039f"
             ],
             [
              0.2222222222222222,
              "#7201a8"
             ],
             [
              0.3333333333333333,
              "#9c179e"
             ],
             [
              0.4444444444444444,
              "#bd3786"
             ],
             [
              0.5555555555555556,
              "#d8576b"
             ],
             [
              0.6666666666666666,
              "#ed7953"
             ],
             [
              0.7777777777777778,
              "#fb9f3a"
             ],
             [
              0.8888888888888888,
              "#fdca26"
             ],
             [
              1,
              "#f0f921"
             ]
            ],
            "type": "histogram2d"
           }
          ],
          "histogram2dcontour": [
           {
            "colorbar": {
             "outlinewidth": 0,
             "ticks": ""
            },
            "colorscale": [
             [
              0,
              "#0d0887"
             ],
             [
              0.1111111111111111,
              "#46039f"
             ],
             [
              0.2222222222222222,
              "#7201a8"
             ],
             [
              0.3333333333333333,
              "#9c179e"
             ],
             [
              0.4444444444444444,
              "#bd3786"
             ],
             [
              0.5555555555555556,
              "#d8576b"
             ],
             [
              0.6666666666666666,
              "#ed7953"
             ],
             [
              0.7777777777777778,
              "#fb9f3a"
             ],
             [
              0.8888888888888888,
              "#fdca26"
             ],
             [
              1,
              "#f0f921"
             ]
            ],
            "type": "histogram2dcontour"
           }
          ],
          "mesh3d": [
           {
            "colorbar": {
             "outlinewidth": 0,
             "ticks": ""
            },
            "type": "mesh3d"
           }
          ],
          "parcoords": [
           {
            "line": {
             "colorbar": {
              "outlinewidth": 0,
              "ticks": ""
             }
            },
            "type": "parcoords"
           }
          ],
          "pie": [
           {
            "automargin": true,
            "type": "pie"
           }
          ],
          "scatter": [
           {
            "fillpattern": {
             "fillmode": "overlay",
             "size": 10,
             "solidity": 0.2
            },
            "type": "scatter"
           }
          ],
          "scatter3d": [
           {
            "line": {
             "colorbar": {
              "outlinewidth": 0,
              "ticks": ""
             }
            },
            "marker": {
             "colorbar": {
              "outlinewidth": 0,
              "ticks": ""
             }
            },
            "type": "scatter3d"
           }
          ],
          "scattercarpet": [
           {
            "marker": {
             "colorbar": {
              "outlinewidth": 0,
              "ticks": ""
             }
            },
            "type": "scattercarpet"
           }
          ],
          "scattergeo": [
           {
            "marker": {
             "colorbar": {
              "outlinewidth": 0,
              "ticks": ""
             }
            },
            "type": "scattergeo"
           }
          ],
          "scattergl": [
           {
            "marker": {
             "colorbar": {
              "outlinewidth": 0,
              "ticks": ""
             }
            },
            "type": "scattergl"
           }
          ],
          "scattermapbox": [
           {
            "marker": {
             "colorbar": {
              "outlinewidth": 0,
              "ticks": ""
             }
            },
            "type": "scattermapbox"
           }
          ],
          "scatterpolar": [
           {
            "marker": {
             "colorbar": {
              "outlinewidth": 0,
              "ticks": ""
             }
            },
            "type": "scatterpolar"
           }
          ],
          "scatterpolargl": [
           {
            "marker": {
             "colorbar": {
              "outlinewidth": 0,
              "ticks": ""
             }
            },
            "type": "scatterpolargl"
           }
          ],
          "scatterternary": [
           {
            "marker": {
             "colorbar": {
              "outlinewidth": 0,
              "ticks": ""
             }
            },
            "type": "scatterternary"
           }
          ],
          "surface": [
           {
            "colorbar": {
             "outlinewidth": 0,
             "ticks": ""
            },
            "colorscale": [
             [
              0,
              "#0d0887"
             ],
             [
              0.1111111111111111,
              "#46039f"
             ],
             [
              0.2222222222222222,
              "#7201a8"
             ],
             [
              0.3333333333333333,
              "#9c179e"
             ],
             [
              0.4444444444444444,
              "#bd3786"
             ],
             [
              0.5555555555555556,
              "#d8576b"
             ],
             [
              0.6666666666666666,
              "#ed7953"
             ],
             [
              0.7777777777777778,
              "#fb9f3a"
             ],
             [
              0.8888888888888888,
              "#fdca26"
             ],
             [
              1,
              "#f0f921"
             ]
            ],
            "type": "surface"
           }
          ],
          "table": [
           {
            "cells": {
             "fill": {
              "color": "#EBF0F8"
             },
             "line": {
              "color": "white"
             }
            },
            "header": {
             "fill": {
              "color": "#C8D4E3"
             },
             "line": {
              "color": "white"
             }
            },
            "type": "table"
           }
          ]
         },
         "layout": {
          "annotationdefaults": {
           "arrowcolor": "#2a3f5f",
           "arrowhead": 0,
           "arrowwidth": 1
          },
          "autotypenumbers": "strict",
          "coloraxis": {
           "colorbar": {
            "outlinewidth": 0,
            "ticks": ""
           }
          },
          "colorscale": {
           "diverging": [
            [
             0,
             "#8e0152"
            ],
            [
             0.1,
             "#c51b7d"
            ],
            [
             0.2,
             "#de77ae"
            ],
            [
             0.3,
             "#f1b6da"
            ],
            [
             0.4,
             "#fde0ef"
            ],
            [
             0.5,
             "#f7f7f7"
            ],
            [
             0.6,
             "#e6f5d0"
            ],
            [
             0.7,
             "#b8e186"
            ],
            [
             0.8,
             "#7fbc41"
            ],
            [
             0.9,
             "#4d9221"
            ],
            [
             1,
             "#276419"
            ]
           ],
           "sequential": [
            [
             0,
             "#0d0887"
            ],
            [
             0.1111111111111111,
             "#46039f"
            ],
            [
             0.2222222222222222,
             "#7201a8"
            ],
            [
             0.3333333333333333,
             "#9c179e"
            ],
            [
             0.4444444444444444,
             "#bd3786"
            ],
            [
             0.5555555555555556,
             "#d8576b"
            ],
            [
             0.6666666666666666,
             "#ed7953"
            ],
            [
             0.7777777777777778,
             "#fb9f3a"
            ],
            [
             0.8888888888888888,
             "#fdca26"
            ],
            [
             1,
             "#f0f921"
            ]
           ],
           "sequentialminus": [
            [
             0,
             "#0d0887"
            ],
            [
             0.1111111111111111,
             "#46039f"
            ],
            [
             0.2222222222222222,
             "#7201a8"
            ],
            [
             0.3333333333333333,
             "#9c179e"
            ],
            [
             0.4444444444444444,
             "#bd3786"
            ],
            [
             0.5555555555555556,
             "#d8576b"
            ],
            [
             0.6666666666666666,
             "#ed7953"
            ],
            [
             0.7777777777777778,
             "#fb9f3a"
            ],
            [
             0.8888888888888888,
             "#fdca26"
            ],
            [
             1,
             "#f0f921"
            ]
           ]
          },
          "colorway": [
           "#636efa",
           "#EF553B",
           "#00cc96",
           "#ab63fa",
           "#FFA15A",
           "#19d3f3",
           "#FF6692",
           "#B6E880",
           "#FF97FF",
           "#FECB52"
          ],
          "font": {
           "color": "#2a3f5f"
          },
          "geo": {
           "bgcolor": "white",
           "lakecolor": "white",
           "landcolor": "#E5ECF6",
           "showlakes": true,
           "showland": true,
           "subunitcolor": "white"
          },
          "hoverlabel": {
           "align": "left"
          },
          "hovermode": "closest",
          "mapbox": {
           "style": "light"
          },
          "paper_bgcolor": "white",
          "plot_bgcolor": "#E5ECF6",
          "polar": {
           "angularaxis": {
            "gridcolor": "white",
            "linecolor": "white",
            "ticks": ""
           },
           "bgcolor": "#E5ECF6",
           "radialaxis": {
            "gridcolor": "white",
            "linecolor": "white",
            "ticks": ""
           }
          },
          "scene": {
           "xaxis": {
            "backgroundcolor": "#E5ECF6",
            "gridcolor": "white",
            "gridwidth": 2,
            "linecolor": "white",
            "showbackground": true,
            "ticks": "",
            "zerolinecolor": "white"
           },
           "yaxis": {
            "backgroundcolor": "#E5ECF6",
            "gridcolor": "white",
            "gridwidth": 2,
            "linecolor": "white",
            "showbackground": true,
            "ticks": "",
            "zerolinecolor": "white"
           },
           "zaxis": {
            "backgroundcolor": "#E5ECF6",
            "gridcolor": "white",
            "gridwidth": 2,
            "linecolor": "white",
            "showbackground": true,
            "ticks": "",
            "zerolinecolor": "white"
           }
          },
          "shapedefaults": {
           "line": {
            "color": "#2a3f5f"
           }
          },
          "ternary": {
           "aaxis": {
            "gridcolor": "white",
            "linecolor": "white",
            "ticks": ""
           },
           "baxis": {
            "gridcolor": "white",
            "linecolor": "white",
            "ticks": ""
           },
           "bgcolor": "#E5ECF6",
           "caxis": {
            "gridcolor": "white",
            "linecolor": "white",
            "ticks": ""
           }
          },
          "title": {
           "x": 0.05
          },
          "xaxis": {
           "automargin": true,
           "gridcolor": "white",
           "linecolor": "white",
           "ticks": "",
           "title": {
            "standoff": 15
           },
           "zerolinecolor": "white",
           "zerolinewidth": 2
          },
          "yaxis": {
           "automargin": true,
           "gridcolor": "white",
           "linecolor": "white",
           "ticks": "",
           "title": {
            "standoff": 15
           },
           "zerolinecolor": "white",
           "zerolinewidth": 2
          }
         }
        },
        "title": {
         "font": {
          "size": 24
         },
         "text": "Development of shortwave_incoming_radiation by year for NASA-U"
        },
        "width": 1400,
        "xaxis": {
         "tickmode": "array",
         "ticktext": [
          "Jan",
          "Feb",
          "Mar",
          "Apr",
          "May",
          "Jun",
          "Jul",
          "Aug",
          "Sep",
          "Oct",
          "Nov",
          "Dec"
         ],
         "tickvals": [
          "2000-01-31T00:00:00",
          "2000-02-29T00:00:00",
          "2000-03-31T00:00:00",
          "2000-04-30T00:00:00",
          "2000-05-31T00:00:00",
          "2000-06-30T00:00:00",
          "2000-07-31T00:00:00",
          "2000-08-31T00:00:00",
          "2000-09-30T00:00:00",
          "2000-10-31T00:00:00",
          "2000-11-30T00:00:00",
          "2000-12-31T00:00:00"
         ],
         "title": {
          "text": "Month"
         }
        },
        "yaxis": {
         "title": {
          "text": "shortwave_incoming_radiation"
         }
        }
       }
      }
     },
     "metadata": {},
     "output_type": "display_data"
    }
   ],
   "source": [
    "columns_to_plot = [col for col in x.columns.values if col in df.columns.values]\n",
    "  \n",
    "    # Create a list of values from x to be highlighted\n",
    "    values_to_highlight = x[columns_to_plot].values.flatten().tolist()\n",
    "  \n",
    "    # Create a list of subplots\n",
    "    figs = []\n",
    "    # Loop through list of columns\n",
    "    for col, v in zip(columns_to_plot, values_to_highlight) : \n",
    "        # Create a subplot for each column \n",
    "        fig = px.box(df[col], orientation = \"v\",boxmode='group')\n",
    "        # Format the axes\n",
    "        fig.update_layout(title_text= f\"Boxplot for {col}\", xaxis_title='', yaxis_title='')\n",
    "        # Highlight the values from x\n",
    "        fig.add_scatter(x=[col], y=[v], name= f\"Selected Value \\n{col}\",\n",
    "    mode = 'markers',\n",
    "    marker_symbol = 'circle-dot',\n",
    "    marker_size = 8,\n",
    "    marker_color = 'red')\n",
    "        \n",
    "        # Add figure to list of subplots \n",
    "        figs.append(fig)\n",
    "    \n",
    "    # Output\n",
    "    for fig in figs:\n",
    "        fig.show()\n",
    "    save_folder = '../figures/Test_markdown_fig'\n",
    "    for i, fig in enumerate(figs):\n",
    "        fig.write_image(os.path.join(save_folder,f'box_plot_{date}_{measurement}_{station}.png'.format(date=date, measurement=measurement, station=aws)), engine='orca')\n",
    "        fig.write_image(os.path.join(save_folder,f'fig1.png'), engine='orca')\n",
    "    return x"
   ]
  },
  {
   "cell_type": "code",
   "execution_count": 228,
   "metadata": {},
   "outputs": [],
   "source": [
    "display()"
   ]
  },
  {
   "cell_type": "markdown",
   "metadata": {},
   "source": [
    "***Test Suite***"
   ]
  },
  {
   "cell_type": "code",
   "execution_count": 396,
   "metadata": {},
   "outputs": [],
   "source": [
    "# Excluding NAN's for the calculation\n",
    "col_list =  x.iloc[:,2].dropna().values.tolist()\n",
    "\n",
    "x['Percentile'] = x.apply(lambda row : stats.percentileofscore(col_list, row[2], kind = \"mean\"), axis=1)\n"
   ]
  },
  {
   "cell_type": "markdown",
   "metadata": {},
   "source": []
  },
  {
   "cell_type": "code",
   "execution_count": 397,
   "metadata": {},
   "outputs": [
    {
     "data": {
      "text/html": [
       "<div>\n",
       "<style scoped>\n",
       "    .dataframe tbody tr th:only-of-type {\n",
       "        vertical-align: middle;\n",
       "    }\n",
       "\n",
       "    .dataframe tbody tr th {\n",
       "        vertical-align: top;\n",
       "    }\n",
       "\n",
       "    .dataframe thead th {\n",
       "        text-align: right;\n",
       "    }\n",
       "</style>\n",
       "<table border=\"1\" class=\"dataframe\">\n",
       "  <thead>\n",
       "    <tr style=\"text-align: right;\">\n",
       "      <th></th>\n",
       "      <th>file</th>\n",
       "      <th>relative_humidity_1</th>\n",
       "      <th>year</th>\n",
       "      <th>Percentile</th>\n",
       "    </tr>\n",
       "  </thead>\n",
       "  <tbody>\n",
       "    <tr>\n",
       "      <th>0</th>\n",
       "      <td>Swiss Camp 10m</td>\n",
       "      <td>NaN</td>\n",
       "      <td>1991</td>\n",
       "      <td>1.724138</td>\n",
       "    </tr>\n",
       "    <tr>\n",
       "      <th>1</th>\n",
       "      <td>Swiss Camp 10m</td>\n",
       "      <td>NaN</td>\n",
       "      <td>1992</td>\n",
       "      <td>5.172414</td>\n",
       "    </tr>\n",
       "    <tr>\n",
       "      <th>2</th>\n",
       "      <td>Swiss Camp 10m</td>\n",
       "      <td>NaN</td>\n",
       "      <td>1993</td>\n",
       "      <td>8.620690</td>\n",
       "    </tr>\n",
       "    <tr>\n",
       "      <th>3</th>\n",
       "      <td>Swiss Camp 10m</td>\n",
       "      <td>NaN</td>\n",
       "      <td>1994</td>\n",
       "      <td>12.068966</td>\n",
       "    </tr>\n",
       "    <tr>\n",
       "      <th>4</th>\n",
       "      <td>Swiss Camp 10m</td>\n",
       "      <td>NaN</td>\n",
       "      <td>1995</td>\n",
       "      <td>15.517241</td>\n",
       "    </tr>\n",
       "    <tr>\n",
       "      <th>5</th>\n",
       "      <td>Swiss Camp 10m</td>\n",
       "      <td>NaN</td>\n",
       "      <td>1996</td>\n",
       "      <td>18.965517</td>\n",
       "    </tr>\n",
       "    <tr>\n",
       "      <th>6</th>\n",
       "      <td>Swiss Camp 10m</td>\n",
       "      <td>NaN</td>\n",
       "      <td>1997</td>\n",
       "      <td>22.413793</td>\n",
       "    </tr>\n",
       "    <tr>\n",
       "      <th>7</th>\n",
       "      <td>Swiss Camp 10m</td>\n",
       "      <td>NaN</td>\n",
       "      <td>1998</td>\n",
       "      <td>25.862069</td>\n",
       "    </tr>\n",
       "    <tr>\n",
       "      <th>8</th>\n",
       "      <td>Swiss Camp 10m</td>\n",
       "      <td>66.55</td>\n",
       "      <td>1999</td>\n",
       "      <td>29.310345</td>\n",
       "    </tr>\n",
       "    <tr>\n",
       "      <th>9</th>\n",
       "      <td>Swiss Camp 10m</td>\n",
       "      <td>89.52</td>\n",
       "      <td>2000</td>\n",
       "      <td>32.758621</td>\n",
       "    </tr>\n",
       "    <tr>\n",
       "      <th>10</th>\n",
       "      <td>Swiss Camp 10m</td>\n",
       "      <td>76.50</td>\n",
       "      <td>2001</td>\n",
       "      <td>36.206897</td>\n",
       "    </tr>\n",
       "    <tr>\n",
       "      <th>11</th>\n",
       "      <td>Swiss Camp 10m</td>\n",
       "      <td>NaN</td>\n",
       "      <td>2002</td>\n",
       "      <td>39.655172</td>\n",
       "    </tr>\n",
       "    <tr>\n",
       "      <th>12</th>\n",
       "      <td>Swiss Camp 10m</td>\n",
       "      <td>68.68</td>\n",
       "      <td>2003</td>\n",
       "      <td>43.103448</td>\n",
       "    </tr>\n",
       "    <tr>\n",
       "      <th>13</th>\n",
       "      <td>Swiss Camp 10m</td>\n",
       "      <td>69.67</td>\n",
       "      <td>2004</td>\n",
       "      <td>46.551724</td>\n",
       "    </tr>\n",
       "    <tr>\n",
       "      <th>14</th>\n",
       "      <td>Swiss Camp 10m</td>\n",
       "      <td>68.69</td>\n",
       "      <td>2005</td>\n",
       "      <td>50.000000</td>\n",
       "    </tr>\n",
       "    <tr>\n",
       "      <th>15</th>\n",
       "      <td>Swiss Camp 10m</td>\n",
       "      <td>NaN</td>\n",
       "      <td>2006</td>\n",
       "      <td>53.448276</td>\n",
       "    </tr>\n",
       "    <tr>\n",
       "      <th>16</th>\n",
       "      <td>Swiss Camp 10m</td>\n",
       "      <td>NaN</td>\n",
       "      <td>2007</td>\n",
       "      <td>56.896552</td>\n",
       "    </tr>\n",
       "    <tr>\n",
       "      <th>17</th>\n",
       "      <td>Swiss Camp 10m</td>\n",
       "      <td>69.44</td>\n",
       "      <td>2008</td>\n",
       "      <td>60.344828</td>\n",
       "    </tr>\n",
       "    <tr>\n",
       "      <th>18</th>\n",
       "      <td>Swiss Camp 10m</td>\n",
       "      <td>77.37</td>\n",
       "      <td>2009</td>\n",
       "      <td>63.793103</td>\n",
       "    </tr>\n",
       "    <tr>\n",
       "      <th>19</th>\n",
       "      <td>Swiss Camp 10m</td>\n",
       "      <td>86.10</td>\n",
       "      <td>2010</td>\n",
       "      <td>67.241379</td>\n",
       "    </tr>\n",
       "    <tr>\n",
       "      <th>20</th>\n",
       "      <td>Swiss Camp 10m</td>\n",
       "      <td>77.92</td>\n",
       "      <td>2011</td>\n",
       "      <td>70.689655</td>\n",
       "    </tr>\n",
       "    <tr>\n",
       "      <th>21</th>\n",
       "      <td>Swiss Camp 10m</td>\n",
       "      <td>90.89</td>\n",
       "      <td>2012</td>\n",
       "      <td>74.137931</td>\n",
       "    </tr>\n",
       "    <tr>\n",
       "      <th>22</th>\n",
       "      <td>Swiss Camp 10m</td>\n",
       "      <td>NaN</td>\n",
       "      <td>2013</td>\n",
       "      <td>77.586207</td>\n",
       "    </tr>\n",
       "    <tr>\n",
       "      <th>23</th>\n",
       "      <td>Swiss Camp 10m</td>\n",
       "      <td>NaN</td>\n",
       "      <td>2014</td>\n",
       "      <td>81.034483</td>\n",
       "    </tr>\n",
       "    <tr>\n",
       "      <th>24</th>\n",
       "      <td>Swiss Camp 10m</td>\n",
       "      <td>67.43</td>\n",
       "      <td>2015</td>\n",
       "      <td>84.482759</td>\n",
       "    </tr>\n",
       "    <tr>\n",
       "      <th>25</th>\n",
       "      <td>Swiss Camp 10m</td>\n",
       "      <td>NaN</td>\n",
       "      <td>2016</td>\n",
       "      <td>87.931034</td>\n",
       "    </tr>\n",
       "    <tr>\n",
       "      <th>26</th>\n",
       "      <td>Swiss Camp 10m</td>\n",
       "      <td>83.63</td>\n",
       "      <td>2017</td>\n",
       "      <td>91.379310</td>\n",
       "    </tr>\n",
       "    <tr>\n",
       "      <th>27</th>\n",
       "      <td>Swiss Camp 10m</td>\n",
       "      <td>78.20</td>\n",
       "      <td>2018</td>\n",
       "      <td>94.827586</td>\n",
       "    </tr>\n",
       "    <tr>\n",
       "      <th>28</th>\n",
       "      <td>Swiss Camp 10m</td>\n",
       "      <td>63.13</td>\n",
       "      <td>2019</td>\n",
       "      <td>98.275862</td>\n",
       "    </tr>\n",
       "  </tbody>\n",
       "</table>\n",
       "</div>"
      ],
      "text/plain": [
       "              file  relative_humidity_1  year  Percentile\n",
       "0   Swiss Camp 10m                  NaN  1991    1.724138\n",
       "1   Swiss Camp 10m                  NaN  1992    5.172414\n",
       "2   Swiss Camp 10m                  NaN  1993    8.620690\n",
       "3   Swiss Camp 10m                  NaN  1994   12.068966\n",
       "4   Swiss Camp 10m                  NaN  1995   15.517241\n",
       "5   Swiss Camp 10m                  NaN  1996   18.965517\n",
       "6   Swiss Camp 10m                  NaN  1997   22.413793\n",
       "7   Swiss Camp 10m                  NaN  1998   25.862069\n",
       "8   Swiss Camp 10m                66.55  1999   29.310345\n",
       "9   Swiss Camp 10m                89.52  2000   32.758621\n",
       "10  Swiss Camp 10m                76.50  2001   36.206897\n",
       "11  Swiss Camp 10m                  NaN  2002   39.655172\n",
       "12  Swiss Camp 10m                68.68  2003   43.103448\n",
       "13  Swiss Camp 10m                69.67  2004   46.551724\n",
       "14  Swiss Camp 10m                68.69  2005   50.000000\n",
       "15  Swiss Camp 10m                  NaN  2006   53.448276\n",
       "16  Swiss Camp 10m                  NaN  2007   56.896552\n",
       "17  Swiss Camp 10m                69.44  2008   60.344828\n",
       "18  Swiss Camp 10m                77.37  2009   63.793103\n",
       "19  Swiss Camp 10m                86.10  2010   67.241379\n",
       "20  Swiss Camp 10m                77.92  2011   70.689655\n",
       "21  Swiss Camp 10m                90.89  2012   74.137931\n",
       "22  Swiss Camp 10m                  NaN  2013   77.586207\n",
       "23  Swiss Camp 10m                  NaN  2014   81.034483\n",
       "24  Swiss Camp 10m                67.43  2015   84.482759\n",
       "25  Swiss Camp 10m                  NaN  2016   87.931034\n",
       "26  Swiss Camp 10m                83.63  2017   91.379310\n",
       "27  Swiss Camp 10m                78.20  2018   94.827586\n",
       "28  Swiss Camp 10m                63.13  2019   98.275862"
      ]
     },
     "execution_count": 397,
     "metadata": {},
     "output_type": "execute_result"
    }
   ],
   "source": [
    "x"
   ]
  },
  {
   "cell_type": "code",
   "execution_count": 398,
   "metadata": {},
   "outputs": [
    {
     "data": {
      "application/vnd.plotly.v1+json": {
       "config": {
        "plotlyServerURL": "https://plot.ly"
       },
       "data": [
        {
         "type": "scatter",
         "x": [
          1991,
          1992,
          1993,
          1994,
          1995,
          1996,
          1997,
          1998,
          1999,
          2000,
          2001,
          2002,
          2003,
          2004,
          2005,
          2006,
          2007,
          2008,
          2009,
          2010,
          2011,
          2012,
          2013,
          2014,
          2015,
          2016,
          2017,
          2018,
          2019
         ],
         "y": [
          null,
          null,
          null,
          null,
          null,
          null,
          null,
          null,
          66.55,
          89.52,
          76.5,
          null,
          68.68,
          69.67,
          68.69,
          null,
          null,
          69.44,
          77.37,
          86.1,
          77.92,
          90.89,
          null,
          null,
          67.43,
          null,
          83.63,
          78.2,
          63.13
         ]
        }
       ],
       "layout": {
        "template": {
         "data": {
          "bar": [
           {
            "error_x": {
             "color": "#2a3f5f"
            },
            "error_y": {
             "color": "#2a3f5f"
            },
            "marker": {
             "line": {
              "color": "#E5ECF6",
              "width": 0.5
             },
             "pattern": {
              "fillmode": "overlay",
              "size": 10,
              "solidity": 0.2
             }
            },
            "type": "bar"
           }
          ],
          "barpolar": [
           {
            "marker": {
             "line": {
              "color": "#E5ECF6",
              "width": 0.5
             },
             "pattern": {
              "fillmode": "overlay",
              "size": 10,
              "solidity": 0.2
             }
            },
            "type": "barpolar"
           }
          ],
          "carpet": [
           {
            "aaxis": {
             "endlinecolor": "#2a3f5f",
             "gridcolor": "white",
             "linecolor": "white",
             "minorgridcolor": "white",
             "startlinecolor": "#2a3f5f"
            },
            "baxis": {
             "endlinecolor": "#2a3f5f",
             "gridcolor": "white",
             "linecolor": "white",
             "minorgridcolor": "white",
             "startlinecolor": "#2a3f5f"
            },
            "type": "carpet"
           }
          ],
          "choropleth": [
           {
            "colorbar": {
             "outlinewidth": 0,
             "ticks": ""
            },
            "type": "choropleth"
           }
          ],
          "contour": [
           {
            "colorbar": {
             "outlinewidth": 0,
             "ticks": ""
            },
            "colorscale": [
             [
              0,
              "#0d0887"
             ],
             [
              0.1111111111111111,
              "#46039f"
             ],
             [
              0.2222222222222222,
              "#7201a8"
             ],
             [
              0.3333333333333333,
              "#9c179e"
             ],
             [
              0.4444444444444444,
              "#bd3786"
             ],
             [
              0.5555555555555556,
              "#d8576b"
             ],
             [
              0.6666666666666666,
              "#ed7953"
             ],
             [
              0.7777777777777778,
              "#fb9f3a"
             ],
             [
              0.8888888888888888,
              "#fdca26"
             ],
             [
              1,
              "#f0f921"
             ]
            ],
            "type": "contour"
           }
          ],
          "contourcarpet": [
           {
            "colorbar": {
             "outlinewidth": 0,
             "ticks": ""
            },
            "type": "contourcarpet"
           }
          ],
          "heatmap": [
           {
            "colorbar": {
             "outlinewidth": 0,
             "ticks": ""
            },
            "colorscale": [
             [
              0,
              "#0d0887"
             ],
             [
              0.1111111111111111,
              "#46039f"
             ],
             [
              0.2222222222222222,
              "#7201a8"
             ],
             [
              0.3333333333333333,
              "#9c179e"
             ],
             [
              0.4444444444444444,
              "#bd3786"
             ],
             [
              0.5555555555555556,
              "#d8576b"
             ],
             [
              0.6666666666666666,
              "#ed7953"
             ],
             [
              0.7777777777777778,
              "#fb9f3a"
             ],
             [
              0.8888888888888888,
              "#fdca26"
             ],
             [
              1,
              "#f0f921"
             ]
            ],
            "type": "heatmap"
           }
          ],
          "heatmapgl": [
           {
            "colorbar": {
             "outlinewidth": 0,
             "ticks": ""
            },
            "colorscale": [
             [
              0,
              "#0d0887"
             ],
             [
              0.1111111111111111,
              "#46039f"
             ],
             [
              0.2222222222222222,
              "#7201a8"
             ],
             [
              0.3333333333333333,
              "#9c179e"
             ],
             [
              0.4444444444444444,
              "#bd3786"
             ],
             [
              0.5555555555555556,
              "#d8576b"
             ],
             [
              0.6666666666666666,
              "#ed7953"
             ],
             [
              0.7777777777777778,
              "#fb9f3a"
             ],
             [
              0.8888888888888888,
              "#fdca26"
             ],
             [
              1,
              "#f0f921"
             ]
            ],
            "type": "heatmapgl"
           }
          ],
          "histogram": [
           {
            "marker": {
             "pattern": {
              "fillmode": "overlay",
              "size": 10,
              "solidity": 0.2
             }
            },
            "type": "histogram"
           }
          ],
          "histogram2d": [
           {
            "colorbar": {
             "outlinewidth": 0,
             "ticks": ""
            },
            "colorscale": [
             [
              0,
              "#0d0887"
             ],
             [
              0.1111111111111111,
              "#46039f"
             ],
             [
              0.2222222222222222,
              "#7201a8"
             ],
             [
              0.3333333333333333,
              "#9c179e"
             ],
             [
              0.4444444444444444,
              "#bd3786"
             ],
             [
              0.5555555555555556,
              "#d8576b"
             ],
             [
              0.6666666666666666,
              "#ed7953"
             ],
             [
              0.7777777777777778,
              "#fb9f3a"
             ],
             [
              0.8888888888888888,
              "#fdca26"
             ],
             [
              1,
              "#f0f921"
             ]
            ],
            "type": "histogram2d"
           }
          ],
          "histogram2dcontour": [
           {
            "colorbar": {
             "outlinewidth": 0,
             "ticks": ""
            },
            "colorscale": [
             [
              0,
              "#0d0887"
             ],
             [
              0.1111111111111111,
              "#46039f"
             ],
             [
              0.2222222222222222,
              "#7201a8"
             ],
             [
              0.3333333333333333,
              "#9c179e"
             ],
             [
              0.4444444444444444,
              "#bd3786"
             ],
             [
              0.5555555555555556,
              "#d8576b"
             ],
             [
              0.6666666666666666,
              "#ed7953"
             ],
             [
              0.7777777777777778,
              "#fb9f3a"
             ],
             [
              0.8888888888888888,
              "#fdca26"
             ],
             [
              1,
              "#f0f921"
             ]
            ],
            "type": "histogram2dcontour"
           }
          ],
          "mesh3d": [
           {
            "colorbar": {
             "outlinewidth": 0,
             "ticks": ""
            },
            "type": "mesh3d"
           }
          ],
          "parcoords": [
           {
            "line": {
             "colorbar": {
              "outlinewidth": 0,
              "ticks": ""
             }
            },
            "type": "parcoords"
           }
          ],
          "pie": [
           {
            "automargin": true,
            "type": "pie"
           }
          ],
          "scatter": [
           {
            "fillpattern": {
             "fillmode": "overlay",
             "size": 10,
             "solidity": 0.2
            },
            "type": "scatter"
           }
          ],
          "scatter3d": [
           {
            "line": {
             "colorbar": {
              "outlinewidth": 0,
              "ticks": ""
             }
            },
            "marker": {
             "colorbar": {
              "outlinewidth": 0,
              "ticks": ""
             }
            },
            "type": "scatter3d"
           }
          ],
          "scattercarpet": [
           {
            "marker": {
             "colorbar": {
              "outlinewidth": 0,
              "ticks": ""
             }
            },
            "type": "scattercarpet"
           }
          ],
          "scattergeo": [
           {
            "marker": {
             "colorbar": {
              "outlinewidth": 0,
              "ticks": ""
             }
            },
            "type": "scattergeo"
           }
          ],
          "scattergl": [
           {
            "marker": {
             "colorbar": {
              "outlinewidth": 0,
              "ticks": ""
             }
            },
            "type": "scattergl"
           }
          ],
          "scattermapbox": [
           {
            "marker": {
             "colorbar": {
              "outlinewidth": 0,
              "ticks": ""
             }
            },
            "type": "scattermapbox"
           }
          ],
          "scatterpolar": [
           {
            "marker": {
             "colorbar": {
              "outlinewidth": 0,
              "ticks": ""
             }
            },
            "type": "scatterpolar"
           }
          ],
          "scatterpolargl": [
           {
            "marker": {
             "colorbar": {
              "outlinewidth": 0,
              "ticks": ""
             }
            },
            "type": "scatterpolargl"
           }
          ],
          "scatterternary": [
           {
            "marker": {
             "colorbar": {
              "outlinewidth": 0,
              "ticks": ""
             }
            },
            "type": "scatterternary"
           }
          ],
          "surface": [
           {
            "colorbar": {
             "outlinewidth": 0,
             "ticks": ""
            },
            "colorscale": [
             [
              0,
              "#0d0887"
             ],
             [
              0.1111111111111111,
              "#46039f"
             ],
             [
              0.2222222222222222,
              "#7201a8"
             ],
             [
              0.3333333333333333,
              "#9c179e"
             ],
             [
              0.4444444444444444,
              "#bd3786"
             ],
             [
              0.5555555555555556,
              "#d8576b"
             ],
             [
              0.6666666666666666,
              "#ed7953"
             ],
             [
              0.7777777777777778,
              "#fb9f3a"
             ],
             [
              0.8888888888888888,
              "#fdca26"
             ],
             [
              1,
              "#f0f921"
             ]
            ],
            "type": "surface"
           }
          ],
          "table": [
           {
            "cells": {
             "fill": {
              "color": "#EBF0F8"
             },
             "line": {
              "color": "white"
             }
            },
            "header": {
             "fill": {
              "color": "#C8D4E3"
             },
             "line": {
              "color": "white"
             }
            },
            "type": "table"
           }
          ]
         },
         "layout": {
          "annotationdefaults": {
           "arrowcolor": "#2a3f5f",
           "arrowhead": 0,
           "arrowwidth": 1
          },
          "autotypenumbers": "strict",
          "coloraxis": {
           "colorbar": {
            "outlinewidth": 0,
            "ticks": ""
           }
          },
          "colorscale": {
           "diverging": [
            [
             0,
             "#8e0152"
            ],
            [
             0.1,
             "#c51b7d"
            ],
            [
             0.2,
             "#de77ae"
            ],
            [
             0.3,
             "#f1b6da"
            ],
            [
             0.4,
             "#fde0ef"
            ],
            [
             0.5,
             "#f7f7f7"
            ],
            [
             0.6,
             "#e6f5d0"
            ],
            [
             0.7,
             "#b8e186"
            ],
            [
             0.8,
             "#7fbc41"
            ],
            [
             0.9,
             "#4d9221"
            ],
            [
             1,
             "#276419"
            ]
           ],
           "sequential": [
            [
             0,
             "#0d0887"
            ],
            [
             0.1111111111111111,
             "#46039f"
            ],
            [
             0.2222222222222222,
             "#7201a8"
            ],
            [
             0.3333333333333333,
             "#9c179e"
            ],
            [
             0.4444444444444444,
             "#bd3786"
            ],
            [
             0.5555555555555556,
             "#d8576b"
            ],
            [
             0.6666666666666666,
             "#ed7953"
            ],
            [
             0.7777777777777778,
             "#fb9f3a"
            ],
            [
             0.8888888888888888,
             "#fdca26"
            ],
            [
             1,
             "#f0f921"
            ]
           ],
           "sequentialminus": [
            [
             0,
             "#0d0887"
            ],
            [
             0.1111111111111111,
             "#46039f"
            ],
            [
             0.2222222222222222,
             "#7201a8"
            ],
            [
             0.3333333333333333,
             "#9c179e"
            ],
            [
             0.4444444444444444,
             "#bd3786"
            ],
            [
             0.5555555555555556,
             "#d8576b"
            ],
            [
             0.6666666666666666,
             "#ed7953"
            ],
            [
             0.7777777777777778,
             "#fb9f3a"
            ],
            [
             0.8888888888888888,
             "#fdca26"
            ],
            [
             1,
             "#f0f921"
            ]
           ]
          },
          "colorway": [
           "#636efa",
           "#EF553B",
           "#00cc96",
           "#ab63fa",
           "#FFA15A",
           "#19d3f3",
           "#FF6692",
           "#B6E880",
           "#FF97FF",
           "#FECB52"
          ],
          "font": {
           "color": "#2a3f5f"
          },
          "geo": {
           "bgcolor": "white",
           "lakecolor": "white",
           "landcolor": "#E5ECF6",
           "showlakes": true,
           "showland": true,
           "subunitcolor": "white"
          },
          "hoverlabel": {
           "align": "left"
          },
          "hovermode": "closest",
          "mapbox": {
           "style": "light"
          },
          "paper_bgcolor": "white",
          "plot_bgcolor": "#E5ECF6",
          "polar": {
           "angularaxis": {
            "gridcolor": "white",
            "linecolor": "white",
            "ticks": ""
           },
           "bgcolor": "#E5ECF6",
           "radialaxis": {
            "gridcolor": "white",
            "linecolor": "white",
            "ticks": ""
           }
          },
          "scene": {
           "xaxis": {
            "backgroundcolor": "#E5ECF6",
            "gridcolor": "white",
            "gridwidth": 2,
            "linecolor": "white",
            "showbackground": true,
            "ticks": "",
            "zerolinecolor": "white"
           },
           "yaxis": {
            "backgroundcolor": "#E5ECF6",
            "gridcolor": "white",
            "gridwidth": 2,
            "linecolor": "white",
            "showbackground": true,
            "ticks": "",
            "zerolinecolor": "white"
           },
           "zaxis": {
            "backgroundcolor": "#E5ECF6",
            "gridcolor": "white",
            "gridwidth": 2,
            "linecolor": "white",
            "showbackground": true,
            "ticks": "",
            "zerolinecolor": "white"
           }
          },
          "shapedefaults": {
           "line": {
            "color": "#2a3f5f"
           }
          },
          "ternary": {
           "aaxis": {
            "gridcolor": "white",
            "linecolor": "white",
            "ticks": ""
           },
           "baxis": {
            "gridcolor": "white",
            "linecolor": "white",
            "ticks": ""
           },
           "bgcolor": "#E5ECF6",
           "caxis": {
            "gridcolor": "white",
            "linecolor": "white",
            "ticks": ""
           }
          },
          "title": {
           "x": 0.05
          },
          "xaxis": {
           "automargin": true,
           "gridcolor": "white",
           "linecolor": "white",
           "ticks": "",
           "title": {
            "standoff": 15
           },
           "zerolinecolor": "white",
           "zerolinewidth": 2
          },
          "yaxis": {
           "automargin": true,
           "gridcolor": "white",
           "linecolor": "white",
           "ticks": "",
           "title": {
            "standoff": 15
           },
           "zerolinecolor": "white",
           "zerolinewidth": 2
          }
         }
        }
       }
      }
     },
     "metadata": {},
     "output_type": "display_data"
    }
   ],
   "source": [
    "# Using plotly.express\n",
    "import plotly.express as px\n",
    "\n",
    "#fig = px.line(x, x='Datetime', y=\"relative_humidity_1\")\n",
    "#fig.show()\n",
    "fig = go.Figure([go.Scatter(x=x['year'], y=x['relative_humidity_1'])])\n",
    "fig.show()"
   ]
  },
  {
   "cell_type": "code",
   "execution_count": 406,
   "metadata": {
    "id": "n94UQB81BF07"
   },
   "outputs": [],
   "source": [
    "def report(data, date, station, variable, scope):\n",
    "    \"\"\"\n",
    "    Function to return the percentile of specified values given a selected date.\n",
    "    \n",
    "    Parameters:\n",
    "    df (pd.DataFrame): The dataframe to be used.\n",
    "    date (str): The date of the observations for which the percentile is calculated.\n",
    "    \n",
    "    Returns:\n",
    "    df (pd.DataFrame): A dataframe with all numerical columns and the percentiles of the values of the selected date.\n",
    "    \"\"\"\n",
    "  \n",
    "    # Load Data\n",
    "    df = _load_data(data)\n",
    "    \n",
    "    # Split date input into year, month, day\n",
    "    year = int(date[0:4])\n",
    "    month = int(date[5:7])\n",
    "    day = int(date[8:10])\n",
    "  \n",
    "    # subset df with date and find day of year and day variable\n",
    "    date_df = df.loc[(df['Datetime'].dt.year == year) & (df['Datetime'].dt.month == month) & (df['Datetime'].dt.day == day)]\n",
    "      # select day of year\n",
    "    day =  date_df[\"DayOfYear\"].mean()\n",
    "    datetime = date_df[\"Datetime\"].max()\n",
    "  \n",
    "    # select the specific day of century and the related values\n",
    "    day_century = date_df[\"DayOfCentury\"].mean() \n",
    "    day_century_value = pd.DataFrame(pd.DataFrame.mean(date_df)).reset_index()\n",
    "    day_century_value = pd.pivot_table(day_century_value, index=None, columns=['index'], aggfunc=max)\n",
    "  \n",
    "    if scope == \"relative\":\n",
    "        # group by calender day\n",
    "        df = df.loc[df['DayOfYear'] == day]\n",
    "    elif scope == \"absolute\":\n",
    "        df = df\n",
    "    else: \n",
    "        raise ValueError(\"Only 'relative' & 'absolute' are accepted input values\")\n",
    "  \n",
    "    # Find the index with the specified date\n",
    "    row_index = int(df[df['Datetime'] == date].index[0])\n",
    "    \n",
    "    # Remove columns that do not contain numerical values & Subset df based on measure selection\n",
    "    if variable == \"All\":\n",
    "        df = df.select_dtypes(include=['int', 'float']).copy()\n",
    "    else:\n",
    "        df = pd.DataFrame({variable: df[variable]})\n",
    "        df = df.select_dtypes(include=['int', 'float']).copy()\n",
    "    \n",
    "    # Create an empty dictionary for the output\n",
    "    percentile_dict = {}\n",
    "    \n",
    "    # Iterate through the columns\n",
    "    for col in df.columns:\n",
    "        # Find the percentile of the value in the specified row and date\n",
    "        value = df[col][row_index]\n",
    "        percentile = df[col].rank(pct=True)[df[col] == value].iloc[0]*100 if not math.isnan(value) else math.nan\n",
    "    \n",
    "        # Add the percentile to the dictionary\n",
    "        percentile_dict[col] = percentile\n",
    "    print('displaying percentile dict')\n",
    "    print(percentile_dict)\n",
    "    # Create a dataframe with the output\n",
    "    x = pd.DataFrame(percentile_dict, index=[0])\n",
    "    print('displaying percentile df')\n",
    "    import prettytable as pt\n",
    "  \n",
    "    table = pt.PrettyTable()\n",
    "    table.field_names = [\"Measurement\", \"Percentile\"]\n",
    "  \n",
    "    for col in x.columns:\n",
    "        if x[col].values > 90 or x[col].values < 10:\n",
    "            table.add_row([f\"\\033[1m{col}\\033[0m\", f\"\\033[1m{int(x[col].values) if not np.isnan(x[col].values) else 'NaN'}%\\033[0m\"])\n",
    "        else:\n",
    "            table.add_row([col, f\"{int(x[col].values) if not np.isnan(x[col].values) else 'NaN'}%\"])\n",
    "  \n",
    "    print(\n",
    "    f\" Date: {date} \\n\" ,\n",
    "    f\"Station: {station} \\n\" , \n",
    "    f\"Measurement: {variable} \\n\"  , \n",
    "    f\"Data: {data} \\n\" ,\n",
    "    \"----------------------------------------------------------------------------------------------------------------------\\n\",\n",
    "    f\"                   Climatology Report\\n\" \n",
    "    )\n",
    "    print(table)\n",
    "    print(\"----------------------------------------------------------------------------------------------------------------------\\n\")\n",
    "    \n",
    "    import plotly.express as px\n",
    "    # Create a list of columns to be plotted\n",
    "    x = day_century_value\n",
    "    columns_to_plot = [col for col in x.columns.values if col in df.columns.values]\n",
    "  \n",
    "    # Create a list of values from x to be highlighted\n",
    "    values_to_highlight = x[columns_to_plot].values.flatten().tolist()\n",
    "  \n",
    "    # Create a list of subplots\n",
    "    figs = []\n",
    "    # Loop through list of columns\n",
    "    for col, v in zip(columns_to_plot, values_to_highlight) : \n",
    "        # Create a subplot for each column \n",
    "        fig = px.box(df[col], orientation = \"v\",boxmode='group')\n",
    "        # Format the axes\n",
    "        fig.update_layout(title_text= f\"Boxplot for {col}\", xaxis_title='', yaxis_title='')\n",
    "        # Highlight the values from x\n",
    "        fig.add_scatter(x=[col], y=[v], name= f\"Selected Value \\n{col}\",\n",
    "    mode = 'markers',\n",
    "    marker_symbol = 'circle-dot',\n",
    "    marker_size = 8,\n",
    "    marker_color = 'red')\n",
    "        \n",
    "        # Add figure to list of subplots \n",
    "        figs.append(fig)\n",
    "    \n",
    "    # Output\n",
    "    for fig in figs:\n",
    "        fig.show()"
   ]
  },
  {
   "cell_type": "code",
   "execution_count": 405,
   "metadata": {
    "id": "_-tV92FHNcuy"
   },
   "outputs": [
    {
     "name": "stdout",
     "output_type": "stream",
     "text": [
      "displaying percentile dict\n",
      "{'AirPressure(hPa)': 61.940298507462686}\n",
      "displaying percentile df\n",
      " Date: 2022-01-12 \n",
      " Station: THU_L_day_v03 \n",
      " Measurement: AirPressure(hPa) \n",
      " Data: Promice \n",
      " ----------------------------------------------------------------------------------------------------------------------\n",
      "                    Climatology Report\n",
      "\n",
      "+------------------+------------+\n",
      "|   Measurement    | Percentile |\n",
      "+------------------+------------+\n",
      "| AirPressure(hPa) |    61%     |\n",
      "+------------------+------------+\n",
      "----------------------------------------------------------------------------------------------------------------------\n",
      "\n"
     ]
    },
    {
     "data": {
      "application/vnd.plotly.v1+json": {
       "config": {
        "plotlyServerURL": "https://plot.ly"
       },
       "data": [
        {
         "alignmentgroup": "True",
         "hovertemplate": "variable=%{x}<br>value=%{y}<extra></extra>",
         "legendgroup": "",
         "marker": {
          "color": "#636efa"
         },
         "name": "",
         "notched": false,
         "offsetgroup": "",
         "orientation": "v",
         "showlegend": false,
         "type": "box",
         "x": [
          "AirPressure(hPa)",
          "AirPressure(hPa)",
          "AirPressure(hPa)",
          "AirPressure(hPa)",
          "AirPressure(hPa)",
          "AirPressure(hPa)",
          "AirPressure(hPa)",
          "AirPressure(hPa)",
          "AirPressure(hPa)",
          "AirPressure(hPa)",
          "AirPressure(hPa)",
          "AirPressure(hPa)",
          "AirPressure(hPa)",
          "AirPressure(hPa)",
          "AirPressure(hPa)",
          "AirPressure(hPa)",
          "AirPressure(hPa)",
          "AirPressure(hPa)",
          "AirPressure(hPa)",
          "AirPressure(hPa)",
          "AirPressure(hPa)",
          "AirPressure(hPa)",
          "AirPressure(hPa)",
          "AirPressure(hPa)",
          "AirPressure(hPa)",
          "AirPressure(hPa)",
          "AirPressure(hPa)",
          "AirPressure(hPa)",
          "AirPressure(hPa)",
          "AirPressure(hPa)",
          "AirPressure(hPa)",
          "AirPressure(hPa)",
          "AirPressure(hPa)",
          "AirPressure(hPa)",
          "AirPressure(hPa)",
          "AirPressure(hPa)",
          "AirPressure(hPa)",
          "AirPressure(hPa)",
          "AirPressure(hPa)",
          "AirPressure(hPa)",
          "AirPressure(hPa)",
          "AirPressure(hPa)",
          "AirPressure(hPa)",
          "AirPressure(hPa)",
          "AirPressure(hPa)",
          "AirPressure(hPa)",
          "AirPressure(hPa)",
          "AirPressure(hPa)",
          "AirPressure(hPa)",
          "AirPressure(hPa)",
          "AirPressure(hPa)",
          "AirPressure(hPa)",
          "AirPressure(hPa)",
          "AirPressure(hPa)",
          "AirPressure(hPa)",
          "AirPressure(hPa)",
          "AirPressure(hPa)",
          "AirPressure(hPa)",
          "AirPressure(hPa)",
          "AirPressure(hPa)",
          "AirPressure(hPa)",
          "AirPressure(hPa)",
          "AirPressure(hPa)",
          "AirPressure(hPa)",
          "AirPressure(hPa)",
          "AirPressure(hPa)",
          "AirPressure(hPa)",
          "AirPressure(hPa)",
          "AirPressure(hPa)",
          "AirPressure(hPa)",
          "AirPressure(hPa)",
          "AirPressure(hPa)",
          "AirPressure(hPa)",
          "AirPressure(hPa)",
          "AirPressure(hPa)",
          "AirPressure(hPa)",
          "AirPressure(hPa)",
          "AirPressure(hPa)",
          "AirPressure(hPa)",
          "AirPressure(hPa)",
          "AirPressure(hPa)",
          "AirPressure(hPa)",
          "AirPressure(hPa)",
          "AirPressure(hPa)",
          "AirPressure(hPa)",
          "AirPressure(hPa)",
          "AirPressure(hPa)",
          "AirPressure(hPa)",
          "AirPressure(hPa)",
          "AirPressure(hPa)",
          "AirPressure(hPa)",
          "AirPressure(hPa)",
          "AirPressure(hPa)",
          "AirPressure(hPa)",
          "AirPressure(hPa)",
          "AirPressure(hPa)",
          "AirPressure(hPa)",
          "AirPressure(hPa)",
          "AirPressure(hPa)",
          "AirPressure(hPa)",
          "AirPressure(hPa)",
          "AirPressure(hPa)",
          "AirPressure(hPa)",
          "AirPressure(hPa)",
          "AirPressure(hPa)",
          "AirPressure(hPa)",
          "AirPressure(hPa)",
          "AirPressure(hPa)",
          "AirPressure(hPa)",
          "AirPressure(hPa)",
          "AirPressure(hPa)",
          "AirPressure(hPa)",
          "AirPressure(hPa)",
          "AirPressure(hPa)",
          "AirPressure(hPa)",
          "AirPressure(hPa)",
          "AirPressure(hPa)",
          "AirPressure(hPa)",
          "AirPressure(hPa)",
          "AirPressure(hPa)",
          "AirPressure(hPa)",
          "AirPressure(hPa)",
          "AirPressure(hPa)",
          "AirPressure(hPa)",
          "AirPressure(hPa)",
          "AirPressure(hPa)",
          "AirPressure(hPa)",
          "AirPressure(hPa)",
          "AirPressure(hPa)",
          "AirPressure(hPa)",
          "AirPressure(hPa)",
          "AirPressure(hPa)",
          "AirPressure(hPa)",
          "AirPressure(hPa)",
          "AirPressure(hPa)",
          "AirPressure(hPa)",
          "AirPressure(hPa)",
          "AirPressure(hPa)",
          "AirPressure(hPa)",
          "AirPressure(hPa)",
          "AirPressure(hPa)",
          "AirPressure(hPa)",
          "AirPressure(hPa)",
          "AirPressure(hPa)",
          "AirPressure(hPa)",
          "AirPressure(hPa)",
          "AirPressure(hPa)",
          "AirPressure(hPa)",
          "AirPressure(hPa)",
          "AirPressure(hPa)",
          "AirPressure(hPa)",
          "AirPressure(hPa)",
          "AirPressure(hPa)",
          "AirPressure(hPa)",
          "AirPressure(hPa)",
          "AirPressure(hPa)",
          "AirPressure(hPa)",
          "AirPressure(hPa)",
          "AirPressure(hPa)",
          "AirPressure(hPa)",
          "AirPressure(hPa)",
          "AirPressure(hPa)",
          "AirPressure(hPa)",
          "AirPressure(hPa)",
          "AirPressure(hPa)",
          "AirPressure(hPa)",
          "AirPressure(hPa)",
          "AirPressure(hPa)",
          "AirPressure(hPa)",
          "AirPressure(hPa)",
          "AirPressure(hPa)",
          "AirPressure(hPa)",
          "AirPressure(hPa)",
          "AirPressure(hPa)",
          "AirPressure(hPa)",
          "AirPressure(hPa)",
          "AirPressure(hPa)",
          "AirPressure(hPa)",
          "AirPressure(hPa)",
          "AirPressure(hPa)",
          "AirPressure(hPa)",
          "AirPressure(hPa)",
          "AirPressure(hPa)",
          "AirPressure(hPa)",
          "AirPressure(hPa)",
          "AirPressure(hPa)",
          "AirPressure(hPa)",
          "AirPressure(hPa)",
          "AirPressure(hPa)",
          "AirPressure(hPa)",
          "AirPressure(hPa)",
          "AirPressure(hPa)",
          "AirPressure(hPa)",
          "AirPressure(hPa)",
          "AirPressure(hPa)",
          "AirPressure(hPa)",
          "AirPressure(hPa)",
          "AirPressure(hPa)",
          "AirPressure(hPa)",
          "AirPressure(hPa)",
          "AirPressure(hPa)",
          "AirPressure(hPa)",
          "AirPressure(hPa)",
          "AirPressure(hPa)",
          "AirPressure(hPa)",
          "AirPressure(hPa)",
          "AirPressure(hPa)",
          "AirPressure(hPa)",
          "AirPressure(hPa)",
          "AirPressure(hPa)",
          "AirPressure(hPa)",
          "AirPressure(hPa)",
          "AirPressure(hPa)",
          "AirPressure(hPa)",
          "AirPressure(hPa)",
          "AirPressure(hPa)",
          "AirPressure(hPa)",
          "AirPressure(hPa)",
          "AirPressure(hPa)",
          "AirPressure(hPa)",
          "AirPressure(hPa)",
          "AirPressure(hPa)",
          "AirPressure(hPa)",
          "AirPressure(hPa)",
          "AirPressure(hPa)",
          "AirPressure(hPa)",
          "AirPressure(hPa)",
          "AirPressure(hPa)",
          "AirPressure(hPa)",
          "AirPressure(hPa)",
          "AirPressure(hPa)",
          "AirPressure(hPa)",
          "AirPressure(hPa)",
          "AirPressure(hPa)",
          "AirPressure(hPa)",
          "AirPressure(hPa)",
          "AirPressure(hPa)",
          "AirPressure(hPa)",
          "AirPressure(hPa)",
          "AirPressure(hPa)",
          "AirPressure(hPa)",
          "AirPressure(hPa)",
          "AirPressure(hPa)",
          "AirPressure(hPa)",
          "AirPressure(hPa)",
          "AirPressure(hPa)",
          "AirPressure(hPa)",
          "AirPressure(hPa)",
          "AirPressure(hPa)",
          "AirPressure(hPa)",
          "AirPressure(hPa)",
          "AirPressure(hPa)",
          "AirPressure(hPa)",
          "AirPressure(hPa)",
          "AirPressure(hPa)",
          "AirPressure(hPa)",
          "AirPressure(hPa)",
          "AirPressure(hPa)",
          "AirPressure(hPa)",
          "AirPressure(hPa)",
          "AirPressure(hPa)",
          "AirPressure(hPa)",
          "AirPressure(hPa)",
          "AirPressure(hPa)",
          "AirPressure(hPa)",
          "AirPressure(hPa)",
          "AirPressure(hPa)",
          "AirPressure(hPa)",
          "AirPressure(hPa)",
          "AirPressure(hPa)",
          "AirPressure(hPa)",
          "AirPressure(hPa)",
          "AirPressure(hPa)",
          "AirPressure(hPa)",
          "AirPressure(hPa)",
          "AirPressure(hPa)",
          "AirPressure(hPa)",
          "AirPressure(hPa)",
          "AirPressure(hPa)",
          "AirPressure(hPa)",
          "AirPressure(hPa)",
          "AirPressure(hPa)",
          "AirPressure(hPa)",
          "AirPressure(hPa)",
          "AirPressure(hPa)",
          "AirPressure(hPa)",
          "AirPressure(hPa)",
          "AirPressure(hPa)",
          "AirPressure(hPa)",
          "AirPressure(hPa)",
          "AirPressure(hPa)",
          "AirPressure(hPa)",
          "AirPressure(hPa)",
          "AirPressure(hPa)"
         ],
         "x0": " ",
         "xaxis": "x",
         "y": [
          943.91,
          931.44,
          935,
          948,
          925.79,
          957.08,
          940.5,
          929.45,
          954.26,
          940.5,
          929.16,
          938.06,
          930.83,
          937.48,
          933,
          951.79,
          979.57,
          964.15,
          954.72,
          978.8,
          962.55,
          947.58,
          969.53,
          953.11,
          959.05,
          951,
          890.67,
          893.14,
          904.75,
          880.23,
          909.78,
          892.54,
          878.5,
          915.7,
          903.79,
          886.99,
          896.83,
          882,
          889.43,
          889,
          null,
          914.08,
          921.25,
          908.09,
          898.5,
          930.4,
          920.58,
          894.04,
          920.58,
          903,
          null,
          923.2,
          905,
          911,
          896,
          896.47,
          878.29,
          919.46,
          900.41,
          872.52,
          902.12,
          881.48,
          901,
          873,
          886.03,
          900,
          884.8,
          901.04,
          889.7,
          878.93,
          911.12,
          894.04,
          875.49,
          899.26,
          884.73,
          894,
          879,
          null,
          null,
          null,
          null,
          973.9,
          956.64,
          956.67,
          984.47,
          970.26,
          952.84,
          975.52,
          959,
          967,
          939,
          714.52,
          702.56,
          711.85,
          706.1,
          717.84,
          692.8,
          null,
          null,
          871.38,
          null,
          860.46,
          885.32,
          null,
          858.44,
          887.02,
          871.51,
          859.01,
          869.04,
          859.26,
          867.79,
          861,
          977.84,
          967.16,
          959.94,
          976.63,
          947.96,
          984.28,
          965.5,
          951.73,
          989.5,
          978.46,
          961.57,
          970.02,
          958.25,
          962.01,
          847.66,
          857.75,
          864.18,
          847.83,
          866.43,
          null,
          842.85,
          872.33,
          855.01,
          840.17,
          856.75,
          842.82,
          852.98,
          845,
          null,
          938.31,
          null,
          931.56,
          922.03,
          null,
          947.84,
          918.71,
          948.62,
          929.17,
          933.81,
          920,
          980.18,
          992.51,
          974.43,
          997.34,
          979.68,
          969.94,
          999.89,
          986.69,
          964.11,
          992.03,
          973.13,
          979,
          965,
          889.6,
          900.7,
          927.09,
          903.85,
          911.46,
          897.14,
          896.91,
          922.21,
          907,
          889,
          910,
          895,
          903,
          879,
          797.9,
          null,
          null,
          802.01,
          791.81,
          779.18,
          810.66,
          792.75,
          778.37,
          793.57,
          778.68,
          794.04,
          780.1,
          null,
          968.57,
          955.91,
          956.36,
          949.5,
          929.83,
          974.5,
          956.63,
          923.31,
          955.87,
          933.18,
          952.68,
          932,
          945.25,
          952.73,
          975.84,
          958.21,
          959.54,
          959.18,
          941.03,
          976.94,
          957.75,
          938.4,
          961.46,
          944.09,
          958,
          925,
          773.19,
          787.14,
          777.26,
          786.59,
          null,
          null,
          977.85,
          993.3,
          null,
          980.53,
          null,
          null,
          998.83,
          980.65,
          946.17,
          980.42,
          955.96,
          976.38,
          947,
          905,
          883.55,
          909.73,
          893.99,
          null,
          879.89,
          865.54,
          916.31,
          923.27,
          933.2,
          913.35,
          938.12,
          923.4,
          913.96,
          939.28,
          923.85,
          910.11,
          930.28,
          915.66,
          923.74,
          916,
          881.33,
          null,
          911.64,
          896.72,
          898.15,
          898.32,
          null,
          914.67,
          894.29,
          878.45,
          896.48,
          883.11,
          897,
          865,
          910.51,
          933.86,
          917.63,
          906.94,
          916.58,
          907.17,
          915.63,
          911,
          null,
          918.42,
          927.66,
          914.35,
          920.39,
          922,
          930.55,
          941.49,
          953.47,
          938.97,
          941.67,
          935.03,
          915.62
         ],
         "y0": " ",
         "yaxis": "y"
        },
        {
         "marker": {
          "color": "red",
          "size": 8,
          "symbol": "circle-dot"
         },
         "mode": "markers",
         "name": "Selected Value \nAirPressure(hPa)",
         "type": "scatter",
         "x": [
          "AirPressure(hPa)"
         ],
         "y": [
          891.4714285714286
         ]
        }
       ],
       "layout": {
        "boxmode": "group",
        "legend": {
         "tracegroupgap": 0
        },
        "margin": {
         "t": 60
        },
        "template": {
         "data": {
          "bar": [
           {
            "error_x": {
             "color": "#2a3f5f"
            },
            "error_y": {
             "color": "#2a3f5f"
            },
            "marker": {
             "line": {
              "color": "#E5ECF6",
              "width": 0.5
             },
             "pattern": {
              "fillmode": "overlay",
              "size": 10,
              "solidity": 0.2
             }
            },
            "type": "bar"
           }
          ],
          "barpolar": [
           {
            "marker": {
             "line": {
              "color": "#E5ECF6",
              "width": 0.5
             },
             "pattern": {
              "fillmode": "overlay",
              "size": 10,
              "solidity": 0.2
             }
            },
            "type": "barpolar"
           }
          ],
          "carpet": [
           {
            "aaxis": {
             "endlinecolor": "#2a3f5f",
             "gridcolor": "white",
             "linecolor": "white",
             "minorgridcolor": "white",
             "startlinecolor": "#2a3f5f"
            },
            "baxis": {
             "endlinecolor": "#2a3f5f",
             "gridcolor": "white",
             "linecolor": "white",
             "minorgridcolor": "white",
             "startlinecolor": "#2a3f5f"
            },
            "type": "carpet"
           }
          ],
          "choropleth": [
           {
            "colorbar": {
             "outlinewidth": 0,
             "ticks": ""
            },
            "type": "choropleth"
           }
          ],
          "contour": [
           {
            "colorbar": {
             "outlinewidth": 0,
             "ticks": ""
            },
            "colorscale": [
             [
              0,
              "#0d0887"
             ],
             [
              0.1111111111111111,
              "#46039f"
             ],
             [
              0.2222222222222222,
              "#7201a8"
             ],
             [
              0.3333333333333333,
              "#9c179e"
             ],
             [
              0.4444444444444444,
              "#bd3786"
             ],
             [
              0.5555555555555556,
              "#d8576b"
             ],
             [
              0.6666666666666666,
              "#ed7953"
             ],
             [
              0.7777777777777778,
              "#fb9f3a"
             ],
             [
              0.8888888888888888,
              "#fdca26"
             ],
             [
              1,
              "#f0f921"
             ]
            ],
            "type": "contour"
           }
          ],
          "contourcarpet": [
           {
            "colorbar": {
             "outlinewidth": 0,
             "ticks": ""
            },
            "type": "contourcarpet"
           }
          ],
          "heatmap": [
           {
            "colorbar": {
             "outlinewidth": 0,
             "ticks": ""
            },
            "colorscale": [
             [
              0,
              "#0d0887"
             ],
             [
              0.1111111111111111,
              "#46039f"
             ],
             [
              0.2222222222222222,
              "#7201a8"
             ],
             [
              0.3333333333333333,
              "#9c179e"
             ],
             [
              0.4444444444444444,
              "#bd3786"
             ],
             [
              0.5555555555555556,
              "#d8576b"
             ],
             [
              0.6666666666666666,
              "#ed7953"
             ],
             [
              0.7777777777777778,
              "#fb9f3a"
             ],
             [
              0.8888888888888888,
              "#fdca26"
             ],
             [
              1,
              "#f0f921"
             ]
            ],
            "type": "heatmap"
           }
          ],
          "heatmapgl": [
           {
            "colorbar": {
             "outlinewidth": 0,
             "ticks": ""
            },
            "colorscale": [
             [
              0,
              "#0d0887"
             ],
             [
              0.1111111111111111,
              "#46039f"
             ],
             [
              0.2222222222222222,
              "#7201a8"
             ],
             [
              0.3333333333333333,
              "#9c179e"
             ],
             [
              0.4444444444444444,
              "#bd3786"
             ],
             [
              0.5555555555555556,
              "#d8576b"
             ],
             [
              0.6666666666666666,
              "#ed7953"
             ],
             [
              0.7777777777777778,
              "#fb9f3a"
             ],
             [
              0.8888888888888888,
              "#fdca26"
             ],
             [
              1,
              "#f0f921"
             ]
            ],
            "type": "heatmapgl"
           }
          ],
          "histogram": [
           {
            "marker": {
             "pattern": {
              "fillmode": "overlay",
              "size": 10,
              "solidity": 0.2
             }
            },
            "type": "histogram"
           }
          ],
          "histogram2d": [
           {
            "colorbar": {
             "outlinewidth": 0,
             "ticks": ""
            },
            "colorscale": [
             [
              0,
              "#0d0887"
             ],
             [
              0.1111111111111111,
              "#46039f"
             ],
             [
              0.2222222222222222,
              "#7201a8"
             ],
             [
              0.3333333333333333,
              "#9c179e"
             ],
             [
              0.4444444444444444,
              "#bd3786"
             ],
             [
              0.5555555555555556,
              "#d8576b"
             ],
             [
              0.6666666666666666,
              "#ed7953"
             ],
             [
              0.7777777777777778,
              "#fb9f3a"
             ],
             [
              0.8888888888888888,
              "#fdca26"
             ],
             [
              1,
              "#f0f921"
             ]
            ],
            "type": "histogram2d"
           }
          ],
          "histogram2dcontour": [
           {
            "colorbar": {
             "outlinewidth": 0,
             "ticks": ""
            },
            "colorscale": [
             [
              0,
              "#0d0887"
             ],
             [
              0.1111111111111111,
              "#46039f"
             ],
             [
              0.2222222222222222,
              "#7201a8"
             ],
             [
              0.3333333333333333,
              "#9c179e"
             ],
             [
              0.4444444444444444,
              "#bd3786"
             ],
             [
              0.5555555555555556,
              "#d8576b"
             ],
             [
              0.6666666666666666,
              "#ed7953"
             ],
             [
              0.7777777777777778,
              "#fb9f3a"
             ],
             [
              0.8888888888888888,
              "#fdca26"
             ],
             [
              1,
              "#f0f921"
             ]
            ],
            "type": "histogram2dcontour"
           }
          ],
          "mesh3d": [
           {
            "colorbar": {
             "outlinewidth": 0,
             "ticks": ""
            },
            "type": "mesh3d"
           }
          ],
          "parcoords": [
           {
            "line": {
             "colorbar": {
              "outlinewidth": 0,
              "ticks": ""
             }
            },
            "type": "parcoords"
           }
          ],
          "pie": [
           {
            "automargin": true,
            "type": "pie"
           }
          ],
          "scatter": [
           {
            "fillpattern": {
             "fillmode": "overlay",
             "size": 10,
             "solidity": 0.2
            },
            "type": "scatter"
           }
          ],
          "scatter3d": [
           {
            "line": {
             "colorbar": {
              "outlinewidth": 0,
              "ticks": ""
             }
            },
            "marker": {
             "colorbar": {
              "outlinewidth": 0,
              "ticks": ""
             }
            },
            "type": "scatter3d"
           }
          ],
          "scattercarpet": [
           {
            "marker": {
             "colorbar": {
              "outlinewidth": 0,
              "ticks": ""
             }
            },
            "type": "scattercarpet"
           }
          ],
          "scattergeo": [
           {
            "marker": {
             "colorbar": {
              "outlinewidth": 0,
              "ticks": ""
             }
            },
            "type": "scattergeo"
           }
          ],
          "scattergl": [
           {
            "marker": {
             "colorbar": {
              "outlinewidth": 0,
              "ticks": ""
             }
            },
            "type": "scattergl"
           }
          ],
          "scattermapbox": [
           {
            "marker": {
             "colorbar": {
              "outlinewidth": 0,
              "ticks": ""
             }
            },
            "type": "scattermapbox"
           }
          ],
          "scatterpolar": [
           {
            "marker": {
             "colorbar": {
              "outlinewidth": 0,
              "ticks": ""
             }
            },
            "type": "scatterpolar"
           }
          ],
          "scatterpolargl": [
           {
            "marker": {
             "colorbar": {
              "outlinewidth": 0,
              "ticks": ""
             }
            },
            "type": "scatterpolargl"
           }
          ],
          "scatterternary": [
           {
            "marker": {
             "colorbar": {
              "outlinewidth": 0,
              "ticks": ""
             }
            },
            "type": "scatterternary"
           }
          ],
          "surface": [
           {
            "colorbar": {
             "outlinewidth": 0,
             "ticks": ""
            },
            "colorscale": [
             [
              0,
              "#0d0887"
             ],
             [
              0.1111111111111111,
              "#46039f"
             ],
             [
              0.2222222222222222,
              "#7201a8"
             ],
             [
              0.3333333333333333,
              "#9c179e"
             ],
             [
              0.4444444444444444,
              "#bd3786"
             ],
             [
              0.5555555555555556,
              "#d8576b"
             ],
             [
              0.6666666666666666,
              "#ed7953"
             ],
             [
              0.7777777777777778,
              "#fb9f3a"
             ],
             [
              0.8888888888888888,
              "#fdca26"
             ],
             [
              1,
              "#f0f921"
             ]
            ],
            "type": "surface"
           }
          ],
          "table": [
           {
            "cells": {
             "fill": {
              "color": "#EBF0F8"
             },
             "line": {
              "color": "white"
             }
            },
            "header": {
             "fill": {
              "color": "#C8D4E3"
             },
             "line": {
              "color": "white"
             }
            },
            "type": "table"
           }
          ]
         },
         "layout": {
          "annotationdefaults": {
           "arrowcolor": "#2a3f5f",
           "arrowhead": 0,
           "arrowwidth": 1
          },
          "autotypenumbers": "strict",
          "coloraxis": {
           "colorbar": {
            "outlinewidth": 0,
            "ticks": ""
           }
          },
          "colorscale": {
           "diverging": [
            [
             0,
             "#8e0152"
            ],
            [
             0.1,
             "#c51b7d"
            ],
            [
             0.2,
             "#de77ae"
            ],
            [
             0.3,
             "#f1b6da"
            ],
            [
             0.4,
             "#fde0ef"
            ],
            [
             0.5,
             "#f7f7f7"
            ],
            [
             0.6,
             "#e6f5d0"
            ],
            [
             0.7,
             "#b8e186"
            ],
            [
             0.8,
             "#7fbc41"
            ],
            [
             0.9,
             "#4d9221"
            ],
            [
             1,
             "#276419"
            ]
           ],
           "sequential": [
            [
             0,
             "#0d0887"
            ],
            [
             0.1111111111111111,
             "#46039f"
            ],
            [
             0.2222222222222222,
             "#7201a8"
            ],
            [
             0.3333333333333333,
             "#9c179e"
            ],
            [
             0.4444444444444444,
             "#bd3786"
            ],
            [
             0.5555555555555556,
             "#d8576b"
            ],
            [
             0.6666666666666666,
             "#ed7953"
            ],
            [
             0.7777777777777778,
             "#fb9f3a"
            ],
            [
             0.8888888888888888,
             "#fdca26"
            ],
            [
             1,
             "#f0f921"
            ]
           ],
           "sequentialminus": [
            [
             0,
             "#0d0887"
            ],
            [
             0.1111111111111111,
             "#46039f"
            ],
            [
             0.2222222222222222,
             "#7201a8"
            ],
            [
             0.3333333333333333,
             "#9c179e"
            ],
            [
             0.4444444444444444,
             "#bd3786"
            ],
            [
             0.5555555555555556,
             "#d8576b"
            ],
            [
             0.6666666666666666,
             "#ed7953"
            ],
            [
             0.7777777777777778,
             "#fb9f3a"
            ],
            [
             0.8888888888888888,
             "#fdca26"
            ],
            [
             1,
             "#f0f921"
            ]
           ]
          },
          "colorway": [
           "#636efa",
           "#EF553B",
           "#00cc96",
           "#ab63fa",
           "#FFA15A",
           "#19d3f3",
           "#FF6692",
           "#B6E880",
           "#FF97FF",
           "#FECB52"
          ],
          "font": {
           "color": "#2a3f5f"
          },
          "geo": {
           "bgcolor": "white",
           "lakecolor": "white",
           "landcolor": "#E5ECF6",
           "showlakes": true,
           "showland": true,
           "subunitcolor": "white"
          },
          "hoverlabel": {
           "align": "left"
          },
          "hovermode": "closest",
          "mapbox": {
           "style": "light"
          },
          "paper_bgcolor": "white",
          "plot_bgcolor": "#E5ECF6",
          "polar": {
           "angularaxis": {
            "gridcolor": "white",
            "linecolor": "white",
            "ticks": ""
           },
           "bgcolor": "#E5ECF6",
           "radialaxis": {
            "gridcolor": "white",
            "linecolor": "white",
            "ticks": ""
           }
          },
          "scene": {
           "xaxis": {
            "backgroundcolor": "#E5ECF6",
            "gridcolor": "white",
            "gridwidth": 2,
            "linecolor": "white",
            "showbackground": true,
            "ticks": "",
            "zerolinecolor": "white"
           },
           "yaxis": {
            "backgroundcolor": "#E5ECF6",
            "gridcolor": "white",
            "gridwidth": 2,
            "linecolor": "white",
            "showbackground": true,
            "ticks": "",
            "zerolinecolor": "white"
           },
           "zaxis": {
            "backgroundcolor": "#E5ECF6",
            "gridcolor": "white",
            "gridwidth": 2,
            "linecolor": "white",
            "showbackground": true,
            "ticks": "",
            "zerolinecolor": "white"
           }
          },
          "shapedefaults": {
           "line": {
            "color": "#2a3f5f"
           }
          },
          "ternary": {
           "aaxis": {
            "gridcolor": "white",
            "linecolor": "white",
            "ticks": ""
           },
           "baxis": {
            "gridcolor": "white",
            "linecolor": "white",
            "ticks": ""
           },
           "bgcolor": "#E5ECF6",
           "caxis": {
            "gridcolor": "white",
            "linecolor": "white",
            "ticks": ""
           }
          },
          "title": {
           "x": 0.05
          },
          "xaxis": {
           "automargin": true,
           "gridcolor": "white",
           "linecolor": "white",
           "ticks": "",
           "title": {
            "standoff": 15
           },
           "zerolinecolor": "white",
           "zerolinewidth": 2
          },
          "yaxis": {
           "automargin": true,
           "gridcolor": "white",
           "linecolor": "white",
           "ticks": "",
           "title": {
            "standoff": 15
           },
           "zerolinecolor": "white",
           "zerolinewidth": 2
          }
         }
        },
        "title": {
         "text": "Boxplot for AirPressure(hPa)"
        },
        "xaxis": {
         "anchor": "y",
         "domain": [
          0,
          1
         ],
         "title": {
          "text": ""
         }
        },
        "yaxis": {
         "anchor": "x",
         "domain": [
          0,
          1
         ],
         "title": {
          "text": ""
         }
        }
       }
      }
     },
     "metadata": {},
     "output_type": "display_data"
    }
   ],
   "source": [
    "report(\"Promice\", \"2022-01-12\", \"THU_L_day_v03\", variable = \"AirPressure(hPa)\", scope = \"relative\")"
   ]
  },
  {
   "cell_type": "markdown",
   "metadata": {
    "id": "cLqu3qB_6MQ0"
   },
   "source": [
    "GC Net Data"
   ]
  },
  {
   "cell_type": "code",
   "execution_count": null,
   "metadata": {
    "id": "2fukMbLF5FSk"
   },
   "outputs": [],
   "source": [
    "gc = pd.read_parquet('data\\df_daily.gzip', engine='pyarrow')"
   ]
  },
  {
   "cell_type": "code",
   "execution_count": null,
   "metadata": {
    "colab": {
     "base_uri": "https://localhost:8080/"
    },
    "id": "jxF98U06Pr1K",
    "outputId": "d65d82bc-1300-4d26-d453-8ae01ea6a729"
   },
   "outputs": [],
   "source": [
    "gc.columns"
   ]
  },
  {
   "cell_type": "markdown",
   "metadata": {
    "id": "OPzKcUQf-D8A"
   },
   "source": [
    "*Test on one station*"
   ]
  },
  {
   "cell_type": "code",
   "execution_count": null,
   "metadata": {
    "id": "b43DzmSi5XuP"
   },
   "outputs": [],
   "source": [
    "gc = gc[gc['station_name'] == \"Humboldt\"] "
   ]
  },
  {
   "cell_type": "markdown",
   "metadata": {
    "id": "Zyy-tj5MR42i"
   },
   "source": [
    "Promice Data"
   ]
  },
  {
   "cell_type": "code",
   "execution_count": null,
   "metadata": {
    "id": "WX5FjdtC9_6o"
   },
   "outputs": [],
   "source": [
    "pc = pd.read_parquet('data\\promice_hourly.gzip', engine='pyarrow')"
   ]
  },
  {
   "cell_type": "code",
   "execution_count": null,
   "metadata": {
    "colab": {
     "base_uri": "https://localhost:8080/",
     "height": 835
    },
    "id": "cSviVwGoTdRw",
    "outputId": "5c30dbcc-5116-4b8a-f4c2-1a4fe452765b"
   },
   "outputs": [],
   "source": [
    "pc"
   ]
  },
  {
   "cell_type": "markdown",
   "metadata": {
    "id": "EgMPhvzQ-Jn-"
   },
   "source": [
    "*Test Suite*"
   ]
  },
  {
   "cell_type": "code",
   "execution_count": null,
   "metadata": {
    "id": "7QCsyeJ2Kjtz"
   },
   "outputs": [],
   "source": [
    "# define variables\n",
    "\n",
    "# *Mandatory: Data\n",
    "data = \"Promice\"\n",
    "\n",
    "# *Mandatory: Date\n",
    "date = \"22-07-2008\"\n",
    "\n",
    "# Optional: Station\n",
    "#station = \"SCO_L_hour_v03\"\n",
    "station = \"THU_L_day_v03\"\n",
    "\n",
    "# Optional: Measure\n",
    "y = \"All\""
   ]
  },
  {
   "cell_type": "code",
   "execution_count": null,
   "metadata": {
    "id": "8JqXn1dJ_q06"
   },
   "outputs": [],
   "source": [
    "# subset dataframe \n",
    "pc = pc[pc['file'] == station] "
   ]
  },
  {
   "cell_type": "code",
   "execution_count": null,
   "metadata": {
    "colab": {
     "base_uri": "https://localhost:8080/"
    },
    "id": "aT8guAQZBSWB",
    "outputId": "ca3ab4a8-faa9-404c-b2fe-221bfac7ff74"
   },
   "outputs": [],
   "source": [
    "# select dato \n",
    "year= 2022\n",
    "month = 1\n",
    "day = 12\n",
    "\n",
    "# subset df with date and find day of year and day variable\n",
    "date_df = pc.loc[(pc['Datetime'].dt.year == year) & (pc['Datetime'].dt.month == month) & (pc['Datetime'].dt.day == day)]\n",
    "  # select day of year\n",
    "day =  date_df[\"DayOfYear\"].mean()\n",
    "datetime = date_df[\"Datetime\"].max()\n",
    "\n",
    "# select the specific day of century and the related values\n",
    "day_century = date_df[\"DayOfCentury\"].mean() \n",
    "day_century_value = pd.DataFrame(pd.DataFrame.mean(date_df)).reset_index()\n",
    "day_century_value = pd.pivot_table(day_century_value, index=None, columns=['index'], aggfunc=max)\n",
    "\n",
    "# group by calender day\n",
    "pc_group = pc.loc[pc['DayOfYear'] == day]"
   ]
  },
  {
   "cell_type": "code",
   "execution_count": null,
   "metadata": {
    "id": "iRiwe8ApUBQg"
   },
   "outputs": [],
   "source": [
    "def get_percentile(df, date):\n",
    "  \"\"\"\n",
    "  Function to return the percentile of specified values given a selected date.\n",
    "  \n",
    "  Parameters:\n",
    "  df (pd.DataFrame): The dataframe to be used.\n",
    "  date (str): The date of the observations for which the percentile is calculated.\n",
    "  \n",
    "  Returns:\n",
    "  df (pd.DataFrame): A dataframe with all numerical columns and the percentiles of the values of the selected date.\n",
    "  \"\"\"\n",
    "\n",
    "  # Find the index with the specified date\n",
    "  row_index = int(df[df['Datetime'] == date].index[0])\n",
    "  \n",
    "  # Remove columns that do not contain numerical values & Subset df based on measure selection\n",
    "  if y == \"All\":\n",
    "    df = df.select_dtypes(include=['int', 'float']).copy()\n",
    "  else:\n",
    "    df = pd.DataFrame(df[y])\n",
    "    df = df.select_dtypes(include=['int', 'float']).copy()\n",
    "  \n",
    "  # Create an empty dictionary for the output\n",
    "  percentile_dict = {}\n",
    "  \n",
    "  # Iterate through the columns\n",
    "  for col in df.columns:\n",
    "    # Find the percentile of the value in the specified row and date\n",
    "    value = df[col][row_index]\n",
    "    if(math.isnan(value)): \n",
    "      percentile = math.nan\n",
    "    else: \n",
    "      # calculate the percentile with df.rank()\n",
    "      percentile = df[col].rank(pct=True)[df[col] == value].iloc[0]*100\n",
    "    \n",
    "    # Add the percentile to the dictionary\n",
    "    #percentile_dict[col + \"_percentile\"] = percentile\n",
    "    percentile_dict[col] = percentile\n",
    "  \n",
    "  \n",
    "  # Create a dataframe with the output\n",
    "  df_percentiles = pd.DataFrame(percentile_dict, index=[0])\n",
    "  return df_percentiles"
   ]
  },
  {
   "cell_type": "code",
   "execution_count": null,
   "metadata": {
    "id": "kDyUE1f3e0VI"
   },
   "outputs": [],
   "source": [
    "x = get_percentile(pc, \"2022-01-12\")"
   ]
  },
  {
   "cell_type": "code",
   "execution_count": null,
   "metadata": {
    "id": "XuiTvk_qXU0x"
   },
   "outputs": [],
   "source": [
    "#x = x.append(day_century_value.iloc[0], ignore_index=True)"
   ]
  },
  {
   "cell_type": "code",
   "execution_count": null,
   "metadata": {
    "id": "eXCUB3RtC1og"
   },
   "outputs": [],
   "source": [
    "x = get_percentile(pc_group, \"2022-01-12\")"
   ]
  },
  {
   "cell_type": "code",
   "execution_count": 399,
   "metadata": {
    "id": "MdluROhkTwey"
   },
   "outputs": [
    {
     "ename": "ModuleNotFoundError",
     "evalue": "No module named 'prettytable'",
     "output_type": "error",
     "traceback": [
      "\u001b[1;31m---------------------------------------------------------------------------\u001b[0m",
      "\u001b[1;31mModuleNotFoundError\u001b[0m                       Traceback (most recent call last)",
      "\u001b[1;32m~\\AppData\\Local\\Temp\\4\\ipykernel_16660\\2614715152.py\u001b[0m in \u001b[0;36m<module>\u001b[1;34m\u001b[0m\n\u001b[1;32m----> 1\u001b[1;33m \u001b[1;32mimport\u001b[0m \u001b[0mprettytable\u001b[0m \u001b[1;32mas\u001b[0m \u001b[0mpt\u001b[0m\u001b[1;33m\u001b[0m\u001b[1;33m\u001b[0m\u001b[0m\n\u001b[0m\u001b[0;32m      2\u001b[0m \u001b[1;33m\u001b[0m\u001b[0m\n\u001b[0;32m      3\u001b[0m \u001b[0mtable\u001b[0m \u001b[1;33m=\u001b[0m \u001b[0mpt\u001b[0m\u001b[1;33m.\u001b[0m\u001b[0mPrettyTable\u001b[0m\u001b[1;33m(\u001b[0m\u001b[1;33m)\u001b[0m\u001b[1;33m\u001b[0m\u001b[1;33m\u001b[0m\u001b[0m\n\u001b[0;32m      4\u001b[0m \u001b[0mtable\u001b[0m\u001b[1;33m.\u001b[0m\u001b[0mfield_names\u001b[0m \u001b[1;33m=\u001b[0m \u001b[1;33m[\u001b[0m\u001b[1;34m\"Measurement\"\u001b[0m\u001b[1;33m,\u001b[0m \u001b[1;34m\"Percentile\"\u001b[0m\u001b[1;33m]\u001b[0m\u001b[1;33m\u001b[0m\u001b[1;33m\u001b[0m\u001b[0m\n\u001b[0;32m      5\u001b[0m \u001b[1;33m\u001b[0m\u001b[0m\n",
      "\u001b[1;31mModuleNotFoundError\u001b[0m: No module named 'prettytable'"
     ]
    }
   ],
   "source": [
    "import prettytable as pt\n",
    "\n",
    "table = pt.PrettyTable()\n",
    "table.field_names = [\"Measurement\", \"Percentile\"]\n",
    "\n",
    "for col in x.columns:\n",
    "    if x[col].values > 90 or x[col].values < 10:\n",
    "        table.add_row([f\"\\033[1m{col}\\033[0m\", f\"\\033[1m{int(x[col].values) if not np.isnan(x[col].values) else 'NaN'}% \\033[0m\"])\n",
    "    else:\n",
    "        table.add_row([col, f\"{int(x[col].values) if not np.isnan(x[col].values) else 'NaN'}%\"])\n",
    "\n",
    "\n",
    "print(\n",
    "f\" Date: {date} \\n\" ,\n",
    "f\"Station: {station} \\n\" , \n",
    "f\"Measurment: {y} \\n\"  , \n",
    "f\"Data: {data} \\n\" ,\n",
    "\"-----------------------------------------------------------\\n\",\n",
    "f\"                   Climatology \\n\" \n",
    ")\n",
    "\n",
    "print(table)"
   ]
  },
  {
   "cell_type": "markdown",
   "metadata": {
    "id": "WSL_YvCzM5WH"
   },
   "source": [
    "*Visual test suite*"
   ]
  },
  {
   "cell_type": "code",
   "execution_count": null,
   "metadata": {
    "id": "GwVbdIWlQzB3"
   },
   "outputs": [],
   "source": [
    "############################ Boxplots #########################################\n",
    "ff = pc \n",
    "x = ff.loc[ff['Datetime'] == \"2022-01-12\"]\n",
    "\n",
    "import plotly.express as px\n",
    "\n",
    "# Create a list of columns to be plotted\n",
    "columns_to_plot = [col for col in x.columns.values if col in ff.columns.values]\n",
    "\n",
    "# Create a list of values from x to be highlighted\n",
    "values_to_highlight = x[columns_to_plot].values.flatten().tolist()\n",
    "\n",
    "# Create a list of subplots\n",
    "figs = []\n",
    "# Loop through list of columns\n",
    "for col, v in zip(columns_to_plot,values_to_highlight) : \n",
    "  # Create a subplot for each column \n",
    "  fig = px.box(ff[col], orientation = \"v\",boxmode='group')\n",
    "  # Format the axes\n",
    "  fig.update_layout(title_text= f\"Boxplot for {col}\", xaxis_title='', yaxis_title='')\n",
    "  # Highlight the values from x\n",
    "  fig.add_scatter(x=[col], y=[v], name= f\"Selected Value \\n{col}\",\n",
    "                        mode = 'markers',\n",
    "                        marker_symbol = 'circle-dot',\n",
    "                        marker_size = 8,\n",
    "                        marker_color = 'red')\n",
    "  \n",
    "  # Add figure to list of subplots \n",
    "  figs.append(fig)\n",
    "\n",
    "# Show the plots\n",
    "for fig in figs:\n",
    "  fig.show()"
   ]
  },
  {
   "cell_type": "code",
   "execution_count": null,
   "metadata": {
    "id": "SDnpp8IWP7et"
   },
   "outputs": [],
   "source": [
    "# A function that calculates the percentiles of every column and their values\n",
    "\n",
    "def percentile_df(df):\n",
    "    for col in (df.columns):\n",
    "        df[f'{col}_pcta'] = df[col].rank(pct=True)\n",
    "        #df[f'{col}_pcta'] = df[col].rank(pct=True)[df[col] == value] *100\n",
    "\n",
    "    return df"
   ]
  },
  {
   "cell_type": "code",
   "execution_count": null,
   "metadata": {
    "id": "cpaD_Cs8QGBN"
   },
   "outputs": [],
   "source": [
    "gg = percentile_df(pc)\n",
    "gg = gg[[\"Datetime\", \"AirTemperature(C)\", \"AirTemperature(C)_pcta\"]]\n",
    "y = \"AirTemperature(C)\"\n",
    "y_pcta = \"AirTemperature(C)_pcta\""
   ]
  },
  {
   "cell_type": "code",
   "execution_count": null,
   "metadata": {
    "colab": {
     "base_uri": "https://localhost:8080/",
     "height": 542
    },
    "id": "iKnFra5QoDVG",
    "outputId": "3a39e8ff-950a-4bd4-f520-ab000ec7d0b1"
   },
   "outputs": [],
   "source": [
    "fig = go.Figure([\n",
    "    go.Scatter(\n",
    "        name='Air Pressure (hPa)',\n",
    "        x=gg['Datetime'],\n",
    "        y=gg[y],\n",
    "        mode='lines',\n",
    "        line=dict(color='rgb(31, 119, 180)'),\n",
    "    ),\n",
    "    go.Scatter(\n",
    "        name='Upper Bound (20-80)',\n",
    "        x=gg['Datetime'],\n",
    "        y=(gg[y] * (gg[y_pcta])),\n",
    "        mode='lines',\n",
    "        marker=dict(color=\"#00BB00\"),\n",
    "        line=dict(width=0),\n",
    "        showlegend=False\n",
    "    ),\n",
    "    go.Scatter(\n",
    "        name='Lower Bound (20-80)',\n",
    "        x=gg['Datetime'],\n",
    "        y=(gg[y] * (gg[y_pcta])),\n",
    "        marker=dict(color=\"#00BB00\"),\n",
    "        line=dict(width=0),\n",
    "        mode='lines',\n",
    "        fillcolor='rgba(0, 187, 0, 0.3)',\n",
    "        fill='tonexty',\n",
    "        showlegend=False\n",
    "    ),\n",
    "    go.Scatter(\n",
    "        name='Upper Bound (0-20 & 80-100)',\n",
    "        x=gg['Datetime'],\n",
    "        y=(gg[y] * (gg[y_pcta]  )),\n",
    "        mode='lines',\n",
    "        marker=dict(color=\"#BB0000\"),\n",
    "        line=dict(width=0),\n",
    "        showlegend=False\n",
    "    ),\n",
    "    go.Scatter(\n",
    "        name='Lower Bound (0-20 & 80-100)',\n",
    "        x=gg['Datetime'],\n",
    "        y=(gg[y] * (gg[y_pcta] )),\n",
    "        marker=dict(color=\"#BB0000\"),\n",
    "        line=dict(width=0),\n",
    "        mode='lines',\n",
    "        fillcolor='rgba(187, 0, 0, 0.3)',\n",
    "        fill='tonexty',\n",
    "        showlegend=False\n",
    "    )\n",
    "])\n",
    "fig.update_layout(\n",
    "    yaxis_title='Air Pressure (hPa)',\n",
    "    title='Continuous, variable value error bars',\n",
    "    hovermode=\"x\"\n",
    ")\n",
    "fig.show()"
   ]
  },
  {
   "cell_type": "code",
   "execution_count": null,
   "metadata": {
    "id": "KcfAwtxhsaIx"
   },
   "outputs": [],
   "source": [
    "gg.loc[(gg['Datetime'].dt.month == 12) & (gg['Datetime'].dt.day == 31)]"
   ]
  }
 ],
 "metadata": {
  "colab": {
   "provenance": []
  },
  "kernelspec": {
   "display_name": "base",
   "language": "python",
   "name": "python3"
  },
  "language_info": {
   "codemirror_mode": {
    "name": "ipython",
    "version": 3
   },
   "file_extension": ".py",
   "mimetype": "text/x-python",
   "name": "python",
   "nbconvert_exporter": "python",
   "pygments_lexer": "ipython3",
   "version": "3.9.16"
  },
  "vscode": {
   "interpreter": {
    "hash": "809dd00cb0b4cf7cf034b21fe0b3828c1cd05894ca0015867f4d20f1f520ae9d"
   }
  }
 },
 "nbformat": 4,
 "nbformat_minor": 1
}
