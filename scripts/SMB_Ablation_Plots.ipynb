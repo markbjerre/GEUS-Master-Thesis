{
 "cells": [
  {
   "cell_type": "markdown",
   "id": "93730cff",
   "metadata": {},
   "source": [
    "### This Script Plots the Ablation Curves"
   ]
  },
  {
   "cell_type": "markdown",
   "id": "ff492e22",
   "metadata": {},
   "source": [
    "import relevant Libraries"
   ]
  },
  {
   "cell_type": "code",
   "execution_count": null,
   "id": "3ad21a1a",
   "metadata": {},
   "outputs": [],
   "source": [
    "%pip install pyarrow\n",
    "%pip install plotly\n",
    "%pip install feature_engine\n",
    "%pip update pandas"
   ]
  },
  {
   "cell_type": "code",
   "execution_count": 2,
   "id": "a2b4b81e",
   "metadata": {},
   "outputs": [],
   "source": [
    "# Base libraries\n",
    "import pandas as pd\n",
    "import numpy as np\n",
    "import os\n",
    "import math as math\n",
    "import datetime\n",
    "from scipy import stats\n",
    "\n",
    "# Visualizations\n",
    "import matplotlib.pyplot as plt\n",
    "\n",
    "import plotly.express as px\n",
    "import plotly.graph_objects as go\n",
    "\n",
    "import seaborn as sns"
   ]
  },
  {
   "cell_type": "code",
   "execution_count": 3,
   "id": "c841226e",
   "metadata": {},
   "outputs": [],
   "source": [
    "import os\n",
    "from pyrsistent import v\n",
    "os.getcwd()\n",
    "#os.chdir('/Users/asgerlyngeholst-hansen/Desktop/GEUS-Master-Thesis/')\n",
    "#os.chdir('C:\\\\Users\\\\nifu18ab\\\\Desktop\\\\GEUS-Master-Thesis')\n",
    "os.chdir('/Users/nilsfulde/Desktop/GEUS-Master-Thesis')\n",
    "#os.chdir('/Users/nilsfulde/Desktop/Master_Thesis')"
   ]
  },
  {
   "cell_type": "markdown",
   "id": "b429cb13",
   "metadata": {},
   "source": [
    "Load new_promice_ablation Data"
   ]
  },
  {
   "cell_type": "code",
   "execution_count": 5,
   "id": "c3832452",
   "metadata": {},
   "outputs": [],
   "source": [
    "#Function for loading data and converting to datetime \n",
    "def load_promice(path_to_file): \n",
    "    '''' Loading PROMICE data for a given path into a DataFrame. + adding time index\n",
    "\n",
    "    INTPUTS:\n",
    "        path_to_file: Path to the desired file containing PROMICE data [string]\n",
    "\n",
    "    OUTPUTS:\n",
    "        df: Dataframe containing PROMICE data for the desired settings [DataFrame]\n",
    "    '''\n",
    "\n",
    "    df = pd.read_parquet(path_to_file, engine='pyarrow')\n",
    "    df['time'] = pd.to_datetime(df.time, utc=True)\n",
    "    df = df.set_index('time')\n",
    "    return df\n",
    "    df = load_promice('data/new_promice/all_promice_data_hourly.parquet.gzip')"
   ]
  },
  {
   "cell_type": "code",
   "execution_count": 6,
   "id": "2c466bc3",
   "metadata": {},
   "outputs": [],
   "source": [
    "df = load_promice('data/new_promice/all_promice_data_hourly.parquet.gzip')"
   ]
  },
  {
   "cell_type": "markdown",
   "id": "24983ecd",
   "metadata": {},
   "source": [
    "Plotting Function"
   ]
  },
  {
   "cell_type": "code",
   "execution_count": 1,
   "id": "6995f4e9",
   "metadata": {},
   "outputs": [
    {
     "ename": "NameError",
     "evalue": "name 'df' is not defined",
     "output_type": "error",
     "traceback": [
      "\u001b[0;31m---------------------------------------------------------------------------\u001b[0m",
      "\u001b[0;31mNameError\u001b[0m                                 Traceback (most recent call last)",
      "Input \u001b[0;32mIn [1]\u001b[0m, in \u001b[0;36m<cell line: 2>\u001b[0;34m()\u001b[0m\n\u001b[1;32m      1\u001b[0m \u001b[38;5;66;03m# This bit to plot the Melting seasons\u001b[39;00m\n\u001b[0;32m----> 2\u001b[0m \u001b[38;5;28;01mdef\u001b[39;00m \u001b[38;5;21mplt_srf_height\u001b[39m(Station, input_df \u001b[38;5;241m=\u001b[39m \u001b[43mdf\u001b[49m, y \u001b[38;5;241m=\u001b[39m df[\u001b[38;5;124m'\u001b[39m\u001b[38;5;124mSurface height from combined measurements\u001b[39m\u001b[38;5;124m'\u001b[39m], Period \u001b[38;5;241m=\u001b[39m \u001b[38;5;124m\"\u001b[39m\u001b[38;5;124mAll\u001b[39m\u001b[38;5;124m\"\u001b[39m ):\n\u001b[1;32m      4\u001b[0m     df \u001b[38;5;241m=\u001b[39m input_df\n\u001b[1;32m      6\u001b[0m     df \u001b[38;5;241m=\u001b[39m df[df[\u001b[38;5;124m'\u001b[39m\u001b[38;5;124mstid\u001b[39m\u001b[38;5;124m'\u001b[39m] \u001b[38;5;241m==\u001b[39m Station]\u001b[38;5;241m.\u001b[39mcopy() \n",
      "\u001b[0;31mNameError\u001b[0m: name 'df' is not defined"
     ]
    }
   ],
   "source": [
    "# This bit to plot the Melting seasons\n",
    "def plt_srf_height(Station, input_df = df, y = df['Surface height from combined measurements'], Period = \"All\" ):\n",
    "    \n",
    "    df = input_df\n",
    "    \n",
    "    df = df[df['stid'] == Station].copy() \n",
    "    \n",
    "    if Period == \"All\":\n",
    "        df = df\n",
    "    else:\n",
    "        start_date = Period[0]\n",
    "        end_date = Period[1]\n",
    "        df = df[df['Datetime'].between(start_date,end_date)]\n",
    "    \n",
    "    # Define the colors for the melting season categories\n",
    "    colors = {'': 'black', 'beginning': 'green', 'middle': 'orange', 'end': 'red'}\n",
    "        \n",
    "    # Define the x-axis and y-axis values\n",
    "    x = df['Datetime']\n",
    "    y = y\n",
    "\n",
    "    # Create a figure and axis object\n",
    "    fig, ax = plt.subplots(figsize=(25, 10))\n",
    "\n",
    "    # Iterate over the melting season categories\n",
    "    for category in ['', 'beginning', 'middle', 'end']:\n",
    "\n",
    "        # Get the indices where the Melting Season column matches the current category\n",
    "        indices = df[df['Melting Season'] == category].index\n",
    "\n",
    "        # Plot a scatter plot for the current category\n",
    "        ax.scatter(x[indices], y[indices], color=colors[category], alpha=0.7, label=category)\n",
    "\n",
    "    # Add a legend to the plot\n",
    "    ax.legend()\n",
    "\n",
    "    # Shade areas with \"Ablation\" = True\n",
    "    ablation_mask = df[\"Ablation\"]\n",
    "    ablation_starts = df[\"Datetime\"][ablation_mask & ~ablation_mask.shift(1, fill_value=False)]\n",
    "    ablation_ends = df[\"Datetime\"][ablation_mask & ~ablation_mask.shift(-1, fill_value=False)]\n",
    "    for start, end in zip(ablation_starts, ablation_ends):\n",
    "        ax.axvspan(start, end, color=\"yellow\", alpha=0.2)\n",
    "\n",
    "    # Set the title and axis labels\n",
    "    ax.set_title(pd.DataFrame(y).columns.to_list()[0])\n",
    "    ax.set_xlabel('Date')\n",
    "    ax.set_ylabel('Surface Height (m)')\n",
    "\n",
    "    # Show the plot\n",
    "    plt.show()"
   ]
  },
  {
   "cell_type": "code",
   "execution_count": null,
   "id": "63a3a321",
   "metadata": {},
   "outputs": [],
   "source": [
    "plt_srf_height(Station = \"KAN_M\", input_df = df) "
   ]
  },
  {
   "cell_type": "code",
   "execution_count": null,
   "id": "358e27af",
   "metadata": {},
   "outputs": [],
   "source": []
  }
 ],
 "metadata": {
  "kernelspec": {
   "display_name": "Python 3 (ipykernel)",
   "language": "python",
   "name": "python3"
  },
  "language_info": {
   "codemirror_mode": {
    "name": "ipython",
    "version": 3
   },
   "file_extension": ".py",
   "mimetype": "text/x-python",
   "name": "python",
   "nbconvert_exporter": "python",
   "pygments_lexer": "ipython3",
   "version": "3.8.8"
  }
 },
 "nbformat": 4,
 "nbformat_minor": 5
}
