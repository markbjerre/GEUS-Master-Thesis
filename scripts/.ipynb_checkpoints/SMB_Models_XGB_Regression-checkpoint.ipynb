{
 "cells": [
  {
   "cell_type": "markdown",
   "metadata": {},
   "source": [
    "# Surface Mass Balance: XGB "
   ]
  },
  {
   "cell_type": "markdown",
   "metadata": {
    "id": "FTbsuMgO3ery"
   },
   "source": [
    "Import relevant Libaries "
   ]
  },
  {
   "cell_type": "code",
   "execution_count": 1,
   "metadata": {
    "collapsed": true
   },
   "outputs": [
    {
     "name": "stdout",
     "output_type": "stream",
     "text": [
      "Requirement already satisfied: pyarrow in /Library/Frameworks/Python.framework/Versions/3.9/lib/python3.9/site-packages (11.0.0)\n",
      "Requirement already satisfied: numpy>=1.16.6 in /Library/Frameworks/Python.framework/Versions/3.9/lib/python3.9/site-packages (from pyarrow) (1.22.2)\n",
      "Note: you may need to restart the kernel to use updated packages.\n",
      "Requirement already satisfied: plotly in /Library/Frameworks/Python.framework/Versions/3.9/lib/python3.9/site-packages (5.13.0)\n",
      "Requirement already satisfied: tenacity>=6.2.0 in /Library/Frameworks/Python.framework/Versions/3.9/lib/python3.9/site-packages (from plotly) (8.2.1)\n",
      "Note: you may need to restart the kernel to use updated packages.\n",
      "Requirement already satisfied: feature_engine in /Library/Frameworks/Python.framework/Versions/3.9/lib/python3.9/site-packages (1.5.2)\n",
      "Requirement already satisfied: numpy>=1.18.2 in /Library/Frameworks/Python.framework/Versions/3.9/lib/python3.9/site-packages (from feature_engine) (1.22.2)\n",
      "Requirement already satisfied: scikit-learn>=1.0.0 in /Library/Frameworks/Python.framework/Versions/3.9/lib/python3.9/site-packages (from feature_engine) (1.2.1)\n",
      "Requirement already satisfied: pandas>=1.0.3 in /Library/Frameworks/Python.framework/Versions/3.9/lib/python3.9/site-packages (from feature_engine) (1.3.3)\n",
      "Requirement already satisfied: scipy>=1.4.1 in /Library/Frameworks/Python.framework/Versions/3.9/lib/python3.9/site-packages (from feature_engine) (1.5.4)\n",
      "Requirement already satisfied: statsmodels>=0.11.1 in /Library/Frameworks/Python.framework/Versions/3.9/lib/python3.9/site-packages (from feature_engine) (0.13.5)\n",
      "Requirement already satisfied: python-dateutil>=2.7.3 in /Library/Frameworks/Python.framework/Versions/3.9/lib/python3.9/site-packages (from pandas>=1.0.3->feature_engine) (2.8.1)\n",
      "Requirement already satisfied: pytz>=2017.3 in /Library/Frameworks/Python.framework/Versions/3.9/lib/python3.9/site-packages (from pandas>=1.0.3->feature_engine) (2020.4)\n",
      "Requirement already satisfied: joblib>=1.1.1 in /Library/Frameworks/Python.framework/Versions/3.9/lib/python3.9/site-packages (from scikit-learn>=1.0.0->feature_engine) (1.2.0)\n",
      "Requirement already satisfied: threadpoolctl>=2.0.0 in /Library/Frameworks/Python.framework/Versions/3.9/lib/python3.9/site-packages (from scikit-learn>=1.0.0->feature_engine) (2.1.0)\n",
      "Requirement already satisfied: patsy>=0.5.2 in /Library/Frameworks/Python.framework/Versions/3.9/lib/python3.9/site-packages (from statsmodels>=0.11.1->feature_engine) (0.5.3)\n",
      "Requirement already satisfied: packaging>=21.3 in /Library/Frameworks/Python.framework/Versions/3.9/lib/python3.9/site-packages (from statsmodels>=0.11.1->feature_engine) (23.0)\n",
      "Requirement already satisfied: six in /Library/Frameworks/Python.framework/Versions/3.9/lib/python3.9/site-packages (from patsy>=0.5.2->statsmodels>=0.11.1->feature_engine) (1.15.0)\n",
      "Note: you may need to restart the kernel to use updated packages.\n",
      "ERROR: unknown command \"update\"\n",
      "Note: you may need to restart the kernel to use updated packages.\n"
     ]
    }
   ],
   "source": [
    "%pip install pyarrow\n",
    "%pip install plotly\n",
    "%pip install feature_engine\n",
    "%pip update pandas"
   ]
  },
  {
   "cell_type": "code",
   "execution_count": 31,
   "metadata": {
    "id": "yJLqdDNx3j-Y"
   },
   "outputs": [],
   "source": [
    "# Base libraries\n",
    "import pandas as pd\n",
    "import numpy as np\n",
    "import os\n",
    "import math as math\n",
    "import datetime\n",
    "from scipy import stats\n",
    "\n",
    "# Visualizations\n",
    "import matplotlib.pyplot as plt\n",
    "\n",
    "import plotly.express as px\n",
    "import plotly.graph_objects as go\n",
    "\n",
    "import seaborn as sns\n",
    "\n",
    "# Set WD\n",
    "import os\n",
    "from pyrsistent import v\n",
    "os.getcwd()\n",
    "#os.chdir('/Users/asgerlyngeholst-hansen/Desktop/GEUS-Master-Thesis/')\n",
    "#os.chdir('C:\\\\Users\\\\nifu18ab\\\\Desktop\\\\GEUS-Master-Thesis')\n",
    "#os.chdir('/Users/nilsfulde/Desktop/GEUS-Master-Thesis')\n",
    "os.chdir('/Users/nilsfulde/Desktop/Master_Thesis')"
   ]
  },
  {
   "cell_type": "markdown",
   "metadata": {},
   "source": [
    "#### Load KM_L "
   ]
  },
  {
   "cell_type": "code",
   "execution_count": 69,
   "metadata": {},
   "outputs": [],
   "source": [
    "df = pd.read_csv('data/promice/preprocessed/daily/SCO_L.csv')"
   ]
  },
  {
   "cell_type": "markdown",
   "metadata": {},
   "source": [
    "##### Pre-processing (0.1: Change months to cycle)"
   ]
  },
  {
   "cell_type": "code",
   "execution_count": 70,
   "metadata": {},
   "outputs": [],
   "source": [
    "# This bit to change the datetime variables into a form that a ML models can understand\n",
    "  # https://ianlondon.github.io/blog/encoding-cyclical-features-24hour-time/\n",
    "  # https://feature-engine.trainindata.com/en/1.3.x/user_guide/creation/CyclicalFeatures.html\n",
    "    \n",
    "    \n",
    "# This bit to split Datetime column into year, month, day, hour columns\n",
    "df['Datetime'] = pd.to_datetime(df['Datetime'])\n",
    "df['Datetime'] = df['Datetime'].dt.strftime('%Y-%m-%d')\n",
    "\n",
    "df['Datetime'] = pd.to_datetime(df['Datetime'])\n",
    "\n",
    "#Create new columns\n",
    "df['year'] = df['Datetime'].dt.year \n",
    "df['month'] = df['Datetime'].dt.month\n",
    "#df['day'] = df['Datetime'].dt.day\n",
    "#df['hour'] = df['Datetime'].dt.hour\n",
    "\n",
    "#Drop the datetime column\n",
    "df.drop(columns=['Datetime'], inplace=True)"
   ]
  },
  {
   "cell_type": "code",
   "execution_count": 71,
   "metadata": {},
   "outputs": [],
   "source": [
    "# This bit to change the datetime variables into a form that a ML models can understand (continued)\n",
    "  # https://ianlondon.github.io/blog/encoding-cyclical-features-24hour-time/\n",
    "  # https://feature-engine.trainindata.com/en/1.3.x/user_guide/creation/CyclicalFeatures.html \n",
    "\n",
    "# Use CyclicalFeatures Package to convert year, month, day & hour\n",
    "from feature_engine.creation import CyclicalFeatures\n",
    "\n",
    "cyclical = CyclicalFeatures(variables=None, drop_original=True)\n",
    "\n",
    "# Remove only values from Wind direction because CyclicalFeatures does not work with NA values\n",
    "df = df[df['Wind from direction (upper boom)'].notna()] \n",
    "\n",
    "# with year\n",
    "#cyclical = cyclical.fit_transform(df[['month', 'year', 'Wind from direction (upper boom)']]) \n",
    "\n",
    "# without year\n",
    "cyclical = cyclical.fit_transform(df[['month', 'Wind from direction (upper boom)']]) \n",
    "df = pd.merge(df, cyclical, left_index=True, right_index=True)\n",
    "\n",
    "df.drop(columns=['month', 'Wind from direction (upper boom)'], inplace=True)"
   ]
  },
  {
   "cell_type": "markdown",
   "metadata": {},
   "source": [
    "##### Pre-processing (1.0: Filter relevant periods)"
   ]
  },
  {
   "cell_type": "code",
   "execution_count": 72,
   "metadata": {},
   "outputs": [],
   "source": [
    "# Fill NA values in Melting season as blank\n",
    "df['Melting Season'] = df['Melting Season'].fillna('')"
   ]
  },
  {
   "cell_type": "code",
   "execution_count": 73,
   "metadata": {},
   "outputs": [],
   "source": [
    "#Only Ablation Period Or Melting Season\n",
    "#df = df[df['Ablation'] == True]\n",
    "#df =  df[df['Melting Season'].isin(['pre', 'beginning', 'middle', 'end'])]\n",
    "\n",
    "#Remove all NA values if training should be done only on ablation\n",
    "#df = df.dropna()\n",
    "\n",
    "df = df.reset_index(drop=True)"
   ]
  },
  {
   "cell_type": "code",
   "execution_count": 74,
   "metadata": {},
   "outputs": [],
   "source": [
    "# This bit retrieve the indexes for all melting season categories and remove column from df\n",
    "for category in ['pre', 'beginning', 'middle', 'end']:\n",
    "    exec(f\"indices_{category} = df[df['Melting Season'] == '{category}'].index\")\n",
    "\n",
    "# This bit retrieve the indexes for Ablation periods\n",
    "for category in [True]:\n",
    "    exec(f\"indices_ablation = df[df['Ablation'] == {category}].index\")\n",
    "\n",
    "indices_all = df[df['Ablation'].isin([True, False])].index"
   ]
  },
  {
   "cell_type": "markdown",
   "metadata": {},
   "source": [
    "##### Pre-processing (2.0: Formatting and transformation)"
   ]
  },
  {
   "cell_type": "code",
   "execution_count": 75,
   "metadata": {},
   "outputs": [
    {
     "data": {
      "text/plain": [
       "{'': 0, 'beginning': 1, 'end': 2, 'middle': 3, 'pre': 4}"
      ]
     },
     "execution_count": 75,
     "metadata": {},
     "output_type": "execute_result"
    }
   ],
   "source": [
    "from sklearn.preprocessing import LabelEncoder\n",
    " \n",
    "# Creating a instance of label Encoder.\n",
    "le = LabelEncoder()\n",
    " \n",
    "# Using .fit_transform function to fit label\n",
    "# encoder and return encoded label\n",
    "df['Melting Season'] = le.fit_transform(df['Melting Season'])\n",
    "dict(zip(le.classes_, le.transform(le.classes_)))"
   ]
  },
  {
   "cell_type": "code",
   "execution_count": 76,
   "metadata": {},
   "outputs": [],
   "source": [
    "# This bit to include only relevant features\n",
    "exclude_list = [                                                    'index', # excluded because of unimportant information\n",
    "                                                                     'stid', # excluded because of unimportant information\n",
    "                                                               'Unnamed: 0', # Old Index\n",
    "                                                                 'Ablation',\n",
    "                                                          # 'Melting Season', # We drop melting season later \n",
    "                                               'month','day', 'hour', # Drop because of sin & cos values\n",
    "#                'year',\n",
    "                                                                 'subgroup'\n",
    "               ]\n",
    "\n",
    "df = df[[column for column in df.columns if column not in exclude_list]]\n"
   ]
  },
  {
   "cell_type": "code",
   "execution_count": 77,
   "metadata": {},
   "outputs": [],
   "source": [
    "# This bit to convert all numerical values into the same scale \n",
    "from sklearn.preprocessing import StandardScaler, MinMaxScaler, RobustScaler\n",
    "\n",
    "\n",
    "scalers = [StandardScaler(), MinMaxScaler(), RobustScaler()]\n",
    "\n",
    "# with year\n",
    "num_cols = df.select_dtypes(include=['int64','float64']).drop(['Surface height from combined measurements', 'Surface height from combined measurements DELTA','month_sin','month_cos','year', 'Wind from direction (upper boom)_sin', 'Wind from direction (upper boom)_cos', 'Melting Season'], axis=1).columns #select numerical columns except y and cyclical feature\n",
    "\n",
    "# without year\n",
    "#num_cols = df.select_dtypes(include=['int64','float64']).drop(['Surface height from combined measurements', 'Surface height from combined measurements DELTA','month_sin','month_cos','Wind from direction (upper boom)_sin', 'Wind from direction (upper boom)_cos', 'Melting Season'], axis=1).columns #select numerical columns except y and cyclical feature\n",
    "\n",
    "scaler = MinMaxScaler()\n",
    "\n",
    "#fit and transform numerical columns\n",
    "df[num_cols] = scaler.fit_transform(df[num_cols])"
   ]
  },
  {
   "cell_type": "code",
   "execution_count": 78,
   "metadata": {},
   "outputs": [],
   "source": [
    "df = df[['Surface height from combined measurements','Surface height from combined measurements DELTA' ,'Melting Season' ,'year' ,'month_sin' ,'month_cos']]\n",
    "\n"
   ]
  },
  {
   "cell_type": "code",
   "execution_count": 79,
   "metadata": {},
   "outputs": [],
   "source": [
    "# This bit to split into Train & Test\n",
    "from sklearn.model_selection import train_test_split\n",
    "from sklearn.model_selection import StratifiedShuffleSplit\n",
    "\n",
    "# split the data into training and testing sets while maintaining the subgroup distribution\n",
    "split = StratifiedShuffleSplit(n_splits=1, test_size=0.3, random_state=42)\n",
    "\n",
    "### Delta ###\n",
    "df_delta = df[[column for column in df.columns if column not in [\"Surface height from combined measurements\"]]]\n",
    "\n",
    "for train_index, test_index in split.split(df_delta, df_delta['Melting Season']):\n",
    "    delta_train = df_delta.loc[train_index]\n",
    "    delta_test = df_delta.loc[test_index]\n",
    "\n",
    "# separate the features and target variables for the train and test sets\n",
    "X_delta_train = delta_train.drop(['Surface height from combined measurements DELTA', 'Melting Season'], axis=1)\n",
    "y_delta_train = delta_train['Surface height from combined measurements DELTA']\n",
    "X_delta_test = delta_test.drop(['Surface height from combined measurements DELTA', 'Melting Season'], axis=1)\n",
    "y_delta_test = delta_test['Surface height from combined measurements DELTA']\n",
    "\n",
    "### Absolute ###\n",
    "df_absolute = df[[column for column in df.columns if column not in [\"Surface height from combined measurements DELTA\"]]]\n",
    "\n",
    "for train_index, test_index in split.split(df_absolute, df_absolute['Melting Season']):\n",
    "    absolute_train = df_absolute.loc[train_index]\n",
    "    absolute_test = df_absolute.loc[test_index]\n",
    "\n",
    "# separate the features and target variables for the train and test sets\n",
    "X_absolute_train = absolute_train.drop(['Surface height from combined measurements', 'Melting Season'], axis=1)\n",
    "y_absolute_train = absolute_train['Surface height from combined measurements']\n",
    "X_absolute_test = absolute_test.drop(['Surface height from combined measurements', 'Melting Season'], axis=1)\n",
    "y_absolute_test = absolute_test['Surface height from combined measurements']\n"
   ]
  },
  {
   "cell_type": "markdown",
   "metadata": {},
   "source": [
    "## XGB Regression"
   ]
  },
  {
   "cell_type": "code",
   "execution_count": 80,
   "metadata": {},
   "outputs": [],
   "source": [
    "# Import required libraries\n",
    "import xgboost as xgb\n",
    "from sklearn.metrics import r2_score\n",
    "from sklearn.metrics import mean_squared_error\n",
    "from sklearn.model_selection import GridSearchCV"
   ]
  },
  {
   "cell_type": "code",
   "execution_count": 81,
   "metadata": {},
   "outputs": [
    {
     "name": "stdout",
     "output_type": "stream",
     "text": [
      "Best hyperparameters_delta:  {'colsample_bytree': 0.7, 'learning_rate': 0.1, 'max_depth': 7, 'min_child_weight': 5, 'n_estimators': 100, 'reg_alpha': 0.5, 'reg_lambda': 0.1, 'subsample': 0.5}\n",
      "R^2 score on test set (delta):  0.001959650979504568\n",
      "MSE on test set (delta):  0.005178204288227521\n",
      "Best hyperparameters_absolute:  {'colsample_bytree': 0.7, 'learning_rate': 0.1, 'max_depth': 7, 'min_child_weight': 5, 'n_estimators': 100, 'reg_alpha': 0.5, 'reg_lambda': 0.1, 'subsample': 0.5}\n",
      "R^2 score on test set (absolute):  0.9989869972432538\n",
      "MSE on test set (absolute):  0.12347500793316861\n"
     ]
    }
   ],
   "source": [
    "# This bit to find best XBG Regressor model for when Ablation == True and for both target variables\n",
    "\n",
    "for i in [\"delta\",\"absolute\"]:\n",
    "    \n",
    "    indices = eval(f\"indices_ablation\")  # Get the indices for the current category\n",
    "\n",
    "    # Find common indexes\n",
    "    X_Train_valid_indices = indices.intersection(eval(f\"X_{i}_train\").index)\n",
    "    y_Train_valid_indices = indices.intersection(eval(f\"y_{i}_train\").index)\n",
    "    X_Test_valid_indices = indices.intersection(eval(f\"X_{i}_test\").index)\n",
    "    y_Test_valid_indices = indices.intersection(eval(f\"y_{i}_test\").index)\n",
    "\n",
    "    # filter out by indeces\n",
    "    X_train_category = eval(f\"X_{i}_train\").loc[X_Train_valid_indices]  \n",
    "    y_train_category = eval(f\"y_{i}_train\").loc[y_Train_valid_indices] \n",
    "    X_test_category = eval(f\"X_{i}_test\").loc[X_Test_valid_indices]  \n",
    "    y_test_category = eval(f\"y_{i}_test\").loc[y_Test_valid_indices]\n",
    "    \n",
    "    # Define the XGBRegressor model\n",
    "    #model = xgb.XGBRegressor()\n",
    "    exec(f\"model_{i} = xgb.XGBRegressor()\")\n",
    "    \n",
    "    # Define the hyperparameter grid for tuning\n",
    "    param_grid = {\n",
    "        'max_depth': [7], #[3, 5, 7],\n",
    "        'min_child_weight': [5], #[1, 3, 5],\n",
    "        'learning_rate': [0.1], #[0.1, 0.01, 0.001],\n",
    "        'n_estimators': [100], #[100, 500, 1000],\n",
    "        'subsample': [0.5], #[0.5, 0.7, 1.0],\n",
    "        'colsample_bytree': [0.7], #[0.5, 0.7, 1.0],\n",
    "        'reg_alpha': [0.5], #[0, 0.1, 0.5],\n",
    "        'reg_lambda': [0.1], #[0, 0.1, 0.5]\n",
    "    }\n",
    "\n",
    "    # Define the grid search object\n",
    "    grid_search = GridSearchCV(eval(f\"model_{i}\"), param_grid = param_grid, cv=5, n_jobs=-1, verbose=0)\n",
    "\n",
    "    # Fit the grid search object to the training data\n",
    "    grid_search.fit(X_train_category, y_train_category)\n",
    "    \n",
    "    # Print the best hyperparameters and the corresponding R^2 score on the test set\n",
    "    print(f\"Best hyperparameters_{i}: \", grid_search.best_params_)\n",
    "    \n",
    "    # Save the best model parameters as 'model' variable\n",
    "    exec(f\"model_{i} = grid_search.best_estimator_\")\n",
    "    \n",
    "    # Evaluate the best model on the test set\n",
    "    y_pred_category = eval(f\"model_{i}\").predict(X_test_category)\n",
    "    r2 = r2_score(y_test_category, y_pred_category)\n",
    "    mse = mean_squared_error(y_test_category, y_pred_category)\n",
    "    print(f\"R^2 score on test set ({i}): \", r2)\n",
    "    print(f\"MSE on test set ({i}): \", mse)"
   ]
  },
  {
   "cell_type": "code",
   "execution_count": 82,
   "metadata": {},
   "outputs": [
    {
     "name": "stdout",
     "output_type": "stream",
     "text": [
      "R^2 score on test set:  0.001959650979504568\n",
      "MSE on test set:  0.005178204288227521\n"
     ]
    }
   ],
   "source": [
    "# This bit to see output of the best delta model\n",
    "\n",
    "indices = eval(f\"indices_ablation\")\n",
    "\n",
    "# Find common indexes\n",
    "X_Test_valid_indices = indices.intersection(X_delta_test.index)\n",
    "y_Test_valid_indices = indices.intersection(y_delta_test.index)\n",
    "\n",
    "# filter out by indeces\n",
    "X_test_category = X_delta_test.loc[X_Test_valid_indices]  \n",
    "y_test_category = y_delta_test.loc[y_Test_valid_indices]\n",
    "\n",
    "y_pred_category = model_delta.predict(X_test_category)\n",
    "r2 = r2_score(y_test_category, y_pred_category)\n",
    "mse = mean_squared_error(y_test_category, y_pred_category)\n",
    "print(f\"R^2 score on test set: \", r2)\n",
    "print(f\"MSE on test set: \", mse)"
   ]
  },
  {
   "cell_type": "code",
   "execution_count": 84,
   "metadata": {},
   "outputs": [
    {
     "name": "stdout",
     "output_type": "stream",
     "text": [
      "R^2 score on test set:  0.9880669458544213\n",
      "MSE on test set:  1.3869122474196862\n",
      "     Feature  Importance\n",
      "0       year    0.962704\n",
      "1  month_sin    0.035625\n",
      "2  month_cos    0.001671\n"
     ]
    },
    {
     "data": {
      "image/png": "[encoded data removed]",
      "text/plain": [
       "<Figure size 576x432 with 1 Axes>"
      ]
     },
     "metadata": {
      "needs_background": "light"
     },
     "output_type": "display_data"
    }
   ],
   "source": [
    "# This bit to see output of the best absolute model\n",
    "\n",
    "indices = eval(f\"indices_all\")\n",
    "\n",
    "# Find common indexes\n",
    "X_Test_valid_indices = indices.intersection(X_absolute_test.index)\n",
    "y_Test_valid_indices = indices.intersection(y_absolute_test.index)\n",
    "\n",
    "# filter out by indeces\n",
    "X_test_category = X_absolute_test.loc[X_Test_valid_indices]  \n",
    "y_test_category = y_absolute_test.loc[y_Test_valid_indices]\n",
    "\n",
    "y_pred_category = model_absolute.predict(X_test_category)\n",
    "r2 = r2_score(y_test_category, y_pred_category)\n",
    "mse = mean_squared_error(y_test_category, y_pred_category)\n",
    "print(f\"R^2 score on test set: \", r2)\n",
    "print(f\"MSE on test set: \", mse)\n",
    "\n",
    "# Get the feature importance scores and plot them\n",
    "feature_importance = pd.DataFrame({'Feature': X_absolute_train.columns, 'Importance': model_absolute.feature_importances_})\n",
    "feature_importance = feature_importance.sort_values('Importance', ascending=False).reset_index(drop=True)\n",
    "print(feature_importance)\n",
    "feature_importance = feature_importance.head(5)\n",
    "\n",
    "# Plot the feature importance scores\n",
    "import matplotlib.pyplot as plt\n",
    "plt.figure(figsize=(8, 6))\n",
    "plt.barh(feature_importance['Feature'], feature_importance['Importance'])\n",
    "plt.xlabel('Importance')\n",
    "plt.ylabel('Feature')\n",
    "plt.title(f'Feature Importance (all)')\n",
    "plt.yticks(fontsize=17)  \n",
    "plt.show()"
   ]
  },
  {
   "cell_type": "markdown",
   "metadata": {},
   "source": [
    "## Filter by Melting Season and get feature importances Fitting Seasons again"
   ]
  },
  {
   "cell_type": "code",
   "execution_count": 85,
   "metadata": {},
   "outputs": [
    {
     "name": "stdout",
     "output_type": "stream",
     "text": [
      "R^2 score on test set (pre):  -0.12116718189777465\n",
      "MSE on test set (pre):  0.011283556524182671\n",
      "     Feature  Importance\n",
      "0       year    0.473149\n",
      "1  month_sin    0.359544\n",
      "2  month_cos    0.167306\n"
     ]
    },
    {
     "data": {
      "image/png": "[encoded data removed]",
      "text/plain": [
       "<Figure size 576x432 with 1 Axes>"
      ]
     },
     "metadata": {
      "needs_background": "light"
     },
     "output_type": "display_data"
    },
    {
     "name": "stdout",
     "output_type": "stream",
     "text": [
      "R^2 score on test set (beginning):  -0.027772601194115953\n",
      "MSE on test set (beginning):  0.03167810674502264\n",
      "     Feature  Importance\n",
      "0       year    0.473149\n",
      "1  month_sin    0.359544\n",
      "2  month_cos    0.167306\n"
     ]
    },
    {
     "data": {
      "image/png": "[encoded data removed]",
      "text/plain": [
       "<Figure size 576x432 with 1 Axes>"
      ]
     },
     "metadata": {
      "needs_background": "light"
     },
     "output_type": "display_data"
    },
    {
     "name": "stdout",
     "output_type": "stream",
     "text": [
      "R^2 score on test set (middle):  0.13290959789210077\n",
      "MSE on test set (middle):  0.0003341035627209038\n",
      "     Feature  Importance\n",
      "0       year    0.473149\n",
      "1  month_sin    0.359544\n",
      "2  month_cos    0.167306\n"
     ]
    },
    {
     "data": {
      "image/png": "[encoded data removed]",
      "text/plain": [
       "<Figure size 576x432 with 1 Axes>"
      ]
     },
     "metadata": {
      "needs_background": "light"
     },
     "output_type": "display_data"
    },
    {
     "name": "stdout",
     "output_type": "stream",
     "text": [
      "R^2 score on test set (end):  -0.1648879727553354\n",
      "MSE on test set (end):  0.0027359772987951207\n",
      "     Feature  Importance\n",
      "0       year    0.473149\n",
      "1  month_sin    0.359544\n",
      "2  month_cos    0.167306\n"
     ]
    },
    {
     "data": {
      "image/png": "[encoded data removed]",
      "text/plain": [
       "<Figure size 576x432 with 1 Axes>"
      ]
     },
     "metadata": {
      "needs_background": "light"
     },
     "output_type": "display_data"
    }
   ],
   "source": [
    "### This bit for delta\n",
    "for category in ['pre', 'beginning', 'middle', 'end']:\n",
    "    indices = eval(f\"indices_{category}\")  # Get the indices for the current category\n",
    "\n",
    "    # Find common indexes\n",
    "    X_Train_valid_indices = indices.intersection(X_delta_train.index)\n",
    "    y_Train_valid_indices = indices.intersection(y_delta_train.index)\n",
    "    X_Test_valid_indices = indices.intersection(X_delta_test.index)\n",
    "    y_Test_valid_indices = indices.intersection(y_delta_test.index)\n",
    "\n",
    "    # filter out by indeces\n",
    "    X_train_category = X_delta_train.loc[X_Train_valid_indices]\n",
    "    y_train_category = y_delta_train.loc[y_Train_valid_indices]\n",
    "    X_test_category = X_delta_test.loc[X_Test_valid_indices]\n",
    "    y_test_category = y_delta_test.loc[y_Test_valid_indices]\n",
    "\n",
    "    # Apply XGB on all periods  \n",
    "    #model_delta.fit(X_train_category, y_train_category)  # Fit a new model on each subset\n",
    "    y_pred_category = model_delta.predict(X_test_category)\n",
    "\n",
    "    r2 = r2_score(y_test_category, y_pred_category)\n",
    "    mse = mean_squared_error(y_test_category, y_pred_category)\n",
    "    print(f\"R^2 score on test set ({category}): \", r2)\n",
    "    print(f\"MSE on test set ({category}): \", mse)\n",
    "\n",
    "    # Get the feature importance scores and plot them\n",
    "    feature_importance = pd.DataFrame({'Feature': X_delta_train.columns, 'Importance': model_delta.feature_importances_})\n",
    "    feature_importance = feature_importance.sort_values('Importance', ascending=False).reset_index(drop=True)\n",
    "    print(feature_importance)\n",
    "\n",
    "    # Plot the feature importance scores\n",
    "    import matplotlib.pyplot as plt\n",
    "    plt.figure(figsize=(8, 6))\n",
    "    plt.barh(feature_importance['Feature'], feature_importance['Importance'])\n",
    "    plt.xlabel('Importance')\n",
    "    plt.ylabel('Feature')\n",
    "    plt.title(f'Feature Importance ({category})')\n",
    "    plt.show()\n"
   ]
  },
  {
   "cell_type": "code",
   "execution_count": 86,
   "metadata": {},
   "outputs": [
    {
     "name": "stdout",
     "output_type": "stream",
     "text": [
      "R^2 score on test set (pre):  0.992480800845072\n",
      "MSE on test set (pre):  0.7952142872467193\n",
      "     Feature  Importance\n",
      "0       year    0.962704\n",
      "1  month_sin    0.035625\n",
      "2  month_cos    0.001671\n"
     ]
    },
    {
     "data": {
      "image/png": "[encoded data removed]",
      "text/plain": [
       "<Figure size 576x432 with 1 Axes>"
      ]
     },
     "metadata": {
      "needs_background": "light"
     },
     "output_type": "display_data"
    },
    {
     "name": "stdout",
     "output_type": "stream",
     "text": [
      "R^2 score on test set (beginning):  0.998109769306566\n",
      "MSE on test set (beginning):  0.23200171466029135\n",
      "     Feature  Importance\n",
      "0       year    0.962704\n",
      "1  month_sin    0.035625\n",
      "2  month_cos    0.001671\n"
     ]
    },
    {
     "data": {
      "image/png": "[encoded data removed]",
      "text/plain": [
       "<Figure size 576x432 with 1 Axes>"
      ]
     },
     "metadata": {
      "needs_background": "light"
     },
     "output_type": "display_data"
    },
    {
     "name": "stdout",
     "output_type": "stream",
     "text": [
      "R^2 score on test set (middle):  0.9990618106021815\n",
      "MSE on test set (middle):  0.11082417733506854\n",
      "     Feature  Importance\n",
      "0       year    0.962704\n",
      "1  month_sin    0.035625\n",
      "2  month_cos    0.001671\n"
     ]
    },
    {
     "data": {
      "image/png": "[encoded data removed]",
      "text/plain": [
       "<Figure size 576x432 with 1 Axes>"
      ]
     },
     "metadata": {
      "needs_background": "light"
     },
     "output_type": "display_data"
    },
    {
     "name": "stdout",
     "output_type": "stream",
     "text": [
      "R^2 score on test set (end):  0.9994231368950501\n",
      "MSE on test set (end):  0.0777758831208468\n",
      "     Feature  Importance\n",
      "0       year    0.962704\n",
      "1  month_sin    0.035625\n",
      "2  month_cos    0.001671\n"
     ]
    },
    {
     "data": {
      "image/png": "[encoded data removed]",
      "text/plain": [
       "<Figure size 576x432 with 1 Axes>"
      ]
     },
     "metadata": {
      "needs_background": "light"
     },
     "output_type": "display_data"
    }
   ],
   "source": [
    "### This bit for absolute\n",
    "for category in ['pre', 'beginning', 'middle', 'end']:\n",
    "    indices = eval(f\"indices_{category}\")  # Get the indices for the current category\n",
    "\n",
    "    # Find common indexes\n",
    "    X_Train_valid_indices = indices.intersection(X_absolute_train.index)\n",
    "    y_Train_valid_indices = indices.intersection(y_absolute_train.index)\n",
    "    X_Test_valid_indices = indices.intersection(X_absolute_test.index)\n",
    "    y_Test_valid_indices = indices.intersection(y_absolute_test.index)\n",
    "\n",
    "    # filter out by indeces\n",
    "    X_train_category = X_absolute_train.loc[X_Train_valid_indices]\n",
    "    y_train_category = y_absolute_train.loc[y_Train_valid_indices]\n",
    "    X_test_category = X_absolute_test.loc[X_Test_valid_indices]\n",
    "    y_test_category = y_absolute_test.loc[y_Test_valid_indices]\n",
    "\n",
    "    # Apply XGB on all periods  \n",
    "    #model_absolute.fit(X_train_category, y_train_category)  # Fit a new model on each subset\n",
    "    y_pred_category = model_absolute.predict(X_test_category)\n",
    "\n",
    "    r2 = r2_score(y_test_category, y_pred_category)\n",
    "    mse = mean_squared_error(y_test_category, y_pred_category)\n",
    "    print(f\"R^2 score on test set ({category}): \", r2)\n",
    "    print(f\"MSE on test set ({category}): \", mse)\n",
    "\n",
    "    # Get the feature importance scores and plot them\n",
    "    feature_importance = pd.DataFrame({'Feature': X_absolute_train.columns, 'Importance': model_absolute.feature_importances_})\n",
    "    feature_importance = feature_importance.sort_values('Importance', ascending=False).reset_index(drop=True)\n",
    "    print(feature_importance)\n",
    "    feature_importance = feature_importance.head(5)\n",
    "\n",
    "    # Plot the feature importance scores\n",
    "    import matplotlib.pyplot as plt\n",
    "    plt.figure(figsize=(8, 6))\n",
    "    plt.barh(feature_importance['Feature'], feature_importance['Importance'])\n",
    "    plt.xlabel('Importance')\n",
    "    plt.ylabel('Feature')\n",
    "    plt.title(f'Feature Importance ({category})')\n",
    "    plt.yticks(fontsize=17)  \n",
    "    plt.show()\n"
   ]
  },
  {
   "cell_type": "markdown",
   "metadata": {},
   "source": [
    "## Filter by Melting Season and get feature importances using SHAP"
   ]
  },
  {
   "cell_type": "code",
   "execution_count": null,
   "metadata": {},
   "outputs": [],
   "source": [
    "import shap"
   ]
  },
  {
   "cell_type": "code",
   "execution_count": null,
   "metadata": {},
   "outputs": [],
   "source": [
    "### This bit for delta\n",
    "for category in ['pre', 'beginning', 'middle', 'end']:\n",
    "    indices = eval(f\"indices_{category}\")  # Get the indices for the current category\n",
    "\n",
    "    # Find common indexes\n",
    "    X_Train_valid_indices = indices.intersection(X_delta_train.index)\n",
    "    y_Train_valid_indices = indices.intersection(y_delta_train.index)\n",
    "    X_Test_valid_indices = indices.intersection(X_delta_test.index)\n",
    "    y_Test_valid_indices = indices.intersection(y_delta_test.index)\n",
    "\n",
    "    # filter out by indeces\n",
    "    X_train_category = X_delta_train.loc[X_Train_valid_indices]\n",
    "    y_train_category = y_delta_train.loc[y_Train_valid_indices]\n",
    "    X_test_category = X_delta_test.loc[X_Test_valid_indices]\n",
    "    y_test_category = y_delta_test.loc[y_Test_valid_indices]\n",
    "\n",
    "    # Apply XGB on all periods  \n",
    "    #model_absolute.fit(X_train_category, y_train_category)  # Fit a new model on each subset\n",
    "    y_pred_category = model_delta.predict(X_test_category)\n",
    "\n",
    "    r2 = r2_score(y_test_category, y_pred_category)\n",
    "    mse = mean_squared_error(y_test_category, y_pred_category)\n",
    "    print(f\"R^2 score on test set ({category}): \", r2)\n",
    "    print(f\"MSE on test set ({category}): \", mse)\n",
    "    \n",
    "    explainer = shap.TreeExplainer(model_delta)\n",
    "    shap_values = explainer.shap_values(X_test_category, approximate=True)\n",
    "    \n",
    "    # Display top 5 features and SHAP values\n",
    "    feature_importances = pd.Series(abs(shap_values).mean(0), index=X_test_category.columns)\n",
    "    top_features = feature_importances.nlargest(5)\n",
    "    shap_values_top = [shap_values[i] for i in np.where(feature_importances.index.isin(top_features.index))[0]]\n",
    "    df_shap = pd.DataFrame(np.transpose(shap_values_top), columns=top_features.index)\n",
    "    print(f\"Top 5 important features for {category} period:\")\n",
    "    display(top_features)\n",
    "    \n",
    "    shap.summary_plot(shap_values, X_test_category, plot_type=\"bar\", feature_names=X_test_category.columns, max_display=5, show=False)\n",
    "    plt.title(f\"Top 5 important features for {category} period\")\n",
    "    plt.show()\n"
   ]
  },
  {
   "cell_type": "code",
   "execution_count": 115,
   "metadata": {},
   "outputs": [
    {
     "name": "stdout",
     "output_type": "stream",
     "text": [
      "R^2 score on test set (pre):  -0.4007516507450277\n",
      "MSE on test set (pre):  148.14047381985162\n",
      "Top 5 important features for pre period:\n"
     ]
    },
    {
     "name": "stderr",
     "output_type": "stream",
     "text": [
      "ntree_limit is deprecated, use `iteration_range` or model slicing instead.\n"
     ]
    },
    {
     "data": {
      "text/plain": [
       "Albedo                                         5.032064\n",
       "Wind from direction (upper boom)_sin           3.231101\n",
       "Downwelling shortwave radiation - corrected    2.305226\n",
       "Surface temperature                            2.277392\n",
       "Wind speed (upper boom)                        1.938527\n",
       "dtype: float32"
      ]
     },
     "metadata": {},
     "output_type": "display_data"
    },
    {
     "data": {
      "image/png": "[encoded data removed]",
      "text/plain": [
       "<Figure size 576x252 with 1 Axes>"
      ]
     },
     "metadata": {
      "needs_background": "light"
     },
     "output_type": "display_data"
    },
    {
     "name": "stdout",
     "output_type": "stream",
     "text": [
      "R^2 score on test set (beginning):  0.7638248964187837\n",
      "MSE on test set (beginning):  28.987482417489076\n",
      "Top 5 important features for beginning period:\n"
     ]
    },
    {
     "name": "stderr",
     "output_type": "stream",
     "text": [
      "ntree_limit is deprecated, use `iteration_range` or model slicing instead.\n"
     ]
    },
    {
     "data": {
      "text/plain": [
       "Albedo                                  3.739708\n",
       "Wind from direction (upper boom)_sin    3.099432\n",
       "Surface temperature                     1.865306\n",
       "Specific humidity (upper boom)          1.530064\n",
       "Wind speed (upper boom)                 1.234332\n",
       "dtype: float32"
      ]
     },
     "metadata": {},
     "output_type": "display_data"
    },
    {
     "data": {
      "image/png": "[encoded data removed]",
      "text/plain": [
       "<Figure size 576x252 with 1 Axes>"
      ]
     },
     "metadata": {
      "needs_background": "light"
     },
     "output_type": "display_data"
    },
    {
     "name": "stdout",
     "output_type": "stream",
     "text": [
      "R^2 score on test set (middle):  0.7239112179859688\n",
      "MSE on test set (middle):  32.61315061680491\n",
      "Top 5 important features for middle period:\n"
     ]
    },
    {
     "name": "stderr",
     "output_type": "stream",
     "text": [
      "ntree_limit is deprecated, use `iteration_range` or model slicing instead.\n"
     ]
    },
    {
     "data": {
      "text/plain": [
       "Wind from direction (upper boom)_sin    3.341060\n",
       "Albedo                                  2.215878\n",
       "Surface temperature                     2.113502\n",
       "Specific humidity (upper boom)          2.072901\n",
       "Air temperature (upper boom)            0.977840\n",
       "dtype: float32"
      ]
     },
     "metadata": {},
     "output_type": "display_data"
    },
    {
     "data": {
      "image/png": "[encoded data removed]",
      "text/plain": [
       "<Figure size 576x252 with 1 Axes>"
      ]
     },
     "metadata": {
      "needs_background": "light"
     },
     "output_type": "display_data"
    },
    {
     "name": "stdout",
     "output_type": "stream",
     "text": [
      "R^2 score on test set (end):  0.5742403581174045\n",
      "MSE on test set (end):  57.40327620278414\n",
      "Top 5 important features for end period:\n"
     ]
    },
    {
     "name": "stderr",
     "output_type": "stream",
     "text": [
      "ntree_limit is deprecated, use `iteration_range` or model slicing instead.\n"
     ]
    },
    {
     "data": {
      "text/plain": [
       "Albedo                                         3.614805\n",
       "Wind from direction (upper boom)_sin           2.978678\n",
       "Surface temperature                            1.764070\n",
       "Specific humidity (upper boom)                 1.704508\n",
       "Downwelling shortwave radiation - corrected    1.481610\n",
       "dtype: float32"
      ]
     },
     "metadata": {},
     "output_type": "display_data"
    },
    {
     "data": {
      "image/png": "[encoded data removed]",
      "text/plain": [
       "<Figure size 576x252 with 1 Axes>"
      ]
     },
     "metadata": {
      "needs_background": "light"
     },
     "output_type": "display_data"
    }
   ],
   "source": [
    "### This bit for absolute\n",
    "import pandas as pd\n",
    "import numpy as np\n",
    "\n",
    "for category in ['pre', 'beginning', 'middle', 'end']:\n",
    "    indices = eval(f\"indices_{category}\")  # Get the indices for the current category\n",
    "\n",
    "    # Find common indexes\n",
    "    X_Train_valid_indices = indices.intersection(X_absolute_train.index)\n",
    "    y_Train_valid_indices = indices.intersection(y_absolute_train.index)\n",
    "    X_Test_valid_indices = indices.intersection(X_absolute_test.index)\n",
    "    y_Test_valid_indices = indices.intersection(y_absolute_test.index)\n",
    "\n",
    "    # filter out by indeces\n",
    "    X_train_category = X_absolute_train.loc[X_Train_valid_indices]\n",
    "    y_train_category = y_absolute_train.loc[y_Train_valid_indices]\n",
    "    X_test_category = X_absolute_test.loc[X_Test_valid_indices]\n",
    "    y_test_category = y_absolute_test.loc[y_Test_valid_indices]\n",
    "\n",
    "    # Apply XGB on all periods  \n",
    "    #model_absolute.fit(X_train_category, y_train_category)  # Fit a new model on each subset\n",
    "    y_pred_category = model_absolute.predict(X_test_category)\n",
    "\n",
    "    r2 = r2_score(y_test_category, y_pred_category)\n",
    "    mse = mean_squared_error(y_test_category, y_pred_category)\n",
    "    print(f\"R^2 score on test set ({category}): \", r2)\n",
    "    print(f\"MSE on test set ({category}): \", mse)\n",
    "    \n",
    "    explainer = shap.TreeExplainer(model_absolute)\n",
    "    shap_values = explainer.shap_values(X_test_category, approximate=True)\n",
    "    \n",
    "    # Display top 5 features and SHAP values\n",
    "    feature_importances = pd.Series(abs(shap_values).mean(0), index=X_test_category.columns)\n",
    "    top_features = feature_importances.nlargest(5)\n",
    "    shap_values_top = [shap_values[i] for i in np.where(feature_importances.index.isin(top_features.index))[0]]\n",
    "    df_shap = pd.DataFrame(np.transpose(shap_values_top), columns=top_features.index)\n",
    "    print(f\"Top 5 important features for {category} period:\")\n",
    "    display(top_features)\n",
    "    \n",
    "    shap.summary_plot(shap_values, X_test_category, plot_type=\"bar\", feature_names=X_test_category.columns, max_display=5, show=False)\n",
    "    plt.title(f\"Top 5 important features for {category} period\")\n",
    "    plt.show()\n"
   ]
  },
  {
   "cell_type": "markdown",
   "metadata": {},
   "source": [
    "-----------"
   ]
  },
  {
   "cell_type": "markdown",
   "metadata": {},
   "source": [
    "## LSTM"
   ]
  },
  {
   "cell_type": "code",
   "execution_count": 313,
   "metadata": {},
   "outputs": [
    {
     "name": "stdout",
     "output_type": "stream",
     "text": [
      "R^2 score on test set (delta):  -0.10340557736615308\n",
      "MSE on test set (delta):  0.0038937158256251167\n",
      "R^2 score on test set (absolute):  0.013685247670754519\n",
      "MSE on test set (absolute):  157.86584193346172\n"
     ]
    }
   ],
   "source": [
    "# This bit to find best LSTM model for when Ablation == True and for both target variables\n",
    "\n",
    "from tensorflow.keras.models import Sequential\n",
    "from tensorflow.keras.layers import Dense, LSTM\n",
    "\n",
    "for i in [\"delta\",\"absolute\"]:\n",
    "    \n",
    "    indices = eval(f\"indices_ablation\")  # Get the indices for the current category\n",
    "\n",
    "    # Find common indexes\n",
    "    X_Train_valid_indices = indices.intersection(eval(f\"X_{i}_train\").index)\n",
    "    y_Train_valid_indices = indices.intersection(eval(f\"y_{i}_train\").index)\n",
    "    X_Test_valid_indices = indices.intersection(eval(f\"X_{i}_test\").index)\n",
    "    y_Test_valid_indices = indices.intersection(eval(f\"y_{i}_test\").index)\n",
    "\n",
    "    # filter out by indeces\n",
    "    X_train_category = eval(f\"X_{i}_train\").loc[X_Train_valid_indices]  \n",
    "    y_train_category = eval(f\"y_{i}_train\").loc[y_Train_valid_indices] \n",
    "    X_test_category = eval(f\"X_{i}_test\").loc[X_Test_valid_indices]  \n",
    "    y_test_category = eval(f\"y_{i}_test\").loc[y_Test_valid_indices]\n",
    "    \n",
    "    # Impute missing values\n",
    "    X_train_category = X_train_category.fillna(X_train_category.mean())\n",
    "    y_train_category = y_train_category.fillna(y_train_category.mean())\n",
    "    X_test_category = X_test_category.fillna(X_test_category.mean())\n",
    "\n",
    "    \n",
    "    # Reshape the input data to 3D array\n",
    "    X_train_category = X_train_category.values.reshape((X_train_category.shape[0], 1, X_train_category.shape[1]))\n",
    "    X_test_category = X_test_category.values.reshape((X_test_category.shape[0], 1, X_test_category.shape[1]))\n",
    "    \n",
    "    # Define the LSTM model\n",
    "    model = Sequential()\n",
    "    model.add(LSTM(64, input_shape=(1, X_train_category.shape[2])))\n",
    "    model.add(Dense(1))\n",
    "    \n",
    "    # Compile the model\n",
    "    model.compile(loss='mse', optimizer='adam')\n",
    "    \n",
    "    # Fit the model to the training data\n",
    "    model.fit(X_train_category, y_train_category, epochs=50, batch_size=64, validation_data=(X_test_category, y_test_category), verbose=0)\n",
    "    \n",
    "    # Evaluate the model on the test set\n",
    "    y_pred_category = model.predict(X_test_category)\n",
    "    r2 = r2_score(y_test_category, y_pred_category)\n",
    "    mse = mean_squared_error(y_test_category, y_pred_category)\n",
    "    print(f\"R^2 score on test set ({i}): \", r2)\n",
    "    print(f\"MSE on test set ({i}): \", mse)\n"
   ]
  },
  {
   "cell_type": "markdown",
   "metadata": {},
   "source": [
    "--------"
   ]
  }
 ],
 "metadata": {
  "colab": {
   "provenance": []
  },
  "kernelspec": {
   "display_name": "Python 3 (ipykernel)",
   "language": "python",
   "name": "python3"
  },
  "language_info": {
   "codemirror_mode": {
    "name": "ipython",
    "version": 3
   },
   "file_extension": ".py",
   "mimetype": "text/x-python",
   "name": "python",
   "nbconvert_exporter": "python",
   "pygments_lexer": "ipython3",
   "version": "3.8.8"
  },
  "vscode": {
   "interpreter": {
    "hash": "aee8b7b246df8f9039afb4144a1f6fd8d2ca17a180786b69acc140d282b71a49"
   }
  }
 },
 "nbformat": 4,
 "nbformat_minor": 1
}
