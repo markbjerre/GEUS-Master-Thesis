{
 "cells": [
  {
   "cell_type": "markdown",
   "metadata": {},
   "source": [
    "# Surface Mass Balance "
   ]
  },
  {
   "cell_type": "markdown",
   "metadata": {
    "id": "FTbsuMgO3ery"
   },
   "source": [
    "Import relevant Libaries "
   ]
  },
  {
   "cell_type": "code",
   "execution_count": 1,
   "metadata": {},
   "outputs": [
    {
     "name": "stdout",
     "output_type": "stream",
     "text": [
      "Requirement already satisfied: pyarrow in /Users/nilsfulde/opt/anaconda3/lib/python3.8/site-packages (11.0.0)\n",
      "Requirement already satisfied: numpy>=1.16.6 in /Users/nilsfulde/opt/anaconda3/lib/python3.8/site-packages (from pyarrow) (1.24.2)\n",
      "\u001b[33mWARNING: You are using pip version 21.3.1; however, version 23.0.1 is available.\n",
      "You should consider upgrading via the '/Users/nilsfulde/opt/anaconda3/bin/python -m pip install --upgrade pip' command.\u001b[0m\n",
      "Note: you may need to restart the kernel to use updated packages.\n",
      "Requirement already satisfied: plotly in /Users/nilsfulde/opt/anaconda3/lib/python3.8/site-packages (5.6.0)\n",
      "Requirement already satisfied: tenacity>=6.2.0 in /Users/nilsfulde/opt/anaconda3/lib/python3.8/site-packages (from plotly) (8.0.1)\n",
      "Requirement already satisfied: six in /Users/nilsfulde/opt/anaconda3/lib/python3.8/site-packages (from plotly) (1.12.0)\n",
      "\u001b[33mWARNING: You are using pip version 21.3.1; however, version 23.0.1 is available.\n",
      "You should consider upgrading via the '/Users/nilsfulde/opt/anaconda3/bin/python -m pip install --upgrade pip' command.\u001b[0m\n",
      "Note: you may need to restart the kernel to use updated packages.\n",
      "ERROR: unknown command \"update\"\n",
      "Note: you may need to restart the kernel to use updated packages.\n"
     ]
    }
   ],
   "source": [
    "%pip install pyarrow\n",
    "%pip install plotly\n",
    "%pip update pandas"
   ]
  },
  {
   "cell_type": "code",
   "execution_count": 5,
   "metadata": {
    "id": "yJLqdDNx3j-Y"
   },
   "outputs": [],
   "source": [
    "# Base libraries\n",
    "import pandas as pd\n",
    "import numpy as np\n",
    "import os\n",
    "import math as math\n",
    "import datetime\n",
    "from scipy import stats\n",
    "\n",
    "# Visualizations\n",
    "import matplotlib.pyplot as plt\n",
    "\n",
    "import plotly.express as px\n",
    "import plotly.graph_objects as go"
   ]
  },
  {
   "cell_type": "code",
   "execution_count": 6,
   "metadata": {},
   "outputs": [],
   "source": [
    "from scipy.interpolate import interp1d\n",
    "from sklearn.linear_model import LinearRegression\n",
    "import warnings\n",
    "warnings.filterwarnings(\"ignore\", category=RuntimeWarning)"
   ]
  },
  {
   "cell_type": "markdown",
   "metadata": {
    "id": "-ODOhsaMP7u_"
   },
   "source": [
    "Set WD"
   ]
  },
  {
   "cell_type": "code",
   "execution_count": 1,
   "metadata": {},
   "outputs": [],
   "source": [
    "import os\n",
    "\n",
    "from pyrsistent import v\n",
    "os.getcwd()\n",
    "#os.chdir('/Users/asgerlyngeholst-hansen/Desktop/GEUS-Master-Thesis/')\n",
    "#os.chdir('C:\\\\Users\\\\nifu18ab\\\\Desktop\\\\GEUS-Master-Thesis')\n",
    "os.chdir('/Users/nilsfulde/Desktop/GEUS-Master-Thesis')\n",
    "#os.chdir('/Users/nilsfulde/Desktop/Master_Thesis')\n"
   ]
  },
  {
   "cell_type": "markdown",
   "metadata": {},
   "source": [
    "**Load New Promice Data**"
   ]
  },
  {
   "cell_type": "code",
   "execution_count": 7,
   "metadata": {},
   "outputs": [],
   "source": [
    "#Function for loading data and converting to datetime \n",
    "def load_promice(path_to_file):\n",
    "    '''\n",
    "    Loading PROMICE data for a given path into a DataFrame.\n",
    "    + adding time index\n",
    "    \n",
    "    INTPUTS:\n",
    "        path_to_file: Path to the desired file containing PROMICE data [string]\n",
    "    \n",
    "    OUTPUTS:\n",
    "        df: Dataframe containing PROMICE data for the desired settings [DataFrame]\n",
    "    '''\n",
    "\n",
    "    df = pd.read_parquet(path_to_file, engine='pyarrow')\n",
    "    df['time'] = pd.to_datetime(df.time, utc=True)\n",
    "    df = df.set_index('time')\n",
    "    return df\n",
    "\n",
    "\n"
   ]
  },
  {
   "cell_type": "code",
   "execution_count": 8,
   "metadata": {},
   "outputs": [],
   "source": [
    "x = load_promice('data/new_promice/all_promice_data_hourly.parquet.gzip')"
   ]
  },
  {
   "cell_type": "code",
   "execution_count": 9,
   "metadata": {},
   "outputs": [
    {
     "data": {
      "text/plain": [
       "array(['CEN1', 'CEN2', 'CP1', 'DY2', 'EGP', 'HUM', 'JAR', 'JAR_O',\n",
       "       'KAN_B', 'KAN_L', 'KAN_M', 'KAN_U', 'KPC_Lv3', 'KPC_L', 'KPC_Uv3',\n",
       "       'KPC_U', 'LYN_L', 'LYN_T', 'MIT', 'NAE', 'NAU', 'NEM', 'NSE',\n",
       "       'NUK_K', 'NUK_L', 'NUK_N', 'NUK_Uv3', 'NUK_U', 'QAS_A', 'QAS_Lv3',\n",
       "       'QAS_L', 'QAS_M', 'QAS_Uv3', 'QAS_U', 'Roof_GEUS', 'Roof_PROMICE',\n",
       "       'SCO_L', 'SCO_U', 'SDL', 'SDM', 'SWC', 'SWC_O', 'TAS_A', 'TAS_L',\n",
       "       'TAS_U', 'THU_L2', 'THU_L', 'THU_U2', 'THU_U', 'TUN', 'UPE_L',\n",
       "       'UPE_U', 'UWN', 'WEG_B', 'ZAK_L', 'ZAK_Uv3', 'ZAK_U'], dtype=object)"
      ]
     },
     "execution_count": 9,
     "metadata": {},
     "output_type": "execute_result"
    }
   ],
   "source": [
    "x.stid.unique()"
   ]
  },
  {
   "cell_type": "code",
   "execution_count": 10,
   "metadata": {},
   "outputs": [],
   "source": [
    "df = x[x[\"stid\"] == \"KAN_L\"]"
   ]
  },
  {
   "cell_type": "markdown",
   "metadata": {},
   "source": [
    "**Helper functions (Comment Nils: Not needed)**"
   ]
  },
  {
   "cell_type": "code",
   "execution_count": null,
   "metadata": {},
   "outputs": [],
   "source": [
    "#Function for writing to Markdown Report\n",
    "def Msg(txt):\n",
    "    f = open(\"out/Report.md\", \"a\")\n",
    "    print(txt)\n",
    "    f.write(txt + \"\\n\")"
   ]
  },
  {
   "cell_type": "code",
   "execution_count": 91,
   "metadata": {},
   "outputs": [],
   "source": [
    "#For outlier detecttion and filter \n",
    "def hampel(vals_orig, k=7*24, t0=3):\n",
    "    '''\n",
    "    vals: pandas series of values from which to remove outliers\n",
    "    k: size of window (including the sample; 7 is equal to 3 on either side of value)\n",
    "    '''\n",
    "    #Make copy so original not edited\n",
    "    vals=vals_orig.copy()    \n",
    "    #Hampel Filter\n",
    "    L= 1.4826\n",
    "    rolling_median=vals.rolling(k).median()\n",
    "    difference=np.abs(rolling_median-vals)\n",
    "    median_abs_deviation=difference.rolling(k).median()\n",
    "    threshold= t0 *L * median_abs_deviation\n",
    "    outlier_idx=difference>threshold\n",
    "    outlier_idx[0:round(k/2)]=False\n",
    "    vals.loc[outlier_idx]=np.nan\n",
    "    return(vals)"
   ]
  },
  {
   "cell_type": "markdown",
   "metadata": {},
   "source": [
    "**Identifying ablation periods**"
   ]
  },
  {
   "cell_type": "markdown",
   "metadata": {},
   "source": [
    "###### I think this is the one"
   ]
  },
  {
   "cell_type": "code",
   "execution_count": 11,
   "metadata": {},
   "outputs": [
    {
     "name": "stderr",
     "output_type": "stream",
     "text": [
      "/var/folders/_r/2f7t_cz14232jqp3576_p04m0000gn/T/ipykernel_40107/2904398929.py:11: SettingWithCopyWarning: \n",
      "A value is trying to be set on a copy of a slice from a DataFrame.\n",
      "Try using .loc[row_indexer,col_indexer] = value instead\n",
      "\n",
      "See the caveats in the documentation: https://pandas.pydata.org/pandas-docs/stable/user_guide/indexing.html#returning-a-view-versus-a-copy\n",
      "  df['Ablation'] = ind_ablation.tolist()\n"
     ]
    }
   ],
   "source": [
    "# defining ice ablation period   \n",
    "smoothed_PT =  df['z_pt_cor'].interpolate(limit=72).rolling('14D', min_periods=1).mean().shift(-7*14/2, freq='h')\n",
    "smoothed_PT = smoothed_PT.rolling('14D', min_periods=1).mean().shift(-7*14/2, freq='h')\n",
    "\n",
    "threshold_ablation = -0.0002 # Modify value if needed\n",
    "ind_ablation = np.logical_and(smoothed_PT.diff().values < threshold_ablation, \n",
    "                              np.isin(smoothed_PT.diff().index.month, [6, 7, 8, 9]))\n",
    "\n",
    "ind_ablation = np.concatenate((ind_ablation[4*24:], np.repeat(ind_ablation[-(4*24):-(4*24-1)], 4*24)))\n",
    "\n",
    "df['Ablation'] = ind_ablation.tolist()\n"
   ]
  },
  {
   "cell_type": "code",
   "execution_count": 121,
   "metadata": {},
   "outputs": [],
   "source": [
    "df.to_csv('KAN_L.csv', index=False)"
   ]
  },
  {
   "cell_type": "markdown",
   "metadata": {},
   "source": [
    "-------------------------------------------------------------------------------------------------------------------"
   ]
  },
  {
   "cell_type": "code",
   "execution_count": 12,
   "metadata": {},
   "outputs": [],
   "source": [
    "idx = np.argwhere(np.diff(np.r_[False,ind_ablation, False])).reshape(-1, 2)\n",
    "idx[:, 1] -= 1\n",
    "\n",
    "# here we fill small gaps in the ice ablation periods.\n",
    "for i in range(len(idx)-1):\n",
    "    ind = idx[i]\n",
    "    ind_next = idx[i+1]\n",
    "    if ind_next[0]-ind[1]<(24*15):\n",
    "        ind_ablation[ind[1]:ind_next[0]]=True\n",
    "\n",
    "#adjusting Snow and Surface heights to the PT-derived height\n",
    "hs1=df[\"z_surf_1_adj\"].interpolate(limit=24*2).copy()\n",
    "hs2=df[\"z_surf_2_adj\"].interpolate(limit=24*2).copy()\n",
    "z=df[\"z_pt_cor_adj\"].interpolate(limit=24*2).copy()\n",
    "\n",
    "if any(~np.isnan(hs1.iloc[:24*7])):\n",
    "    hs1 = hs1 - hs1.iloc[:24*7].mean()\n",
    "if any(~np.isnan(z.iloc[:24*7])):\n",
    "    hs2 = hs2 - hs2.iloc[:24*7].mean()\n",
    "if any(~np.isnan(z.iloc[:24*7])):\n",
    "    z = z - z.iloc[:24*7].mean()\n",
    "elif np.any(~np.isnan(z)):\n",
    "    # here we remove the intercept in the pressure transducer data. In many cases, the pressure transducer was installed few years after the installation of the main AWS. Removing the intercept means that we consider the ice surface height at 0 when the AWS is installed, and not when the pressure transducer is installed.\n",
    "    Y = z.iloc[:].values.reshape(-1, 1)\n",
    "    X = z.iloc[~np.isnan(Y)].index.astype(np.int64).values.reshape(-1, 1) \n",
    "    Y = Y[~np.isnan(Y)] \n",
    "    linear_regressor = LinearRegression()  \n",
    "    linear_regressor.fit(X, Y)\n",
    "    Y_pred = linear_regressor.predict(z.index.astype(np.int64).values.reshape(-1, 1) )\n",
    "    z = z-Y_pred[0]\n",
    "\n",
    "years = df.index.year.unique().values\n",
    "ind_start = years.copy()\n",
    "ind_end =  years.copy()\n",
    "\n"
   ]
  },
  {
   "cell_type": "code",
   "execution_count": 16,
   "metadata": {},
   "outputs": [
    {
     "data": {
      "text/plain": [
       "<Figure size 432x288 with 0 Axes>"
      ]
     },
     "execution_count": 16,
     "metadata": {},
     "output_type": "execute_result"
    },
    {
     "data": {
      "image/png": "[encoded data removed]",
      "text/plain": [
       "<Figure size 432x288 with 1 Axes>"
      ]
     },
     "metadata": {
      "needs_background": "light"
     },
     "output_type": "display_data"
    },
    {
     "data": {
      "text/plain": [
       "<Figure size 432x288 with 0 Axes>"
      ]
     },
     "metadata": {},
     "output_type": "display_data"
    }
   ],
   "source": [
    "for i, y in enumerate(years):\n",
    "#for each year\n",
    "    ind_yr = df.index.year.values == y\n",
    "    ind_abl_yr = np.logical_and(ind_yr, ind_ablation)\n",
    "    if np.any(ind_abl_yr):\n",
    "        # if there are some ablation flagged for that year\n",
    "        # then find begining and end\n",
    "        ind_start[i] = np.argwhere(ind_abl_yr)[0][0]\n",
    "        ind_end[i] = np.argwhere(ind_abl_yr)[-1][0]\n",
    "\n",
    "    # elif np.any(np.isin(df.index[ind_yr].month.values, [6, 7, 8])):\n",
    "    #     # if there is any data from june-august that year\n",
    "    #     # then use first and last day of JJA as ablation season\n",
    "    #     ind_abl_yr = np.logical_and(ind_yr, np.isin(df.index.month.values, [6, 7, 8]))\n",
    "    #     ind_start[i] = np.argwhere(ind_abl_yr)[0][0]\n",
    "    #     ind_end[i] = np.argwhere(ind_abl_yr)[-1]\n",
    "    #     ind_ablation[ind_start[i]:ind_end[i]] = True\n",
    "    #     ind_accumulation[ind_start[i]:ind_end[i]] = False\n",
    "    else:\n",
    "        # otherwise left as nan\n",
    "        ind_start[i] = -999\n",
    "        ind_end[i] = -999\n",
    "\n",
    "plt.figure()\n",
    "((smoothed_PT-smoothed_PT.mean())/1000).plot()\n",
    "((z-z.mean())/1000).plot()\n",
    "\n",
    "#smoothed_PT.diff().plot()\n",
    "#plt.axhline(threshold_ablation)\n",
    "\n",
    "for i, y in enumerate(years):\n",
    "    plt.axvspan(df.index[ind_start[i]],df.index[ind_end[i]], color='orange', alpha=0.1)\n",
    "\n",
    "plt.figure()"
   ]
  },
  {
   "cell_type": "code",
   "execution_count": 17,
   "metadata": {},
   "outputs": [
    {
     "name": "stdout",
     "output_type": "stream",
     "text": [
      "2008\n",
      "adjusting hs2 to z\n",
      "using end of melt season\n",
      "2009\n",
      "adjusting hs2 to z\n",
      "using end of melt season\n",
      "adjusting hs1\n",
      "to hs2\n",
      "2010\n",
      "adjusting hs2 to z\n",
      "using end of melt season\n",
      "adjusting hs1\n",
      "to hs2\n",
      "2011\n",
      "adjusting hs2 to z\n",
      "using end of melt season\n",
      "adjusting hs1\n",
      "to hs2\n",
      "2012\n",
      "adjusting hs2 to z\n",
      "using end of melt season\n",
      "2013\n",
      "adjusting hs2 to z\n",
      "using end of melt season\n",
      "2014\n",
      "adjusting hs2 to z\n",
      "using end of melt season\n",
      "2015\n",
      "adjusting hs2 to z\n",
      "using end of melt season\n",
      "2016\n",
      "adjusting hs2 to z\n",
      "using end of melt season\n",
      "adjusting hs1\n",
      "to hs2\n",
      "2017\n",
      "adjusting hs2 to z\n",
      "using end of melt season\n",
      "2018\n",
      "adjusting hs2 to z\n",
      "using end of melt season\n",
      "2019\n",
      "adjusting hs2 to z\n",
      "using end of melt season\n",
      "2020\n",
      "adjusting hs2 to z\n",
      "using end of melt season\n",
      "adjusting hs1\n",
      "to hs2\n",
      "2021\n",
      "adjusting hs2 to z\n",
      "using end of melt season\n",
      "adjusting hs1\n",
      "to hs2\n",
      "2022\n",
      "adjusting hs2 to z\n",
      "using end of melt season\n",
      "adjusting hs1\n",
      "to hs2\n",
      "2023\n",
      "no ablation\n",
      "no hs2\n"
     ]
    },
    {
     "name": "stderr",
     "output_type": "stream",
     "text": [
      "/var/folders/_r/2f7t_cz14232jqp3576_p04m0000gn/T/ipykernel_40107/1404800862.py:137: SettingWithCopyWarning: \n",
      "A value is trying to be set on a copy of a slice from a DataFrame.\n",
      "Try using .loc[row_indexer,col_indexer] = value instead\n",
      "\n",
      "See the caveats in the documentation: https://pandas.pydata.org/pandas-docs/stable/user_guide/indexing.html#returning-a-view-versus-a-copy\n",
      "  df[\"z_surf_1_adj\"] = hs1.interpolate(limit=2*24).values\n",
      "/var/folders/_r/2f7t_cz14232jqp3576_p04m0000gn/T/ipykernel_40107/1404800862.py:138: SettingWithCopyWarning: \n",
      "A value is trying to be set on a copy of a slice from a DataFrame.\n",
      "Try using .loc[row_indexer,col_indexer] = value instead\n",
      "\n",
      "See the caveats in the documentation: https://pandas.pydata.org/pandas-docs/stable/user_guide/indexing.html#returning-a-view-versus-a-copy\n",
      "  df[\"z_surf_2_adj\"] = hs2.interpolate(limit=2*24).values\n",
      "/var/folders/_r/2f7t_cz14232jqp3576_p04m0000gn/T/ipykernel_40107/1404800862.py:139: SettingWithCopyWarning: \n",
      "A value is trying to be set on a copy of a slice from a DataFrame.\n",
      "Try using .loc[row_indexer,col_indexer] = value instead\n",
      "\n",
      "See the caveats in the documentation: https://pandas.pydata.org/pandas-docs/stable/user_guide/indexing.html#returning-a-view-versus-a-copy\n",
      "  df[\"z_pt_cor_adj\"] = z.interpolate(limit=2*24).values\n",
      "/var/folders/_r/2f7t_cz14232jqp3576_p04m0000gn/T/ipykernel_40107/1404800862.py:142: SettingWithCopyWarning: \n",
      "A value is trying to be set on a copy of a slice from a DataFrame.\n",
      "Try using .loc[row_indexer,col_indexer] = value instead\n",
      "\n",
      "See the caveats in the documentation: https://pandas.pydata.org/pandas-docs/stable/user_guide/indexing.html#returning-a-view-versus-a-copy\n",
      "  df[\"z_surf_combined\"] = np.nan\n",
      "/var/folders/_r/2f7t_cz14232jqp3576_p04m0000gn/T/ipykernel_40107/1404800862.py:145: SettingWithCopyWarning: \n",
      "A value is trying to be set on a copy of a slice from a DataFrame.\n",
      "Try using .loc[row_indexer,col_indexer] = value instead\n",
      "\n",
      "See the caveats in the documentation: https://pandas.pydata.org/pandas-docs/stable/user_guide/indexing.html#returning-a-view-versus-a-copy\n",
      "  df[\"z_surf_combined\"] = np.nanmean( df[[\"z_surf_1_adj\",\n"
     ]
    },
    {
     "data": {
      "image/png": "[encoded data removed]",
      "text/plain": [
       "<Figure size 432x288 with 1 Axes>"
      ]
     },
     "metadata": {
      "needs_background": "light"
     },
     "output_type": "display_data"
    },
    {
     "data": {
      "image/png": "[encoded data removed]",
      "text/plain": [
       "<Figure size 720x576 with 1 Axes>"
      ]
     },
     "metadata": {
      "needs_background": "light"
     },
     "output_type": "display_data"
    }
   ],
   "source": [
    "# adjustement loop\n",
    "hs2_ref = 0 # by default, the PT is the reference: hs1 and 2 will be adjusted to PT\n",
    "missing_hs2 = 0 # if hs2 is missing then when it comes back it is adjusted to hs1\n",
    "\n",
    "for i, y in enumerate(years):\n",
    "    print(y)\n",
    "    if all(np.isnan(z[str(y)+'-06-01':str(y)+'-09-01'])) and any(~np.isnan(hs2[str(y)+'-06-01':str(y)+'-09-01'])):\n",
    "        # if there is no PT for a given year, but there is some hs2\n",
    "        # then hs2 is the reference\n",
    "        hs2_ref = 1\n",
    "\n",
    "    if hs2_ref == 1:\n",
    "        if ind_start[i] != -999:\n",
    "            # the first year there is both ablation and PT data available\n",
    "            # then PT is adjusted to hs2\n",
    "            if any(~np.isnan(z.iloc[ind_start[i]:ind_end[i]])) and any(~np.isnan(hs2.iloc[ind_start[i]:ind_end[i]])):\n",
    "\n",
    "                    tmp1 = z.iloc[ind_start[i]:ind_end[i]].copy()\n",
    "                    tmp2 = hs2.iloc[ind_start[i]:ind_end[i]].copy()\n",
    "                    tmp1[np.isnan(tmp2)] = np.nan\n",
    "                    tmp2[np.isnan(tmp1)] = np.nan\n",
    "\n",
    "                    # in some instances, the PT data is available but not ablation\n",
    "                    # is recorded, then hs2 remains the reference during that time.\n",
    "                    # When eventually there is ablation, then we need to find the \n",
    "                    # first valid index in these preceding ablation-free years\n",
    "                    # the shit will be applied back from this point\n",
    "                    first_index = z[:z[str(y)+'-01-01':str(y)+'-12-31'].first_valid_index()].isnull().iloc[::-1].idxmax()\n",
    "                    z[first_index:] = z[first_index:] -  np.nanmean(tmp1)  +  np.nanmean(tmp2)\n",
    "                    z.plot()\n",
    "                    hs2_ref = 0 # from now on PT is the reference\n",
    "\n",
    "\n",
    "    # adapting hs2\n",
    "    # if there is some ablation\n",
    "    if (ind_end[i] != -999): \n",
    "        # and if there are PT data available at the end of the melt season\n",
    "        if np.any(~np.isnan(z.iloc[(ind_end[i]-24*7):(ind_end[i]+24*7)])):\n",
    "            print('adjusting hs2 to z')\n",
    "            # then we adjust hs2 to the end-of-ablation z    \n",
    "            # first trying at the end of melt season\n",
    "            if ~np.isnan(np.nanmean(hs2.iloc[(ind_end[i]-24*7):(ind_end[i]+24*30)])): \n",
    "                print('using end of melt season')\n",
    "                hs2.iloc[ind_end[i]:] = hs2.iloc[ind_end[i]:] - \\\n",
    "                    np.nanmean(hs2.iloc[(ind_end[i]-24*7):(ind_end[i]+24*30)])  + \\\n",
    "                        np.nanmean(z.iloc[(ind_end[i]-24*7):(ind_end[i]+24*30)])\n",
    "            # if not possible, then trying the end of the following accumulation season\n",
    "            elif (i+1 < len(ind_start)):\n",
    "                if ind_start[i+1]!=-999 and any(~np.isnan(hs2.iloc[(ind_start[i+1]-24*7):(ind_start[i+1]+24*7)]+ z.iloc[(ind_start[i+1]-24*7):(ind_start[i+1]+24*7)])): \n",
    "                    print('using end of accumulation season')\n",
    "                    hs2.iloc[ind_end[i]:] = hs2.iloc[ind_end[i]:] - \\\n",
    "                        np.nanmean(hs2.iloc[(ind_start[i+1]-24*7):(ind_start[i+1]+24*7)])  + \\\n",
    "                            np.nanmean(z.iloc[(ind_start[i+1]-24*7):(ind_start[i+1]+24*7)])\n",
    "    else:\n",
    "        print('no ablation')\n",
    "        if all(np.isnan(hs2[str(y)+'-09-01':str(y+1)+'-03-01'])):\n",
    "            print('no hs2')\n",
    "            missing_hs2 = 1\n",
    "        elif missing_hs2 == 1:\n",
    "            print('adjusting hs2')\n",
    "            # and if there are some hs2 during the accumulation period\n",
    "            if any(~np.isnan(hs1[str(y)+'-09-01':str(y+1)+'-03-01'])):\n",
    "                print('to hs1')\n",
    "                # then we adjust hs1 to hs2 during the accumulation area\n",
    "                # adjustment is done so that the mean hs1 and mean hs2 match \n",
    "                # for the period when both are available\n",
    "                tmp1 = hs2[str(y)+'-09-01':str(y+1)+'-03-01'].copy()\n",
    "                tmp2 = hs1[str(y)+'-09-01':str(y+1)+'-03-01'].copy()\n",
    "\n",
    "                tmp1[np.isnan(tmp2)] = np.nan\n",
    "                tmp2[np.isnan(tmp1)] = np.nan\n",
    "\n",
    "                hs2[str(y)+'-01-01':] = hs2[str(y)+'-01-01':] -  np.nanmean(tmp1)  +  np.nanmean(tmp2)\n",
    "                missing_hs2 = 0\n",
    "\n",
    "        # adjusting hs1 to hs2 (no ablation case)\n",
    "        if any(~np.isnan(hs1[str(y)+'-09-01':str(y+1)+'-03-01'])):\n",
    "            print('adjusting hs1')\n",
    "            # and if there are some hs2 during the accumulation period\n",
    "            if any(~np.isnan(hs2[str(y)+'-09-01':str(y+1)+'-03-01'])):\n",
    "                print('to hs2')\n",
    "                # then we adjust hs1 to hs2 during the accumulation area\n",
    "                # adjustment is done so that the mean hs1 and mean hs2 match \n",
    "                # for the period when both are available\n",
    "                tmp1 = hs1[str(y)+'-09-01':str(y+1)+'-03-01'].copy()\n",
    "                tmp2 = hs2[str(y)+'-09-01':str(y+1)+'-03-01'].copy()\n",
    "\n",
    "                tmp1[np.isnan(tmp2)] = np.nan\n",
    "                tmp2[np.isnan(tmp1)] = np.nan\n",
    "\n",
    "                hs1[str(y)+'-09-01':] = hs1[str(y)+'-09-01':] -  np.nanmean(tmp1)  +  np.nanmean(tmp2)\n",
    "\n",
    "\n",
    "    if ind_end[i] != -999:\n",
    "    # if there is some hs1\n",
    "        if any(~np.isnan(hs1.iloc[ind_end[i]:min(len(hs1),ind_end[i]+24*30*9)])):\n",
    "            print('adjusting hs1')\n",
    "            # and if there are some hs2 during the accumulation period\n",
    "            if any(~np.isnan(hs2.iloc[ind_end[i]:min(len(hs2),ind_end[i]+24*30*9)])):\n",
    "                print('to hs2')\n",
    "                # then we adjust hs1 to hs2 during the accumulation area\n",
    "                # adjustment is done so that the mean hs1 and mean hs2 match \n",
    "                # for the period when both are available\n",
    "                tmp1 = hs1.iloc[ind_end[i]:min(len(hs1),ind_end[i]+24*30*9)].copy()\n",
    "                tmp2 = hs2.iloc[ind_end[i]:min(len(hs2),ind_end[i]+24*30*9)].copy()\n",
    "\n",
    "                tmp1[np.isnan(tmp2)] = np.nan\n",
    "                tmp2[np.isnan(tmp1)] = np.nan\n",
    "\n",
    "                hs1.iloc[ind_end[i]:] = hs1.iloc[ind_end[i]:] -  np.nanmean(tmp1)  +  np.nanmean(tmp2)\n",
    "\n",
    "            # if no hs2, then use PT data available at the end of the melt season\n",
    "            elif np.any(~np.isnan(z.iloc[(ind_end[i]-24*7):(ind_end[i]+24*7)])):\n",
    "                print('to z')\n",
    "                # then we adjust hs2 to the end-of-ablation z    \n",
    "                # first trying at the end of melt season\n",
    "                if ~np.isnan(np.nanmean(hs1.iloc[(ind_end[i]-24*7):(ind_end[i]+24*30)])): \n",
    "                    print('using end of melt season')\n",
    "                    hs1.iloc[ind_end[i]:] = hs1.iloc[ind_end[i]:] - \\\n",
    "                        np.nanmean(hs1.iloc[(ind_end[i]-24*7):(ind_end[i]+24*30)])  + \\\n",
    "                            np.nanmean(z.iloc[(ind_end[i]-24*7):(ind_end[i]+24*30)])\n",
    "                # if not possible, then trying the end of the following accumulation season\n",
    "                elif ind_start[i+1]!=-999 and any(~np.isnan(hs1.iloc[(ind_start[i+1]-24*7):(ind_start[i+1]+24*7)]+ z.iloc[(ind_start[i+1]-24*7):(ind_start[i+1]+24*7)])): \n",
    "                    print('using end of accumulation season')\n",
    "                    hs1.iloc[ind_end[i]:] = hs1.iloc[ind_end[i]:] - \\\n",
    "                        np.nanmean(hs1.iloc[(ind_start[i+1]-24*7):(ind_start[i+1]+24*7)])  + \\\n",
    "                            np.nanmean(z.iloc[(ind_start[i+1]-24*7):(ind_start[i+1]+24*7)])\n",
    "\n",
    "\n",
    "    hs1.plot()\n",
    "    hs2.plot()\n",
    "    plt.axvline(hs1.index[ind_end[i]])\n",
    "\n",
    "    plt.axvspan(df.index[ind_start[i]],df.index[ind_end[i]], color='orange', alpha=0.1)\n",
    "\n",
    "\n",
    "df[\"z_surf_1_adj\"] = hs1.interpolate(limit=2*24).values\n",
    "df[\"z_surf_2_adj\"] = hs2.interpolate(limit=2*24).values\n",
    "df[\"z_pt_cor_adj\"] = z.interpolate(limit=2*24).values\n",
    "\n",
    "# making a summary of the surface height\n",
    "df[\"z_surf_combined\"] = np.nan\n",
    "\n",
    "# in winter, both SR1 and SR2 are used\n",
    "df[\"z_surf_combined\"] = np.nanmean( df[[\"z_surf_1_adj\",\n",
    "                                                 \"z_surf_2_adj\"]].values, \n",
    "                                            axis = 1)\n",
    "\n",
    "# in ablation season we use SR2 instead of the SR1&2 average\n",
    "# here two options:\n",
    "# 1) we ignore the SR1 and only use SR2\n",
    "# 2) we use SR1 when SR2 is not available (commented) \n",
    "# the later one can cause jumps when SR2 starts to be available few days after SR1\n",
    "data_update = df[\"z_surf_2_adj\"].interpolate(limit=72).values \n",
    "ind_update = ind_ablation \n",
    "#ind_update = np.logical_and(ind_ablation,  ~np.isnan(data_update))\n",
    "df.loc[ind_update,\"z_surf_combined\"] = data_update[ind_update]  \n",
    "\n",
    "# in ablation season we use pressure transducer over all other options\n",
    "data_update = df[ \"z_pt_cor_adj\"].interpolate(limit=72).values \n",
    "ind_update = np.logical_and(ind_ablation, ~np.isnan(data_update))\n",
    "df.loc[ind_update,\"z_surf_combined\"] = data_update[ind_update] \n",
    "\n",
    "# plotting result\n",
    "f1 = plt.figure(figsize=(10, 8))    \n",
    "#df[\"z_pt_cor_adj\"].plot(label = 'Pressure transducer')\n",
    "#df[\"z_surf_1_adj\"].plot(label = 'SonicRanger1')\n",
    "#df[\"z_surf_2_adj\"].plot(label = 'SonicRanger2')\n",
    "df[\"z_surf_combined\"].plot(label = 'Summary',\n",
    "         linestyle='--', linewidth=2, color = 'tab:red')\n",
    "\n",
    "plt.legend(prop={'size': 15})\n",
    "plt.xlabel('Year',size=20)\n",
    "plt.ylabel('Height (m)',size=20)\n",
    "plt.title(\"Kan_L\",size=20)\n",
    "#plt.grid()\n",
    "for i, y in enumerate(years):\n",
    "    plt.axvspan(df.index[ind_start[i]],df.index[ind_end[i]], color='orange', alpha=0.1)\n",
    "#f1.savefig('figures/surface_height/'+\"Kan_L\"+'_surface_height.png',dpi=90, bbox_inches='tight')\n",
    "#Msg('[![Surface height adjustement at '+ site+']'+\\\n",
    "#    '(../figures/surface_height/'+site+'_surface_height.png)]'+\\\n",
    "#        '(../figures/surface_height/'+site+'_surface_height.png)')"
   ]
  },
  {
   "cell_type": "markdown",
   "metadata": {},
   "source": [
    "-------------------------- From previos script (Nils: can be deleted??) ----------------------------------------------"
   ]
  },
  {
   "cell_type": "code",
   "execution_count": 83,
   "metadata": {},
   "outputs": [],
   "source": [
    "#Calling hampel function\n",
    "df[\"z_pt_cor_adj\"] = hampel(df[\"z_pt_cor\"].interpolate(limit=72)).values\n",
    "df[\"z_surf_1_adj\"] = hampel(df[\"z_surf_1\"].interpolate(limit=72)).values\n",
    "df[\"z_surf_2_adj\"] = hampel(df[\"z_surf_2\"].interpolate(limit=72)).values"
   ]
  },
  {
   "cell_type": "code",
   "execution_count": 86,
   "metadata": {},
   "outputs": [
    {
     "data": {
      "text/plain": [
       "True"
      ]
     },
     "execution_count": 86,
     "metadata": {},
     "output_type": "execute_result"
    }
   ],
   "source": [
    "df.index.is_monotonic\n",
    "df.sort_index(inplace=True)\n",
    "df.index.is_monotonic"
   ]
  },
  {
   "cell_type": "code",
   "execution_count": 87,
   "metadata": {},
   "outputs": [],
   "source": [
    "#Setting ablation thresholds and defining period --> Doesn't work \n",
    "#df = df.sort_index() # Added as the series was not monotonic for some reason\n",
    "#df = df.reindex(sorted(df.index))\n",
    "smoothed_PT =  df['z_pt_cor'].interpolate(limit=72).rolling('14D', min_periods=1).mean().shift(-7*14/2, freq='h')\n",
    "smoothed_PT = smoothed_PT.rolling('14D', min_periods=1).mean().shift(-7*14/2, freq='h')\n",
    "threshold_ablation = -0.0002 # Modify value if needed\n",
    "ind_ablation = np.logical_and(smoothed_PT.diff().values < threshold_ablation, \n",
    "                                  np.isin(smoothed_PT.diff().index.month, [6, 7, 8, 9]))\n",
    "ind_ablation = np.concatenate((ind_ablation[4*24:], np.repeat(ind_ablation[-(4*24):-(4*24-1)], 4*24)))"
   ]
  },
  {
   "cell_type": "code",
   "execution_count": 88,
   "metadata": {},
   "outputs": [],
   "source": [
    "#Finding ablation periods in years\n",
    "for i, y in enumerate(years):\n",
    "    #for each year\n",
    "        ind_yr = df.index.year.values==y\n",
    "        ind_abl_yr = np.logical_and(ind_yr, ind_ablation)\n",
    "        if np.any(ind_abl_yr):\n",
    "            # if there are some ablation flagged for that year\n",
    "            # then find begining and end\n",
    "            ind_start[i] = np.argwhere(ind_abl_yr)[0][0]\n",
    "            ind_end[i] = np.argwhere(ind_abl_yr)[-1][0]\n",
    "            \n",
    "        else:\n",
    "            # otherwise left as nan\n",
    "            ind_start[i] = -999\n",
    "            ind_end[i] = -999\n"
   ]
  },
  {
   "cell_type": "code",
   "execution_count": 102,
   "metadata": {},
   "outputs": [],
   "source": [
    "#Printing one site 'KAN_L' to indentify ablation periods\n",
    "def plotsite(df,site):\n",
    "        df = df[df[\"stid\"] ==  site]\n",
    "        f1 = plt.figure(figsize=(10, 8))    \n",
    "        df[\"z_pt_cor_adj\"].plot(label = 'Pressure transducer')\n",
    "        df[\"z_surf_1_adj\"].plot(label = 'SonicRanger1')\n",
    "        df[\"z_surf_2_adj\"].plot(label = 'SonicRanger2')\n",
    "        df[\"z_surf_combined\"].plot(label = 'Summary',\n",
    "                linestyle='--', linewidth=2, color = 'tab:red')\n",
    "\n",
    "        plt.legend(prop={'size': 15})\n",
    "        plt.xlabel('Year',size=20)\n",
    "        plt.ylabel('Height (m)',size=20)\n",
    "        plt.title(site,size=20)\n",
    "        plt.grid()\n",
    "\n",
    "        plt.legend(prop={'size': 15})\n",
    "        plt.xlabel('Year',size=20)\n",
    "        plt.ylabel('Height (m)',size=20)\n",
    "        plt.title(site,size=20)\n",
    "        plt.grid()\n",
    "\n",
    "        #For orange coloring of ablation periods\n",
    "        for i, y in enumerate(years):\n",
    "                plt.axvspan(df.index[ind_start[i]],df.index[ind_end[i]], color='orange', alpha=0.1)\n",
    "        \n",
    "        # Add figure to /figures\n",
    "        f1.savefig('figures/'+site+'_surface_height.png',dpi=90, bbox_inches='tight')\n",
    "        Msg('[![Surface height adjustement at '+ site+']'+\\\n",
    "                '(../figures/'+site+'_surface_height.png)]'+\\\n",
    "                '(../figures/'+site+'_surface_height.png)')\n"
   ]
  },
  {
   "cell_type": "code",
   "execution_count": 103,
   "metadata": {
    "collapsed": true
   },
   "outputs": [
    {
     "ename": "IndexError",
     "evalue": "index 3967222 is out of bounds for axis 0 with size 126821",
     "output_type": "error",
     "traceback": [
      "\u001b[0;31m---------------------------------------------------------------------------\u001b[0m",
      "\u001b[0;31mIndexError\u001b[0m                                Traceback (most recent call last)",
      "\u001b[0;32m<ipython-input-103-7401bb964576>\u001b[0m in \u001b[0;36m<module>\u001b[0;34m\u001b[0m\n\u001b[1;32m      2\u001b[0m \u001b[0mdf_abl\u001b[0m \u001b[0;34m=\u001b[0m \u001b[0mdf\u001b[0m\u001b[0;34m[\u001b[0m\u001b[0;34m'2017-01-05'\u001b[0m\u001b[0;34m:\u001b[0m\u001b[0;34m'2017-08-30'\u001b[0m\u001b[0;34m]\u001b[0m\u001b[0;34m\u001b[0m\u001b[0;34m\u001b[0m\u001b[0m\n\u001b[1;32m      3\u001b[0m \u001b[0;34m\u001b[0m\u001b[0m\n\u001b[0;32m----> 4\u001b[0;31m \u001b[0mplotsite\u001b[0m\u001b[0;34m(\u001b[0m\u001b[0mdf\u001b[0m\u001b[0;34m,\u001b[0m \u001b[0;34m'KAN_L'\u001b[0m\u001b[0;34m)\u001b[0m\u001b[0;34m\u001b[0m\u001b[0;34m\u001b[0m\u001b[0m\n\u001b[0m",
      "\u001b[0;32m<ipython-input-102-a3623561abe5>\u001b[0m in \u001b[0;36mplotsite\u001b[0;34m(df, site)\u001b[0m\n\u001b[1;32m     23\u001b[0m         \u001b[0;31m#For orange coloring of ablation periods\u001b[0m\u001b[0;34m\u001b[0m\u001b[0;34m\u001b[0m\u001b[0;34m\u001b[0m\u001b[0m\n\u001b[1;32m     24\u001b[0m         \u001b[0;32mfor\u001b[0m \u001b[0mi\u001b[0m\u001b[0;34m,\u001b[0m \u001b[0my\u001b[0m \u001b[0;32min\u001b[0m \u001b[0menumerate\u001b[0m\u001b[0;34m(\u001b[0m\u001b[0myears\u001b[0m\u001b[0;34m)\u001b[0m\u001b[0;34m:\u001b[0m\u001b[0;34m\u001b[0m\u001b[0;34m\u001b[0m\u001b[0m\n\u001b[0;32m---> 25\u001b[0;31m                 \u001b[0mplt\u001b[0m\u001b[0;34m.\u001b[0m\u001b[0maxvspan\u001b[0m\u001b[0;34m(\u001b[0m\u001b[0mdf\u001b[0m\u001b[0;34m.\u001b[0m\u001b[0mindex\u001b[0m\u001b[0;34m[\u001b[0m\u001b[0mind_start\u001b[0m\u001b[0;34m[\u001b[0m\u001b[0mi\u001b[0m\u001b[0;34m]\u001b[0m\u001b[0;34m]\u001b[0m\u001b[0;34m,\u001b[0m\u001b[0mdf\u001b[0m\u001b[0;34m.\u001b[0m\u001b[0mindex\u001b[0m\u001b[0;34m[\u001b[0m\u001b[0mind_end\u001b[0m\u001b[0;34m[\u001b[0m\u001b[0mi\u001b[0m\u001b[0;34m]\u001b[0m\u001b[0;34m]\u001b[0m\u001b[0;34m,\u001b[0m \u001b[0mcolor\u001b[0m\u001b[0;34m=\u001b[0m\u001b[0;34m'orange'\u001b[0m\u001b[0;34m,\u001b[0m \u001b[0malpha\u001b[0m\u001b[0;34m=\u001b[0m\u001b[0;36m0.1\u001b[0m\u001b[0;34m)\u001b[0m\u001b[0;34m\u001b[0m\u001b[0;34m\u001b[0m\u001b[0m\n\u001b[0m\u001b[1;32m     26\u001b[0m \u001b[0;34m\u001b[0m\u001b[0m\n\u001b[1;32m     27\u001b[0m         \u001b[0;31m# Add figure to /figures\u001b[0m\u001b[0;34m\u001b[0m\u001b[0;34m\u001b[0m\u001b[0;34m\u001b[0m\u001b[0m\n",
      "\u001b[0;32m/Library/Frameworks/Python.framework/Versions/3.9/lib/python3.9/site-packages/pandas/core/indexes/extension.py\u001b[0m in \u001b[0;36m__getitem__\u001b[0;34m(self, key)\u001b[0m\n\u001b[1;32m    277\u001b[0m \u001b[0;34m\u001b[0m\u001b[0m\n\u001b[1;32m    278\u001b[0m     \u001b[0;32mdef\u001b[0m \u001b[0m__getitem__\u001b[0m\u001b[0;34m(\u001b[0m\u001b[0mself\u001b[0m\u001b[0;34m,\u001b[0m \u001b[0mkey\u001b[0m\u001b[0;34m)\u001b[0m\u001b[0;34m:\u001b[0m\u001b[0;34m\u001b[0m\u001b[0;34m\u001b[0m\u001b[0m\n\u001b[0;32m--> 279\u001b[0;31m         \u001b[0mresult\u001b[0m \u001b[0;34m=\u001b[0m \u001b[0mself\u001b[0m\u001b[0;34m.\u001b[0m\u001b[0m_data\u001b[0m\u001b[0;34m[\u001b[0m\u001b[0mkey\u001b[0m\u001b[0;34m]\u001b[0m\u001b[0;34m\u001b[0m\u001b[0;34m\u001b[0m\u001b[0m\n\u001b[0m\u001b[1;32m    280\u001b[0m         \u001b[0;32mif\u001b[0m \u001b[0misinstance\u001b[0m\u001b[0;34m(\u001b[0m\u001b[0mresult\u001b[0m\u001b[0;34m,\u001b[0m \u001b[0mtype\u001b[0m\u001b[0;34m(\u001b[0m\u001b[0mself\u001b[0m\u001b[0;34m.\u001b[0m\u001b[0m_data\u001b[0m\u001b[0;34m)\u001b[0m\u001b[0;34m)\u001b[0m\u001b[0;34m:\u001b[0m\u001b[0;34m\u001b[0m\u001b[0;34m\u001b[0m\u001b[0m\n\u001b[1;32m    281\u001b[0m             \u001b[0;32mif\u001b[0m \u001b[0mresult\u001b[0m\u001b[0;34m.\u001b[0m\u001b[0mndim\u001b[0m \u001b[0;34m==\u001b[0m \u001b[0;36m1\u001b[0m\u001b[0;34m:\u001b[0m\u001b[0;34m\u001b[0m\u001b[0;34m\u001b[0m\u001b[0m\n",
      "\u001b[0;32m/Library/Frameworks/Python.framework/Versions/3.9/lib/python3.9/site-packages/pandas/core/arrays/datetimelike.py\u001b[0m in \u001b[0;36m__getitem__\u001b[0;34m(self, key)\u001b[0m\n\u001b[1;32m    320\u001b[0m         \u001b[0monly\u001b[0m \u001b[0mhandle\u001b[0m \u001b[0mlist\u001b[0m\u001b[0;34m-\u001b[0m\u001b[0mlikes\u001b[0m\u001b[0;34m,\u001b[0m \u001b[0mslices\u001b[0m\u001b[0;34m,\u001b[0m \u001b[0;32mand\u001b[0m \u001b[0minteger\u001b[0m \u001b[0mscalars\u001b[0m\u001b[0;34m\u001b[0m\u001b[0;34m\u001b[0m\u001b[0m\n\u001b[1;32m    321\u001b[0m         \"\"\"\n\u001b[0;32m--> 322\u001b[0;31m         \u001b[0mresult\u001b[0m \u001b[0;34m=\u001b[0m \u001b[0msuper\u001b[0m\u001b[0;34m(\u001b[0m\u001b[0;34m)\u001b[0m\u001b[0;34m.\u001b[0m\u001b[0m__getitem__\u001b[0m\u001b[0;34m(\u001b[0m\u001b[0mkey\u001b[0m\u001b[0;34m)\u001b[0m\u001b[0;34m\u001b[0m\u001b[0;34m\u001b[0m\u001b[0m\n\u001b[0m\u001b[1;32m    323\u001b[0m         \u001b[0;32mif\u001b[0m \u001b[0mlib\u001b[0m\u001b[0;34m.\u001b[0m\u001b[0mis_scalar\u001b[0m\u001b[0;34m(\u001b[0m\u001b[0mresult\u001b[0m\u001b[0;34m)\u001b[0m\u001b[0;34m:\u001b[0m\u001b[0;34m\u001b[0m\u001b[0;34m\u001b[0m\u001b[0m\n\u001b[1;32m    324\u001b[0m             \u001b[0;32mreturn\u001b[0m \u001b[0mresult\u001b[0m\u001b[0;34m\u001b[0m\u001b[0;34m\u001b[0m\u001b[0m\n",
      "\u001b[0;32m/Library/Frameworks/Python.framework/Versions/3.9/lib/python3.9/site-packages/pandas/core/arrays/_mixins.py\u001b[0m in \u001b[0;36m__getitem__\u001b[0;34m(self, key)\u001b[0m\n\u001b[1;32m    192\u001b[0m         \u001b[0;32mif\u001b[0m \u001b[0mlib\u001b[0m\u001b[0;34m.\u001b[0m\u001b[0mis_integer\u001b[0m\u001b[0;34m(\u001b[0m\u001b[0mkey\u001b[0m\u001b[0;34m)\u001b[0m\u001b[0;34m:\u001b[0m\u001b[0;34m\u001b[0m\u001b[0;34m\u001b[0m\u001b[0m\n\u001b[1;32m    193\u001b[0m             \u001b[0;31m# fast-path\u001b[0m\u001b[0;34m\u001b[0m\u001b[0;34m\u001b[0m\u001b[0;34m\u001b[0m\u001b[0m\n\u001b[0;32m--> 194\u001b[0;31m             \u001b[0mresult\u001b[0m \u001b[0;34m=\u001b[0m \u001b[0mself\u001b[0m\u001b[0;34m.\u001b[0m\u001b[0m_ndarray\u001b[0m\u001b[0;34m[\u001b[0m\u001b[0mkey\u001b[0m\u001b[0;34m]\u001b[0m\u001b[0;34m\u001b[0m\u001b[0;34m\u001b[0m\u001b[0m\n\u001b[0m\u001b[1;32m    195\u001b[0m             \u001b[0;32mif\u001b[0m \u001b[0mself\u001b[0m\u001b[0;34m.\u001b[0m\u001b[0mndim\u001b[0m \u001b[0;34m==\u001b[0m \u001b[0;36m1\u001b[0m\u001b[0;34m:\u001b[0m\u001b[0;34m\u001b[0m\u001b[0;34m\u001b[0m\u001b[0m\n\u001b[1;32m    196\u001b[0m                 \u001b[0;32mreturn\u001b[0m \u001b[0mself\u001b[0m\u001b[0;34m.\u001b[0m\u001b[0m_box_func\u001b[0m\u001b[0;34m(\u001b[0m\u001b[0mresult\u001b[0m\u001b[0;34m)\u001b[0m\u001b[0;34m\u001b[0m\u001b[0;34m\u001b[0m\u001b[0m\n",
      "\u001b[0;31mIndexError\u001b[0m: index 3967222 is out of bounds for axis 0 with size 126821"
     ]
    },
    {
     "data": {
      "image/png": "[encoded data removed]",
      "text/plain": [
       "<Figure size 720x576 with 1 Axes>"
      ]
     },
     "metadata": {
      "needs_background": "light"
     },
     "output_type": "display_data"
    }
   ],
   "source": [
    "#Testing for KAN_L in specific period\n",
    "df_abl = df['2017-01-05':'2017-08-30']\n",
    "\n",
    "plotsite(df, 'KAN_L')"
   ]
  },
  {
   "cell_type": "code",
   "execution_count": null,
   "metadata": {},
   "outputs": [],
   "source": [
    "# Takes some time - For all sites\n",
    "for site in df.stid.unique().tolist():\n",
    "    df = df[df[\"stid\"] == site]\n",
    "    f1 = plt.figure(figsize=(10, 8))    \n",
    "    df[\"z_pt_cor_adj\"].plot(label = 'Pressure transducer')\n",
    "    df[\"z_surf_1_adj\"].plot(label = 'SonicRanger1')\n",
    "    df[\"z_surf_2_adj\"].plot(label = 'SonicRanger2')\n",
    "    df[\"z_surf_combined\"].plot(label = 'Summary',\n",
    "             linestyle='--', linewidth=2, color = 'tab:red')\n",
    "\n",
    "    plt.legend(prop={'size': 15})\n",
    "    plt.xlabel('Year',size=20)\n",
    "    plt.ylabel('Height (m)',size=20)\n",
    "    plt.title(site,size=20)\n",
    "    plt.grid()\n",
    "   # for i, y in enumerate(years):\n",
    "   #     plt.axvspan(df.index[ind_start[i]],df.index[ind_end[i]], color='orange', alpha=0.1)"
   ]
  }
 ],
 "metadata": {
  "colab": {
   "provenance": []
  },
  "kernelspec": {
   "display_name": "Python 3 (ipykernel)",
   "language": "python",
   "name": "python3"
  },
  "language_info": {
   "codemirror_mode": {
    "name": "ipython",
    "version": 3
   },
   "file_extension": ".py",
   "mimetype": "text/x-python",
   "name": "python",
   "nbconvert_exporter": "python",
   "pygments_lexer": "ipython3",
   "version": "3.8.8"
  },
  "vscode": {
   "interpreter": {
    "hash": "aee8b7b246df8f9039afb4144a1f6fd8d2ca17a180786b69acc140d282b71a49"
   }
  }
 },
 "nbformat": 4,
 "nbformat_minor": 1
}
