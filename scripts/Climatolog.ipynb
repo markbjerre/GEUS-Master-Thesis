{
 "cells": [
  {
   "cell_type": "markdown",
   "metadata": {
    "id": "FTbsuMgO3ery"
   },
   "source": [
    "Import relevant Libaries "
   ]
  },
  {
   "cell_type": "code",
   "execution_count": 1,
   "metadata": {
    "id": "yJLqdDNx3j-Y"
   },
   "outputs": [],
   "source": [
    "# Base libraries\n",
    "import pandas as pd\n",
    "import numpy as np\n",
    "import os\n",
    "import math as math\n",
    "import datetime\n",
    "from scipy import stats\n",
    "import prettytable as pr\n",
    "\n",
    "# Visualizations\n",
    "import plotly.express as px\n",
    "import plotly.graph_objects as go"
   ]
  },
  {
   "cell_type": "markdown",
   "metadata": {},
   "source": [
    "**Helper Functions**"
   ]
  },
  {
   "cell_type": "code",
   "execution_count": 27,
   "metadata": {},
   "outputs": [],
   "source": [
    "import glob\n",
    "\n",
    "def _get_data(source):\n",
    "    # Define the directory path where the CSV files are located\n",
    "    if source == 'GC_net':\n",
    "        input_path =r'../data/gc_net/daily_data/'\n",
    "    elif source == 'promice':\n",
    "        input_path =r'../data/promice/new_promice/daily_data/'\n",
    "    else: \n",
    "        raise ValueError(\"Only 'GC Net' & 'Promice' are accepted input values\")\n",
    "    \n",
    "    pattern = '*.csv'\n",
    "    #staion_list = ['SCO_L.csv','KAN_L.csv']\n",
    "\n",
    "    # Use glob to get a list of all files that match the pattern\n",
    "    filenames = glob.glob(input_path + pattern)\n",
    "\n",
    "    data_collection = []\n",
    "    for file in filenames:\n",
    "        data = pd.read_csv(file, index_col=False)\n",
    "        data_collection.append(data)\n",
    "    data = pd.concat(data_collection)\n",
    "\n",
    "    data = data.reset_index(drop=True)\n",
    "    return data\n",
    "df = _get_data('promice')\n",
    "data = _get_data('promice')\n",
    "def _load_data(data):\n",
    "    df_out = df.copy()\n",
    "    \n",
    "    return df_out\n",
    "\n",
    "\n",
    "def _align_GC_PR():\n",
    "    station = \"stid\"\n",
    "    datetime = \"Datetime\"\n",
    "    dayofcentury = \"DayOfCentury\"\n",
    "    dayofyear = 'DayOfYear'\n",
    "    return station,datetime,dayofcentury,dayofyear\n",
    "\n",
    "def _exclude():\n",
    "    # List of columns to exclude from percentile calculation\n",
    "    exclude = ['Year', 'MonthOfYear', 'DayOfMonth', 'HourOfDay(UTC)', \n",
    "               'DayOfYear', 'LongitudeGPS(degW)','HeightStakes(m)',\n",
    "               'DayOfCentury', 'WindDirection(d)', 'TiltToEast(d)', \n",
    "               'TiltToNorth(d)', 'TimeGPS(hhmmssUTC)', 'LatitudeGPS(degN)', \n",
    "               'ElevationGPS(m)', 'HorDilOfPrecGPS', 'LoggerTemperature(C)',\n",
    "               'FanCurrent(mA)', 'BatteryVoltage(V)', 'Month', 'Day', 'Hour',\n",
    "\n",
    "              'air_temperature_1_max', 'air_temperature_1_min',\n",
    "              'wind_speed_u1_max','wind_speed_u2_max',\n",
    "              'wind_from_direction_1', 'wind_from_direction_2', \n",
    "              'height_wind_sensor_1', 'height_wind_sensor_2', 'battery_voltage',\n",
    "              'shortwave_incoming_radiation_max',\n",
    "              'shortwave_incoming_radiation_stdev', 'net_radiation_stdev',\n",
    "              'air_temperature_2_max', 'air_temperature_2_min', \n",
    "              'wind_speed_u2_stdev', 'ref_temperature',   'wind_speed_u1_stdev',\n",
    "              'net_radiation_maximum', 'season', 'year', 'month', 'DayOfYear',\n",
    "              'DayOfCentury', 'Unnamed: 0']\n",
    "    return exclude\n",
    "\n",
    "def _subset_df(date, df, station, datetime, measurement, dayofcentury, dayofyear, aws):\n",
    "    exclude = _exclude()\n",
    "    df['Datetime'] = pd.to_datetime(df['Datetime'], format='%Y-%m-%d')\n",
    "    # Split date input into year, month, day\n",
    "    year = int(date[0:4])\n",
    "    month = int(date[5:7])\n",
    "    day = int(date[8:10])\n",
    "\n",
    "\n",
    "\n",
    "    date_df = df.loc[(df['Datetime'].dt.year == year) & (df['Datetime'].dt.month == month) & (df['Datetime'].dt.day == day)]\n",
    "\n",
    "    # Find the day of year\n",
    "    day =  date_df[\"DayOfYear\"].mean()\n",
    "    \n",
    "    # find day of century\n",
    "    day_century = date_df[dayofcentury].mean() \n",
    "    \n",
    "    #Create a list of relevant columns\n",
    "    columns = df.select_dtypes(include=[np.number]).columns.difference(exclude)\n",
    "\n",
    "    ## Subset by measurement\n",
    "        #df = df[[station,datetime, measurement, dayofcentury,dayofyear]]\n",
    "    if measurement == \"All\":\n",
    "        df = df\n",
    "    elif measurement in columns:\n",
    "        # subset by measurement\n",
    "        df = df[[station,datetime, measurement, dayofcentury, dayofyear, 'year']]\n",
    "        #Update list of relevant column\n",
    "        columns = df.select_dtypes(include=[np.number]).columns.difference(exclude)\n",
    "    else: \n",
    "        raise ValueError(f\"The input for the variable 'measurement' was not recognizable. Please use one of the following options: {columns}\")\n",
    "    \n",
    "    ## Subset by station\n",
    "        #df = df.loc[df[station] == aws]\n",
    "    #Create a list of unique files (stations) from the dataset \n",
    "    unique_files = list(df[station].unique())\n",
    "\n",
    "    if aws == \"All\":\n",
    "        df = df\n",
    "    elif aws in unique_files:\n",
    "        # filter by aws\n",
    "        df = df.loc[df[station] == aws]\n",
    "        #Update list of unique files (stations) from the dataset \n",
    "        unique_files = list(df[station].unique())\n",
    "        #display(df)\n",
    "    else: \n",
    "        raise ValueError(f\"The input for the variable 'aws' was not recognizable. Please use one of the following options: {unique_files}\")\n",
    "    \n",
    "    return day, df,columns, day_century, unique_files\n",
    "\n",
    "def _subset_scope(scope, window, df,date, day):\n",
    "    \n",
    "    def summarize_df(df,min_values , window):\n",
    "        #Number by observation period (avoids classifying on year if 30 day period spans across Dec + Jan)\n",
    "        df['group_number'] = (df\n",
    "                              .groupby('file',group_keys=False)['Datetime']\n",
    "                              .apply(lambda x: (x - x.shift(1)).fillna(pd.Timedelta(seconds=0)).dt.days.gt(2).cumsum())\n",
    "        )\n",
    "        if window == 'year':\n",
    "            df['group_number'] = df['year'].astype(int).copy()\n",
    "            \n",
    "        grouped = df.groupby(['file', 'group_number'], group_keys=False)\n",
    "        \n",
    "        #Adding column so all grouped observations has same year\n",
    "        df['year'] = grouped['Datetime'].transform(lambda x: x.max().year)\n",
    "\n",
    "        df['target_date'] = grouped['Datetime'].transform(lambda x: (x ==date).max())\n",
    "        #display(df.head(20))\n",
    "        # Specify columns containing numerical values to be averaged\n",
    "        columns_to_average = (df\n",
    "            .select_dtypes(exclude=['object'])\n",
    "            .drop(columns=['Datetime', 'DayOfYear', 'DayOfCentury', 'group_number', 'year', 'target_date'])\n",
    "            .columns)\n",
    "        \n",
    "        # Calculate the number of non-NaN values for each variable within each group\n",
    "        valid_date_observations = grouped[columns_to_average].apply(lambda x: x.notna().sum() <= min_values)\n",
    "\n",
    "        # Calculate average per day per station\n",
    "        df_filtered = grouped[columns_to_average].mean()\n",
    "\n",
    "        #Remove means with less than 20 observations per day\n",
    "        df_masked = df_filtered.mask(valid_date_observations, np.nan)\n",
    "\n",
    "        df_masked =  df_masked.merge(df[['file','group_number','year', 'target_date']].drop_duplicates(), how='left',on=['file','group_number'])\n",
    "        \n",
    "        df = df_masked.reset_index(drop=True).drop('group_number',axis=1)\n",
    "        return df\n",
    "\n",
    "    #set the range of days\n",
    "    week = datetime.datetime.strptime(date,'%Y-%m-%d').date().isocalendar()[1]\n",
    "    month = datetime.datetime.strptime(date,'%Y-%m-%d').month\n",
    "    sliding_7_day = [x+366 if x < 0 else x for x in np.arange(day-6,day+1).tolist()] \n",
    "    sliding_30_day = [x+366 if x < 0 else x for x in np.arange(day-29, day+1).tolist()]\n",
    "    year = [x for x in np.arange(0, day+1).tolist()]\n",
    "    \n",
    "    #exclude data from after the given date\n",
    "    #df = df.loc[df['Datetime'] <= date]\n",
    "    \n",
    "    if scope == \"Relative\":\n",
    "        if window == 'day':\n",
    "        # filter by calender day\n",
    "            df = df.loc[df['DayOfYear'] == day]\n",
    "            df = summarize_df(df, 0, window)\n",
    "\n",
    "        elif window == 'week':\n",
    "            df = df.loc[df['Datetime'].dt.isocalendar().week.astype(int) == week]\n",
    "            df = summarize_df(df, 5, window)\n",
    "        \n",
    "        elif window == 'sliding_avg_7':\n",
    "            df = df.loc[df['DayOfYear'].isin(sliding_7_day)]\n",
    "            df = summarize_df(df, 5, window)\n",
    "            \n",
    "        elif window == 'month':\n",
    "            df = df.loc[(df['Datetime'].dt.month == month)]\n",
    "            df = summarize_df(df, 24, window)\n",
    "\n",
    "        elif window == 'sliding_avg_30':\n",
    "            df = df.loc[df['DayOfYear'].isin(sliding_30_day)]\n",
    "            df = summarize_df(df, 24, window)\n",
    "  \n",
    "        elif window == 'year':\n",
    "            df = df.loc[df['DayOfYear'].isin(year)]\n",
    "            df = summarize_df(df, day*0.70, window='year')\n",
    "\n",
    "        else:\n",
    "            raise ValueError(f\"The input for the variable 'window' was not recognizable. Please use one of the following options: 'day', 'week', 'month', 'year', 'sliding_avg_7' or 'sliding_avg30'\")\n",
    "\n",
    "    elif scope == \"Absolute\":\n",
    "        df = df\n",
    "    else: \n",
    "        raise ValueError(\"The input for the variable 'scope' was not recognizable. Please use one of the following options: 'Relative' , 'Absolute'\")\n",
    "    return df\n",
    "\n",
    "def _percentiles(df, unique_files, station, columns):\n",
    "\n",
    "        #Create an empty list to hold the percentile values\n",
    "    percentiles = []\n",
    "\n",
    "    print(\"Calculating Percentiles .... \")\n",
    "    #Loop through each file in the unique_files list\n",
    "    for i, file in enumerate(unique_files):\n",
    "        \n",
    "        #Calculate the percentile of each numerical column for the specified datetime\n",
    "        df_file = df[df[station] == file]\n",
    "        #display(df_file)\n",
    "        #Create an empty dictionary\n",
    "        percentile_dict = {}\n",
    "        for col in columns:\n",
    "          #Looping through each row of the dataframe\n",
    "          for index, row in df_file.iterrows():\n",
    "            #row_date = row[dayofcentury]\n",
    "            #print('row_date',row_date,'DAY_CENTURY', day_century, 'FILE:', file)\n",
    "            if row['target_date'] == True and ~ np.isnan(row[col]):\n",
    "            #if ~ np.isnan(row[col]):\n",
    "                # Retrieving Value \n",
    "                #print('passed')\n",
    "                value = row[col]\n",
    "                \n",
    "                # Excluding NAN's for the calculation\n",
    "                col_list = df_file[col].dropna().values.tolist()\n",
    "                \n",
    "                # Calculate the Percentiles\n",
    "                percentile = stats.percentileofscore(col_list,value, kind = \"mean\")\n",
    "                #Count the number of values \n",
    "                count = len(col_list)\n",
    "                #Median of the number of values \n",
    "                median = np.nanmedian(col_list, axis=0)\n",
    "            \n",
    "                # Assign file, value and, percentile to dictionary\n",
    "                percentile_dict[col] = row[col]\n",
    "                percentile_dict[f\"{col}_pcte\"] = percentile\n",
    "                percentile_dict[f\"{col}_n\"] = count\n",
    "                percentile_dict[f\"{col}_median\"] = median\n",
    "                \n",
    "        percentile_dict[\"Station\"] = file\n",
    "\n",
    "          #Add the percentile dictionary to the list\n",
    "        percentiles.append({'Station': file,**percentile_dict})\n",
    "    \n",
    "    print(\"Finished Calculating Percentiles\")\n",
    "    \n",
    "    #Create a dataframe from the list of dictionaries\n",
    "    percentiles_df = pd.DataFrame(percentiles)\n",
    "\n",
    "    print(\"Transforming Output...\")\n",
    "\n",
    "    return percentiles_df\n",
    "\n",
    "def _transform_percentiles(percentiles_df):\n",
    "    \n",
    "    # Define a list of all the columns in the original dataframe\n",
    "    columns_list = percentiles_df.columns\n",
    "    \n",
    "    # Split the list into three parts based on which columns have '_pcte', '_n', _median in the name\n",
    "    century_list = [i for i in columns_list if '_pcte' in i]\n",
    "    number_list = [i for i in columns_list if '_n' in i]\n",
    "    median_list = [i for i in columns_list if '_median' in i]\n",
    "    \n",
    "    # Select the columns which do not have '_pcte' and '_n'\n",
    "    value_list = [i for i in columns_list if i not in century_list and i not in number_list and i not in median_list and i not in \"Station\"] \n",
    "    # Build the new dataframe from the lists\n",
    "    transformed_df = pd.DataFrame(columns=['Station', 'Measurement', 'Percentile', 'Number of Comparison Values', 'Original Value', 'Median'])\n",
    "    # Loop through each entry in the original dataframe\n",
    "    for row in percentiles_df.iterrows():\n",
    "        # Take the Station value and loop through all of the remaining values\n",
    "        station_val = row[1]['Station']\n",
    "        for value, century, number, median in zip(value_list, century_list, number_list,median_list):\n",
    "            # Create a new entry for the transformed_df\n",
    "            new_entry = [station_val, value, row[1][century], row[1][number], row[1][value], row[1][median]]\n",
    "            transformed_df.loc[len(transformed_df)] = new_entry\n",
    "     \n",
    "    # Filter out extreme values       \n",
    "    transformed_df = transformed_df[(transformed_df[\"Percentile\"] > 90) | (transformed_df[\"Percentile\"] < 10)].reset_index(drop=True)\n",
    "    \n",
    "    return transformed_df"
   ]
  },
  {
   "attachments": {},
   "cell_type": "markdown",
   "metadata": {},
   "source": [
    "**visualization**"
   ]
  },
  {
   "cell_type": "code",
   "execution_count": 4,
   "metadata": {},
   "outputs": [
    {
     "name": "stdout",
     "output_type": "stream",
     "text": [
      "DatetimeIndex(['1990-12-31', '1991-12-31', '1992-12-31', '1993-12-31',\n",
      "               '1994-12-31', '1995-12-31', '1996-12-31', '1997-12-31',\n",
      "               '1998-12-31', '1999-12-31', '2000-12-31', '2001-12-31',\n",
      "               '2002-12-31', '2003-12-31', '2004-12-31', '2005-12-31',\n",
      "               '2006-12-31', '2007-12-31', '2008-12-31', '2009-12-31',\n",
      "               '2010-12-31', '2011-12-31', '2012-12-31', '2013-12-31',\n",
      "               '2014-12-31', '2015-12-31', '2016-12-31', '2017-12-31',\n",
      "               '2018-12-31', '2019-12-31', '2020-12-31', '2021-12-31'],\n",
      "              dtype='datetime64[ns]', freq='A-DEC')\n",
      "DatetimeIndex(['1990-12-31', '1991-12-31', '1992-12-31', '1993-12-31',\n",
      "               '1994-12-31', '1995-12-31', '1996-12-31', '1997-12-31',\n",
      "               '1998-12-31', '1999-12-31', '2000-12-31', '2001-12-31',\n",
      "               '2002-12-31', '2003-12-31', '2004-12-31', '2005-12-31',\n",
      "               '2006-12-31', '2007-12-31', '2008-12-31', '2009-12-31',\n",
      "               '2010-12-31', '2011-12-31', '2012-12-31', '2013-12-31',\n",
      "               '2014-12-31', '2015-12-31', '2016-12-31', '2017-12-31',\n",
      "               '2018-12-31', '2019-12-31', '2020-12-31', '2021-12-31'],\n",
      "              dtype='datetime64[ns]', freq='A-DEC')\n",
      "DatetimeIndex(['1990-06-01', '1990-07-01', '1990-08-01', '1990-09-01',\n",
      "               '1990-10-01', '1990-11-01', '1990-12-01', '1991-01-01',\n",
      "               '1991-02-01', '1991-03-01',\n",
      "               ...\n",
      "               '2022-01-01', '2022-02-01', '2022-03-01', '2022-04-01',\n",
      "               '2022-05-01', '2022-06-01', '2022-07-01', '2022-08-01',\n",
      "               '2022-09-01', '2022-10-01'],\n",
      "              dtype='datetime64[ns]', length=389, freq='MS')\n"
     ]
    }
   ],
   "source": [
    "start_date = df['Datetime'].min()\n",
    "end_date= df['Datetime'].max()\n",
    "\n",
    "# Generate the date range with the first day of each month\n",
    "last_day_of_year_range = pd.date_range(f\"{start_date}\", f\"{end_date}\", freq='A-DEC')\n",
    "print(last_day_of_year_range)\n",
    "\n",
    "for i in last_day_of_year_range:\n",
    "    #generate annual figures\n",
    "    #somecode\n",
    "    pass\n",
    "\n",
    "first_day_date_range = pd.date_range(start_date, end_date, freq='MS')\n",
    "last_day_of_month_range = first_day_date_range - pd.Timedelta(days=1)\n",
    "for i in last_day_of_month_range:\n",
    "    #generate monthly figures\n",
    "    #somecode\n",
    "    pass\n",
    "\n",
    "date_range = pd.date_range(start_date, end_date, freq='W-SUN')\n",
    "\n",
    "\n",
    "print(last_day_of_year_range)\n",
    "\n",
    "print(first_day_date_range)"
   ]
  },
  {
   "cell_type": "markdown",
   "metadata": {
    "id": "NqiI9vb8I1ID"
   },
   "source": [
    "**Report Functions**"
   ]
  },
  {
   "cell_type": "code",
   "execution_count": 5,
   "metadata": {
    "id": "ZSEjn5zDJMYZ"
   },
   "outputs": [],
   "source": [
    "def get_data(data, measurement, aws, date = datetime.datetime.today().strftime('%Y-%m-%d') \n",
    "                   ,scope = \"Relative\", window = 'day', output = \"Report\"):\n",
    "    \"\"\"\n",
    "    Function to return the underlying dataset of specified values given a selected date.\n",
    "    \n",
    "    Parameters:\n",
    "    data (str): The dataset to be used.\n",
    "    date (str): The date of the observations for which the percentile is calculated.\n",
    "    aws (str): The automatic weather station.\n",
    "    measurement (str): The measurement. \n",
    "    scope (str): Relative: values are compared to historical values of the day of year. \n",
    "                 Absolute: values are compared to historical values.\n",
    "\n",
    "    output (str): Output as pd.df or as printed report. \n",
    "  \n",
    "    \"\"\"\n",
    "    \n",
    "    # Load Data\n",
    "    df = _load_data(data)\n",
    "    \n",
    "    # Align GC Net & PROMICE Columns  \n",
    "    station, datetime, dayofcentury, dayofyear = _align_GC_PR()\n",
    "    \n",
    "    # Subset Data (date, measurement, station)\n",
    "    day, df,columns, day_century, unique_files = _subset_df(date,df, station, datetime, measurement, dayofcentury, dayofyear, aws)\n",
    "    \n",
    "    # Subset Data (Scope)\n",
    "    df = _subset_scope(scope, window, df, date, day)\n",
    "    \n",
    "    df = df.reset_index(drop=True).drop('target_date', axis=1)\n",
    "\n",
    "    ##### Output #######\n",
    "    if output == \"Report\":\n",
    "        from tabulate import tabulate\n",
    "        #### Report OUTPUT ###########\n",
    "        print(\n",
    "          f\"  Selected Date: {date} \\n\" ,\n",
    "          f\"Selected Station: {aws} \\n\" , \n",
    "          f\"Selected Measurement: {measurement} \\n\"  , \n",
    "          f\"Selected Data: {data} \\n\" ,\n",
    "          f\"Selected Scope: {scope} \\n\" ,\n",
    "          \"----------------------------------------------------------------------------------------------------------------------\\n\",\n",
    "          f\"                   Climatology Report\\n\" \n",
    "          )        \n",
    "        print(tabulate(df, headers='keys', tablefmt='psql'))\n",
    "        #return df\n",
    "\n",
    "    elif output == \"Data\":\n",
    "        return df\n",
    "    else: \n",
    "        raise ValueError(\"The input for the variable 'output' was not recognizable. Please use one of the following options: 'Report', 'Data'\" )\n",
    "\n",
    "\n",
    "    \n"
   ]
  },
  {
   "cell_type": "code",
   "execution_count": 6,
   "metadata": {
    "id": "muRqsWyVVASH"
   },
   "outputs": [],
   "source": [
    "def daily_report(data, date = datetime.datetime.today().strftime('%Y-%m-%d'), \n",
    "                 aws = \"All\", measurement = \"All\", scope = \"Relative\", window = 'day', output = \"Report\", aggregated = False):\n",
    "    \"\"\"\n",
    "    Function to return the percentile of specified values given a selected date.\n",
    "    \n",
    "    Parameters:\n",
    "    data (str): The dataset to be used.\n",
    "    date (str): The date of the observations for which the percentile is calculated.\n",
    "    aws (str): The automatic weather station.\n",
    "    measurement (str): The measurement. \n",
    "    scope (str): Relative: values are compared to historical values of the day of year. \n",
    "                 Absolute: values are compared to historical values.\n",
    "    aggregated (bool): False: output is not aggregated.\n",
    "                       True: averages of stations are calculated.\n",
    "\n",
    "    output (str): Output as pd.df or as printed report. \n",
    "  \n",
    "    \"\"\"\n",
    "    # Load Data\n",
    "    df = _load_data(data)\n",
    "    \n",
    "    # Align GC Net & PROMICE Columns  \n",
    "    station, datetime, dayofcentury, dayofyear = _align_GC_PR()\n",
    " \n",
    "    #Account for Aggregate variable\n",
    "    if aggregated == False:\n",
    "        df = df\n",
    "    elif aggregated == True:\n",
    "        # Group df by station \n",
    "        df = df ##### TBD #######\n",
    "    else: \n",
    "        raise ValueError(f\"The input for the variable 'aggregated' was not recognizable. Please use one of the following options: True, False\")\n",
    "\n",
    "    # Subset Data (date, measurement, station)\n",
    "    #day, df = _subset_df(date,df, station, datetime, measurement, dayofcentury, dayofyear, aws)\n",
    "    day, df,columns, day_century, unique_files = _subset_df(date, df, station, datetime, measurement, dayofcentury, dayofyear, aws)\n",
    "    \n",
    "    # Subset Data (Scope)\n",
    "    df = _subset_scope(scope, window, df, date, day)\n",
    "    \n",
    "    # Calculate Percentiles\n",
    "    percentiles_df = _percentiles(df, unique_files, station, columns)\n",
    "  \n",
    "    # Transform Output\n",
    "    transformed_df = _transform_percentiles(percentiles_df)\n",
    "    \n",
    "    print(\"Finished\")\n",
    "    print(\"----------------------------------------------------------------------------------------------------------------------\\n\")\n",
    "\n",
    "   # print(tabulate(percentiles_df, headers='keys', tablefmt='psql'))\n",
    "   # return percentiles_df\n",
    "    if output == \"Report\":\n",
    "        from tabulate import tabulate\n",
    "        #### Report OUTPUT ###########\n",
    "        print(\n",
    "          f\"  Selected Date: {date} \\n\" ,\n",
    "          f\"Selected Station: {aws} \\n\" , \n",
    "          f\"Selected Measurement: {measurement} \\n\"  , \n",
    "          f\"Selected Data: {data} \\n\" ,\n",
    "          f\"Selected Scope: {scope} \\n\" ,\n",
    "          \"----------------------------------------------------------------------------------------------------------------------\\n\",\n",
    "          f\"                   Climatology Report\\n\" \n",
    "          )        \n",
    "        print(tabulate(transformed_df, headers='keys', tablefmt='psql'))\n",
    "       \n",
    "        input_ = input(\"Do you want to include graphics? (Y/N)\")\n",
    "        if input_ == \"Y\":\n",
    "          ########## TBD: Replace with boxplot function #################\n",
    "          print(\"Functionality is in development\")\n",
    "   \n",
    "    elif output == \"Data\":\n",
    "        print()\n",
    "        return transformed_df\n",
    "    else: \n",
    "        raise ValueError(\"The input for the variable 'output' was not recognizable. Please use one of the following options: 'Report', 'Data'\" )"
   ]
  },
  {
   "cell_type": "code",
   "execution_count": 7,
   "metadata": {
    "colab": {
     "base_uri": "https://localhost:8080/",
     "height": 1000
    },
    "id": "a_PCDX9qbKdO",
    "outputId": "064050ab-0609-46db-9583-f3b3085dd7f8"
   },
   "outputs": [
    {
     "name": "stderr",
     "output_type": "stream",
     "text": [
      "C:\\Users\\mabj16ac\\AppData\\Local\\Temp\\2\\ipykernel_13588\\1098300415.py:117: SettingWithCopyWarning: \n",
      "A value is trying to be set on a copy of a slice from a DataFrame.\n",
      "Try using .loc[row_indexer,col_indexer] = value instead\n",
      "\n",
      "See the caveats in the documentation: https://pandas.pydata.org/pandas-docs/stable/user_guide/indexing.html#returning-a-view-versus-a-copy\n",
      "  df['group_number'] = (df\n",
      "C:\\Users\\mabj16ac\\AppData\\Local\\Temp\\2\\ipykernel_13588\\1098300415.py:127: SettingWithCopyWarning: \n",
      "A value is trying to be set on a copy of a slice from a DataFrame.\n",
      "Try using .loc[row_indexer,col_indexer] = value instead\n",
      "\n",
      "See the caveats in the documentation: https://pandas.pydata.org/pandas-docs/stable/user_guide/indexing.html#returning-a-view-versus-a-copy\n",
      "  df['year'] = grouped['Datetime'].transform(lambda x: x.max().year)\n",
      "C:\\Users\\mabj16ac\\AppData\\Local\\Temp\\2\\ipykernel_13588\\1098300415.py:129: SettingWithCopyWarning: \n",
      "A value is trying to be set on a copy of a slice from a DataFrame.\n",
      "Try using .loc[row_indexer,col_indexer] = value instead\n",
      "\n",
      "See the caveats in the documentation: https://pandas.pydata.org/pandas-docs/stable/user_guide/indexing.html#returning-a-view-versus-a-copy\n",
      "  df['target_date'] = grouped['Datetime'].transform(lambda x: (x ==date).max())\n"
     ]
    },
    {
     "name": "stdout",
     "output_type": "stream",
     "text": [
      "Calculating Percentiles .... \n",
      "Finished Calculating Percentiles\n",
      "Transforming Output...\n",
      "Finished\n",
      "----------------------------------------------------------------------------------------------------------------------\n",
      "\n",
      "\n"
     ]
    },
    {
     "data": {
      "text/html": [
       "<div>\n",
       "<style scoped>\n",
       "    .dataframe tbody tr th:only-of-type {\n",
       "        vertical-align: middle;\n",
       "    }\n",
       "\n",
       "    .dataframe tbody tr th {\n",
       "        vertical-align: top;\n",
       "    }\n",
       "\n",
       "    .dataframe thead th {\n",
       "        text-align: right;\n",
       "    }\n",
       "</style>\n",
       "<table border=\"1\" class=\"dataframe\">\n",
       "  <thead>\n",
       "    <tr style=\"text-align: right;\">\n",
       "      <th></th>\n",
       "      <th>Station</th>\n",
       "      <th>Measurement</th>\n",
       "      <th>Percentile</th>\n",
       "      <th>Number of Comparison Values</th>\n",
       "      <th>Original Value</th>\n",
       "      <th>Median</th>\n",
       "    </tr>\n",
       "  </thead>\n",
       "  <tbody>\n",
       "    <tr>\n",
       "      <th>0</th>\n",
       "      <td>Saddle</td>\n",
       "      <td>air_pressure</td>\n",
       "      <td>92.857143</td>\n",
       "      <td>21.0</td>\n",
       "      <td>732.732857</td>\n",
       "      <td>722.094286</td>\n",
       "    </tr>\n",
       "    <tr>\n",
       "      <th>1</th>\n",
       "      <td>Saddle</td>\n",
       "      <td>relative_humidity_1</td>\n",
       "      <td>92.857143</td>\n",
       "      <td>21.0</td>\n",
       "      <td>93.227143</td>\n",
       "      <td>75.432857</td>\n",
       "    </tr>\n",
       "    <tr>\n",
       "      <th>2</th>\n",
       "      <td>Saddle</td>\n",
       "      <td>relative_humidity_1_cor</td>\n",
       "      <td>92.857143</td>\n",
       "      <td>21.0</td>\n",
       "      <td>118.825714</td>\n",
       "      <td>99.514286</td>\n",
       "    </tr>\n",
       "    <tr>\n",
       "      <th>3</th>\n",
       "      <td>Saddle</td>\n",
       "      <td>snow_depth_2</td>\n",
       "      <td>91.666667</td>\n",
       "      <td>18.0</td>\n",
       "      <td>19.721429</td>\n",
       "      <td>11.287857</td>\n",
       "    </tr>\n",
       "    <tr>\n",
       "      <th>4</th>\n",
       "      <td>South Dome</td>\n",
       "      <td>air_temperature_2</td>\n",
       "      <td>92.500000</td>\n",
       "      <td>20.0</td>\n",
       "      <td>-22.340000</td>\n",
       "      <td>-28.014286</td>\n",
       "    </tr>\n",
       "    <tr>\n",
       "      <th>5</th>\n",
       "      <td>South Dome</td>\n",
       "      <td>relative_humidity_1_cor</td>\n",
       "      <td>97.500000</td>\n",
       "      <td>20.0</td>\n",
       "      <td>117.535714</td>\n",
       "      <td>101.531429</td>\n",
       "    </tr>\n",
       "    <tr>\n",
       "      <th>6</th>\n",
       "      <td>South Dome</td>\n",
       "      <td>shortwave_incoming_radiation</td>\n",
       "      <td>91.666667</td>\n",
       "      <td>18.0</td>\n",
       "      <td>5.965714</td>\n",
       "      <td>4.651905</td>\n",
       "    </tr>\n",
       "    <tr>\n",
       "      <th>7</th>\n",
       "      <td>South Dome</td>\n",
       "      <td>specific_humidity_1</td>\n",
       "      <td>93.750000</td>\n",
       "      <td>8.0</td>\n",
       "      <td>0.875714</td>\n",
       "      <td>0.493571</td>\n",
       "    </tr>\n",
       "    <tr>\n",
       "      <th>8</th>\n",
       "      <td>South Dome</td>\n",
       "      <td>relative_humidity_2</td>\n",
       "      <td>91.666667</td>\n",
       "      <td>18.0</td>\n",
       "      <td>85.607143</td>\n",
       "      <td>77.379286</td>\n",
       "    </tr>\n",
       "    <tr>\n",
       "      <th>9</th>\n",
       "      <td>South Dome</td>\n",
       "      <td>relative_humidity_2_cor</td>\n",
       "      <td>97.222222</td>\n",
       "      <td>18.0</td>\n",
       "      <td>106.274286</td>\n",
       "      <td>97.458571</td>\n",
       "    </tr>\n",
       "    <tr>\n",
       "      <th>10</th>\n",
       "      <td>South Dome</td>\n",
       "      <td>specific_humidity_2</td>\n",
       "      <td>92.857143</td>\n",
       "      <td>7.0</td>\n",
       "      <td>0.850000</td>\n",
       "      <td>0.471429</td>\n",
       "    </tr>\n",
       "    <tr>\n",
       "      <th>11</th>\n",
       "      <td>NASA-SE</td>\n",
       "      <td>shortwave_incoming_radiation</td>\n",
       "      <td>90.625000</td>\n",
       "      <td>16.0</td>\n",
       "      <td>2.861429</td>\n",
       "      <td>1.704286</td>\n",
       "    </tr>\n",
       "    <tr>\n",
       "      <th>12</th>\n",
       "      <td>NASA-SE</td>\n",
       "      <td>snow_depth_1</td>\n",
       "      <td>96.428571</td>\n",
       "      <td>14.0</td>\n",
       "      <td>33.330000</td>\n",
       "      <td>10.069286</td>\n",
       "    </tr>\n",
       "    <tr>\n",
       "      <th>13</th>\n",
       "      <td>NASA-SE</td>\n",
       "      <td>snow_depth_2</td>\n",
       "      <td>96.428571</td>\n",
       "      <td>14.0</td>\n",
       "      <td>31.760000</td>\n",
       "      <td>11.134286</td>\n",
       "    </tr>\n",
       "    <tr>\n",
       "      <th>14</th>\n",
       "      <td>NASA-SE</td>\n",
       "      <td>relative_humidity_2_cor</td>\n",
       "      <td>96.666667</td>\n",
       "      <td>15.0</td>\n",
       "      <td>112.552857</td>\n",
       "      <td>100.831429</td>\n",
       "    </tr>\n",
       "    <tr>\n",
       "      <th>15</th>\n",
       "      <td>Swiss Camp 10m</td>\n",
       "      <td>relative_humidity_2_cor</td>\n",
       "      <td>90.625000</td>\n",
       "      <td>16.0</td>\n",
       "      <td>88.595714</td>\n",
       "      <td>81.665714</td>\n",
       "    </tr>\n",
       "    <tr>\n",
       "      <th>16</th>\n",
       "      <td>NEEM</td>\n",
       "      <td>air_temperature_1</td>\n",
       "      <td>4.545455</td>\n",
       "      <td>11.0</td>\n",
       "      <td>-45.652857</td>\n",
       "      <td>-36.394286</td>\n",
       "    </tr>\n",
       "    <tr>\n",
       "      <th>17</th>\n",
       "      <td>NEEM</td>\n",
       "      <td>air_temperature_2</td>\n",
       "      <td>4.166667</td>\n",
       "      <td>12.0</td>\n",
       "      <td>-45.037143</td>\n",
       "      <td>-35.812143</td>\n",
       "    </tr>\n",
       "    <tr>\n",
       "      <th>18</th>\n",
       "      <td>NEEM</td>\n",
       "      <td>relative_humidity_2</td>\n",
       "      <td>4.545455</td>\n",
       "      <td>11.0</td>\n",
       "      <td>58.225714</td>\n",
       "      <td>68.754286</td>\n",
       "    </tr>\n",
       "    <tr>\n",
       "      <th>19</th>\n",
       "      <td>E-GRIP</td>\n",
       "      <td>wind_speed_1</td>\n",
       "      <td>91.666667</td>\n",
       "      <td>6.0</td>\n",
       "      <td>5.550000</td>\n",
       "      <td>4.850000</td>\n",
       "    </tr>\n",
       "    <tr>\n",
       "      <th>20</th>\n",
       "      <td>E-GRIP</td>\n",
       "      <td>wind_speed_2</td>\n",
       "      <td>92.857143</td>\n",
       "      <td>7.0</td>\n",
       "      <td>7.025714</td>\n",
       "      <td>5.541429</td>\n",
       "    </tr>\n",
       "    <tr>\n",
       "      <th>21</th>\n",
       "      <td>Swiss Camp</td>\n",
       "      <td>relative_humidity_1_cor</td>\n",
       "      <td>91.666667</td>\n",
       "      <td>18.0</td>\n",
       "      <td>109.020000</td>\n",
       "      <td>100.840714</td>\n",
       "    </tr>\n",
       "    <tr>\n",
       "      <th>22</th>\n",
       "      <td>Swiss Camp</td>\n",
       "      <td>relative_humidity_2_cor</td>\n",
       "      <td>97.058824</td>\n",
       "      <td>17.0</td>\n",
       "      <td>115.697143</td>\n",
       "      <td>104.401429</td>\n",
       "    </tr>\n",
       "    <tr>\n",
       "      <th>23</th>\n",
       "      <td>Swiss Camp</td>\n",
       "      <td>snow_temperature_4</td>\n",
       "      <td>91.176471</td>\n",
       "      <td>17.0</td>\n",
       "      <td>-4.668571</td>\n",
       "      <td>-8.017143</td>\n",
       "    </tr>\n",
       "    <tr>\n",
       "      <th>24</th>\n",
       "      <td>Swiss Camp</td>\n",
       "      <td>snow_temperature_8</td>\n",
       "      <td>90.625000</td>\n",
       "      <td>16.0</td>\n",
       "      <td>-4.571429</td>\n",
       "      <td>-8.376429</td>\n",
       "    </tr>\n",
       "    <tr>\n",
       "      <th>25</th>\n",
       "      <td>Swiss Camp</td>\n",
       "      <td>snow_temperature_9</td>\n",
       "      <td>90.625000</td>\n",
       "      <td>16.0</td>\n",
       "      <td>-7.118571</td>\n",
       "      <td>-8.590000</td>\n",
       "    </tr>\n",
       "    <tr>\n",
       "      <th>26</th>\n",
       "      <td>NASA-U</td>\n",
       "      <td>air_temperature_2</td>\n",
       "      <td>8.823529</td>\n",
       "      <td>17.0</td>\n",
       "      <td>-38.221429</td>\n",
       "      <td>-33.044286</td>\n",
       "    </tr>\n",
       "    <tr>\n",
       "      <th>27</th>\n",
       "      <td>Tunu-N</td>\n",
       "      <td>snow_depth_1</td>\n",
       "      <td>96.428571</td>\n",
       "      <td>14.0</td>\n",
       "      <td>7.812857</td>\n",
       "      <td>3.255714</td>\n",
       "    </tr>\n",
       "    <tr>\n",
       "      <th>28</th>\n",
       "      <td>Tunu-N</td>\n",
       "      <td>snow_depth_2</td>\n",
       "      <td>96.428571</td>\n",
       "      <td>14.0</td>\n",
       "      <td>7.540000</td>\n",
       "      <td>3.415714</td>\n",
       "    </tr>\n",
       "  </tbody>\n",
       "</table>\n",
       "</div>"
      ],
      "text/plain": [
       "           Station                   Measurement  Percentile  \\\n",
       "0           Saddle                  air_pressure   92.857143   \n",
       "1           Saddle           relative_humidity_1   92.857143   \n",
       "2           Saddle       relative_humidity_1_cor   92.857143   \n",
       "3           Saddle                  snow_depth_2   91.666667   \n",
       "4       South Dome             air_temperature_2   92.500000   \n",
       "5       South Dome       relative_humidity_1_cor   97.500000   \n",
       "6       South Dome  shortwave_incoming_radiation   91.666667   \n",
       "7       South Dome           specific_humidity_1   93.750000   \n",
       "8       South Dome           relative_humidity_2   91.666667   \n",
       "9       South Dome       relative_humidity_2_cor   97.222222   \n",
       "10      South Dome           specific_humidity_2   92.857143   \n",
       "11         NASA-SE  shortwave_incoming_radiation   90.625000   \n",
       "12         NASA-SE                  snow_depth_1   96.428571   \n",
       "13         NASA-SE                  snow_depth_2   96.428571   \n",
       "14         NASA-SE       relative_humidity_2_cor   96.666667   \n",
       "15  Swiss Camp 10m       relative_humidity_2_cor   90.625000   \n",
       "16            NEEM             air_temperature_1    4.545455   \n",
       "17            NEEM             air_temperature_2    4.166667   \n",
       "18            NEEM           relative_humidity_2    4.545455   \n",
       "19          E-GRIP                  wind_speed_1   91.666667   \n",
       "20          E-GRIP                  wind_speed_2   92.857143   \n",
       "21      Swiss Camp       relative_humidity_1_cor   91.666667   \n",
       "22      Swiss Camp       relative_humidity_2_cor   97.058824   \n",
       "23      Swiss Camp            snow_temperature_4   91.176471   \n",
       "24      Swiss Camp            snow_temperature_8   90.625000   \n",
       "25      Swiss Camp            snow_temperature_9   90.625000   \n",
       "26          NASA-U             air_temperature_2    8.823529   \n",
       "27          Tunu-N                  snow_depth_1   96.428571   \n",
       "28          Tunu-N                  snow_depth_2   96.428571   \n",
       "\n",
       "    Number of Comparison Values  Original Value      Median  \n",
       "0                          21.0      732.732857  722.094286  \n",
       "1                          21.0       93.227143   75.432857  \n",
       "2                          21.0      118.825714   99.514286  \n",
       "3                          18.0       19.721429   11.287857  \n",
       "4                          20.0      -22.340000  -28.014286  \n",
       "5                          20.0      117.535714  101.531429  \n",
       "6                          18.0        5.965714    4.651905  \n",
       "7                           8.0        0.875714    0.493571  \n",
       "8                          18.0       85.607143   77.379286  \n",
       "9                          18.0      106.274286   97.458571  \n",
       "10                          7.0        0.850000    0.471429  \n",
       "11                         16.0        2.861429    1.704286  \n",
       "12                         14.0       33.330000   10.069286  \n",
       "13                         14.0       31.760000   11.134286  \n",
       "14                         15.0      112.552857  100.831429  \n",
       "15                         16.0       88.595714   81.665714  \n",
       "16                         11.0      -45.652857  -36.394286  \n",
       "17                         12.0      -45.037143  -35.812143  \n",
       "18                         11.0       58.225714   68.754286  \n",
       "19                          6.0        5.550000    4.850000  \n",
       "20                          7.0        7.025714    5.541429  \n",
       "21                         18.0      109.020000  100.840714  \n",
       "22                         17.0      115.697143  104.401429  \n",
       "23                         17.0       -4.668571   -8.017143  \n",
       "24                         16.0       -4.571429   -8.376429  \n",
       "25                         16.0       -7.118571   -8.590000  \n",
       "26                         17.0      -38.221429  -33.044286  \n",
       "27                         14.0        7.812857    3.255714  \n",
       "28                         14.0        7.540000    3.415714  "
      ]
     },
     "execution_count": 7,
     "metadata": {},
     "output_type": "execute_result"
    }
   ],
   "source": [
    "daily_report(data = \"GC Net\", date = \"2019-01-13\", measurement= \"All\", scope='Relative', aws=\"All\", window = 'week', output = \"Data\")"
   ]
  },
  {
   "cell_type": "code",
   "execution_count": 8,
   "metadata": {
    "colab": {
     "base_uri": "https://localhost:8080/"
    },
    "id": "U4rWUVbYLgvJ",
    "outputId": "03b38cbf-aaf2-4631-85c6-b4d0ddc36099"
   },
   "outputs": [
    {
     "name": "stderr",
     "output_type": "stream",
     "text": [
      "C:\\Users\\mabj16ac\\AppData\\Local\\Temp\\2\\ipykernel_13588\\1098300415.py:117: SettingWithCopyWarning: \n",
      "A value is trying to be set on a copy of a slice from a DataFrame.\n",
      "Try using .loc[row_indexer,col_indexer] = value instead\n",
      "\n",
      "See the caveats in the documentation: https://pandas.pydata.org/pandas-docs/stable/user_guide/indexing.html#returning-a-view-versus-a-copy\n",
      "  df['group_number'] = (df\n",
      "C:\\Users\\mabj16ac\\AppData\\Local\\Temp\\2\\ipykernel_13588\\1098300415.py:127: SettingWithCopyWarning: \n",
      "A value is trying to be set on a copy of a slice from a DataFrame.\n",
      "Try using .loc[row_indexer,col_indexer] = value instead\n",
      "\n",
      "See the caveats in the documentation: https://pandas.pydata.org/pandas-docs/stable/user_guide/indexing.html#returning-a-view-versus-a-copy\n",
      "  df['year'] = grouped['Datetime'].transform(lambda x: x.max().year)\n",
      "C:\\Users\\mabj16ac\\AppData\\Local\\Temp\\2\\ipykernel_13588\\1098300415.py:129: SettingWithCopyWarning: \n",
      "A value is trying to be set on a copy of a slice from a DataFrame.\n",
      "Try using .loc[row_indexer,col_indexer] = value instead\n",
      "\n",
      "See the caveats in the documentation: https://pandas.pydata.org/pandas-docs/stable/user_guide/indexing.html#returning-a-view-versus-a-copy\n",
      "  df['target_date'] = grouped['Datetime'].transform(lambda x: (x ==date).max())\n"
     ]
    }
   ],
   "source": [
    "x = get_data(data = \"GC Net\", date = \"2019-01-13\", measurement= \"relative_humidity_1\", scope='Relative', output = \"Data\", aws=\"Swiss Camp 10m\", window='day')"
   ]
  },
  {
   "cell_type": "code",
   "execution_count": null,
   "metadata": {},
   "outputs": [],
   "source": []
  },
  {
   "attachments": {},
   "cell_type": "markdown",
   "metadata": {},
   "source": [
    "<h2>Extreme Weather Events Detection</h2>\n",
    "<p>Meterological outliers for 2019-01-13, measured as mean of week compared to similar period previous years</p>\n",
    "\n",
    "<hr />\n",
    "\n",
    "<h3>Outliers by percentiler (filtered top/bottom 10%)</h3>\n",
    "\n",
    "|    | Station        | Measurement                  |   Percentile |   Number of Comparison Values |   Original Value |        Median |\n",
    "|---:|:---------------|:-----------------------------|-------------:|------------------------------:|-----------------:|--------------:|\n",
    "|  0 | DYE2           | relative_humidity_1_cor      |      7.5     |                            20 |       91.2029    |  95.4807      |\n",
    "|  1 | DYE2           | snow_depth_1                 |     97.5     |                            20 |       13.38      |   8.96643     |\n",
    "|  2 | DYE2           | snow_depth_2                 |     97.5     |                            20 |       15.2043    |  10.4579      |\n",
    "|  3 | NASA-U         | shortwave_incoming_radiation |     90.625   |                            16 |        0.0214286 |   0.000714286 |\n",
    "|  4 | NASA-U         | shortwave_outgoing_radiation |     97.0588  |                            17 |        0.0128571 |   0           |\n",
    "|  5 | NASA-U         | snow_depth_1                 |     96.6667  |                            15 |       18.3814    |   9.90571     |\n",
    "|  6 | NASA-U         | snow_depth_2                 |     96.6667  |                            15 |       18.0643    |   9.30429     |\n",
    "|  7 | South Dome     | air_temperature_2            |     91.6667  |                            18 |      -22.34      | -28.0143      |\n",
    "|  8 | South Dome     | relative_humidity_1          |     91.6667  |                            18 |       93.7871    |  76.4064      |\n",
    "|  9 | South Dome     | relative_humidity_1_cor      |     97.2222  |                            18 |      117.536     | 101.948       |\n",
    "| 10 | South Dome     | shortwave_incoming_radiation |     90.625   |                            16 |        5.96571   |   4.63048     |\n",
    "| 11 | South Dome     | specific_humidity_1          |     92.8571  |                             7 |        0.875714  |   0.495714    |\n",
    "| 12 | South Dome     | relative_humidity_2          |     90.625   |                            16 |       85.6071    |  77.3793      |\n",
    "| 13 | South Dome     | relative_humidity_2_cor      |     96.875   |                            16 |      106.274     |  99.8864      |\n",
    "| 14 | South Dome     | specific_humidity_2          |     91.6667  |                             6 |        0.85      |   0.581429    |\n",
    "| 15 | Saddle         | air_pressure                 |     92.1053  |                            19 |      732.733     | 722.094       |\n",
    "| 16 | Saddle         | air_temperature_2            |     92.5     |                            20 |      -24.9329    | -30.3336      |\n",
    "| 17 | Saddle         | relative_humidity_1          |     97.3684  |                            19 |       93.2271    |  75.4329      |\n",
    "| 18 | Saddle         | relative_humidity_1_cor      |     97.3684  |                            19 |      118.826     |  97.5843      |\n",
    "| 19 | Saddle         | snow_depth_1                 |     91.1765  |                            17 |       18.3371    |  10.1514      |\n",
    "| 20 | Saddle         | snow_depth_2                 |     97.0588  |                            17 |       19.7214    |  10.6814      |\n",
    "| 21 | NASA-SE        | shortwave_incoming_radiation |     90.625   |                            16 |        2.86143   |   1.70429     |\n",
    "| 22 | NASA-SE        | snow_depth_1                 |     96.4286  |                            14 |       33.33      |  10.0693      |\n",
    "| 23 | NASA-SE        | snow_depth_2                 |     96.4286  |                            14 |       31.76      |  11.1343      |\n",
    "| 24 | NASA-SE        | relative_humidity_2_cor      |     96.6667  |                            15 |      112.553     | 100.831       |\n",
    "| 25 | Swiss Camp 10m | relative_humidity_2_cor      |     90.625   |                            16 |       88.5957    |  81.6657      |\n",
    "| 26 | Tunu-N         | shortwave_incoming_radiation |     96.1538  |                            13 |        0.127143  |   0.0485714   |\n",
    "| 27 | Tunu-N         | snow_depth_1                 |     96.4286  |                            14 |        7.81286   |   3.25571     |\n",
    "| 28 | Tunu-N         | snow_depth_2                 |     96.4286  |                            14 |        7.54      |   3.41571     |\n",
    "| 29 | Swiss Camp     | relative_humidity_1_cor      |     91.1765  |                            17 |      109.02      | 100.726       |\n",
    "| 30 | Swiss Camp     | relative_humidity_2_cor      |     96.875   |                            16 |      115.697     | 103.655       |\n",
    "| 31 | Swiss Camp     | snow_temperature_10          |     91.1765  |                            17 |       -7.90857   |  -9.63714     |\n",
    "| 32 | Swiss Camp     | snow_temperature_4           |     96.875   |                            16 |       -4.66857   |  -8.19357     |\n",
    "| 33 | Swiss Camp     | snow_temperature_6           |     91.1765  |                            17 |       -5.19      |  -8.11714     |\n",
    "| 34 | Swiss Camp     | snow_temperature_7           |     90.625   |                            16 |       -5.68429   |  -8.19286     |\n",
    "| 35 | Swiss Camp     | snow_temperature_8           |     96.6667  |                            15 |       -4.57143   |  -8.52857     |\n",
    "| 36 | Swiss Camp     | snow_temperature_9           |     90.625   |                            16 |       -7.11857   |  -8.59        |\n",
    "| 37 | NEEM           | air_temperature_1            |      5       |                            10 |      -45.6529    | -36.1943      |\n",
    "| 38 | NEEM           | air_temperature_2            |      5       |                            10 |      -45.0371    | -35.9807      |\n",
    "| 39 | NEEM           | relative_humidity_2          |      5.55556 |                             9 |       58.2257    |  68.7543      |\n",
    "| 40 | NEEM           | relative_humidity_2_cor      |      5.55556 |                             9 |       88.9786    |  97.0271      |\n",
    "\n",
    "<details> <summary>Station: DYE2, Measurement: relative_humidity_1_cor</summary> \n",
    " <br/> <pre>|    | Station   | Measurement             |   Percentile |   Number of Comparison Values |   Original Value |   Median |\n",
    "|---:|:----------|:------------------------|-------------:|------------------------------:|-----------------:|---------:|\n",
    "|  0 | DYE2      | relative_humidity_1_cor |          7.5 |                            20 |          91.2029 |  95.4807 |</pre> \n",
    " <p><img alt=\"Boxplot\" src=\"../figures/to_markdown/DYE2_relative_humidity_1_cor.png\" /></p> \n",
    " </details>\n",
    "\n",
    "<details> <summary>Station: DYE2, Measurement: snow_depth_1</summary> \n",
    " <br/> <pre>|    | Station   | Measurement   |   Percentile |   Number of Comparison Values |   Original Value |   Median |\n",
    "|---:|:----------|:--------------|-------------:|------------------------------:|-----------------:|---------:|\n",
    "|  1 | DYE2      | snow_depth_1  |         97.5 |                            20 |            13.38 |  8.96643 |</pre> \n",
    " <p><img alt=\"Boxplot\" src=\"../figures/to_markdown/DYE2_snow_depth_1.png\" /></p> \n",
    " </details>\n",
    "\n",
    "<details> <summary>Station: DYE2, Measurement: snow_depth_2</summary> \n",
    " <br/> <pre>|    | Station   | Measurement   |   Percentile |   Number of Comparison Values |   Original Value |   Median |\n",
    "|---:|:----------|:--------------|-------------:|------------------------------:|-----------------:|---------:|\n",
    "|  2 | DYE2      | snow_depth_2  |         97.5 |                            20 |          15.2043 |  10.4579 |</pre> \n",
    " <p><img alt=\"Boxplot\" src=\"../figures/to_markdown/DYE2_snow_depth_2.png\" /></p> \n",
    " </details>\n",
    "\n",
    "<details> <summary>Station: NASA-SE, Measurement: relative_humidity_2_cor</summary> \n",
    " <br/> <pre>|    | Station   | Measurement             |   Percentile |   Number of Comparison Values |   Original Value |   Median |\n",
    "|---:|:----------|:------------------------|-------------:|------------------------------:|-----------------:|---------:|\n",
    "| 24 | NASA-SE   | relative_humidity_2_cor |      96.6667 |                            15 |          112.553 |  100.831 |</pre> \n",
    " <p><img alt=\"Boxplot\" src=\"../figures/to_markdown/NASA-SE_relative_humidity_2_cor.png\" /></p> \n",
    " </details>\n",
    "\n",
    "<details> <summary>Station: NASA-SE, Measurement: shortwave_incoming_radiation</summary> \n",
    " <br/> <pre>|    | Station   | Measurement                  |   Percentile |   Number of Comparison Values |   Original Value |   Median |\n",
    "|---:|:----------|:-----------------------------|-------------:|------------------------------:|-----------------:|---------:|\n",
    "| 21 | NASA-SE   | shortwave_incoming_radiation |       90.625 |                            16 |          2.86143 |  1.70429 |</pre> \n",
    " <p><img alt=\"Boxplot\" src=\"../figures/to_markdown/NASA-SE_shortwave_incoming_radiation.png\" /></p> \n",
    " </details>\n",
    "\n",
    "<details> <summary>Station: NASA-SE, Measurement: snow_depth_1</summary> \n",
    " <br/> <pre>|    | Station   | Measurement   |   Percentile |   Number of Comparison Values |   Original Value |   Median |\n",
    "|---:|:----------|:--------------|-------------:|------------------------------:|-----------------:|---------:|\n",
    "| 22 | NASA-SE   | snow_depth_1  |      96.4286 |                            14 |            33.33 |  10.0693 |</pre> \n",
    " <p><img alt=\"Boxplot\" src=\"../figures/to_markdown/NASA-SE_snow_depth_1.png\" /></p> \n",
    " </details>\n",
    "\n",
    "<details> <summary>Station: NASA-SE, Measurement: snow_depth_2</summary> \n",
    " <br/> <pre>|    | Station   | Measurement   |   Percentile |   Number of Comparison Values |   Original Value |   Median |\n",
    "|---:|:----------|:--------------|-------------:|------------------------------:|-----------------:|---------:|\n",
    "| 23 | NASA-SE   | snow_depth_2  |      96.4286 |                            14 |            31.76 |  11.1343 |</pre> \n",
    " <p><img alt=\"Boxplot\" src=\"../figures/to_markdown/NASA-SE_snow_depth_2.png\" /></p> \n",
    " </details>\n",
    "\n",
    "<details> <summary>Station: NASA-U, Measurement: shortwave_incoming_radiation</summary> \n",
    " <br/> <pre>|    | Station   | Measurement                  |   Percentile |   Number of Comparison Values |   Original Value |      Median |\n",
    "|---:|:----------|:-----------------------------|-------------:|------------------------------:|-----------------:|------------:|\n",
    "|  3 | NASA-U    | shortwave_incoming_radiation |       90.625 |                            16 |        0.0214286 | 0.000714286 |</pre> \n",
    " <p><img alt=\"Boxplot\" src=\"../figures/to_markdown/NASA-U_shortwave_incoming_radiation.png\" /></p> \n",
    " </details>\n",
    "\n",
    "<details> <summary>Station: NASA-U, Measurement: shortwave_outgoing_radiation</summary> \n",
    " <br/> <pre>|    | Station   | Measurement                  |   Percentile |   Number of Comparison Values |   Original Value |   Median |\n",
    "|---:|:----------|:-----------------------------|-------------:|------------------------------:|-----------------:|---------:|\n",
    "|  4 | NASA-U    | shortwave_outgoing_radiation |      97.0588 |                            17 |        0.0128571 |        0 |</pre> \n",
    " <p><img alt=\"Boxplot\" src=\"../figures/to_markdown/NASA-U_shortwave_outgoing_radiation.png\" /></p> \n",
    " </details>\n",
    "\n",
    "<details> <summary>Station: NASA-U, Measurement: snow_depth_1</summary> \n",
    " <br/> <pre>|    | Station   | Measurement   |   Percentile |   Number of Comparison Values |   Original Value |   Median |\n",
    "|---:|:----------|:--------------|-------------:|------------------------------:|-----------------:|---------:|\n",
    "|  5 | NASA-U    | snow_depth_1  |      96.6667 |                            15 |          18.3814 |  9.90571 |</pre> \n",
    " <p><img alt=\"Boxplot\" src=\"../figures/to_markdown/NASA-U_snow_depth_1.png\" /></p> \n",
    " </details>\n",
    "\n",
    "<details> <summary>Station: NASA-U, Measurement: snow_depth_2</summary> \n",
    " <br/> <pre>|    | Station   | Measurement   |   Percentile |   Number of Comparison Values |   Original Value |   Median |\n",
    "|---:|:----------|:--------------|-------------:|------------------------------:|-----------------:|---------:|\n",
    "|  6 | NASA-U    | snow_depth_2  |      96.6667 |                            15 |          18.0643 |  9.30429 |</pre> \n",
    " <p><img alt=\"Boxplot\" src=\"../figures/to_markdown/NASA-U_snow_depth_2.png\" /></p> \n",
    " </details>\n",
    "\n",
    "<details> <summary>Station: NEEM, Measurement: air_temperature_1</summary> \n",
    " <br/> <pre>|    | Station   | Measurement       |   Percentile |   Number of Comparison Values |   Original Value |   Median |\n",
    "|---:|:----------|:------------------|-------------:|------------------------------:|-----------------:|---------:|\n",
    "| 37 | NEEM      | air_temperature_1 |            5 |                            10 |         -45.6529 | -36.1943 |</pre> \n",
    " <p><img alt=\"Boxplot\" src=\"../figures/to_markdown/NEEM_air_temperature_1.png\" /></p> \n",
    " </details>\n",
    "\n",
    "<details> <summary>Station: NEEM, Measurement: air_temperature_2</summary> \n",
    " <br/> <pre>|    | Station   | Measurement       |   Percentile |   Number of Comparison Values |   Original Value |   Median |\n",
    "|---:|:----------|:------------------|-------------:|------------------------------:|-----------------:|---------:|\n",
    "| 38 | NEEM      | air_temperature_2 |            5 |                            10 |         -45.0371 | -35.9807 |</pre> \n",
    " <p><img alt=\"Boxplot\" src=\"../figures/to_markdown/NEEM_air_temperature_2.png\" /></p> \n",
    " </details>\n",
    "\n",
    "<details> <summary>Station: NEEM, Measurement: relative_humidity_2</summary> \n",
    " <br/> <pre>|    | Station   | Measurement         |   Percentile |   Number of Comparison Values |   Original Value |   Median |\n",
    "|---:|:----------|:--------------------|-------------:|------------------------------:|-----------------:|---------:|\n",
    "| 39 | NEEM      | relative_humidity_2 |      5.55556 |                             9 |          58.2257 |  68.7543 |</pre> \n",
    " <p><img alt=\"Boxplot\" src=\"../figures/to_markdown/NEEM_relative_humidity_2.png\" /></p> \n",
    " </details>\n",
    "\n",
    "<details> <summary>Station: NEEM, Measurement: relative_humidity_2_cor</summary> \n",
    " <br/> <pre>|    | Station   | Measurement             |   Percentile |   Number of Comparison Values |   Original Value |   Median |\n",
    "|---:|:----------|:------------------------|-------------:|------------------------------:|-----------------:|---------:|\n",
    "| 40 | NEEM      | relative_humidity_2_cor |      5.55556 |                             9 |          88.9786 |  97.0271 |</pre> \n",
    " <p><img alt=\"Boxplot\" src=\"../figures/to_markdown/NEEM_relative_humidity_2_cor.png\" /></p> \n",
    " </details>\n",
    "\n",
    "<details> <summary>Station: Saddle, Measurement: air_pressure</summary> \n",
    " <br/> <pre>|    | Station   | Measurement   |   Percentile |   Number of Comparison Values |   Original Value |   Median |\n",
    "|---:|:----------|:--------------|-------------:|------------------------------:|-----------------:|---------:|\n",
    "| 15 | Saddle    | air_pressure  |      92.1053 |                            19 |          732.733 |  722.094 |</pre> \n",
    " <p><img alt=\"Boxplot\" src=\"../figures/to_markdown/Saddle_air_pressure.png\" /></p> \n",
    " </details>\n",
    "\n",
    "<details> <summary>Station: Saddle, Measurement: air_temperature_2</summary> \n",
    " <br/> <pre>|    | Station   | Measurement       |   Percentile |   Number of Comparison Values |   Original Value |   Median |\n",
    "|---:|:----------|:------------------|-------------:|------------------------------:|-----------------:|---------:|\n",
    "| 16 | Saddle    | air_temperature_2 |         92.5 |                            20 |         -24.9329 | -30.3336 |</pre> \n",
    " <p><img alt=\"Boxplot\" src=\"../figures/to_markdown/Saddle_air_temperature_2.png\" /></p> \n",
    " </details>\n",
    "\n",
    "<details> <summary>Station: Saddle, Measurement: relative_humidity_1</summary> \n",
    " <br/> <pre>|    | Station   | Measurement         |   Percentile |   Number of Comparison Values |   Original Value |   Median |\n",
    "|---:|:----------|:--------------------|-------------:|------------------------------:|-----------------:|---------:|\n",
    "| 17 | Saddle    | relative_humidity_1 |      97.3684 |                            19 |          93.2271 |  75.4329 |</pre> \n",
    " <p><img alt=\"Boxplot\" src=\"../figures/to_markdown/Saddle_relative_humidity_1.png\" /></p> \n",
    " </details>\n",
    "\n",
    "<details> <summary>Station: Saddle, Measurement: relative_humidity_1_cor</summary> \n",
    " <br/> <pre>|    | Station   | Measurement             |   Percentile |   Number of Comparison Values |   Original Value |   Median |\n",
    "|---:|:----------|:------------------------|-------------:|------------------------------:|-----------------:|---------:|\n",
    "| 18 | Saddle    | relative_humidity_1_cor |      97.3684 |                            19 |          118.826 |  97.5843 |</pre> \n",
    " <p><img alt=\"Boxplot\" src=\"../figures/to_markdown/Saddle_relative_humidity_1_cor.png\" /></p> \n",
    " </details>\n",
    "\n",
    "<details> <summary>Station: Saddle, Measurement: snow_depth_1</summary> \n",
    " <br/> <pre>|    | Station   | Measurement   |   Percentile |   Number of Comparison Values |   Original Value |   Median |\n",
    "|---:|:----------|:--------------|-------------:|------------------------------:|-----------------:|---------:|\n",
    "| 19 | Saddle    | snow_depth_1  |      91.1765 |                            17 |          18.3371 |  10.1514 |</pre> \n",
    " <p><img alt=\"Boxplot\" src=\"../figures/to_markdown/Saddle_snow_depth_1.png\" /></p> \n",
    " </details>\n",
    "\n",
    "<details> <summary>Station: Saddle, Measurement: snow_depth_2</summary> \n",
    " <br/> <pre>|    | Station   | Measurement   |   Percentile |   Number of Comparison Values |   Original Value |   Median |\n",
    "|---:|:----------|:--------------|-------------:|------------------------------:|-----------------:|---------:|\n",
    "| 20 | Saddle    | snow_depth_2  |      97.0588 |                            17 |          19.7214 |  10.6814 |</pre> \n",
    " <p><img alt=\"Boxplot\" src=\"../figures/to_markdown/Saddle_snow_depth_2.png\" /></p> \n",
    " </details>\n",
    "\n",
    "<details> <summary>Station: South Dome, Measurement: air_temperature_2</summary> \n",
    " <br/> <pre>|    | Station    | Measurement       |   Percentile |   Number of Comparison Values |   Original Value |   Median |\n",
    "|---:|:-----------|:------------------|-------------:|------------------------------:|-----------------:|---------:|\n",
    "|  7 | South Dome | air_temperature_2 |      91.6667 |                            18 |           -22.34 | -28.0143 |</pre> \n",
    " <p><img alt=\"Boxplot\" src=\"../figures/to_markdown/South Dome_air_temperature_2.png\" /></p> \n",
    " </details>\n",
    "\n",
    "<details> <summary>Station: South Dome, Measurement: relative_humidity_1</summary> \n",
    " <br/> <pre>|    | Station    | Measurement         |   Percentile |   Number of Comparison Values |   Original Value |   Median |\n",
    "|---:|:-----------|:--------------------|-------------:|------------------------------:|-----------------:|---------:|\n",
    "|  8 | South Dome | relative_humidity_1 |      91.6667 |                            18 |          93.7871 |  76.4064 |</pre> \n",
    " <p><img alt=\"Boxplot\" src=\"../figures/to_markdown/South Dome_relative_humidity_1.png\" /></p> \n",
    " </details>\n",
    "\n",
    "<details> <summary>Station: South Dome, Measurement: relative_humidity_1_cor</summary> \n",
    " <br/> <pre>|    | Station    | Measurement             |   Percentile |   Number of Comparison Values |   Original Value |   Median |\n",
    "|---:|:-----------|:------------------------|-------------:|------------------------------:|-----------------:|---------:|\n",
    "|  9 | South Dome | relative_humidity_1_cor |      97.2222 |                            18 |          117.536 |  101.948 |</pre> \n",
    " <p><img alt=\"Boxplot\" src=\"../figures/to_markdown/South Dome_relative_humidity_1_cor.png\" /></p> \n",
    " </details>\n",
    "\n",
    "<details> <summary>Station: South Dome, Measurement: relative_humidity_2</summary> \n",
    " <br/> <pre>|    | Station    | Measurement         |   Percentile |   Number of Comparison Values |   Original Value |   Median |\n",
    "|---:|:-----------|:--------------------|-------------:|------------------------------:|-----------------:|---------:|\n",
    "| 12 | South Dome | relative_humidity_2 |       90.625 |                            16 |          85.6071 |  77.3793 |</pre> \n",
    " <p><img alt=\"Boxplot\" src=\"../figures/to_markdown/South Dome_relative_humidity_2.png\" /></p> \n",
    " </details>\n",
    "\n",
    "<details> <summary>Station: South Dome, Measurement: relative_humidity_2_cor</summary> \n",
    " <br/> <pre>|    | Station    | Measurement             |   Percentile |   Number of Comparison Values |   Original Value |   Median |\n",
    "|---:|:-----------|:------------------------|-------------:|------------------------------:|-----------------:|---------:|\n",
    "| 13 | South Dome | relative_humidity_2_cor |       96.875 |                            16 |          106.274 |  99.8864 |</pre> \n",
    " <p><img alt=\"Boxplot\" src=\"../figures/to_markdown/South Dome_relative_humidity_2_cor.png\" /></p> \n",
    " </details>\n",
    "\n",
    "<details> <summary>Station: South Dome, Measurement: shortwave_incoming_radiation</summary> \n",
    " <br/> <pre>|    | Station    | Measurement                  |   Percentile |   Number of Comparison Values |   Original Value |   Median |\n",
    "|---:|:-----------|:-----------------------------|-------------:|------------------------------:|-----------------:|---------:|\n",
    "| 10 | South Dome | shortwave_incoming_radiation |       90.625 |                            16 |          5.96571 |  4.63048 |</pre> \n",
    " <p><img alt=\"Boxplot\" src=\"../figures/to_markdown/South Dome_shortwave_incoming_radiation.png\" /></p> \n",
    " </details>\n",
    "\n",
    "<details> <summary>Station: South Dome, Measurement: specific_humidity_1</summary> \n",
    " <br/> <pre>|    | Station    | Measurement         |   Percentile |   Number of Comparison Values |   Original Value |   Median |\n",
    "|---:|:-----------|:--------------------|-------------:|------------------------------:|-----------------:|---------:|\n",
    "| 11 | South Dome | specific_humidity_1 |      92.8571 |                             7 |         0.875714 | 0.495714 |</pre> \n",
    " <p><img alt=\"Boxplot\" src=\"../figures/to_markdown/South Dome_specific_humidity_1.png\" /></p> \n",
    " </details>\n",
    "\n",
    "<details> <summary>Station: South Dome, Measurement: specific_humidity_2</summary> \n",
    " <br/> <pre>|    | Station    | Measurement         |   Percentile |   Number of Comparison Values |   Original Value |   Median |\n",
    "|---:|:-----------|:--------------------|-------------:|------------------------------:|-----------------:|---------:|\n",
    "| 14 | South Dome | specific_humidity_2 |      91.6667 |                             6 |             0.85 | 0.581429 |</pre> \n",
    " <p><img alt=\"Boxplot\" src=\"../figures/to_markdown/South Dome_specific_humidity_2.png\" /></p> \n",
    " </details>\n",
    "\n",
    "<details> <summary>Station: Swiss Camp, Measurement: relative_humidity_1_cor</summary> \n",
    " <br/> <pre>|    | Station    | Measurement             |   Percentile |   Number of Comparison Values |   Original Value |   Median |\n",
    "|---:|:-----------|:------------------------|-------------:|------------------------------:|-----------------:|---------:|\n",
    "| 29 | Swiss Camp | relative_humidity_1_cor |      91.1765 |                            17 |           109.02 |  100.726 |</pre> \n",
    " <p><img alt=\"Boxplot\" src=\"../figures/to_markdown/Swiss Camp_relative_humidity_1_cor.png\" /></p> \n",
    " </details>\n",
    "\n",
    "<details> <summary>Station: Swiss Camp, Measurement: relative_humidity_2_cor</summary> \n",
    " <br/> <pre>|    | Station    | Measurement             |   Percentile |   Number of Comparison Values |   Original Value |   Median |\n",
    "|---:|:-----------|:------------------------|-------------:|------------------------------:|-----------------:|---------:|\n",
    "| 30 | Swiss Camp | relative_humidity_2_cor |       96.875 |                            16 |          115.697 |  103.655 |</pre> \n",
    " <p><img alt=\"Boxplot\" src=\"../figures/to_markdown/Swiss Camp_relative_humidity_2_cor.png\" /></p> \n",
    " </details>\n",
    "\n",
    "<details> <summary>Station: Swiss Camp, Measurement: snow_temperature_10</summary> \n",
    " <br/> <pre>|    | Station    | Measurement         |   Percentile |   Number of Comparison Values |   Original Value |   Median |\n",
    "|---:|:-----------|:--------------------|-------------:|------------------------------:|-----------------:|---------:|\n",
    "| 31 | Swiss Camp | snow_temperature_10 |      91.1765 |                            17 |         -7.90857 | -9.63714 |</pre> \n",
    " <p><img alt=\"Boxplot\" src=\"../figures/to_markdown/Swiss Camp_snow_temperature_10.png\" /></p> \n",
    " </details>\n",
    "\n",
    "<details> <summary>Station: Swiss Camp, Measurement: snow_temperature_4</summary> \n",
    " <br/> <pre>|    | Station    | Measurement        |   Percentile |   Number of Comparison Values |   Original Value |   Median |\n",
    "|---:|:-----------|:-------------------|-------------:|------------------------------:|-----------------:|---------:|\n",
    "| 32 | Swiss Camp | snow_temperature_4 |       96.875 |                            16 |         -4.66857 | -8.19357 |</pre> \n",
    " <p><img alt=\"Boxplot\" src=\"../figures/to_markdown/Swiss Camp_snow_temperature_4.png\" /></p> \n",
    " </details>\n",
    "\n",
    "<details> <summary>Station: Swiss Camp, Measurement: snow_temperature_6</summary> \n",
    " <br/> <pre>|    | Station    | Measurement        |   Percentile |   Number of Comparison Values |   Original Value |   Median |\n",
    "|---:|:-----------|:-------------------|-------------:|------------------------------:|-----------------:|---------:|\n",
    "| 33 | Swiss Camp | snow_temperature_6 |      91.1765 |                            17 |            -5.19 | -8.11714 |</pre> \n",
    " <p><img alt=\"Boxplot\" src=\"../figures/to_markdown/Swiss Camp_snow_temperature_6.png\" /></p> \n",
    " </details>\n",
    "\n",
    "<details> <summary>Station: Swiss Camp, Measurement: snow_temperature_7</summary> \n",
    " <br/> <pre>|    | Station    | Measurement        |   Percentile |   Number of Comparison Values |   Original Value |   Median |\n",
    "|---:|:-----------|:-------------------|-------------:|------------------------------:|-----------------:|---------:|\n",
    "| 34 | Swiss Camp | snow_temperature_7 |       90.625 |                            16 |         -5.68429 | -8.19286 |</pre> \n",
    " <p><img alt=\"Boxplot\" src=\"../figures/to_markdown/Swiss Camp_snow_temperature_7.png\" /></p> \n",
    " </details>\n",
    "\n",
    "<details> <summary>Station: Swiss Camp, Measurement: snow_temperature_8</summary> \n",
    " <br/> <pre>|    | Station    | Measurement        |   Percentile |   Number of Comparison Values |   Original Value |   Median |\n",
    "|---:|:-----------|:-------------------|-------------:|------------------------------:|-----------------:|---------:|\n",
    "| 35 | Swiss Camp | snow_temperature_8 |      96.6667 |                            15 |         -4.57143 | -8.52857 |</pre> \n",
    " <p><img alt=\"Boxplot\" src=\"../figures/to_markdown/Swiss Camp_snow_temperature_8.png\" /></p> \n",
    " </details>\n",
    "\n",
    "<details> <summary>Station: Swiss Camp, Measurement: snow_temperature_9</summary> \n",
    " <br/> <pre>|    | Station    | Measurement        |   Percentile |   Number of Comparison Values |   Original Value |   Median |\n",
    "|---:|:-----------|:-------------------|-------------:|------------------------------:|-----------------:|---------:|\n",
    "| 36 | Swiss Camp | snow_temperature_9 |       90.625 |                            16 |         -7.11857 |    -8.59 |</pre> \n",
    " <p><img alt=\"Boxplot\" src=\"../figures/to_markdown/Swiss Camp_snow_temperature_9.png\" /></p> \n",
    " </details>\n",
    "\n",
    "<details> <summary>Station: Swiss Camp 10m, Measurement: relative_humidity_2_cor</summary> \n",
    " <br/> <pre>|    | Station        | Measurement             |   Percentile |   Number of Comparison Values |   Original Value |   Median |\n",
    "|---:|:---------------|:------------------------|-------------:|------------------------------:|-----------------:|---------:|\n",
    "| 25 | Swiss Camp 10m | relative_humidity_2_cor |       90.625 |                            16 |          88.5957 |  81.6657 |</pre> \n",
    " <p><img alt=\"Boxplot\" src=\"../figures/to_markdown/Swiss Camp 10m_relative_humidity_2_cor.png\" /></p> \n",
    " </details>\n",
    "\n",
    "<details> <summary>Station: Tunu-N, Measurement: shortwave_incoming_radiation</summary> \n",
    " <br/> <pre>|    | Station   | Measurement                  |   Percentile |   Number of Comparison Values |   Original Value |    Median |\n",
    "|---:|:----------|:-----------------------------|-------------:|------------------------------:|-----------------:|----------:|\n",
    "| 26 | Tunu-N    | shortwave_incoming_radiation |      96.1538 |                            13 |         0.127143 | 0.0485714 |</pre> \n",
    " <p><img alt=\"Boxplot\" src=\"../figures/to_markdown/Tunu-N_shortwave_incoming_radiation.png\" /></p> \n",
    " </details>\n",
    "\n",
    "<details> <summary>Station: Tunu-N, Measurement: snow_depth_1</summary> \n",
    " <br/> <pre>|    | Station   | Measurement   |   Percentile |   Number of Comparison Values |   Original Value |   Median |\n",
    "|---:|:----------|:--------------|-------------:|------------------------------:|-----------------:|---------:|\n",
    "| 27 | Tunu-N    | snow_depth_1  |      96.4286 |                            14 |          7.81286 |  3.25571 |</pre> \n",
    " <p><img alt=\"Boxplot\" src=\"../figures/to_markdown/Tunu-N_snow_depth_1.png\" /></p> \n",
    " </details>\n",
    "\n",
    "<details> <summary>Station: Tunu-N, Measurement: snow_depth_2</summary> \n",
    " <br/> <pre>|    | Station   | Measurement   |   Percentile |   Number of Comparison Values |   Original Value |   Median |\n",
    "|---:|:----------|:--------------|-------------:|------------------------------:|-----------------:|---------:|\n",
    "| 28 | Tunu-N    | snow_depth_2  |      96.4286 |                            14 |             7.54 |  3.41571 |</pre> \n",
    " <p><img alt=\"Boxplot\" src=\"../figures/to_markdown/Tunu-N_snow_depth_2.png\" /></p> \n",
    " </details>\n",
    "\n"
   ]
  },
  {
   "cell_type": "code",
   "execution_count": 9,
   "metadata": {},
   "outputs": [],
   "source": [
    "def filter_reports_by_year_month(directory, year, month):\n",
    "    month_files = []\n",
    "    for file in os.listdir(directory):\n",
    "        if file.endswith(\".md\") and re.search(f\"{year}_{month:02d}\", file):  # Add the underscore and zero-padding for the month\n",
    "            month_files.append(file)\n",
    "    return month_files\n",
    "\n",
    "def generate_year_month_collapsible(year, report_directory):\n",
    "    year_collapsible = f\"<details> <summary> {year} </summary> \\n\"\n",
    "    year_report = f\"{year}.md\"\n",
    "    if os.path.isfile(os.path.join(report_directory, year_report)):\n",
    "        year_collapsible += md(f\"[{year_report}](./{year_report})\") + \"\\n\"\n",
    "\n",
    "    for month in range(1, 13):\n",
    "        month_files = filter_reports_by_year_month(report_directory, year, month)\n",
    "        if month_files:\n",
    "            file_links = \"\\n\".join([md(f\"[{file}](./{file})\") for file in month_files])\n",
    "            month_collapsible = md(f\"<details> <summary> {month} </summary> \\n <br/> {file_links} \\n </details>\")\n",
    "            year_collapsible += month_collapsible\n",
    "\n",
    "    year_collapsible += \"\\n </details>\"\n",
    "    return md(year_collapsible)\n"
   ]
  },
  {
   "cell_type": "code",
   "execution_count": 10,
   "metadata": {},
   "outputs": [
    {
     "name": "stdout",
     "output_type": "stream",
     "text": [
      "c:\\Users\\mabj16ac\\Desktop\\Thesis\\GEUS-Master-Thesis\\scripts\n"
     ]
    },
    {
     "name": "stderr",
     "output_type": "stream",
     "text": [
      "C:\\Users\\mabj16ac\\AppData\\Local\\Temp\\2\\ipykernel_13588\\1098300415.py:117: SettingWithCopyWarning: \n",
      "A value is trying to be set on a copy of a slice from a DataFrame.\n",
      "Try using .loc[row_indexer,col_indexer] = value instead\n",
      "\n",
      "See the caveats in the documentation: https://pandas.pydata.org/pandas-docs/stable/user_guide/indexing.html#returning-a-view-versus-a-copy\n",
      "  df['group_number'] = (df\n",
      "C:\\Users\\mabj16ac\\AppData\\Local\\Temp\\2\\ipykernel_13588\\1098300415.py:127: SettingWithCopyWarning: \n",
      "A value is trying to be set on a copy of a slice from a DataFrame.\n",
      "Try using .loc[row_indexer,col_indexer] = value instead\n",
      "\n",
      "See the caveats in the documentation: https://pandas.pydata.org/pandas-docs/stable/user_guide/indexing.html#returning-a-view-versus-a-copy\n",
      "  df['year'] = grouped['Datetime'].transform(lambda x: x.max().year)\n",
      "C:\\Users\\mabj16ac\\AppData\\Local\\Temp\\2\\ipykernel_13588\\1098300415.py:129: SettingWithCopyWarning: \n",
      "A value is trying to be set on a copy of a slice from a DataFrame.\n",
      "Try using .loc[row_indexer,col_indexer] = value instead\n",
      "\n",
      "See the caveats in the documentation: https://pandas.pydata.org/pandas-docs/stable/user_guide/indexing.html#returning-a-view-versus-a-copy\n",
      "  df['target_date'] = grouped['Datetime'].transform(lambda x: (x ==date).max())\n"
     ]
    },
    {
     "name": "stdout",
     "output_type": "stream",
     "text": [
      "Calculating Percentiles .... \n",
      "Finished Calculating Percentiles\n",
      "Transforming Output...\n",
      "Finished\n",
      "----------------------------------------------------------------------------------------------------------------------\n",
      "\n",
      "\n",
      "<p><img alt=\"Boxplot\" src=\"/../GEUS-Master-Thesis/figures/to_markdown/fig1.png\" /></p>\n"
     ]
    }
   ],
   "source": [
    "from markdown import markdown as md\n",
    "from tabulate import tabulate\n",
    "\n",
    "\n",
    "#percentiles = daily_report(data = \"GC Net\", date = \"2019-01-13\", measurement= \"All\", scope='Relative', aws=\"All\", window = 'week', output = \"Data\")\n",
    "print(os.getcwd())\n",
    "def generate_markdown(date='2019-01-13', window = 'month', filename='../markdown_reports/output_report_draft2.md', df=None):\n",
    "    output = []\n",
    "    def add_element(element):\n",
    "        nonlocal output\n",
    "        if isinstance(element, list):\n",
    "            for i in element:\n",
    "                output.append(i)\n",
    "        else:\n",
    "            output.append(element)\n",
    "        #percentiles['Percentile'] = percentiles['Percentile'].div(100).map('{:.1%}'.format)\n",
    "\n",
    "    def make_report(elements, filename):\n",
    "        with open(filename, 'w') as f:\n",
    "            for element in elements:\n",
    "                f.write(element)\n",
    "                f.write('\\n\\n')\n",
    "    \n",
    "    if isinstance(df,pd.DataFrame):\n",
    "        percentiles = df\n",
    "    else:\n",
    "        percentiles = daily_report(data = \"GC Net\", date = date, measurement= \"All\", scope='Relative', aws=\"All\", window = window, output = \"Data\")\n",
    "    percentiles_out = (percentiles\n",
    "                       #.assign(Percentile=(percentiles['Percentile']\n",
    "                       #                    .div(100)\n",
    "                       #                    .map('{:.1%}'.format)))\n",
    "                       .to_markdown()\n",
    "    )\n",
    "\n",
    "    #percentiles_out = percentiles.to_markdown(tablefmt='grid')\n",
    "    header = md('## Extreme Weather Events Detection \\n Meterological outliers for {d}, measured as mean of {w} compared to similar period previous years'.format(d=date,w=window))\n",
    "    line = md('-------------------------------------------------------------------------------------------------')\n",
    "    body1 = md('### Outliers by percentiler (filtered top/bottom 10%)')\n",
    "    add_element([header, line, body1, percentiles_out])\n",
    "\n",
    "    picture_folder = ()\n",
    "    row_out = percentiles.iloc[0,:].to_markdown()\n",
    "    figure_out = md('![Boxplot](/../GEUS-Master-Thesis/figures/to_markdown/fig1.png)')#.format(date=date,aws='relative',measurement='relative_humidity_2_cor_file'))\n",
    "    print(figure_out)\n",
    "    add_element([row_out,figure_out])\n",
    "    #GEUS-Master-Thesis\\figures\\to_markdown\\box_plot_2019-01-13_relative_humidity_2_cor_file.png\n",
    "    collapse_element = md('<details> <summary>This collapsible can contain more detailed information </summary> \\n <br/> insert text here  \\n </details>''')\n",
    "    add_element(collapse_element)\n",
    "    \n",
    "\n",
    "    make_report(output, filename)\n",
    "generate_markdown()\n"
   ]
  },
  {
   "cell_type": "code",
   "execution_count": null,
   "metadata": {},
   "outputs": [],
   "source": []
  },
  {
   "cell_type": "code",
   "execution_count": 14,
   "metadata": {},
   "outputs": [
    {
     "name": "stdout",
     "output_type": "stream",
     "text": [
      "c:\\Users\\mabj16ac\\Desktop\\Thesis\\GEUS-Master-Thesis\\scripts\n"
     ]
    },
    {
     "name": "stderr",
     "output_type": "stream",
     "text": [
      "C:\\Users\\mabj16ac\\AppData\\Local\\Temp\\2\\ipykernel_1636\\2153446628.py:117: FutureWarning:\n",
      "\n",
      "Not prepending group keys to the result index of transform-like apply. In the future, the group keys will be included in the index, regardless of whether the applied function returns a like-indexed object.\n",
      "To preserve the previous behavior, use\n",
      "\n",
      "\t>>> .groupby(..., group_keys=False)\n",
      "\n",
      "To adopt the future behavior and silence this warning, use \n",
      "\n",
      "\t>>> .groupby(..., group_keys=True)\n",
      "\n",
      "C:\\Users\\mabj16ac\\AppData\\Local\\Temp\\2\\ipykernel_1636\\2153446628.py:117: SettingWithCopyWarning:\n",
      "\n",
      "\n",
      "A value is trying to be set on a copy of a slice from a DataFrame.\n",
      "Try using .loc[row_indexer,col_indexer] = value instead\n",
      "\n",
      "See the caveats in the documentation: https://pandas.pydata.org/pandas-docs/stable/user_guide/indexing.html#returning-a-view-versus-a-copy\n",
      "\n",
      "C:\\Users\\mabj16ac\\AppData\\Local\\Temp\\2\\ipykernel_1636\\2153446628.py:127: SettingWithCopyWarning:\n",
      "\n",
      "\n",
      "A value is trying to be set on a copy of a slice from a DataFrame.\n",
      "Try using .loc[row_indexer,col_indexer] = value instead\n",
      "\n",
      "See the caveats in the documentation: https://pandas.pydata.org/pandas-docs/stable/user_guide/indexing.html#returning-a-view-versus-a-copy\n",
      "\n",
      "C:\\Users\\mabj16ac\\AppData\\Local\\Temp\\2\\ipykernel_1636\\2153446628.py:129: SettingWithCopyWarning:\n",
      "\n",
      "\n",
      "A value is trying to be set on a copy of a slice from a DataFrame.\n",
      "Try using .loc[row_indexer,col_indexer] = value instead\n",
      "\n",
      "See the caveats in the documentation: https://pandas.pydata.org/pandas-docs/stable/user_guide/indexing.html#returning-a-view-versus-a-copy\n",
      "\n"
     ]
    },
    {
     "data": {
      "text/html": [
       "<div>\n",
       "<style scoped>\n",
       "    .dataframe tbody tr th:only-of-type {\n",
       "        vertical-align: middle;\n",
       "    }\n",
       "\n",
       "    .dataframe tbody tr th {\n",
       "        vertical-align: top;\n",
       "    }\n",
       "\n",
       "    .dataframe thead th {\n",
       "        text-align: right;\n",
       "    }\n",
       "</style>\n",
       "<table border=\"1\" class=\"dataframe\">\n",
       "  <thead>\n",
       "    <tr style=\"text-align: right;\">\n",
       "      <th></th>\n",
       "      <th>file</th>\n",
       "      <th>Unnamed: 0</th>\n",
       "      <th>shortwave_incoming_radiation</th>\n",
       "      <th>shortwave_outgoing_radiation</th>\n",
       "      <th>net_radiation</th>\n",
       "      <th>air_temperature_1</th>\n",
       "      <th>air_temperature_1_max</th>\n",
       "      <th>air_temperature_1_min</th>\n",
       "      <th>air_temperature_cs500_air1</th>\n",
       "      <th>air_temperature_cs500_air2</th>\n",
       "      <th>...</th>\n",
       "      <th>snow_temperature_8</th>\n",
       "      <th>snow_temperature_9</th>\n",
       "      <th>snow_temperature_10</th>\n",
       "      <th>incoming_uv_radiation</th>\n",
       "      <th>incoming_longwave_radiation</th>\n",
       "      <th>surface_temperature_1</th>\n",
       "      <th>surface_temperature_2</th>\n",
       "      <th>net_radiation_maximum</th>\n",
       "      <th>year</th>\n",
       "      <th>target_date</th>\n",
       "    </tr>\n",
       "  </thead>\n",
       "  <tbody>\n",
       "    <tr>\n",
       "      <th>0</th>\n",
       "      <td>Aurora</td>\n",
       "      <td>29520.428571</td>\n",
       "      <td>4.381429</td>\n",
       "      <td>NaN</td>\n",
       "      <td>-8.035714</td>\n",
       "      <td>-21.310000</td>\n",
       "      <td>NaN</td>\n",
       "      <td>NaN</td>\n",
       "      <td>-24.174286</td>\n",
       "      <td>NaN</td>\n",
       "      <td>...</td>\n",
       "      <td>NaN</td>\n",
       "      <td>NaN</td>\n",
       "      <td>NaN</td>\n",
       "      <td>NaN</td>\n",
       "      <td>NaN</td>\n",
       "      <td>NaN</td>\n",
       "      <td>NaN</td>\n",
       "      <td>NaN</td>\n",
       "      <td>2001</td>\n",
       "      <td>False</td>\n",
       "    </tr>\n",
       "    <tr>\n",
       "      <th>1</th>\n",
       "      <td>CP2</td>\n",
       "      <td>11060.571429</td>\n",
       "      <td>0.335714</td>\n",
       "      <td>0.262857</td>\n",
       "      <td>-3.654286</td>\n",
       "      <td>-24.995714</td>\n",
       "      <td>NaN</td>\n",
       "      <td>NaN</td>\n",
       "      <td>-24.817143</td>\n",
       "      <td>-24.924286</td>\n",
       "      <td>...</td>\n",
       "      <td>NaN</td>\n",
       "      <td>NaN</td>\n",
       "      <td>NaN</td>\n",
       "      <td>NaN</td>\n",
       "      <td>NaN</td>\n",
       "      <td>NaN</td>\n",
       "      <td>NaN</td>\n",
       "      <td>NaN</td>\n",
       "      <td>1998</td>\n",
       "      <td>False</td>\n",
       "    </tr>\n",
       "    <tr>\n",
       "      <th>2</th>\n",
       "      <td>CP2</td>\n",
       "      <td>16520.000000</td>\n",
       "      <td>0.605714</td>\n",
       "      <td>0.416667</td>\n",
       "      <td>-2.337143</td>\n",
       "      <td>-35.782857</td>\n",
       "      <td>NaN</td>\n",
       "      <td>NaN</td>\n",
       "      <td>NaN</td>\n",
       "      <td>NaN</td>\n",
       "      <td>...</td>\n",
       "      <td>NaN</td>\n",
       "      <td>NaN</td>\n",
       "      <td>NaN</td>\n",
       "      <td>NaN</td>\n",
       "      <td>NaN</td>\n",
       "      <td>NaN</td>\n",
       "      <td>NaN</td>\n",
       "      <td>NaN</td>\n",
       "      <td>1999</td>\n",
       "      <td>False</td>\n",
       "    </tr>\n",
       "    <tr>\n",
       "      <th>3</th>\n",
       "      <td>CP2</td>\n",
       "      <td>22656.000000</td>\n",
       "      <td>0.617143</td>\n",
       "      <td>0.235714</td>\n",
       "      <td>-0.785714</td>\n",
       "      <td>-23.361429</td>\n",
       "      <td>NaN</td>\n",
       "      <td>NaN</td>\n",
       "      <td>-22.954286</td>\n",
       "      <td>NaN</td>\n",
       "      <td>...</td>\n",
       "      <td>NaN</td>\n",
       "      <td>NaN</td>\n",
       "      <td>NaN</td>\n",
       "      <td>NaN</td>\n",
       "      <td>NaN</td>\n",
       "      <td>NaN</td>\n",
       "      <td>NaN</td>\n",
       "      <td>NaN</td>\n",
       "      <td>2000</td>\n",
       "      <td>False</td>\n",
       "    </tr>\n",
       "    <tr>\n",
       "      <th>4</th>\n",
       "      <td>CP2</td>\n",
       "      <td>29522.000000</td>\n",
       "      <td>0.297143</td>\n",
       "      <td>0.235714</td>\n",
       "      <td>-0.427143</td>\n",
       "      <td>-24.524286</td>\n",
       "      <td>NaN</td>\n",
       "      <td>NaN</td>\n",
       "      <td>-23.541429</td>\n",
       "      <td>-23.527143</td>\n",
       "      <td>...</td>\n",
       "      <td>NaN</td>\n",
       "      <td>NaN</td>\n",
       "      <td>NaN</td>\n",
       "      <td>NaN</td>\n",
       "      <td>NaN</td>\n",
       "      <td>NaN</td>\n",
       "      <td>NaN</td>\n",
       "      <td>NaN</td>\n",
       "      <td>2001</td>\n",
       "      <td>False</td>\n",
       "    </tr>\n",
       "    <tr>\n",
       "      <th>...</th>\n",
       "      <td>...</td>\n",
       "      <td>...</td>\n",
       "      <td>...</td>\n",
       "      <td>...</td>\n",
       "      <td>...</td>\n",
       "      <td>...</td>\n",
       "      <td>...</td>\n",
       "      <td>...</td>\n",
       "      <td>...</td>\n",
       "      <td>...</td>\n",
       "      <td>...</td>\n",
       "      <td>...</td>\n",
       "      <td>...</td>\n",
       "      <td>...</td>\n",
       "      <td>...</td>\n",
       "      <td>...</td>\n",
       "      <td>...</td>\n",
       "      <td>...</td>\n",
       "      <td>...</td>\n",
       "      <td>...</td>\n",
       "      <td>...</td>\n",
       "    </tr>\n",
       "    <tr>\n",
       "      <th>442</th>\n",
       "      <td>Tunu-N</td>\n",
       "      <td>141268.714286</td>\n",
       "      <td>0.075714</td>\n",
       "      <td>0.028571</td>\n",
       "      <td>6.641429</td>\n",
       "      <td>-37.485714</td>\n",
       "      <td>-32.235714</td>\n",
       "      <td>-42.037143</td>\n",
       "      <td>NaN</td>\n",
       "      <td>NaN</td>\n",
       "      <td>...</td>\n",
       "      <td>NaN</td>\n",
       "      <td>NaN</td>\n",
       "      <td>NaN</td>\n",
       "      <td>NaN</td>\n",
       "      <td>NaN</td>\n",
       "      <td>NaN</td>\n",
       "      <td>NaN</td>\n",
       "      <td>NaN</td>\n",
       "      <td>2018</td>\n",
       "      <td>False</td>\n",
       "    </tr>\n",
       "    <tr>\n",
       "      <th>443</th>\n",
       "      <td>Tunu-N</td>\n",
       "      <td>147455.857143</td>\n",
       "      <td>0.127143</td>\n",
       "      <td>0.028571</td>\n",
       "      <td>3.446667</td>\n",
       "      <td>-42.122857</td>\n",
       "      <td>-38.255714</td>\n",
       "      <td>-45.430000</td>\n",
       "      <td>NaN</td>\n",
       "      <td>NaN</td>\n",
       "      <td>...</td>\n",
       "      <td>NaN</td>\n",
       "      <td>NaN</td>\n",
       "      <td>NaN</td>\n",
       "      <td>NaN</td>\n",
       "      <td>NaN</td>\n",
       "      <td>NaN</td>\n",
       "      <td>NaN</td>\n",
       "      <td>NaN</td>\n",
       "      <td>2019</td>\n",
       "      <td>True</td>\n",
       "    </tr>\n",
       "    <tr>\n",
       "      <th>444</th>\n",
       "      <td>Tunu-N</td>\n",
       "      <td>153166.714286</td>\n",
       "      <td>0.180000</td>\n",
       "      <td>0.032857</td>\n",
       "      <td>77.252857</td>\n",
       "      <td>-35.005714</td>\n",
       "      <td>-30.904286</td>\n",
       "      <td>-40.005714</td>\n",
       "      <td>NaN</td>\n",
       "      <td>NaN</td>\n",
       "      <td>...</td>\n",
       "      <td>NaN</td>\n",
       "      <td>NaN</td>\n",
       "      <td>NaN</td>\n",
       "      <td>NaN</td>\n",
       "      <td>NaN</td>\n",
       "      <td>NaN</td>\n",
       "      <td>NaN</td>\n",
       "      <td>NaN</td>\n",
       "      <td>2020</td>\n",
       "      <td>False</td>\n",
       "    </tr>\n",
       "    <tr>\n",
       "      <th>445</th>\n",
       "      <td>Tunu-N</td>\n",
       "      <td>158186.142857</td>\n",
       "      <td>0.034286</td>\n",
       "      <td>0.030000</td>\n",
       "      <td>10.154286</td>\n",
       "      <td>-31.845714</td>\n",
       "      <td>-27.317143</td>\n",
       "      <td>-36.311429</td>\n",
       "      <td>-30.735000</td>\n",
       "      <td>-31.322857</td>\n",
       "      <td>...</td>\n",
       "      <td>NaN</td>\n",
       "      <td>NaN</td>\n",
       "      <td>NaN</td>\n",
       "      <td>NaN</td>\n",
       "      <td>NaN</td>\n",
       "      <td>NaN</td>\n",
       "      <td>NaN</td>\n",
       "      <td>NaN</td>\n",
       "      <td>2021</td>\n",
       "      <td>False</td>\n",
       "    </tr>\n",
       "    <tr>\n",
       "      <th>446</th>\n",
       "      <td>Tunu-N</td>\n",
       "      <td>162472.571429</td>\n",
       "      <td>0.132857</td>\n",
       "      <td>0.021429</td>\n",
       "      <td>6.588571</td>\n",
       "      <td>-37.911429</td>\n",
       "      <td>-32.678571</td>\n",
       "      <td>-42.070000</td>\n",
       "      <td>NaN</td>\n",
       "      <td>NaN</td>\n",
       "      <td>...</td>\n",
       "      <td>NaN</td>\n",
       "      <td>NaN</td>\n",
       "      <td>NaN</td>\n",
       "      <td>NaN</td>\n",
       "      <td>NaN</td>\n",
       "      <td>NaN</td>\n",
       "      <td>NaN</td>\n",
       "      <td>NaN</td>\n",
       "      <td>2022</td>\n",
       "      <td>False</td>\n",
       "    </tr>\n",
       "  </tbody>\n",
       "</table>\n",
       "<p>447 rows × 62 columns</p>\n",
       "</div>"
      ],
      "text/plain": [
       "       file     Unnamed: 0  shortwave_incoming_radiation  \\\n",
       "0    Aurora   29520.428571                      4.381429   \n",
       "1       CP2   11060.571429                      0.335714   \n",
       "2       CP2   16520.000000                      0.605714   \n",
       "3       CP2   22656.000000                      0.617143   \n",
       "4       CP2   29522.000000                      0.297143   \n",
       "..      ...            ...                           ...   \n",
       "442  Tunu-N  141268.714286                      0.075714   \n",
       "443  Tunu-N  147455.857143                      0.127143   \n",
       "444  Tunu-N  153166.714286                      0.180000   \n",
       "445  Tunu-N  158186.142857                      0.034286   \n",
       "446  Tunu-N  162472.571429                      0.132857   \n",
       "\n",
       "     shortwave_outgoing_radiation  net_radiation  air_temperature_1  \\\n",
       "0                             NaN      -8.035714         -21.310000   \n",
       "1                        0.262857      -3.654286         -24.995714   \n",
       "2                        0.416667      -2.337143         -35.782857   \n",
       "3                        0.235714      -0.785714         -23.361429   \n",
       "4                        0.235714      -0.427143         -24.524286   \n",
       "..                            ...            ...                ...   \n",
       "442                      0.028571       6.641429         -37.485714   \n",
       "443                      0.028571       3.446667         -42.122857   \n",
       "444                      0.032857      77.252857         -35.005714   \n",
       "445                      0.030000      10.154286         -31.845714   \n",
       "446                      0.021429       6.588571         -37.911429   \n",
       "\n",
       "     air_temperature_1_max  air_temperature_1_min  air_temperature_cs500_air1  \\\n",
       "0                      NaN                    NaN                  -24.174286   \n",
       "1                      NaN                    NaN                  -24.817143   \n",
       "2                      NaN                    NaN                         NaN   \n",
       "3                      NaN                    NaN                  -22.954286   \n",
       "4                      NaN                    NaN                  -23.541429   \n",
       "..                     ...                    ...                         ...   \n",
       "442             -32.235714             -42.037143                         NaN   \n",
       "443             -38.255714             -45.430000                         NaN   \n",
       "444             -30.904286             -40.005714                         NaN   \n",
       "445             -27.317143             -36.311429                  -30.735000   \n",
       "446             -32.678571             -42.070000                         NaN   \n",
       "\n",
       "     air_temperature_cs500_air2  ...  snow_temperature_8  snow_temperature_9  \\\n",
       "0                           NaN  ...                 NaN                 NaN   \n",
       "1                    -24.924286  ...                 NaN                 NaN   \n",
       "2                           NaN  ...                 NaN                 NaN   \n",
       "3                           NaN  ...                 NaN                 NaN   \n",
       "4                    -23.527143  ...                 NaN                 NaN   \n",
       "..                          ...  ...                 ...                 ...   \n",
       "442                         NaN  ...                 NaN                 NaN   \n",
       "443                         NaN  ...                 NaN                 NaN   \n",
       "444                         NaN  ...                 NaN                 NaN   \n",
       "445                  -31.322857  ...                 NaN                 NaN   \n",
       "446                         NaN  ...                 NaN                 NaN   \n",
       "\n",
       "     snow_temperature_10  incoming_uv_radiation  incoming_longwave_radiation  \\\n",
       "0                    NaN                    NaN                          NaN   \n",
       "1                    NaN                    NaN                          NaN   \n",
       "2                    NaN                    NaN                          NaN   \n",
       "3                    NaN                    NaN                          NaN   \n",
       "4                    NaN                    NaN                          NaN   \n",
       "..                   ...                    ...                          ...   \n",
       "442                  NaN                    NaN                          NaN   \n",
       "443                  NaN                    NaN                          NaN   \n",
       "444                  NaN                    NaN                          NaN   \n",
       "445                  NaN                    NaN                          NaN   \n",
       "446                  NaN                    NaN                          NaN   \n",
       "\n",
       "     surface_temperature_1  surface_temperature_2  net_radiation_maximum  \\\n",
       "0                      NaN                    NaN                    NaN   \n",
       "1                      NaN                    NaN                    NaN   \n",
       "2                      NaN                    NaN                    NaN   \n",
       "3                      NaN                    NaN                    NaN   \n",
       "4                      NaN                    NaN                    NaN   \n",
       "..                     ...                    ...                    ...   \n",
       "442                    NaN                    NaN                    NaN   \n",
       "443                    NaN                    NaN                    NaN   \n",
       "444                    NaN                    NaN                    NaN   \n",
       "445                    NaN                    NaN                    NaN   \n",
       "446                    NaN                    NaN                    NaN   \n",
       "\n",
       "     year  target_date  \n",
       "0    2001        False  \n",
       "1    1998        False  \n",
       "2    1999        False  \n",
       "3    2000        False  \n",
       "4    2001        False  \n",
       "..    ...          ...  \n",
       "442  2018        False  \n",
       "443  2019         True  \n",
       "444  2020        False  \n",
       "445  2021        False  \n",
       "446  2022        False  \n",
       "\n",
       "[447 rows x 62 columns]"
      ]
     },
     "metadata": {},
     "output_type": "display_data"
    },
    {
     "name": "stdout",
     "output_type": "stream",
     "text": [
      "Calculating Percentiles .... \n",
      "Finished Calculating Percentiles\n",
      "Transforming Output...\n",
      "Finished\n",
      "----------------------------------------------------------------------------------------------------------------------\n",
      "\n",
      "\n"
     ]
    },
    {
     "ename": "NameError",
     "evalue": "name 'filter_reports_by_year' is not defined",
     "output_type": "error",
     "traceback": [
      "\u001b[1;31m---------------------------------------------------------------------------\u001b[0m",
      "\u001b[1;31mNameError\u001b[0m                                 Traceback (most recent call last)",
      "Cell \u001b[1;32mIn[14], line 97\u001b[0m\n\u001b[0;32m     94\u001b[0m     add_element(linked_code)\n\u001b[0;32m     96\u001b[0m     make_report(output, filename)\n\u001b[1;32m---> 97\u001b[0m generate_markdown()\n",
      "Cell \u001b[1;32mIn[14], line 76\u001b[0m, in \u001b[0;36mgenerate_markdown\u001b[1;34m(date, window, filename, df)\u001b[0m\n\u001b[0;32m     73\u001b[0m add_element([line, body1, body2])\n\u001b[0;32m     75\u001b[0m report_directory \u001b[39m=\u001b[39m \u001b[39m\"\u001b[39m\u001b[39m../markdown_reports\u001b[39m\u001b[39m\"\u001b[39m\n\u001b[1;32m---> 76\u001b[0m years \u001b[39m=\u001b[39m filter_reports_by_year(report_directory)\n\u001b[0;32m     77\u001b[0m \u001b[39mfor\u001b[39;00m year \u001b[39min\u001b[39;00m years:\n\u001b[0;32m     78\u001b[0m     year_collapsible \u001b[39m=\u001b[39m generate_year_month_collapsible(year, report_directory)\n",
      "\u001b[1;31mNameError\u001b[0m: name 'filter_reports_by_year' is not defined"
     ]
    }
   ],
   "source": [
    "# This bit to generate the front page markdown\n",
    "\n",
    "import os\n",
    "import re\n",
    "\n",
    "def filter_reports_by_year_month(directory, year, month):\n",
    "    month_files = []\n",
    "    for file in os.listdir(directory):\n",
    "        if file.endswith(\".md\") and re.search(f\"{year}_{month:02d}\", file):  # Add the underscore and zero-padding for the month\n",
    "            month_files.append(file)\n",
    "    return month_files\n",
    "\n",
    "def generate_year_month_collapsible(year, report_directory):\n",
    "    year_collapsible = f\"<details> <summary> {year} </summary> \\n\"\n",
    "    year_report = f\"{year}.md\"\n",
    "    if os.path.isfile(os.path.join(report_directory, year_report)):\n",
    "        year_collapsible += md(f\"[{year_report}](./{year_report})\") + \"\\n\"\n",
    "\n",
    "    for month in range(1, 13):\n",
    "        month_files = filter_reports_by_year_month(report_directory, year, month)\n",
    "        if month_files:\n",
    "            file_links = \"\\n\".join([md(f\"[{file}](./{file})\") for file in month_files])\n",
    "            month_collapsible = md(f\"<details> <summary> {month} </summary> \\n <br/> {file_links} \\n </details>\")\n",
    "            year_collapsible += month_collapsible\n",
    "\n",
    "    year_collapsible += \"\\n </details>\"\n",
    "    return md(year_collapsible)\n",
    "\n",
    "from markdown import markdown as md\n",
    "from tabulate import tabulate\n",
    "\n",
    "\n",
    "#percentiles = daily_report(data = \"GC Net\", date = \"2019-01-13\", measurement= \"All\", scope='Relative', aws=\"All\", window = 'week', output = \"Data\")\n",
    "print(os.getcwd())\n",
    "def generate_markdown(date='2019-01-13', window = 'week', filename='../README.md', df=None):\n",
    "    output = []\n",
    "    def add_element(element):\n",
    "        nonlocal output\n",
    "        if isinstance(element, list):\n",
    "            for i in element:\n",
    "                output.append(i)\n",
    "        else:\n",
    "            output.append(element)\n",
    "        #percentiles['Percentile'] = percentiles['Percentile'].div(100).map('{:.1%}'.format)\n",
    "\n",
    "    def make_report(elements, filename):\n",
    "        with open(filename, 'w') as f:\n",
    "            for element in elements:\n",
    "                f.write(element)\n",
    "                f.write('\\n\\n')\n",
    "    \n",
    "    if isinstance(df,pd.DataFrame):\n",
    "        percentiles = df\n",
    "    else:\n",
    "        percentiles = daily_report(data = \"GC Net\", date = date, measurement= \"All\", scope='Relative', aws=\"All\", window = window, output = \"Data\")\n",
    "    percentiles_out = (percentiles\n",
    "                       #.assign(Percentile=(percentiles['Percentile']\n",
    "                       #                    .div(100)\n",
    "                       #                    .map('{:.1%}'.format)))\n",
    "                       .to_markdown()\n",
    "    )\n",
    "\n",
    "    linked_report_path = \"output_report_draft2.md\"\n",
    "    linked_report = md(f\"[View Output Report Draft 2]({linked_report_path})\")\n",
    "\n",
    "    header = md('## Extreme Weather Events Detection')\n",
    "    line = md('-------------------------------------------------------------------------------------------------')\n",
    "    body1 = md('### \\n This page displays an overview of the yearly and monthly reports that are generated for climatology reporting. \\n \\n The climatology values are calculated as the values of the respective time period in comparison to all other values within the same time period. \\n \\n')\n",
    "    body2 = md('### You find the yearly and monthly reports under the following links.')    \n",
    "    \n",
    "    \n",
    "    add_element([header])\n",
    "    add_element([line, body1, body2])\n",
    "\n",
    "    report_directory = \"../markdown_reports\"\n",
    "    years = filter_reports_by_year(report_directory)\n",
    "    for year in years:\n",
    "        year_collapsible = generate_year_month_collapsible(year, report_directory)\n",
    "        if \"<summary>\" in year_collapsible:  # Check if there is any month with reports for the year\n",
    "            add_element(year_collapsible)\n",
    "\n",
    "\n",
    "    \n",
    "    picture_folder = ()\n",
    "    row_out = percentiles.iloc[0,:].to_markdown()\n",
    "    figure_out = md('![Boxplot](../figures/to_markdown/Boxplot.png)')#.format(date=date,aws='relative',measurement='relative_humidity_2_cor_file'))\n",
    "    #print(figure_out)\n",
    "    #add_element([row_out,figure_out])\n",
    "    #GEUS-Master-Thesis\\figures\\to_markdown\\box_plot_2019-01-13_relative_humidity_2_cor_file.png\n",
    "    body2 = md('### \\n You can run a custom climatology report by running the code in the following link: \\n')\n",
    "    linked_code_path = \"../scripts/Climatology.ipynb\"\n",
    "    linked_code = md(f\"[Custom Climatology Report]({linked_code_path})\")\n",
    "    add_element(body2)\n",
    "    add_element(linked_code)\n",
    "\n",
    "    make_report(output, filename)\n",
    "generate_markdown()\n"
   ]
  },
  {
   "cell_type": "code",
   "execution_count": 11,
   "metadata": {},
   "outputs": [
    {
     "data": {
      "text/html": [
       "<div>\n",
       "<style scoped>\n",
       "    .dataframe tbody tr th:only-of-type {\n",
       "        vertical-align: middle;\n",
       "    }\n",
       "\n",
       "    .dataframe tbody tr th {\n",
       "        vertical-align: top;\n",
       "    }\n",
       "\n",
       "    .dataframe thead th {\n",
       "        text-align: right;\n",
       "    }\n",
       "</style>\n",
       "<table border=\"1\" class=\"dataframe\">\n",
       "  <thead>\n",
       "    <tr style=\"text-align: right;\">\n",
       "      <th></th>\n",
       "      <th>relative_humidity_2_cor</th>\n",
       "    </tr>\n",
       "    <tr>\n",
       "      <th>Datetime</th>\n",
       "      <th></th>\n",
       "    </tr>\n",
       "  </thead>\n",
       "  <tbody>\n",
       "    <tr>\n",
       "      <th>1995-01-01</th>\n",
       "      <td>NaN</td>\n",
       "    </tr>\n",
       "    <tr>\n",
       "      <th>1995-01-02</th>\n",
       "      <td>NaN</td>\n",
       "    </tr>\n",
       "    <tr>\n",
       "      <th>1995-01-03</th>\n",
       "      <td>NaN</td>\n",
       "    </tr>\n",
       "    <tr>\n",
       "      <th>1995-01-04</th>\n",
       "      <td>NaN</td>\n",
       "    </tr>\n",
       "    <tr>\n",
       "      <th>1995-01-05</th>\n",
       "      <td>NaN</td>\n",
       "    </tr>\n",
       "    <tr>\n",
       "      <th>...</th>\n",
       "      <td>...</td>\n",
       "    </tr>\n",
       "    <tr>\n",
       "      <th>2022-07-30</th>\n",
       "      <td>107.49</td>\n",
       "    </tr>\n",
       "    <tr>\n",
       "      <th>2022-07-31</th>\n",
       "      <td>98.40</td>\n",
       "    </tr>\n",
       "    <tr>\n",
       "      <th>2022-08-01</th>\n",
       "      <td>88.60</td>\n",
       "    </tr>\n",
       "    <tr>\n",
       "      <th>2022-08-02</th>\n",
       "      <td>104.88</td>\n",
       "    </tr>\n",
       "    <tr>\n",
       "      <th>2022-08-03</th>\n",
       "      <td>102.82</td>\n",
       "    </tr>\n",
       "  </tbody>\n",
       "</table>\n",
       "<p>10077 rows × 1 columns</p>\n",
       "</div>"
      ],
      "text/plain": [
       "            relative_humidity_2_cor\n",
       "Datetime                           \n",
       "1995-01-01                      NaN\n",
       "1995-01-02                      NaN\n",
       "1995-01-03                      NaN\n",
       "1995-01-04                      NaN\n",
       "1995-01-05                      NaN\n",
       "...                             ...\n",
       "2022-07-30                   107.49\n",
       "2022-07-31                    98.40\n",
       "2022-08-01                    88.60\n",
       "2022-08-02                   104.88\n",
       "2022-08-03                   102.82\n",
       "\n",
       "[10077 rows x 1 columns]"
      ]
     },
     "metadata": {},
     "output_type": "display_data"
    },
    {
     "name": "stdout",
     "output_type": "stream",
     "text": [
      "[2022, 2021, 2019, 2018, 2017, 2016, 2015, 2014, 2013, 2012, 2011, 2010, 2009, 2008, 2007, 2006, 2005, 2004, 2003, 2002, 2001, 2000, 1999, 1998, 1997, 1996, 1995]\n",
      "2021\n"
     ]
    },
    {
     "data": {
      "application/vnd.plotly.v1+json": {
       "config": {
        "plotlyServerURL": "https://plot.ly"
       },
       "data": [
        {
         "legendgroup": "custom",
         "line": {
          "color": "rgba(0, 0, 0, 1)",
          "width": 1
         },
         "mode": "lines",
         "name": "2022",
         "showlegend": false,
         "type": "scatter",
         "x": [
          "2000-01-31T00:00:00",
          "2000-02-28T00:00:00",
          "2000-03-31T00:00:00",
          "2000-04-30T00:00:00",
          "2000-05-31T00:00:00",
          "2000-06-30T00:00:00",
          "2000-07-31T00:00:00",
          "2000-08-31T00:00:00"
         ],
         "y": [
          112.12741935483871,
          112.50642857142857,
          105.98677419354838,
          105.58933333333333,
          101.39774193548386,
          99.952,
          100.8916129032258,
          98.76666666666665
         ]
        },
        {
         "legendgroup": "custom",
         "line": {
          "color": "rgba(0, 0, 0, 1)",
          "width": 1
         },
         "mode": "lines",
         "name": "2019",
         "showlegend": false,
         "type": "scatter",
         "x": [
          "2000-01-31T00:00:00",
          "2000-02-28T00:00:00",
          "2000-03-31T00:00:00",
          "2000-04-30T00:00:00",
          "2000-05-31T00:00:00"
         ],
         "y": [
          114.76290322580645,
          104.42285714285715,
          110.87322580645161,
          104.014,
          94.2875
         ]
        },
        {
         "legendgroup": "custom",
         "line": {
          "color": "rgba(10, 10, 10, 1)",
          "width": 1
         },
         "mode": "lines",
         "name": "2018",
         "showlegend": false,
         "type": "scatter",
         "x": [
          "2000-01-31T00:00:00",
          "2000-02-28T00:00:00",
          "2000-03-31T00:00:00",
          "2000-04-30T00:00:00",
          "2000-05-31T00:00:00",
          "2000-06-30T00:00:00",
          "2000-07-31T00:00:00",
          "2000-08-31T00:00:00",
          "2000-09-30T00:00:00",
          "2000-10-31T00:00:00",
          "2000-11-30T00:00:00",
          "2000-12-31T00:00:00"
         ],
         "y": [
          111.5067741935484,
          113.94928571428571,
          109.60774193548387,
          103.863,
          101.76354838709678,
          99.10566666666666,
          103.9016129032258,
          101.94225806451612,
          103.48700000000001,
          110.25967741935484,
          107.83166666666666,
          111.03483870967742
         ]
        },
        {
         "legendgroup": "custom",
         "line": {
          "color": "rgba(20, 20, 20, 1)",
          "width": 1
         },
         "mode": "lines",
         "name": "2017",
         "showlegend": false,
         "type": "scatter",
         "x": [
          "2000-01-31T00:00:00",
          "2000-02-28T00:00:00",
          "2000-03-31T00:00:00",
          "2000-04-30T00:00:00",
          "2000-05-31T00:00:00",
          "2000-06-30T00:00:00",
          "2000-07-31T00:00:00",
          "2000-08-31T00:00:00",
          "2000-09-30T00:00:00",
          "2000-10-31T00:00:00",
          "2000-11-30T00:00:00",
          "2000-12-31T00:00:00"
         ],
         "y": [
          111.65290322580644,
          103.54892857142856,
          101.91354838709678,
          103.30733333333333,
          96.30451612903227,
          93.89633333333333,
          95.8825806451613,
          100.16161290322582,
          103.03733333333334,
          104.06935483870969,
          113.44900000000001,
          111.94935483870967
         ]
        },
        {
         "legendgroup": "custom",
         "line": {
          "color": "rgba(30, 30, 30, 1)",
          "width": 1
         },
         "mode": "lines",
         "name": "2016",
         "showlegend": false,
         "type": "scatter",
         "x": [
          "2000-05-31T00:00:00",
          "2000-06-30T00:00:00",
          "2000-07-31T00:00:00",
          "2000-08-31T00:00:00",
          "2000-09-30T00:00:00",
          "2000-10-31T00:00:00",
          "2000-11-30T00:00:00",
          "2000-12-31T00:00:00"
         ],
         "y": [
          94.7404347826087,
          96.078,
          94.95064516129031,
          96.76483870967742,
          103.615,
          108.5232258064516,
          111.682,
          107.08032258064516
         ]
        },
        {
         "legendgroup": "custom",
         "line": {
          "color": "rgba(40, 40, 40, 1)",
          "width": 1
         },
         "mode": "lines",
         "name": "2015",
         "showlegend": false,
         "type": "scatter",
         "x": [
          "2000-01-31T00:00:00",
          "2000-02-28T00:00:00",
          "2000-03-31T00:00:00",
          "2000-04-30T00:00:00",
          "2000-05-31T00:00:00"
         ],
         "y": [
          112.2258064516129,
          112.77714285714285,
          107.40096774193547,
          106.58566666666667,
          100.49903225806453
         ]
        },
        {
         "legendgroup": "custom",
         "line": {
          "color": "rgba(51, 51, 51, 1)",
          "width": 1
         },
         "mode": "lines",
         "name": "2014",
         "showlegend": false,
         "type": "scatter",
         "x": [
          "2000-01-31T00:00:00",
          "2000-02-28T00:00:00",
          "2000-03-31T00:00:00",
          "2000-04-30T00:00:00",
          "2000-05-31T00:00:00",
          "2000-06-30T00:00:00",
          "2000-07-31T00:00:00",
          "2000-08-31T00:00:00",
          "2000-09-30T00:00:00",
          "2000-10-31T00:00:00",
          "2000-11-30T00:00:00",
          "2000-12-31T00:00:00"
         ],
         "y": [
          99.54870967741937,
          100.86857142857143,
          98.90741935483871,
          104.35466666666666,
          98.09129032258065,
          95.98133333333334,
          94.60451612903225,
          99.27,
          104.62066666666666,
          106.77483870967743,
          103.75833333333334,
          112.45129032258063
         ]
        },
        {
         "legendgroup": "custom",
         "line": {
          "color": "rgba(61, 61, 61, 1)",
          "width": 1
         },
         "mode": "lines",
         "name": "2013",
         "showlegend": false,
         "type": "scatter",
         "x": [
          "2000-01-31T00:00:00",
          "2000-02-28T00:00:00",
          "2000-03-31T00:00:00",
          "2000-04-30T00:00:00",
          "2000-05-31T00:00:00",
          "2000-06-30T00:00:00",
          "2000-07-31T00:00:00",
          "2000-08-31T00:00:00",
          "2000-09-30T00:00:00",
          "2000-10-31T00:00:00",
          "2000-11-30T00:00:00",
          "2000-12-31T00:00:00"
         ],
         "y": [
          98.36354838709677,
          102.37714285714286,
          100.55903225806452,
          98.60233333333333,
          100.32032258064515,
          92.691,
          96.73193548387097,
          98.98612903225806,
          104.264,
          105.16774193548386,
          111.551,
          108.36
         ]
        },
        {
         "legendgroup": "custom",
         "line": {
          "color": "rgba(71, 71, 71, 1)",
          "width": 1
         },
         "mode": "lines",
         "name": "2012",
         "showlegend": false,
         "type": "scatter",
         "x": [
          "2000-01-31T00:00:00",
          "2000-02-29T00:00:00",
          "2000-03-31T00:00:00",
          "2000-04-30T00:00:00",
          "2000-05-31T00:00:00",
          "2000-06-30T00:00:00",
          "2000-07-31T00:00:00",
          "2000-08-31T00:00:00",
          "2000-09-30T00:00:00",
          "2000-10-31T00:00:00",
          "2000-11-30T00:00:00",
          "2000-12-31T00:00:00"
         ],
         "y": [
          107.02258064516128,
          107.19103448275862,
          109.44096774193548,
          108.07133333333333,
          101.84290322580645,
          94.23766666666667,
          97.80612903225806,
          97.98645161290322,
          103.33,
          105.29354838709678,
          107.68366666666665,
          102.7783870967742
         ]
        },
        {
         "legendgroup": "custom",
         "line": {
          "color": "rgba(81, 81, 81, 1)",
          "width": 1
         },
         "mode": "lines",
         "name": "2011",
         "showlegend": false,
         "type": "scatter",
         "x": [
          "2000-01-31T00:00:00",
          "2000-02-28T00:00:00",
          "2000-03-31T00:00:00",
          "2000-04-30T00:00:00",
          "2000-05-31T00:00:00",
          "2000-06-30T00:00:00",
          "2000-07-31T00:00:00",
          "2000-08-31T00:00:00",
          "2000-09-30T00:00:00",
          "2000-10-31T00:00:00",
          "2000-11-30T00:00:00",
          "2000-12-31T00:00:00"
         ],
         "y": [
          102.46903225806452,
          103.75750000000001,
          110.35612903225807,
          103.73366666666668,
          98.11935483870967,
          92.53766666666667,
          93.94999999999999,
          96.24193548387096,
          98.58433333333333,
          105.42967741935485,
          107.04833333333333,
          109.67774193548388
         ]
        },
        {
         "legendgroup": "custom",
         "line": {
          "color": "rgba(91, 91, 91, 1)",
          "width": 1
         },
         "mode": "lines",
         "name": "2010",
         "showlegend": false,
         "type": "scatter",
         "x": [
          "2000-01-31T00:00:00",
          "2000-02-28T00:00:00",
          "2000-03-31T00:00:00",
          "2000-04-30T00:00:00",
          "2000-05-31T00:00:00",
          "2000-06-30T00:00:00",
          "2000-07-31T00:00:00",
          "2000-08-31T00:00:00",
          "2000-09-30T00:00:00",
          "2000-10-31T00:00:00",
          "2000-11-30T00:00:00",
          "2000-12-31T00:00:00"
         ],
         "y": [
          88.73903225806451,
          86.6125,
          82.94096774193548,
          84.09766666666665,
          90.6458064516129,
          94.078,
          94.64354838709677,
          97.68806451612903,
          92.711,
          83.95193548387095,
          85.04933333333334,
          93.16774193548386
         ]
        },
        {
         "legendgroup": "custom",
         "line": {
          "color": "rgba(102, 102, 102, 1)",
          "width": 1
         },
         "mode": "lines",
         "name": "2009",
         "showlegend": false,
         "type": "scatter",
         "x": [
          "2000-02-28T00:00:00",
          "2000-03-31T00:00:00",
          "2000-04-30T00:00:00",
          "2000-05-31T00:00:00",
          "2000-06-30T00:00:00",
          "2000-07-31T00:00:00",
          "2000-08-31T00:00:00",
          "2000-09-30T00:00:00",
          "2000-10-31T00:00:00",
          "2000-11-30T00:00:00",
          "2000-12-31T00:00:00"
         ],
         "y": [
          81.16823529411764,
          85.05645161290323,
          81.82533333333335,
          84.03129032258065,
          92.62033333333333,
          100.68,
          88.79444444444444,
          91.46633333333332,
          90.28870967741935,
          84.78333333333333,
          81.03935483870967
         ]
        },
        {
         "legendgroup": "custom",
         "line": {
          "color": "rgba(112, 112, 112, 1)",
          "width": 1
         },
         "mode": "lines",
         "name": "2008",
         "showlegend": false,
         "type": "scatter",
         "x": [
          "2000-05-31T00:00:00",
          "2000-06-30T00:00:00",
          "2000-07-31T00:00:00",
          "2000-08-31T00:00:00",
          "2000-09-30T00:00:00",
          "2000-10-31T00:00:00",
          "2000-11-30T00:00:00"
         ],
         "y": [
          86.79076923076923,
          85.53066666666668,
          89.73354838709677,
          90.45354838709677,
          91.25466666666667,
          91.69032258064516,
          91.06142857142856
         ]
        },
        {
         "legendgroup": "custom",
         "line": {
          "color": "rgba(122, 122, 122, 1)",
          "width": 1
         },
         "mode": "lines",
         "name": "2007",
         "showlegend": false,
         "type": "scatter",
         "x": [
          "2000-06-30T00:00:00",
          "2000-07-31T00:00:00"
         ],
         "y": [
          95.09944444444444,
          85.41000000000001
         ]
        },
        {
         "legendgroup": "custom",
         "line": {
          "color": "rgba(132, 132, 132, 1)",
          "width": 1
         },
         "mode": "lines",
         "name": "2006",
         "showlegend": false,
         "type": "scatter",
         "x": [
          "2000-05-31T00:00:00",
          "2000-06-30T00:00:00",
          "2000-07-31T00:00:00",
          "2000-08-31T00:00:00"
         ],
         "y": [
          88.44263157894737,
          93.93566666666668,
          93.7783870967742,
          92.71214285714287
         ]
        },
        {
         "legendgroup": "custom",
         "line": {
          "color": "rgba(142, 142, 142, 1)",
          "width": 1
         },
         "mode": "lines",
         "name": "2005",
         "showlegend": false,
         "type": "scatter",
         "x": [
          "2000-02-28T00:00:00",
          "2000-03-31T00:00:00",
          "2000-04-30T00:00:00",
          "2000-05-31T00:00:00",
          "2000-06-30T00:00:00",
          "2000-07-31T00:00:00"
         ],
         "y": [
          73.84,
          86.14884615384615,
          84.791,
          92.65136363636363,
          90.54466666666667,
          95.08379310344827
         ]
        },
        {
         "legendgroup": "custom",
         "line": {
          "color": "rgba(153, 153, 153, 1)",
          "width": 1
         },
         "mode": "lines",
         "name": "2004",
         "showlegend": false,
         "type": "scatter",
         "x": [
          "2000-09-30T00:00:00",
          "2000-10-31T00:00:00",
          "2000-11-30T00:00:00",
          "2000-12-31T00:00:00"
         ],
         "y": [
          85.04230769230769,
          90.64387096774193,
          93.40366666666667,
          92.1707142857143
         ]
        },
        {
         "legendgroup": "custom",
         "line": {
          "color": "rgba(163, 163, 163, 1)",
          "width": 1
         },
         "mode": "lines",
         "name": "2003",
         "showlegend": false,
         "type": "scatter",
         "x": [
          "2000-01-31T00:00:00",
          "2000-02-28T00:00:00",
          "2000-03-31T00:00:00",
          "2000-04-30T00:00:00",
          "2000-05-31T00:00:00",
          "2000-06-30T00:00:00",
          "2000-07-31T00:00:00",
          "2000-08-31T00:00:00",
          "2000-09-30T00:00:00"
         ],
         "y": [
          86.03483870967742,
          87.85357142857143,
          81.44903225806452,
          86.33133333333333,
          88.13967741935484,
          83.36833333333334,
          87.79322580645162,
          91.82677419354839,
          89.66608695652175
         ]
        },
        {
         "legendgroup": "custom",
         "line": {
          "color": "rgba(173, 173, 173, 1)",
          "width": 1
         },
         "mode": "lines",
         "name": "2002",
         "showlegend": false,
         "type": "scatter",
         "x": [
          "2000-01-31T00:00:00",
          "2000-02-28T00:00:00",
          "2000-03-31T00:00:00",
          "2000-04-30T00:00:00",
          "2000-05-31T00:00:00",
          "2000-06-30T00:00:00",
          "2000-07-31T00:00:00",
          "2000-08-31T00:00:00",
          "2000-09-30T00:00:00",
          "2000-10-31T00:00:00",
          "2000-11-30T00:00:00",
          "2000-12-31T00:00:00"
         ],
         "y": [
          87.04038461538462,
          89.69142857142857,
          86.29354838709678,
          85.163,
          81.54129032258065,
          87.48233333333334,
          91.43774193548387,
          89.17999999999999,
          85.44533333333334,
          79.51548387096774,
          83.569,
          86.33870967741936
         ]
        },
        {
         "legendgroup": "custom",
         "line": {
          "color": "rgba(183, 183, 183, 1)",
          "width": 1
         },
         "mode": "lines",
         "name": "2001",
         "showlegend": false,
         "type": "scatter",
         "x": [
          "2000-01-31T00:00:00",
          "2000-02-28T00:00:00",
          "2000-03-31T00:00:00",
          "2000-04-30T00:00:00",
          "2000-05-31T00:00:00",
          "2000-06-30T00:00:00",
          "2000-07-31T00:00:00",
          "2000-08-31T00:00:00",
          "2000-09-30T00:00:00",
          "2000-10-31T00:00:00",
          "2000-11-30T00:00:00",
          "2000-12-31T00:00:00"
         ],
         "y": [
          89.35645161290323,
          89.20107142857144,
          83.85677419354839,
          85.42833333333333,
          88.12774193548387,
          88.99263157894737,
          83.20052631578947,
          89.178,
          89.7525,
          91.22120000000001,
          95.78833333333334,
          90.42181818181818
         ]
        },
        {
         "legendgroup": "custom",
         "line": {
          "color": "rgba(193, 193, 193, 1)",
          "width": 1
         },
         "mode": "lines",
         "name": "2000",
         "showlegend": false,
         "type": "scatter",
         "x": [
          "2000-01-31T00:00:00",
          "2000-02-29T00:00:00",
          "2000-03-31T00:00:00",
          "2000-04-30T00:00:00",
          "2000-05-31T00:00:00",
          "2000-06-30T00:00:00",
          "2000-07-31T00:00:00",
          "2000-08-31T00:00:00",
          "2000-09-30T00:00:00",
          "2000-10-31T00:00:00",
          "2000-11-30T00:00:00",
          "2000-12-31T00:00:00"
         ],
         "y": [
          94.37612903225806,
          86.07448275862069,
          87.69032258064516,
          85.67633333333333,
          85.62935483870967,
          78.69066666666666,
          88.09354838709677,
          89.15935483870967,
          87.40100000000001,
          89.00645161290322,
          89.19142857142857,
          82.54366666666667
         ]
        },
        {
         "legendgroup": "custom",
         "line": {
          "color": "rgba(204, 204, 204, 1)",
          "width": 1
         },
         "mode": "lines",
         "name": "1999",
         "showlegend": false,
         "type": "scatter",
         "x": [
          "2000-01-31T00:00:00",
          "2000-02-28T00:00:00",
          "2000-03-31T00:00:00",
          "2000-04-30T00:00:00",
          "2000-05-31T00:00:00",
          "2000-06-30T00:00:00",
          "2000-07-31T00:00:00",
          "2000-08-31T00:00:00",
          "2000-09-30T00:00:00",
          "2000-10-31T00:00:00",
          "2000-11-30T00:00:00",
          "2000-12-31T00:00:00"
         ],
         "y": [
          96.54387096774194,
          104.3307142857143,
          91.73032258064515,
          82.60076923076923,
          88.47548387096774,
          87.16233333333334,
          84.53129032258065,
          90.9574193548387,
          85.62733333333334,
          88.81354838709677,
          93.37866666666667,
          90.17225806451613
         ]
        },
        {
         "legendgroup": "custom",
         "line": {
          "color": "rgba(214, 214, 214, 1)",
          "width": 1
         },
         "mode": "lines",
         "name": "1998",
         "showlegend": false,
         "type": "scatter",
         "x": [
          "2000-01-31T00:00:00",
          "2000-02-28T00:00:00",
          "2000-03-31T00:00:00",
          "2000-04-30T00:00:00",
          "2000-05-31T00:00:00",
          "2000-06-30T00:00:00",
          "2000-07-31T00:00:00",
          "2000-08-31T00:00:00",
          "2000-09-30T00:00:00",
          "2000-10-31T00:00:00",
          "2000-11-30T00:00:00",
          "2000-12-31T00:00:00"
         ],
         "y": [
          83.42806451612903,
          93.06107142857142,
          92.2316129032258,
          86.71866666666666,
          87.89064516129032,
          80.59866666666667,
          83.72387096774193,
          87.79806451612903,
          85.57033333333334,
          101.89516129032258,
          82.417,
          84.06903225806451
         ]
        },
        {
         "legendgroup": "custom",
         "line": {
          "color": "rgba(224, 224, 224, 1)",
          "width": 1
         },
         "mode": "lines",
         "name": "1997",
         "showlegend": false,
         "type": "scatter",
         "x": [
          "2000-01-31T00:00:00",
          "2000-02-28T00:00:00",
          "2000-03-31T00:00:00",
          "2000-04-30T00:00:00",
          "2000-05-31T00:00:00",
          "2000-06-30T00:00:00",
          "2000-07-31T00:00:00",
          "2000-08-31T00:00:00",
          "2000-09-30T00:00:00",
          "2000-10-31T00:00:00",
          "2000-11-30T00:00:00",
          "2000-12-31T00:00:00"
         ],
         "y": [
          91.4241935483871,
          86.20107142857144,
          86.23322580645161,
          87.81866666666666,
          83.10516129032258,
          79.34733333333334,
          85.56483870967743,
          88.24838709677418,
          89.732,
          93.89548387096775,
          87.12899999999999,
          87.95612903225806
         ]
        },
        {
         "legendgroup": "custom",
         "line": {
          "color": "rgba(234, 234, 234, 1)",
          "width": 1
         },
         "mode": "lines",
         "name": "1996",
         "showlegend": false,
         "type": "scatter",
         "x": [
          "2000-06-30T00:00:00",
          "2000-07-31T00:00:00",
          "2000-08-31T00:00:00",
          "2000-09-30T00:00:00",
          "2000-10-31T00:00:00",
          "2000-11-30T00:00:00",
          "2000-12-31T00:00:00"
         ],
         "y": [
          85.06357142857144,
          84.79645161290323,
          83.67967741935485,
          82.95266666666666,
          90.49193548387096,
          90.52833333333334,
          90.85064516129032
         ]
        },
        {
         "legendgroup": "custom",
         "line": {
          "color": "rgba(244, 244, 244, 1)",
          "width": 1
         },
         "mode": "lines",
         "name": "1995",
         "showlegend": false,
         "type": "scatter",
         "x": [
          "2000-05-31T00:00:00",
          "2000-06-30T00:00:00"
         ],
         "y": [
          92.841875,
          91.37454545454545
         ]
        },
        {
         "legendgroup": "custom",
         "line": {
          "color": "red",
          "width": 2.5
         },
         "mode": "lines",
         "name": "2021",
         "showlegend": false,
         "type": "scatter",
         "x": [
          "2000-05-31T00:00:00",
          "2000-06-30T00:00:00",
          "2000-07-31T00:00:00",
          "2000-08-31T00:00:00",
          "2000-09-30T00:00:00",
          "2000-10-31T00:00:00",
          "2000-11-30T00:00:00",
          "2000-12-31T00:00:00"
         ],
         "y": [
          90.764,
          98.213,
          100.48935483870967,
          102.68064516129031,
          104.09333333333333,
          102.73774193548387,
          113.40866666666668,
          100.19806451612902
         ]
        },
        {
         "legendgroup": "custom",
         "line": {
          "color": "red"
         },
         "mode": "lines",
         "name": "2021",
         "type": "scatter",
         "x": [
          null
         ],
         "y": [
          null
         ]
        },
        {
         "legendgroup": "custom",
         "line": {
          "color": "black"
         },
         "mode": "lines",
         "name": "2022",
         "type": "scatter",
         "x": [
          null
         ],
         "y": [
          null
         ]
        },
        {
         "legendgroup": "custom",
         "line": {
          "color": "grey"
         },
         "mode": "lines",
         "name": "...",
         "type": "scatter",
         "x": [
          null
         ],
         "y": [
          null
         ]
        },
        {
         "legendgroup": "custom",
         "line": {
          "color": "lightgrey"
         },
         "mode": "lines",
         "name": "1995",
         "type": "scatter",
         "x": [
          null
         ],
         "y": [
          null
         ]
        },
        {
         "legendgroup": "custom",
         "line": {
          "color": "black",
          "dash": "dash"
         },
         "mode": "lines",
         "name": "31-08",
         "type": "scatter",
         "x": [
          null
         ],
         "y": [
          null
         ]
        }
       ],
       "layout": {
        "height": 400,
        "legend": {
         "orientation": "v",
         "title": {
          "text": "Legend"
         },
         "x": 1.06,
         "xanchor": "left",
         "y": 1,
         "yanchor": "top"
        },
        "shapes": [
         {
          "line": {
           "color": "black",
           "dash": "dash"
          },
          "type": "line",
          "x0": "2021-12-31",
          "x1": "2021-12-31",
          "y0": 0,
          "y1": 1,
          "yref": "paper"
         }
        ],
        "template": {
         "data": {
          "bar": [
           {
            "error_x": {
             "color": "#2a3f5f"
            },
            "error_y": {
             "color": "#2a3f5f"
            },
            "marker": {
             "line": {
              "color": "#E5ECF6",
              "width": 0.5
             },
             "pattern": {
              "fillmode": "overlay",
              "size": 10,
              "solidity": 0.2
             }
            },
            "type": "bar"
           }
          ],
          "barpolar": [
           {
            "marker": {
             "line": {
              "color": "#E5ECF6",
              "width": 0.5
             },
             "pattern": {
              "fillmode": "overlay",
              "size": 10,
              "solidity": 0.2
             }
            },
            "type": "barpolar"
           }
          ],
          "carpet": [
           {
            "aaxis": {
             "endlinecolor": "#2a3f5f",
             "gridcolor": "white",
             "linecolor": "white",
             "minorgridcolor": "white",
             "startlinecolor": "#2a3f5f"
            },
            "baxis": {
             "endlinecolor": "#2a3f5f",
             "gridcolor": "white",
             "linecolor": "white",
             "minorgridcolor": "white",
             "startlinecolor": "#2a3f5f"
            },
            "type": "carpet"
           }
          ],
          "choropleth": [
           {
            "colorbar": {
             "outlinewidth": 0,
             "ticks": ""
            },
            "type": "choropleth"
           }
          ],
          "contour": [
           {
            "colorbar": {
             "outlinewidth": 0,
             "ticks": ""
            },
            "colorscale": [
             [
              0,
              "#0d0887"
             ],
             [
              0.1111111111111111,
              "#46039f"
             ],
             [
              0.2222222222222222,
              "#7201a8"
             ],
             [
              0.3333333333333333,
              "#9c179e"
             ],
             [
              0.4444444444444444,
              "#bd3786"
             ],
             [
              0.5555555555555556,
              "#d8576b"
             ],
             [
              0.6666666666666666,
              "#ed7953"
             ],
             [
              0.7777777777777778,
              "#fb9f3a"
             ],
             [
              0.8888888888888888,
              "#fdca26"
             ],
             [
              1,
              "#f0f921"
             ]
            ],
            "type": "contour"
           }
          ],
          "contourcarpet": [
           {
            "colorbar": {
             "outlinewidth": 0,
             "ticks": ""
            },
            "type": "contourcarpet"
           }
          ],
          "heatmap": [
           {
            "colorbar": {
             "outlinewidth": 0,
             "ticks": ""
            },
            "colorscale": [
             [
              0,
              "#0d0887"
             ],
             [
              0.1111111111111111,
              "#46039f"
             ],
             [
              0.2222222222222222,
              "#7201a8"
             ],
             [
              0.3333333333333333,
              "#9c179e"
             ],
             [
              0.4444444444444444,
              "#bd3786"
             ],
             [
              0.5555555555555556,
              "#d8576b"
             ],
             [
              0.6666666666666666,
              "#ed7953"
             ],
             [
              0.7777777777777778,
              "#fb9f3a"
             ],
             [
              0.8888888888888888,
              "#fdca26"
             ],
             [
              1,
              "#f0f921"
             ]
            ],
            "type": "heatmap"
           }
          ],
          "heatmapgl": [
           {
            "colorbar": {
             "outlinewidth": 0,
             "ticks": ""
            },
            "colorscale": [
             [
              0,
              "#0d0887"
             ],
             [
              0.1111111111111111,
              "#46039f"
             ],
             [
              0.2222222222222222,
              "#7201a8"
             ],
             [
              0.3333333333333333,
              "#9c179e"
             ],
             [
              0.4444444444444444,
              "#bd3786"
             ],
             [
              0.5555555555555556,
              "#d8576b"
             ],
             [
              0.6666666666666666,
              "#ed7953"
             ],
             [
              0.7777777777777778,
              "#fb9f3a"
             ],
             [
              0.8888888888888888,
              "#fdca26"
             ],
             [
              1,
              "#f0f921"
             ]
            ],
            "type": "heatmapgl"
           }
          ],
          "histogram": [
           {
            "marker": {
             "pattern": {
              "fillmode": "overlay",
              "size": 10,
              "solidity": 0.2
             }
            },
            "type": "histogram"
           }
          ],
          "histogram2d": [
           {
            "colorbar": {
             "outlinewidth": 0,
             "ticks": ""
            },
            "colorscale": [
             [
              0,
              "#0d0887"
             ],
             [
              0.1111111111111111,
              "#46039f"
             ],
             [
              0.2222222222222222,
              "#7201a8"
             ],
             [
              0.3333333333333333,
              "#9c179e"
             ],
             [
              0.4444444444444444,
              "#bd3786"
             ],
             [
              0.5555555555555556,
              "#d8576b"
             ],
             [
              0.6666666666666666,
              "#ed7953"
             ],
             [
              0.7777777777777778,
              "#fb9f3a"
             ],
             [
              0.8888888888888888,
              "#fdca26"
             ],
             [
              1,
              "#f0f921"
             ]
            ],
            "type": "histogram2d"
           }
          ],
          "histogram2dcontour": [
           {
            "colorbar": {
             "outlinewidth": 0,
             "ticks": ""
            },
            "colorscale": [
             [
              0,
              "#0d0887"
             ],
             [
              0.1111111111111111,
              "#46039f"
             ],
             [
              0.2222222222222222,
              "#7201a8"
             ],
             [
              0.3333333333333333,
              "#9c179e"
             ],
             [
              0.4444444444444444,
              "#bd3786"
             ],
             [
              0.5555555555555556,
              "#d8576b"
             ],
             [
              0.6666666666666666,
              "#ed7953"
             ],
             [
              0.7777777777777778,
              "#fb9f3a"
             ],
             [
              0.8888888888888888,
              "#fdca26"
             ],
             [
              1,
              "#f0f921"
             ]
            ],
            "type": "histogram2dcontour"
           }
          ],
          "mesh3d": [
           {
            "colorbar": {
             "outlinewidth": 0,
             "ticks": ""
            },
            "type": "mesh3d"
           }
          ],
          "parcoords": [
           {
            "line": {
             "colorbar": {
              "outlinewidth": 0,
              "ticks": ""
             }
            },
            "type": "parcoords"
           }
          ],
          "pie": [
           {
            "automargin": true,
            "type": "pie"
           }
          ],
          "scatter": [
           {
            "fillpattern": {
             "fillmode": "overlay",
             "size": 10,
             "solidity": 0.2
            },
            "type": "scatter"
           }
          ],
          "scatter3d": [
           {
            "line": {
             "colorbar": {
              "outlinewidth": 0,
              "ticks": ""
             }
            },
            "marker": {
             "colorbar": {
              "outlinewidth": 0,
              "ticks": ""
             }
            },
            "type": "scatter3d"
           }
          ],
          "scattercarpet": [
           {
            "marker": {
             "colorbar": {
              "outlinewidth": 0,
              "ticks": ""
             }
            },
            "type": "scattercarpet"
           }
          ],
          "scattergeo": [
           {
            "marker": {
             "colorbar": {
              "outlinewidth": 0,
              "ticks": ""
             }
            },
            "type": "scattergeo"
           }
          ],
          "scattergl": [
           {
            "marker": {
             "colorbar": {
              "outlinewidth": 0,
              "ticks": ""
             }
            },
            "type": "scattergl"
           }
          ],
          "scattermapbox": [
           {
            "marker": {
             "colorbar": {
              "outlinewidth": 0,
              "ticks": ""
             }
            },
            "type": "scattermapbox"
           }
          ],
          "scatterpolar": [
           {
            "marker": {
             "colorbar": {
              "outlinewidth": 0,
              "ticks": ""
             }
            },
            "type": "scatterpolar"
           }
          ],
          "scatterpolargl": [
           {
            "marker": {
             "colorbar": {
              "outlinewidth": 0,
              "ticks": ""
             }
            },
            "type": "scatterpolargl"
           }
          ],
          "scatterternary": [
           {
            "marker": {
             "colorbar": {
              "outlinewidth": 0,
              "ticks": ""
             }
            },
            "type": "scatterternary"
           }
          ],
          "surface": [
           {
            "colorbar": {
             "outlinewidth": 0,
             "ticks": ""
            },
            "colorscale": [
             [
              0,
              "#0d0887"
             ],
             [
              0.1111111111111111,
              "#46039f"
             ],
             [
              0.2222222222222222,
              "#7201a8"
             ],
             [
              0.3333333333333333,
              "#9c179e"
             ],
             [
              0.4444444444444444,
              "#bd3786"
             ],
             [
              0.5555555555555556,
              "#d8576b"
             ],
             [
              0.6666666666666666,
              "#ed7953"
             ],
             [
              0.7777777777777778,
              "#fb9f3a"
             ],
             [
              0.8888888888888888,
              "#fdca26"
             ],
             [
              1,
              "#f0f921"
             ]
            ],
            "type": "surface"
           }
          ],
          "table": [
           {
            "cells": {
             "fill": {
              "color": "#EBF0F8"
             },
             "line": {
              "color": "white"
             }
            },
            "header": {
             "fill": {
              "color": "#C8D4E3"
             },
             "line": {
              "color": "white"
             }
            },
            "type": "table"
           }
          ]
         },
         "layout": {
          "annotationdefaults": {
           "arrowcolor": "#2a3f5f",
           "arrowhead": 0,
           "arrowwidth": 1
          },
          "autotypenumbers": "strict",
          "coloraxis": {
           "colorbar": {
            "outlinewidth": 0,
            "ticks": ""
           }
          },
          "colorscale": {
           "diverging": [
            [
             0,
             "#8e0152"
            ],
            [
             0.1,
             "#c51b7d"
            ],
            [
             0.2,
             "#de77ae"
            ],
            [
             0.3,
             "#f1b6da"
            ],
            [
             0.4,
             "#fde0ef"
            ],
            [
             0.5,
             "#f7f7f7"
            ],
            [
             0.6,
             "#e6f5d0"
            ],
            [
             0.7,
             "#b8e186"
            ],
            [
             0.8,
             "#7fbc41"
            ],
            [
             0.9,
             "#4d9221"
            ],
            [
             1,
             "#276419"
            ]
           ],
           "sequential": [
            [
             0,
             "#0d0887"
            ],
            [
             0.1111111111111111,
             "#46039f"
            ],
            [
             0.2222222222222222,
             "#7201a8"
            ],
            [
             0.3333333333333333,
             "#9c179e"
            ],
            [
             0.4444444444444444,
             "#bd3786"
            ],
            [
             0.5555555555555556,
             "#d8576b"
            ],
            [
             0.6666666666666666,
             "#ed7953"
            ],
            [
             0.7777777777777778,
             "#fb9f3a"
            ],
            [
             0.8888888888888888,
             "#fdca26"
            ],
            [
             1,
             "#f0f921"
            ]
           ],
           "sequentialminus": [
            [
             0,
             "#0d0887"
            ],
            [
             0.1111111111111111,
             "#46039f"
            ],
            [
             0.2222222222222222,
             "#7201a8"
            ],
            [
             0.3333333333333333,
             "#9c179e"
            ],
            [
             0.4444444444444444,
             "#bd3786"
            ],
            [
             0.5555555555555556,
             "#d8576b"
            ],
            [
             0.6666666666666666,
             "#ed7953"
            ],
            [
             0.7777777777777778,
             "#fb9f3a"
            ],
            [
             0.8888888888888888,
             "#fdca26"
            ],
            [
             1,
             "#f0f921"
            ]
           ]
          },
          "colorway": [
           "#636efa",
           "#EF553B",
           "#00cc96",
           "#ab63fa",
           "#FFA15A",
           "#19d3f3",
           "#FF6692",
           "#B6E880",
           "#FF97FF",
           "#FECB52"
          ],
          "font": {
           "color": "#2a3f5f"
          },
          "geo": {
           "bgcolor": "white",
           "lakecolor": "white",
           "landcolor": "#E5ECF6",
           "showlakes": true,
           "showland": true,
           "subunitcolor": "white"
          },
          "hoverlabel": {
           "align": "left"
          },
          "hovermode": "closest",
          "mapbox": {
           "style": "light"
          },
          "paper_bgcolor": "white",
          "plot_bgcolor": "#E5ECF6",
          "polar": {
           "angularaxis": {
            "gridcolor": "white",
            "linecolor": "white",
            "ticks": ""
           },
           "bgcolor": "#E5ECF6",
           "radialaxis": {
            "gridcolor": "white",
            "linecolor": "white",
            "ticks": ""
           }
          },
          "scene": {
           "xaxis": {
            "backgroundcolor": "#E5ECF6",
            "gridcolor": "white",
            "gridwidth": 2,
            "linecolor": "white",
            "showbackground": true,
            "ticks": "",
            "zerolinecolor": "white"
           },
           "yaxis": {
            "backgroundcolor": "#E5ECF6",
            "gridcolor": "white",
            "gridwidth": 2,
            "linecolor": "white",
            "showbackground": true,
            "ticks": "",
            "zerolinecolor": "white"
           },
           "zaxis": {
            "backgroundcolor": "#E5ECF6",
            "gridcolor": "white",
            "gridwidth": 2,
            "linecolor": "white",
            "showbackground": true,
            "ticks": "",
            "zerolinecolor": "white"
           }
          },
          "shapedefaults": {
           "line": {
            "color": "#2a3f5f"
           }
          },
          "ternary": {
           "aaxis": {
            "gridcolor": "white",
            "linecolor": "white",
            "ticks": ""
           },
           "baxis": {
            "gridcolor": "white",
            "linecolor": "white",
            "ticks": ""
           },
           "bgcolor": "#E5ECF6",
           "caxis": {
            "gridcolor": "white",
            "linecolor": "white",
            "ticks": ""
           }
          },
          "title": {
           "x": 0.05
          },
          "xaxis": {
           "automargin": true,
           "gridcolor": "white",
           "linecolor": "white",
           "ticks": "",
           "title": {
            "standoff": 15
           },
           "zerolinecolor": "white",
           "zerolinewidth": 2
          },
          "yaxis": {
           "automargin": true,
           "gridcolor": "white",
           "linecolor": "white",
           "ticks": "",
           "title": {
            "standoff": 15
           },
           "zerolinecolor": "white",
           "zerolinewidth": 2
          }
         }
        },
        "title": {
         "font": {
          "size": 24
         },
         "text": "Development of relative_humidity_2_cor by year for file"
        },
        "width": 1400,
        "xaxis": {
         "tickmode": "array",
         "ticktext": [
          "Jan",
          "Feb",
          "Mar",
          "Apr",
          "May",
          "Jun",
          "Jul",
          "Aug",
          "Sep",
          "Oct",
          "Nov",
          "Dec"
         ],
         "tickvals": [
          "2000-01-31T00:00:00",
          "2000-02-29T00:00:00",
          "2000-03-31T00:00:00",
          "2000-04-30T00:00:00",
          "2000-05-31T00:00:00",
          "2000-06-30T00:00:00",
          "2000-07-31T00:00:00",
          "2000-08-31T00:00:00",
          "2000-09-30T00:00:00",
          "2000-10-31T00:00:00",
          "2000-11-30T00:00:00",
          "2000-12-31T00:00:00"
         ],
         "title": {
          "text": "Month"
         }
        },
        "yaxis": {
         "title": {
          "text": "relative_humidity_2_cor"
         }
        }
       }
      }
     },
     "metadata": {},
     "output_type": "display_data"
    },
    {
     "name": "stderr",
     "output_type": "stream",
     "text": [
      "C:\\Users\\mabj16ac\\AppData\\Local\\Temp\\2\\ipykernel_13588\\1098300415.py:117: SettingWithCopyWarning:\n",
      "\n",
      "\n",
      "A value is trying to be set on a copy of a slice from a DataFrame.\n",
      "Try using .loc[row_indexer,col_indexer] = value instead\n",
      "\n",
      "See the caveats in the documentation: https://pandas.pydata.org/pandas-docs/stable/user_guide/indexing.html#returning-a-view-versus-a-copy\n",
      "\n",
      "C:\\Users\\mabj16ac\\AppData\\Local\\Temp\\2\\ipykernel_13588\\1098300415.py:127: SettingWithCopyWarning:\n",
      "\n",
      "\n",
      "A value is trying to be set on a copy of a slice from a DataFrame.\n",
      "Try using .loc[row_indexer,col_indexer] = value instead\n",
      "\n",
      "See the caveats in the documentation: https://pandas.pydata.org/pandas-docs/stable/user_guide/indexing.html#returning-a-view-versus-a-copy\n",
      "\n",
      "C:\\Users\\mabj16ac\\AppData\\Local\\Temp\\2\\ipykernel_13588\\1098300415.py:129: SettingWithCopyWarning:\n",
      "\n",
      "\n",
      "A value is trying to be set on a copy of a slice from a DataFrame.\n",
      "Try using .loc[row_indexer,col_indexer] = value instead\n",
      "\n",
      "See the caveats in the documentation: https://pandas.pydata.org/pandas-docs/stable/user_guide/indexing.html#returning-a-view-versus-a-copy\n",
      "\n"
     ]
    },
    {
     "data": {
      "text/plain": [
       "file                   Swiss Camp 10m\n",
       "relative_humidity_1         77.179355\n",
       "year                             2019\n",
       "Name: 28, dtype: object"
      ]
     },
     "metadata": {},
     "output_type": "display_data"
    },
    {
     "name": "stdout",
     "output_type": "stream",
     "text": [
      "77.17935483870967\n"
     ]
    }
   ],
   "source": [
    "def comparison_visualization(station_in = 'Swiss Camp',measurement='relative_humidity_2_cor', window='month', date='2021-12-31', fig_title=f'../figures/Climatology/test_fig.png'):\n",
    "    df = _load_data('GC_Net')\n",
    "    station, datetime, dayofcentury, dayofyear = _align_GC_PR()\n",
    "    day, df,columns, day_century, unique_files = _subset_df(date=date, df=df, station=station, datetime=datetime, measurement=measurement, dayofcentury=dayofcentury, dayofyear=dayofcentury, aws='All')\n",
    "    df = df.loc[df['file'] == station_in ]\n",
    "    df = df[[measurement,'Datetime']].set_index('Datetime')\n",
    "    display(df)\n",
    "\n",
    "    if window == 'week':\n",
    "        df_grouped = df.groupby(pd.Grouper( freq='W'))          \n",
    "        df_mean = df_grouped.mean()\n",
    "        df = df_mean.dropna()\n",
    "\n",
    "    elif window == 'sliding_avg_7':\n",
    "        df['Datetime'] = df.index\n",
    "        df['date_diff'] = (df['Datetime'].max() - df['Datetime']).dt.days\n",
    "        df['week_group'] = (df['date_diff'] / 7).apply(lambda x: int(x) if x.is_integer() else int(x) + 1)\n",
    "        df_grouped = df.groupby('week_group')[measurement]\n",
    "        weekly_mean = df_grouped.mean()\n",
    "        weekly_mean = weekly_mean.reset_index()\n",
    "        weekly_mean['last_date'] = weekly_mean['week_group'].apply(lambda x: df['Datetime'].max() - pd.to_timedelta(x * 7, unit='D'))\n",
    "        weekly_mean.set_index('last_date', inplace=True)\n",
    "        weekly_mean.drop(columns=['week_group'], inplace=True)\n",
    "        df = weekly_mean.dropna()\n",
    "        \n",
    "    elif window == 'month':\n",
    "        df_grouped = df.groupby(pd.Grouper(freq='M'))\n",
    "        df_mean = df_grouped.mean()\n",
    "        df = df_mean.dropna()\n",
    "        \n",
    "\n",
    "    elif window == 'sliding_avg_30':\n",
    "        df['Datetime'] = df.index\n",
    "        df['date_diff'] = (df['Datetime'].max() - df['Datetime']).dt.days\n",
    "        df['week_group'] = (df['date_diff'] / 30).apply(lambda x: int(x) if x.is_integer() else int(x) + 1)\n",
    "        df_grouped = df.groupby('week_group')[measurement]\n",
    "        monthly_mean = df_grouped.mean()\n",
    "        monthly_mean = monthly_mean.reset_index()\n",
    "        monthly_mean['last_date'] = monthly_mean['week_group'].apply(lambda x: df['Datetime'].max() - pd.to_timedelta(x * 30, unit='D'))\n",
    "        monthly_mean.set_index('last_date', inplace=True)\n",
    "        monthly_mean.drop(columns=['week_group'], inplace=True)\n",
    "        df = monthly_mean.dropna()\n",
    "\n",
    "    elif window == 'year':\n",
    "        df_grouped = df.groupby(pd.Grouper(freq='M'))           \n",
    "        df_mean = df_grouped.mean()\n",
    "        df = df_mean.dropna()\n",
    "    else:\n",
    "        raise ValueError(f\"The input for the variable 'window' was not recognizable.\")\n",
    "\n",
    "    selected_year = date[:4] \n",
    "    # Extract unique years from the index\n",
    "    years = list(df.index.year.unique().sort_values(ascending=False))\n",
    "    print(years)\n",
    "    print(selected_year)\n",
    "    years.remove(int(selected_year))\n",
    "    \n",
    "    data = []\n",
    "\n",
    "    # Calculate the grayscale step based on the number of years\n",
    "    grayscale_step = 1.0 / (len(years) - 1)\n",
    "\n",
    "    # Loop through the unique years and plot the development of the value over the year\n",
    "    for i, year in enumerate(years):\n",
    "        df_year = df[df.index.year == year]\n",
    "\n",
    "        # Reset the year part of the datetime index to a constant year (e.g., 2000)\n",
    "        df_year.index = df_year.index.map(lambda x: x.replace(year=2000))\n",
    "\n",
    "        color = f'rgba({int(max(0, grayscale_step * (i - 1) * 255))}, {int(max(0, grayscale_step * (i - 1) * 255))}, {int(max(0, grayscale_step * (i - 1) * 255))}, 1)'\n",
    "        linewidth = 1\n",
    "        \n",
    "        data.append(go.Scatter(x=df_year.index, y=df_year[measurement], name=f'{year}', line=dict(color=color, width=linewidth), mode='lines', legendgroup='custom', showlegend=False))\n",
    "\n",
    "    df_year = df[df.index.year == int(selected_year)]\n",
    "\n",
    "    # Reset the year part of the datetime index to a constant year (e.g., 2000)\n",
    "    df_year.index = df_year.index.map(lambda x: x.replace(year=2000))\n",
    "    color = 'red'\n",
    "    linewidth = 2.5\n",
    "    data.append(go.Scatter(x=df_year.index, y=df_year[measurement], name=f'{selected_year}', line=dict(color=color, width=linewidth), mode='lines', legendgroup='custom', showlegend=False))\n",
    "\n",
    "    # Create a plot\n",
    "    fig = go.Figure(data=data)\n",
    "\n",
    "    # Set title, labels\n",
    "    fig.update_layout(\n",
    "        title= {\n",
    "            'text':f'Development of {measurement} by year for {station}',\n",
    "            'font':{'size':24}\n",
    "        },\n",
    "        xaxis_title='Month',\n",
    "        yaxis_title=measurement,\n",
    "        xaxis=dict(\n",
    "            tickmode='array',\n",
    "            tickvals=pd.date_range('2000-01-01', '2000-12-31', freq='M'),\n",
    "            ticktext=['Jan', 'Feb', 'Mar', 'Apr', 'May', 'Jun', 'Jul', 'Aug', 'Sep', 'Oct', 'Nov', 'Dec']\n",
    "        ),\n",
    "        width=1400,\n",
    "        height=400,\n",
    "        legend=dict(title='Legend', orientation='v', yanchor='top', xanchor='left', y=1, x=1.06)\n",
    "        )\n",
    "    \n",
    "\n",
    "    # Custom legend\n",
    "    latest_date = df.index.max().strftime('%d-%m')\n",
    "    fig.add_trace(go.Scatter(x=[None], y=[None], mode='lines', name=f'{selected_year}', line=dict(color='red'), legendgroup='custom'))\n",
    "    if selected_year == df.index.year.max():\n",
    "        fig.add_trace(go.Scatter(x=[None], y=[None], mode='lines', name=f'{years[1]}', line=dict(color='black'), legendgroup='custom'))\n",
    "    else:\n",
    "        fig.add_trace(go.Scatter(x=[None], y=[None], mode='lines', name=f'{years[0]}', line=dict(color='black'), legendgroup='custom')) \n",
    "    fig.add_trace(go.Scatter(x=[None], y=[None], mode='lines', name='...', line=dict(color='grey'), legendgroup='custom'))\n",
    "    fig.add_trace(go.Scatter(x=[None], y=[None], mode='lines', name=f'{years[-1]}', line=dict(color='lightgrey'), legendgroup='custom'))\n",
    "    \n",
    "    # Add a vertical line indicating the latest date in the chart\n",
    "    if window != 'year':\n",
    "        fig.add_trace(go.Scatter(x=[None], y=[None], mode='lines', name=f'{latest_date}', line=dict(color='black', dash='dash'), legendgroup='custom'))\n",
    "        fig.add_shape(type='line', x0=date, x1=date, y0=0, y1=1, yref='paper',\n",
    "                    line=dict(color='black', dash='dash'))\n",
    "    fig.write_image(fig_title)\n",
    "    # Display the plot\n",
    "    fig.show()\n",
    "\n",
    "comparison_visualization()\n",
    "\n",
    "def gen_boxplot(date=\"2019-01-13\", measurement=\"relative_humidity_1\",station=\"Swiss Camp 10m\", window='month', fig_title=f'../figures/Climatology/test_fig.png'):\n",
    "    df = get_data(data = \"GC Net\", date = date, measurement= measurement, scope='Relative', output = \"Data\", aws=station, window=window)\n",
    "\n",
    "    row_index = int(df[df['year'] == int(date[:4])].index[0])\n",
    "    display(df.iloc[row_index])\n",
    "    #print(row_index)\n",
    "    percentile_dict = {}\n",
    "    #print(col)\n",
    "    value = df[measurement][row_index]\n",
    "    print(value)\n",
    "    #display(df[col].rank(pct=True)[df[col] == value].iloc[0])\n",
    "    #print(df[col].rank(pct=True))\n",
    "    percentile = df[measurement].rank(pct=True)[df[measurement] == value].iloc[0]*100 if not math.isnan(value) else math.nan\n",
    "    percentile_dict[measurement] = percentile\n",
    "\n",
    "    x = pd.DataFrame(percentile_dict, index=[0])\n",
    "\n",
    "    # Create a subplot for each column \n",
    "    fig = px.box(df[measurement], orientation = \"v\",boxmode='group')\n",
    "    # Format the axes\n",
    "    fig.update_layout(title_text= f\"Boxplot for {measurement}\", xaxis_title='', yaxis_title='')\n",
    "    # Highlight the values from x\n",
    "    fig.add_scatter(x=[measurement], y=[value], name= f\"Selected Value \\n{measurement}\",\n",
    "    mode = 'markers',\n",
    "    marker_symbol = 'circle-dot',\n",
    "    marker_size = 8,\n",
    "    marker_color = 'red')\n",
    "    \n",
    "    fig.write_image(fig_title)\n",
    "    # Display the plot\n",
    "    #fig.show()\n",
    "\n",
    "t = gen_boxplot()\n",
    "\n"
   ]
  },
  {
   "cell_type": "code",
   "execution_count": 24,
   "metadata": {},
   "outputs": [
    {
     "data": {
      "text/plain": [
       "Index(['stid', 'date', 'Air pressure (upper boom)',\n",
       "       'Air temperature (upper boom)', 'Relative humidity (upper boom)',\n",
       "       'Relative humidity (upper boom) - corrected',\n",
       "       'Specific humidity (upper boom)', 'Wind speed (upper boom)',\n",
       "       'Wind from direction (upper boom)', 'Downwelling shortwave radiation',\n",
       "       'Downwelling shortwave radiation - corrected',\n",
       "       'Upwelling shortwave radiation',\n",
       "       'Upwelling shortwave radiation - corrected', 'Albedo',\n",
       "       'Downwelling longwave radiation', 'Upwelling longwave radiation',\n",
       "       'Cloud cover', 'Surface temperature', 'Latent heat flux (upper boom)',\n",
       "       'Sensible heat flux (upper boom)', 'Upper boom height', 'Stake height',\n",
       "       'Depth of pressure transducer in ice',\n",
       "       'Depth of pressure transducer in ice - corrected',\n",
       "       'Precipitation (upper boom) (cumulative solid & liquid)',\n",
       "       'Precipitation (upper boom) (cumulative solid & liquid) – corrected',\n",
       "       'Ice temperature at sensor 1', 'Ice temperature at sensor 2',\n",
       "       'Ice temperature at sensor 3', 'Ice temperature at sensor 4',\n",
       "       'Ice temperature at sensor 5', 'Ice temperature at sensor 6',\n",
       "       'Ice temperature at sensor 7', 'Ice temperature at sensor 8',\n",
       "       'Tilt to east', 'Tilt to north', 'Station rotation from true North',\n",
       "       'Latitude', 'Longitude', 'Altitude', 'GPS time',\n",
       "       'Height of EGM96 geoid over WGS84 ellipsoid', 'GeoUnit',\n",
       "       'GPS horizontal dillution of precision (HDOP)',\n",
       "       'GPS number of satellites', 'Quality', 'Battery voltage', 'Unnamed: 48',\n",
       "       'Battery voltage (sample start)', 'Fan current (upper boom)',\n",
       "       'Frequency of vibrating wire in precipitation gauge',\n",
       "       'Logger temperature', 'Radiation sensor temperature',\n",
       "       'latitude from modem (email text)', 'longitude from modem (email text)',\n",
       "       'Surface height 1', 'Surface height 1.1', 'z_surf_1_adj_flag',\n",
       "       'z_surf_2_adj_flag', 'Surface height from combined measurements',\n",
       "       'Depth of ice temperature measurement 1',\n",
       "       'Depth of ice temperature measurement 2',\n",
       "       'Depth of ice temperature measurement 3',\n",
       "       'Depth of ice temperature measurement 4',\n",
       "       'Depth of ice temperature measurement 5',\n",
       "       'Depth of ice temperature measurement 6',\n",
       "       'Depth of ice temperature measurement 7',\n",
       "       'Depth of ice temperature measurement 8',\n",
       "       'Ice temperature interpolated at 10 m depth',\n",
       "       'Air pressure (lower boom)', 'Air temperature (lower boom)',\n",
       "       'Relative humidity (lower boom)',\n",
       "       'Relative humidity (lower boom) - corrected',\n",
       "       'Specific humidity (lower boom)', 'Wind speed (lower boom)',\n",
       "       'Wind from direction (lower boom)', 'Latent heat flux (lower boom)',\n",
       "       'Sensible heat flux (lower boom)', 'Lower boom height',\n",
       "       'Precipitation (lower boom) (cumulative solid & liquid)',\n",
       "       'Precipitation (lower boom) (cumulative solid & liquid) – corrected',\n",
       "       'Ice temperature at sensor 9', 'Ice temperature at sensor 10',\n",
       "       'Ice temperature at sensor 11', 'Fan current (lower boom)',\n",
       "       'Depth of ice temperature measurement 9',\n",
       "       'Depth of ice temperature measurement 10',\n",
       "       'Depth of ice temperature measurement 11', 'z_pt_cor_adj_flag',\n",
       "       'Ice surface height adjusted for maintenance',\n",
       "       'Surface height adjusted for maintenance 1',\n",
       "       'Surface height adjusted for maintenance', 'year', 'day', 'Datetime',\n",
       "       'month', 'DayOfYear', 'DayOfCentury', 'season'],\n",
       "      dtype='object')"
      ]
     },
     "metadata": {},
     "output_type": "display_data"
    },
    {
     "name": "stdout",
     "output_type": "stream",
     "text": [
      "Air pressure (lower boom)\n",
      "Air pressure (upper boom)\n",
      "Air temperature (lower boom)\n",
      "Air temperature (upper boom)\n",
      "Albedo\n",
      "Altitude\n",
      "Battery voltage\n",
      "Battery voltage (sample start)\n",
      "Cloud cover\n",
      "Datetime\n",
      "DayOfCentury\n",
      "DayOfYear\n",
      "Depth of ice temperature measurement 1\n",
      "Depth of ice temperature measurement 10\n",
      "Depth of ice temperature measurement 11\n",
      "Depth of ice temperature measurement 2\n",
      "Depth of ice temperature measurement 3\n",
      "Depth of ice temperature measurement 4\n",
      "Depth of ice temperature measurement 5\n",
      "Depth of ice temperature measurement 6\n",
      "Depth of ice temperature measurement 7\n",
      "Depth of ice temperature measurement 8\n",
      "Depth of ice temperature measurement 9\n",
      "Depth of pressure transducer in ice\n",
      "Depth of pressure transducer in ice - corrected\n",
      "Downwelling longwave radiation\n",
      "Downwelling shortwave radiation\n",
      "Downwelling shortwave radiation - corrected\n",
      "Fan current (lower boom)\n",
      "Fan current (upper boom)\n",
      "Frequency of vibrating wire in precipitation gauge\n",
      "GPS horizontal dillution of precision (HDOP)\n",
      "GPS number of satellites\n",
      "GPS time\n",
      "GeoUnit\n",
      "Height of EGM96 geoid over WGS84 ellipsoid\n",
      "Ice surface height adjusted for maintenance\n",
      "Ice temperature at sensor 1\n",
      "Ice temperature at sensor 10\n",
      "Ice temperature at sensor 11\n",
      "Ice temperature at sensor 2\n",
      "Ice temperature at sensor 3\n",
      "Ice temperature at sensor 4\n",
      "Ice temperature at sensor 5\n",
      "Ice temperature at sensor 6\n",
      "Ice temperature at sensor 7\n",
      "Ice temperature at sensor 8\n",
      "Ice temperature at sensor 9\n",
      "Ice temperature interpolated at 10 m depth\n",
      "Latent heat flux (lower boom)\n",
      "Latent heat flux (upper boom)\n",
      "Latitude\n",
      "Logger temperature\n",
      "Longitude\n",
      "Lower boom height\n",
      "Precipitation (lower boom) (cumulative solid & liquid)\n",
      "Precipitation (lower boom) (cumulative solid & liquid) – corrected\n",
      "Precipitation (upper boom) (cumulative solid & liquid)\n",
      "Precipitation (upper boom) (cumulative solid & liquid) – corrected\n",
      "Quality\n",
      "Radiation sensor temperature\n",
      "Relative humidity (lower boom)\n",
      "Relative humidity (lower boom) - corrected\n",
      "Relative humidity (upper boom)\n",
      "Relative humidity (upper boom) - corrected\n",
      "Sensible heat flux (lower boom)\n",
      "Sensible heat flux (upper boom)\n",
      "Specific humidity (lower boom)\n",
      "Specific humidity (upper boom)\n",
      "Stake height\n",
      "Station rotation from true North\n",
      "Surface height 1\n",
      "Surface height 1.1\n",
      "Surface height adjusted for maintenance\n",
      "Surface height adjusted for maintenance 1\n",
      "Surface height from combined measurements\n",
      "Surface temperature\n",
      "Tilt to east\n",
      "Tilt to north\n",
      "Unnamed: 48\n",
      "Upper boom height\n",
      "Upwelling longwave radiation\n",
      "Upwelling shortwave radiation\n",
      "Upwelling shortwave radiation - corrected\n",
      "Wind from direction (lower boom)\n",
      "Wind from direction (upper boom)\n",
      "Wind speed (lower boom)\n",
      "Wind speed (upper boom)\n",
      "date\n",
      "day\n",
      "latitude from modem (email text)\n",
      "longitude from modem (email text)\n",
      "month\n",
      "season\n",
      "stid\n",
      "year\n",
      "z_pt_cor_adj_flag\n",
      "z_surf_1_adj_flag\n",
      "z_surf_2_adj_flag\n"
     ]
    }
   ],
   "source": [
    "data = _get_data('promice')\n",
    "display(df.columns)\n",
    "columns = sorted(list(df.columns))\n",
    "for i in range(len(columns)):\n",
    "               print(columns[i])"
   ]
  },
  {
   "cell_type": "code",
   "execution_count": null,
   "metadata": {},
   "outputs": [],
   "source": []
  },
  {
   "cell_type": "code",
   "execution_count": 44,
   "metadata": {},
   "outputs": [
    {
     "data": {
      "text/html": [
       "<div>\n",
       "<style scoped>\n",
       "    .dataframe tbody tr th:only-of-type {\n",
       "        vertical-align: middle;\n",
       "    }\n",
       "\n",
       "    .dataframe tbody tr th {\n",
       "        vertical-align: top;\n",
       "    }\n",
       "\n",
       "    .dataframe thead th {\n",
       "        text-align: right;\n",
       "    }\n",
       "</style>\n",
       "<table border=\"1\" class=\"dataframe\">\n",
       "  <thead>\n",
       "    <tr style=\"text-align: right;\">\n",
       "      <th></th>\n",
       "      <th>Depth of pressure transducer in ice - corrected</th>\n",
       "    </tr>\n",
       "    <tr>\n",
       "      <th>Datetime</th>\n",
       "      <th></th>\n",
       "    </tr>\n",
       "  </thead>\n",
       "  <tbody>\n",
       "    <tr>\n",
       "      <th>2008-07-22</th>\n",
       "      <td>18.504409</td>\n",
       "    </tr>\n",
       "    <tr>\n",
       "      <th>2008-07-23</th>\n",
       "      <td>18.458625</td>\n",
       "    </tr>\n",
       "    <tr>\n",
       "      <th>2008-07-24</th>\n",
       "      <td>18.417792</td>\n",
       "    </tr>\n",
       "    <tr>\n",
       "      <th>2008-07-25</th>\n",
       "      <td>18.375333</td>\n",
       "    </tr>\n",
       "    <tr>\n",
       "      <th>2008-07-26</th>\n",
       "      <td>18.330542</td>\n",
       "    </tr>\n",
       "    <tr>\n",
       "      <th>...</th>\n",
       "      <td>...</td>\n",
       "    </tr>\n",
       "    <tr>\n",
       "      <th>2023-01-29</th>\n",
       "      <td>-26.481000</td>\n",
       "    </tr>\n",
       "    <tr>\n",
       "      <th>2023-01-30</th>\n",
       "      <td>-26.386000</td>\n",
       "    </tr>\n",
       "    <tr>\n",
       "      <th>2023-01-31</th>\n",
       "      <td>-26.441000</td>\n",
       "    </tr>\n",
       "    <tr>\n",
       "      <th>2023-02-01</th>\n",
       "      <td>-26.455000</td>\n",
       "    </tr>\n",
       "    <tr>\n",
       "      <th>2023-02-02</th>\n",
       "      <td>-26.427000</td>\n",
       "    </tr>\n",
       "  </tbody>\n",
       "</table>\n",
       "<p>10618 rows × 1 columns</p>\n",
       "</div>"
      ],
      "text/plain": [
       "            Depth of pressure transducer in ice - corrected\n",
       "Datetime                                                   \n",
       "2008-07-22                                        18.504409\n",
       "2008-07-23                                        18.458625\n",
       "2008-07-24                                        18.417792\n",
       "2008-07-25                                        18.375333\n",
       "2008-07-26                                        18.330542\n",
       "...                                                     ...\n",
       "2023-01-29                                       -26.481000\n",
       "2023-01-30                                       -26.386000\n",
       "2023-01-31                                       -26.441000\n",
       "2023-02-01                                       -26.455000\n",
       "2023-02-02                                       -26.427000\n",
       "\n",
       "[10618 rows x 1 columns]"
      ]
     },
     "metadata": {},
     "output_type": "display_data"
    },
    {
     "name": "stdout",
     "output_type": "stream",
     "text": [
      "[2019, 2018, 2017, 2016, 2015, 2014, 2013, 2012, 2011, 2010, 2009, 2008]\n",
      "2019\n"
     ]
    },
    {
     "data": {
      "application/vnd.plotly.v1+json": {
       "config": {
        "plotlyServerURL": "https://plot.ly"
       },
       "data": [
        {
         "legendgroup": "custom",
         "line": {
          "color": "rgba(0, 0, 0, 1)",
          "width": 1
         },
         "mode": "lines",
         "name": "2018",
         "showlegend": false,
         "type": "scatter",
         "x": [
          "2000-01-31T00:00:00",
          "2000-02-28T00:00:00",
          "2000-03-31T00:00:00",
          "2000-04-30T00:00:00",
          "2000-05-31T00:00:00",
          "2000-06-30T00:00:00",
          "2000-07-31T00:00:00",
          "2000-08-31T00:00:00",
          "2000-09-30T00:00:00",
          "2000-10-31T00:00:00",
          "2000-11-30T00:00:00",
          "2000-12-31T00:00:00"
         ],
         "y": [
          -9.391795698924732,
          -9.383662202380952,
          -9.38013306451613,
          -9.360122222222223,
          -9.32458870967742,
          -9.74562361111111,
          -10.755033602150538,
          -11.814970430107527,
          -11.815941666666667,
          -12.025119623655915,
          -12.07548888888889,
          -12.100129032258064
         ]
        },
        {
         "legendgroup": "custom",
         "line": {
          "color": "rgba(0, 0, 0, 1)",
          "width": 1
         },
         "mode": "lines",
         "name": "2017",
         "showlegend": false,
         "type": "scatter",
         "x": [
          "2000-01-31T00:00:00",
          "2000-02-28T00:00:00",
          "2000-03-31T00:00:00",
          "2000-04-30T00:00:00",
          "2000-05-31T00:00:00",
          "2000-06-30T00:00:00",
          "2000-07-31T00:00:00",
          "2000-08-31T00:00:00",
          "2000-09-30T00:00:00",
          "2000-10-31T00:00:00",
          "2000-11-30T00:00:00",
          "2000-12-31T00:00:00"
         ],
         "y": [
          -6.34226747311828,
          -6.4037306547619055,
          -6.003530913978495,
          -6.2461722222222225,
          -6.445358870967742,
          -6.972140277777778,
          -8.159396505376344,
          -9.01675940860215,
          -9.368227777777777,
          -9.370524193548386,
          -9.397618055555556,
          -9.405600806451613
         ]
        },
        {
         "legendgroup": "custom",
         "line": {
          "color": "rgba(25, 25, 25, 1)",
          "width": 1
         },
         "mode": "lines",
         "name": "2016",
         "showlegend": false,
         "type": "scatter",
         "x": [
          "2000-01-31T00:00:00",
          "2000-02-29T00:00:00",
          "2000-03-31T00:00:00",
          "2000-04-30T00:00:00",
          "2000-05-31T00:00:00",
          "2000-06-30T00:00:00",
          "2000-07-31T00:00:00",
          "2000-08-31T00:00:00",
          "2000-09-30T00:00:00",
          "2000-10-31T00:00:00",
          "2000-11-30T00:00:00",
          "2000-12-31T00:00:00"
         ],
         "y": [
          -2.745994623655914,
          -2.768633620689655,
          -2.167880376344086,
          -2.3805722222222223,
          -2.7351263440860216,
          -3.1942305555555555,
          -4.690029569892473,
          -6.04509811827957,
          -6.440443055555556,
          -6.485259408602151,
          -6.475045833333334,
          -6.441272849462366
         ]
        },
        {
         "legendgroup": "custom",
         "line": {
          "color": "rgba(51, 51, 51, 1)",
          "width": 1
         },
         "mode": "lines",
         "name": "2015",
         "showlegend": false,
         "type": "scatter",
         "x": [
          "2000-01-31T00:00:00",
          "2000-02-28T00:00:00",
          "2000-03-31T00:00:00",
          "2000-04-30T00:00:00",
          "2000-05-31T00:00:00",
          "2000-06-30T00:00:00",
          "2000-07-31T00:00:00",
          "2000-08-31T00:00:00",
          "2000-09-30T00:00:00",
          "2000-10-31T00:00:00",
          "2000-11-30T00:00:00",
          "2000-12-31T00:00:00"
         ],
         "y": [
          0.9533561827956989,
          1.1299241071428572,
          0.6962392473118278,
          0.8697138888888889,
          0.6648857526881721,
          0.13091944444444442,
          -1.3263387096774195,
          -2.413342741935484,
          -2.7242333333333333,
          -2.756727150537634,
          -2.7627277777777777,
          -2.796616935483871
         ]
        },
        {
         "legendgroup": "custom",
         "line": {
          "color": "rgba(76, 76, 76, 1)",
          "width": 1
         },
         "mode": "lines",
         "name": "2014",
         "showlegend": false,
         "type": "scatter",
         "x": [
          "2000-01-31T00:00:00",
          "2000-02-28T00:00:00",
          "2000-03-31T00:00:00",
          "2000-04-30T00:00:00",
          "2000-05-31T00:00:00",
          "2000-06-30T00:00:00",
          "2000-07-31T00:00:00",
          "2000-08-31T00:00:00",
          "2000-09-30T00:00:00",
          "2000-10-31T00:00:00",
          "2000-11-30T00:00:00",
          "2000-12-31T00:00:00"
         ],
         "y": [
          1.0816263440860214,
          1.036546130952381,
          1.0991075268817203,
          1.1457833333333334,
          1.1332271505376343,
          0.9672777777777777,
          0.5089556451612903,
          0.9535389784946237,
          0.6954916666666667,
          0.7200994623655914,
          0.7202694444444444,
          0.8885577956989248
         ]
        },
        {
         "legendgroup": "custom",
         "line": {
          "color": "rgba(102, 102, 102, 1)",
          "width": 1
         },
         "mode": "lines",
         "name": "2013",
         "showlegend": false,
         "type": "scatter",
         "x": [
          "2000-01-31T00:00:00",
          "2000-02-28T00:00:00",
          "2000-03-31T00:00:00",
          "2000-04-30T00:00:00",
          "2000-05-31T00:00:00",
          "2000-06-30T00:00:00",
          "2000-07-31T00:00:00",
          "2000-08-31T00:00:00",
          "2000-09-30T00:00:00",
          "2000-10-31T00:00:00",
          "2000-11-30T00:00:00",
          "2000-12-31T00:00:00"
         ],
         "y": [
          4.4992432795698925,
          4.5006949404761905,
          4.507522849462365,
          4.504102777777778,
          4.541865591397849,
          3.9357249999999997,
          2.5837217741935485,
          1.3304758064516127,
          1.0730333333333335,
          1.052494623655914,
          0.9856763888888889,
          1.0570120967741936
         ]
        },
        {
         "legendgroup": "custom",
         "line": {
          "color": "rgba(127, 127, 127, 1)",
          "width": 1
         },
         "mode": "lines",
         "name": "2012",
         "showlegend": false,
         "type": "scatter",
         "x": [
          "2000-01-31T00:00:00",
          "2000-02-29T00:00:00",
          "2000-03-31T00:00:00",
          "2000-04-30T00:00:00",
          "2000-05-31T00:00:00",
          "2000-06-30T00:00:00",
          "2000-07-31T00:00:00",
          "2000-08-31T00:00:00",
          "2000-09-30T00:00:00",
          "2000-10-31T00:00:00",
          "2000-11-30T00:00:00",
          "2000-12-31T00:00:00"
         ],
         "y": [
          7.783631720430107,
          7.784229885057472,
          7.792727150537635,
          7.8022875,
          7.8123521505376345,
          7.343825,
          5.996047043010752,
          4.7016330645161295,
          4.483008333333333,
          4.472243279569892,
          4.468977777777778,
          4.487020161290323
         ]
        },
        {
         "legendgroup": "custom",
         "line": {
          "color": "rgba(153, 153, 153, 1)",
          "width": 1
         },
         "mode": "lines",
         "name": "2011",
         "showlegend": false,
         "type": "scatter",
         "x": [
          "2000-01-31T00:00:00",
          "2000-02-28T00:00:00",
          "2000-03-31T00:00:00",
          "2000-04-30T00:00:00",
          "2000-05-31T00:00:00",
          "2000-06-30T00:00:00",
          "2000-07-31T00:00:00",
          "2000-08-31T00:00:00",
          "2000-09-30T00:00:00",
          "2000-10-31T00:00:00",
          "2000-11-30T00:00:00",
          "2000-12-31T00:00:00"
         ],
         "y": [
          10.901322580645163,
          10.904997023809525,
          10.91203629032258,
          10.922906944444444,
          10.931520161290322,
          10.638755555555555,
          9.288575268817205,
          8.118629032258065,
          7.793122222222222,
          7.7756357526881725,
          7.774947222222222,
          7.7674932795698926
         ]
        },
        {
         "legendgroup": "custom",
         "line": {
          "color": "rgba(178, 178, 178, 1)",
          "width": 1
         },
         "mode": "lines",
         "name": "2010",
         "showlegend": false,
         "type": "scatter",
         "x": [
          "2000-01-31T00:00:00",
          "2000-02-28T00:00:00",
          "2000-03-31T00:00:00",
          "2000-04-30T00:00:00",
          "2000-05-31T00:00:00",
          "2000-06-30T00:00:00",
          "2000-07-31T00:00:00",
          "2000-08-31T00:00:00",
          "2000-09-30T00:00:00",
          "2000-10-31T00:00:00",
          "2000-11-30T00:00:00",
          "2000-12-31T00:00:00"
         ],
         "y": [
          14.395493279569893,
          14.404127976190477,
          14.40308064516129,
          14.407041666666666,
          14.395904569892473,
          13.945083333333335,
          12.651733870967742,
          11.2765,
          10.944291666666667,
          10.889016017316019,
          10.892349999999999,
          10.905447580645161
         ]
        },
        {
         "legendgroup": "custom",
         "line": {
          "color": "rgba(204, 204, 204, 1)",
          "width": 1
         },
         "mode": "lines",
         "name": "2009",
         "showlegend": false,
         "type": "scatter",
         "x": [
          "2000-01-31T00:00:00",
          "2000-02-28T00:00:00",
          "2000-03-31T00:00:00",
          "2000-04-30T00:00:00",
          "2000-05-31T00:00:00",
          "2000-06-30T00:00:00",
          "2000-07-31T00:00:00",
          "2000-08-31T00:00:00",
          "2000-09-30T00:00:00",
          "2000-10-31T00:00:00",
          "2000-11-30T00:00:00",
          "2000-12-31T00:00:00"
         ],
         "y": [
          17.020694892473117,
          17.02513988095238,
          17.03290860215054,
          17.03478611111111,
          17.016350806451616,
          16.686409722222223,
          15.704455645161291,
          14.649271505376344,
          14.383273611111113,
          14.379624999999999,
          14.385602777777779,
          14.394719086021505
         ]
        },
        {
         "legendgroup": "custom",
         "line": {
          "color": "rgba(229, 229, 229, 1)",
          "width": 1
         },
         "mode": "lines",
         "name": "2008",
         "showlegend": false,
         "type": "scatter",
         "x": [
          "2000-07-31T00:00:00",
          "2000-08-31T00:00:00",
          "2000-09-30T00:00:00",
          "2000-10-31T00:00:00",
          "2000-11-30T00:00:00",
          "2000-12-31T00:00:00"
         ],
         "y": [
          18.297857575757575,
          17.505586021505376,
          17.03135,
          17.014110215053762,
          17.01706111111111,
          17.019889784946237
         ]
        },
        {
         "legendgroup": "custom",
         "line": {
          "color": "red",
          "width": 2.5
         },
         "mode": "lines",
         "name": "2019",
         "showlegend": false,
         "type": "scatter",
         "x": [
          "2000-01-31T00:00:00",
          "2000-02-28T00:00:00",
          "2000-03-31T00:00:00",
          "2000-04-30T00:00:00",
          "2000-05-31T00:00:00",
          "2000-06-30T00:00:00",
          "2000-07-31T00:00:00"
         ],
         "y": [
          -12.091049731182796,
          -12.104705357142858,
          -12.11505376344086,
          -11.952918055555555,
          -12.552361559139786,
          -13.573877777777778,
          -13.472208333333334
         ]
        },
        {
         "legendgroup": "custom",
         "line": {
          "color": "red"
         },
         "mode": "lines",
         "name": "2019",
         "type": "scatter",
         "x": [
          null
         ],
         "y": [
          null
         ]
        },
        {
         "legendgroup": "custom",
         "line": {
          "color": "black"
         },
         "mode": "lines",
         "name": "2018",
         "type": "scatter",
         "x": [
          null
         ],
         "y": [
          null
         ]
        },
        {
         "legendgroup": "custom",
         "line": {
          "color": "grey"
         },
         "mode": "lines",
         "name": "...",
         "type": "scatter",
         "x": [
          null
         ],
         "y": [
          null
         ]
        },
        {
         "legendgroup": "custom",
         "line": {
          "color": "lightgrey"
         },
         "mode": "lines",
         "name": "2008",
         "type": "scatter",
         "x": [
          null
         ],
         "y": [
          null
         ]
        }
       ],
       "layout": {
        "height": 400,
        "legend": {
         "orientation": "v",
         "title": {
          "text": "Legend"
         },
         "x": 1.06,
         "xanchor": "left",
         "y": 1,
         "yanchor": "top"
        },
        "template": {
         "data": {
          "bar": [
           {
            "error_x": {
             "color": "#2a3f5f"
            },
            "error_y": {
             "color": "#2a3f5f"
            },
            "marker": {
             "line": {
              "color": "#E5ECF6",
              "width": 0.5
             },
             "pattern": {
              "fillmode": "overlay",
              "size": 10,
              "solidity": 0.2
             }
            },
            "type": "bar"
           }
          ],
          "barpolar": [
           {
            "marker": {
             "line": {
              "color": "#E5ECF6",
              "width": 0.5
             },
             "pattern": {
              "fillmode": "overlay",
              "size": 10,
              "solidity": 0.2
             }
            },
            "type": "barpolar"
           }
          ],
          "carpet": [
           {
            "aaxis": {
             "endlinecolor": "#2a3f5f",
             "gridcolor": "white",
             "linecolor": "white",
             "minorgridcolor": "white",
             "startlinecolor": "#2a3f5f"
            },
            "baxis": {
             "endlinecolor": "#2a3f5f",
             "gridcolor": "white",
             "linecolor": "white",
             "minorgridcolor": "white",
             "startlinecolor": "#2a3f5f"
            },
            "type": "carpet"
           }
          ],
          "choropleth": [
           {
            "colorbar": {
             "outlinewidth": 0,
             "ticks": ""
            },
            "type": "choropleth"
           }
          ],
          "contour": [
           {
            "colorbar": {
             "outlinewidth": 0,
             "ticks": ""
            },
            "colorscale": [
             [
              0,
              "#0d0887"
             ],
             [
              0.1111111111111111,
              "#46039f"
             ],
             [
              0.2222222222222222,
              "#7201a8"
             ],
             [
              0.3333333333333333,
              "#9c179e"
             ],
             [
              0.4444444444444444,
              "#bd3786"
             ],
             [
              0.5555555555555556,
              "#d8576b"
             ],
             [
              0.6666666666666666,
              "#ed7953"
             ],
             [
              0.7777777777777778,
              "#fb9f3a"
             ],
             [
              0.8888888888888888,
              "#fdca26"
             ],
             [
              1,
              "#f0f921"
             ]
            ],
            "type": "contour"
           }
          ],
          "contourcarpet": [
           {
            "colorbar": {
             "outlinewidth": 0,
             "ticks": ""
            },
            "type": "contourcarpet"
           }
          ],
          "heatmap": [
           {
            "colorbar": {
             "outlinewidth": 0,
             "ticks": ""
            },
            "colorscale": [
             [
              0,
              "#0d0887"
             ],
             [
              0.1111111111111111,
              "#46039f"
             ],
             [
              0.2222222222222222,
              "#7201a8"
             ],
             [
              0.3333333333333333,
              "#9c179e"
             ],
             [
              0.4444444444444444,
              "#bd3786"
             ],
             [
              0.5555555555555556,
              "#d8576b"
             ],
             [
              0.6666666666666666,
              "#ed7953"
             ],
             [
              0.7777777777777778,
              "#fb9f3a"
             ],
             [
              0.8888888888888888,
              "#fdca26"
             ],
             [
              1,
              "#f0f921"
             ]
            ],
            "type": "heatmap"
           }
          ],
          "heatmapgl": [
           {
            "colorbar": {
             "outlinewidth": 0,
             "ticks": ""
            },
            "colorscale": [
             [
              0,
              "#0d0887"
             ],
             [
              0.1111111111111111,
              "#46039f"
             ],
             [
              0.2222222222222222,
              "#7201a8"
             ],
             [
              0.3333333333333333,
              "#9c179e"
             ],
             [
              0.4444444444444444,
              "#bd3786"
             ],
             [
              0.5555555555555556,
              "#d8576b"
             ],
             [
              0.6666666666666666,
              "#ed7953"
             ],
             [
              0.7777777777777778,
              "#fb9f3a"
             ],
             [
              0.8888888888888888,
              "#fdca26"
             ],
             [
              1,
              "#f0f921"
             ]
            ],
            "type": "heatmapgl"
           }
          ],
          "histogram": [
           {
            "marker": {
             "pattern": {
              "fillmode": "overlay",
              "size": 10,
              "solidity": 0.2
             }
            },
            "type": "histogram"
           }
          ],
          "histogram2d": [
           {
            "colorbar": {
             "outlinewidth": 0,
             "ticks": ""
            },
            "colorscale": [
             [
              0,
              "#0d0887"
             ],
             [
              0.1111111111111111,
              "#46039f"
             ],
             [
              0.2222222222222222,
              "#7201a8"
             ],
             [
              0.3333333333333333,
              "#9c179e"
             ],
             [
              0.4444444444444444,
              "#bd3786"
             ],
             [
              0.5555555555555556,
              "#d8576b"
             ],
             [
              0.6666666666666666,
              "#ed7953"
             ],
             [
              0.7777777777777778,
              "#fb9f3a"
             ],
             [
              0.8888888888888888,
              "#fdca26"
             ],
             [
              1,
              "#f0f921"
             ]
            ],
            "type": "histogram2d"
           }
          ],
          "histogram2dcontour": [
           {
            "colorbar": {
             "outlinewidth": 0,
             "ticks": ""
            },
            "colorscale": [
             [
              0,
              "#0d0887"
             ],
             [
              0.1111111111111111,
              "#46039f"
             ],
             [
              0.2222222222222222,
              "#7201a8"
             ],
             [
              0.3333333333333333,
              "#9c179e"
             ],
             [
              0.4444444444444444,
              "#bd3786"
             ],
             [
              0.5555555555555556,
              "#d8576b"
             ],
             [
              0.6666666666666666,
              "#ed7953"
             ],
             [
              0.7777777777777778,
              "#fb9f3a"
             ],
             [
              0.8888888888888888,
              "#fdca26"
             ],
             [
              1,
              "#f0f921"
             ]
            ],
            "type": "histogram2dcontour"
           }
          ],
          "mesh3d": [
           {
            "colorbar": {
             "outlinewidth": 0,
             "ticks": ""
            },
            "type": "mesh3d"
           }
          ],
          "parcoords": [
           {
            "line": {
             "colorbar": {
              "outlinewidth": 0,
              "ticks": ""
             }
            },
            "type": "parcoords"
           }
          ],
          "pie": [
           {
            "automargin": true,
            "type": "pie"
           }
          ],
          "scatter": [
           {
            "fillpattern": {
             "fillmode": "overlay",
             "size": 10,
             "solidity": 0.2
            },
            "type": "scatter"
           }
          ],
          "scatter3d": [
           {
            "line": {
             "colorbar": {
              "outlinewidth": 0,
              "ticks": ""
             }
            },
            "marker": {
             "colorbar": {
              "outlinewidth": 0,
              "ticks": ""
             }
            },
            "type": "scatter3d"
           }
          ],
          "scattercarpet": [
           {
            "marker": {
             "colorbar": {
              "outlinewidth": 0,
              "ticks": ""
             }
            },
            "type": "scattercarpet"
           }
          ],
          "scattergeo": [
           {
            "marker": {
             "colorbar": {
              "outlinewidth": 0,
              "ticks": ""
             }
            },
            "type": "scattergeo"
           }
          ],
          "scattergl": [
           {
            "marker": {
             "colorbar": {
              "outlinewidth": 0,
              "ticks": ""
             }
            },
            "type": "scattergl"
           }
          ],
          "scattermapbox": [
           {
            "marker": {
             "colorbar": {
              "outlinewidth": 0,
              "ticks": ""
             }
            },
            "type": "scattermapbox"
           }
          ],
          "scatterpolar": [
           {
            "marker": {
             "colorbar": {
              "outlinewidth": 0,
              "ticks": ""
             }
            },
            "type": "scatterpolar"
           }
          ],
          "scatterpolargl": [
           {
            "marker": {
             "colorbar": {
              "outlinewidth": 0,
              "ticks": ""
             }
            },
            "type": "scatterpolargl"
           }
          ],
          "scatterternary": [
           {
            "marker": {
             "colorbar": {
              "outlinewidth": 0,
              "ticks": ""
             }
            },
            "type": "scatterternary"
           }
          ],
          "surface": [
           {
            "colorbar": {
             "outlinewidth": 0,
             "ticks": ""
            },
            "colorscale": [
             [
              0,
              "#0d0887"
             ],
             [
              0.1111111111111111,
              "#46039f"
             ],
             [
              0.2222222222222222,
              "#7201a8"
             ],
             [
              0.3333333333333333,
              "#9c179e"
             ],
             [
              0.4444444444444444,
              "#bd3786"
             ],
             [
              0.5555555555555556,
              "#d8576b"
             ],
             [
              0.6666666666666666,
              "#ed7953"
             ],
             [
              0.7777777777777778,
              "#fb9f3a"
             ],
             [
              0.8888888888888888,
              "#fdca26"
             ],
             [
              1,
              "#f0f921"
             ]
            ],
            "type": "surface"
           }
          ],
          "table": [
           {
            "cells": {
             "fill": {
              "color": "#EBF0F8"
             },
             "line": {
              "color": "white"
             }
            },
            "header": {
             "fill": {
              "color": "#C8D4E3"
             },
             "line": {
              "color": "white"
             }
            },
            "type": "table"
           }
          ]
         },
         "layout": {
          "annotationdefaults": {
           "arrowcolor": "#2a3f5f",
           "arrowhead": 0,
           "arrowwidth": 1
          },
          "autotypenumbers": "strict",
          "coloraxis": {
           "colorbar": {
            "outlinewidth": 0,
            "ticks": ""
           }
          },
          "colorscale": {
           "diverging": [
            [
             0,
             "#8e0152"
            ],
            [
             0.1,
             "#c51b7d"
            ],
            [
             0.2,
             "#de77ae"
            ],
            [
             0.3,
             "#f1b6da"
            ],
            [
             0.4,
             "#fde0ef"
            ],
            [
             0.5,
             "#f7f7f7"
            ],
            [
             0.6,
             "#e6f5d0"
            ],
            [
             0.7,
             "#b8e186"
            ],
            [
             0.8,
             "#7fbc41"
            ],
            [
             0.9,
             "#4d9221"
            ],
            [
             1,
             "#276419"
            ]
           ],
           "sequential": [
            [
             0,
             "#0d0887"
            ],
            [
             0.1111111111111111,
             "#46039f"
            ],
            [
             0.2222222222222222,
             "#7201a8"
            ],
            [
             0.3333333333333333,
             "#9c179e"
            ],
            [
             0.4444444444444444,
             "#bd3786"
            ],
            [
             0.5555555555555556,
             "#d8576b"
            ],
            [
             0.6666666666666666,
             "#ed7953"
            ],
            [
             0.7777777777777778,
             "#fb9f3a"
            ],
            [
             0.8888888888888888,
             "#fdca26"
            ],
            [
             1,
             "#f0f921"
            ]
           ],
           "sequentialminus": [
            [
             0,
             "#0d0887"
            ],
            [
             0.1111111111111111,
             "#46039f"
            ],
            [
             0.2222222222222222,
             "#7201a8"
            ],
            [
             0.3333333333333333,
             "#9c179e"
            ],
            [
             0.4444444444444444,
             "#bd3786"
            ],
            [
             0.5555555555555556,
             "#d8576b"
            ],
            [
             0.6666666666666666,
             "#ed7953"
            ],
            [
             0.7777777777777778,
             "#fb9f3a"
            ],
            [
             0.8888888888888888,
             "#fdca26"
            ],
            [
             1,
             "#f0f921"
            ]
           ]
          },
          "colorway": [
           "#636efa",
           "#EF553B",
           "#00cc96",
           "#ab63fa",
           "#FFA15A",
           "#19d3f3",
           "#FF6692",
           "#B6E880",
           "#FF97FF",
           "#FECB52"
          ],
          "font": {
           "color": "#2a3f5f"
          },
          "geo": {
           "bgcolor": "white",
           "lakecolor": "white",
           "landcolor": "#E5ECF6",
           "showlakes": true,
           "showland": true,
           "subunitcolor": "white"
          },
          "hoverlabel": {
           "align": "left"
          },
          "hovermode": "closest",
          "mapbox": {
           "style": "light"
          },
          "paper_bgcolor": "white",
          "plot_bgcolor": "#E5ECF6",
          "polar": {
           "angularaxis": {
            "gridcolor": "white",
            "linecolor": "white",
            "ticks": ""
           },
           "bgcolor": "#E5ECF6",
           "radialaxis": {
            "gridcolor": "white",
            "linecolor": "white",
            "ticks": ""
           }
          },
          "scene": {
           "xaxis": {
            "backgroundcolor": "#E5ECF6",
            "gridcolor": "white",
            "gridwidth": 2,
            "linecolor": "white",
            "showbackground": true,
            "ticks": "",
            "zerolinecolor": "white"
           },
           "yaxis": {
            "backgroundcolor": "#E5ECF6",
            "gridcolor": "white",
            "gridwidth": 2,
            "linecolor": "white",
            "showbackground": true,
            "ticks": "",
            "zerolinecolor": "white"
           },
           "zaxis": {
            "backgroundcolor": "#E5ECF6",
            "gridcolor": "white",
            "gridwidth": 2,
            "linecolor": "white",
            "showbackground": true,
            "ticks": "",
            "zerolinecolor": "white"
           }
          },
          "shapedefaults": {
           "line": {
            "color": "#2a3f5f"
           }
          },
          "ternary": {
           "aaxis": {
            "gridcolor": "white",
            "linecolor": "white",
            "ticks": ""
           },
           "baxis": {
            "gridcolor": "white",
            "linecolor": "white",
            "ticks": ""
           },
           "bgcolor": "#E5ECF6",
           "caxis": {
            "gridcolor": "white",
            "linecolor": "white",
            "ticks": ""
           }
          },
          "title": {
           "x": 0.05
          },
          "xaxis": {
           "automargin": true,
           "gridcolor": "white",
           "linecolor": "white",
           "ticks": "",
           "title": {
            "standoff": 15
           },
           "zerolinecolor": "white",
           "zerolinewidth": 2
          },
          "yaxis": {
           "automargin": true,
           "gridcolor": "white",
           "linecolor": "white",
           "ticks": "",
           "title": {
            "standoff": 15
           },
           "zerolinecolor": "white",
           "zerolinewidth": 2
          }
         }
        },
        "title": {
         "font": {
          "size": 24
         },
         "text": "Development of Depth of pressure transducer in ice - corrected by year for stid"
        },
        "width": 1400,
        "xaxis": {
         "tickmode": "array",
         "ticktext": [
          "Jan",
          "Feb",
          "Mar",
          "Apr",
          "May",
          "Jun",
          "Jul",
          "Aug",
          "Sep",
          "Oct",
          "Nov",
          "Dec"
         ],
         "tickvals": [
          "2000-01-31T00:00:00",
          "2000-02-29T00:00:00",
          "2000-03-31T00:00:00",
          "2000-04-30T00:00:00",
          "2000-05-31T00:00:00",
          "2000-06-30T00:00:00",
          "2000-07-31T00:00:00",
          "2000-08-31T00:00:00",
          "2000-09-30T00:00:00",
          "2000-10-31T00:00:00",
          "2000-11-30T00:00:00",
          "2000-12-31T00:00:00"
         ],
         "title": {
          "text": "Month"
         }
        },
        "yaxis": {
         "title": {
          "text": "Depth of pressure transducer in ice - corrected"
         }
        }
       }
      }
     },
     "metadata": {},
     "output_type": "display_data"
    }
   ],
   "source": [
    "def comparison_visualization(station_in = 'SCO_L',measurement='Depth of pressure transducer in ice - corrected', window='year', date='2019-07-1', fig_title=f'../figures/Climatology/test_fig.png'):\n",
    "    df = _load_data('GC_net')\n",
    "    df['Albedo'] == df['Albedo'].bfill()\n",
    "    station, datetime, dayofcentury, dayofyear = _align_GC_PR()\n",
    "    day, df,columns, day_century, unique_files = _subset_df(date=date, df=df, station=station, datetime=datetime, measurement=measurement, dayofcentury=dayofcentury, dayofyear=dayofcentury, aws='All')\n",
    "    df = df.loc[df['stid'] == station_in ]\n",
    "    df = df[[measurement,'Datetime']].set_index('Datetime')\n",
    "\n",
    "    display(df)\n",
    "\n",
    "    if window == 'week':\n",
    "        df_grouped = df.groupby(pd.Grouper( freq='W'))          \n",
    "        df_mean = df_grouped.mean()\n",
    "        df = df_mean.dropna()\n",
    "\n",
    "    elif window == 'sliding_avg_7':\n",
    "        df['Datetime'] = df.index\n",
    "        df['date_diff'] = (df['Datetime'].max() - df['Datetime']).dt.days\n",
    "        df['week_group'] = (df['date_diff'] / 7).apply(lambda x: int(x) if x.is_integer() else int(x) + 1)\n",
    "        df_grouped = df.groupby('week_group')[measurement]\n",
    "        weekly_mean = df_grouped.mean()\n",
    "        weekly_mean = weekly_mean.reset_index()\n",
    "        weekly_mean['last_date'] = weekly_mean['week_group'].apply(lambda x: df['Datetime'].max() - pd.to_timedelta(x * 7, unit='D'))\n",
    "        weekly_mean.set_index('last_date', inplace=True)\n",
    "        weekly_mean.drop(columns=['week_group'], inplace=True)\n",
    "        df = weekly_mean.dropna()\n",
    "        \n",
    "    elif window == 'month':\n",
    "        df_grouped = df.groupby(pd.Grouper(freq='M'))\n",
    "        df_mean = df_grouped.mean()\n",
    "        df = df_mean.dropna()\n",
    "        \n",
    "\n",
    "    elif window == 'sliding_avg_30':\n",
    "        df['Datetime'] = df.index\n",
    "        df['date_diff'] = (df['Datetime'].max() - df['Datetime']).dt.days\n",
    "        df['week_group'] = (df['date_diff'] / 30).apply(lambda x: int(x) if x.is_integer() else int(x) + 1)\n",
    "        df_grouped = df.groupby('week_group')[measurement]\n",
    "        monthly_mean = df_grouped.mean()\n",
    "        monthly_mean = monthly_mean.reset_index()\n",
    "        monthly_mean['last_date'] = monthly_mean['week_group'].apply(lambda x: df['Datetime'].max() - pd.to_timedelta(x * 30, unit='D'))\n",
    "        monthly_mean.set_index('last_date', inplace=True)\n",
    "        monthly_mean.drop(columns=['week_group'], inplace=True)\n",
    "        df = monthly_mean.dropna()\n",
    "\n",
    "    elif window == 'year':\n",
    "        df = df.loc[df.index <= date]\n",
    "        df_grouped = df.groupby(pd.Grouper(freq='M'))           \n",
    "        df_mean = df_grouped.mean()\n",
    "        df = df_mean.dropna()\n",
    "    else:\n",
    "        raise ValueError(f\"The input for the variable 'window' was not recognizable.\")\n",
    "\n",
    "    selected_year = date[:4] \n",
    "    # Extract unique years from the index\n",
    "    years = list(df.index.year.unique().sort_values(ascending=False))\n",
    "    print(years)\n",
    "    print(selected_year)\n",
    "    years.remove(int(selected_year))\n",
    "    \n",
    "    data = []\n",
    "\n",
    "    # Calculate the grayscale step based on the number of years\n",
    "    grayscale_step = 1.0 / (len(years) - 1)\n",
    "\n",
    "    # Loop through the unique years and plot the development of the value over the year\n",
    "    for i, year in enumerate(years):\n",
    "        df_year = df[df.index.year == year]\n",
    "\n",
    "        # Reset the year part of the datetime index to a constant year (e.g., 2000)\n",
    "        df_year.index = df_year.index.map(lambda x: x.replace(year=2000))\n",
    "\n",
    "        color = f'rgba({int(max(0, grayscale_step * (i - 1) * 255))}, {int(max(0, grayscale_step * (i - 1) * 255))}, {int(max(0, grayscale_step * (i - 1) * 255))}, 1)'\n",
    "        linewidth = 1\n",
    "        \n",
    "        data.append(go.Scatter(x=df_year.index, y=df_year[measurement], name=f'{year}', line=dict(color=color, width=linewidth), mode='lines', legendgroup='custom', showlegend=False))\n",
    "\n",
    "    df_year = df[df.index.year == int(selected_year)]\n",
    "\n",
    "    # Reset the year part of the datetime index to a constant year (e.g., 2000)\n",
    "    df_year.index = df_year.index.map(lambda x: x.replace(year=2000))\n",
    "    color = 'red'\n",
    "    linewidth = 2.5\n",
    "    data.append(go.Scatter(x=df_year.index, y=df_year[measurement], name=f'{selected_year}', line=dict(color=color, width=linewidth), mode='lines', legendgroup='custom', showlegend=False))\n",
    "\n",
    "    # Create a plot\n",
    "    fig = go.Figure(data=data)\n",
    "\n",
    "    # Set title, labels\n",
    "    fig.update_layout(\n",
    "        title= {\n",
    "            'text':f'Development of {measurement} by year for {station}',\n",
    "            'font':{'size':24}\n",
    "        },\n",
    "        xaxis_title='Month',\n",
    "        yaxis_title=measurement,\n",
    "        xaxis=dict(\n",
    "            tickmode='array',\n",
    "            tickvals=pd.date_range('2000-01-01', '2000-12-31', freq='M'),\n",
    "            ticktext=['Jan', 'Feb', 'Mar', 'Apr', 'May', 'Jun', 'Jul', 'Aug', 'Sep', 'Oct', 'Nov', 'Dec']\n",
    "        ),\n",
    "        width=1400,\n",
    "        height=400,\n",
    "        legend=dict(title='Legend', orientation='v', yanchor='top', xanchor='left', y=1, x=1.06)\n",
    "        )\n",
    "    \n",
    "\n",
    "    # Custom legend\n",
    "    latest_date = df.index.max().strftime('%d-%m')\n",
    "    fig.add_trace(go.Scatter(x=[None], y=[None], mode='lines', name=f'{selected_year}', line=dict(color='red'), legendgroup='custom'))\n",
    "    if selected_year == df.index.year.max():\n",
    "        fig.add_trace(go.Scatter(x=[None], y=[None], mode='lines', name=f'{years[1]}', line=dict(color='black'), legendgroup='custom'))\n",
    "    else:\n",
    "        fig.add_trace(go.Scatter(x=[None], y=[None], mode='lines', name=f'{years[0]}', line=dict(color='black'), legendgroup='custom')) \n",
    "    fig.add_trace(go.Scatter(x=[None], y=[None], mode='lines', name='...', line=dict(color='grey'), legendgroup='custom'))\n",
    "    fig.add_trace(go.Scatter(x=[None], y=[None], mode='lines', name=f'{years[-1]}', line=dict(color='lightgrey'), legendgroup='custom'))\n",
    "    \n",
    "    # Add a vertical line indicating the latest date in the chart\n",
    "    if window != 'year':\n",
    "        fig.add_trace(go.Scatter(x=[None], y=[None], mode='lines', name=f'{latest_date}', line=dict(color='black', dash='dash'), legendgroup='custom'))\n",
    "        fig.add_shape(type='line', x0=date, x1=date, y0=0, y1=1, yref='paper',\n",
    "                    line=dict(color='black', dash='dash'))\n",
    "    fig.write_image(fig_title)\n",
    "    # Display the plot\n",
    "    fig.show()\n",
    "\n",
    "comparison_visualization()"
   ]
  },
  {
   "cell_type": "markdown",
   "metadata": {},
   "source": [
    "***Test Suite***"
   ]
  },
  {
   "cell_type": "code",
   "execution_count": 396,
   "metadata": {},
   "outputs": [],
   "source": [
    "# Excluding NAN's for the calculation\n",
    "col_list =  x.iloc[:,2].dropna().values.tolist()\n",
    "\n",
    "x['Percentile'] = x.apply(lambda row : stats.percentileofscore(col_list, row[2], kind = \"mean\"), axis=1)\n"
   ]
  },
  {
   "cell_type": "markdown",
   "metadata": {},
   "source": []
  },
  {
   "cell_type": "code",
   "execution_count": 397,
   "metadata": {},
   "outputs": [
    {
     "data": {
      "text/html": [
       "<div>\n",
       "<style scoped>\n",
       "    .dataframe tbody tr th:only-of-type {\n",
       "        vertical-align: middle;\n",
       "    }\n",
       "\n",
       "    .dataframe tbody tr th {\n",
       "        vertical-align: top;\n",
       "    }\n",
       "\n",
       "    .dataframe thead th {\n",
       "        text-align: right;\n",
       "    }\n",
       "</style>\n",
       "<table border=\"1\" class=\"dataframe\">\n",
       "  <thead>\n",
       "    <tr style=\"text-align: right;\">\n",
       "      <th></th>\n",
       "      <th>file</th>\n",
       "      <th>relative_humidity_1</th>\n",
       "      <th>year</th>\n",
       "      <th>Percentile</th>\n",
       "    </tr>\n",
       "  </thead>\n",
       "  <tbody>\n",
       "    <tr>\n",
       "      <th>0</th>\n",
       "      <td>Swiss Camp 10m</td>\n",
       "      <td>NaN</td>\n",
       "      <td>1991</td>\n",
       "      <td>1.724138</td>\n",
       "    </tr>\n",
       "    <tr>\n",
       "      <th>1</th>\n",
       "      <td>Swiss Camp 10m</td>\n",
       "      <td>NaN</td>\n",
       "      <td>1992</td>\n",
       "      <td>5.172414</td>\n",
       "    </tr>\n",
       "    <tr>\n",
       "      <th>2</th>\n",
       "      <td>Swiss Camp 10m</td>\n",
       "      <td>NaN</td>\n",
       "      <td>1993</td>\n",
       "      <td>8.620690</td>\n",
       "    </tr>\n",
       "    <tr>\n",
       "      <th>3</th>\n",
       "      <td>Swiss Camp 10m</td>\n",
       "      <td>NaN</td>\n",
       "      <td>1994</td>\n",
       "      <td>12.068966</td>\n",
       "    </tr>\n",
       "    <tr>\n",
       "      <th>4</th>\n",
       "      <td>Swiss Camp 10m</td>\n",
       "      <td>NaN</td>\n",
       "      <td>1995</td>\n",
       "      <td>15.517241</td>\n",
       "    </tr>\n",
       "    <tr>\n",
       "      <th>5</th>\n",
       "      <td>Swiss Camp 10m</td>\n",
       "      <td>NaN</td>\n",
       "      <td>1996</td>\n",
       "      <td>18.965517</td>\n",
       "    </tr>\n",
       "    <tr>\n",
       "      <th>6</th>\n",
       "      <td>Swiss Camp 10m</td>\n",
       "      <td>NaN</td>\n",
       "      <td>1997</td>\n",
       "      <td>22.413793</td>\n",
       "    </tr>\n",
       "    <tr>\n",
       "      <th>7</th>\n",
       "      <td>Swiss Camp 10m</td>\n",
       "      <td>NaN</td>\n",
       "      <td>1998</td>\n",
       "      <td>25.862069</td>\n",
       "    </tr>\n",
       "    <tr>\n",
       "      <th>8</th>\n",
       "      <td>Swiss Camp 10m</td>\n",
       "      <td>66.55</td>\n",
       "      <td>1999</td>\n",
       "      <td>29.310345</td>\n",
       "    </tr>\n",
       "    <tr>\n",
       "      <th>9</th>\n",
       "      <td>Swiss Camp 10m</td>\n",
       "      <td>89.52</td>\n",
       "      <td>2000</td>\n",
       "      <td>32.758621</td>\n",
       "    </tr>\n",
       "    <tr>\n",
       "      <th>10</th>\n",
       "      <td>Swiss Camp 10m</td>\n",
       "      <td>76.50</td>\n",
       "      <td>2001</td>\n",
       "      <td>36.206897</td>\n",
       "    </tr>\n",
       "    <tr>\n",
       "      <th>11</th>\n",
       "      <td>Swiss Camp 10m</td>\n",
       "      <td>NaN</td>\n",
       "      <td>2002</td>\n",
       "      <td>39.655172</td>\n",
       "    </tr>\n",
       "    <tr>\n",
       "      <th>12</th>\n",
       "      <td>Swiss Camp 10m</td>\n",
       "      <td>68.68</td>\n",
       "      <td>2003</td>\n",
       "      <td>43.103448</td>\n",
       "    </tr>\n",
       "    <tr>\n",
       "      <th>13</th>\n",
       "      <td>Swiss Camp 10m</td>\n",
       "      <td>69.67</td>\n",
       "      <td>2004</td>\n",
       "      <td>46.551724</td>\n",
       "    </tr>\n",
       "    <tr>\n",
       "      <th>14</th>\n",
       "      <td>Swiss Camp 10m</td>\n",
       "      <td>68.69</td>\n",
       "      <td>2005</td>\n",
       "      <td>50.000000</td>\n",
       "    </tr>\n",
       "    <tr>\n",
       "      <th>15</th>\n",
       "      <td>Swiss Camp 10m</td>\n",
       "      <td>NaN</td>\n",
       "      <td>2006</td>\n",
       "      <td>53.448276</td>\n",
       "    </tr>\n",
       "    <tr>\n",
       "      <th>16</th>\n",
       "      <td>Swiss Camp 10m</td>\n",
       "      <td>NaN</td>\n",
       "      <td>2007</td>\n",
       "      <td>56.896552</td>\n",
       "    </tr>\n",
       "    <tr>\n",
       "      <th>17</th>\n",
       "      <td>Swiss Camp 10m</td>\n",
       "      <td>69.44</td>\n",
       "      <td>2008</td>\n",
       "      <td>60.344828</td>\n",
       "    </tr>\n",
       "    <tr>\n",
       "      <th>18</th>\n",
       "      <td>Swiss Camp 10m</td>\n",
       "      <td>77.37</td>\n",
       "      <td>2009</td>\n",
       "      <td>63.793103</td>\n",
       "    </tr>\n",
       "    <tr>\n",
       "      <th>19</th>\n",
       "      <td>Swiss Camp 10m</td>\n",
       "      <td>86.10</td>\n",
       "      <td>2010</td>\n",
       "      <td>67.241379</td>\n",
       "    </tr>\n",
       "    <tr>\n",
       "      <th>20</th>\n",
       "      <td>Swiss Camp 10m</td>\n",
       "      <td>77.92</td>\n",
       "      <td>2011</td>\n",
       "      <td>70.689655</td>\n",
       "    </tr>\n",
       "    <tr>\n",
       "      <th>21</th>\n",
       "      <td>Swiss Camp 10m</td>\n",
       "      <td>90.89</td>\n",
       "      <td>2012</td>\n",
       "      <td>74.137931</td>\n",
       "    </tr>\n",
       "    <tr>\n",
       "      <th>22</th>\n",
       "      <td>Swiss Camp 10m</td>\n",
       "      <td>NaN</td>\n",
       "      <td>2013</td>\n",
       "      <td>77.586207</td>\n",
       "    </tr>\n",
       "    <tr>\n",
       "      <th>23</th>\n",
       "      <td>Swiss Camp 10m</td>\n",
       "      <td>NaN</td>\n",
       "      <td>2014</td>\n",
       "      <td>81.034483</td>\n",
       "    </tr>\n",
       "    <tr>\n",
       "      <th>24</th>\n",
       "      <td>Swiss Camp 10m</td>\n",
       "      <td>67.43</td>\n",
       "      <td>2015</td>\n",
       "      <td>84.482759</td>\n",
       "    </tr>\n",
       "    <tr>\n",
       "      <th>25</th>\n",
       "      <td>Swiss Camp 10m</td>\n",
       "      <td>NaN</td>\n",
       "      <td>2016</td>\n",
       "      <td>87.931034</td>\n",
       "    </tr>\n",
       "    <tr>\n",
       "      <th>26</th>\n",
       "      <td>Swiss Camp 10m</td>\n",
       "      <td>83.63</td>\n",
       "      <td>2017</td>\n",
       "      <td>91.379310</td>\n",
       "    </tr>\n",
       "    <tr>\n",
       "      <th>27</th>\n",
       "      <td>Swiss Camp 10m</td>\n",
       "      <td>78.20</td>\n",
       "      <td>2018</td>\n",
       "      <td>94.827586</td>\n",
       "    </tr>\n",
       "    <tr>\n",
       "      <th>28</th>\n",
       "      <td>Swiss Camp 10m</td>\n",
       "      <td>63.13</td>\n",
       "      <td>2019</td>\n",
       "      <td>98.275862</td>\n",
       "    </tr>\n",
       "  </tbody>\n",
       "</table>\n",
       "</div>"
      ],
      "text/plain": [
       "              file  relative_humidity_1  year  Percentile\n",
       "0   Swiss Camp 10m                  NaN  1991    1.724138\n",
       "1   Swiss Camp 10m                  NaN  1992    5.172414\n",
       "2   Swiss Camp 10m                  NaN  1993    8.620690\n",
       "3   Swiss Camp 10m                  NaN  1994   12.068966\n",
       "4   Swiss Camp 10m                  NaN  1995   15.517241\n",
       "5   Swiss Camp 10m                  NaN  1996   18.965517\n",
       "6   Swiss Camp 10m                  NaN  1997   22.413793\n",
       "7   Swiss Camp 10m                  NaN  1998   25.862069\n",
       "8   Swiss Camp 10m                66.55  1999   29.310345\n",
       "9   Swiss Camp 10m                89.52  2000   32.758621\n",
       "10  Swiss Camp 10m                76.50  2001   36.206897\n",
       "11  Swiss Camp 10m                  NaN  2002   39.655172\n",
       "12  Swiss Camp 10m                68.68  2003   43.103448\n",
       "13  Swiss Camp 10m                69.67  2004   46.551724\n",
       "14  Swiss Camp 10m                68.69  2005   50.000000\n",
       "15  Swiss Camp 10m                  NaN  2006   53.448276\n",
       "16  Swiss Camp 10m                  NaN  2007   56.896552\n",
       "17  Swiss Camp 10m                69.44  2008   60.344828\n",
       "18  Swiss Camp 10m                77.37  2009   63.793103\n",
       "19  Swiss Camp 10m                86.10  2010   67.241379\n",
       "20  Swiss Camp 10m                77.92  2011   70.689655\n",
       "21  Swiss Camp 10m                90.89  2012   74.137931\n",
       "22  Swiss Camp 10m                  NaN  2013   77.586207\n",
       "23  Swiss Camp 10m                  NaN  2014   81.034483\n",
       "24  Swiss Camp 10m                67.43  2015   84.482759\n",
       "25  Swiss Camp 10m                  NaN  2016   87.931034\n",
       "26  Swiss Camp 10m                83.63  2017   91.379310\n",
       "27  Swiss Camp 10m                78.20  2018   94.827586\n",
       "28  Swiss Camp 10m                63.13  2019   98.275862"
      ]
     },
     "execution_count": 397,
     "metadata": {},
     "output_type": "execute_result"
    }
   ],
   "source": [
    "x"
   ]
  },
  {
   "cell_type": "code",
   "execution_count": 398,
   "metadata": {},
   "outputs": [
    {
     "data": {
      "application/vnd.plotly.v1+json": {
       "config": {
        "plotlyServerURL": "https://plot.ly"
       },
       "data": [
        {
         "type": "scatter",
         "x": [
          1991,
          1992,
          1993,
          1994,
          1995,
          1996,
          1997,
          1998,
          1999,
          2000,
          2001,
          2002,
          2003,
          2004,
          2005,
          2006,
          2007,
          2008,
          2009,
          2010,
          2011,
          2012,
          2013,
          2014,
          2015,
          2016,
          2017,
          2018,
          2019
         ],
         "y": [
          null,
          null,
          null,
          null,
          null,
          null,
          null,
          null,
          66.55,
          89.52,
          76.5,
          null,
          68.68,
          69.67,
          68.69,
          null,
          null,
          69.44,
          77.37,
          86.1,
          77.92,
          90.89,
          null,
          null,
          67.43,
          null,
          83.63,
          78.2,
          63.13
         ]
        }
       ],
       "layout": {
        "template": {
         "data": {
          "bar": [
           {
            "error_x": {
             "color": "#2a3f5f"
            },
            "error_y": {
             "color": "#2a3f5f"
            },
            "marker": {
             "line": {
              "color": "#E5ECF6",
              "width": 0.5
             },
             "pattern": {
              "fillmode": "overlay",
              "size": 10,
              "solidity": 0.2
             }
            },
            "type": "bar"
           }
          ],
          "barpolar": [
           {
            "marker": {
             "line": {
              "color": "#E5ECF6",
              "width": 0.5
             },
             "pattern": {
              "fillmode": "overlay",
              "size": 10,
              "solidity": 0.2
             }
            },
            "type": "barpolar"
           }
          ],
          "carpet": [
           {
            "aaxis": {
             "endlinecolor": "#2a3f5f",
             "gridcolor": "white",
             "linecolor": "white",
             "minorgridcolor": "white",
             "startlinecolor": "#2a3f5f"
            },
            "baxis": {
             "endlinecolor": "#2a3f5f",
             "gridcolor": "white",
             "linecolor": "white",
             "minorgridcolor": "white",
             "startlinecolor": "#2a3f5f"
            },
            "type": "carpet"
           }
          ],
          "choropleth": [
           {
            "colorbar": {
             "outlinewidth": 0,
             "ticks": ""
            },
            "type": "choropleth"
           }
          ],
          "contour": [
           {
            "colorbar": {
             "outlinewidth": 0,
             "ticks": ""
            },
            "colorscale": [
             [
              0,
              "#0d0887"
             ],
             [
              0.1111111111111111,
              "#46039f"
             ],
             [
              0.2222222222222222,
              "#7201a8"
             ],
             [
              0.3333333333333333,
              "#9c179e"
             ],
             [
              0.4444444444444444,
              "#bd3786"
             ],
             [
              0.5555555555555556,
              "#d8576b"
             ],
             [
              0.6666666666666666,
              "#ed7953"
             ],
             [
              0.7777777777777778,
              "#fb9f3a"
             ],
             [
              0.8888888888888888,
              "#fdca26"
             ],
             [
              1,
              "#f0f921"
             ]
            ],
            "type": "contour"
           }
          ],
          "contourcarpet": [
           {
            "colorbar": {
             "outlinewidth": 0,
             "ticks": ""
            },
            "type": "contourcarpet"
           }
          ],
          "heatmap": [
           {
            "colorbar": {
             "outlinewidth": 0,
             "ticks": ""
            },
            "colorscale": [
             [
              0,
              "#0d0887"
             ],
             [
              0.1111111111111111,
              "#46039f"
             ],
             [
              0.2222222222222222,
              "#7201a8"
             ],
             [
              0.3333333333333333,
              "#9c179e"
             ],
             [
              0.4444444444444444,
              "#bd3786"
             ],
             [
              0.5555555555555556,
              "#d8576b"
             ],
             [
              0.6666666666666666,
              "#ed7953"
             ],
             [
              0.7777777777777778,
              "#fb9f3a"
             ],
             [
              0.8888888888888888,
              "#fdca26"
             ],
             [
              1,
              "#f0f921"
             ]
            ],
            "type": "heatmap"
           }
          ],
          "heatmapgl": [
           {
            "colorbar": {
             "outlinewidth": 0,
             "ticks": ""
            },
            "colorscale": [
             [
              0,
              "#0d0887"
             ],
             [
              0.1111111111111111,
              "#46039f"
             ],
             [
              0.2222222222222222,
              "#7201a8"
             ],
             [
              0.3333333333333333,
              "#9c179e"
             ],
             [
              0.4444444444444444,
              "#bd3786"
             ],
             [
              0.5555555555555556,
              "#d8576b"
             ],
             [
              0.6666666666666666,
              "#ed7953"
             ],
             [
              0.7777777777777778,
              "#fb9f3a"
             ],
             [
              0.8888888888888888,
              "#fdca26"
             ],
             [
              1,
              "#f0f921"
             ]
            ],
            "type": "heatmapgl"
           }
          ],
          "histogram": [
           {
            "marker": {
             "pattern": {
              "fillmode": "overlay",
              "size": 10,
              "solidity": 0.2
             }
            },
            "type": "histogram"
           }
          ],
          "histogram2d": [
           {
            "colorbar": {
             "outlinewidth": 0,
             "ticks": ""
            },
            "colorscale": [
             [
              0,
              "#0d0887"
             ],
             [
              0.1111111111111111,
              "#46039f"
             ],
             [
              0.2222222222222222,
              "#7201a8"
             ],
             [
              0.3333333333333333,
              "#9c179e"
             ],
             [
              0.4444444444444444,
              "#bd3786"
             ],
             [
              0.5555555555555556,
              "#d8576b"
             ],
             [
              0.6666666666666666,
              "#ed7953"
             ],
             [
              0.7777777777777778,
              "#fb9f3a"
             ],
             [
              0.8888888888888888,
              "#fdca26"
             ],
             [
              1,
              "#f0f921"
             ]
            ],
            "type": "histogram2d"
           }
          ],
          "histogram2dcontour": [
           {
            "colorbar": {
             "outlinewidth": 0,
             "ticks": ""
            },
            "colorscale": [
             [
              0,
              "#0d0887"
             ],
             [
              0.1111111111111111,
              "#46039f"
             ],
             [
              0.2222222222222222,
              "#7201a8"
             ],
             [
              0.3333333333333333,
              "#9c179e"
             ],
             [
              0.4444444444444444,
              "#bd3786"
             ],
             [
              0.5555555555555556,
              "#d8576b"
             ],
             [
              0.6666666666666666,
              "#ed7953"
             ],
             [
              0.7777777777777778,
              "#fb9f3a"
             ],
             [
              0.8888888888888888,
              "#fdca26"
             ],
             [
              1,
              "#f0f921"
             ]
            ],
            "type": "histogram2dcontour"
           }
          ],
          "mesh3d": [
           {
            "colorbar": {
             "outlinewidth": 0,
             "ticks": ""
            },
            "type": "mesh3d"
           }
          ],
          "parcoords": [
           {
            "line": {
             "colorbar": {
              "outlinewidth": 0,
              "ticks": ""
             }
            },
            "type": "parcoords"
           }
          ],
          "pie": [
           {
            "automargin": true,
            "type": "pie"
           }
          ],
          "scatter": [
           {
            "fillpattern": {
             "fillmode": "overlay",
             "size": 10,
             "solidity": 0.2
            },
            "type": "scatter"
           }
          ],
          "scatter3d": [
           {
            "line": {
             "colorbar": {
              "outlinewidth": 0,
              "ticks": ""
             }
            },
            "marker": {
             "colorbar": {
              "outlinewidth": 0,
              "ticks": ""
             }
            },
            "type": "scatter3d"
           }
          ],
          "scattercarpet": [
           {
            "marker": {
             "colorbar": {
              "outlinewidth": 0,
              "ticks": ""
             }
            },
            "type": "scattercarpet"
           }
          ],
          "scattergeo": [
           {
            "marker": {
             "colorbar": {
              "outlinewidth": 0,
              "ticks": ""
             }
            },
            "type": "scattergeo"
           }
          ],
          "scattergl": [
           {
            "marker": {
             "colorbar": {
              "outlinewidth": 0,
              "ticks": ""
             }
            },
            "type": "scattergl"
           }
          ],
          "scattermapbox": [
           {
            "marker": {
             "colorbar": {
              "outlinewidth": 0,
              "ticks": ""
             }
            },
            "type": "scattermapbox"
           }
          ],
          "scatterpolar": [
           {
            "marker": {
             "colorbar": {
              "outlinewidth": 0,
              "ticks": ""
             }
            },
            "type": "scatterpolar"
           }
          ],
          "scatterpolargl": [
           {
            "marker": {
             "colorbar": {
              "outlinewidth": 0,
              "ticks": ""
             }
            },
            "type": "scatterpolargl"
           }
          ],
          "scatterternary": [
           {
            "marker": {
             "colorbar": {
              "outlinewidth": 0,
              "ticks": ""
             }
            },
            "type": "scatterternary"
           }
          ],
          "surface": [
           {
            "colorbar": {
             "outlinewidth": 0,
             "ticks": ""
            },
            "colorscale": [
             [
              0,
              "#0d0887"
             ],
             [
              0.1111111111111111,
              "#46039f"
             ],
             [
              0.2222222222222222,
              "#7201a8"
             ],
             [
              0.3333333333333333,
              "#9c179e"
             ],
             [
              0.4444444444444444,
              "#bd3786"
             ],
             [
              0.5555555555555556,
              "#d8576b"
             ],
             [
              0.6666666666666666,
              "#ed7953"
             ],
             [
              0.7777777777777778,
              "#fb9f3a"
             ],
             [
              0.8888888888888888,
              "#fdca26"
             ],
             [
              1,
              "#f0f921"
             ]
            ],
            "type": "surface"
           }
          ],
          "table": [
           {
            "cells": {
             "fill": {
              "color": "#EBF0F8"
             },
             "line": {
              "color": "white"
             }
            },
            "header": {
             "fill": {
              "color": "#C8D4E3"
             },
             "line": {
              "color": "white"
             }
            },
            "type": "table"
           }
          ]
         },
         "layout": {
          "annotationdefaults": {
           "arrowcolor": "#2a3f5f",
           "arrowhead": 0,
           "arrowwidth": 1
          },
          "autotypenumbers": "strict",
          "coloraxis": {
           "colorbar": {
            "outlinewidth": 0,
            "ticks": ""
           }
          },
          "colorscale": {
           "diverging": [
            [
             0,
             "#8e0152"
            ],
            [
             0.1,
             "#c51b7d"
            ],
            [
             0.2,
             "#de77ae"
            ],
            [
             0.3,
             "#f1b6da"
            ],
            [
             0.4,
             "#fde0ef"
            ],
            [
             0.5,
             "#f7f7f7"
            ],
            [
             0.6,
             "#e6f5d0"
            ],
            [
             0.7,
             "#b8e186"
            ],
            [
             0.8,
             "#7fbc41"
            ],
            [
             0.9,
             "#4d9221"
            ],
            [
             1,
             "#276419"
            ]
           ],
           "sequential": [
            [
             0,
             "#0d0887"
            ],
            [
             0.1111111111111111,
             "#46039f"
            ],
            [
             0.2222222222222222,
             "#7201a8"
            ],
            [
             0.3333333333333333,
             "#9c179e"
            ],
            [
             0.4444444444444444,
             "#bd3786"
            ],
            [
             0.5555555555555556,
             "#d8576b"
            ],
            [
             0.6666666666666666,
             "#ed7953"
            ],
            [
             0.7777777777777778,
             "#fb9f3a"
            ],
            [
             0.8888888888888888,
             "#fdca26"
            ],
            [
             1,
             "#f0f921"
            ]
           ],
           "sequentialminus": [
            [
             0,
             "#0d0887"
            ],
            [
             0.1111111111111111,
             "#46039f"
            ],
            [
             0.2222222222222222,
             "#7201a8"
            ],
            [
             0.3333333333333333,
             "#9c179e"
            ],
            [
             0.4444444444444444,
             "#bd3786"
            ],
            [
             0.5555555555555556,
             "#d8576b"
            ],
            [
             0.6666666666666666,
             "#ed7953"
            ],
            [
             0.7777777777777778,
             "#fb9f3a"
            ],
            [
             0.8888888888888888,
             "#fdca26"
            ],
            [
             1,
             "#f0f921"
            ]
           ]
          },
          "colorway": [
           "#636efa",
           "#EF553B",
           "#00cc96",
           "#ab63fa",
           "#FFA15A",
           "#19d3f3",
           "#FF6692",
           "#B6E880",
           "#FF97FF",
           "#FECB52"
          ],
          "font": {
           "color": "#2a3f5f"
          },
          "geo": {
           "bgcolor": "white",
           "lakecolor": "white",
           "landcolor": "#E5ECF6",
           "showlakes": true,
           "showland": true,
           "subunitcolor": "white"
          },
          "hoverlabel": {
           "align": "left"
          },
          "hovermode": "closest",
          "mapbox": {
           "style": "light"
          },
          "paper_bgcolor": "white",
          "plot_bgcolor": "#E5ECF6",
          "polar": {
           "angularaxis": {
            "gridcolor": "white",
            "linecolor": "white",
            "ticks": ""
           },
           "bgcolor": "#E5ECF6",
           "radialaxis": {
            "gridcolor": "white",
            "linecolor": "white",
            "ticks": ""
           }
          },
          "scene": {
           "xaxis": {
            "backgroundcolor": "#E5ECF6",
            "gridcolor": "white",
            "gridwidth": 2,
            "linecolor": "white",
            "showbackground": true,
            "ticks": "",
            "zerolinecolor": "white"
           },
           "yaxis": {
            "backgroundcolor": "#E5ECF6",
            "gridcolor": "white",
            "gridwidth": 2,
            "linecolor": "white",
            "showbackground": true,
            "ticks": "",
            "zerolinecolor": "white"
           },
           "zaxis": {
            "backgroundcolor": "#E5ECF6",
            "gridcolor": "white",
            "gridwidth": 2,
            "linecolor": "white",
            "showbackground": true,
            "ticks": "",
            "zerolinecolor": "white"
           }
          },
          "shapedefaults": {
           "line": {
            "color": "#2a3f5f"
           }
          },
          "ternary": {
           "aaxis": {
            "gridcolor": "white",
            "linecolor": "white",
            "ticks": ""
           },
           "baxis": {
            "gridcolor": "white",
            "linecolor": "white",
            "ticks": ""
           },
           "bgcolor": "#E5ECF6",
           "caxis": {
            "gridcolor": "white",
            "linecolor": "white",
            "ticks": ""
           }
          },
          "title": {
           "x": 0.05
          },
          "xaxis": {
           "automargin": true,
           "gridcolor": "white",
           "linecolor": "white",
           "ticks": "",
           "title": {
            "standoff": 15
           },
           "zerolinecolor": "white",
           "zerolinewidth": 2
          },
          "yaxis": {
           "automargin": true,
           "gridcolor": "white",
           "linecolor": "white",
           "ticks": "",
           "title": {
            "standoff": 15
           },
           "zerolinecolor": "white",
           "zerolinewidth": 2
          }
         }
        }
       }
      }
     },
     "metadata": {},
     "output_type": "display_data"
    }
   ],
   "source": [
    "# Using plotly.express\n",
    "import plotly.express as px\n",
    "\n",
    "#fig = px.line(x, x='Datetime', y=\"relative_humidity_1\")\n",
    "#fig.show()\n",
    "fig = go.Figure([go.Scatter(x=x['year'], y=x['relative_humidity_1'])])\n",
    "fig.show()"
   ]
  },
  {
   "cell_type": "code",
   "execution_count": 406,
   "metadata": {
    "id": "n94UQB81BF07"
   },
   "outputs": [],
   "source": [
    "def report(data, date, station, variable, scope):\n",
    "    \"\"\"\n",
    "    Function to return the percentile of specified values given a selected date.\n",
    "    \n",
    "    Parameters:\n",
    "    df (pd.DataFrame): The dataframe to be used.\n",
    "    date (str): The date of the observations for which the percentile is calculated.\n",
    "    \n",
    "    Returns:\n",
    "    df (pd.DataFrame): A dataframe with all numerical columns and the percentiles of the values of the selected date.\n",
    "    \"\"\"\n",
    "  \n",
    "    # Load Data\n",
    "    df = _load_data(data)\n",
    "    \n",
    "    # Split date input into year, month, day\n",
    "    year = int(date[0:4])\n",
    "    month = int(date[5:7])\n",
    "    day = int(date[8:10])\n",
    "  \n",
    "    # subset df with date and find day of year and day variable\n",
    "    date_df = df.loc[(df['Datetime'].dt.year == year) & (df['Datetime'].dt.month == month) & (df['Datetime'].dt.day == day)]\n",
    "      # select day of year\n",
    "    day =  date_df[\"DayOfYear\"].mean()\n",
    "    datetime = date_df[\"Datetime\"].max()\n",
    "  \n",
    "    # select the specific day of century and the related values\n",
    "    day_century = date_df[\"DayOfCentury\"].mean() \n",
    "    day_century_value = pd.DataFrame(pd.DataFrame.mean(date_df)).reset_index()\n",
    "    day_century_value = pd.pivot_table(day_century_value, index=None, columns=['index'], aggfunc=max)\n",
    "  \n",
    "    if scope == \"relative\":\n",
    "        # group by calender day\n",
    "        df = df.loc[df['DayOfYear'] == day]\n",
    "    elif scope == \"absolute\":\n",
    "        df = df\n",
    "    else: \n",
    "        raise ValueError(\"Only 'relative' & 'absolute' are accepted input values\")\n",
    "  \n",
    "    # Find the index with the specified date\n",
    "    row_index = int(df[df['Datetime'] == date].index[0])\n",
    "    \n",
    "    # Remove columns that do not contain numerical values & Subset df based on measure selection\n",
    "    if variable == \"All\":\n",
    "        df = df.select_dtypes(include=['int', 'float']).copy()\n",
    "    else:\n",
    "        df = pd.DataFrame({variable: df[variable]})\n",
    "        df = df.select_dtypes(include=['int', 'float']).copy()\n",
    "    \n",
    "    # Create an empty dictionary for the output\n",
    "    percentile_dict = {}\n",
    "    \n",
    "    # Iterate through the columns\n",
    "    for col in df.columns:\n",
    "        # Find the percentile of the value in the specified row and date\n",
    "        value = df[col][row_index]\n",
    "        percentile = df[col].rank(pct=True)[df[col] == value].iloc[0]*100 if not math.isnan(value) else math.nan\n",
    "    \n",
    "        # Add the percentile to the dictionary\n",
    "        percentile_dict[col] = percentile\n",
    "    print('displaying percentile dict')\n",
    "    print(percentile_dict)\n",
    "    # Create a dataframe with the output\n",
    "    x = pd.DataFrame(percentile_dict, index=[0])\n",
    "    print('displaying percentile df')\n",
    "    import prettytable as pt\n",
    "  \n",
    "    table = pt.PrettyTable()\n",
    "    table.field_names = [\"Measurement\", \"Percentile\"]\n",
    "  \n",
    "    for col in x.columns:\n",
    "        if x[col].values > 90 or x[col].values < 10:\n",
    "            table.add_row([f\"\\033[1m{col}\\033[0m\", f\"\\033[1m{int(x[col].values) if not np.isnan(x[col].values) else 'NaN'}%\\033[0m\"])\n",
    "        else:\n",
    "            table.add_row([col, f\"{int(x[col].values) if not np.isnan(x[col].values) else 'NaN'}%\"])\n",
    "  \n",
    "    print(\n",
    "    f\" Date: {date} \\n\" ,\n",
    "    f\"Station: {station} \\n\" , \n",
    "    f\"Measurement: {variable} \\n\"  , \n",
    "    f\"Data: {data} \\n\" ,\n",
    "    \"----------------------------------------------------------------------------------------------------------------------\\n\",\n",
    "    f\"                   Climatology Report\\n\" \n",
    "    )\n",
    "    print(table)\n",
    "    print(\"----------------------------------------------------------------------------------------------------------------------\\n\")\n",
    "    \n",
    "    import plotly.express as px\n",
    "    # Create a list of columns to be plotted\n",
    "    x = day_century_value\n",
    "    columns_to_plot = [col for col in x.columns.values if col in df.columns.values]\n",
    "  \n",
    "    # Create a list of values from x to be highlighted\n",
    "    values_to_highlight = x[columns_to_plot].values.flatten().tolist()\n",
    "  \n",
    "    # Create a list of subplots\n",
    "    figs = []\n",
    "    # Loop through list of columns\n",
    "    for col, v in zip(columns_to_plot, values_to_highlight) : \n",
    "        # Create a subplot for each column \n",
    "        fig = px.box(df[col], orientation = \"v\",boxmode='group')\n",
    "        # Format the axes\n",
    "        fig.update_layout(title_text= f\"Boxplot for {col}\", xaxis_title='', yaxis_title='')\n",
    "        # Highlight the values from x\n",
    "        fig.add_scatter(x=[col], y=[v], name= f\"Selected Value \\n{col}\",\n",
    "    mode = 'markers',\n",
    "    marker_symbol = 'circle-dot',\n",
    "    marker_size = 8,\n",
    "    marker_color = 'red')\n",
    "        \n",
    "        # Add figure to list of subplots \n",
    "        figs.append(fig)\n",
    "    \n",
    "    # Output\n",
    "    for fig in figs:\n",
    "        fig.show()"
   ]
  },
  {
   "cell_type": "code",
   "execution_count": 405,
   "metadata": {
    "id": "_-tV92FHNcuy"
   },
   "outputs": [
    {
     "name": "stdout",
     "output_type": "stream",
     "text": [
      "displaying percentile dict\n",
      "{'AirPressure(hPa)': 61.940298507462686}\n",
      "displaying percentile df\n",
      " Date: 2022-01-12 \n",
      " Station: THU_L_day_v03 \n",
      " Measurement: AirPressure(hPa) \n",
      " Data: Promice \n",
      " ----------------------------------------------------------------------------------------------------------------------\n",
      "                    Climatology Report\n",
      "\n",
      "+------------------+------------+\n",
      "|   Measurement    | Percentile |\n",
      "+------------------+------------+\n",
      "| AirPressure(hPa) |    61%     |\n",
      "+------------------+------------+\n",
      "----------------------------------------------------------------------------------------------------------------------\n",
      "\n"
     ]
    },
    {
     "data": {
      "application/vnd.plotly.v1+json": {
       "config": {
        "plotlyServerURL": "https://plot.ly"
       },
       "data": [
        {
         "alignmentgroup": "True",
         "hovertemplate": "variable=%{x}<br>value=%{y}<extra></extra>",
         "legendgroup": "",
         "marker": {
          "color": "#636efa"
         },
         "name": "",
         "notched": false,
         "offsetgroup": "",
         "orientation": "v",
         "showlegend": false,
         "type": "box",
         "x": [
          "AirPressure(hPa)",
          "AirPressure(hPa)",
          "AirPressure(hPa)",
          "AirPressure(hPa)",
          "AirPressure(hPa)",
          "AirPressure(hPa)",
          "AirPressure(hPa)",
          "AirPressure(hPa)",
          "AirPressure(hPa)",
          "AirPressure(hPa)",
          "AirPressure(hPa)",
          "AirPressure(hPa)",
          "AirPressure(hPa)",
          "AirPressure(hPa)",
          "AirPressure(hPa)",
          "AirPressure(hPa)",
          "AirPressure(hPa)",
          "AirPressure(hPa)",
          "AirPressure(hPa)",
          "AirPressure(hPa)",
          "AirPressure(hPa)",
          "AirPressure(hPa)",
          "AirPressure(hPa)",
          "AirPressure(hPa)",
          "AirPressure(hPa)",
          "AirPressure(hPa)",
          "AirPressure(hPa)",
          "AirPressure(hPa)",
          "AirPressure(hPa)",
          "AirPressure(hPa)",
          "AirPressure(hPa)",
          "AirPressure(hPa)",
          "AirPressure(hPa)",
          "AirPressure(hPa)",
          "AirPressure(hPa)",
          "AirPressure(hPa)",
          "AirPressure(hPa)",
          "AirPressure(hPa)",
          "AirPressure(hPa)",
          "AirPressure(hPa)",
          "AirPressure(hPa)",
          "AirPressure(hPa)",
          "AirPressure(hPa)",
          "AirPressure(hPa)",
          "AirPressure(hPa)",
          "AirPressure(hPa)",
          "AirPressure(hPa)",
          "AirPressure(hPa)",
          "AirPressure(hPa)",
          "AirPressure(hPa)",
          "AirPressure(hPa)",
          "AirPressure(hPa)",
          "AirPressure(hPa)",
          "AirPressure(hPa)",
          "AirPressure(hPa)",
          "AirPressure(hPa)",
          "AirPressure(hPa)",
          "AirPressure(hPa)",
          "AirPressure(hPa)",
          "AirPressure(hPa)",
          "AirPressure(hPa)",
          "AirPressure(hPa)",
          "AirPressure(hPa)",
          "AirPressure(hPa)",
          "AirPressure(hPa)",
          "AirPressure(hPa)",
          "AirPressure(hPa)",
          "AirPressure(hPa)",
          "AirPressure(hPa)",
          "AirPressure(hPa)",
          "AirPressure(hPa)",
          "AirPressure(hPa)",
          "AirPressure(hPa)",
          "AirPressure(hPa)",
          "AirPressure(hPa)",
          "AirPressure(hPa)",
          "AirPressure(hPa)",
          "AirPressure(hPa)",
          "AirPressure(hPa)",
          "AirPressure(hPa)",
          "AirPressure(hPa)",
          "AirPressure(hPa)",
          "AirPressure(hPa)",
          "AirPressure(hPa)",
          "AirPressure(hPa)",
          "AirPressure(hPa)",
          "AirPressure(hPa)",
          "AirPressure(hPa)",
          "AirPressure(hPa)",
          "AirPressure(hPa)",
          "AirPressure(hPa)",
          "AirPressure(hPa)",
          "AirPressure(hPa)",
          "AirPressure(hPa)",
          "AirPressure(hPa)",
          "AirPressure(hPa)",
          "AirPressure(hPa)",
          "AirPressure(hPa)",
          "AirPressure(hPa)",
          "AirPressure(hPa)",
          "AirPressure(hPa)",
          "AirPressure(hPa)",
          "AirPressure(hPa)",
          "AirPressure(hPa)",
          "AirPressure(hPa)",
          "AirPressure(hPa)",
          "AirPressure(hPa)",
          "AirPressure(hPa)",
          "AirPressure(hPa)",
          "AirPressure(hPa)",
          "AirPressure(hPa)",
          "AirPressure(hPa)",
          "AirPressure(hPa)",
          "AirPressure(hPa)",
          "AirPressure(hPa)",
          "AirPressure(hPa)",
          "AirPressure(hPa)",
          "AirPressure(hPa)",
          "AirPressure(hPa)",
          "AirPressure(hPa)",
          "AirPressure(hPa)",
          "AirPressure(hPa)",
          "AirPressure(hPa)",
          "AirPressure(hPa)",
          "AirPressure(hPa)",
          "AirPressure(hPa)",
          "AirPressure(hPa)",
          "AirPressure(hPa)",
          "AirPressure(hPa)",
          "AirPressure(hPa)",
          "AirPressure(hPa)",
          "AirPressure(hPa)",
          "AirPressure(hPa)",
          "AirPressure(hPa)",
          "AirPressure(hPa)",
          "AirPressure(hPa)",
          "AirPressure(hPa)",
          "AirPressure(hPa)",
          "AirPressure(hPa)",
          "AirPressure(hPa)",
          "AirPressure(hPa)",
          "AirPressure(hPa)",
          "AirPressure(hPa)",
          "AirPressure(hPa)",
          "AirPressure(hPa)",
          "AirPressure(hPa)",
          "AirPressure(hPa)",
          "AirPressure(hPa)",
          "AirPressure(hPa)",
          "AirPressure(hPa)",
          "AirPressure(hPa)",
          "AirPressure(hPa)",
          "AirPressure(hPa)",
          "AirPressure(hPa)",
          "AirPressure(hPa)",
          "AirPressure(hPa)",
          "AirPressure(hPa)",
          "AirPressure(hPa)",
          "AirPressure(hPa)",
          "AirPressure(hPa)",
          "AirPressure(hPa)",
          "AirPressure(hPa)",
          "AirPressure(hPa)",
          "AirPressure(hPa)",
          "AirPressure(hPa)",
          "AirPressure(hPa)",
          "AirPressure(hPa)",
          "AirPressure(hPa)",
          "AirPressure(hPa)",
          "AirPressure(hPa)",
          "AirPressure(hPa)",
          "AirPressure(hPa)",
          "AirPressure(hPa)",
          "AirPressure(hPa)",
          "AirPressure(hPa)",
          "AirPressure(hPa)",
          "AirPressure(hPa)",
          "AirPressure(hPa)",
          "AirPressure(hPa)",
          "AirPressure(hPa)",
          "AirPressure(hPa)",
          "AirPressure(hPa)",
          "AirPressure(hPa)",
          "AirPressure(hPa)",
          "AirPressure(hPa)",
          "AirPressure(hPa)",
          "AirPressure(hPa)",
          "AirPressure(hPa)",
          "AirPressure(hPa)",
          "AirPressure(hPa)",
          "AirPressure(hPa)",
          "AirPressure(hPa)",
          "AirPressure(hPa)",
          "AirPressure(hPa)",
          "AirPressure(hPa)",
          "AirPressure(hPa)",
          "AirPressure(hPa)",
          "AirPressure(hPa)",
          "AirPressure(hPa)",
          "AirPressure(hPa)",
          "AirPressure(hPa)",
          "AirPressure(hPa)",
          "AirPressure(hPa)",
          "AirPressure(hPa)",
          "AirPressure(hPa)",
          "AirPressure(hPa)",
          "AirPressure(hPa)",
          "AirPressure(hPa)",
          "AirPressure(hPa)",
          "AirPressure(hPa)",
          "AirPressure(hPa)",
          "AirPressure(hPa)",
          "AirPressure(hPa)",
          "AirPressure(hPa)",
          "AirPressure(hPa)",
          "AirPressure(hPa)",
          "AirPressure(hPa)",
          "AirPressure(hPa)",
          "AirPressure(hPa)",
          "AirPressure(hPa)",
          "AirPressure(hPa)",
          "AirPressure(hPa)",
          "AirPressure(hPa)",
          "AirPressure(hPa)",
          "AirPressure(hPa)",
          "AirPressure(hPa)",
          "AirPressure(hPa)",
          "AirPressure(hPa)",
          "AirPressure(hPa)",
          "AirPressure(hPa)",
          "AirPressure(hPa)",
          "AirPressure(hPa)",
          "AirPressure(hPa)",
          "AirPressure(hPa)",
          "AirPressure(hPa)",
          "AirPressure(hPa)",
          "AirPressure(hPa)",
          "AirPressure(hPa)",
          "AirPressure(hPa)",
          "AirPressure(hPa)",
          "AirPressure(hPa)",
          "AirPressure(hPa)",
          "AirPressure(hPa)",
          "AirPressure(hPa)",
          "AirPressure(hPa)",
          "AirPressure(hPa)",
          "AirPressure(hPa)",
          "AirPressure(hPa)",
          "AirPressure(hPa)",
          "AirPressure(hPa)",
          "AirPressure(hPa)",
          "AirPressure(hPa)",
          "AirPressure(hPa)",
          "AirPressure(hPa)",
          "AirPressure(hPa)",
          "AirPressure(hPa)",
          "AirPressure(hPa)",
          "AirPressure(hPa)",
          "AirPressure(hPa)",
          "AirPressure(hPa)",
          "AirPressure(hPa)",
          "AirPressure(hPa)",
          "AirPressure(hPa)",
          "AirPressure(hPa)",
          "AirPressure(hPa)",
          "AirPressure(hPa)",
          "AirPressure(hPa)",
          "AirPressure(hPa)",
          "AirPressure(hPa)",
          "AirPressure(hPa)",
          "AirPressure(hPa)",
          "AirPressure(hPa)",
          "AirPressure(hPa)",
          "AirPressure(hPa)",
          "AirPressure(hPa)",
          "AirPressure(hPa)",
          "AirPressure(hPa)",
          "AirPressure(hPa)",
          "AirPressure(hPa)",
          "AirPressure(hPa)",
          "AirPressure(hPa)",
          "AirPressure(hPa)",
          "AirPressure(hPa)",
          "AirPressure(hPa)",
          "AirPressure(hPa)",
          "AirPressure(hPa)",
          "AirPressure(hPa)",
          "AirPressure(hPa)",
          "AirPressure(hPa)",
          "AirPressure(hPa)",
          "AirPressure(hPa)",
          "AirPressure(hPa)",
          "AirPressure(hPa)",
          "AirPressure(hPa)"
         ],
         "x0": " ",
         "xaxis": "x",
         "y": [
          943.91,
          931.44,
          935,
          948,
          925.79,
          957.08,
          940.5,
          929.45,
          954.26,
          940.5,
          929.16,
          938.06,
          930.83,
          937.48,
          933,
          951.79,
          979.57,
          964.15,
          954.72,
          978.8,
          962.55,
          947.58,
          969.53,
          953.11,
          959.05,
          951,
          890.67,
          893.14,
          904.75,
          880.23,
          909.78,
          892.54,
          878.5,
          915.7,
          903.79,
          886.99,
          896.83,
          882,
          889.43,
          889,
          null,
          914.08,
          921.25,
          908.09,
          898.5,
          930.4,
          920.58,
          894.04,
          920.58,
          903,
          null,
          923.2,
          905,
          911,
          896,
          896.47,
          878.29,
          919.46,
          900.41,
          872.52,
          902.12,
          881.48,
          901,
          873,
          886.03,
          900,
          884.8,
          901.04,
          889.7,
          878.93,
          911.12,
          894.04,
          875.49,
          899.26,
          884.73,
          894,
          879,
          null,
          null,
          null,
          null,
          973.9,
          956.64,
          956.67,
          984.47,
          970.26,
          952.84,
          975.52,
          959,
          967,
          939,
          714.52,
          702.56,
          711.85,
          706.1,
          717.84,
          692.8,
          null,
          null,
          871.38,
          null,
          860.46,
          885.32,
          null,
          858.44,
          887.02,
          871.51,
          859.01,
          869.04,
          859.26,
          867.79,
          861,
          977.84,
          967.16,
          959.94,
          976.63,
          947.96,
          984.28,
          965.5,
          951.73,
          989.5,
          978.46,
          961.57,
          970.02,
          958.25,
          962.01,
          847.66,
          857.75,
          864.18,
          847.83,
          866.43,
          null,
          842.85,
          872.33,
          855.01,
          840.17,
          856.75,
          842.82,
          852.98,
          845,
          null,
          938.31,
          null,
          931.56,
          922.03,
          null,
          947.84,
          918.71,
          948.62,
          929.17,
          933.81,
          920,
          980.18,
          992.51,
          974.43,
          997.34,
          979.68,
          969.94,
          999.89,
          986.69,
          964.11,
          992.03,
          973.13,
          979,
          965,
          889.6,
          900.7,
          927.09,
          903.85,
          911.46,
          897.14,
          896.91,
          922.21,
          907,
          889,
          910,
          895,
          903,
          879,
          797.9,
          null,
          null,
          802.01,
          791.81,
          779.18,
          810.66,
          792.75,
          778.37,
          793.57,
          778.68,
          794.04,
          780.1,
          null,
          968.57,
          955.91,
          956.36,
          949.5,
          929.83,
          974.5,
          956.63,
          923.31,
          955.87,
          933.18,
          952.68,
          932,
          945.25,
          952.73,
          975.84,
          958.21,
          959.54,
          959.18,
          941.03,
          976.94,
          957.75,
          938.4,
          961.46,
          944.09,
          958,
          925,
          773.19,
          787.14,
          777.26,
          786.59,
          null,
          null,
          977.85,
          993.3,
          null,
          980.53,
          null,
          null,
          998.83,
          980.65,
          946.17,
          980.42,
          955.96,
          976.38,
          947,
          905,
          883.55,
          909.73,
          893.99,
          null,
          879.89,
          865.54,
          916.31,
          923.27,
          933.2,
          913.35,
          938.12,
          923.4,
          913.96,
          939.28,
          923.85,
          910.11,
          930.28,
          915.66,
          923.74,
          916,
          881.33,
          null,
          911.64,
          896.72,
          898.15,
          898.32,
          null,
          914.67,
          894.29,
          878.45,
          896.48,
          883.11,
          897,
          865,
          910.51,
          933.86,
          917.63,
          906.94,
          916.58,
          907.17,
          915.63,
          911,
          null,
          918.42,
          927.66,
          914.35,
          920.39,
          922,
          930.55,
          941.49,
          953.47,
          938.97,
          941.67,
          935.03,
          915.62
         ],
         "y0": " ",
         "yaxis": "y"
        },
        {
         "marker": {
          "color": "red",
          "size": 8,
          "symbol": "circle-dot"
         },
         "mode": "markers",
         "name": "Selected Value \nAirPressure(hPa)",
         "type": "scatter",
         "x": [
          "AirPressure(hPa)"
         ],
         "y": [
          891.4714285714286
         ]
        }
       ],
       "layout": {
        "boxmode": "group",
        "legend": {
         "tracegroupgap": 0
        },
        "margin": {
         "t": 60
        },
        "template": {
         "data": {
          "bar": [
           {
            "error_x": {
             "color": "#2a3f5f"
            },
            "error_y": {
             "color": "#2a3f5f"
            },
            "marker": {
             "line": {
              "color": "#E5ECF6",
              "width": 0.5
             },
             "pattern": {
              "fillmode": "overlay",
              "size": 10,
              "solidity": 0.2
             }
            },
            "type": "bar"
           }
          ],
          "barpolar": [
           {
            "marker": {
             "line": {
              "color": "#E5ECF6",
              "width": 0.5
             },
             "pattern": {
              "fillmode": "overlay",
              "size": 10,
              "solidity": 0.2
             }
            },
            "type": "barpolar"
           }
          ],
          "carpet": [
           {
            "aaxis": {
             "endlinecolor": "#2a3f5f",
             "gridcolor": "white",
             "linecolor": "white",
             "minorgridcolor": "white",
             "startlinecolor": "#2a3f5f"
            },
            "baxis": {
             "endlinecolor": "#2a3f5f",
             "gridcolor": "white",
             "linecolor": "white",
             "minorgridcolor": "white",
             "startlinecolor": "#2a3f5f"
            },
            "type": "carpet"
           }
          ],
          "choropleth": [
           {
            "colorbar": {
             "outlinewidth": 0,
             "ticks": ""
            },
            "type": "choropleth"
           }
          ],
          "contour": [
           {
            "colorbar": {
             "outlinewidth": 0,
             "ticks": ""
            },
            "colorscale": [
             [
              0,
              "#0d0887"
             ],
             [
              0.1111111111111111,
              "#46039f"
             ],
             [
              0.2222222222222222,
              "#7201a8"
             ],
             [
              0.3333333333333333,
              "#9c179e"
             ],
             [
              0.4444444444444444,
              "#bd3786"
             ],
             [
              0.5555555555555556,
              "#d8576b"
             ],
             [
              0.6666666666666666,
              "#ed7953"
             ],
             [
              0.7777777777777778,
              "#fb9f3a"
             ],
             [
              0.8888888888888888,
              "#fdca26"
             ],
             [
              1,
              "#f0f921"
             ]
            ],
            "type": "contour"
           }
          ],
          "contourcarpet": [
           {
            "colorbar": {
             "outlinewidth": 0,
             "ticks": ""
            },
            "type": "contourcarpet"
           }
          ],
          "heatmap": [
           {
            "colorbar": {
             "outlinewidth": 0,
             "ticks": ""
            },
            "colorscale": [
             [
              0,
              "#0d0887"
             ],
             [
              0.1111111111111111,
              "#46039f"
             ],
             [
              0.2222222222222222,
              "#7201a8"
             ],
             [
              0.3333333333333333,
              "#9c179e"
             ],
             [
              0.4444444444444444,
              "#bd3786"
             ],
             [
              0.5555555555555556,
              "#d8576b"
             ],
             [
              0.6666666666666666,
              "#ed7953"
             ],
             [
              0.7777777777777778,
              "#fb9f3a"
             ],
             [
              0.8888888888888888,
              "#fdca26"
             ],
             [
              1,
              "#f0f921"
             ]
            ],
            "type": "heatmap"
           }
          ],
          "heatmapgl": [
           {
            "colorbar": {
             "outlinewidth": 0,
             "ticks": ""
            },
            "colorscale": [
             [
              0,
              "#0d0887"
             ],
             [
              0.1111111111111111,
              "#46039f"
             ],
             [
              0.2222222222222222,
              "#7201a8"
             ],
             [
              0.3333333333333333,
              "#9c179e"
             ],
             [
              0.4444444444444444,
              "#bd3786"
             ],
             [
              0.5555555555555556,
              "#d8576b"
             ],
             [
              0.6666666666666666,
              "#ed7953"
             ],
             [
              0.7777777777777778,
              "#fb9f3a"
             ],
             [
              0.8888888888888888,
              "#fdca26"
             ],
             [
              1,
              "#f0f921"
             ]
            ],
            "type": "heatmapgl"
           }
          ],
          "histogram": [
           {
            "marker": {
             "pattern": {
              "fillmode": "overlay",
              "size": 10,
              "solidity": 0.2
             }
            },
            "type": "histogram"
           }
          ],
          "histogram2d": [
           {
            "colorbar": {
             "outlinewidth": 0,
             "ticks": ""
            },
            "colorscale": [
             [
              0,
              "#0d0887"
             ],
             [
              0.1111111111111111,
              "#46039f"
             ],
             [
              0.2222222222222222,
              "#7201a8"
             ],
             [
              0.3333333333333333,
              "#9c179e"
             ],
             [
              0.4444444444444444,
              "#bd3786"
             ],
             [
              0.5555555555555556,
              "#d8576b"
             ],
             [
              0.6666666666666666,
              "#ed7953"
             ],
             [
              0.7777777777777778,
              "#fb9f3a"
             ],
             [
              0.8888888888888888,
              "#fdca26"
             ],
             [
              1,
              "#f0f921"
             ]
            ],
            "type": "histogram2d"
           }
          ],
          "histogram2dcontour": [
           {
            "colorbar": {
             "outlinewidth": 0,
             "ticks": ""
            },
            "colorscale": [
             [
              0,
              "#0d0887"
             ],
             [
              0.1111111111111111,
              "#46039f"
             ],
             [
              0.2222222222222222,
              "#7201a8"
             ],
             [
              0.3333333333333333,
              "#9c179e"
             ],
             [
              0.4444444444444444,
              "#bd3786"
             ],
             [
              0.5555555555555556,
              "#d8576b"
             ],
             [
              0.6666666666666666,
              "#ed7953"
             ],
             [
              0.7777777777777778,
              "#fb9f3a"
             ],
             [
              0.8888888888888888,
              "#fdca26"
             ],
             [
              1,
              "#f0f921"
             ]
            ],
            "type": "histogram2dcontour"
           }
          ],
          "mesh3d": [
           {
            "colorbar": {
             "outlinewidth": 0,
             "ticks": ""
            },
            "type": "mesh3d"
           }
          ],
          "parcoords": [
           {
            "line": {
             "colorbar": {
              "outlinewidth": 0,
              "ticks": ""
             }
            },
            "type": "parcoords"
           }
          ],
          "pie": [
           {
            "automargin": true,
            "type": "pie"
           }
          ],
          "scatter": [
           {
            "fillpattern": {
             "fillmode": "overlay",
             "size": 10,
             "solidity": 0.2
            },
            "type": "scatter"
           }
          ],
          "scatter3d": [
           {
            "line": {
             "colorbar": {
              "outlinewidth": 0,
              "ticks": ""
             }
            },
            "marker": {
             "colorbar": {
              "outlinewidth": 0,
              "ticks": ""
             }
            },
            "type": "scatter3d"
           }
          ],
          "scattercarpet": [
           {
            "marker": {
             "colorbar": {
              "outlinewidth": 0,
              "ticks": ""
             }
            },
            "type": "scattercarpet"
           }
          ],
          "scattergeo": [
           {
            "marker": {
             "colorbar": {
              "outlinewidth": 0,
              "ticks": ""
             }
            },
            "type": "scattergeo"
           }
          ],
          "scattergl": [
           {
            "marker": {
             "colorbar": {
              "outlinewidth": 0,
              "ticks": ""
             }
            },
            "type": "scattergl"
           }
          ],
          "scattermapbox": [
           {
            "marker": {
             "colorbar": {
              "outlinewidth": 0,
              "ticks": ""
             }
            },
            "type": "scattermapbox"
           }
          ],
          "scatterpolar": [
           {
            "marker": {
             "colorbar": {
              "outlinewidth": 0,
              "ticks": ""
             }
            },
            "type": "scatterpolar"
           }
          ],
          "scatterpolargl": [
           {
            "marker": {
             "colorbar": {
              "outlinewidth": 0,
              "ticks": ""
             }
            },
            "type": "scatterpolargl"
           }
          ],
          "scatterternary": [
           {
            "marker": {
             "colorbar": {
              "outlinewidth": 0,
              "ticks": ""
             }
            },
            "type": "scatterternary"
           }
          ],
          "surface": [
           {
            "colorbar": {
             "outlinewidth": 0,
             "ticks": ""
            },
            "colorscale": [
             [
              0,
              "#0d0887"
             ],
             [
              0.1111111111111111,
              "#46039f"
             ],
             [
              0.2222222222222222,
              "#7201a8"
             ],
             [
              0.3333333333333333,
              "#9c179e"
             ],
             [
              0.4444444444444444,
              "#bd3786"
             ],
             [
              0.5555555555555556,
              "#d8576b"
             ],
             [
              0.6666666666666666,
              "#ed7953"
             ],
             [
              0.7777777777777778,
              "#fb9f3a"
             ],
             [
              0.8888888888888888,
              "#fdca26"
             ],
             [
              1,
              "#f0f921"
             ]
            ],
            "type": "surface"
           }
          ],
          "table": [
           {
            "cells": {
             "fill": {
              "color": "#EBF0F8"
             },
             "line": {
              "color": "white"
             }
            },
            "header": {
             "fill": {
              "color": "#C8D4E3"
             },
             "line": {
              "color": "white"
             }
            },
            "type": "table"
           }
          ]
         },
         "layout": {
          "annotationdefaults": {
           "arrowcolor": "#2a3f5f",
           "arrowhead": 0,
           "arrowwidth": 1
          },
          "autotypenumbers": "strict",
          "coloraxis": {
           "colorbar": {
            "outlinewidth": 0,
            "ticks": ""
           }
          },
          "colorscale": {
           "diverging": [
            [
             0,
             "#8e0152"
            ],
            [
             0.1,
             "#c51b7d"
            ],
            [
             0.2,
             "#de77ae"
            ],
            [
             0.3,
             "#f1b6da"
            ],
            [
             0.4,
             "#fde0ef"
            ],
            [
             0.5,
             "#f7f7f7"
            ],
            [
             0.6,
             "#e6f5d0"
            ],
            [
             0.7,
             "#b8e186"
            ],
            [
             0.8,
             "#7fbc41"
            ],
            [
             0.9,
             "#4d9221"
            ],
            [
             1,
             "#276419"
            ]
           ],
           "sequential": [
            [
             0,
             "#0d0887"
            ],
            [
             0.1111111111111111,
             "#46039f"
            ],
            [
             0.2222222222222222,
             "#7201a8"
            ],
            [
             0.3333333333333333,
             "#9c179e"
            ],
            [
             0.4444444444444444,
             "#bd3786"
            ],
            [
             0.5555555555555556,
             "#d8576b"
            ],
            [
             0.6666666666666666,
             "#ed7953"
            ],
            [
             0.7777777777777778,
             "#fb9f3a"
            ],
            [
             0.8888888888888888,
             "#fdca26"
            ],
            [
             1,
             "#f0f921"
            ]
           ],
           "sequentialminus": [
            [
             0,
             "#0d0887"
            ],
            [
             0.1111111111111111,
             "#46039f"
            ],
            [
             0.2222222222222222,
             "#7201a8"
            ],
            [
             0.3333333333333333,
             "#9c179e"
            ],
            [
             0.4444444444444444,
             "#bd3786"
            ],
            [
             0.5555555555555556,
             "#d8576b"
            ],
            [
             0.6666666666666666,
             "#ed7953"
            ],
            [
             0.7777777777777778,
             "#fb9f3a"
            ],
            [
             0.8888888888888888,
             "#fdca26"
            ],
            [
             1,
             "#f0f921"
            ]
           ]
          },
          "colorway": [
           "#636efa",
           "#EF553B",
           "#00cc96",
           "#ab63fa",
           "#FFA15A",
           "#19d3f3",
           "#FF6692",
           "#B6E880",
           "#FF97FF",
           "#FECB52"
          ],
          "font": {
           "color": "#2a3f5f"
          },
          "geo": {
           "bgcolor": "white",
           "lakecolor": "white",
           "landcolor": "#E5ECF6",
           "showlakes": true,
           "showland": true,
           "subunitcolor": "white"
          },
          "hoverlabel": {
           "align": "left"
          },
          "hovermode": "closest",
          "mapbox": {
           "style": "light"
          },
          "paper_bgcolor": "white",
          "plot_bgcolor": "#E5ECF6",
          "polar": {
           "angularaxis": {
            "gridcolor": "white",
            "linecolor": "white",
            "ticks": ""
           },
           "bgcolor": "#E5ECF6",
           "radialaxis": {
            "gridcolor": "white",
            "linecolor": "white",
            "ticks": ""
           }
          },
          "scene": {
           "xaxis": {
            "backgroundcolor": "#E5ECF6",
            "gridcolor": "white",
            "gridwidth": 2,
            "linecolor": "white",
            "showbackground": true,
            "ticks": "",
            "zerolinecolor": "white"
           },
           "yaxis": {
            "backgroundcolor": "#E5ECF6",
            "gridcolor": "white",
            "gridwidth": 2,
            "linecolor": "white",
            "showbackground": true,
            "ticks": "",
            "zerolinecolor": "white"
           },
           "zaxis": {
            "backgroundcolor": "#E5ECF6",
            "gridcolor": "white",
            "gridwidth": 2,
            "linecolor": "white",
            "showbackground": true,
            "ticks": "",
            "zerolinecolor": "white"
           }
          },
          "shapedefaults": {
           "line": {
            "color": "#2a3f5f"
           }
          },
          "ternary": {
           "aaxis": {
            "gridcolor": "white",
            "linecolor": "white",
            "ticks": ""
           },
           "baxis": {
            "gridcolor": "white",
            "linecolor": "white",
            "ticks": ""
           },
           "bgcolor": "#E5ECF6",
           "caxis": {
            "gridcolor": "white",
            "linecolor": "white",
            "ticks": ""
           }
          },
          "title": {
           "x": 0.05
          },
          "xaxis": {
           "automargin": true,
           "gridcolor": "white",
           "linecolor": "white",
           "ticks": "",
           "title": {
            "standoff": 15
           },
           "zerolinecolor": "white",
           "zerolinewidth": 2
          },
          "yaxis": {
           "automargin": true,
           "gridcolor": "white",
           "linecolor": "white",
           "ticks": "",
           "title": {
            "standoff": 15
           },
           "zerolinecolor": "white",
           "zerolinewidth": 2
          }
         }
        },
        "title": {
         "text": "Boxplot for AirPressure(hPa)"
        },
        "xaxis": {
         "anchor": "y",
         "domain": [
          0,
          1
         ],
         "title": {
          "text": ""
         }
        },
        "yaxis": {
         "anchor": "x",
         "domain": [
          0,
          1
         ],
         "title": {
          "text": ""
         }
        }
       }
      }
     },
     "metadata": {},
     "output_type": "display_data"
    }
   ],
   "source": [
    "report(\"Promice\", \"2022-01-12\", \"THU_L_day_v03\", variable = \"AirPressure(hPa)\", scope = \"relative\")"
   ]
  },
  {
   "cell_type": "markdown",
   "metadata": {
    "id": "cLqu3qB_6MQ0"
   },
   "source": [
    "GC Net Data"
   ]
  },
  {
   "cell_type": "code",
   "execution_count": null,
   "metadata": {
    "id": "2fukMbLF5FSk"
   },
   "outputs": [],
   "source": [
    "gc = pd.read_parquet('data\\df_daily.gzip', engine='pyarrow')"
   ]
  },
  {
   "cell_type": "code",
   "execution_count": null,
   "metadata": {
    "colab": {
     "base_uri": "https://localhost:8080/"
    },
    "id": "jxF98U06Pr1K",
    "outputId": "d65d82bc-1300-4d26-d453-8ae01ea6a729"
   },
   "outputs": [],
   "source": [
    "gc.columns"
   ]
  },
  {
   "cell_type": "markdown",
   "metadata": {
    "id": "OPzKcUQf-D8A"
   },
   "source": [
    "*Test on one station*"
   ]
  },
  {
   "cell_type": "code",
   "execution_count": null,
   "metadata": {
    "id": "b43DzmSi5XuP"
   },
   "outputs": [],
   "source": [
    "gc = gc[gc['station_name'] == \"Humboldt\"] "
   ]
  },
  {
   "cell_type": "markdown",
   "metadata": {
    "id": "Zyy-tj5MR42i"
   },
   "source": [
    "Promice Data"
   ]
  },
  {
   "cell_type": "code",
   "execution_count": null,
   "metadata": {
    "id": "WX5FjdtC9_6o"
   },
   "outputs": [],
   "source": [
    "pc = pd.read_parquet('data\\promice_hourly.gzip', engine='pyarrow')"
   ]
  },
  {
   "cell_type": "code",
   "execution_count": null,
   "metadata": {
    "colab": {
     "base_uri": "https://localhost:8080/",
     "height": 835
    },
    "id": "cSviVwGoTdRw",
    "outputId": "5c30dbcc-5116-4b8a-f4c2-1a4fe452765b"
   },
   "outputs": [],
   "source": [
    "pc"
   ]
  },
  {
   "cell_type": "markdown",
   "metadata": {
    "id": "EgMPhvzQ-Jn-"
   },
   "source": [
    "*Test Suite*"
   ]
  },
  {
   "cell_type": "code",
   "execution_count": null,
   "metadata": {
    "id": "7QCsyeJ2Kjtz"
   },
   "outputs": [],
   "source": [
    "# define variables\n",
    "\n",
    "# *Mandatory: Data\n",
    "data = \"Promice\"\n",
    "\n",
    "# *Mandatory: Date\n",
    "date = \"22-07-2008\"\n",
    "\n",
    "# Optional: Station\n",
    "#station = \"SCO_L_hour_v03\"\n",
    "station = \"THU_L_day_v03\"\n",
    "\n",
    "# Optional: Measure\n",
    "y = \"All\""
   ]
  },
  {
   "cell_type": "code",
   "execution_count": null,
   "metadata": {
    "id": "8JqXn1dJ_q06"
   },
   "outputs": [],
   "source": [
    "# subset dataframe \n",
    "pc = pc[pc['file'] == station] "
   ]
  },
  {
   "cell_type": "code",
   "execution_count": null,
   "metadata": {
    "colab": {
     "base_uri": "https://localhost:8080/"
    },
    "id": "aT8guAQZBSWB",
    "outputId": "ca3ab4a8-faa9-404c-b2fe-221bfac7ff74"
   },
   "outputs": [],
   "source": [
    "# select dato \n",
    "year= 2022\n",
    "month = 1\n",
    "day = 12\n",
    "\n",
    "# subset df with date and find day of year and day variable\n",
    "date_df = pc.loc[(pc['Datetime'].dt.year == year) & (pc['Datetime'].dt.month == month) & (pc['Datetime'].dt.day == day)]\n",
    "  # select day of year\n",
    "day =  date_df[\"DayOfYear\"].mean()\n",
    "datetime = date_df[\"Datetime\"].max()\n",
    "\n",
    "# select the specific day of century and the related values\n",
    "day_century = date_df[\"DayOfCentury\"].mean() \n",
    "day_century_value = pd.DataFrame(pd.DataFrame.mean(date_df)).reset_index()\n",
    "day_century_value = pd.pivot_table(day_century_value, index=None, columns=['index'], aggfunc=max)\n",
    "\n",
    "# group by calender day\n",
    "pc_group = pc.loc[pc['DayOfYear'] == day]"
   ]
  },
  {
   "cell_type": "code",
   "execution_count": null,
   "metadata": {
    "id": "iRiwe8ApUBQg"
   },
   "outputs": [],
   "source": [
    "def get_percentile(df, date):\n",
    "  \"\"\"\n",
    "  Function to return the percentile of specified values given a selected date.\n",
    "  \n",
    "  Parameters:\n",
    "  df (pd.DataFrame): The dataframe to be used.\n",
    "  date (str): The date of the observations for which the percentile is calculated.\n",
    "  \n",
    "  Returns:\n",
    "  df (pd.DataFrame): A dataframe with all numerical columns and the percentiles of the values of the selected date.\n",
    "  \"\"\"\n",
    "\n",
    "  # Find the index with the specified date\n",
    "  row_index = int(df[df['Datetime'] == date].index[0])\n",
    "  \n",
    "  # Remove columns that do not contain numerical values & Subset df based on measure selection\n",
    "  if y == \"All\":\n",
    "    df = df.select_dtypes(include=['int', 'float']).copy()\n",
    "  else:\n",
    "    df = pd.DataFrame(df[y])\n",
    "    df = df.select_dtypes(include=['int', 'float']).copy()\n",
    "  \n",
    "  # Create an empty dictionary for the output\n",
    "  percentile_dict = {}\n",
    "  \n",
    "  # Iterate through the columns\n",
    "  for col in df.columns:\n",
    "    # Find the percentile of the value in the specified row and date\n",
    "    value = df[col][row_index]\n",
    "    if(math.isnan(value)): \n",
    "      percentile = math.nan\n",
    "    else: \n",
    "      # calculate the percentile with df.rank()\n",
    "      percentile = df[col].rank(pct=True)[df[col] == value].iloc[0]*100\n",
    "    \n",
    "    # Add the percentile to the dictionary\n",
    "    #percentile_dict[col + \"_percentile\"] = percentile\n",
    "    percentile_dict[col] = percentile\n",
    "  \n",
    "  \n",
    "  # Create a dataframe with the output\n",
    "  df_percentiles = pd.DataFrame(percentile_dict, index=[0])\n",
    "  return df_percentiles"
   ]
  },
  {
   "cell_type": "code",
   "execution_count": null,
   "metadata": {
    "id": "kDyUE1f3e0VI"
   },
   "outputs": [],
   "source": [
    "x = get_percentile(pc, \"2022-01-12\")"
   ]
  },
  {
   "cell_type": "code",
   "execution_count": null,
   "metadata": {
    "id": "XuiTvk_qXU0x"
   },
   "outputs": [],
   "source": [
    "#x = x.append(day_century_value.iloc[0], ignore_index=True)"
   ]
  },
  {
   "cell_type": "code",
   "execution_count": null,
   "metadata": {
    "id": "eXCUB3RtC1og"
   },
   "outputs": [],
   "source": [
    "x = get_percentile(pc_group, \"2022-01-12\")"
   ]
  },
  {
   "cell_type": "code",
   "execution_count": 399,
   "metadata": {
    "id": "MdluROhkTwey"
   },
   "outputs": [
    {
     "ename": "ModuleNotFoundError",
     "evalue": "No module named 'prettytable'",
     "output_type": "error",
     "traceback": [
      "\u001b[1;31m---------------------------------------------------------------------------\u001b[0m",
      "\u001b[1;31mModuleNotFoundError\u001b[0m                       Traceback (most recent call last)",
      "\u001b[1;32m~\\AppData\\Local\\Temp\\4\\ipykernel_16660\\2614715152.py\u001b[0m in \u001b[0;36m<module>\u001b[1;34m\u001b[0m\n\u001b[1;32m----> 1\u001b[1;33m \u001b[1;32mimport\u001b[0m \u001b[0mprettytable\u001b[0m \u001b[1;32mas\u001b[0m \u001b[0mpt\u001b[0m\u001b[1;33m\u001b[0m\u001b[1;33m\u001b[0m\u001b[0m\n\u001b[0m\u001b[0;32m      2\u001b[0m \u001b[1;33m\u001b[0m\u001b[0m\n\u001b[0;32m      3\u001b[0m \u001b[0mtable\u001b[0m \u001b[1;33m=\u001b[0m \u001b[0mpt\u001b[0m\u001b[1;33m.\u001b[0m\u001b[0mPrettyTable\u001b[0m\u001b[1;33m(\u001b[0m\u001b[1;33m)\u001b[0m\u001b[1;33m\u001b[0m\u001b[1;33m\u001b[0m\u001b[0m\n\u001b[0;32m      4\u001b[0m \u001b[0mtable\u001b[0m\u001b[1;33m.\u001b[0m\u001b[0mfield_names\u001b[0m \u001b[1;33m=\u001b[0m \u001b[1;33m[\u001b[0m\u001b[1;34m\"Measurement\"\u001b[0m\u001b[1;33m,\u001b[0m \u001b[1;34m\"Percentile\"\u001b[0m\u001b[1;33m]\u001b[0m\u001b[1;33m\u001b[0m\u001b[1;33m\u001b[0m\u001b[0m\n\u001b[0;32m      5\u001b[0m \u001b[1;33m\u001b[0m\u001b[0m\n",
      "\u001b[1;31mModuleNotFoundError\u001b[0m: No module named 'prettytable'"
     ]
    }
   ],
   "source": [
    "import prettytable as pt\n",
    "\n",
    "table = pt.PrettyTable()\n",
    "table.field_names = [\"Measurement\", \"Percentile\"]\n",
    "\n",
    "for col in x.columns:\n",
    "    if x[col].values > 90 or x[col].values < 10:\n",
    "        table.add_row([f\"\\033[1m{col}\\033[0m\", f\"\\033[1m{int(x[col].values) if not np.isnan(x[col].values) else 'NaN'}% \\033[0m\"])\n",
    "    else:\n",
    "        table.add_row([col, f\"{int(x[col].values) if not np.isnan(x[col].values) else 'NaN'}%\"])\n",
    "\n",
    "\n",
    "print(\n",
    "f\" Date: {date} \\n\" ,\n",
    "f\"Station: {station} \\n\" , \n",
    "f\"Measurment: {y} \\n\"  , \n",
    "f\"Data: {data} \\n\" ,\n",
    "\"-----------------------------------------------------------\\n\",\n",
    "f\"                   Climatology \\n\" \n",
    ")\n",
    "\n",
    "print(table)"
   ]
  },
  {
   "cell_type": "markdown",
   "metadata": {
    "id": "WSL_YvCzM5WH"
   },
   "source": [
    "*Visual test suite*"
   ]
  },
  {
   "cell_type": "code",
   "execution_count": null,
   "metadata": {
    "id": "GwVbdIWlQzB3"
   },
   "outputs": [],
   "source": [
    "############################ Boxplots #########################################\n",
    "ff = pc \n",
    "x = ff.loc[ff['Datetime'] == \"2022-01-12\"]\n",
    "\n",
    "import plotly.express as px\n",
    "\n",
    "# Create a list of columns to be plotted\n",
    "columns_to_plot = [col for col in x.columns.values if col in ff.columns.values]\n",
    "\n",
    "# Create a list of values from x to be highlighted\n",
    "values_to_highlight = x[columns_to_plot].values.flatten().tolist()\n",
    "\n",
    "# Create a list of subplots\n",
    "figs = []\n",
    "# Loop through list of columns\n",
    "for col, v in zip(columns_to_plot,values_to_highlight) : \n",
    "  # Create a subplot for each column \n",
    "  fig = px.box(ff[col], orientation = \"v\",boxmode='group')\n",
    "  # Format the axes\n",
    "  fig.update_layout(title_text= f\"Boxplot for {col}\", xaxis_title='', yaxis_title='')\n",
    "  # Highlight the values from x\n",
    "  fig.add_scatter(x=[col], y=[v], name= f\"Selected Value \\n{col}\",\n",
    "                        mode = 'markers',\n",
    "                        marker_symbol = 'circle-dot',\n",
    "                        marker_size = 8,\n",
    "                        marker_color = 'red')\n",
    "  \n",
    "  # Add figure to list of subplots \n",
    "  figs.append(fig)\n",
    "\n",
    "# Show the plots\n",
    "for fig in figs:\n",
    "  fig.show()"
   ]
  },
  {
   "cell_type": "code",
   "execution_count": null,
   "metadata": {
    "id": "SDnpp8IWP7et"
   },
   "outputs": [],
   "source": [
    "# A function that calculates the percentiles of every column and their values\n",
    "\n",
    "def percentile_df(df):\n",
    "    for col in (df.columns):\n",
    "        df[f'{col}_pcta'] = df[col].rank(pct=True)\n",
    "        #df[f'{col}_pcta'] = df[col].rank(pct=True)[df[col] == value] *100\n",
    "\n",
    "    return df"
   ]
  },
  {
   "cell_type": "code",
   "execution_count": null,
   "metadata": {
    "id": "cpaD_Cs8QGBN"
   },
   "outputs": [],
   "source": [
    "gg = percentile_df(pc)\n",
    "gg = gg[[\"Datetime\", \"AirTemperature(C)\", \"AirTemperature(C)_pcta\"]]\n",
    "y = \"AirTemperature(C)\"\n",
    "y_pcta = \"AirTemperature(C)_pcta\""
   ]
  },
  {
   "cell_type": "code",
   "execution_count": null,
   "metadata": {
    "colab": {
     "base_uri": "https://localhost:8080/",
     "height": 542
    },
    "id": "iKnFra5QoDVG",
    "outputId": "3a39e8ff-950a-4bd4-f520-ab000ec7d0b1"
   },
   "outputs": [],
   "source": [
    "fig = go.Figure([\n",
    "    go.Scatter(\n",
    "        name='Air Pressure (hPa)',\n",
    "        x=gg['Datetime'],\n",
    "        y=gg[y],\n",
    "        mode='lines',\n",
    "        line=dict(color='rgb(31, 119, 180)'),\n",
    "    ),\n",
    "    go.Scatter(\n",
    "        name='Upper Bound (20-80)',\n",
    "        x=gg['Datetime'],\n",
    "        y=(gg[y] * (gg[y_pcta])),\n",
    "        mode='lines',\n",
    "        marker=dict(color=\"#00BB00\"),\n",
    "        line=dict(width=0),\n",
    "        showlegend=False\n",
    "    ),\n",
    "    go.Scatter(\n",
    "        name='Lower Bound (20-80)',\n",
    "        x=gg['Datetime'],\n",
    "        y=(gg[y] * (gg[y_pcta])),\n",
    "        marker=dict(color=\"#00BB00\"),\n",
    "        line=dict(width=0),\n",
    "        mode='lines',\n",
    "        fillcolor='rgba(0, 187, 0, 0.3)',\n",
    "        fill='tonexty',\n",
    "        showlegend=False\n",
    "    ),\n",
    "    go.Scatter(\n",
    "        name='Upper Bound (0-20 & 80-100)',\n",
    "        x=gg['Datetime'],\n",
    "        y=(gg[y] * (gg[y_pcta]  )),\n",
    "        mode='lines',\n",
    "        marker=dict(color=\"#BB0000\"),\n",
    "        line=dict(width=0),\n",
    "        showlegend=False\n",
    "    ),\n",
    "    go.Scatter(\n",
    "        name='Lower Bound (0-20 & 80-100)',\n",
    "        x=gg['Datetime'],\n",
    "        y=(gg[y] * (gg[y_pcta] )),\n",
    "        marker=dict(color=\"#BB0000\"),\n",
    "        line=dict(width=0),\n",
    "        mode='lines',\n",
    "        fillcolor='rgba(187, 0, 0, 0.3)',\n",
    "        fill='tonexty',\n",
    "        showlegend=False\n",
    "    )\n",
    "])\n",
    "fig.update_layout(\n",
    "    yaxis_title='Air Pressure (hPa)',\n",
    "    title='Continuous, variable value error bars',\n",
    "    hovermode=\"x\"\n",
    ")\n",
    "fig.show()"
   ]
  },
  {
   "cell_type": "code",
   "execution_count": null,
   "metadata": {
    "id": "KcfAwtxhsaIx"
   },
   "outputs": [],
   "source": [
    "gg.loc[(gg['Datetime'].dt.month == 12) & (gg['Datetime'].dt.day == 31)]"
   ]
  }
 ],
 "metadata": {
  "colab": {
   "provenance": []
  },
  "kernelspec": {
   "display_name": "base",
   "language": "python",
   "name": "python3"
  },
  "language_info": {
   "codemirror_mode": {
    "name": "ipython",
    "version": 3
   },
   "file_extension": ".py",
   "mimetype": "text/x-python",
   "name": "python",
   "nbconvert_exporter": "python",
   "pygments_lexer": "ipython3",
   "version": "3.9.16"
  },
  "vscode": {
   "interpreter": {
    "hash": "809dd00cb0b4cf7cf034b21fe0b3828c1cd05894ca0015867f4d20f1f520ae9d"
   }
  }
 },
 "nbformat": 4,
 "nbformat_minor": 1
}
